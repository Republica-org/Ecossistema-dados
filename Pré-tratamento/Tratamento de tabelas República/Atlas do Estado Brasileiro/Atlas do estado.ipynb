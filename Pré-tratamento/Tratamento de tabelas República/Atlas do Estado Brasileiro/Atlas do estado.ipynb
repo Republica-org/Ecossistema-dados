{
 "cells": [
  {
   "cell_type": "code",
   "execution_count": 27,
   "metadata": {},
   "outputs": [],
   "source": [
    "## Inserindo dados do atlas no data lake\n",
    "\n",
    "import pandas as pd\n",
    "import time\n",
    "import os\n",
    "import pandas_gbq\n",
    "from google.cloud import bigquery\n",
    "import glob\n",
    "\n"
   ]
  },
  {
   "cell_type": "code",
   "execution_count": null,
   "metadata": {},
   "outputs": [],
   "source": [
    "# Todas as tabela do catálogo do atlas estão em csv, exceto: \n",
    "\n",
    "##SIAPE_ativos_economia_rural\n",
    "##SIAPE_civis_ativos_ministerio\n",
    "\n",
    "# Nessa pasta também será inserida no datalake a base da FLACSO\n",
    "\n",
    "##FLACSO_acoes_afirmativas.csv "
   ]
  },
  {
   "cell_type": "code",
   "execution_count": 2,
   "metadata": {},
   "outputs": [],
   "source": [
    "client = bigquery.Client()"
   ]
  },
  {
   "cell_type": "code",
   "execution_count": 3,
   "metadata": {},
   "outputs": [],
   "source": [
    "os.chdir('G:\\\\Drives compartilhados\\\\República.org\\\\4. Equipes\\\\Dados e Comunicação\\\\DADOS\\\\415 - Repositório de Dados\\\\Dados para subir\\\\Tabelas finais')"
   ]
  },
  {
   "cell_type": "code",
   "execution_count": 24,
   "metadata": {},
   "outputs": [
    {
     "data": {
      "text/plain": [
       "['IPEA_despesa_PIB_salarios_RPPS.csv',\n",
       " 'IPEA_despesa_salarios_geral.csv',\n",
       " 'IPEA_despesa_salarios_esfera.csv',\n",
       " 'IPEA_proporcao_receita_primaria.csv',\n",
       " 'IPEA_despesas_PIB_salarios_governo.csv',\n",
       " 'SIAPE_proporcao_carreira_grupos.csv',\n",
       " 'SIAPE_ativos_executivo_sexo_raca.csv',\n",
       " 'SIAPE_ativos_federal_raca_sexo_ingresso.csv',\n",
       " 'SIAPE_ativos_federal_raca_sexo_orgao_superior.csv',\n",
       " 'SIAPE_vinculos_das_sexo_raca.csv',\n",
       " 'FLACSO_acoes_afirmativas.csv',\n",
       " 'IPEA_crescimento_despesas_governo.csv',\n",
       " 'RAIS_remuneracao_poder_nivel_raca_sexo.csv',\n",
       " 'RAIS_vinculo_poder_nivel_raca_sexo.csv',\n",
       " 'SIAPE_remuneracao_liquida_executivo_raca_escolaridade.csv',\n",
       " 'SIAPE_proporcao_sexo_das.csv',\n",
       " 'SIAPE_ativos_infraestrutura.csv',\n",
       " 'SIAPE_ativos_federal_raca_sexo_escolaridade.csv',\n",
       " 'SIAPE_nomeados_das_servico_pulico.csv',\n",
       " 'SIAPE_ativos_social.csv',\n",
       " 'SIAPE_taxa_crescimento_das_nivel.csv',\n",
       " 'SIAPE_mulheres_das.csv',\n",
       " 'SIAPE_remuneracao_liquida_executivo_raca.csv',\n",
       " 'SIAPE_ativos_federal_raca_sexo_carreiras.csv',\n",
       " 'SIAPE_ativos_federal_raca_orgao_juridico.csv',\n",
       " 'SIAPE_das_hierarquico.csv',\n",
       " 'SIAPE_ativos_regulatoria.csv',\n",
       " 'SIAPE_remuneracao_liquida_executivo_sexo_raca.csv',\n",
       " 'SIAPE_funcoes_das_raca.csv',\n",
       " 'FLACSO_acoes_afirmativas.gsheet',\n",
       " 'SIAPE_ativos_federal_raca_sexo_escolaridade.gsheet',\n",
       " 'SIAPE_civis_ativos_ministerio.gsheet',\n",
       " 'Dicionário das variáveis recorrentes.gsheet',\n",
       " 'FLACSO_acoes_afirmativas (1).gsheet',\n",
       " 'FLACSO_acoes_afirmativas (2).gsheet',\n",
       " 'SIAPE_servidores_agrupamento_carreira.csv',\n",
       " 'Copy of FLACSO_acoes_afirmativas.gsheet',\n",
       " 'Copy of FLACSO_acoes_afirmativas (1).gsheet']"
      ]
     },
     "execution_count": 24,
     "metadata": {},
     "output_type": "execute_result"
    }
   ],
   "source": [
    "## Lista o que está no diretório\n",
    "# lista por padrão de nome\n",
    "os.listdir() "
   ]
  },
  {
   "cell_type": "code",
   "execution_count": 25,
   "metadata": {},
   "outputs": [
    {
     "data": {
      "text/plain": [
       "30"
      ]
     },
     "execution_count": 25,
     "metadata": {},
     "output_type": "execute_result"
    }
   ],
   "source": [
    "## Lista por tipo de arquivo\n",
    "\n",
    "len(glob.glob('*.csv'))"
   ]
  },
  {
   "cell_type": "code",
   "execution_count": 52,
   "metadata": {},
   "outputs": [],
   "source": [
    "df = pd.read_csv('FLACSO_acoes_afirmativas.csv', encoding='utf8', decimal=\",\")\n"
   ]
  },
  {
   "cell_type": "code",
   "execution_count": 53,
   "metadata": {},
   "outputs": [],
   "source": [
    "df.drop(['id','marker_id'], axis=1, inplace=True)"
   ]
  },
  {
   "cell_type": "code",
   "execution_count": 56,
   "metadata": {},
   "outputs": [
    {
     "data": {
      "text/html": [
       "<div>\n",
       "<style scoped>\n",
       "    .dataframe tbody tr th:only-of-type {\n",
       "        vertical-align: middle;\n",
       "    }\n",
       "\n",
       "    .dataframe tbody tr th {\n",
       "        vertical-align: top;\n",
       "    }\n",
       "\n",
       "    .dataframe thead th {\n",
       "        text-align: right;\n",
       "    }\n",
       "</style>\n",
       "<table border=\"1\" class=\"dataframe\">\n",
       "  <thead>\n",
       "    <tr style=\"text-align: right;\">\n",
       "      <th></th>\n",
       "      <th>abrangencia</th>\n",
       "      <th>nome_regiao</th>\n",
       "      <th>sigla_uf</th>\n",
       "      <th>cidade</th>\n",
       "      <th>legislacao</th>\n",
       "      <th>flag_regulamentacao</th>\n",
       "      <th>tipo_cota</th>\n",
       "      <th>comissionado</th>\n",
       "      <th>percentual</th>\n",
       "      <th>pub_alvo</th>\n",
       "      <th>forma_identificacao</th>\n",
       "      <th>comiss_ver</th>\n",
       "      <th>vigencia</th>\n",
       "      <th>lat</th>\n",
       "      <th>lng</th>\n",
       "    </tr>\n",
       "  </thead>\n",
       "  <tbody>\n",
       "    <tr>\n",
       "      <th>0</th>\n",
       "      <td>municipal</td>\n",
       "      <td>sul</td>\n",
       "      <td>RS</td>\n",
       "      <td>Bagé</td>\n",
       "      <td>Lei n.º 3.938, de 23.09.2002, reserva de 20% (...</td>\n",
       "      <td>NaN</td>\n",
       "      <td>Concurso público</td>\n",
       "      <td>0</td>\n",
       "      <td>20%</td>\n",
       "      <td>Afrodescendentes</td>\n",
       "      <td>não consta</td>\n",
       "      <td>0</td>\n",
       "      <td>vigente</td>\n",
       "      <td>-31.3301</td>\n",
       "      <td>-54.1005</td>\n",
       "    </tr>\n",
       "    <tr>\n",
       "      <th>1</th>\n",
       "      <td>municipal</td>\n",
       "      <td>sul</td>\n",
       "      <td>RS</td>\n",
       "      <td>Pelotas</td>\n",
       "      <td>Lei n.º 4.989, de 21.11.2003, dispõe sobre a r...</td>\n",
       "      <td>Decreto n° 6.211, de 27.09.19, institui o Regi...</td>\n",
       "      <td>Concurso público</td>\n",
       "      <td>0</td>\n",
       "      <td>20%</td>\n",
       "      <td>Afrodescendentes</td>\n",
       "      <td>Autodeclaração</td>\n",
       "      <td>1</td>\n",
       "      <td>vigente</td>\n",
       "      <td>-31.7654</td>\n",
       "      <td>-52.3376</td>\n",
       "    </tr>\n",
       "    <tr>\n",
       "      <th>2</th>\n",
       "      <td>municipal</td>\n",
       "      <td>sul</td>\n",
       "      <td>RS</td>\n",
       "      <td>Viamão</td>\n",
       "      <td>Lei n.º 3.210, de 23.01.2004, dispõe sobre a r...</td>\n",
       "      <td>NaN</td>\n",
       "      <td>Concurso público</td>\n",
       "      <td>0</td>\n",
       "      <td>44%</td>\n",
       "      <td>Afro-brasileiros</td>\n",
       "      <td>Autodeclaração</td>\n",
       "      <td>0</td>\n",
       "      <td>revogada</td>\n",
       "      <td>-30.0722</td>\n",
       "      <td>-51.097</td>\n",
       "    </tr>\n",
       "    <tr>\n",
       "      <th>3</th>\n",
       "      <td>municipal</td>\n",
       "      <td>nordeste</td>\n",
       "      <td>BA</td>\n",
       "      <td>Teixeira de Freitas</td>\n",
       "      <td>Lei n.º 815, de 18.11.2014, dispõe sobre o est...</td>\n",
       "      <td>NaN</td>\n",
       "      <td>Concurso público e estágio profissional</td>\n",
       "      <td>0</td>\n",
       "      <td>25%</td>\n",
       "      <td>Negros, negras e afrodescendentes</td>\n",
       "      <td>Autodeclaração</td>\n",
       "      <td>0</td>\n",
       "      <td>vigente</td>\n",
       "      <td>-17.54</td>\n",
       "      <td>-39.7422</td>\n",
       "    </tr>\n",
       "    <tr>\n",
       "      <th>4</th>\n",
       "      <td>municipal</td>\n",
       "      <td>nordeste</td>\n",
       "      <td>PB</td>\n",
       "      <td>Sapé</td>\n",
       "      <td>Lei n.º 1.178, de 15.10.2014, dispõe sobre o e...</td>\n",
       "      <td>NaN</td>\n",
       "      <td>Concurso público</td>\n",
       "      <td>0</td>\n",
       "      <td>20%</td>\n",
       "      <td>Negros, negras e afrodescendentes</td>\n",
       "      <td>autodeclaração</td>\n",
       "      <td>0</td>\n",
       "      <td>vigente</td>\n",
       "      <td>-7.09616</td>\n",
       "      <td>-35.2302</td>\n",
       "    </tr>\n",
       "    <tr>\n",
       "      <th>...</th>\n",
       "      <td>...</td>\n",
       "      <td>...</td>\n",
       "      <td>...</td>\n",
       "      <td>...</td>\n",
       "      <td>...</td>\n",
       "      <td>...</td>\n",
       "      <td>...</td>\n",
       "      <td>...</td>\n",
       "      <td>...</td>\n",
       "      <td>...</td>\n",
       "      <td>...</td>\n",
       "      <td>...</td>\n",
       "      <td>...</td>\n",
       "      <td>...</td>\n",
       "      <td>...</td>\n",
       "    </tr>\n",
       "    <tr>\n",
       "      <th>130</th>\n",
       "      <td>municipal</td>\n",
       "      <td>nordeste</td>\n",
       "      <td>CE</td>\n",
       "      <td>Jaguaribe</td>\n",
       "      <td>Lei n°1.422, de 26 de outubro de 2018, dispõe ...</td>\n",
       "      <td>NaN</td>\n",
       "      <td>Concurso público</td>\n",
       "      <td>0</td>\n",
       "      <td>NaN</td>\n",
       "      <td>Negros e afrodescendentes</td>\n",
       "      <td>autodeclaração</td>\n",
       "      <td>0</td>\n",
       "      <td>vigente</td>\n",
       "      <td>-5.89273</td>\n",
       "      <td>-38.622</td>\n",
       "    </tr>\n",
       "    <tr>\n",
       "      <th>131</th>\n",
       "      <td>estadual</td>\n",
       "      <td>norte</td>\n",
       "      <td>RO</td>\n",
       "      <td>Porto Velho</td>\n",
       "      <td>Resolução n° 102 - CS/DPERO, de 02 de julho de...</td>\n",
       "      <td>NaN</td>\n",
       "      <td>Concurso público</td>\n",
       "      <td>0</td>\n",
       "      <td>20%</td>\n",
       "      <td>Negros</td>\n",
       "      <td>Autodeclaração</td>\n",
       "      <td>0</td>\n",
       "      <td>vigente</td>\n",
       "      <td>-8.76116</td>\n",
       "      <td>-63.9004</td>\n",
       "    </tr>\n",
       "    <tr>\n",
       "      <th>132</th>\n",
       "      <td>estadual</td>\n",
       "      <td>sudeste</td>\n",
       "      <td>RJ</td>\n",
       "      <td>Rio de Janeiro</td>\n",
       "      <td>Resolução DPGERJ, n° 1107, de 29 de setembro d...</td>\n",
       "      <td>NaN</td>\n",
       "      <td>Concurso Público e estagiário</td>\n",
       "      <td>0</td>\n",
       "      <td>20 a 30</td>\n",
       "      <td>Afrodescendentes</td>\n",
       "      <td>Não consta</td>\n",
       "      <td>0</td>\n",
       "      <td>vigente</td>\n",
       "      <td>-22.9068</td>\n",
       "      <td>-43.1729</td>\n",
       "    </tr>\n",
       "    <tr>\n",
       "      <th>133</th>\n",
       "      <td>estadual</td>\n",
       "      <td>nordeste</td>\n",
       "      <td>PI</td>\n",
       "      <td>Teresina</td>\n",
       "      <td>Lei n.º 7.626, de 11 de novembro de 2021, rese...</td>\n",
       "      <td>NaN</td>\n",
       "      <td>Concurso público e contratação temporária</td>\n",
       "      <td>0</td>\n",
       "      <td>25%</td>\n",
       "      <td>Negros e pardos</td>\n",
       "      <td>auto-declaração</td>\n",
       "      <td>0</td>\n",
       "      <td>vigente</td>\n",
       "      <td>-5.04469</td>\n",
       "      <td>-42.7662</td>\n",
       "    </tr>\n",
       "    <tr>\n",
       "      <th>134</th>\n",
       "      <td>estadual</td>\n",
       "      <td>nordeste</td>\n",
       "      <td>RN</td>\n",
       "      <td>Natal</td>\n",
       "      <td>Lei n.º 11.015, de 20.11.2021, dispõe sobre a ...</td>\n",
       "      <td>NaN</td>\n",
       "      <td>Concurso público</td>\n",
       "      <td>0</td>\n",
       "      <td>20%</td>\n",
       "      <td>Negros e negras</td>\n",
       "      <td>Autodeclaração</td>\n",
       "      <td>0</td>\n",
       "      <td>vigente</td>\n",
       "      <td>-5.77926</td>\n",
       "      <td>-35.2009</td>\n",
       "    </tr>\n",
       "  </tbody>\n",
       "</table>\n",
       "<p>135 rows × 15 columns</p>\n",
       "</div>"
      ],
      "text/plain": [
       "    abrangencia nome_regiao sigla_uf               cidade  \\\n",
       "0     municipal         sul       RS                 Bagé   \n",
       "1     municipal         sul       RS              Pelotas   \n",
       "2     municipal         sul       RS               Viamão   \n",
       "3     municipal    nordeste       BA  Teixeira de Freitas   \n",
       "4     municipal    nordeste       PB                 Sapé   \n",
       "..          ...         ...      ...                  ...   \n",
       "130   municipal    nordeste       CE            Jaguaribe   \n",
       "131    estadual       norte       RO          Porto Velho   \n",
       "132    estadual     sudeste       RJ       Rio de Janeiro   \n",
       "133    estadual    nordeste       PI             Teresina   \n",
       "134    estadual    nordeste       RN                Natal   \n",
       "\n",
       "                                            legislacao  \\\n",
       "0    Lei n.º 3.938, de 23.09.2002, reserva de 20% (...   \n",
       "1    Lei n.º 4.989, de 21.11.2003, dispõe sobre a r...   \n",
       "2    Lei n.º 3.210, de 23.01.2004, dispõe sobre a r...   \n",
       "3    Lei n.º 815, de 18.11.2014, dispõe sobre o est...   \n",
       "4    Lei n.º 1.178, de 15.10.2014, dispõe sobre o e...   \n",
       "..                                                 ...   \n",
       "130  Lei n°1.422, de 26 de outubro de 2018, dispõe ...   \n",
       "131  Resolução n° 102 - CS/DPERO, de 02 de julho de...   \n",
       "132  Resolução DPGERJ, n° 1107, de 29 de setembro d...   \n",
       "133  Lei n.º 7.626, de 11 de novembro de 2021, rese...   \n",
       "134  Lei n.º 11.015, de 20.11.2021, dispõe sobre a ...   \n",
       "\n",
       "                                   flag_regulamentacao  \\\n",
       "0                                                  NaN   \n",
       "1    Decreto n° 6.211, de 27.09.19, institui o Regi...   \n",
       "2                                                  NaN   \n",
       "3                                                  NaN   \n",
       "4                                                  NaN   \n",
       "..                                                 ...   \n",
       "130                                                NaN   \n",
       "131                                                NaN   \n",
       "132                                                NaN   \n",
       "133                                                NaN   \n",
       "134                                                NaN   \n",
       "\n",
       "                                     tipo_cota  comissionado percentual  \\\n",
       "0                             Concurso público             0        20%   \n",
       "1                             Concurso público             0        20%   \n",
       "2                             Concurso público             0        44%   \n",
       "3      Concurso público e estágio profissional             0        25%   \n",
       "4                             Concurso público             0        20%   \n",
       "..                                         ...           ...        ...   \n",
       "130                           Concurso público             0        NaN   \n",
       "131                           Concurso público             0        20%   \n",
       "132              Concurso Público e estagiário             0    20 a 30   \n",
       "133  Concurso público e contratação temporária             0        25%   \n",
       "134                           Concurso público             0        20%   \n",
       "\n",
       "                              pub_alvo forma_identificacao  comiss_ver  \\\n",
       "0                     Afrodescendentes          não consta           0   \n",
       "1                     Afrodescendentes      Autodeclaração           1   \n",
       "2                     Afro-brasileiros      Autodeclaração           0   \n",
       "3    Negros, negras e afrodescendentes      Autodeclaração           0   \n",
       "4    Negros, negras e afrodescendentes      autodeclaração           0   \n",
       "..                                 ...                 ...         ...   \n",
       "130          Negros e afrodescendentes      autodeclaração           0   \n",
       "131                             Negros      Autodeclaração           0   \n",
       "132                   Afrodescendentes          Não consta           0   \n",
       "133                    Negros e pardos     auto-declaração           0   \n",
       "134                    Negros e negras      Autodeclaração           0   \n",
       "\n",
       "     vigencia       lat       lng  \n",
       "0     vigente  -31.3301  -54.1005  \n",
       "1     vigente  -31.7654  -52.3376  \n",
       "2    revogada  -30.0722   -51.097  \n",
       "3     vigente    -17.54  -39.7422  \n",
       "4     vigente  -7.09616  -35.2302  \n",
       "..        ...       ...       ...  \n",
       "130   vigente  -5.89273   -38.622  \n",
       "131   vigente  -8.76116  -63.9004  \n",
       "132   vigente  -22.9068  -43.1729  \n",
       "133   vigente  -5.04469  -42.7662  \n",
       "134   vigente  -5.77926  -35.2009  \n",
       "\n",
       "[135 rows x 15 columns]"
      ]
     },
     "execution_count": 56,
     "metadata": {},
     "output_type": "execute_result"
    }
   ],
   "source": [
    "df.rename(columns={'descricao':'legislacao', 'regiao':'nome_regiao', 'estado':'sigla_uf','regulamentacao':'flag_regulamentacao', \n",
    "'identificacao': 'forma_identificacao'},inplace=True)\n",
    "df "
   ]
  },
  {
   "cell_type": "code",
   "execution_count": null,
   "metadata": {},
   "outputs": [],
   "source": []
  },
  {
   "cell_type": "code",
   "execution_count": 65,
   "metadata": {},
   "outputs": [
    {
     "data": {
      "text/plain": [
       "Index(['abrangencia', 'nome_regiao', 'sigla_uf', 'cidade', 'legislacao',\n",
       "       'flag_regulamentacao', 'tipo_cota', 'comissionado', 'percentual',\n",
       "       'pub_alvo', 'forma_identificacao', 'comiss_ver', 'vigencia', 'lat',\n",
       "       'lng'],\n",
       "      dtype='object')"
      ]
     },
     "execution_count": 65,
     "metadata": {},
     "output_type": "execute_result"
    }
   ],
   "source": [
    "df.columns"
   ]
  },
  {
   "cell_type": "code",
   "execution_count": 66,
   "metadata": {},
   "outputs": [],
   "source": [
    "tipos = ['STRING','STRING','STRING','STRING','STRING','STRING','STRING','STRING','STRING','STRING','STRING','STRING','STRING','FLOAT','FLOAT']"
   ]
  },
  {
   "cell_type": "code",
   "execution_count": 64,
   "metadata": {},
   "outputs": [
    {
     "data": {
      "text/plain": [
       "15"
      ]
     },
     "execution_count": 64,
     "metadata": {},
     "output_type": "execute_result"
    }
   ],
   "source": [
    "len(tipos)"
   ]
  },
  {
   "cell_type": "code",
   "execution_count": null,
   "metadata": {},
   "outputs": [],
   "source": [
    "## Cria o esquema da tabela\n",
    "\n",
    "schema = [\n",
    "    bigquery.SchemaField(\"Ano\", \"INTEGER\"),\n",
    "    bigquery.SchemaField(\"Tipo_despesa\", \"STRING\"),\n",
    "    bigquery.SchemaField(\"percent_PIB\", \"FLOAT\")\n",
    "]"
   ]
  },
  {
   "cell_type": "code",
   "execution_count": 91,
   "metadata": {},
   "outputs": [
    {
     "data": {
      "text/html": [
       "<div>\n",
       "<style scoped>\n",
       "    .dataframe tbody tr th:only-of-type {\n",
       "        vertical-align: middle;\n",
       "    }\n",
       "\n",
       "    .dataframe tbody tr th {\n",
       "        vertical-align: top;\n",
       "    }\n",
       "\n",
       "    .dataframe thead th {\n",
       "        text-align: right;\n",
       "    }\n",
       "</style>\n",
       "<table border=\"1\" class=\"dataframe\">\n",
       "  <thead>\n",
       "    <tr style=\"text-align: right;\">\n",
       "      <th></th>\n",
       "      <th>coluna</th>\n",
       "      <th>tipos</th>\n",
       "    </tr>\n",
       "  </thead>\n",
       "  <tbody>\n",
       "    <tr>\n",
       "      <th>0</th>\n",
       "      <td>abrangencia</td>\n",
       "      <td>STRING</td>\n",
       "    </tr>\n",
       "    <tr>\n",
       "      <th>1</th>\n",
       "      <td>nome_regiao</td>\n",
       "      <td>STRING</td>\n",
       "    </tr>\n",
       "    <tr>\n",
       "      <th>2</th>\n",
       "      <td>sigla_uf</td>\n",
       "      <td>STRING</td>\n",
       "    </tr>\n",
       "    <tr>\n",
       "      <th>3</th>\n",
       "      <td>cidade</td>\n",
       "      <td>STRING</td>\n",
       "    </tr>\n",
       "    <tr>\n",
       "      <th>4</th>\n",
       "      <td>legislacao</td>\n",
       "      <td>STRING</td>\n",
       "    </tr>\n",
       "    <tr>\n",
       "      <th>5</th>\n",
       "      <td>flag_regulamentacao</td>\n",
       "      <td>STRING</td>\n",
       "    </tr>\n",
       "    <tr>\n",
       "      <th>6</th>\n",
       "      <td>tipo_cota</td>\n",
       "      <td>STRING</td>\n",
       "    </tr>\n",
       "    <tr>\n",
       "      <th>7</th>\n",
       "      <td>comissionado</td>\n",
       "      <td>STRING</td>\n",
       "    </tr>\n",
       "    <tr>\n",
       "      <th>8</th>\n",
       "      <td>percentual</td>\n",
       "      <td>STRING</td>\n",
       "    </tr>\n",
       "    <tr>\n",
       "      <th>9</th>\n",
       "      <td>pub_alvo</td>\n",
       "      <td>STRING</td>\n",
       "    </tr>\n",
       "    <tr>\n",
       "      <th>10</th>\n",
       "      <td>forma_identificacao</td>\n",
       "      <td>STRING</td>\n",
       "    </tr>\n",
       "    <tr>\n",
       "      <th>11</th>\n",
       "      <td>comiss_ver</td>\n",
       "      <td>STRING</td>\n",
       "    </tr>\n",
       "    <tr>\n",
       "      <th>12</th>\n",
       "      <td>vigencia</td>\n",
       "      <td>STRING</td>\n",
       "    </tr>\n",
       "    <tr>\n",
       "      <th>13</th>\n",
       "      <td>lat</td>\n",
       "      <td>FLOAT</td>\n",
       "    </tr>\n",
       "    <tr>\n",
       "      <th>14</th>\n",
       "      <td>lng</td>\n",
       "      <td>FLOAT</td>\n",
       "    </tr>\n",
       "  </tbody>\n",
       "</table>\n",
       "</div>"
      ],
      "text/plain": [
       "                 coluna   tipos\n",
       "0           abrangencia  STRING\n",
       "1           nome_regiao  STRING\n",
       "2              sigla_uf  STRING\n",
       "3                cidade  STRING\n",
       "4            legislacao  STRING\n",
       "5   flag_regulamentacao  STRING\n",
       "6             tipo_cota  STRING\n",
       "7          comissionado  STRING\n",
       "8            percentual  STRING\n",
       "9              pub_alvo  STRING\n",
       "10  forma_identificacao  STRING\n",
       "11           comiss_ver  STRING\n",
       "12             vigencia  STRING\n",
       "13                  lat   FLOAT\n",
       "14                  lng   FLOAT"
      ]
     },
     "execution_count": 91,
     "metadata": {},
     "output_type": "execute_result"
    }
   ],
   "source": [
    "df_tipos= pd.DataFrame({'coluna':df.columns,'tipos':tipos})\n",
    "df_tipos"
   ]
  },
  {
   "cell_type": "code",
   "execution_count": 103,
   "metadata": {},
   "outputs": [
    {
     "data": {
      "text/plain": [
       "'FLOAT'"
      ]
     },
     "execution_count": 103,
     "metadata": {},
     "output_type": "execute_result"
    }
   ],
   "source": [
    "df_tipos.iloc[13,1]"
   ]
  },
  {
   "cell_type": "code",
   "execution_count": 106,
   "metadata": {},
   "outputs": [],
   "source": [
    "schema = []\n",
    "\n",
    "for i in list(range(len(df_tipos))):\n",
    " \n",
    "    x=  \"bigquery.SchemaField('{}',\".format(df_tipos.iloc[i,0])\n",
    "    \n",
    "    \n",
    "    y = x+\"'{}')\".format(df_tipos.iloc[i,1])\n",
    "\n",
    "\n",
    "    schema.append(y)"
   ]
  },
  {
   "cell_type": "code",
   "execution_count": 107,
   "metadata": {},
   "outputs": [
    {
     "data": {
      "text/plain": [
       "[\"bigquery.SchemaField('abrangencia','STRING')\",\n",
       " \"bigquery.SchemaField('nome_regiao','STRING')\",\n",
       " \"bigquery.SchemaField('sigla_uf','STRING')\",\n",
       " \"bigquery.SchemaField('cidade','STRING')\",\n",
       " \"bigquery.SchemaField('legislacao','STRING')\",\n",
       " \"bigquery.SchemaField('flag_regulamentacao','STRING')\",\n",
       " \"bigquery.SchemaField('tipo_cota','STRING')\",\n",
       " \"bigquery.SchemaField('comissionado','STRING')\",\n",
       " \"bigquery.SchemaField('percentual','STRING')\",\n",
       " \"bigquery.SchemaField('pub_alvo','STRING')\",\n",
       " \"bigquery.SchemaField('forma_identificacao','STRING')\",\n",
       " \"bigquery.SchemaField('comiss_ver','STRING')\",\n",
       " \"bigquery.SchemaField('vigencia','STRING')\",\n",
       " \"bigquery.SchemaField('lat','FLOAT')\",\n",
       " \"bigquery.SchemaField('lng','FLOAT')\"]"
      ]
     },
     "execution_count": 107,
     "metadata": {},
     "output_type": "execute_result"
    }
   ],
   "source": [
    "schema"
   ]
  },
  {
   "cell_type": "code",
   "execution_count": 121,
   "metadata": {},
   "outputs": [
    {
     "ename": "SyntaxError",
     "evalue": "invalid syntax (1447711093.py, line 1)",
     "output_type": "error",
     "traceback": [
      "\u001b[1;36m  Cell \u001b[1;32mIn[121], line 1\u001b[1;36m\u001b[0m\n\u001b[1;33m    class(df)\u001b[0m\n\u001b[1;37m         ^\u001b[0m\n\u001b[1;31mSyntaxError\u001b[0m\u001b[1;31m:\u001b[0m invalid syntax\n"
     ]
    }
   ],
   "source": [
    "class(df)"
   ]
  },
  {
   "cell_type": "code",
   "execution_count": 108,
   "metadata": {},
   "outputs": [],
   "source": [
    "dataset_ref = client.dataset('acoes_afirmativas')"
   ]
  },
  {
   "cell_type": "code",
   "execution_count": 116,
   "metadata": {},
   "outputs": [],
   "source": [
    "schema=[bigquery.SchemaField('abrangencia','STRING'),\n",
    " bigquery.SchemaField('nome_regiao','STRING'),\n",
    " bigquery.SchemaField('sigla_uf','STRING'),\n",
    " bigquery.SchemaField('cidade','STRING'),\n",
    " bigquery.SchemaField('legislacao','STRING'),\n",
    " bigquery.SchemaField('flag_regulamentacao','STRING'),\n",
    " bigquery.SchemaField('tipo_cota','STRING'),\n",
    " bigquery.SchemaField('comissionado','STRING'),\n",
    " bigquery.SchemaField('percentual','STRING'),\n",
    " bigquery.SchemaField('pub_alvo','STRING'),\n",
    " bigquery.SchemaField('forma_identificacao','STRING'),\n",
    " bigquery.SchemaField('comiss_ver','STRING'),\n",
    " bigquery.SchemaField('vigencia','STRING'),\n",
    " bigquery.SchemaField('lat','STRING'),\n",
    " bigquery.SchemaField('lng','STRING')]"
   ]
  },
  {
   "cell_type": "code",
   "execution_count": 114,
   "metadata": {},
   "outputs": [],
   "source": [
    "table_ref = dataset_ref.table('FLACSO_acoes_afirmativas_grafico')"
   ]
  },
  {
   "cell_type": "code",
   "execution_count": 117,
   "metadata": {},
   "outputs": [],
   "source": [
    "job_config = bigquery.LoadJobConfig(schema=schema)"
   ]
  },
  {
   "cell_type": "code",
   "execution_count": 118,
   "metadata": {},
   "outputs": [
    {
     "ename": "ArrowTypeError",
     "evalue": "Expected a string or bytes dtype, got int64",
     "output_type": "error",
     "traceback": [
      "\u001b[1;31m---------------------------------------------------------------------------\u001b[0m",
      "\u001b[1;31mArrowTypeError\u001b[0m                            Traceback (most recent call last)",
      "Cell \u001b[1;32mIn[118], line 1\u001b[0m\n\u001b[1;32m----> 1\u001b[0m job \u001b[39m=\u001b[39m client\u001b[39m.\u001b[39;49mload_table_from_dataframe(df, table_ref, job_config\u001b[39m=\u001b[39;49mjob_config)\n\u001b[0;32m      2\u001b[0m job\u001b[39m.\u001b[39mresult() \n",
      "File \u001b[1;32m~\\AppData\\Local\\Packages\\PythonSoftwareFoundation.Python.3.10_qbz5n2kfra8p0\\LocalCache\\local-packages\\Python310\\site-packages\\google\\cloud\\bigquery\\client.py:2697\u001b[0m, in \u001b[0;36mClient.load_table_from_dataframe\u001b[1;34m(self, dataframe, destination, num_retries, job_id, job_id_prefix, location, project, job_config, parquet_compression, timeout)\u001b[0m\n\u001b[0;32m   2694\u001b[0m     \u001b[39mif\u001b[39;00m parquet_compression \u001b[39m==\u001b[39m \u001b[39m\"\u001b[39m\u001b[39msnappy\u001b[39m\u001b[39m\"\u001b[39m:  \u001b[39m# adjust the default value\u001b[39;00m\n\u001b[0;32m   2695\u001b[0m         parquet_compression \u001b[39m=\u001b[39m parquet_compression\u001b[39m.\u001b[39mupper()\n\u001b[1;32m-> 2697\u001b[0m     _pandas_helpers\u001b[39m.\u001b[39;49mdataframe_to_parquet(\n\u001b[0;32m   2698\u001b[0m         dataframe,\n\u001b[0;32m   2699\u001b[0m         new_job_config\u001b[39m.\u001b[39;49mschema,\n\u001b[0;32m   2700\u001b[0m         tmppath,\n\u001b[0;32m   2701\u001b[0m         parquet_compression\u001b[39m=\u001b[39;49mparquet_compression,\n\u001b[0;32m   2702\u001b[0m         parquet_use_compliant_nested_type\u001b[39m=\u001b[39;49m\u001b[39mTrue\u001b[39;49;00m,\n\u001b[0;32m   2703\u001b[0m     )\n\u001b[0;32m   2704\u001b[0m \u001b[39melse\u001b[39;00m:\n\u001b[0;32m   2705\u001b[0m     dataframe\u001b[39m.\u001b[39mto_parquet(\n\u001b[0;32m   2706\u001b[0m         tmppath,\n\u001b[0;32m   2707\u001b[0m         engine\u001b[39m=\u001b[39m\u001b[39m\"\u001b[39m\u001b[39mpyarrow\u001b[39m\u001b[39m\"\u001b[39m,\n\u001b[1;32m   (...)\u001b[0m\n\u001b[0;32m   2713\u001b[0m         ),\n\u001b[0;32m   2714\u001b[0m     )\n",
      "File \u001b[1;32m~\\AppData\\Local\\Packages\\PythonSoftwareFoundation.Python.3.10_qbz5n2kfra8p0\\LocalCache\\local-packages\\Python310\\site-packages\\google\\cloud\\bigquery\\_pandas_helpers.py:719\u001b[0m, in \u001b[0;36mdataframe_to_parquet\u001b[1;34m(dataframe, bq_schema, filepath, parquet_compression, parquet_use_compliant_nested_type)\u001b[0m\n\u001b[0;32m    712\u001b[0m kwargs \u001b[39m=\u001b[39m (\n\u001b[0;32m    713\u001b[0m     {\u001b[39m\"\u001b[39m\u001b[39muse_compliant_nested_type\u001b[39m\u001b[39m\"\u001b[39m: parquet_use_compliant_nested_type}\n\u001b[0;32m    714\u001b[0m     \u001b[39mif\u001b[39;00m _helpers\u001b[39m.\u001b[39mPYARROW_VERSIONS\u001b[39m.\u001b[39muse_compliant_nested_type\n\u001b[0;32m    715\u001b[0m     \u001b[39melse\u001b[39;00m {}\n\u001b[0;32m    716\u001b[0m )\n\u001b[0;32m    718\u001b[0m bq_schema \u001b[39m=\u001b[39m schema\u001b[39m.\u001b[39m_to_schema_fields(bq_schema)\n\u001b[1;32m--> 719\u001b[0m arrow_table \u001b[39m=\u001b[39m dataframe_to_arrow(dataframe, bq_schema)\n\u001b[0;32m    720\u001b[0m pyarrow\u001b[39m.\u001b[39mparquet\u001b[39m.\u001b[39mwrite_table(\n\u001b[0;32m    721\u001b[0m     arrow_table,\n\u001b[0;32m    722\u001b[0m     filepath,\n\u001b[0;32m    723\u001b[0m     compression\u001b[39m=\u001b[39mparquet_compression,\n\u001b[0;32m    724\u001b[0m     \u001b[39m*\u001b[39m\u001b[39m*\u001b[39mkwargs,\n\u001b[0;32m    725\u001b[0m )\n",
      "File \u001b[1;32m~\\AppData\\Local\\Packages\\PythonSoftwareFoundation.Python.3.10_qbz5n2kfra8p0\\LocalCache\\local-packages\\Python310\\site-packages\\google\\cloud\\bigquery\\_pandas_helpers.py:662\u001b[0m, in \u001b[0;36mdataframe_to_arrow\u001b[1;34m(dataframe, bq_schema)\u001b[0m\n\u001b[0;32m    659\u001b[0m \u001b[39mfor\u001b[39;00m bq_field \u001b[39min\u001b[39;00m bq_schema:\n\u001b[0;32m    660\u001b[0m     arrow_names\u001b[39m.\u001b[39mappend(bq_field\u001b[39m.\u001b[39mname)\n\u001b[0;32m    661\u001b[0m     arrow_arrays\u001b[39m.\u001b[39mappend(\n\u001b[1;32m--> 662\u001b[0m         bq_to_arrow_array(get_column_or_index(dataframe, bq_field\u001b[39m.\u001b[39;49mname), bq_field)\n\u001b[0;32m    663\u001b[0m     )\n\u001b[0;32m    664\u001b[0m     arrow_fields\u001b[39m.\u001b[39mappend(bq_to_arrow_field(bq_field, arrow_arrays[\u001b[39m-\u001b[39m\u001b[39m1\u001b[39m]\u001b[39m.\u001b[39mtype))\n\u001b[0;32m    666\u001b[0m \u001b[39mif\u001b[39;00m \u001b[39mall\u001b[39m((field \u001b[39mis\u001b[39;00m \u001b[39mnot\u001b[39;00m \u001b[39mNone\u001b[39;00m \u001b[39mfor\u001b[39;00m field \u001b[39min\u001b[39;00m arrow_fields)):\n",
      "File \u001b[1;32m~\\AppData\\Local\\Packages\\PythonSoftwareFoundation.Python.3.10_qbz5n2kfra8p0\\LocalCache\\local-packages\\Python310\\site-packages\\google\\cloud\\bigquery\\_pandas_helpers.py:380\u001b[0m, in \u001b[0;36mbq_to_arrow_array\u001b[1;34m(series, bq_field)\u001b[0m\n\u001b[0;32m    378\u001b[0m \u001b[39mif\u001b[39;00m field_type_upper \u001b[39min\u001b[39;00m schema\u001b[39m.\u001b[39m_STRUCT_TYPES:\n\u001b[0;32m    379\u001b[0m     \u001b[39mreturn\u001b[39;00m pyarrow\u001b[39m.\u001b[39mStructArray\u001b[39m.\u001b[39mfrom_pandas(series, \u001b[39mtype\u001b[39m\u001b[39m=\u001b[39marrow_type)\n\u001b[1;32m--> 380\u001b[0m \u001b[39mreturn\u001b[39;00m pyarrow\u001b[39m.\u001b[39;49mArray\u001b[39m.\u001b[39;49mfrom_pandas(series, \u001b[39mtype\u001b[39;49m\u001b[39m=\u001b[39;49marrow_type)\n",
      "File \u001b[1;32m~\\AppData\\Local\\Packages\\PythonSoftwareFoundation.Python.3.10_qbz5n2kfra8p0\\LocalCache\\local-packages\\Python310\\site-packages\\pyarrow\\array.pxi:1044\u001b[0m, in \u001b[0;36mpyarrow.lib.Array.from_pandas\u001b[1;34m()\u001b[0m\n",
      "File \u001b[1;32m~\\AppData\\Local\\Packages\\PythonSoftwareFoundation.Python.3.10_qbz5n2kfra8p0\\LocalCache\\local-packages\\Python310\\site-packages\\pyarrow\\array.pxi:316\u001b[0m, in \u001b[0;36mpyarrow.lib.array\u001b[1;34m()\u001b[0m\n",
      "File \u001b[1;32m~\\AppData\\Local\\Packages\\PythonSoftwareFoundation.Python.3.10_qbz5n2kfra8p0\\LocalCache\\local-packages\\Python310\\site-packages\\pyarrow\\array.pxi:83\u001b[0m, in \u001b[0;36mpyarrow.lib._ndarray_to_array\u001b[1;34m()\u001b[0m\n",
      "File \u001b[1;32m~\\AppData\\Local\\Packages\\PythonSoftwareFoundation.Python.3.10_qbz5n2kfra8p0\\LocalCache\\local-packages\\Python310\\site-packages\\pyarrow\\error.pxi:123\u001b[0m, in \u001b[0;36mpyarrow.lib.check_status\u001b[1;34m()\u001b[0m\n",
      "\u001b[1;31mArrowTypeError\u001b[0m: Expected a string or bytes dtype, got int64"
     ]
    }
   ],
   "source": [
    "job = client.load_table_from_dataframe(df, table_ref, job_config=job_config)\n",
    "job.result() "
   ]
  },
  {
   "cell_type": "code",
   "execution_count": 115,
   "metadata": {},
   "outputs": [
    {
     "ename": "ArrowTypeError",
     "evalue": "Expected a string or bytes dtype, got int64",
     "output_type": "error",
     "traceback": [
      "\u001b[1;31m---------------------------------------------------------------------------\u001b[0m",
      "\u001b[1;31mArrowTypeError\u001b[0m                            Traceback (most recent call last)",
      "Cell \u001b[1;32mIn[115], line 2\u001b[0m\n\u001b[0;32m      1\u001b[0m job_config \u001b[39m=\u001b[39m bigquery\u001b[39m.\u001b[39mLoadJobConfig(schema\u001b[39m=\u001b[39mschema)\n\u001b[1;32m----> 2\u001b[0m job \u001b[39m=\u001b[39m client\u001b[39m.\u001b[39;49mload_table_from_dataframe(df, table_ref, job_config\u001b[39m=\u001b[39;49mjob_config)\n\u001b[0;32m      3\u001b[0m job\u001b[39m.\u001b[39mresult() \n",
      "File \u001b[1;32m~\\AppData\\Local\\Packages\\PythonSoftwareFoundation.Python.3.10_qbz5n2kfra8p0\\LocalCache\\local-packages\\Python310\\site-packages\\google\\cloud\\bigquery\\client.py:2697\u001b[0m, in \u001b[0;36mClient.load_table_from_dataframe\u001b[1;34m(self, dataframe, destination, num_retries, job_id, job_id_prefix, location, project, job_config, parquet_compression, timeout)\u001b[0m\n\u001b[0;32m   2694\u001b[0m     \u001b[39mif\u001b[39;00m parquet_compression \u001b[39m==\u001b[39m \u001b[39m\"\u001b[39m\u001b[39msnappy\u001b[39m\u001b[39m\"\u001b[39m:  \u001b[39m# adjust the default value\u001b[39;00m\n\u001b[0;32m   2695\u001b[0m         parquet_compression \u001b[39m=\u001b[39m parquet_compression\u001b[39m.\u001b[39mupper()\n\u001b[1;32m-> 2697\u001b[0m     _pandas_helpers\u001b[39m.\u001b[39;49mdataframe_to_parquet(\n\u001b[0;32m   2698\u001b[0m         dataframe,\n\u001b[0;32m   2699\u001b[0m         new_job_config\u001b[39m.\u001b[39;49mschema,\n\u001b[0;32m   2700\u001b[0m         tmppath,\n\u001b[0;32m   2701\u001b[0m         parquet_compression\u001b[39m=\u001b[39;49mparquet_compression,\n\u001b[0;32m   2702\u001b[0m         parquet_use_compliant_nested_type\u001b[39m=\u001b[39;49m\u001b[39mTrue\u001b[39;49;00m,\n\u001b[0;32m   2703\u001b[0m     )\n\u001b[0;32m   2704\u001b[0m \u001b[39melse\u001b[39;00m:\n\u001b[0;32m   2705\u001b[0m     dataframe\u001b[39m.\u001b[39mto_parquet(\n\u001b[0;32m   2706\u001b[0m         tmppath,\n\u001b[0;32m   2707\u001b[0m         engine\u001b[39m=\u001b[39m\u001b[39m\"\u001b[39m\u001b[39mpyarrow\u001b[39m\u001b[39m\"\u001b[39m,\n\u001b[1;32m   (...)\u001b[0m\n\u001b[0;32m   2713\u001b[0m         ),\n\u001b[0;32m   2714\u001b[0m     )\n",
      "File \u001b[1;32m~\\AppData\\Local\\Packages\\PythonSoftwareFoundation.Python.3.10_qbz5n2kfra8p0\\LocalCache\\local-packages\\Python310\\site-packages\\google\\cloud\\bigquery\\_pandas_helpers.py:719\u001b[0m, in \u001b[0;36mdataframe_to_parquet\u001b[1;34m(dataframe, bq_schema, filepath, parquet_compression, parquet_use_compliant_nested_type)\u001b[0m\n\u001b[0;32m    712\u001b[0m kwargs \u001b[39m=\u001b[39m (\n\u001b[0;32m    713\u001b[0m     {\u001b[39m\"\u001b[39m\u001b[39muse_compliant_nested_type\u001b[39m\u001b[39m\"\u001b[39m: parquet_use_compliant_nested_type}\n\u001b[0;32m    714\u001b[0m     \u001b[39mif\u001b[39;00m _helpers\u001b[39m.\u001b[39mPYARROW_VERSIONS\u001b[39m.\u001b[39muse_compliant_nested_type\n\u001b[0;32m    715\u001b[0m     \u001b[39melse\u001b[39;00m {}\n\u001b[0;32m    716\u001b[0m )\n\u001b[0;32m    718\u001b[0m bq_schema \u001b[39m=\u001b[39m schema\u001b[39m.\u001b[39m_to_schema_fields(bq_schema)\n\u001b[1;32m--> 719\u001b[0m arrow_table \u001b[39m=\u001b[39m dataframe_to_arrow(dataframe, bq_schema)\n\u001b[0;32m    720\u001b[0m pyarrow\u001b[39m.\u001b[39mparquet\u001b[39m.\u001b[39mwrite_table(\n\u001b[0;32m    721\u001b[0m     arrow_table,\n\u001b[0;32m    722\u001b[0m     filepath,\n\u001b[0;32m    723\u001b[0m     compression\u001b[39m=\u001b[39mparquet_compression,\n\u001b[0;32m    724\u001b[0m     \u001b[39m*\u001b[39m\u001b[39m*\u001b[39mkwargs,\n\u001b[0;32m    725\u001b[0m )\n",
      "File \u001b[1;32m~\\AppData\\Local\\Packages\\PythonSoftwareFoundation.Python.3.10_qbz5n2kfra8p0\\LocalCache\\local-packages\\Python310\\site-packages\\google\\cloud\\bigquery\\_pandas_helpers.py:662\u001b[0m, in \u001b[0;36mdataframe_to_arrow\u001b[1;34m(dataframe, bq_schema)\u001b[0m\n\u001b[0;32m    659\u001b[0m \u001b[39mfor\u001b[39;00m bq_field \u001b[39min\u001b[39;00m bq_schema:\n\u001b[0;32m    660\u001b[0m     arrow_names\u001b[39m.\u001b[39mappend(bq_field\u001b[39m.\u001b[39mname)\n\u001b[0;32m    661\u001b[0m     arrow_arrays\u001b[39m.\u001b[39mappend(\n\u001b[1;32m--> 662\u001b[0m         bq_to_arrow_array(get_column_or_index(dataframe, bq_field\u001b[39m.\u001b[39;49mname), bq_field)\n\u001b[0;32m    663\u001b[0m     )\n\u001b[0;32m    664\u001b[0m     arrow_fields\u001b[39m.\u001b[39mappend(bq_to_arrow_field(bq_field, arrow_arrays[\u001b[39m-\u001b[39m\u001b[39m1\u001b[39m]\u001b[39m.\u001b[39mtype))\n\u001b[0;32m    666\u001b[0m \u001b[39mif\u001b[39;00m \u001b[39mall\u001b[39m((field \u001b[39mis\u001b[39;00m \u001b[39mnot\u001b[39;00m \u001b[39mNone\u001b[39;00m \u001b[39mfor\u001b[39;00m field \u001b[39min\u001b[39;00m arrow_fields)):\n",
      "File \u001b[1;32m~\\AppData\\Local\\Packages\\PythonSoftwareFoundation.Python.3.10_qbz5n2kfra8p0\\LocalCache\\local-packages\\Python310\\site-packages\\google\\cloud\\bigquery\\_pandas_helpers.py:380\u001b[0m, in \u001b[0;36mbq_to_arrow_array\u001b[1;34m(series, bq_field)\u001b[0m\n\u001b[0;32m    378\u001b[0m \u001b[39mif\u001b[39;00m field_type_upper \u001b[39min\u001b[39;00m schema\u001b[39m.\u001b[39m_STRUCT_TYPES:\n\u001b[0;32m    379\u001b[0m     \u001b[39mreturn\u001b[39;00m pyarrow\u001b[39m.\u001b[39mStructArray\u001b[39m.\u001b[39mfrom_pandas(series, \u001b[39mtype\u001b[39m\u001b[39m=\u001b[39marrow_type)\n\u001b[1;32m--> 380\u001b[0m \u001b[39mreturn\u001b[39;00m pyarrow\u001b[39m.\u001b[39;49mArray\u001b[39m.\u001b[39;49mfrom_pandas(series, \u001b[39mtype\u001b[39;49m\u001b[39m=\u001b[39;49marrow_type)\n",
      "File \u001b[1;32m~\\AppData\\Local\\Packages\\PythonSoftwareFoundation.Python.3.10_qbz5n2kfra8p0\\LocalCache\\local-packages\\Python310\\site-packages\\pyarrow\\array.pxi:1044\u001b[0m, in \u001b[0;36mpyarrow.lib.Array.from_pandas\u001b[1;34m()\u001b[0m\n",
      "File \u001b[1;32m~\\AppData\\Local\\Packages\\PythonSoftwareFoundation.Python.3.10_qbz5n2kfra8p0\\LocalCache\\local-packages\\Python310\\site-packages\\pyarrow\\array.pxi:316\u001b[0m, in \u001b[0;36mpyarrow.lib.array\u001b[1;34m()\u001b[0m\n",
      "File \u001b[1;32m~\\AppData\\Local\\Packages\\PythonSoftwareFoundation.Python.3.10_qbz5n2kfra8p0\\LocalCache\\local-packages\\Python310\\site-packages\\pyarrow\\array.pxi:83\u001b[0m, in \u001b[0;36mpyarrow.lib._ndarray_to_array\u001b[1;34m()\u001b[0m\n",
      "File \u001b[1;32m~\\AppData\\Local\\Packages\\PythonSoftwareFoundation.Python.3.10_qbz5n2kfra8p0\\LocalCache\\local-packages\\Python310\\site-packages\\pyarrow\\error.pxi:123\u001b[0m, in \u001b[0;36mpyarrow.lib.check_status\u001b[1;34m()\u001b[0m\n",
      "\u001b[1;31mArrowTypeError\u001b[0m: Expected a string or bytes dtype, got int64"
     ]
    }
   ],
   "source": [
    "job_config = bigquery.LoadJobConfig(schema=schema)\n",
    "job = client.load_table_from_dataframe(df, table_ref, job_config=job_config)\n",
    "job.result() "
   ]
  }
 ],
 "metadata": {
  "kernelspec": {
   "display_name": "Python 3",
   "language": "python",
   "name": "python3"
  },
  "language_info": {
   "codemirror_mode": {
    "name": "ipython",
    "version": 3
   },
   "file_extension": ".py",
   "mimetype": "text/x-python",
   "name": "python",
   "nbconvert_exporter": "python",
   "pygments_lexer": "ipython3",
   "version": "3.10.11"
  },
  "orig_nbformat": 4
 },
 "nbformat": 4,
 "nbformat_minor": 2
}
