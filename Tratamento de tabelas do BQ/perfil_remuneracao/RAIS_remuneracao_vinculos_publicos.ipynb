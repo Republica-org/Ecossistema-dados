{
 "cells": [
  {
   "cell_type": "code",
   "execution_count": 6,
   "metadata": {},
   "outputs": [],
   "source": [
    "import openpyxl\n",
    "import pandas as pd\n",
    "import time\n",
    "import os\n",
    "import pandas_gbq\n",
    "from google.cloud import bigquery\n",
    "import glob\n",
    "import basedosdados as bd\n",
    "import numpy as np"
   ]
  },
  {
   "cell_type": "code",
   "execution_count": 7,
   "metadata": {},
   "outputs": [
    {
     "name": "stderr",
     "output_type": "stream",
     "text": [
      "Downloading: 100%|██████████| 469/469 [00:00<00:00, 1424.17rows/s]\n"
     ]
    }
   ],
   "source": [
    "## Acessando pelo pacote da BD\n",
    "\n",
    "df=bd.read_sql(\"SELECT * FROM `repositoriodedadosgpsp.Datalake.RAIS_remuneracao_vinculos_publicos`\", billing_project_id=\"repositoriodedadosgpsp\", from_file=False, reauth=False, use_bqstorage_api=False)"
   ]
  },
  {
   "cell_type": "code",
   "execution_count": 5,
   "metadata": {},
   "outputs": [
    {
     "data": {
      "text/plain": [
       "<IntegerArray>\n",
       "[2016, 2010, 2012, 2009, 2018, 2006, 2008, 2004, 2017, 2005, 2015, 2011, 2019,\n",
       " 2013, 2020, 2003, 2021, 2014, 2007]\n",
       "Length: 19, dtype: Int64"
      ]
     },
     "execution_count": 5,
     "metadata": {},
     "output_type": "execute_result"
    }
   ],
   "source": [
    "df['ano'].unique()\n",
    "\n",
    "## tenho de 2004 a 2021:\n",
    "\n"
   ]
  },
  {
   "cell_type": "code",
   "execution_count": 8,
   "metadata": {},
   "outputs": [],
   "source": [
    "### Criando função para deflacionar a variável de remuneração\n",
    "### Vou me basear no IPCA acumulado de dezembro de 2022 para realização do cálculo\n",
    "\n",
    "## adicionar coluna de fator de correção pra cada ano\n",
    "## depois faz a conta\n",
    "\n",
    "os.chdir(\"G:\\\\Drives compartilhados\\\\República.org\\\\4. Equipes\\\\Dados e Comunicação\\DADOS\\\\415 - Repositório de Dados\\\\Documentos auxiliares\")"
   ]
  },
  {
   "cell_type": "code",
   "execution_count": 19,
   "metadata": {},
   "outputs": [],
   "source": [
    "ipca = pd.read_csv(\"ipca.csv\",sep=\";\",decimal=\",\")"
   ]
  },
  {
   "cell_type": "code",
   "execution_count": 21,
   "metadata": {},
   "outputs": [
    {
     "name": "stdout",
     "output_type": "stream",
     "text": [
      "<class 'pandas.core.frame.DataFrame'>\n",
      "RangeIndex: 28 entries, 0 to 27\n",
      "Data columns (total 4 columns):\n",
      " #   Column                  Non-Null Count  Dtype  \n",
      "---  ------                  --------------  -----  \n",
      " 0   Ano                     28 non-null     int64  \n",
      " 1   IPCA acumulado dez/ano  28 non-null     float64\n",
      " 2   It                      28 non-null     float64\n",
      " 3   Fator de correcao       28 non-null     float64\n",
      "dtypes: float64(3), int64(1)\n",
      "memory usage: 1.0 KB\n"
     ]
    }
   ],
   "source": [
    "ipca.info()"
   ]
  },
  {
   "cell_type": "code",
   "execution_count": 22,
   "metadata": {},
   "outputs": [],
   "source": [
    "df1= df.merge(ipca[['Ano','Fator de correcao']], right_on='Ano',left_on='ano')"
   ]
  },
  {
   "cell_type": "code",
   "execution_count": 18,
   "metadata": {},
   "outputs": [
    {
     "data": {
      "text/plain": [
       "0      1,355857127\n",
       "1      1,355857127\n",
       "2      1,355857127\n",
       "3      1,355857127\n",
       "4      1,355857127\n",
       "          ...     \n",
       "464    2,370358141\n",
       "465    2,370358141\n",
       "466    2,370358141\n",
       "467    2,370358141\n",
       "468    2,370358141\n",
       "Name: Fator de correcao, Length: 469, dtype: object"
      ]
     },
     "execution_count": 18,
     "metadata": {},
     "output_type": "execute_result"
    }
   ],
   "source": []
  },
  {
   "cell_type": "code",
   "execution_count": 23,
   "metadata": {},
   "outputs": [],
   "source": [
    "df1['media_remuneracao_ajustada']= df1['media_remuneracao']* df1['Fator de correcao']"
   ]
  },
  {
   "cell_type": "code",
   "execution_count": 24,
   "metadata": {},
   "outputs": [
    {
     "data": {
      "text/html": [
       "<div>\n",
       "<style scoped>\n",
       "    .dataframe tbody tr th:only-of-type {\n",
       "        vertical-align: middle;\n",
       "    }\n",
       "\n",
       "    .dataframe tbody tr th {\n",
       "        vertical-align: top;\n",
       "    }\n",
       "\n",
       "    .dataframe thead th {\n",
       "        text-align: right;\n",
       "    }\n",
       "</style>\n",
       "<table border=\"1\" class=\"dataframe\">\n",
       "  <thead>\n",
       "    <tr style=\"text-align: right;\">\n",
       "      <th></th>\n",
       "      <th>ano</th>\n",
       "      <th>variavel</th>\n",
       "      <th>categoria</th>\n",
       "      <th>media_remuneracao</th>\n",
       "      <th>Ano</th>\n",
       "      <th>Fator de correcao</th>\n",
       "      <th>media_remuneracao_ajustada</th>\n",
       "    </tr>\n",
       "  </thead>\n",
       "  <tbody>\n",
       "    <tr>\n",
       "      <th>0</th>\n",
       "      <td>2016</td>\n",
       "      <td>genero</td>\n",
       "      <td>Feminino</td>\n",
       "      <td>3648.047669</td>\n",
       "      <td>2016</td>\n",
       "      <td>1.355857</td>\n",
       "      <td>4946.231432</td>\n",
       "    </tr>\n",
       "    <tr>\n",
       "      <th>1</th>\n",
       "      <td>2016</td>\n",
       "      <td>genero</td>\n",
       "      <td>Masculino</td>\n",
       "      <td>5145.268336</td>\n",
       "      <td>2016</td>\n",
       "      <td>1.355857</td>\n",
       "      <td>6976.248744</td>\n",
       "    </tr>\n",
       "    <tr>\n",
       "      <th>2</th>\n",
       "      <td>2016</td>\n",
       "      <td>poderes</td>\n",
       "      <td>Outros</td>\n",
       "      <td>6589.952686</td>\n",
       "      <td>2016</td>\n",
       "      <td>1.355857</td>\n",
       "      <td>8935.034316</td>\n",
       "    </tr>\n",
       "    <tr>\n",
       "      <th>3</th>\n",
       "      <td>2016</td>\n",
       "      <td>poderes</td>\n",
       "      <td>Executivo</td>\n",
       "      <td>3252.946308</td>\n",
       "      <td>2016</td>\n",
       "      <td>1.355857</td>\n",
       "      <td>4410.530435</td>\n",
       "    </tr>\n",
       "    <tr>\n",
       "      <th>4</th>\n",
       "      <td>2016</td>\n",
       "      <td>poderes</td>\n",
       "      <td>Judiciário</td>\n",
       "      <td>11438.431550</td>\n",
       "      <td>2016</td>\n",
       "      <td>1.355857</td>\n",
       "      <td>15508.878939</td>\n",
       "    </tr>\n",
       "    <tr>\n",
       "      <th>...</th>\n",
       "      <td>...</td>\n",
       "      <td>...</td>\n",
       "      <td>...</td>\n",
       "      <td>...</td>\n",
       "      <td>...</td>\n",
       "      <td>...</td>\n",
       "      <td>...</td>\n",
       "    </tr>\n",
       "    <tr>\n",
       "      <th>464</th>\n",
       "      <td>2007</td>\n",
       "      <td>grau_instrucao</td>\n",
       "      <td>Até Mestrado</td>\n",
       "      <td>4042.200402</td>\n",
       "      <td>2007</td>\n",
       "      <td>2.370358</td>\n",
       "      <td>9581.462632</td>\n",
       "    </tr>\n",
       "    <tr>\n",
       "      <th>465</th>\n",
       "      <td>2007</td>\n",
       "      <td>grau_instrucao</td>\n",
       "      <td>Até Doutorado</td>\n",
       "      <td>6958.183786</td>\n",
       "      <td>2007</td>\n",
       "      <td>2.370358</td>\n",
       "      <td>16493.387584</td>\n",
       "    </tr>\n",
       "    <tr>\n",
       "      <th>466</th>\n",
       "      <td>2007</td>\n",
       "      <td>grau_instrucao</td>\n",
       "      <td>Até Fundamental</td>\n",
       "      <td>994.996071</td>\n",
       "      <td>2007</td>\n",
       "      <td>2.370358</td>\n",
       "      <td>2358.497038</td>\n",
       "    </tr>\n",
       "    <tr>\n",
       "      <th>467</th>\n",
       "      <td>2007</td>\n",
       "      <td>grau_instrucao</td>\n",
       "      <td>Até Ensino Médio</td>\n",
       "      <td>1432.581737</td>\n",
       "      <td>2007</td>\n",
       "      <td>2.370358</td>\n",
       "      <td>3395.731784</td>\n",
       "    </tr>\n",
       "    <tr>\n",
       "      <th>468</th>\n",
       "      <td>2007</td>\n",
       "      <td>grau_instrucao</td>\n",
       "      <td>Até Ensino Superior Completo</td>\n",
       "      <td>2851.862297</td>\n",
       "      <td>2007</td>\n",
       "      <td>2.370358</td>\n",
       "      <td>6759.935012</td>\n",
       "    </tr>\n",
       "  </tbody>\n",
       "</table>\n",
       "<p>469 rows × 7 columns</p>\n",
       "</div>"
      ],
      "text/plain": [
       "      ano        variavel                     categoria  media_remuneracao  \\\n",
       "0    2016          genero                      Feminino        3648.047669   \n",
       "1    2016          genero                     Masculino        5145.268336   \n",
       "2    2016         poderes                        Outros        6589.952686   \n",
       "3    2016         poderes                     Executivo        3252.946308   \n",
       "4    2016         poderes                    Judiciário       11438.431550   \n",
       "..    ...             ...                           ...                ...   \n",
       "464  2007  grau_instrucao                  Até Mestrado        4042.200402   \n",
       "465  2007  grau_instrucao                 Até Doutorado        6958.183786   \n",
       "466  2007  grau_instrucao               Até Fundamental         994.996071   \n",
       "467  2007  grau_instrucao              Até Ensino Médio        1432.581737   \n",
       "468  2007  grau_instrucao  Até Ensino Superior Completo        2851.862297   \n",
       "\n",
       "      Ano  Fator de correcao  media_remuneracao_ajustada  \n",
       "0    2016           1.355857                 4946.231432  \n",
       "1    2016           1.355857                 6976.248744  \n",
       "2    2016           1.355857                 8935.034316  \n",
       "3    2016           1.355857                 4410.530435  \n",
       "4    2016           1.355857                15508.878939  \n",
       "..    ...                ...                         ...  \n",
       "464  2007           2.370358                 9581.462632  \n",
       "465  2007           2.370358                16493.387584  \n",
       "466  2007           2.370358                 2358.497038  \n",
       "467  2007           2.370358                 3395.731784  \n",
       "468  2007           2.370358                 6759.935012  \n",
       "\n",
       "[469 rows x 7 columns]"
      ]
     },
     "execution_count": 24,
     "metadata": {},
     "output_type": "execute_result"
    }
   ],
   "source": [
    "df1"
   ]
  },
  {
   "cell_type": "code",
   "execution_count": 25,
   "metadata": {},
   "outputs": [],
   "source": [
    "## Subindo para datalake\n",
    "client = bigquery.Client()\n",
    "dataset_ref = client.dataset('perfil_remuneracao')\n",
    "\n"
   ]
  },
  {
   "cell_type": "code",
   "execution_count": 30,
   "metadata": {},
   "outputs": [],
   "source": [
    "df1 = df1[['ano', 'variavel', 'categoria', 'media_remuneracao',\n",
    "       'Fator de correcao', 'media_remuneracao_ajustada']]"
   ]
  },
  {
   "cell_type": "code",
   "execution_count": 32,
   "metadata": {},
   "outputs": [],
   "source": [
    "df1=df1.rename(columns={'Fator de correcao':'fator_correcao'})"
   ]
  },
  {
   "cell_type": "code",
   "execution_count": 34,
   "metadata": {},
   "outputs": [
    {
     "name": "stdout",
     "output_type": "stream",
     "text": [
      "<class 'pandas.core.frame.DataFrame'>\n",
      "Int64Index: 469 entries, 0 to 468\n",
      "Data columns (total 6 columns):\n",
      " #   Column                      Non-Null Count  Dtype  \n",
      "---  ------                      --------------  -----  \n",
      " 0   ano                         469 non-null    Int64  \n",
      " 1   variavel                    469 non-null    object \n",
      " 2   categoria                   469 non-null    object \n",
      " 3   media_remuneracao           469 non-null    float64\n",
      " 4   fator_correcao              469 non-null    float64\n",
      " 5   media_remuneracao_ajustada  469 non-null    float64\n",
      "dtypes: Int64(1), float64(3), object(2)\n",
      "memory usage: 26.1+ KB\n"
     ]
    }
   ],
   "source": [
    "df1.info()"
   ]
  },
  {
   "cell_type": "code",
   "execution_count": 35,
   "metadata": {},
   "outputs": [],
   "source": [
    "schema=[bigquery.SchemaField('ano','INTEGER',description='Ano de referência'),\n",
    " bigquery.SchemaField('variavel','STRING',description='De qual variável aquela remuneração se refere'),\n",
    " bigquery.SchemaField('categoria','STRING',description='Categoria dentro daquela variável'),\n",
    " bigquery.SchemaField('media_remuneracao','FLOAT',description='Valor nominal da média de remuneração daquele ano'),\n",
    "bigquery.SchemaField('fator_correcao','FLOAT',description='índice para correção monetária baseando-se no IPCA para dezembro de 2022'),\n",
    "bigquery.SchemaField('media_remuneracao_ajustada','FLOAT',description='Valor nominal da média de remuneração daquele ano ajustado para dezembro de 2022')\n",
    " ]\n"
   ]
  },
  {
   "cell_type": "code",
   "execution_count": 36,
   "metadata": {},
   "outputs": [
    {
     "data": {
      "text/plain": [
       "LoadJob<project=repositoriodedadosgpsp, location=US, id=b1035481-9e11-4297-a378-2c91782606dd>"
      ]
     },
     "execution_count": 36,
     "metadata": {},
     "output_type": "execute_result"
    }
   ],
   "source": [
    "table_ref = dataset_ref.table('RAIS_remuneracao_vinculos_publicos')\n",
    "job_config = bigquery.LoadJobConfig(schema=schema)\n",
    "job = client.load_table_from_dataframe(df1, table_ref, job_config=job_config)\n",
    "job.result() "
   ]
  }
 ],
 "metadata": {
  "kernelspec": {
   "display_name": "Python 3",
   "language": "python",
   "name": "python3"
  },
  "language_info": {
   "codemirror_mode": {
    "name": "ipython",
    "version": 3
   },
   "file_extension": ".py",
   "mimetype": "text/x-python",
   "name": "python",
   "nbconvert_exporter": "python",
   "pygments_lexer": "ipython3",
   "version": "3.10.11"
  },
  "orig_nbformat": 4
 },
 "nbformat": 4,
 "nbformat_minor": 2
}
