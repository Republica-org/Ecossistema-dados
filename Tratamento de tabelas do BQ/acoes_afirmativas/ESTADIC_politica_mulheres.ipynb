{
 "cells": [
  {
   "cell_type": "code",
   "execution_count": 2,
   "metadata": {},
   "outputs": [],
   "source": [
    "## Inserindo dados do atlas no data lake\n",
    "import openpyxl\n",
    "import pandas as pd\n",
    "import time\n",
    "import os\n",
    "import pandas_gbq\n",
    "from google.cloud import bigquery\n",
    "import glob\n",
    "import basedosdados as bd\n",
    "import numpy as np\n",
    "\n"
   ]
  },
  {
   "cell_type": "code",
   "execution_count": 32,
   "metadata": {},
   "outputs": [
    {
     "name": "stderr",
     "output_type": "stream",
     "text": [
      "Downloading: 100%|██████████| 27/27 [00:00<00:00, 40.89rows/s]\n"
     ]
    }
   ],
   "source": [
    "## Acessando pelo pacote da BD\n",
    "\n",
    "df=bd.read_sql(\"SELECT ano,  sigla_uf,existencia_priorizacao_cargo_mulher FROM `basedosdados-projetos.republica.indicadores_estadic_gerais` where ano=2018 and tema='rescursos_humanos' \", billing_project_id=\"repositoriodedadosgpsp\", from_file=False, reauth=False, use_bqstorage_api=False)"
   ]
  },
  {
   "cell_type": "code",
   "execution_count": 39,
   "metadata": {},
   "outputs": [],
   "source": [
    "df['existencia_priorizacao_cargo_mulher'] = np.where(df['existencia_priorizacao_cargo_mulher']== 0, \"Não\", \"Sim\")"
   ]
  },
  {
   "cell_type": "code",
   "execution_count": 40,
   "metadata": {},
   "outputs": [
    {
     "data": {
      "text/plain": [
       "array(['Não'], dtype=object)"
      ]
     },
     "execution_count": 40,
     "metadata": {},
     "output_type": "execute_result"
    }
   ],
   "source": [
    "df['existencia_priorizacao_cargo_mulher'].unique()"
   ]
  },
  {
   "cell_type": "code",
   "execution_count": 34,
   "metadata": {},
   "outputs": [],
   "source": [
    "dataset_ref = client.dataset('acoes_afirmativas')"
   ]
  },
  {
   "cell_type": "code",
   "execution_count": 41,
   "metadata": {},
   "outputs": [],
   "source": [
    "schema=[bigquery.SchemaField('ano','INTEGER',description='Ano da apuração daquele dado'),\n",
    " bigquery.SchemaField('sigla_uf','STRING',description='Sigla da Unidade da Federação'),\n",
    " bigquery.SchemaField('existencia_priorizacao_cargo_mulher','STRING',description='Se existe ou não existe política de priorização para mulheres em cargos de chefia e assessoramento')\n",
    " ]"
   ]
  },
  {
   "cell_type": "code",
   "execution_count": 42,
   "metadata": {},
   "outputs": [],
   "source": [
    "table_ref = dataset_ref.table('ESTADIC_politica_mulheres')"
   ]
  },
  {
   "cell_type": "code",
   "execution_count": 43,
   "metadata": {},
   "outputs": [],
   "source": [
    "job_config = bigquery.LoadJobConfig(schema=schema)"
   ]
  },
  {
   "cell_type": "code",
   "execution_count": 44,
   "metadata": {},
   "outputs": [
    {
     "data": {
      "text/plain": [
       "LoadJob<project=repositoriodedadosgpsp, location=US, id=ffbae69e-2bcc-4653-947a-c1d686837090>"
      ]
     },
     "execution_count": 44,
     "metadata": {},
     "output_type": "execute_result"
    }
   ],
   "source": [
    "job = client.load_table_from_dataframe(df, table_ref, job_config=job_config)\n",
    "job.result() "
   ]
  },
  {
   "cell_type": "code",
   "execution_count": null,
   "metadata": {},
   "outputs": [],
   "source": []
  }
 ],
 "metadata": {
  "kernelspec": {
   "display_name": "Python 3",
   "language": "python",
   "name": "python3"
  },
  "language_info": {
   "codemirror_mode": {
    "name": "ipython",
    "version": 3
   },
   "file_extension": ".py",
   "mimetype": "text/x-python",
   "name": "python",
   "nbconvert_exporter": "python",
   "pygments_lexer": "ipython3",
   "version": "3.10.11"
  },
  "orig_nbformat": 4
 },
 "nbformat": 4,
 "nbformat_minor": 2
}
