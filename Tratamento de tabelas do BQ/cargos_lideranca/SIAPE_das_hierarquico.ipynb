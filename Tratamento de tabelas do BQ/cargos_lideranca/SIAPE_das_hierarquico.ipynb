{
 "cells": [
  {
   "cell_type": "code",
   "execution_count": 1,
   "metadata": {},
   "outputs": [],
   "source": [
    "import pandas as pd\n",
    "import time\n",
    "import os\n",
    "import pandas_gbq\n",
    "from google.cloud import bigquery\n",
    "import basedosdados as bd\n",
    "import numpy as np"
   ]
  },
  {
   "cell_type": "code",
   "execution_count": 2,
   "metadata": {},
   "outputs": [],
   "source": [
    "os.chdir(\"G:\\\\Drives compartilhados\\\\República.org\\\\4. Equipes\\\\Dados e Comunicação\\DADOS\\\\415 - Repositório de Dados\\Dados para subir\\\\Tabelas finais\")"
   ]
  },
  {
   "cell_type": "code",
   "execution_count": 14,
   "metadata": {},
   "outputs": [],
   "source": [
    "df = pd.read_csv(\"SIAPE_das_hierarquico.csv\")"
   ]
  },
  {
   "cell_type": "code",
   "execution_count": 15,
   "metadata": {},
   "outputs": [],
   "source": [
    "df['proporcao_vinculos'] = df['funcionarios']/100"
   ]
  },
  {
   "cell_type": "code",
   "execution_count": 17,
   "metadata": {},
   "outputs": [
    {
     "data": {
      "text/html": [
       "<div>\n",
       "<style scoped>\n",
       "    .dataframe tbody tr th:only-of-type {\n",
       "        vertical-align: middle;\n",
       "    }\n",
       "\n",
       "    .dataframe tbody tr th {\n",
       "        vertical-align: top;\n",
       "    }\n",
       "\n",
       "    .dataframe thead th {\n",
       "        text-align: right;\n",
       "    }\n",
       "</style>\n",
       "<table border=\"1\" class=\"dataframe\">\n",
       "  <thead>\n",
       "    <tr style=\"text-align: right;\">\n",
       "      <th></th>\n",
       "      <th>ano</th>\n",
       "      <th>tipo_DAS</th>\n",
       "      <th>funcionarios</th>\n",
       "      <th>grafico</th>\n",
       "      <th>proporcao_vinculos</th>\n",
       "    </tr>\n",
       "  </thead>\n",
       "  <tbody>\n",
       "    <tr>\n",
       "      <th>0</th>\n",
       "      <td>1997</td>\n",
       "      <td>DAS-1</td>\n",
       "      <td>38.67</td>\n",
       "      <td>3</td>\n",
       "      <td>0.3867</td>\n",
       "    </tr>\n",
       "    <tr>\n",
       "      <th>1</th>\n",
       "      <td>1997</td>\n",
       "      <td>DAS-2</td>\n",
       "      <td>33.77</td>\n",
       "      <td>3</td>\n",
       "      <td>0.3377</td>\n",
       "    </tr>\n",
       "    <tr>\n",
       "      <th>2</th>\n",
       "      <td>1997</td>\n",
       "      <td>DAS-3</td>\n",
       "      <td>13.98</td>\n",
       "      <td>3</td>\n",
       "      <td>0.1398</td>\n",
       "    </tr>\n",
       "    <tr>\n",
       "      <th>3</th>\n",
       "      <td>1997</td>\n",
       "      <td>DAS-4</td>\n",
       "      <td>9.59</td>\n",
       "      <td>3</td>\n",
       "      <td>0.0959</td>\n",
       "    </tr>\n",
       "    <tr>\n",
       "      <th>4</th>\n",
       "      <td>1997</td>\n",
       "      <td>DAS-5</td>\n",
       "      <td>3.20</td>\n",
       "      <td>3</td>\n",
       "      <td>0.0320</td>\n",
       "    </tr>\n",
       "    <tr>\n",
       "      <th>...</th>\n",
       "      <td>...</td>\n",
       "      <td>...</td>\n",
       "      <td>...</td>\n",
       "      <td>...</td>\n",
       "      <td>...</td>\n",
       "    </tr>\n",
       "    <tr>\n",
       "      <th>127</th>\n",
       "      <td>2018</td>\n",
       "      <td>DAS-2</td>\n",
       "      <td>23.90</td>\n",
       "      <td>3</td>\n",
       "      <td>0.2390</td>\n",
       "    </tr>\n",
       "    <tr>\n",
       "      <th>128</th>\n",
       "      <td>2018</td>\n",
       "      <td>DAS-3</td>\n",
       "      <td>21.10</td>\n",
       "      <td>3</td>\n",
       "      <td>0.2110</td>\n",
       "    </tr>\n",
       "    <tr>\n",
       "      <th>129</th>\n",
       "      <td>2018</td>\n",
       "      <td>DAS-4</td>\n",
       "      <td>21.30</td>\n",
       "      <td>3</td>\n",
       "      <td>0.2130</td>\n",
       "    </tr>\n",
       "    <tr>\n",
       "      <th>130</th>\n",
       "      <td>2018</td>\n",
       "      <td>DAS-5</td>\n",
       "      <td>9.30</td>\n",
       "      <td>3</td>\n",
       "      <td>0.0930</td>\n",
       "    </tr>\n",
       "    <tr>\n",
       "      <th>131</th>\n",
       "      <td>2018</td>\n",
       "      <td>DAS-6</td>\n",
       "      <td>1.80</td>\n",
       "      <td>3</td>\n",
       "      <td>0.0180</td>\n",
       "    </tr>\n",
       "  </tbody>\n",
       "</table>\n",
       "<p>132 rows × 5 columns</p>\n",
       "</div>"
      ],
      "text/plain": [
       "      ano tipo_DAS  funcionarios  grafico  proporcao_vinculos\n",
       "0    1997    DAS-1         38.67        3              0.3867\n",
       "1    1997    DAS-2         33.77        3              0.3377\n",
       "2    1997    DAS-3         13.98        3              0.1398\n",
       "3    1997    DAS-4          9.59        3              0.0959\n",
       "4    1997    DAS-5          3.20        3              0.0320\n",
       "..    ...      ...           ...      ...                 ...\n",
       "127  2018    DAS-2         23.90        3              0.2390\n",
       "128  2018    DAS-3         21.10        3              0.2110\n",
       "129  2018    DAS-4         21.30        3              0.2130\n",
       "130  2018    DAS-5          9.30        3              0.0930\n",
       "131  2018    DAS-6          1.80        3              0.0180\n",
       "\n",
       "[132 rows x 5 columns]"
      ]
     },
     "execution_count": 17,
     "metadata": {},
     "output_type": "execute_result"
    }
   ],
   "source": [
    "df"
   ]
  },
  {
   "cell_type": "code",
   "execution_count": 9,
   "metadata": {},
   "outputs": [
    {
     "data": {
      "text/plain": [
       "Index(['ano', 'tipo_DAS', 'funcionarios', 'grafico', 'proporcao_vinculos'], dtype='object')"
      ]
     },
     "execution_count": 9,
     "metadata": {},
     "output_type": "execute_result"
    }
   ],
   "source": [
    "df.columns"
   ]
  },
  {
   "cell_type": "code",
   "execution_count": 18,
   "metadata": {},
   "outputs": [],
   "source": [
    "df = df[['ano', 'tipo_DAS', 'proporcao_vinculos']]"
   ]
  },
  {
   "cell_type": "code",
   "execution_count": 20,
   "metadata": {},
   "outputs": [],
   "source": [
    "df = df.rename(columns={'tipo_DAS':'tipo_das'})"
   ]
  },
  {
   "cell_type": "code",
   "execution_count": 12,
   "metadata": {},
   "outputs": [],
   "source": [
    "## Subindo para GBQ\n",
    "\n",
    "client = bigquery.Client()\n",
    "dataset_ref = client.dataset('cargos_lideranca') # verificar a categoria do dado"
   ]
  },
  {
   "cell_type": "code",
   "execution_count": 22,
   "metadata": {},
   "outputs": [],
   "source": [
    "schema=[bigquery.SchemaField('ano','INTEGER',description='Ano de referencia da informacao'),\n",
    " bigquery.SchemaField('tipo_das','STRING',description='Tipo de cargo DAS'),\n",
    " bigquery.SchemaField('proporcao_vinculos','FLOAT',description='Proporção de vínculos em relação a todos os DAS')]"
   ]
  },
  {
   "cell_type": "code",
   "execution_count": 23,
   "metadata": {},
   "outputs": [
    {
     "data": {
      "text/plain": [
       "LoadJob<project=repositoriodedadosgpsp, location=US, id=b3608dcc-2faf-4f64-b2c5-fbfea7447e58>"
      ]
     },
     "execution_count": 23,
     "metadata": {},
     "output_type": "execute_result"
    }
   ],
   "source": [
    "table_ref = dataset_ref.table('SIAPE_das_hierarquico') # nome da tabela no padrão FONTE_algo_intuitivo_dado\n",
    "job_config = bigquery.LoadJobConfig(schema=schema)\n",
    "job = client.load_table_from_dataframe(df, table_ref, job_config=job_config)\n",
    "job.result() "
   ]
  }
 ],
 "metadata": {
  "kernelspec": {
   "display_name": "Python 3",
   "language": "python",
   "name": "python3"
  },
  "language_info": {
   "codemirror_mode": {
    "name": "ipython",
    "version": 3
   },
   "file_extension": ".py",
   "mimetype": "text/x-python",
   "name": "python",
   "nbconvert_exporter": "python",
   "pygments_lexer": "ipython3",
   "version": "3.10.9"
  },
  "orig_nbformat": 4
 },
 "nbformat": 4,
 "nbformat_minor": 2
}
