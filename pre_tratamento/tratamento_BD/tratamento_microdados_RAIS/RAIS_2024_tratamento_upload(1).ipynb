{
 "cells": [
  {
   "cell_type": "markdown",
   "metadata": {
    "id": "ZREgH053s3dn"
   },
   "source": [
    "# Dependências"
   ]
  },
  {
   "cell_type": "code",
   "execution_count": 1,
   "metadata": {
    "colab": {
     "base_uri": "https://localhost:8080/"
    },
    "executionInfo": {
     "elapsed": 37555,
     "status": "ok",
     "timestamp": 1755682300197,
     "user": {
      "displayName": "André Giron",
      "userId": "00393817043803863799"
     },
     "user_tz": 180
    },
    "id": "B_YebrsJ0R6D",
    "outputId": "04319ea2-c354-4eca-eb57-28f4e75b023d"
   },
   "outputs": [],
   "source": [
    "# Install required Google Cloud packages (commented out as these are typically one-time setup commands)\n",
    "#!gcloud auth application-default login\n",
    "\n",
    "# Import necessary Python libraries\n",
    "import pandas as pd                # Data manipulation and analysis\n",
    "import numpy as np                 # Numerical computing\n",
    "import time                        # Time-related functions\n",
    "import os                          # Operating system interfaces\n",
    "import pandas_gbq                  # Pandas integration with BigQuery\n",
    "from google.cloud import bigquery  # BigQuery client library\n",
    "import glob                        # File path pattern matching\n",
    "import csv                         # CSV file handling\n",
    "import re                          # Regular expressions\n",
    "\n",
    "# Note: The actual imports remain exactly as in the original code"
   ]
  },
  {
   "cell_type": "code",
   "execution_count": 2,
   "metadata": {},
   "outputs": [
    {
     "name": "stdout",
     "output_type": "stream",
     "text": [
      "O arquivo tem 22467129 linhas de dados.\n",
      "Cada um dos 10 DataFrames terá aproximadamente 2246713 linhas.\n"
     ]
    },
    {
     "name": "stderr",
     "output_type": "stream",
     "text": [
      "/tmp/ipykernel_3516/1568480725.py:34: DtypeWarning: Columns (49) have mixed types. Specify dtype option on import or set low_memory=False.\n",
      "  df_parte = next(chunk_iter)\n"
     ]
    },
    {
     "name": "stdout",
     "output_type": "stream",
     "text": [
      "DataFrame 1 criado com 2246713 linhas.\n",
      "DataFrame 2 criado com 2246713 linhas.\n",
      "DataFrame 3 criado com 2246713 linhas.\n"
     ]
    },
    {
     "name": "stderr",
     "output_type": "stream",
     "text": [
      "/tmp/ipykernel_3516/1568480725.py:34: DtypeWarning: Columns (5) have mixed types. Specify dtype option on import or set low_memory=False.\n",
      "  df_parte = next(chunk_iter)\n"
     ]
    },
    {
     "name": "stdout",
     "output_type": "stream",
     "text": [
      "DataFrame 4 criado com 2246713 linhas.\n",
      "DataFrame 5 criado com 2246713 linhas.\n",
      "DataFrame 6 criado com 2246713 linhas.\n",
      "DataFrame 7 criado com 2246713 linhas.\n",
      "DataFrame 8 criado com 2246713 linhas.\n",
      "DataFrame 9 criado com 2246713 linhas.\n"
     ]
    },
    {
     "name": "stderr",
     "output_type": "stream",
     "text": [
      "/tmp/ipykernel_3516/1568480725.py:34: DtypeWarning: Columns (49) have mixed types. Specify dtype option on import or set low_memory=False.\n",
      "  df_parte = next(chunk_iter)\n"
     ]
    },
    {
     "name": "stdout",
     "output_type": "stream",
     "text": [
      "DataFrame 10 criado com 2246712 linhas.\n",
      "\n",
      "Cabeçalho do primeiro DataFrame (df1):\n",
      "   id_municipio  tipo_vinculo  vinculo_ativo_3112  tipo_admissao  \\\n",
      "0       3538709            10                   0              0   \n",
      "1       3550308            10                   0              0   \n",
      "2       3534401            10                   0              0   \n",
      "3       3548054            20                   0              0   \n",
      "4       3548054            20                   0              0   \n",
      "\n",
      "   mes_admissao  mes_desligamento  motivo_desligamento  causa_desligamento_1  \\\n",
      "0           NaN                12                   60                  40.0   \n",
      "1           NaN                 1                   11                   NaN   \n",
      "2           NaN                 4                   21                  40.0   \n",
      "3           NaN                 1                   21                   NaN   \n",
      "4           NaN                 1                   21                   NaN   \n",
      "\n",
      "   causa_desligamento_2  causa_desligamento_3  ...  ano_chegada_brasil  \\\n",
      "0                    99                    99  ...                1198   \n",
      "1                    99                    99  ...                1198   \n",
      "2                    99                    99  ...                1198   \n",
      "3                    99                    99  ...                1198   \n",
      "4                    99                    99  ...                1198   \n",
      "\n",
      "   tamanho_estabelecimento  tipo_estabelecimento  natureza_juridica  \\\n",
      "0                        5                     1             2062.0   \n",
      "1                        1                     6                NaN   \n",
      "2                        1                     1             2062.0   \n",
      "3                        7                     1             2054.0   \n",
      "4                        7                     1             2054.0   \n",
      "\n",
      "   indicador_simples  bairros_sp  distritos_sp  bairros_fortaleza  bairros_rj  \\\n",
      "0                  1         NaN           NaN                NaN         NaN   \n",
      "1                  0         NaN           NaN                NaN         NaN   \n",
      "2                  0         NaN           NaN                NaN         NaN   \n",
      "3                  0         NaN           NaN                NaN         NaN   \n",
      "4                  0         NaN           NaN                NaN         NaN   \n",
      "\n",
      "   regioes_administrativas_df  \n",
      "0                         NaN  \n",
      "1                         NaN  \n",
      "2                         NaN  \n",
      "3                         NaN  \n",
      "4                         NaN  \n",
      "\n",
      "[5 rows x 64 columns]\n",
      "\n",
      "Informações do último DataFrame:\n",
      "<class 'pandas.core.frame.DataFrame'>\n",
      "RangeIndex: 2246712 entries, 20220417 to 22467128\n",
      "Data columns (total 64 columns):\n",
      " #   Column                           Dtype  \n",
      "---  ------                           -----  \n",
      " 0   id_municipio                     int64  \n",
      " 1   tipo_vinculo                     int64  \n",
      " 2   vinculo_ativo_3112               int64  \n",
      " 3   tipo_admissao                    int64  \n",
      " 4   mes_admissao                     float64\n",
      " 5   mes_desligamento                 object \n",
      " 6   motivo_desligamento              int64  \n",
      " 7   causa_desligamento_1             float64\n",
      " 8   causa_desligamento_2             int64  \n",
      " 9   causa_desligamento_3             int64  \n",
      " 10  faixa_tempo_emprego              int64  \n",
      " 11  tempo_emprego                    float64\n",
      " 12  faixa_horas_contratadas          int64  \n",
      " 13  quantidade_horas_contratadas     int64  \n",
      " 14  id_municipio_trabalho            float64\n",
      " 15  quantidade_dias_afastamento      int64  \n",
      " 16  indicador_cei_vinculado          int64  \n",
      " 17  indicador_trabalho_parcial       int64  \n",
      " 18  indicador_trabalho_intermitente  int64  \n",
      " 19  faixa_remuneracao_media_sm       int64  \n",
      " 20  valor_remuneracao_media_sm       float64\n",
      " 21  valor_remuneracao_media          float64\n",
      " 22  faixa_remuneracao_dezembro_sm    int64  \n",
      " 23  valor_remuneracao_dezembro_sm    float64\n",
      " 24  valor_remuneracao_janeiro        float64\n",
      " 25  valor_remuneracao_fevereiro      float64\n",
      " 26  valor_remuneracao_marco          float64\n",
      " 27  valor_remuneracao_abril          float64\n",
      " 28  valor_remuneracao_maio           float64\n",
      " 29  valor_remuneracao_junho          float64\n",
      " 30  valor_remuneracao_julho          float64\n",
      " 31  valor_remuneracao_agosto         float64\n",
      " 32  valor_remuneracao_setembro       float64\n",
      " 33  valor_remuneracao_outubro        float64\n",
      " 34  valor_remuneracao_novembro       float64\n",
      " 35  valor_remuneracao_dezembro       float64\n",
      " 36  tipo_salario                     float64\n",
      " 37  valor_salario_contratual         float64\n",
      " 38  subatividade_ibge                float64\n",
      " 39  subsetor_ibge                    int64  \n",
      " 40  cbo_1994                         float64\n",
      " 41  cbo_2002                         int64  \n",
      " 42  cnae_1                           int64  \n",
      " 43  cnae_2                           int64  \n",
      " 44  cnae_2_subclasse                 int64  \n",
      " 45  faixa_etaria                     int64  \n",
      " 46  idade                            int64  \n",
      " 47  grau_instrucao_1985_2005         float64\n",
      " 48  grau_instrucao_apos_2005         int64  \n",
      " 49  nacionalidade                    object \n",
      " 50  sexo                             int64  \n",
      " 51  raca_cor                         int64  \n",
      " 52  indicador_portador_deficiencia   int64  \n",
      " 53  tipo_deficiencia                 int64  \n",
      " 54  ano_chegada_brasil               int64  \n",
      " 55  tamanho_estabelecimento          int64  \n",
      " 56  tipo_estabelecimento             int64  \n",
      " 57  natureza_juridica                float64\n",
      " 58  indicador_simples                int64  \n",
      " 59  bairros_sp                       float64\n",
      " 60  distritos_sp                     float64\n",
      " 61  bairros_fortaleza                float64\n",
      " 62  bairros_rj                       float64\n",
      " 63  regioes_administrativas_df       float64\n",
      "dtypes: float64(30), int64(32), object(2)\n",
      "memory usage: 1.1+ GB\n"
     ]
    }
   ],
   "source": [
    "import pandas as pd\n",
    "import math\n",
    "\n",
    "# Nome do seu arquivo grande\n",
    "nome_arquivo = 'output/ano=2024/sigla_uf=SP/data.csv'\n",
    "numero_de_dataframes = 10\n",
    "\n",
    "# --- Passo 1: Contar o total de linhas eficientemente ---\n",
    "# O 'with open...' garante que o arquivo será fechado corretamente\n",
    "# sum(1 for line in f) é uma forma rápida e com baixo uso de memória para contar linhas\n",
    "with open(nome_arquivo, 'r', encoding='utf-8') as f:\n",
    "    total_linhas = sum(1 for line in f) - 1 # Subtrai 1 para o cabeçalho\n",
    "\n",
    "print(f\"O arquivo tem {total_linhas} linhas de dados.\")\n",
    "\n",
    "# --- Passo 2: Calcular o tamanho de cada pedaço ---\n",
    "# Usamos math.ceil para garantir que todas as linhas sejam incluídas,\n",
    "# mesmo que a divisão não seja perfeita.\n",
    "linhas_por_dataframe = math.ceil(total_linhas / numero_de_dataframes)\n",
    "print(f\"Cada um dos {numero_de_dataframes} DataFrames terá aproximadamente {linhas_por_dataframe} linhas.\")\n",
    "\n",
    "# --- Passo 3: Ler o arquivo e criar a lista de DataFrames ---\n",
    "# Criamos um iterador que vai nos entregar os pedaços (chunks)\n",
    "chunk_iter = pd.read_csv(\n",
    "    nome_arquivo,\n",
    "    chunksize=linhas_por_dataframe,\n",
    "    # Se seu CSV usa outro separador, especifique aqui, ex: sep=';'\n",
    ")\n",
    "\n",
    "# A lista 'lista_de_dataframes' vai conter os 10 DataFrames resultantes\n",
    "lista_de_dataframes = []\n",
    "for i in range(numero_de_dataframes):\n",
    "    try:\n",
    "        df_parte = next(chunk_iter)\n",
    "        lista_de_dataframes.append(df_parte)\n",
    "        print(f\"DataFrame {i+1} criado com {len(df_parte)} linhas.\")\n",
    "    except StopIteration:\n",
    "        # Isso acontece se o último chunk for menor, o que é esperado\n",
    "        break\n",
    "\n",
    "# Agora você tem seus 10 DataFrames na lista\n",
    "# Exemplo: Acessando o primeiro DataFrame\n",
    "df1 = lista_de_dataframes[0]\n",
    "print(\"\\nCabeçalho do primeiro DataFrame (df1):\")\n",
    "print(df1.head())\n",
    "\n",
    "# Exemplo: Acessando o último DataFrame\n",
    "df10 = lista_de_dataframes[-1]\n",
    "print(\"\\nInformações do último DataFrame:\")\n",
    "df10.info()"
   ]
  },
  {
   "cell_type": "markdown",
   "metadata": {
    "id": "ltW8CPEnGsz0"
   },
   "source": [
    "# Tratamento"
   ]
  },
  {
   "cell_type": "code",
   "execution_count": 54,
   "metadata": {
    "executionInfo": {
     "elapsed": 2,
     "status": "ok",
     "timestamp": 1755682005780,
     "user": {
      "displayName": "André Giron",
      "userId": "00393817043803863799"
     },
     "user_tz": 180
    },
    "id": "hjn-psKEU9mG"
   },
   "outputs": [
    {
     "name": "stderr",
     "output_type": "stream",
     "text": [
      "/tmp/ipykernel_7782/1892024487.py:1: DtypeWarning: Columns (5) have mixed types. Specify dtype option on import or set low_memory=False.\n",
      "  df = pd.read_csv('output/ano=2024/sigla_uf=TO/data.csv')\n"
     ]
    }
   ],
   "source": [
    "df = pd.read_csv('output/ano=2024/sigla_uf=TO/data.csv')"
   ]
  },
  {
   "cell_type": "code",
   "execution_count": 55,
   "metadata": {
    "executionInfo": {
     "elapsed": 4,
     "status": "ok",
     "timestamp": 1755682005794,
     "user": {
      "displayName": "André Giron",
      "userId": "00393817043803863799"
     },
     "user_tz": 180
    },
    "id": "s5BLp57Bk3UQ"
   },
   "outputs": [],
   "source": [
    "df_uf = pd.read_csv('sigla_uf.csv')"
   ]
  },
  {
   "cell_type": "code",
   "execution_count": 56,
   "metadata": {
    "colab": {
     "base_uri": "https://localhost:8080/",
     "height": 256
    },
    "executionInfo": {
     "elapsed": 932,
     "status": "ok",
     "timestamp": 1755682006729,
     "user": {
      "displayName": "André Giron",
      "userId": "00393817043803863799"
     },
     "user_tz": 180
    },
    "id": "89upp11Jmn_K",
    "outputId": "2189341d-3d16-4073-c839-6084f6169220"
   },
   "outputs": [
    {
     "data": {
      "text/html": [
       "<div>\n",
       "<style scoped>\n",
       "    .dataframe tbody tr th:only-of-type {\n",
       "        vertical-align: middle;\n",
       "    }\n",
       "\n",
       "    .dataframe tbody tr th {\n",
       "        vertical-align: top;\n",
       "    }\n",
       "\n",
       "    .dataframe thead th {\n",
       "        text-align: right;\n",
       "    }\n",
       "</style>\n",
       "<table border=\"1\" class=\"dataframe\">\n",
       "  <thead>\n",
       "    <tr style=\"text-align: right;\">\n",
       "      <th></th>\n",
       "      <th>id_municipio</th>\n",
       "      <th>tipo_vinculo</th>\n",
       "      <th>vinculo_ativo_3112</th>\n",
       "      <th>tipo_admissao</th>\n",
       "      <th>mes_admissao</th>\n",
       "      <th>mes_desligamento</th>\n",
       "      <th>motivo_desligamento</th>\n",
       "      <th>causa_desligamento_1</th>\n",
       "      <th>causa_desligamento_2</th>\n",
       "      <th>causa_desligamento_3</th>\n",
       "      <th>...</th>\n",
       "      <th>ano_chegada_brasil</th>\n",
       "      <th>tamanho_estabelecimento</th>\n",
       "      <th>tipo_estabelecimento</th>\n",
       "      <th>natureza_juridica</th>\n",
       "      <th>indicador_simples</th>\n",
       "      <th>bairros_sp</th>\n",
       "      <th>distritos_sp</th>\n",
       "      <th>bairros_fortaleza</th>\n",
       "      <th>bairros_rj</th>\n",
       "      <th>regioes_administrativas_df</th>\n",
       "    </tr>\n",
       "  </thead>\n",
       "  <tbody>\n",
       "    <tr>\n",
       "      <th>0</th>\n",
       "      <td>1714203</td>\n",
       "      <td>25</td>\n",
       "      <td>0</td>\n",
       "      <td>0</td>\n",
       "      <td>NaN</td>\n",
       "      <td>1</td>\n",
       "      <td>11</td>\n",
       "      <td>NaN</td>\n",
       "      <td>99</td>\n",
       "      <td>99</td>\n",
       "      <td>...</td>\n",
       "      <td>1198</td>\n",
       "      <td>2</td>\n",
       "      <td>5</td>\n",
       "      <td>NaN</td>\n",
       "      <td>0</td>\n",
       "      <td>NaN</td>\n",
       "      <td>NaN</td>\n",
       "      <td>NaN</td>\n",
       "      <td>NaN</td>\n",
       "      <td>NaN</td>\n",
       "    </tr>\n",
       "    <tr>\n",
       "      <th>1</th>\n",
       "      <td>1721000</td>\n",
       "      <td>10</td>\n",
       "      <td>0</td>\n",
       "      <td>0</td>\n",
       "      <td>NaN</td>\n",
       "      <td>1</td>\n",
       "      <td>11</td>\n",
       "      <td>NaN</td>\n",
       "      <td>99</td>\n",
       "      <td>99</td>\n",
       "      <td>...</td>\n",
       "      <td>1198</td>\n",
       "      <td>2</td>\n",
       "      <td>1</td>\n",
       "      <td>2062.0</td>\n",
       "      <td>1</td>\n",
       "      <td>NaN</td>\n",
       "      <td>NaN</td>\n",
       "      <td>NaN</td>\n",
       "      <td>NaN</td>\n",
       "      <td>NaN</td>\n",
       "    </tr>\n",
       "    <tr>\n",
       "      <th>2</th>\n",
       "      <td>1718501</td>\n",
       "      <td>60</td>\n",
       "      <td>0</td>\n",
       "      <td>2</td>\n",
       "      <td>8.0</td>\n",
       "      <td>8</td>\n",
       "      <td>11</td>\n",
       "      <td>NaN</td>\n",
       "      <td>99</td>\n",
       "      <td>99</td>\n",
       "      <td>...</td>\n",
       "      <td>1198</td>\n",
       "      <td>6</td>\n",
       "      <td>6</td>\n",
       "      <td>NaN</td>\n",
       "      <td>0</td>\n",
       "      <td>NaN</td>\n",
       "      <td>NaN</td>\n",
       "      <td>NaN</td>\n",
       "      <td>NaN</td>\n",
       "      <td>NaN</td>\n",
       "    </tr>\n",
       "    <tr>\n",
       "      <th>3</th>\n",
       "      <td>1718501</td>\n",
       "      <td>60</td>\n",
       "      <td>0</td>\n",
       "      <td>2</td>\n",
       "      <td>8.0</td>\n",
       "      <td>8</td>\n",
       "      <td>11</td>\n",
       "      <td>NaN</td>\n",
       "      <td>99</td>\n",
       "      <td>99</td>\n",
       "      <td>...</td>\n",
       "      <td>1198</td>\n",
       "      <td>6</td>\n",
       "      <td>6</td>\n",
       "      <td>NaN</td>\n",
       "      <td>0</td>\n",
       "      <td>NaN</td>\n",
       "      <td>NaN</td>\n",
       "      <td>NaN</td>\n",
       "      <td>NaN</td>\n",
       "      <td>NaN</td>\n",
       "    </tr>\n",
       "    <tr>\n",
       "      <th>4</th>\n",
       "      <td>1718204</td>\n",
       "      <td>70</td>\n",
       "      <td>0</td>\n",
       "      <td>0</td>\n",
       "      <td>NaN</td>\n",
       "      <td>1</td>\n",
       "      <td>12</td>\n",
       "      <td>NaN</td>\n",
       "      <td>99</td>\n",
       "      <td>99</td>\n",
       "      <td>...</td>\n",
       "      <td>1198</td>\n",
       "      <td>7</td>\n",
       "      <td>1</td>\n",
       "      <td>2054.0</td>\n",
       "      <td>0</td>\n",
       "      <td>NaN</td>\n",
       "      <td>NaN</td>\n",
       "      <td>NaN</td>\n",
       "      <td>NaN</td>\n",
       "      <td>NaN</td>\n",
       "    </tr>\n",
       "  </tbody>\n",
       "</table>\n",
       "<p>5 rows × 64 columns</p>\n",
       "</div>"
      ],
      "text/plain": [
       "   id_municipio  tipo_vinculo  vinculo_ativo_3112  tipo_admissao  \\\n",
       "0       1714203            25                   0              0   \n",
       "1       1721000            10                   0              0   \n",
       "2       1718501            60                   0              2   \n",
       "3       1718501            60                   0              2   \n",
       "4       1718204            70                   0              0   \n",
       "\n",
       "   mes_admissao mes_desligamento  motivo_desligamento  causa_desligamento_1  \\\n",
       "0           NaN                1                   11                   NaN   \n",
       "1           NaN                1                   11                   NaN   \n",
       "2           8.0                8                   11                   NaN   \n",
       "3           8.0                8                   11                   NaN   \n",
       "4           NaN                1                   12                   NaN   \n",
       "\n",
       "   causa_desligamento_2  causa_desligamento_3  ...  ano_chegada_brasil  \\\n",
       "0                    99                    99  ...                1198   \n",
       "1                    99                    99  ...                1198   \n",
       "2                    99                    99  ...                1198   \n",
       "3                    99                    99  ...                1198   \n",
       "4                    99                    99  ...                1198   \n",
       "\n",
       "   tamanho_estabelecimento  tipo_estabelecimento  natureza_juridica  \\\n",
       "0                        2                     5                NaN   \n",
       "1                        2                     1             2062.0   \n",
       "2                        6                     6                NaN   \n",
       "3                        6                     6                NaN   \n",
       "4                        7                     1             2054.0   \n",
       "\n",
       "   indicador_simples  bairros_sp  distritos_sp  bairros_fortaleza  bairros_rj  \\\n",
       "0                  0         NaN           NaN                NaN         NaN   \n",
       "1                  1         NaN           NaN                NaN         NaN   \n",
       "2                  0         NaN           NaN                NaN         NaN   \n",
       "3                  0         NaN           NaN                NaN         NaN   \n",
       "4                  0         NaN           NaN                NaN         NaN   \n",
       "\n",
       "   regioes_administrativas_df  \n",
       "0                         NaN  \n",
       "1                         NaN  \n",
       "2                         NaN  \n",
       "3                         NaN  \n",
       "4                         NaN  \n",
       "\n",
       "[5 rows x 64 columns]"
      ]
     },
     "execution_count": 56,
     "metadata": {},
     "output_type": "execute_result"
    }
   ],
   "source": [
    "df1 = df.merge(df_uf[['id_municipio', 'sigla_uf']], on='id_municipio', how='left')\n",
    "\n",
    "# Mostrar o resultado\n",
    "df.head()"
   ]
  },
  {
   "cell_type": "code",
   "execution_count": 57,
   "metadata": {
    "colab": {
     "base_uri": "https://localhost:8080/"
    },
    "executionInfo": {
     "elapsed": 1257,
     "status": "ok",
     "timestamp": 1755682007990,
     "user": {
      "displayName": "André Giron",
      "userId": "00393817043803863799"
     },
     "user_tz": 180
    },
    "id": "e_i8z3vlm1js",
    "outputId": "c7890c73-7924-4904-ca7f-f74b4ab0776b"
   },
   "outputs": [
    {
     "name": "stdout",
     "output_type": "stream",
     "text": [
      "<class 'pandas.core.frame.DataFrame'>\n",
      "RangeIndex: 368274 entries, 0 to 368273\n",
      "Data columns (total 65 columns):\n",
      " #   Column                           Non-Null Count   Dtype  \n",
      "---  ------                           --------------   -----  \n",
      " 0   id_municipio                     368274 non-null  int64  \n",
      " 1   tipo_vinculo                     368274 non-null  int64  \n",
      " 2   vinculo_ativo_3112               368274 non-null  int64  \n",
      " 3   tipo_admissao                    368274 non-null  int64  \n",
      " 4   mes_admissao                     150207 non-null  float64\n",
      " 5   mes_desligamento                 368274 non-null  object \n",
      " 6   motivo_desligamento              368274 non-null  int64  \n",
      " 7   causa_desligamento_1             50163 non-null   float64\n",
      " 8   causa_desligamento_2             368274 non-null  int64  \n",
      " 9   causa_desligamento_3             368274 non-null  int64  \n",
      " 10  faixa_tempo_emprego              368274 non-null  int64  \n",
      " 11  tempo_emprego                    368274 non-null  float64\n",
      " 12  faixa_horas_contratadas          368274 non-null  int64  \n",
      " 13  quantidade_horas_contratadas     368274 non-null  int64  \n",
      " 14  id_municipio_trabalho            367556 non-null  float64\n",
      " 15  quantidade_dias_afastamento      368274 non-null  int64  \n",
      " 16  indicador_cei_vinculado          368274 non-null  int64  \n",
      " 17  indicador_trabalho_parcial       368274 non-null  int64  \n",
      " 18  indicador_trabalho_intermitente  368274 non-null  int64  \n",
      " 19  faixa_remuneracao_media_sm       368274 non-null  int64  \n",
      " 20  valor_remuneracao_media_sm       368274 non-null  float64\n",
      " 21  valor_remuneracao_media          368274 non-null  float64\n",
      " 22  faixa_remuneracao_dezembro_sm    368274 non-null  int64  \n",
      " 23  valor_remuneracao_dezembro_sm    368274 non-null  float64\n",
      " 24  valor_remuneracao_janeiro        207544 non-null  float64\n",
      " 25  valor_remuneracao_fevereiro      209777 non-null  float64\n",
      " 26  valor_remuneracao_marco          211376 non-null  float64\n",
      " 27  valor_remuneracao_abril          212747 non-null  float64\n",
      " 28  valor_remuneracao_maio           213663 non-null  float64\n",
      " 29  valor_remuneracao_junho          214081 non-null  float64\n",
      " 30  valor_remuneracao_julho          214560 non-null  float64\n",
      " 31  valor_remuneracao_agosto         215439 non-null  float64\n",
      " 32  valor_remuneracao_setembro       214765 non-null  float64\n",
      " 33  valor_remuneracao_outubro        217711 non-null  float64\n",
      " 34  valor_remuneracao_novembro       216610 non-null  float64\n",
      " 35  valor_remuneracao_dezembro       368274 non-null  float64\n",
      " 36  tipo_salario                     0 non-null       float64\n",
      " 37  valor_salario_contratual         0 non-null       float64\n",
      " 38  subatividade_ibge                0 non-null       float64\n",
      " 39  subsetor_ibge                    368274 non-null  int64  \n",
      " 40  cbo_1994                         0 non-null       float64\n",
      " 41  cbo_2002                         368274 non-null  int64  \n",
      " 42  cnae_1                           368274 non-null  int64  \n",
      " 43  cnae_2                           368274 non-null  int64  \n",
      " 44  cnae_2_subclasse                 368274 non-null  int64  \n",
      " 45  faixa_etaria                     368274 non-null  int64  \n",
      " 46  idade                            368274 non-null  int64  \n",
      " 47  grau_instrucao_1985_2005         0 non-null       float64\n",
      " 48  grau_instrucao_apos_2005         368274 non-null  int64  \n",
      " 49  nacionalidade                    368274 non-null  int64  \n",
      " 50  sexo                             368274 non-null  int64  \n",
      " 51  raca_cor                         368274 non-null  int64  \n",
      " 52  indicador_portador_deficiencia   368274 non-null  int64  \n",
      " 53  tipo_deficiencia                 368274 non-null  int64  \n",
      " 54  ano_chegada_brasil               368274 non-null  int64  \n",
      " 55  tamanho_estabelecimento          368274 non-null  int64  \n",
      " 56  tipo_estabelecimento             368274 non-null  int64  \n",
      " 57  natureza_juridica                326256 non-null  float64\n",
      " 58  indicador_simples                368274 non-null  int64  \n",
      " 59  bairros_sp                       0 non-null       float64\n",
      " 60  distritos_sp                     0 non-null       float64\n",
      " 61  bairros_fortaleza                0 non-null       float64\n",
      " 62  bairros_rj                       0 non-null       float64\n",
      " 63  regioes_administrativas_df       0 non-null       float64\n",
      " 64  sigla_uf                         368274 non-null  object \n",
      "dtypes: float64(30), int64(33), object(2)\n",
      "memory usage: 182.6+ MB\n"
     ]
    }
   ],
   "source": [
    "df1.info()"
   ]
  },
  {
   "cell_type": "code",
   "execution_count": 58,
   "metadata": {
    "executionInfo": {
     "elapsed": 3,
     "status": "ok",
     "timestamp": 1755682007995,
     "user": {
      "displayName": "André Giron",
      "userId": "00393817043803863799"
     },
     "user_tz": 180
    },
    "id": "3gfmTjp1m2oy"
   },
   "outputs": [],
   "source": [
    "df1['ano'] = 2024  # Adiciona a coluna 'ano' com valor 2024 em todas as linhas"
   ]
  },
  {
   "cell_type": "code",
   "execution_count": 59,
   "metadata": {
    "colab": {
     "base_uri": "https://localhost:8080/"
    },
    "executionInfo": {
     "elapsed": 10,
     "status": "ok",
     "timestamp": 1755682008008,
     "user": {
      "displayName": "André Giron",
      "userId": "00393817043803863799"
     },
     "user_tz": 180
    },
    "id": "f3LDZm79SQCe",
    "outputId": "ce657ed4-9652-45e4-9e97-9042996c0f6f"
   },
   "outputs": [
    {
     "name": "stdout",
     "output_type": "stream",
     "text": [
      "id_municipio                    int64\n",
      "tipo_vinculo                    int64\n",
      "vinculo_ativo_3112              int64\n",
      "tipo_admissao                   int64\n",
      "mes_admissao                  float64\n",
      "                               ...   \n",
      "bairros_fortaleza             float64\n",
      "bairros_rj                    float64\n",
      "regioes_administrativas_df    float64\n",
      "sigla_uf                       object\n",
      "ano                             int64\n",
      "Length: 66, dtype: object\n"
     ]
    }
   ],
   "source": [
    "print(df1.dtypes)"
   ]
  },
  {
   "cell_type": "code",
   "execution_count": 60,
   "metadata": {
    "colab": {
     "base_uri": "https://localhost:8080/"
    },
    "executionInfo": {
     "elapsed": 5,
     "status": "ok",
     "timestamp": 1755682008014,
     "user": {
      "displayName": "André Giron",
      "userId": "00393817043803863799"
     },
     "user_tz": 180
    },
    "id": "VbK5Gnlrnkx7",
    "outputId": "34d448f5-1aea-4f26-a419-877a5aa14c7b"
   },
   "outputs": [
    {
     "name": "stdout",
     "output_type": "stream",
     "text": [
      "<class 'pandas.core.frame.DataFrame'>\n",
      "RangeIndex: 368274 entries, 0 to 368273\n",
      "Data columns (total 66 columns):\n",
      " #   Column                           Non-Null Count   Dtype  \n",
      "---  ------                           --------------   -----  \n",
      " 0   id_municipio                     368274 non-null  int64  \n",
      " 1   tipo_vinculo                     368274 non-null  int64  \n",
      " 2   vinculo_ativo_3112               368274 non-null  int64  \n",
      " 3   tipo_admissao                    368274 non-null  int64  \n",
      " 4   mes_admissao                     150207 non-null  float64\n",
      " 5   mes_desligamento                 368274 non-null  object \n",
      " 6   motivo_desligamento              368274 non-null  int64  \n",
      " 7   causa_desligamento_1             50163 non-null   float64\n",
      " 8   causa_desligamento_2             368274 non-null  int64  \n",
      " 9   causa_desligamento_3             368274 non-null  int64  \n",
      " 10  faixa_tempo_emprego              368274 non-null  int64  \n",
      " 11  tempo_emprego                    368274 non-null  float64\n",
      " 12  faixa_horas_contratadas          368274 non-null  int64  \n",
      " 13  quantidade_horas_contratadas     368274 non-null  int64  \n",
      " 14  id_municipio_trabalho            367556 non-null  float64\n",
      " 15  quantidade_dias_afastamento      368274 non-null  int64  \n",
      " 16  indicador_cei_vinculado          368274 non-null  int64  \n",
      " 17  indicador_trabalho_parcial       368274 non-null  int64  \n",
      " 18  indicador_trabalho_intermitente  368274 non-null  int64  \n",
      " 19  faixa_remuneracao_media_sm       368274 non-null  int64  \n",
      " 20  valor_remuneracao_media_sm       368274 non-null  float64\n",
      " 21  valor_remuneracao_media          368274 non-null  float64\n",
      " 22  faixa_remuneracao_dezembro_sm    368274 non-null  int64  \n",
      " 23  valor_remuneracao_dezembro_sm    368274 non-null  float64\n",
      " 24  valor_remuneracao_janeiro        207544 non-null  float64\n",
      " 25  valor_remuneracao_fevereiro      209777 non-null  float64\n",
      " 26  valor_remuneracao_marco          211376 non-null  float64\n",
      " 27  valor_remuneracao_abril          212747 non-null  float64\n",
      " 28  valor_remuneracao_maio           213663 non-null  float64\n",
      " 29  valor_remuneracao_junho          214081 non-null  float64\n",
      " 30  valor_remuneracao_julho          214560 non-null  float64\n",
      " 31  valor_remuneracao_agosto         215439 non-null  float64\n",
      " 32  valor_remuneracao_setembro       214765 non-null  float64\n",
      " 33  valor_remuneracao_outubro        217711 non-null  float64\n",
      " 34  valor_remuneracao_novembro       216610 non-null  float64\n",
      " 35  valor_remuneracao_dezembro       368274 non-null  float64\n",
      " 36  tipo_salario                     0 non-null       float64\n",
      " 37  valor_salario_contratual         0 non-null       float64\n",
      " 38  subatividade_ibge                0 non-null       float64\n",
      " 39  subsetor_ibge                    368274 non-null  int64  \n",
      " 40  cbo_1994                         0 non-null       float64\n",
      " 41  cbo_2002                         368274 non-null  int64  \n",
      " 42  cnae_1                           368274 non-null  int64  \n",
      " 43  cnae_2                           368274 non-null  int64  \n",
      " 44  cnae_2_subclasse                 368274 non-null  int64  \n",
      " 45  faixa_etaria                     368274 non-null  int64  \n",
      " 46  idade                            368274 non-null  int64  \n",
      " 47  grau_instrucao_1985_2005         0 non-null       float64\n",
      " 48  grau_instrucao_apos_2005         368274 non-null  int64  \n",
      " 49  nacionalidade                    368274 non-null  int64  \n",
      " 50  sexo                             368274 non-null  int64  \n",
      " 51  raca_cor                         368274 non-null  int64  \n",
      " 52  indicador_portador_deficiencia   368274 non-null  int64  \n",
      " 53  tipo_deficiencia                 368274 non-null  int64  \n",
      " 54  ano_chegada_brasil               368274 non-null  int64  \n",
      " 55  tamanho_estabelecimento          368274 non-null  int64  \n",
      " 56  tipo_estabelecimento             368274 non-null  int64  \n",
      " 57  natureza_juridica                326256 non-null  float64\n",
      " 58  indicador_simples                368274 non-null  int64  \n",
      " 59  bairros_sp                       0 non-null       float64\n",
      " 60  distritos_sp                     0 non-null       float64\n",
      " 61  bairros_fortaleza                0 non-null       float64\n",
      " 62  bairros_rj                       0 non-null       float64\n",
      " 63  regioes_administrativas_df       0 non-null       float64\n",
      " 64  sigla_uf                         368274 non-null  object \n",
      " 65  ano                              368274 non-null  int64  \n",
      "dtypes: float64(30), int64(34), object(2)\n",
      "memory usage: 185.4+ MB\n"
     ]
    }
   ],
   "source": [
    "df1.info()"
   ]
  },
  {
   "cell_type": "code",
   "execution_count": 61,
   "metadata": {
    "colab": {
     "base_uri": "https://localhost:8080/"
    },
    "executionInfo": {
     "elapsed": 6,
     "status": "ok",
     "timestamp": 1755682008022,
     "user": {
      "displayName": "André Giron",
      "userId": "00393817043803863799"
     },
     "user_tz": 180
    },
    "id": "lzv5dznOTUvw",
    "outputId": "e9bb40bf-a6b4-45ee-ca9b-4eff29cda902"
   },
   "outputs": [
    {
     "data": {
      "text/plain": [
       "array([     nan,  2410.2 ,  1718.76, ..., 15202.78,  9643.91,  2787.65],\n",
       "      shape=(104669,))"
      ]
     },
     "execution_count": 61,
     "metadata": {},
     "output_type": "execute_result"
    }
   ],
   "source": [
    "df1['valor_remuneracao_fevereiro'].unique()"
   ]
  },
  {
   "cell_type": "code",
   "execution_count": 62,
   "metadata": {
    "executionInfo": {
     "elapsed": 595,
     "status": "ok",
     "timestamp": 1755682008618,
     "user": {
      "displayName": "André Giron",
      "userId": "00393817043803863799"
     },
     "user_tz": 180
    },
    "id": "5izaCKrvUgc-"
   },
   "outputs": [],
   "source": [
    "import pandas as pd\n",
    "import numpy as np\n",
    "\n",
    "# Supondo que sua coluna se chame 'codigo' (substitua pelo nome real)\n",
    "def clean_column(df, column_name):\n",
    "    \"\"\"\n",
    "    Limpa uma coluna com valores mistos:\n",
    "    1. Remove o valor inválido '{ñ'\n",
    "    2. Converte strings numéricas para inteiros\n",
    "    3. Mantém valores numéricos originais\n",
    "    4. Retorna a coluna padronizada\n",
    "    \"\"\"\n",
    "    # Passo 1: Converter tudo para string e remover o valor inválido\n",
    "    cleaned = df[column_name].astype(str).replace('{ñ', np.nan)\n",
    "\n",
    "    # Passo 2: Converter strings numéricas para inteiros\n",
    "    cleaned = pd.to_numeric(cleaned, errors='coerce').astype('Int64')\n",
    "\n",
    "    # Passo 3: Atualizar a coluna no DataFrame original\n",
    "    df[column_name] = cleaned\n",
    "\n",
    "    return df\n",
    "\n",
    "# Aplicando a função\n",
    "df1 = clean_column(df1, 'mes_desligamento')  # Substitua pelo nome real da coluna"
   ]
  },
  {
   "cell_type": "code",
   "execution_count": 63,
   "metadata": {
    "colab": {
     "base_uri": "https://localhost:8080/"
    },
    "executionInfo": {
     "elapsed": 11,
     "status": "ok",
     "timestamp": 1755682008631,
     "user": {
      "displayName": "André Giron",
      "userId": "00393817043803863799"
     },
     "user_tz": 180
    },
    "id": "DtV2HzBxV5oN",
    "outputId": "e940a499-4b68-4521-8650-6665d03b3c88"
   },
   "outputs": [
    {
     "data": {
      "text/plain": [
       "<IntegerArray>\n",
       "[1, 8, 5, 12, 4, 3, 10, 6, 2, 7, 11, 9, <NA>]\n",
       "Length: 13, dtype: Int64"
      ]
     },
     "execution_count": 63,
     "metadata": {},
     "output_type": "execute_result"
    }
   ],
   "source": [
    "df1['mes_desligamento'].unique()\n",
    "#NA é nulo"
   ]
  },
  {
   "cell_type": "code",
   "execution_count": 64,
   "metadata": {
    "colab": {
     "base_uri": "https://localhost:8080/"
    },
    "executionInfo": {
     "elapsed": 5,
     "status": "ok",
     "timestamp": 1755682008638,
     "user": {
      "displayName": "André Giron",
      "userId": "00393817043803863799"
     },
     "user_tz": 180
    },
    "id": "VIb98bNyWN3M",
    "outputId": "b27f00b6-87b6-4bd7-9ef1-517e3deb7c03"
   },
   "outputs": [
    {
     "data": {
      "text/plain": [
       "array([10, 26, 28, 27, 49, 24, 70, 54, 51, 35, 22, 45, 41, 42, 39, 80, 21,\n",
       "       55, 31, 25, 40, 30, 23, 60, 36, 52, 37, 48])"
      ]
     },
     "execution_count": 64,
     "metadata": {},
     "output_type": "execute_result"
    }
   ],
   "source": [
    "df1['nacionalidade'].unique()"
   ]
  },
  {
   "cell_type": "code",
   "execution_count": 65,
   "metadata": {
    "executionInfo": {
     "elapsed": 1665,
     "status": "ok",
     "timestamp": 1755682010304,
     "user": {
      "displayName": "André Giron",
      "userId": "00393817043803863799"
     },
     "user_tz": 180
    },
    "id": "jjjat--UWVdF"
   },
   "outputs": [],
   "source": [
    "df1 = clean_column(df1, 'nacionalidade')  # Substitua pelo nome real da coluna"
   ]
  },
  {
   "cell_type": "code",
   "execution_count": 66,
   "metadata": {
    "colab": {
     "base_uri": "https://localhost:8080/"
    },
    "executionInfo": {
     "elapsed": 17,
     "status": "ok",
     "timestamp": 1755682010328,
     "user": {
      "displayName": "André Giron",
      "userId": "00393817043803863799"
     },
     "user_tz": 180
    },
    "id": "Y3OtZJThWajs",
    "outputId": "2605393c-3fcb-4585-8e21-86d54aa61777"
   },
   "outputs": [
    {
     "data": {
      "text/plain": [
       "<IntegerArray>\n",
       "[10, 26, 28, 27, 49, 24, 70, 54, 51, 35, 22, 45, 41, 42, 39, 80, 21, 55, 31,\n",
       " 25, 40, 30, 23, 60, 36, 52, 37, 48]\n",
       "Length: 28, dtype: Int64"
      ]
     },
     "execution_count": 66,
     "metadata": {},
     "output_type": "execute_result"
    }
   ],
   "source": [
    "df1['nacionalidade'].unique()"
   ]
  },
  {
   "cell_type": "code",
   "execution_count": 67,
   "metadata": {
    "executionInfo": {
     "elapsed": 13,
     "status": "ok",
     "timestamp": 1755682010340,
     "user": {
      "displayName": "André Giron",
      "userId": "00393817043803863799"
     },
     "user_tz": 180
    },
    "id": "aKR_PYYHXf3-"
   },
   "outputs": [],
   "source": [
    "df1['nacionalidade'] = pd.to_numeric(df1['nacionalidade'], errors='coerce').astype('Int64')"
   ]
  },
  {
   "cell_type": "code",
   "execution_count": 68,
   "metadata": {
    "executionInfo": {
     "elapsed": 6,
     "status": "ok",
     "timestamp": 1755682010345,
     "user": {
      "displayName": "André Giron",
      "userId": "00393817043803863799"
     },
     "user_tz": 180
    },
    "id": "Ozv41CpeXiAt"
   },
   "outputs": [],
   "source": [
    "df1['nacionalidade'] = pd.to_numeric(df1['nacionalidade'], errors='coerce').astype('Int64')"
   ]
  },
  {
   "cell_type": "code",
   "execution_count": 69,
   "metadata": {
    "executionInfo": {
     "elapsed": 4,
     "status": "ok",
     "timestamp": 1755682010357,
     "user": {
      "displayName": "André Giron",
      "userId": "00393817043803863799"
     },
     "user_tz": 180
    },
    "id": "eQkEuKHZX7p9"
   },
   "outputs": [],
   "source": [
    "df1['motivo_desligamento'] = pd.to_numeric(df1['motivo_desligamento'], errors='coerce').astype('Int64')"
   ]
  },
  {
   "cell_type": "code",
   "execution_count": 70,
   "metadata": {
    "colab": {
     "base_uri": "https://localhost:8080/"
    },
    "executionInfo": {
     "elapsed": 11,
     "status": "ok",
     "timestamp": 1755682010371,
     "user": {
      "displayName": "André Giron",
      "userId": "00393817043803863799"
     },
     "user_tz": 180
    },
    "id": "AIPxC5t2Xx_G",
    "outputId": "2591751f-52f7-4109-ec8e-0c905105749e"
   },
   "outputs": [
    {
     "data": {
      "text/plain": [
       "<IntegerArray>\n",
       "[11, 12, 21, 31, 10, 89, 60, 20, 0]\n",
       "Length: 9, dtype: Int64"
      ]
     },
     "execution_count": 70,
     "metadata": {},
     "output_type": "execute_result"
    }
   ],
   "source": [
    "df1['motivo_desligamento'].unique()\n",
    "#NA é nulo"
   ]
  },
  {
   "cell_type": "code",
   "execution_count": 71,
   "metadata": {
    "executionInfo": {
     "elapsed": 3217,
     "status": "ok",
     "timestamp": 1755682013591,
     "user": {
      "displayName": "André Giron",
      "userId": "00393817043803863799"
     },
     "user_tz": 180
    },
    "id": "hFA7tTarYRtt"
   },
   "outputs": [],
   "source": [
    "def fix_columns(df):\n",
    "    # Colunas que devem ser strings (códigos categóricos)\n",
    "    string_cols = ['mes_desligamento', 'motivo_desligamento', 'tipo_vinculo', 'sigla_uf', 'faixa_remuneracao_media_sm']\n",
    "\n",
    "    for col in string_cols:\n",
    "        if col in df.columns:\n",
    "            # Converte para string, tratando nulos e valores inválidos\n",
    "            df[col] = df[col].astype(str).replace(['nan', 'None', '<NA>'], np.nan)\n",
    "\n",
    "    # Colunas numéricas que devem manter decimais\n",
    "    float_cols = ['valor_remuneracao_media', 'tempo_emprego']\n",
    "    for col in float_cols:\n",
    "        if col in df.columns:\n",
    "            df[col] = pd.to_numeric(df[col], errors='coerce')\n",
    "\n",
    "    return df\n",
    "\n",
    "# 3. Aplicar as correções\n",
    "df1 = fix_columns(df1)"
   ]
  },
  {
   "cell_type": "code",
   "execution_count": 72,
   "metadata": {
    "colab": {
     "base_uri": "https://localhost:8080/"
    },
    "executionInfo": {
     "elapsed": 8,
     "status": "ok",
     "timestamp": 1755682013596,
     "user": {
      "displayName": "André Giron",
      "userId": "00393817043803863799"
     },
     "user_tz": 180
    },
    "id": "2QFETiUcYXns",
    "outputId": "07867963-8230-410f-c63e-0b465be13c7e"
   },
   "outputs": [
    {
     "data": {
      "text/plain": [
       "array(['98', '1', '0', '2', '3', '4', '5', '6', '7', '8', '9', '10', '11'],\n",
       "      dtype=object)"
      ]
     },
     "execution_count": 72,
     "metadata": {},
     "output_type": "execute_result"
    }
   ],
   "source": [
    "df1['faixa_remuneracao_media_sm'].unique()"
   ]
  },
  {
   "cell_type": "code",
   "execution_count": 73,
   "metadata": {
    "colab": {
     "base_uri": "https://localhost:8080/"
    },
    "executionInfo": {
     "elapsed": 10,
     "status": "ok",
     "timestamp": 1755682013607,
     "user": {
      "displayName": "André Giron",
      "userId": "00393817043803863799"
     },
     "user_tz": 180
    },
    "id": "eLRRpHnZZspE",
    "outputId": "9bdff709-fb48-4761-8482-52eacb94de6b"
   },
   "outputs": [
    {
     "data": {
      "text/plain": [
       "array([0, 2, 4, 6])"
      ]
     },
     "execution_count": 73,
     "metadata": {},
     "output_type": "execute_result"
    }
   ],
   "source": [
    "df1['tipo_admissao'].unique()"
   ]
  },
  {
   "cell_type": "code",
   "execution_count": 74,
   "metadata": {
    "colab": {
     "base_uri": "https://localhost:8080/"
    },
    "executionInfo": {
     "elapsed": 5,
     "status": "ok",
     "timestamp": 1755682013614,
     "user": {
      "displayName": "André Giron",
      "userId": "00393817043803863799"
     },
     "user_tz": 180
    },
    "id": "KF9FcoAUaCrj",
    "outputId": "00e9e6a7-937f-4003-ad1b-bb6dfca4431b"
   },
   "outputs": [
    {
     "data": {
      "text/plain": [
       "array([nan])"
      ]
     },
     "execution_count": 74,
     "metadata": {},
     "output_type": "execute_result"
    }
   ],
   "source": [
    "df1['bairros_sp'].unique()"
   ]
  },
  {
   "cell_type": "code",
   "execution_count": 75,
   "metadata": {
    "colab": {
     "base_uri": "https://localhost:8080/"
    },
    "executionInfo": {
     "elapsed": 483,
     "status": "ok",
     "timestamp": 1755682014099,
     "user": {
      "displayName": "André Giron",
      "userId": "00393817043803863799"
     },
     "user_tz": 180
    },
    "id": "9mr_zYRPsr8H",
    "outputId": "b3d7558e-d624-4971-a4f8-df7c18d1a0a5"
   },
   "outputs": [
    {
     "name": "stdout",
     "output_type": "stream",
     "text": [
      "<class 'pandas.core.frame.DataFrame'>\n",
      "RangeIndex: 368274 entries, 0 to 368273\n",
      "Data columns (total 66 columns):\n",
      " #   Column                           Non-Null Count   Dtype  \n",
      "---  ------                           --------------   -----  \n",
      " 0   id_municipio                     368274 non-null  int64  \n",
      " 1   tipo_vinculo                     368274 non-null  object \n",
      " 2   vinculo_ativo_3112               368274 non-null  int64  \n",
      " 3   tipo_admissao                    368274 non-null  int64  \n",
      " 4   mes_admissao                     150207 non-null  float64\n",
      " 5   mes_desligamento                 139890 non-null  object \n",
      " 6   motivo_desligamento              368274 non-null  object \n",
      " 7   causa_desligamento_1             50163 non-null   float64\n",
      " 8   causa_desligamento_2             368274 non-null  int64  \n",
      " 9   causa_desligamento_3             368274 non-null  int64  \n",
      " 10  faixa_tempo_emprego              368274 non-null  int64  \n",
      " 11  tempo_emprego                    368274 non-null  float64\n",
      " 12  faixa_horas_contratadas          368274 non-null  int64  \n",
      " 13  quantidade_horas_contratadas     368274 non-null  int64  \n",
      " 14  id_municipio_trabalho            367556 non-null  float64\n",
      " 15  quantidade_dias_afastamento      368274 non-null  int64  \n",
      " 16  indicador_cei_vinculado          368274 non-null  int64  \n",
      " 17  indicador_trabalho_parcial       368274 non-null  int64  \n",
      " 18  indicador_trabalho_intermitente  368274 non-null  int64  \n",
      " 19  faixa_remuneracao_media_sm       368274 non-null  object \n",
      " 20  valor_remuneracao_media_sm       368274 non-null  float64\n",
      " 21  valor_remuneracao_media          368274 non-null  float64\n",
      " 22  faixa_remuneracao_dezembro_sm    368274 non-null  int64  \n",
      " 23  valor_remuneracao_dezembro_sm    368274 non-null  float64\n",
      " 24  valor_remuneracao_janeiro        207544 non-null  float64\n",
      " 25  valor_remuneracao_fevereiro      209777 non-null  float64\n",
      " 26  valor_remuneracao_marco          211376 non-null  float64\n",
      " 27  valor_remuneracao_abril          212747 non-null  float64\n",
      " 28  valor_remuneracao_maio           213663 non-null  float64\n",
      " 29  valor_remuneracao_junho          214081 non-null  float64\n",
      " 30  valor_remuneracao_julho          214560 non-null  float64\n",
      " 31  valor_remuneracao_agosto         215439 non-null  float64\n",
      " 32  valor_remuneracao_setembro       214765 non-null  float64\n",
      " 33  valor_remuneracao_outubro        217711 non-null  float64\n",
      " 34  valor_remuneracao_novembro       216610 non-null  float64\n",
      " 35  valor_remuneracao_dezembro       368274 non-null  float64\n",
      " 36  tipo_salario                     0 non-null       float64\n",
      " 37  valor_salario_contratual         0 non-null       float64\n",
      " 38  subatividade_ibge                0 non-null       float64\n",
      " 39  subsetor_ibge                    368274 non-null  int64  \n",
      " 40  cbo_1994                         0 non-null       float64\n",
      " 41  cbo_2002                         368274 non-null  int64  \n",
      " 42  cnae_1                           368274 non-null  int64  \n",
      " 43  cnae_2                           368274 non-null  int64  \n",
      " 44  cnae_2_subclasse                 368274 non-null  int64  \n",
      " 45  faixa_etaria                     368274 non-null  int64  \n",
      " 46  idade                            368274 non-null  int64  \n",
      " 47  grau_instrucao_1985_2005         0 non-null       float64\n",
      " 48  grau_instrucao_apos_2005         368274 non-null  int64  \n",
      " 49  nacionalidade                    368274 non-null  Int64  \n",
      " 50  sexo                             368274 non-null  int64  \n",
      " 51  raca_cor                         368274 non-null  int64  \n",
      " 52  indicador_portador_deficiencia   368274 non-null  int64  \n",
      " 53  tipo_deficiencia                 368274 non-null  int64  \n",
      " 54  ano_chegada_brasil               368274 non-null  int64  \n",
      " 55  tamanho_estabelecimento          368274 non-null  int64  \n",
      " 56  tipo_estabelecimento             368274 non-null  int64  \n",
      " 57  natureza_juridica                326256 non-null  float64\n",
      " 58  indicador_simples                368274 non-null  int64  \n",
      " 59  bairros_sp                       0 non-null       float64\n",
      " 60  distritos_sp                     0 non-null       float64\n",
      " 61  bairros_fortaleza                0 non-null       float64\n",
      " 62  bairros_rj                       0 non-null       float64\n",
      " 63  regioes_administrativas_df       0 non-null       float64\n",
      " 64  sigla_uf                         368274 non-null  object \n",
      " 65  ano                              368274 non-null  int64  \n",
      "dtypes: Int64(1), float64(30), int64(30), object(5)\n",
      "memory usage: 185.8+ MB\n"
     ]
    }
   ],
   "source": [
    "df1.info()"
   ]
  },
  {
   "cell_type": "code",
   "execution_count": 76,
   "metadata": {
    "colab": {
     "base_uri": "https://localhost:8080/",
     "height": 412
    },
    "executionInfo": {
     "elapsed": 28,
     "status": "ok",
     "timestamp": 1755682014134,
     "user": {
      "displayName": "André Giron",
      "userId": "00393817043803863799"
     },
     "user_tz": 180
    },
    "id": "KWpZ7lEf7EQX",
    "outputId": "9e760571-e78d-450f-e449-bbbf8676c403"
   },
   "outputs": [
    {
     "data": {
      "text/html": [
       "<div>\n",
       "<style scoped>\n",
       "    .dataframe tbody tr th:only-of-type {\n",
       "        vertical-align: middle;\n",
       "    }\n",
       "\n",
       "    .dataframe tbody tr th {\n",
       "        vertical-align: top;\n",
       "    }\n",
       "\n",
       "    .dataframe thead th {\n",
       "        text-align: right;\n",
       "    }\n",
       "</style>\n",
       "<table border=\"1\" class=\"dataframe\">\n",
       "  <thead>\n",
       "    <tr style=\"text-align: right;\">\n",
       "      <th></th>\n",
       "      <th>id_municipio</th>\n",
       "      <th>tipo_vinculo</th>\n",
       "      <th>vinculo_ativo_3112</th>\n",
       "      <th>tipo_admissao</th>\n",
       "      <th>mes_admissao</th>\n",
       "      <th>mes_desligamento</th>\n",
       "      <th>motivo_desligamento</th>\n",
       "      <th>causa_desligamento_1</th>\n",
       "      <th>causa_desligamento_2</th>\n",
       "      <th>causa_desligamento_3</th>\n",
       "      <th>...</th>\n",
       "      <th>tipo_estabelecimento</th>\n",
       "      <th>natureza_juridica</th>\n",
       "      <th>indicador_simples</th>\n",
       "      <th>bairros_sp</th>\n",
       "      <th>distritos_sp</th>\n",
       "      <th>bairros_fortaleza</th>\n",
       "      <th>bairros_rj</th>\n",
       "      <th>regioes_administrativas_df</th>\n",
       "      <th>sigla_uf</th>\n",
       "      <th>ano</th>\n",
       "    </tr>\n",
       "  </thead>\n",
       "  <tbody>\n",
       "    <tr>\n",
       "      <th>0</th>\n",
       "      <td>1714203</td>\n",
       "      <td>25</td>\n",
       "      <td>0</td>\n",
       "      <td>0</td>\n",
       "      <td>NaN</td>\n",
       "      <td>1</td>\n",
       "      <td>11</td>\n",
       "      <td>NaN</td>\n",
       "      <td>99</td>\n",
       "      <td>99</td>\n",
       "      <td>...</td>\n",
       "      <td>5</td>\n",
       "      <td>NaN</td>\n",
       "      <td>0</td>\n",
       "      <td>NaN</td>\n",
       "      <td>NaN</td>\n",
       "      <td>NaN</td>\n",
       "      <td>NaN</td>\n",
       "      <td>NaN</td>\n",
       "      <td>TO</td>\n",
       "      <td>2024</td>\n",
       "    </tr>\n",
       "    <tr>\n",
       "      <th>1</th>\n",
       "      <td>1721000</td>\n",
       "      <td>10</td>\n",
       "      <td>0</td>\n",
       "      <td>0</td>\n",
       "      <td>NaN</td>\n",
       "      <td>1</td>\n",
       "      <td>11</td>\n",
       "      <td>NaN</td>\n",
       "      <td>99</td>\n",
       "      <td>99</td>\n",
       "      <td>...</td>\n",
       "      <td>1</td>\n",
       "      <td>2062.0</td>\n",
       "      <td>1</td>\n",
       "      <td>NaN</td>\n",
       "      <td>NaN</td>\n",
       "      <td>NaN</td>\n",
       "      <td>NaN</td>\n",
       "      <td>NaN</td>\n",
       "      <td>TO</td>\n",
       "      <td>2024</td>\n",
       "    </tr>\n",
       "    <tr>\n",
       "      <th>2</th>\n",
       "      <td>1718501</td>\n",
       "      <td>60</td>\n",
       "      <td>0</td>\n",
       "      <td>2</td>\n",
       "      <td>8.0</td>\n",
       "      <td>8</td>\n",
       "      <td>11</td>\n",
       "      <td>NaN</td>\n",
       "      <td>99</td>\n",
       "      <td>99</td>\n",
       "      <td>...</td>\n",
       "      <td>6</td>\n",
       "      <td>NaN</td>\n",
       "      <td>0</td>\n",
       "      <td>NaN</td>\n",
       "      <td>NaN</td>\n",
       "      <td>NaN</td>\n",
       "      <td>NaN</td>\n",
       "      <td>NaN</td>\n",
       "      <td>TO</td>\n",
       "      <td>2024</td>\n",
       "    </tr>\n",
       "    <tr>\n",
       "      <th>3</th>\n",
       "      <td>1718501</td>\n",
       "      <td>60</td>\n",
       "      <td>0</td>\n",
       "      <td>2</td>\n",
       "      <td>8.0</td>\n",
       "      <td>8</td>\n",
       "      <td>11</td>\n",
       "      <td>NaN</td>\n",
       "      <td>99</td>\n",
       "      <td>99</td>\n",
       "      <td>...</td>\n",
       "      <td>6</td>\n",
       "      <td>NaN</td>\n",
       "      <td>0</td>\n",
       "      <td>NaN</td>\n",
       "      <td>NaN</td>\n",
       "      <td>NaN</td>\n",
       "      <td>NaN</td>\n",
       "      <td>NaN</td>\n",
       "      <td>TO</td>\n",
       "      <td>2024</td>\n",
       "    </tr>\n",
       "    <tr>\n",
       "      <th>4</th>\n",
       "      <td>1718204</td>\n",
       "      <td>70</td>\n",
       "      <td>0</td>\n",
       "      <td>0</td>\n",
       "      <td>NaN</td>\n",
       "      <td>1</td>\n",
       "      <td>12</td>\n",
       "      <td>NaN</td>\n",
       "      <td>99</td>\n",
       "      <td>99</td>\n",
       "      <td>...</td>\n",
       "      <td>1</td>\n",
       "      <td>2054.0</td>\n",
       "      <td>0</td>\n",
       "      <td>NaN</td>\n",
       "      <td>NaN</td>\n",
       "      <td>NaN</td>\n",
       "      <td>NaN</td>\n",
       "      <td>NaN</td>\n",
       "      <td>TO</td>\n",
       "      <td>2024</td>\n",
       "    </tr>\n",
       "    <tr>\n",
       "      <th>5</th>\n",
       "      <td>1721000</td>\n",
       "      <td>10</td>\n",
       "      <td>0</td>\n",
       "      <td>0</td>\n",
       "      <td>NaN</td>\n",
       "      <td>1</td>\n",
       "      <td>11</td>\n",
       "      <td>NaN</td>\n",
       "      <td>99</td>\n",
       "      <td>99</td>\n",
       "      <td>...</td>\n",
       "      <td>6</td>\n",
       "      <td>NaN</td>\n",
       "      <td>0</td>\n",
       "      <td>NaN</td>\n",
       "      <td>NaN</td>\n",
       "      <td>NaN</td>\n",
       "      <td>NaN</td>\n",
       "      <td>NaN</td>\n",
       "      <td>TO</td>\n",
       "      <td>2024</td>\n",
       "    </tr>\n",
       "    <tr>\n",
       "      <th>6</th>\n",
       "      <td>1705508</td>\n",
       "      <td>25</td>\n",
       "      <td>0</td>\n",
       "      <td>0</td>\n",
       "      <td>NaN</td>\n",
       "      <td>5</td>\n",
       "      <td>21</td>\n",
       "      <td>40.0</td>\n",
       "      <td>99</td>\n",
       "      <td>99</td>\n",
       "      <td>...</td>\n",
       "      <td>5</td>\n",
       "      <td>4120.0</td>\n",
       "      <td>0</td>\n",
       "      <td>NaN</td>\n",
       "      <td>NaN</td>\n",
       "      <td>NaN</td>\n",
       "      <td>NaN</td>\n",
       "      <td>NaN</td>\n",
       "      <td>TO</td>\n",
       "      <td>2024</td>\n",
       "    </tr>\n",
       "    <tr>\n",
       "      <th>7</th>\n",
       "      <td>1721000</td>\n",
       "      <td>10</td>\n",
       "      <td>0</td>\n",
       "      <td>0</td>\n",
       "      <td>NaN</td>\n",
       "      <td>1</td>\n",
       "      <td>11</td>\n",
       "      <td>NaN</td>\n",
       "      <td>99</td>\n",
       "      <td>99</td>\n",
       "      <td>...</td>\n",
       "      <td>1</td>\n",
       "      <td>2062.0</td>\n",
       "      <td>0</td>\n",
       "      <td>NaN</td>\n",
       "      <td>NaN</td>\n",
       "      <td>NaN</td>\n",
       "      <td>NaN</td>\n",
       "      <td>NaN</td>\n",
       "      <td>TO</td>\n",
       "      <td>2024</td>\n",
       "    </tr>\n",
       "    <tr>\n",
       "      <th>8</th>\n",
       "      <td>1711100</td>\n",
       "      <td>15</td>\n",
       "      <td>0</td>\n",
       "      <td>0</td>\n",
       "      <td>NaN</td>\n",
       "      <td>1</td>\n",
       "      <td>21</td>\n",
       "      <td>NaN</td>\n",
       "      <td>99</td>\n",
       "      <td>99</td>\n",
       "      <td>...</td>\n",
       "      <td>5</td>\n",
       "      <td>NaN</td>\n",
       "      <td>0</td>\n",
       "      <td>NaN</td>\n",
       "      <td>NaN</td>\n",
       "      <td>NaN</td>\n",
       "      <td>NaN</td>\n",
       "      <td>NaN</td>\n",
       "      <td>TO</td>\n",
       "      <td>2024</td>\n",
       "    </tr>\n",
       "    <tr>\n",
       "      <th>9</th>\n",
       "      <td>1702109</td>\n",
       "      <td>60</td>\n",
       "      <td>0</td>\n",
       "      <td>0</td>\n",
       "      <td>NaN</td>\n",
       "      <td>1</td>\n",
       "      <td>21</td>\n",
       "      <td>NaN</td>\n",
       "      <td>99</td>\n",
       "      <td>99</td>\n",
       "      <td>...</td>\n",
       "      <td>1</td>\n",
       "      <td>2062.0</td>\n",
       "      <td>1</td>\n",
       "      <td>NaN</td>\n",
       "      <td>NaN</td>\n",
       "      <td>NaN</td>\n",
       "      <td>NaN</td>\n",
       "      <td>NaN</td>\n",
       "      <td>TO</td>\n",
       "      <td>2024</td>\n",
       "    </tr>\n",
       "  </tbody>\n",
       "</table>\n",
       "<p>10 rows × 66 columns</p>\n",
       "</div>"
      ],
      "text/plain": [
       "   id_municipio tipo_vinculo  vinculo_ativo_3112  tipo_admissao  mes_admissao  \\\n",
       "0       1714203           25                   0              0           NaN   \n",
       "1       1721000           10                   0              0           NaN   \n",
       "2       1718501           60                   0              2           8.0   \n",
       "3       1718501           60                   0              2           8.0   \n",
       "4       1718204           70                   0              0           NaN   \n",
       "5       1721000           10                   0              0           NaN   \n",
       "6       1705508           25                   0              0           NaN   \n",
       "7       1721000           10                   0              0           NaN   \n",
       "8       1711100           15                   0              0           NaN   \n",
       "9       1702109           60                   0              0           NaN   \n",
       "\n",
       "  mes_desligamento motivo_desligamento  causa_desligamento_1  \\\n",
       "0                1                  11                   NaN   \n",
       "1                1                  11                   NaN   \n",
       "2                8                  11                   NaN   \n",
       "3                8                  11                   NaN   \n",
       "4                1                  12                   NaN   \n",
       "5                1                  11                   NaN   \n",
       "6                5                  21                  40.0   \n",
       "7                1                  11                   NaN   \n",
       "8                1                  21                   NaN   \n",
       "9                1                  21                   NaN   \n",
       "\n",
       "   causa_desligamento_2  causa_desligamento_3  ...  tipo_estabelecimento  \\\n",
       "0                    99                    99  ...                     5   \n",
       "1                    99                    99  ...                     1   \n",
       "2                    99                    99  ...                     6   \n",
       "3                    99                    99  ...                     6   \n",
       "4                    99                    99  ...                     1   \n",
       "5                    99                    99  ...                     6   \n",
       "6                    99                    99  ...                     5   \n",
       "7                    99                    99  ...                     1   \n",
       "8                    99                    99  ...                     5   \n",
       "9                    99                    99  ...                     1   \n",
       "\n",
       "   natureza_juridica  indicador_simples  bairros_sp  distritos_sp  \\\n",
       "0                NaN                  0         NaN           NaN   \n",
       "1             2062.0                  1         NaN           NaN   \n",
       "2                NaN                  0         NaN           NaN   \n",
       "3                NaN                  0         NaN           NaN   \n",
       "4             2054.0                  0         NaN           NaN   \n",
       "5                NaN                  0         NaN           NaN   \n",
       "6             4120.0                  0         NaN           NaN   \n",
       "7             2062.0                  0         NaN           NaN   \n",
       "8                NaN                  0         NaN           NaN   \n",
       "9             2062.0                  1         NaN           NaN   \n",
       "\n",
       "   bairros_fortaleza  bairros_rj  regioes_administrativas_df  sigla_uf   ano  \n",
       "0                NaN         NaN                         NaN        TO  2024  \n",
       "1                NaN         NaN                         NaN        TO  2024  \n",
       "2                NaN         NaN                         NaN        TO  2024  \n",
       "3                NaN         NaN                         NaN        TO  2024  \n",
       "4                NaN         NaN                         NaN        TO  2024  \n",
       "5                NaN         NaN                         NaN        TO  2024  \n",
       "6                NaN         NaN                         NaN        TO  2024  \n",
       "7                NaN         NaN                         NaN        TO  2024  \n",
       "8                NaN         NaN                         NaN        TO  2024  \n",
       "9                NaN         NaN                         NaN        TO  2024  \n",
       "\n",
       "[10 rows x 66 columns]"
      ]
     },
     "execution_count": 76,
     "metadata": {},
     "output_type": "execute_result"
    }
   ],
   "source": [
    "df1.head(10)"
   ]
  },
  {
   "cell_type": "markdown",
   "metadata": {
    "id": "xBE0Go6E-eVh"
   },
   "source": [
    "# Upload"
   ]
  },
  {
   "cell_type": "code",
   "execution_count": 77,
   "metadata": {
    "executionInfo": {
     "elapsed": 36,
     "status": "ok",
     "timestamp": 1755682037081,
     "user": {
      "displayName": "André Giron",
      "userId": "00393817043803863799"
     },
     "user_tz": 180
    },
    "id": "xSTGRATNoGo9"
   },
   "outputs": [],
   "source": [
    "schema = [\n",
    "    # Identificadores e metadados\n",
    "    bigquery.SchemaField('ano', 'INTEGER'),\n",
    "    bigquery.SchemaField('id_municipio', 'INTEGER'),  # Alterado para INTEGER\n",
    "    bigquery.SchemaField('sigla_uf', 'STRING'),\n",
    "\n",
    "    # Informações do vínculo\n",
    "    bigquery.SchemaField('tipo_vinculo', 'STRING', description='Tipo de vínculo empregatício'),\n",
    "    bigquery.SchemaField('vinculo_ativo_3112', 'INTEGER', description='Indicador se o vínculo estava ativo em 31/12'),\n",
    "    bigquery.SchemaField('tipo_admissao', 'INTEGER', description='Tipo de admissão do trabalhador'),\n",
    "    bigquery.SchemaField('mes_admissao', 'FLOAT', description='Mês de admissão do trabalhador'),\n",
    "    bigquery.SchemaField('mes_desligamento', 'STRING', description='Mês de desligamento do trabalhador (se aplicável)'),\n",
    "\n",
    "    # Motivos e causas\n",
    "    bigquery.SchemaField('motivo_desligamento', 'STRING', description='Motivo do desligamento'),\n",
    "    bigquery.SchemaField('causa_desligamento_1', 'FLOAT', description='Causa principal do desligamento'),\n",
    "    bigquery.SchemaField('causa_desligamento_2', 'INTEGER', description='Causa secundária do desligamento'),\n",
    "    bigquery.SchemaField('causa_desligamento_3', 'INTEGER', description='Causa terciária do desligamento'),\n",
    "\n",
    "    # Duração do emprego\n",
    "    bigquery.SchemaField('faixa_tempo_emprego', 'INTEGER', description='Faixa de tempo de emprego'),\n",
    "    bigquery.SchemaField('tempo_emprego', 'FLOAT', description='Tempo de emprego em anos (com decimais)'),\n",
    "\n",
    "    # Carga horária\n",
    "    bigquery.SchemaField('faixa_horas_contratadas', 'INTEGER', description='Faixa de horas contratadas'),\n",
    "    bigquery.SchemaField('quantidade_horas_contratadas', 'INTEGER', description='Quantidade de horas contratadas semanais'),\n",
    "\n",
    "    # Localização\n",
    "    bigquery.SchemaField('id_municipio_trabalho', 'FLOAT', description='Identificador do município onde o trabalho é exercido'),\n",
    "\n",
    "    # Afastamentos\n",
    "    bigquery.SchemaField('quantidade_dias_afastamento', 'INTEGER', description='Quantidade de dias de afastamento no ano'),\n",
    "\n",
    "    # Indicadores\n",
    "    bigquery.SchemaField('indicador_cei_vinculado', 'INTEGER', description='Indicador de CEI vinculado'),\n",
    "    bigquery.SchemaField('indicador_trabalho_parcial', 'INTEGER', description='Indicador de trabalho parcial'),\n",
    "    bigquery.SchemaField('indicador_trabalho_intermitente', 'INTEGER', description='Indicador de trabalho intermitente'),\n",
    "\n",
    "    # Remunerações\n",
    "    bigquery.SchemaField('faixa_remuneracao_media_sm', 'STRING', description='Faixa da remuneração média em salários mínimos'),\n",
    "    bigquery.SchemaField('valor_remuneracao_media_sm', 'FLOAT', description='Valor da remuneração média em salários mínimos'),\n",
    "    bigquery.SchemaField('valor_remuneracao_media', 'FLOAT', description='Valor absoluto da remuneração média'),\n",
    "\n",
    "    # Remunerações mensais (12 campos)\n",
    "    bigquery.SchemaField('valor_remuneracao_janeiro', 'FLOAT', description='Remuneração em janeiro'),\n",
    "    bigquery.SchemaField('valor_remuneracao_fevereiro', 'FLOAT', description='Remuneração em fevereiro'),\n",
    "    bigquery.SchemaField('valor_remuneracao_marco', 'FLOAT', description='Remuneração em março'),\n",
    "    bigquery.SchemaField('valor_remuneracao_abril', 'FLOAT', description='Remuneração em abril'),\n",
    "    bigquery.SchemaField('valor_remuneracao_maio', 'FLOAT', description='Remuneração em maio'),\n",
    "    bigquery.SchemaField('valor_remuneracao_junho', 'FLOAT', description='Remuneração em junho'),\n",
    "    bigquery.SchemaField('valor_remuneracao_julho', 'FLOAT', description='Remuneração em julho'),\n",
    "    bigquery.SchemaField('valor_remuneracao_agosto', 'FLOAT', description='Remuneração em agosto'),\n",
    "    bigquery.SchemaField('valor_remuneracao_setembro', 'FLOAT', description='Remuneração em setembro'),\n",
    "    bigquery.SchemaField('valor_remuneracao_outubro', 'FLOAT', description='Remuneração em outubro'),\n",
    "    bigquery.SchemaField('valor_remuneracao_novembro', 'FLOAT', description='Remuneração em novembro'),\n",
    "    bigquery.SchemaField('valor_remuneracao_dezembro', 'FLOAT', description='Remuneração em dezembro'),\n",
    "\n",
    "    # Classificações profissionais\n",
    "    bigquery.SchemaField('cbo_1994', 'FLOAT', description='Classificação Brasileira de Ocupações 1994'),\n",
    "    bigquery.SchemaField('cbo_2002', 'INTEGER', description='Classificação Brasileira de Ocupações 2002'),\n",
    "    bigquery.SchemaField('cnae_1', 'INTEGER', description='Classificação Nacional de Atividades Econômicas - Versão 1'),\n",
    "    bigquery.SchemaField('cnae_2', 'INTEGER', description='Classificação Nacional de Atividades Econômicas - Versão 2'),\n",
    "    bigquery.SchemaField('cnae_2_subclasse', 'INTEGER', description='Subclasse da CNAE 2.0'),\n",
    "\n",
    "    # Características do trabalhador\n",
    "    bigquery.SchemaField('idade', 'INTEGER', description='Idade do trabalhador'),\n",
    "    bigquery.SchemaField('sexo', 'INTEGER', description='Sexo do trabalhador (1-Masc, 2-Fem)'),\n",
    "    bigquery.SchemaField('raca_cor', 'INTEGER', description='Raça/cor do trabalhador'),\n",
    "    bigquery.SchemaField('grau_instrucao_apos_2005', 'INTEGER', description='Grau de instrução após 2005'),\n",
    "    bigquery.SchemaField('nacionalidade', 'INTEGER', description='Nacionalidade do trabalhador'),\n",
    "\n",
    "    # Informações do estabelecimento\n",
    "    bigquery.SchemaField('tamanho_estabelecimento', 'INTEGER', description='Tamanho do estabelecimento'),\n",
    "    bigquery.SchemaField('tipo_estabelecimento', 'INTEGER', description='Tipo do estabelecimento'),\n",
    "    bigquery.SchemaField('natureza_juridica', 'FLOAT', description='Natureza jurídica do estabelecimento'),\n",
    "\n",
    "    # Campos adicionais\n",
    "    bigquery.SchemaField('bairros_sp', 'FLOAT', description='Bairros de São Paulo (quando aplicável)'),\n",
    "    bigquery.SchemaField('distritos_sp', 'FLOAT', description='Distritos de São Paulo (quando aplicável)'),\n",
    "    bigquery.SchemaField('regioes_administrativas_df', 'FLOAT', description='Regiões administrativas do DF')\n",
    "]"
   ]
  },
  {
   "cell_type": "code",
   "execution_count": 78,
   "metadata": {
    "colab": {
     "base_uri": "https://localhost:8080/"
    },
    "executionInfo": {
     "elapsed": 2150,
     "status": "ok",
     "timestamp": 1755682039243,
     "user": {
      "displayName": "André Giron",
      "userId": "00393817043803863799"
     },
     "user_tz": 180
    },
    "id": "--l20BdDrG_c",
    "outputId": "2ac02e54-1209-40fe-c733-63e97f860cd1"
   },
   "outputs": [
    {
     "name": "stderr",
     "output_type": "stream",
     "text": [
      "/home/giron/work/rep_dados/rep_dados/lib/python3.12/site-packages/google/auth/_default.py:76: UserWarning: Your application has authenticated using end user credentials from Google Cloud SDK without a quota project. You might receive a \"quota exceeded\" or \"API not enabled\" error. See the following page for troubleshooting: https://cloud.google.com/docs/authentication/adc-troubleshooting/user-creds. \n",
      "  warnings.warn(_CLOUD_SDK_CREDENTIALS_WARNING)\n"
     ]
    }
   ],
   "source": [
    "## Subindo para datalake\n",
    "client = bigquery.Client(project='repositoriodedadosgpsp')\n",
    "dataset_ref = client.dataset('Datalake')"
   ]
  },
  {
   "cell_type": "code",
   "execution_count": 79,
   "metadata": {
    "colab": {
     "base_uri": "https://localhost:8080/"
    },
    "executionInfo": {
     "elapsed": 24503,
     "status": "ok",
     "timestamp": 1755682063748,
     "user": {
      "displayName": "André Giron",
      "userId": "00393817043803863799"
     },
     "user_tz": 180
    },
    "id": "hrVS_-iErIfw",
    "outputId": "e9a17c9e-2e40-4cc9-f79c-3967a41020fb"
   },
   "outputs": [
    {
     "data": {
      "text/plain": [
       "LoadJob<project=repositoriodedadosgpsp, location=US, id=9a806a87-4fbf-4b65-80ed-f3adfc76e561>"
      ]
     },
     "execution_count": 79,
     "metadata": {},
     "output_type": "execute_result"
    }
   ],
   "source": [
    "table_ref = dataset_ref.table('RAIS_TO_2024') # nome da tabela no padrão FONTE_algo_intuitivo_dado\n",
    "job_config = bigquery.LoadJobConfig(schema=schema)\n",
    "job = client.load_table_from_dataframe(df1, table_ref, job_config=job_config)\n",
    "job.result()"
   ]
  }
 ],
 "metadata": {
  "colab": {
   "authorship_tag": "ABX9TyMltV/bIJdVBSodCWxZehsO",
   "mount_file_id": "1kcer3oqLL3JIJXLrgGfcMz6CNmLCo57y",
   "provenance": []
  },
  "kernelspec": {
   "display_name": "rep_dados (3.12.3)",
   "language": "python",
   "name": "python3"
  },
  "language_info": {
   "codemirror_mode": {
    "name": "ipython",
    "version": 3
   },
   "file_extension": ".py",
   "mimetype": "text/x-python",
   "name": "python",
   "nbconvert_exporter": "python",
   "pygments_lexer": "ipython3",
   "version": "3.12.3"
  }
 },
 "nbformat": 4,
 "nbformat_minor": 0
}
