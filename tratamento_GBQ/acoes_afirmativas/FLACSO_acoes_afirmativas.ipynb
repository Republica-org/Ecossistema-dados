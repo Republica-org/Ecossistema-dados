{
 "cells": [
  {
   "cell_type": "code",
   "execution_count": 12,
   "metadata": {},
   "outputs": [],
   "source": [
    "## Inserindo dados do atlas no data lake\n",
    "import openpyxl\n",
    "import pandas as pd\n",
    "import time\n",
    "import os\n",
    "import pandas_gbq\n",
    "from google.cloud import bigquery\n",
    "import glob\n",
    "import basedosdados as bd\n",
    "\n"
   ]
  },
  {
   "cell_type": "code",
   "execution_count": null,
   "metadata": {},
   "outputs": [],
   "source": [
    "# Todas as tabela do catálogo do atlas estão em csv, exceto: \n",
    "\n",
    "##SIAPE_ativos_economia_rural\n",
    "##SIAPE_civis_ativos_ministerio\n",
    "\n",
    "# Nessa pasta também será inserida no datalake a base da FLACSO\n",
    "\n",
    "##FLACSO_acoes_afirmativas.csv "
   ]
  },
  {
   "cell_type": "code",
   "execution_count": 2,
   "metadata": {},
   "outputs": [],
   "source": [
    "client = bigquery.Client()"
   ]
  },
  {
   "cell_type": "code",
   "execution_count": 3,
   "metadata": {},
   "outputs": [],
   "source": [
    "os.chdir('G:\\\\Drives compartilhados\\\\República.org\\\\4. Equipes\\\\Dados e Comunicação\\\\DADOS\\\\415 - Repositório de Dados\\\\Dados para subir\\\\Tabelas finais')"
   ]
  },
  {
   "cell_type": "code",
   "execution_count": null,
   "metadata": {},
   "outputs": [],
   "source": [
    "## Lista por tipo de arquivo\n",
    "\n",
    "len(glob.glob('*.csv'))"
   ]
  },
  {
   "cell_type": "code",
   "execution_count": 4,
   "metadata": {},
   "outputs": [],
   "source": [
    "df = pd.read_csv('FLACSO_acoes_afirmativas.csv', encoding='utf8', decimal=\",\")\n"
   ]
  },
  {
   "cell_type": "code",
   "execution_count": 5,
   "metadata": {},
   "outputs": [],
   "source": [
    "df.drop(['id','marker_id'], axis=1, inplace=True)"
   ]
  },
  {
   "cell_type": "code",
   "execution_count": 7,
   "metadata": {},
   "outputs": [
    {
     "data": {
      "text/plain": [
       "135"
      ]
     },
     "execution_count": 7,
     "metadata": {},
     "output_type": "execute_result"
    }
   ],
   "source": [
    "len(df)"
   ]
  },
  {
   "cell_type": "code",
   "execution_count": 6,
   "metadata": {},
   "outputs": [
    {
     "data": {
      "text/plain": [
       "Index(['id', 'marker_id', 'abrangencia', 'regiao', 'estado', 'cidade', 'Ano',\n",
       "       'Legislação', 'regulamentacao', 'tipo_cota', 'comissionado',\n",
       "       'percentual', 'pub_alvo', 'identificacao', 'comiss_ver', 'vigencia',\n",
       "       'lat', 'lng'],\n",
       "      dtype='object')"
      ]
     },
     "execution_count": 6,
     "metadata": {},
     "output_type": "execute_result"
    }
   ],
   "source": [
    "df.columns"
   ]
  },
  {
   "cell_type": "code",
   "execution_count": 6,
   "metadata": {},
   "outputs": [],
   "source": [
    "df.rename(columns={'descricao':'legislacao', 'regiao':'nome_regiao', 'estado':'sigla_uf', \n",
    "'identificacao': 'forma_identificacao','pub_alvo':'nomenclatura_legislacao', 'Ano':'ano','Legislação':'legislacao', 'comissionado':'flag_comissionado',\n",
    "'comiss_ver':'flag_comiss_verificacao','cidade':'nome_municipio' },inplace=True)\n"
   ]
  },
  {
   "cell_type": "code",
   "execution_count": 7,
   "metadata": {},
   "outputs": [
    {
     "data": {
      "text/html": [
       "<div>\n",
       "<style scoped>\n",
       "    .dataframe tbody tr th:only-of-type {\n",
       "        vertical-align: middle;\n",
       "    }\n",
       "\n",
       "    .dataframe tbody tr th {\n",
       "        vertical-align: top;\n",
       "    }\n",
       "\n",
       "    .dataframe thead th {\n",
       "        text-align: right;\n",
       "    }\n",
       "</style>\n",
       "<table border=\"1\" class=\"dataframe\">\n",
       "  <thead>\n",
       "    <tr style=\"text-align: right;\">\n",
       "      <th></th>\n",
       "      <th>ano</th>\n",
       "      <th>abrangencia</th>\n",
       "      <th>nome_regiao</th>\n",
       "      <th>sigla_uf</th>\n",
       "      <th>nome_municipio</th>\n",
       "      <th>legislacao</th>\n",
       "      <th>regulamentacao</th>\n",
       "      <th>tipo_cota</th>\n",
       "      <th>flag_comissionado</th>\n",
       "      <th>percentual</th>\n",
       "      <th>nomenclatura_legislacao</th>\n",
       "      <th>forma_identificacao</th>\n",
       "      <th>flag_comiss_verificacao</th>\n",
       "      <th>vigencia</th>\n",
       "      <th>lat</th>\n",
       "      <th>lng</th>\n",
       "    </tr>\n",
       "  </thead>\n",
       "  <tbody>\n",
       "    <tr>\n",
       "      <th>0</th>\n",
       "      <td>2002</td>\n",
       "      <td>municipal</td>\n",
       "      <td>sul</td>\n",
       "      <td>RS</td>\n",
       "      <td>Bagé</td>\n",
       "      <td>Lei n.º 3.938, de 23.09.2002, reserva de 20% (...</td>\n",
       "      <td>NaN</td>\n",
       "      <td>Concurso público</td>\n",
       "      <td>0</td>\n",
       "      <td>20%</td>\n",
       "      <td>Afrodescendentes</td>\n",
       "      <td>não consta</td>\n",
       "      <td>0</td>\n",
       "      <td>vigente</td>\n",
       "      <td>-313.301</td>\n",
       "      <td>-541.005</td>\n",
       "    </tr>\n",
       "    <tr>\n",
       "      <th>1</th>\n",
       "      <td>2003</td>\n",
       "      <td>municipal</td>\n",
       "      <td>sul</td>\n",
       "      <td>RS</td>\n",
       "      <td>Pelotas</td>\n",
       "      <td>Lei n.º 4.989, de 21.11.2003, dispõe sobre a r...</td>\n",
       "      <td>Decreto n° 6.211, de 27.09.19, institui o Regi...</td>\n",
       "      <td>Concurso público</td>\n",
       "      <td>0</td>\n",
       "      <td>20%</td>\n",
       "      <td>Afrodescendentes</td>\n",
       "      <td>Autodeclaração</td>\n",
       "      <td>1</td>\n",
       "      <td>vigente</td>\n",
       "      <td>-317.654</td>\n",
       "      <td>-523.376</td>\n",
       "    </tr>\n",
       "    <tr>\n",
       "      <th>2</th>\n",
       "      <td>2004</td>\n",
       "      <td>municipal</td>\n",
       "      <td>sul</td>\n",
       "      <td>RS</td>\n",
       "      <td>Viamão</td>\n",
       "      <td>Lei n.º 3.210, de 23.01.2004, dispõe sobre a r...</td>\n",
       "      <td>NaN</td>\n",
       "      <td>Concurso público</td>\n",
       "      <td>0</td>\n",
       "      <td>44%</td>\n",
       "      <td>Afro-brasileiros</td>\n",
       "      <td>Autodeclaração</td>\n",
       "      <td>0</td>\n",
       "      <td>revogada</td>\n",
       "      <td>-300.722</td>\n",
       "      <td>-51.097</td>\n",
       "    </tr>\n",
       "    <tr>\n",
       "      <th>3</th>\n",
       "      <td>2014</td>\n",
       "      <td>municipal</td>\n",
       "      <td>nordeste</td>\n",
       "      <td>BA</td>\n",
       "      <td>Teixeira de Freitas</td>\n",
       "      <td>Lei n.º 815, de 18.11.2014, dispõe sobre o est...</td>\n",
       "      <td>NaN</td>\n",
       "      <td>Concurso público e estágio profissional</td>\n",
       "      <td>0</td>\n",
       "      <td>25%</td>\n",
       "      <td>Negros, negras e afrodescendentes</td>\n",
       "      <td>Autodeclaração</td>\n",
       "      <td>0</td>\n",
       "      <td>vigente</td>\n",
       "      <td>-17.54</td>\n",
       "      <td>-397.422</td>\n",
       "    </tr>\n",
       "    <tr>\n",
       "      <th>4</th>\n",
       "      <td>2014</td>\n",
       "      <td>municipal</td>\n",
       "      <td>nordeste</td>\n",
       "      <td>PB</td>\n",
       "      <td>Sapé</td>\n",
       "      <td>Lei n.º 1.178, de 15.10.2014, dispõe sobre o e...</td>\n",
       "      <td>NaN</td>\n",
       "      <td>Concurso público</td>\n",
       "      <td>0</td>\n",
       "      <td>20%</td>\n",
       "      <td>Negros, negras e afrodescendentes</td>\n",
       "      <td>autodeclaração</td>\n",
       "      <td>0</td>\n",
       "      <td>vigente</td>\n",
       "      <td>-709.616</td>\n",
       "      <td>-352.302</td>\n",
       "    </tr>\n",
       "    <tr>\n",
       "      <th>...</th>\n",
       "      <td>...</td>\n",
       "      <td>...</td>\n",
       "      <td>...</td>\n",
       "      <td>...</td>\n",
       "      <td>...</td>\n",
       "      <td>...</td>\n",
       "      <td>...</td>\n",
       "      <td>...</td>\n",
       "      <td>...</td>\n",
       "      <td>...</td>\n",
       "      <td>...</td>\n",
       "      <td>...</td>\n",
       "      <td>...</td>\n",
       "      <td>...</td>\n",
       "      <td>...</td>\n",
       "      <td>...</td>\n",
       "    </tr>\n",
       "    <tr>\n",
       "      <th>130</th>\n",
       "      <td>2018</td>\n",
       "      <td>municipal</td>\n",
       "      <td>nordeste</td>\n",
       "      <td>CE</td>\n",
       "      <td>Jaguaribe</td>\n",
       "      <td>Lei n°1.422, de 26 de outubro de 2018, dispõe ...</td>\n",
       "      <td>NaN</td>\n",
       "      <td>Concurso público</td>\n",
       "      <td>0</td>\n",
       "      <td>NaN</td>\n",
       "      <td>Negros e afrodescendentes</td>\n",
       "      <td>autodeclaração</td>\n",
       "      <td>0</td>\n",
       "      <td>vigente</td>\n",
       "      <td>-589.273</td>\n",
       "      <td>-38.622</td>\n",
       "    </tr>\n",
       "    <tr>\n",
       "      <th>131</th>\n",
       "      <td>2021</td>\n",
       "      <td>estadual</td>\n",
       "      <td>norte</td>\n",
       "      <td>RO</td>\n",
       "      <td>Porto Velho</td>\n",
       "      <td>Resolução n° 102 - CS/DPERO, de 02 de julho de...</td>\n",
       "      <td>NaN</td>\n",
       "      <td>Concurso público</td>\n",
       "      <td>0</td>\n",
       "      <td>20%</td>\n",
       "      <td>Negros</td>\n",
       "      <td>Autodeclaração</td>\n",
       "      <td>0</td>\n",
       "      <td>vigente</td>\n",
       "      <td>-876.116</td>\n",
       "      <td>-639.004</td>\n",
       "    </tr>\n",
       "    <tr>\n",
       "      <th>132</th>\n",
       "      <td>2021</td>\n",
       "      <td>estadual</td>\n",
       "      <td>sudeste</td>\n",
       "      <td>RJ</td>\n",
       "      <td>Rio de Janeiro</td>\n",
       "      <td>Resolução DPGERJ, n° 1107, de 29 de setembro d...</td>\n",
       "      <td>NaN</td>\n",
       "      <td>Concurso Público e estagiário</td>\n",
       "      <td>0</td>\n",
       "      <td>20 a 30</td>\n",
       "      <td>Afrodescendentes</td>\n",
       "      <td>Não consta</td>\n",
       "      <td>0</td>\n",
       "      <td>vigente</td>\n",
       "      <td>-229.068</td>\n",
       "      <td>-431.729</td>\n",
       "    </tr>\n",
       "    <tr>\n",
       "      <th>133</th>\n",
       "      <td>2021</td>\n",
       "      <td>estadual</td>\n",
       "      <td>nordeste</td>\n",
       "      <td>PI</td>\n",
       "      <td>Teresina</td>\n",
       "      <td>Lei n.º 7.626, de 11 de novembro de 2021, rese...</td>\n",
       "      <td>NaN</td>\n",
       "      <td>Concurso público e contratação temporária</td>\n",
       "      <td>0</td>\n",
       "      <td>25%</td>\n",
       "      <td>Negros e pardos</td>\n",
       "      <td>auto-declaração</td>\n",
       "      <td>0</td>\n",
       "      <td>vigente</td>\n",
       "      <td>-504.469</td>\n",
       "      <td>-427.662</td>\n",
       "    </tr>\n",
       "    <tr>\n",
       "      <th>134</th>\n",
       "      <td>2021</td>\n",
       "      <td>estadual</td>\n",
       "      <td>nordeste</td>\n",
       "      <td>RN</td>\n",
       "      <td>Natal</td>\n",
       "      <td>Lei n.º 11.015, de 20.11.2021, dispõe sobre a ...</td>\n",
       "      <td>NaN</td>\n",
       "      <td>Concurso público</td>\n",
       "      <td>0</td>\n",
       "      <td>20%</td>\n",
       "      <td>Negros e negras</td>\n",
       "      <td>Autodeclaração</td>\n",
       "      <td>0</td>\n",
       "      <td>vigente</td>\n",
       "      <td>-577.926</td>\n",
       "      <td>-352.009</td>\n",
       "    </tr>\n",
       "  </tbody>\n",
       "</table>\n",
       "<p>135 rows × 16 columns</p>\n",
       "</div>"
      ],
      "text/plain": [
       "      ano abrangencia nome_regiao sigla_uf       nome_municipio  \\\n",
       "0    2002   municipal         sul       RS                 Bagé   \n",
       "1    2003   municipal         sul       RS              Pelotas   \n",
       "2    2004   municipal         sul       RS               Viamão   \n",
       "3    2014   municipal    nordeste       BA  Teixeira de Freitas   \n",
       "4    2014   municipal    nordeste       PB                 Sapé   \n",
       "..    ...         ...         ...      ...                  ...   \n",
       "130  2018   municipal    nordeste       CE            Jaguaribe   \n",
       "131  2021    estadual       norte       RO          Porto Velho   \n",
       "132  2021    estadual     sudeste       RJ       Rio de Janeiro   \n",
       "133  2021    estadual    nordeste       PI             Teresina   \n",
       "134  2021    estadual    nordeste       RN                Natal   \n",
       "\n",
       "                                            legislacao  \\\n",
       "0    Lei n.º 3.938, de 23.09.2002, reserva de 20% (...   \n",
       "1    Lei n.º 4.989, de 21.11.2003, dispõe sobre a r...   \n",
       "2    Lei n.º 3.210, de 23.01.2004, dispõe sobre a r...   \n",
       "3    Lei n.º 815, de 18.11.2014, dispõe sobre o est...   \n",
       "4    Lei n.º 1.178, de 15.10.2014, dispõe sobre o e...   \n",
       "..                                                 ...   \n",
       "130  Lei n°1.422, de 26 de outubro de 2018, dispõe ...   \n",
       "131  Resolução n° 102 - CS/DPERO, de 02 de julho de...   \n",
       "132  Resolução DPGERJ, n° 1107, de 29 de setembro d...   \n",
       "133  Lei n.º 7.626, de 11 de novembro de 2021, rese...   \n",
       "134  Lei n.º 11.015, de 20.11.2021, dispõe sobre a ...   \n",
       "\n",
       "                                        regulamentacao  \\\n",
       "0                                                  NaN   \n",
       "1    Decreto n° 6.211, de 27.09.19, institui o Regi...   \n",
       "2                                                  NaN   \n",
       "3                                                  NaN   \n",
       "4                                                  NaN   \n",
       "..                                                 ...   \n",
       "130                                                NaN   \n",
       "131                                                NaN   \n",
       "132                                                NaN   \n",
       "133                                                NaN   \n",
       "134                                                NaN   \n",
       "\n",
       "                                     tipo_cota  flag_comissionado percentual  \\\n",
       "0                             Concurso público                  0        20%   \n",
       "1                             Concurso público                  0        20%   \n",
       "2                             Concurso público                  0        44%   \n",
       "3      Concurso público e estágio profissional                  0        25%   \n",
       "4                             Concurso público                  0        20%   \n",
       "..                                         ...                ...        ...   \n",
       "130                           Concurso público                  0        NaN   \n",
       "131                           Concurso público                  0        20%   \n",
       "132              Concurso Público e estagiário                  0    20 a 30   \n",
       "133  Concurso público e contratação temporária                  0        25%   \n",
       "134                           Concurso público                  0        20%   \n",
       "\n",
       "               nomenclatura_legislacao forma_identificacao  \\\n",
       "0                     Afrodescendentes          não consta   \n",
       "1                     Afrodescendentes      Autodeclaração   \n",
       "2                     Afro-brasileiros      Autodeclaração   \n",
       "3    Negros, negras e afrodescendentes      Autodeclaração   \n",
       "4    Negros, negras e afrodescendentes      autodeclaração   \n",
       "..                                 ...                 ...   \n",
       "130          Negros e afrodescendentes      autodeclaração   \n",
       "131                             Negros      Autodeclaração   \n",
       "132                   Afrodescendentes          Não consta   \n",
       "133                    Negros e pardos     auto-declaração   \n",
       "134                    Negros e negras      Autodeclaração   \n",
       "\n",
       "     flag_comiss_verificacao  vigencia       lat       lng  \n",
       "0                          0   vigente  -313.301  -541.005  \n",
       "1                          1   vigente  -317.654  -523.376  \n",
       "2                          0  revogada  -300.722   -51.097  \n",
       "3                          0   vigente    -17.54  -397.422  \n",
       "4                          0   vigente  -709.616  -352.302  \n",
       "..                       ...       ...       ...       ...  \n",
       "130                        0   vigente  -589.273   -38.622  \n",
       "131                        0   vigente  -876.116  -639.004  \n",
       "132                        0   vigente  -229.068  -431.729  \n",
       "133                        0   vigente  -504.469  -427.662  \n",
       "134                        0   vigente  -577.926  -352.009  \n",
       "\n",
       "[135 rows x 16 columns]"
      ]
     },
     "execution_count": 7,
     "metadata": {},
     "output_type": "execute_result"
    }
   ],
   "source": [
    "## Ordenando algumas colunas: \n",
    "\n",
    "temp_cols=df.columns.tolist()\n",
    "new_cols=temp_cols[4:5]+temp_cols[0:4] + temp_cols[5:]\n",
    "df=df[new_cols]\n",
    "df\n"
   ]
  },
  {
   "cell_type": "code",
   "execution_count": 11,
   "metadata": {},
   "outputs": [
    {
     "data": {
      "text/plain": [
       "135"
      ]
     },
     "execution_count": 11,
     "metadata": {},
     "output_type": "execute_result"
    }
   ],
   "source": [
    "len(df)"
   ]
  },
  {
   "cell_type": "code",
   "execution_count": 8,
   "metadata": {},
   "outputs": [],
   "source": [
    "# Padronizando região\n",
    "\n",
    "df['nome_regiao'] = df['nome_regiao'].replace({'sul':'Sul', 'norte': 'Norte','nordeste':'Nordeste','centro-oeste':'Centro-oeste','sudeste':'Sudeste'})"
   ]
  },
  {
   "cell_type": "code",
   "execution_count": 9,
   "metadata": {},
   "outputs": [],
   "source": [
    "# Padronizando tipo_cota\n",
    "df['tipo_cota'] = df['tipo_cota'].replace({'Concurso público':'Concurso público', 'concurso público': 'Concurso público','Concurso Público e estagiário':'Concurso público e estágio profissional',\n",
    "'Concurso público e contratação temporária.':'Concurso público e contratação temporária','Sistema de pontuação diferenciado em concurso público':'Concurso público'})"
   ]
  },
  {
   "cell_type": "code",
   "execution_count": 14,
   "metadata": {},
   "outputs": [
    {
     "data": {
      "text/plain": [
       "135"
      ]
     },
     "execution_count": 14,
     "metadata": {},
     "output_type": "execute_result"
    }
   ],
   "source": [
    "len(df)"
   ]
  },
  {
   "cell_type": "code",
   "execution_count": null,
   "metadata": {},
   "outputs": [],
   "source": [
    " ## Padronizando com map\n",
    "#mapping = {'Concurso público':'Concurso público', 'concurso público': 'Concurso público','Concurso Público e estagiário':'Concurso público e estágio profissional'}\n",
    "#df['tipo_cota'] = df['tipo_cota'].map(mapping)"
   ]
  },
  {
   "cell_type": "code",
   "execution_count": 10,
   "metadata": {},
   "outputs": [],
   "source": [
    "df['percentual'] = df['percentual'].replace({'não consta':'Não consta','20 a 30':'20% a 30%'})"
   ]
  },
  {
   "cell_type": "code",
   "execution_count": 17,
   "metadata": {},
   "outputs": [
    {
     "data": {
      "text/plain": [
       "array(['20%', '44%', '25%', '10%', '5%', 'Não consta', '12%', '30%',\n",
       "       'metas percentuais', '15%', '17%', nan, '20% a 30%'], dtype=object)"
      ]
     },
     "execution_count": 17,
     "metadata": {},
     "output_type": "execute_result"
    }
   ],
   "source": [
    "df['percentual'].unique()"
   ]
  },
  {
   "cell_type": "code",
   "execution_count": null,
   "metadata": {},
   "outputs": [],
   "source": [
    "#df_tipos= pd.DataFrame({'coluna':df.columns,'tipos':tipos})\n",
    "#df_tipos\n"
   ]
  },
  {
   "cell_type": "code",
   "execution_count": null,
   "metadata": {},
   "outputs": [],
   "source": [
    "#df_tipos.iloc[13,1]"
   ]
  },
  {
   "cell_type": "code",
   "execution_count": null,
   "metadata": {},
   "outputs": [],
   "source": [
    "#schema = []\n",
    "\n",
    "#for i in list(range(len(df_tipos))):\n",
    " \n",
    " #   x=  \"bigquery.SchemaField('{}',\".format(df_tipos.iloc[i,0])\n",
    "    \n",
    "    \n",
    "  #  y = x+\"'{}')\".format(df_tipos.iloc[i,1])\n",
    "\n",
    "\n",
    "#    schema.append(y)"
   ]
  },
  {
   "cell_type": "code",
   "execution_count": 27,
   "metadata": {},
   "outputs": [
    {
     "data": {
      "text/plain": [
       "0                     Bagé\n",
       "1                  Pelotas\n",
       "2                   Viamão\n",
       "3      Teixeira de Freitas\n",
       "4                     Sapé\n",
       "              ...         \n",
       "130              Jaguaribe\n",
       "131            Porto Velho\n",
       "132         Rio de Janeiro\n",
       "133               Teresina\n",
       "134                  Natal\n",
       "Name: nome_municipio, Length: 135, dtype: object"
      ]
     },
     "execution_count": 27,
     "metadata": {},
     "output_type": "execute_result"
    }
   ],
   "source": [
    "df['nome_municipio']"
   ]
  },
  {
   "cell_type": "code",
   "execution_count": 14,
   "metadata": {},
   "outputs": [
    {
     "name": "stdout",
     "output_type": "stream",
     "text": [
      "<class 'pandas.core.frame.DataFrame'>\n",
      "RangeIndex: 135 entries, 0 to 134\n",
      "Data columns (total 16 columns):\n",
      " #   Column                   Non-Null Count  Dtype \n",
      "---  ------                   --------------  ----- \n",
      " 0   ano                      135 non-null    int64 \n",
      " 1   abrangencia              135 non-null    object\n",
      " 2   nome_regiao              135 non-null    object\n",
      " 3   sigla_uf                 135 non-null    object\n",
      " 4   nome_municipio           135 non-null    object\n",
      " 5   legislacao               135 non-null    object\n",
      " 6   regulamentacao           23 non-null     object\n",
      " 7   tipo_cota                135 non-null    object\n",
      " 8   flag_comissionado        135 non-null    int64 \n",
      " 9   percentual               134 non-null    object\n",
      " 10  nomenclatura_legislacao  135 non-null    object\n",
      " 11  forma_identificacao      135 non-null    object\n",
      " 12  flag_comiss_verificacao  135 non-null    int64 \n",
      " 13  vigencia                 135 non-null    object\n",
      " 14  lat                      135 non-null    object\n",
      " 15  lng                      135 non-null    object\n",
      "dtypes: int64(3), object(13)\n",
      "memory usage: 17.0+ KB\n"
     ]
    }
   ],
   "source": [
    "df.info()"
   ]
  },
  {
   "cell_type": "code",
   "execution_count": 13,
   "metadata": {},
   "outputs": [
    {
     "name": "stderr",
     "output_type": "stream",
     "text": [
      "Downloading: 100%|██████████| 5570/5570 [00:00<00:00, 11099.38rows/s]\n"
     ]
    },
    {
     "ename": "KeyError",
     "evalue": "'id_municipio'",
     "output_type": "error",
     "traceback": [
      "\u001b[1;31m---------------------------------------------------------------------------\u001b[0m",
      "\u001b[1;31mKeyError\u001b[0m                                  Traceback (most recent call last)",
      "Cell \u001b[1;32mIn[13], line 3\u001b[0m\n\u001b[0;32m      1\u001b[0m \u001b[39m## Trazendo nomes de municipios\u001b[39;00m\n\u001b[0;32m      2\u001b[0m municipio\u001b[39m=\u001b[39mbd\u001b[39m.\u001b[39mread_sql(\u001b[39m\"\u001b[39m\u001b[39mselect sigla_uf, id_municipio, nome from `basedosdados.br_bd_diretorios_brasil.municipio`\u001b[39m\u001b[39m\"\u001b[39m, billing_project_id\u001b[39m=\u001b[39m\u001b[39m\"\u001b[39m\u001b[39mrepositoriodedadosgpsp\u001b[39m\u001b[39m\"\u001b[39m, from_file\u001b[39m=\u001b[39m\u001b[39mFalse\u001b[39;00m, reauth\u001b[39m=\u001b[39m\u001b[39mFalse\u001b[39;00m, use_bqstorage_api\u001b[39m=\u001b[39m\u001b[39mFalse\u001b[39;00m)\n\u001b[1;32m----> 3\u001b[0m df \u001b[39m=\u001b[39m df\u001b[39m.\u001b[39;49mmerge(municipio, left_on\u001b[39m=\u001b[39;49m\u001b[39m'\u001b[39;49m\u001b[39mid_municipio\u001b[39;49m\u001b[39m'\u001b[39;49m, right_on\u001b[39m=\u001b[39;49m\u001b[39m'\u001b[39;49m\u001b[39mid_municipio\u001b[39;49m\u001b[39m'\u001b[39;49m)\n",
      "File \u001b[1;32m~\\AppData\\Local\\Packages\\PythonSoftwareFoundation.Python.3.10_qbz5n2kfra8p0\\LocalCache\\local-packages\\Python310\\site-packages\\pandas\\core\\frame.py:10093\u001b[0m, in \u001b[0;36mDataFrame.merge\u001b[1;34m(self, right, how, on, left_on, right_on, left_index, right_index, sort, suffixes, copy, indicator, validate)\u001b[0m\n\u001b[0;32m  10074\u001b[0m \u001b[39m@Substitution\u001b[39m(\u001b[39m\"\u001b[39m\u001b[39m\"\u001b[39m)\n\u001b[0;32m  10075\u001b[0m \u001b[39m@Appender\u001b[39m(_merge_doc, indents\u001b[39m=\u001b[39m\u001b[39m2\u001b[39m)\n\u001b[0;32m  10076\u001b[0m \u001b[39mdef\u001b[39;00m \u001b[39mmerge\u001b[39m(\n\u001b[1;32m   (...)\u001b[0m\n\u001b[0;32m  10089\u001b[0m     validate: \u001b[39mstr\u001b[39m \u001b[39m|\u001b[39m \u001b[39mNone\u001b[39;00m \u001b[39m=\u001b[39m \u001b[39mNone\u001b[39;00m,\n\u001b[0;32m  10090\u001b[0m ) \u001b[39m-\u001b[39m\u001b[39m>\u001b[39m DataFrame:\n\u001b[0;32m  10091\u001b[0m     \u001b[39mfrom\u001b[39;00m \u001b[39mpandas\u001b[39;00m\u001b[39m.\u001b[39;00m\u001b[39mcore\u001b[39;00m\u001b[39m.\u001b[39;00m\u001b[39mreshape\u001b[39;00m\u001b[39m.\u001b[39;00m\u001b[39mmerge\u001b[39;00m \u001b[39mimport\u001b[39;00m merge\n\u001b[1;32m> 10093\u001b[0m     \u001b[39mreturn\u001b[39;00m merge(\n\u001b[0;32m  10094\u001b[0m         \u001b[39mself\u001b[39;49m,\n\u001b[0;32m  10095\u001b[0m         right,\n\u001b[0;32m  10096\u001b[0m         how\u001b[39m=\u001b[39;49mhow,\n\u001b[0;32m  10097\u001b[0m         on\u001b[39m=\u001b[39;49mon,\n\u001b[0;32m  10098\u001b[0m         left_on\u001b[39m=\u001b[39;49mleft_on,\n\u001b[0;32m  10099\u001b[0m         right_on\u001b[39m=\u001b[39;49mright_on,\n\u001b[0;32m  10100\u001b[0m         left_index\u001b[39m=\u001b[39;49mleft_index,\n\u001b[0;32m  10101\u001b[0m         right_index\u001b[39m=\u001b[39;49mright_index,\n\u001b[0;32m  10102\u001b[0m         sort\u001b[39m=\u001b[39;49msort,\n\u001b[0;32m  10103\u001b[0m         suffixes\u001b[39m=\u001b[39;49msuffixes,\n\u001b[0;32m  10104\u001b[0m         copy\u001b[39m=\u001b[39;49mcopy,\n\u001b[0;32m  10105\u001b[0m         indicator\u001b[39m=\u001b[39;49mindicator,\n\u001b[0;32m  10106\u001b[0m         validate\u001b[39m=\u001b[39;49mvalidate,\n\u001b[0;32m  10107\u001b[0m     )\n",
      "File \u001b[1;32m~\\AppData\\Local\\Packages\\PythonSoftwareFoundation.Python.3.10_qbz5n2kfra8p0\\LocalCache\\local-packages\\Python310\\site-packages\\pandas\\core\\reshape\\merge.py:110\u001b[0m, in \u001b[0;36mmerge\u001b[1;34m(left, right, how, on, left_on, right_on, left_index, right_index, sort, suffixes, copy, indicator, validate)\u001b[0m\n\u001b[0;32m     93\u001b[0m \u001b[39m@Substitution\u001b[39m(\u001b[39m\"\u001b[39m\u001b[39m\\n\u001b[39;00m\u001b[39mleft : DataFrame or named Series\u001b[39m\u001b[39m\"\u001b[39m)\n\u001b[0;32m     94\u001b[0m \u001b[39m@Appender\u001b[39m(_merge_doc, indents\u001b[39m=\u001b[39m\u001b[39m0\u001b[39m)\n\u001b[0;32m     95\u001b[0m \u001b[39mdef\u001b[39;00m \u001b[39mmerge\u001b[39m(\n\u001b[1;32m   (...)\u001b[0m\n\u001b[0;32m    108\u001b[0m     validate: \u001b[39mstr\u001b[39m \u001b[39m|\u001b[39m \u001b[39mNone\u001b[39;00m \u001b[39m=\u001b[39m \u001b[39mNone\u001b[39;00m,\n\u001b[0;32m    109\u001b[0m ) \u001b[39m-\u001b[39m\u001b[39m>\u001b[39m DataFrame:\n\u001b[1;32m--> 110\u001b[0m     op \u001b[39m=\u001b[39m _MergeOperation(\n\u001b[0;32m    111\u001b[0m         left,\n\u001b[0;32m    112\u001b[0m         right,\n\u001b[0;32m    113\u001b[0m         how\u001b[39m=\u001b[39;49mhow,\n\u001b[0;32m    114\u001b[0m         on\u001b[39m=\u001b[39;49mon,\n\u001b[0;32m    115\u001b[0m         left_on\u001b[39m=\u001b[39;49mleft_on,\n\u001b[0;32m    116\u001b[0m         right_on\u001b[39m=\u001b[39;49mright_on,\n\u001b[0;32m    117\u001b[0m         left_index\u001b[39m=\u001b[39;49mleft_index,\n\u001b[0;32m    118\u001b[0m         right_index\u001b[39m=\u001b[39;49mright_index,\n\u001b[0;32m    119\u001b[0m         sort\u001b[39m=\u001b[39;49msort,\n\u001b[0;32m    120\u001b[0m         suffixes\u001b[39m=\u001b[39;49msuffixes,\n\u001b[0;32m    121\u001b[0m         indicator\u001b[39m=\u001b[39;49mindicator,\n\u001b[0;32m    122\u001b[0m         validate\u001b[39m=\u001b[39;49mvalidate,\n\u001b[0;32m    123\u001b[0m     )\n\u001b[0;32m    124\u001b[0m     \u001b[39mreturn\u001b[39;00m op\u001b[39m.\u001b[39mget_result(copy\u001b[39m=\u001b[39mcopy)\n",
      "File \u001b[1;32m~\\AppData\\Local\\Packages\\PythonSoftwareFoundation.Python.3.10_qbz5n2kfra8p0\\LocalCache\\local-packages\\Python310\\site-packages\\pandas\\core\\reshape\\merge.py:703\u001b[0m, in \u001b[0;36m_MergeOperation.__init__\u001b[1;34m(self, left, right, how, on, left_on, right_on, axis, left_index, right_index, sort, suffixes, indicator, validate)\u001b[0m\n\u001b[0;32m    696\u001b[0m \u001b[39mself\u001b[39m\u001b[39m.\u001b[39m_cross \u001b[39m=\u001b[39m cross_col\n\u001b[0;32m    698\u001b[0m \u001b[39m# note this function has side effects\u001b[39;00m\n\u001b[0;32m    699\u001b[0m (\n\u001b[0;32m    700\u001b[0m     \u001b[39mself\u001b[39m\u001b[39m.\u001b[39mleft_join_keys,\n\u001b[0;32m    701\u001b[0m     \u001b[39mself\u001b[39m\u001b[39m.\u001b[39mright_join_keys,\n\u001b[0;32m    702\u001b[0m     \u001b[39mself\u001b[39m\u001b[39m.\u001b[39mjoin_names,\n\u001b[1;32m--> 703\u001b[0m ) \u001b[39m=\u001b[39m \u001b[39mself\u001b[39;49m\u001b[39m.\u001b[39;49m_get_merge_keys()\n\u001b[0;32m    705\u001b[0m \u001b[39m# validate the merge keys dtypes. We may need to coerce\u001b[39;00m\n\u001b[0;32m    706\u001b[0m \u001b[39m# to avoid incompatible dtypes\u001b[39;00m\n\u001b[0;32m    707\u001b[0m \u001b[39mself\u001b[39m\u001b[39m.\u001b[39m_maybe_coerce_merge_keys()\n",
      "File \u001b[1;32m~\\AppData\\Local\\Packages\\PythonSoftwareFoundation.Python.3.10_qbz5n2kfra8p0\\LocalCache\\local-packages\\Python310\\site-packages\\pandas\\core\\reshape\\merge.py:1179\u001b[0m, in \u001b[0;36m_MergeOperation._get_merge_keys\u001b[1;34m(self)\u001b[0m\n\u001b[0;32m   1175\u001b[0m \u001b[39mif\u001b[39;00m lk \u001b[39mis\u001b[39;00m \u001b[39mnot\u001b[39;00m \u001b[39mNone\u001b[39;00m:\n\u001b[0;32m   1176\u001b[0m     \u001b[39m# Then we're either Hashable or a wrong-length arraylike,\u001b[39;00m\n\u001b[0;32m   1177\u001b[0m     \u001b[39m#  the latter of which will raise\u001b[39;00m\n\u001b[0;32m   1178\u001b[0m     lk \u001b[39m=\u001b[39m cast(Hashable, lk)\n\u001b[1;32m-> 1179\u001b[0m     left_keys\u001b[39m.\u001b[39mappend(left\u001b[39m.\u001b[39;49m_get_label_or_level_values(lk))\n\u001b[0;32m   1180\u001b[0m     join_names\u001b[39m.\u001b[39mappend(lk)\n\u001b[0;32m   1181\u001b[0m \u001b[39melse\u001b[39;00m:\n\u001b[0;32m   1182\u001b[0m     \u001b[39m# work-around for merge_asof(left_index=True)\u001b[39;00m\n",
      "File \u001b[1;32m~\\AppData\\Local\\Packages\\PythonSoftwareFoundation.Python.3.10_qbz5n2kfra8p0\\LocalCache\\local-packages\\Python310\\site-packages\\pandas\\core\\generic.py:1850\u001b[0m, in \u001b[0;36mNDFrame._get_label_or_level_values\u001b[1;34m(self, key, axis)\u001b[0m\n\u001b[0;32m   1844\u001b[0m     values \u001b[39m=\u001b[39m (\n\u001b[0;32m   1845\u001b[0m         \u001b[39mself\u001b[39m\u001b[39m.\u001b[39maxes[axis]\n\u001b[0;32m   1846\u001b[0m         \u001b[39m.\u001b[39mget_level_values(key)  \u001b[39m# type: ignore[assignment]\u001b[39;00m\n\u001b[0;32m   1847\u001b[0m         \u001b[39m.\u001b[39m_values\n\u001b[0;32m   1848\u001b[0m     )\n\u001b[0;32m   1849\u001b[0m \u001b[39melse\u001b[39;00m:\n\u001b[1;32m-> 1850\u001b[0m     \u001b[39mraise\u001b[39;00m \u001b[39mKeyError\u001b[39;00m(key)\n\u001b[0;32m   1852\u001b[0m \u001b[39m# Check for duplicates\u001b[39;00m\n\u001b[0;32m   1853\u001b[0m \u001b[39mif\u001b[39;00m values\u001b[39m.\u001b[39mndim \u001b[39m>\u001b[39m \u001b[39m1\u001b[39m:\n",
      "\u001b[1;31mKeyError\u001b[0m: 'id_municipio'"
     ]
    }
   ],
   "source": [
    "## Trazendo nomes de municipios\n",
    "municipio=bd.read_sql(\"select sigla_uf, id_municipio, nome from `basedosdados.br_bd_diretorios_brasil.municipio`\", billing_project_id=\"repositoriodedadosgpsp\", from_file=False, reauth=False, use_bqstorage_api=False)\n",
    "df = df.merge(municipio, left_on='id_municipio', right_on='id_municipio')"
   ]
  },
  {
   "cell_type": "code",
   "execution_count": 19,
   "metadata": {},
   "outputs": [],
   "source": [
    "client = bigquery.Client()"
   ]
  },
  {
   "cell_type": "code",
   "execution_count": 20,
   "metadata": {},
   "outputs": [],
   "source": [
    "dataset_ref = client.dataset('acoes_afirmativas')"
   ]
  },
  {
   "cell_type": "code",
   "execution_count": null,
   "metadata": {},
   "outputs": [],
   "source": [
    "df.columns"
   ]
  },
  {
   "cell_type": "code",
   "execution_count": 21,
   "metadata": {},
   "outputs": [],
   "source": [
    "schema=[bigquery.SchemaField('ano','INTEGER',description='Ano de implementação da legislação.'),\n",
    " bigquery.SchemaField('abrangencia','STRING',description='Se a abrangência é municipal, estadual, federal, nacional ou distrital.'),\n",
    " bigquery.SchemaField('nome_regiao','STRING',description='Nome da Região.'),\n",
    " bigquery.SchemaField('sigla_uf','STRING',description='Sigla da Unidade da Federação.'),\n",
    " bigquery.SchemaField('nome_municipio','STRING',description='Município.'),\n",
    " bigquery.SchemaField('legislacao','STRING',description='Número da legislação e detalhes.'),\n",
    " bigquery.SchemaField('regulamentacao','STRING',description='Detalhes sobre a regulamentação'),\n",
    " bigquery.SchemaField('tipo_cota','STRING',description='A cota vale para quais formas de ingresso.'),\n",
    " bigquery.SchemaField('flag_comissionado','INTEGER',description='A ação abrange cargos comissionados?'),\n",
    " bigquery.SchemaField('percentual','STRING',description='Percentual de vagas reservadas'),\n",
    " bigquery.SchemaField('nomenclatura_legislacao','STRING',description='Se a abrangência é municipal, estadual ou federal'),\n",
    " bigquery.SchemaField('forma_identificacao','STRING',description='Forma de identificação do público alvo na legislação. '),\n",
    " bigquery.SchemaField('flag_comiss_verificacao','INTEGER',description='Se há comissão de verificação.'),\n",
    " bigquery.SchemaField('vigencia','STRING',description='Se está vigente ou não.'),\n",
    " bigquery.SchemaField('lat','STRING',description='Latitude'),\n",
    " bigquery.SchemaField('lng','STRING',description='Longitude')]"
   ]
  },
  {
   "cell_type": "code",
   "execution_count": 22,
   "metadata": {},
   "outputs": [],
   "source": [
    "table_ref = dataset_ref.table('FLACSO_acoes_afirmativas_grafico')"
   ]
  },
  {
   "cell_type": "code",
   "execution_count": 23,
   "metadata": {},
   "outputs": [],
   "source": [
    "job_config = bigquery.LoadJobConfig(schema=schema)"
   ]
  },
  {
   "cell_type": "code",
   "execution_count": 26,
   "metadata": {},
   "outputs": [
    {
     "data": {
      "text/plain": [
       "LoadJob<project=repositoriodedadosgpsp, location=US, id=86606ccd-7bb3-4252-81d9-abf4b6240702>"
      ]
     },
     "execution_count": 26,
     "metadata": {},
     "output_type": "execute_result"
    }
   ],
   "source": [
    "job = client.load_table_from_dataframe(df, table_ref, job_config=job_config)\n",
    "job.result() "
   ]
  },
  {
   "cell_type": "code",
   "execution_count": 25,
   "metadata": {},
   "outputs": [],
   "source": [
    "#para excluir tabelas\n",
    "client.delete_table('acoes_afirmativas.FLACSO_acoes_afirmativas_grafico', not_found_ok=True)"
   ]
  },
  {
   "cell_type": "code",
   "execution_count": null,
   "metadata": {},
   "outputs": [],
   "source": [
    "df.dtypes\n"
   ]
  },
  {
   "cell_type": "code",
   "execution_count": null,
   "metadata": {},
   "outputs": [],
   "source": [
    "job_config = bigquery.LoadJobConfig(schema=schema)\n",
    "job = client.load_table_from_dataframe(df, table_ref, job_config=job_config)\n",
    "job.result() "
   ]
  },
  {
   "attachments": {},
   "cell_type": "markdown",
   "metadata": {},
   "source": [
    "# Método 2: Usando JSON:\n",
    "https://cloud.google.com/bigquery/docs/schemas?hl=pt-br\n"
   ]
  },
  {
   "cell_type": "code",
   "execution_count": null,
   "metadata": {},
   "outputs": [],
   "source": []
  }
 ],
 "metadata": {
  "kernelspec": {
   "display_name": "Python 3",
   "language": "python",
   "name": "python3"
  },
  "language_info": {
   "codemirror_mode": {
    "name": "ipython",
    "version": 3
   },
   "file_extension": ".py",
   "mimetype": "text/x-python",
   "name": "python",
   "nbconvert_exporter": "python",
   "pygments_lexer": "ipython3",
   "version": "3.10.11"
  },
  "orig_nbformat": 4
 },
 "nbformat": 4,
 "nbformat_minor": 2
}
