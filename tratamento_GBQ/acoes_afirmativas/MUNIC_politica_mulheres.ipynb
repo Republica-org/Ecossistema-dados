{
 "cells": [
  {
   "cell_type": "code",
   "execution_count": 3,
   "metadata": {},
   "outputs": [],
   "source": [
    "## Inserindo dados do atlas no data lake\n",
    "import openpyxl\n",
    "import pandas as pd\n",
    "import time\n",
    "import os\n",
    "import pandas_gbq\n",
    "from google.cloud import bigquery\n",
    "import glob\n",
    "import basedosdados as bd\n",
    "import numpy as np\n",
    "\n"
   ]
  },
  {
   "cell_type": "code",
   "execution_count": 19,
   "metadata": {},
   "outputs": [
    {
     "name": "stderr",
     "output_type": "stream",
     "text": [
      "Downloading: 100%|██████████| 5570/5570 [00:00<00:00, 11561.15rows/s]\n"
     ]
    }
   ],
   "source": [
    "## Acessando pelo pacote da BD\n",
    "\n",
    "df=bd.read_sql(\"SELECT ano,tema,  id_municipio,existencia_priorizacao_cargo_mulher FROM `basedosdados-projetos.republica.indicadores_munic_gerais` where ano=2018 and tema='recursos_humanos' \", billing_project_id=\"repositoriodedadosgpsp\", from_file=False, reauth=False, use_bqstorage_api=False)"
   ]
  },
  {
   "cell_type": "code",
   "execution_count": 6,
   "metadata": {},
   "outputs": [
    {
     "data": {
      "text/html": [
       "<div>\n",
       "<style scoped>\n",
       "    .dataframe tbody tr th:only-of-type {\n",
       "        vertical-align: middle;\n",
       "    }\n",
       "\n",
       "    .dataframe tbody tr th {\n",
       "        vertical-align: top;\n",
       "    }\n",
       "\n",
       "    .dataframe thead th {\n",
       "        text-align: right;\n",
       "    }\n",
       "</style>\n",
       "<table border=\"1\" class=\"dataframe\">\n",
       "  <thead>\n",
       "    <tr style=\"text-align: right;\">\n",
       "      <th>col_0</th>\n",
       "      <th>count</th>\n",
       "    </tr>\n",
       "    <tr>\n",
       "      <th>existencia_priorizacao_cargo_mulher</th>\n",
       "      <th></th>\n",
       "    </tr>\n",
       "  </thead>\n",
       "  <tbody>\n",
       "    <tr>\n",
       "      <th>0</th>\n",
       "      <td>5413</td>\n",
       "    </tr>\n",
       "    <tr>\n",
       "      <th>1</th>\n",
       "      <td>152</td>\n",
       "    </tr>\n",
       "  </tbody>\n",
       "</table>\n",
       "</div>"
      ],
      "text/plain": [
       "col_0                                count\n",
       "existencia_priorizacao_cargo_mulher       \n",
       "0                                     5413\n",
       "1                                      152"
      ]
     },
     "execution_count": 6,
     "metadata": {},
     "output_type": "execute_result"
    }
   ],
   "source": [
    "# Equivalente ao table do R\n",
    "pd.crosstab(index = df[\"existencia_priorizacao_cargo_mulher\"],\n",
    "                              columns=\"count\")"
   ]
  },
  {
   "cell_type": "code",
   "execution_count": 7,
   "metadata": {},
   "outputs": [
    {
     "data": {
      "text/plain": [
       "<IntegerArray>\n",
       "[<NA>, 0, 1]\n",
       "Length: 3, dtype: Int64"
      ]
     },
     "execution_count": 7,
     "metadata": {},
     "output_type": "execute_result"
    }
   ],
   "source": [
    "df['existencia_priorizacao_cargo_mulher'].unique()"
   ]
  },
  {
   "cell_type": "code",
   "execution_count": 20,
   "metadata": {},
   "outputs": [],
   "source": [
    "df = df.dropna()"
   ]
  },
  {
   "cell_type": "code",
   "execution_count": 10,
   "metadata": {},
   "outputs": [
    {
     "data": {
      "text/plain": [
       "5565"
      ]
     },
     "execution_count": 10,
     "metadata": {},
     "output_type": "execute_result"
    }
   ],
   "source": [
    "len(df)"
   ]
  },
  {
   "cell_type": "code",
   "execution_count": 21,
   "metadata": {},
   "outputs": [],
   "source": [
    "df['existencia_priorizacao_cargo_mulher'] = np.where(df['existencia_priorizacao_cargo_mulher']== 0, \"Não\", \"Sim\")"
   ]
  },
  {
   "cell_type": "code",
   "execution_count": 22,
   "metadata": {},
   "outputs": [
    {
     "name": "stderr",
     "output_type": "stream",
     "text": [
      "Downloading: 100%|██████████| 5570/5570 [00:00<00:00, 12927.64rows/s]\n"
     ]
    }
   ],
   "source": [
    "## Trazendo nomes de municipios\n",
    "municipio=bd.read_sql(\"select sigla_uf, id_municipio, nome from `basedosdados.br_bd_diretorios_brasil.municipio`\", billing_project_id=\"repositoriodedadosgpsp\", from_file=False, reauth=False, use_bqstorage_api=False)\n",
    "df = df.merge(municipio, left_on='id_municipio', right_on='id_municipio')"
   ]
  },
  {
   "cell_type": "code",
   "execution_count": 23,
   "metadata": {},
   "outputs": [
    {
     "data": {
      "text/html": [
       "<div>\n",
       "<style scoped>\n",
       "    .dataframe tbody tr th:only-of-type {\n",
       "        vertical-align: middle;\n",
       "    }\n",
       "\n",
       "    .dataframe tbody tr th {\n",
       "        vertical-align: top;\n",
       "    }\n",
       "\n",
       "    .dataframe thead th {\n",
       "        text-align: right;\n",
       "    }\n",
       "</style>\n",
       "<table border=\"1\" class=\"dataframe\">\n",
       "  <thead>\n",
       "    <tr style=\"text-align: right;\">\n",
       "      <th></th>\n",
       "      <th>ano</th>\n",
       "      <th>tema</th>\n",
       "      <th>id_municipio</th>\n",
       "      <th>existencia_priorizacao_cargo_mulher</th>\n",
       "      <th>sigla_uf</th>\n",
       "      <th>nome</th>\n",
       "    </tr>\n",
       "  </thead>\n",
       "  <tbody>\n",
       "    <tr>\n",
       "      <th>0</th>\n",
       "      <td>2018</td>\n",
       "      <td>recursos_humanos</td>\n",
       "      <td>1100023</td>\n",
       "      <td>Não</td>\n",
       "      <td>RO</td>\n",
       "      <td>Ariquemes</td>\n",
       "    </tr>\n",
       "    <tr>\n",
       "      <th>1</th>\n",
       "      <td>2018</td>\n",
       "      <td>recursos_humanos</td>\n",
       "      <td>1100031</td>\n",
       "      <td>Não</td>\n",
       "      <td>RO</td>\n",
       "      <td>Cabixi</td>\n",
       "    </tr>\n",
       "    <tr>\n",
       "      <th>2</th>\n",
       "      <td>2018</td>\n",
       "      <td>recursos_humanos</td>\n",
       "      <td>1100049</td>\n",
       "      <td>Não</td>\n",
       "      <td>RO</td>\n",
       "      <td>Cacoal</td>\n",
       "    </tr>\n",
       "    <tr>\n",
       "      <th>3</th>\n",
       "      <td>2018</td>\n",
       "      <td>recursos_humanos</td>\n",
       "      <td>1100056</td>\n",
       "      <td>Não</td>\n",
       "      <td>RO</td>\n",
       "      <td>Cerejeiras</td>\n",
       "    </tr>\n",
       "    <tr>\n",
       "      <th>4</th>\n",
       "      <td>2018</td>\n",
       "      <td>recursos_humanos</td>\n",
       "      <td>1100064</td>\n",
       "      <td>Não</td>\n",
       "      <td>RO</td>\n",
       "      <td>Colorado do Oeste</td>\n",
       "    </tr>\n",
       "    <tr>\n",
       "      <th>...</th>\n",
       "      <td>...</td>\n",
       "      <td>...</td>\n",
       "      <td>...</td>\n",
       "      <td>...</td>\n",
       "      <td>...</td>\n",
       "      <td>...</td>\n",
       "    </tr>\n",
       "    <tr>\n",
       "      <th>5560</th>\n",
       "      <td>2018</td>\n",
       "      <td>recursos_humanos</td>\n",
       "      <td>5222005</td>\n",
       "      <td>Não</td>\n",
       "      <td>GO</td>\n",
       "      <td>Vianópolis</td>\n",
       "    </tr>\n",
       "    <tr>\n",
       "      <th>5561</th>\n",
       "      <td>2018</td>\n",
       "      <td>recursos_humanos</td>\n",
       "      <td>5222054</td>\n",
       "      <td>Não</td>\n",
       "      <td>GO</td>\n",
       "      <td>Vicentinópolis</td>\n",
       "    </tr>\n",
       "    <tr>\n",
       "      <th>5562</th>\n",
       "      <td>2018</td>\n",
       "      <td>recursos_humanos</td>\n",
       "      <td>5222203</td>\n",
       "      <td>Não</td>\n",
       "      <td>GO</td>\n",
       "      <td>Vila Boa</td>\n",
       "    </tr>\n",
       "    <tr>\n",
       "      <th>5563</th>\n",
       "      <td>2018</td>\n",
       "      <td>recursos_humanos</td>\n",
       "      <td>5222302</td>\n",
       "      <td>Não</td>\n",
       "      <td>GO</td>\n",
       "      <td>Vila Propício</td>\n",
       "    </tr>\n",
       "    <tr>\n",
       "      <th>5564</th>\n",
       "      <td>2018</td>\n",
       "      <td>recursos_humanos</td>\n",
       "      <td>5300108</td>\n",
       "      <td>Não</td>\n",
       "      <td>DF</td>\n",
       "      <td>Brasília</td>\n",
       "    </tr>\n",
       "  </tbody>\n",
       "</table>\n",
       "<p>5565 rows × 6 columns</p>\n",
       "</div>"
      ],
      "text/plain": [
       "       ano              tema id_municipio existencia_priorizacao_cargo_mulher  \\\n",
       "0     2018  recursos_humanos      1100023                                 Não   \n",
       "1     2018  recursos_humanos      1100031                                 Não   \n",
       "2     2018  recursos_humanos      1100049                                 Não   \n",
       "3     2018  recursos_humanos      1100056                                 Não   \n",
       "4     2018  recursos_humanos      1100064                                 Não   \n",
       "...    ...               ...          ...                                 ...   \n",
       "5560  2018  recursos_humanos      5222005                                 Não   \n",
       "5561  2018  recursos_humanos      5222054                                 Não   \n",
       "5562  2018  recursos_humanos      5222203                                 Não   \n",
       "5563  2018  recursos_humanos      5222302                                 Não   \n",
       "5564  2018  recursos_humanos      5300108                                 Não   \n",
       "\n",
       "     sigla_uf               nome  \n",
       "0          RO          Ariquemes  \n",
       "1          RO             Cabixi  \n",
       "2          RO             Cacoal  \n",
       "3          RO         Cerejeiras  \n",
       "4          RO  Colorado do Oeste  \n",
       "...       ...                ...  \n",
       "5560       GO         Vianópolis  \n",
       "5561       GO     Vicentinópolis  \n",
       "5562       GO           Vila Boa  \n",
       "5563       GO      Vila Propício  \n",
       "5564       DF           Brasília  \n",
       "\n",
       "[5565 rows x 6 columns]"
      ]
     },
     "execution_count": 23,
     "metadata": {},
     "output_type": "execute_result"
    }
   ],
   "source": [
    "df"
   ]
  },
  {
   "cell_type": "code",
   "execution_count": 24,
   "metadata": {},
   "outputs": [],
   "source": [
    " df.rename({'nome':'nome_municipio'}, inplace=True, axis=1)"
   ]
  },
  {
   "cell_type": "code",
   "execution_count": 25,
   "metadata": {},
   "outputs": [],
   "source": [
    "\n",
    "df = df.reindex(columns=['ano', 'tema','sigla_uf', 'id_municipio','nome_municipio', 'existencia_priorizacao_cargo_mulher'])"
   ]
  },
  {
   "cell_type": "code",
   "execution_count": 26,
   "metadata": {},
   "outputs": [],
   "source": [
    " df.drop(['tema'], axis=1, inplace=True)"
   ]
  },
  {
   "cell_type": "code",
   "execution_count": 15,
   "metadata": {},
   "outputs": [],
   "source": [
    "client = bigquery.Client()"
   ]
  },
  {
   "cell_type": "code",
   "execution_count": 16,
   "metadata": {},
   "outputs": [],
   "source": [
    "dataset_ref = client.dataset('acoes_afirmativas')"
   ]
  },
  {
   "cell_type": "code",
   "execution_count": 32,
   "metadata": {},
   "outputs": [
    {
     "data": {
      "text/plain": [
       "Index(['ano', 'sigla_uf', 'id_municipio', 'nome_municipio',\n",
       "       'existencia_priorizacao_cargo_mulher'],\n",
       "      dtype='object')"
      ]
     },
     "execution_count": 32,
     "metadata": {},
     "output_type": "execute_result"
    }
   ],
   "source": [
    "df.columns"
   ]
  },
  {
   "cell_type": "code",
   "execution_count": 18,
   "metadata": {},
   "outputs": [
    {
     "data": {
      "text/plain": [
       "ano                                     Int64\n",
       "id_municipio                           object\n",
       "nome_municipio                         object\n",
       "existencia_priorizacao_cargo_mulher    object\n",
       "dtype: object"
      ]
     },
     "execution_count": 18,
     "metadata": {},
     "output_type": "execute_result"
    }
   ],
   "source": [
    "df.dtypes"
   ]
  },
  {
   "cell_type": "code",
   "execution_count": 37,
   "metadata": {},
   "outputs": [],
   "source": [
    "schema=[bigquery.SchemaField('ano','INTEGER',description='Ano da apuração daquele dado'),\n",
    "bigquery.SchemaField('sigla_uf','STRING',description='Sigla da Unidade da Federação daquele município.'),\n",
    " bigquery.SchemaField('id_municipio','STRING',description='ID do IBGE para aquele município.'),\n",
    " bigquery.SchemaField('nome_municipio','STRING',description='Nome do município'),\n",
    " bigquery.SchemaField('existencia_priorizacao_cargo_mulher','STRING',description='Se existe ou não existe política de priorização para mulheres em cargos de chefia e assessoramento.')\n",
    " ]"
   ]
  },
  {
   "cell_type": "code",
   "execution_count": 34,
   "metadata": {},
   "outputs": [],
   "source": [
    "table_ref = dataset_ref.table('MUNIC_politica_mulheres')"
   ]
  },
  {
   "cell_type": "code",
   "execution_count": 38,
   "metadata": {},
   "outputs": [],
   "source": [
    "job_config = bigquery.LoadJobConfig(schema=schema)"
   ]
  },
  {
   "cell_type": "code",
   "execution_count": 39,
   "metadata": {},
   "outputs": [
    {
     "data": {
      "text/plain": [
       "LoadJob<project=repositoriodedadosgpsp, location=US, id=f58b0c57-467b-4b5f-b4ef-cde6002690de>"
      ]
     },
     "execution_count": 39,
     "metadata": {},
     "output_type": "execute_result"
    }
   ],
   "source": [
    "job = client.load_table_from_dataframe(df, table_ref, job_config=job_config)\n",
    "job.result() "
   ]
  }
 ],
 "metadata": {
  "kernelspec": {
   "display_name": "Python 3",
   "language": "python",
   "name": "python3"
  },
  "language_info": {
   "codemirror_mode": {
    "name": "ipython",
    "version": 3
   },
   "file_extension": ".py",
   "mimetype": "text/x-python",
   "name": "python",
   "nbconvert_exporter": "python",
   "pygments_lexer": "ipython3",
   "version": "3.10.11"
  },
  "orig_nbformat": 4
 },
 "nbformat": 4,
 "nbformat_minor": 2
}
