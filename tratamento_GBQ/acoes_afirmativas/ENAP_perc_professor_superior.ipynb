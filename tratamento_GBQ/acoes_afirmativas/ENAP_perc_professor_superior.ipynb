{
 "cells": [
  {
   "cell_type": "code",
   "execution_count": 2,
   "metadata": {},
   "outputs": [],
   "source": [
    "import numpy as np\n",
    "import pandas as pd\n",
    "import numpy as np\n",
    "import os\n",
    "import time\n",
    "from google.cloud import bigquery\n"
   ]
  },
  {
   "cell_type": "code",
   "execution_count": 13,
   "metadata": {},
   "outputs": [],
   "source": [
    "os.chdir('G:\\\\Drives compartilhados\\\\República.org\\\\4. Equipes\\\\Dados e Comunicação\\\\DADOS\\\\415 - Repositório de Dados\\\\Dados novos\\\\Dados para subir\\\\Dados Brutos\\\\ENAP - ações afirmativas')\n"
   ]
  },
  {
   "cell_type": "code",
   "execution_count": 18,
   "metadata": {},
   "outputs": [
    {
     "name": "stdout",
     "output_type": "stream",
     "text": [
      "<class 'pandas.core.frame.DataFrame'>\n",
      "RangeIndex: 63 entries, 0 to 62\n",
      "Data columns (total 2 columns):\n",
      " #   Column                Non-Null Count  Dtype \n",
      "---  ------                --------------  ----- \n",
      " 0   universidade          63 non-null     object\n",
      " 1    quantidade_cotista   63 non-null     object\n",
      "dtypes: object(2)\n",
      "memory usage: 1.1+ KB\n"
     ]
    }
   ],
   "source": [
    "df.info()"
   ]
  },
  {
   "cell_type": "code",
   "execution_count": null,
   "metadata": {},
   "outputs": [],
   "source": []
  },
  {
   "cell_type": "code",
   "execution_count": 41,
   "metadata": {},
   "outputs": [
    {
     "data": {
      "text/html": [
       "<div>\n",
       "<style scoped>\n",
       "    .dataframe tbody tr th:only-of-type {\n",
       "        vertical-align: middle;\n",
       "    }\n",
       "\n",
       "    .dataframe tbody tr th {\n",
       "        vertical-align: top;\n",
       "    }\n",
       "\n",
       "    .dataframe thead th {\n",
       "        text-align: right;\n",
       "    }\n",
       "</style>\n",
       "<table border=\"1\" class=\"dataframe\">\n",
       "  <thead>\n",
       "    <tr style=\"text-align: right;\">\n",
       "      <th></th>\n",
       "      <th>sigla</th>\n",
       "      <th>nome_universidade</th>\n",
       "      <th>quantidade_cotista</th>\n",
       "    </tr>\n",
       "  </thead>\n",
       "  <tbody>\n",
       "    <tr>\n",
       "      <th>0</th>\n",
       "      <td>FUAM</td>\n",
       "      <td>Fundação Universidade Federal do Amazonas</td>\n",
       "      <td>-</td>\n",
       "    </tr>\n",
       "    <tr>\n",
       "      <th>1</th>\n",
       "      <td>FUFOP</td>\n",
       "      <td>Fundação Universidade Federal de Ouro Preto</td>\n",
       "      <td>-</td>\n",
       "    </tr>\n",
       "    <tr>\n",
       "      <th>2</th>\n",
       "      <td>FUFPEL</td>\n",
       "      <td>Fundação Universidade Federal de Pelotas</td>\n",
       "      <td>-</td>\n",
       "    </tr>\n",
       "    <tr>\n",
       "      <th>3</th>\n",
       "      <td>FUFSCAR</td>\n",
       "      <td>Universidade Federal de São Carlos - SP</td>\n",
       "      <td>-</td>\n",
       "    </tr>\n",
       "    <tr>\n",
       "      <th>4</th>\n",
       "      <td>FUMA</td>\n",
       "      <td>Fundação Universidade Federal do Maranhão</td>\n",
       "      <td>-</td>\n",
       "    </tr>\n",
       "    <tr>\n",
       "      <th>...</th>\n",
       "      <td>...</td>\n",
       "      <td>...</td>\n",
       "      <td>...</td>\n",
       "    </tr>\n",
       "    <tr>\n",
       "      <th>59</th>\n",
       "      <td>UFSC</td>\n",
       "      <td>Universidade Federal de Santa Catarina</td>\n",
       "      <td>0,0197</td>\n",
       "    </tr>\n",
       "    <tr>\n",
       "      <th>60</th>\n",
       "      <td>UFOPA</td>\n",
       "      <td>Universidade Federal do Oeste do Pará</td>\n",
       "      <td>0,0238</td>\n",
       "    </tr>\n",
       "    <tr>\n",
       "      <th>61</th>\n",
       "      <td>UFMS</td>\n",
       "      <td>Universidade Federal de Mato Grosso do Sul</td>\n",
       "      <td>0,0370</td>\n",
       "    </tr>\n",
       "    <tr>\n",
       "      <th>62</th>\n",
       "      <td>UFGD</td>\n",
       "      <td>Fundação Universidade Federal da Grande Dourados</td>\n",
       "      <td>0,0428</td>\n",
       "    </tr>\n",
       "    <tr>\n",
       "      <th>63</th>\n",
       "      <td>UFESBA</td>\n",
       "      <td>Universidade Federal do Sul da Bahia</td>\n",
       "      <td>0,0774</td>\n",
       "    </tr>\n",
       "  </tbody>\n",
       "</table>\n",
       "<p>64 rows × 3 columns</p>\n",
       "</div>"
      ],
      "text/plain": [
       "      sigla                                 nome_universidade  \\\n",
       "0      FUAM         Fundação Universidade Federal do Amazonas   \n",
       "1     FUFOP       Fundação Universidade Federal de Ouro Preto   \n",
       "2    FUFPEL          Fundação Universidade Federal de Pelotas   \n",
       "3   FUFSCAR           Universidade Federal de São Carlos - SP   \n",
       "4      FUMA         Fundação Universidade Federal do Maranhão   \n",
       "..      ...                                               ...   \n",
       "59    UFSC             Universidade Federal de Santa Catarina   \n",
       "60    UFOPA             Universidade Federal do Oeste do Pará   \n",
       "61     UFMS        Universidade Federal de Mato Grosso do Sul   \n",
       "62    UFGD   Fundação Universidade Federal da Grande Dourados   \n",
       "63   UFESBA              Universidade Federal do Sul da Bahia   \n",
       "\n",
       "    quantidade_cotista   \n",
       "0                  -     \n",
       "1                  -     \n",
       "2                  -     \n",
       "3                  -     \n",
       "4                  -     \n",
       "..                  ...  \n",
       "59              0,0197   \n",
       "60              0,0238   \n",
       "61              0,0370   \n",
       "62              0,0428   \n",
       "63              0,0774   \n",
       "\n",
       "[64 rows x 3 columns]"
      ]
     },
     "execution_count": 41,
     "metadata": {},
     "output_type": "execute_result"
    }
   ],
   "source": [
    "df = pd.read_csv('perc_professor_superior.csv', sep=';', decimal=',', encoding='UTF-8')\n",
    "df"
   ]
  },
  {
   "cell_type": "code",
   "execution_count": 42,
   "metadata": {},
   "outputs": [],
   "source": [
    "df = df[df['sigla']!=\"FUMA\"]"
   ]
  },
  {
   "cell_type": "markdown",
   "metadata": {},
   "source": [
    "Removi FUMA pois é um nome antigo da Universidade Federal do Maranhão, a qual já está presente na lista. \n",
    " Mais detalhes podem ser encontrados no site:  https://portalpadrao.ufma.br/pi/historico-institucional"
   ]
  },
  {
   "cell_type": "code",
   "execution_count": 43,
   "metadata": {},
   "outputs": [],
   "source": [
    "df = df.rename(columns={' quantidade_cotista ':'per_cotistas'})\n"
   ]
  },
  {
   "cell_type": "code",
   "execution_count": 29,
   "metadata": {},
   "outputs": [
    {
     "data": {
      "text/plain": [
       "Index(['sigla', 'nome_universidade', 'per_cotistas'], dtype='object')"
      ]
     },
     "execution_count": 29,
     "metadata": {},
     "output_type": "execute_result"
    }
   ],
   "source": [
    "df.columns"
   ]
  },
  {
   "cell_type": "code",
   "execution_count": 44,
   "metadata": {},
   "outputs": [],
   "source": [
    "df['per_cotistas'] = df['per_cotistas'].str.replace(',','.').str.replace('-','0').astype(float)"
   ]
  },
  {
   "cell_type": "code",
   "execution_count": 40,
   "metadata": {},
   "outputs": [
    {
     "data": {
      "text/html": [
       "<div>\n",
       "<style scoped>\n",
       "    .dataframe tbody tr th:only-of-type {\n",
       "        vertical-align: middle;\n",
       "    }\n",
       "\n",
       "    .dataframe tbody tr th {\n",
       "        vertical-align: top;\n",
       "    }\n",
       "\n",
       "    .dataframe thead th {\n",
       "        text-align: right;\n",
       "    }\n",
       "</style>\n",
       "<table border=\"1\" class=\"dataframe\">\n",
       "  <thead>\n",
       "    <tr style=\"text-align: right;\">\n",
       "      <th></th>\n",
       "      <th>sigla</th>\n",
       "      <th>nome_universidade</th>\n",
       "      <th>per_cotistas</th>\n",
       "    </tr>\n",
       "  </thead>\n",
       "  <tbody>\n",
       "    <tr>\n",
       "      <th>63</th>\n",
       "      <td>UFESBA</td>\n",
       "      <td>Universidade Federal do Sul da Bahia</td>\n",
       "      <td>0.0774</td>\n",
       "    </tr>\n",
       "    <tr>\n",
       "      <th>62</th>\n",
       "      <td>UFGD</td>\n",
       "      <td>Fundação Universidade Federal da Grande Dourados</td>\n",
       "      <td>0.0428</td>\n",
       "    </tr>\n",
       "    <tr>\n",
       "      <th>61</th>\n",
       "      <td>UFMS</td>\n",
       "      <td>Universidade Federal de Mato Grosso do Sul</td>\n",
       "      <td>0.0370</td>\n",
       "    </tr>\n",
       "    <tr>\n",
       "      <th>60</th>\n",
       "      <td>UFOPA</td>\n",
       "      <td>Universidade Federal do Oeste do Pará</td>\n",
       "      <td>0.0238</td>\n",
       "    </tr>\n",
       "    <tr>\n",
       "      <th>59</th>\n",
       "      <td>UFSC</td>\n",
       "      <td>Universidade Federal de Santa Catarina</td>\n",
       "      <td>0.0197</td>\n",
       "    </tr>\n",
       "    <tr>\n",
       "      <th>58</th>\n",
       "      <td>FUFT</td>\n",
       "      <td>Fundação Universidade Federal do Tocantins</td>\n",
       "      <td>0.0150</td>\n",
       "    </tr>\n",
       "    <tr>\n",
       "      <th>57</th>\n",
       "      <td>UNIR</td>\n",
       "      <td>Fundação Universidade Federal de Rondônia</td>\n",
       "      <td>0.0144</td>\n",
       "    </tr>\n",
       "    <tr>\n",
       "      <th>56</th>\n",
       "      <td>UFBA</td>\n",
       "      <td>Universidade Federal da Bahia</td>\n",
       "      <td>0.0131</td>\n",
       "    </tr>\n",
       "    <tr>\n",
       "      <th>55</th>\n",
       "      <td>UFLA</td>\n",
       "      <td>Universidade Federal de Lavras - MG</td>\n",
       "      <td>0.0130</td>\n",
       "    </tr>\n",
       "    <tr>\n",
       "      <th>54</th>\n",
       "      <td>UFMT</td>\n",
       "      <td>Universidade Federal de Mato Grosso</td>\n",
       "      <td>0.0128</td>\n",
       "    </tr>\n",
       "    <tr>\n",
       "      <th>53</th>\n",
       "      <td>UNIFEI</td>\n",
       "      <td>Universidade Federal de Itajubá - MG</td>\n",
       "      <td>0.0100</td>\n",
       "    </tr>\n",
       "    <tr>\n",
       "      <th>52</th>\n",
       "      <td>UFAC</td>\n",
       "      <td>Universidade Federal do Acre</td>\n",
       "      <td>0.0088</td>\n",
       "    </tr>\n",
       "    <tr>\n",
       "      <th>51</th>\n",
       "      <td>UNIFAP</td>\n",
       "      <td>Fundação Universidade Federal do Amapá</td>\n",
       "      <td>0.0069</td>\n",
       "    </tr>\n",
       "    <tr>\n",
       "      <th>50</th>\n",
       "      <td>UFV</td>\n",
       "      <td>Universidade Federal de Viçosa - MG</td>\n",
       "      <td>0.0054</td>\n",
       "    </tr>\n",
       "    <tr>\n",
       "      <th>49</th>\n",
       "      <td>UNILAB</td>\n",
       "      <td>Universidade da Integração Internacional da Lu...</td>\n",
       "      <td>0.0054</td>\n",
       "    </tr>\n",
       "    <tr>\n",
       "      <th>48</th>\n",
       "      <td>UFCG</td>\n",
       "      <td>Universidade Federal de Campina Grande - PB</td>\n",
       "      <td>0.0050</td>\n",
       "    </tr>\n",
       "    <tr>\n",
       "      <th>47</th>\n",
       "      <td>UFPA</td>\n",
       "      <td>Universidade Federal do Pará</td>\n",
       "      <td>0.0047</td>\n",
       "    </tr>\n",
       "    <tr>\n",
       "      <th>46</th>\n",
       "      <td>FUFS</td>\n",
       "      <td>Fundação Universidade Federal de Sergipe</td>\n",
       "      <td>0.0047</td>\n",
       "    </tr>\n",
       "    <tr>\n",
       "      <th>45</th>\n",
       "      <td>UFRPE</td>\n",
       "      <td>Universidade Federal Rural de Pernambuco</td>\n",
       "      <td>0.0041</td>\n",
       "    </tr>\n",
       "    <tr>\n",
       "      <th>44</th>\n",
       "      <td>UFJF</td>\n",
       "      <td>Universidade Federal de Juiz de Fora - MG</td>\n",
       "      <td>0.0041</td>\n",
       "    </tr>\n",
       "    <tr>\n",
       "      <th>43</th>\n",
       "      <td>UFRJ</td>\n",
       "      <td>Universidade Federal do Rio de Janeiro</td>\n",
       "      <td>0.0039</td>\n",
       "    </tr>\n",
       "    <tr>\n",
       "      <th>42</th>\n",
       "      <td>UFRB</td>\n",
       "      <td>Universidade Federal do Recôncavo da Bahia</td>\n",
       "      <td>0.0035</td>\n",
       "    </tr>\n",
       "    <tr>\n",
       "      <th>41</th>\n",
       "      <td>UNB</td>\n",
       "      <td>Fundação Universidade de Brasília</td>\n",
       "      <td>0.0026</td>\n",
       "    </tr>\n",
       "    <tr>\n",
       "      <th>40</th>\n",
       "      <td>UFSM/RS</td>\n",
       "      <td>Universidade Federal de Santa Maria - RS</td>\n",
       "      <td>0.0026</td>\n",
       "    </tr>\n",
       "    <tr>\n",
       "      <th>39</th>\n",
       "      <td>UFRN</td>\n",
       "      <td>Universidade Federal do Rio Grande do Norte</td>\n",
       "      <td>0.0025</td>\n",
       "    </tr>\n",
       "    <tr>\n",
       "      <th>38</th>\n",
       "      <td>UTFPR</td>\n",
       "      <td>Universidade Tecnológica Federal do Paraná</td>\n",
       "      <td>0.0024</td>\n",
       "    </tr>\n",
       "    <tr>\n",
       "      <th>37</th>\n",
       "      <td>UFGO</td>\n",
       "      <td>Universidade Federal de Goiás</td>\n",
       "      <td>0.0021</td>\n",
       "    </tr>\n",
       "    <tr>\n",
       "      <th>36</th>\n",
       "      <td>UFMG</td>\n",
       "      <td>Universidade Federal de Minas Gerais</td>\n",
       "      <td>0.0018</td>\n",
       "    </tr>\n",
       "  </tbody>\n",
       "</table>\n",
       "</div>"
      ],
      "text/plain": [
       "       sigla                                  nome_universidade  per_cotistas\n",
       "63    UFESBA               Universidade Federal do Sul da Bahia        0.0774\n",
       "62     UFGD    Fundação Universidade Federal da Grande Dourados        0.0428\n",
       "61      UFMS         Universidade Federal de Mato Grosso do Sul        0.0370\n",
       "60     UFOPA              Universidade Federal do Oeste do Pará        0.0238\n",
       "59     UFSC              Universidade Federal de Santa Catarina        0.0197\n",
       "58     FUFT          Fundação Universidade Federal do Tocantins        0.0150\n",
       "57     UNIR           Fundação Universidade Federal de Rondônia        0.0144\n",
       "56      UFBA                      Universidade Federal da Bahia        0.0131\n",
       "55     UFLA                 Universidade Federal de Lavras - MG        0.0130\n",
       "54      UFMT                Universidade Federal de Mato Grosso        0.0128\n",
       "53    UNIFEI               Universidade Federal de Itajubá - MG        0.0100\n",
       "52      UFAC                       Universidade Federal do Acre        0.0088\n",
       "51    UNIFAP             Fundação Universidade Federal do Amapá        0.0069\n",
       "50       UFV                Universidade Federal de Viçosa - MG        0.0054\n",
       "49    UNILAB  Universidade da Integração Internacional da Lu...        0.0054\n",
       "48     UFCG         Universidade Federal de Campina Grande - PB        0.0050\n",
       "47     UFPA                        Universidade Federal do Pará        0.0047\n",
       "46     FUFS            Fundação Universidade Federal de Sergipe        0.0047\n",
       "45   UFRPE             Universidade Federal Rural de Pernambuco        0.0041\n",
       "44      UFJF          Universidade Federal de Juiz de Fora - MG        0.0041\n",
       "43      UFRJ             Universidade Federal do Rio de Janeiro        0.0039\n",
       "42     UFRB          Universidade Federal do Recôncavo da Bahia        0.0035\n",
       "41      UNB                   Fundação Universidade de Brasília        0.0026\n",
       "40  UFSM/RS            Universidade Federal de Santa Maria - RS        0.0026\n",
       "39     UFRN         Universidade Federal do Rio Grande do Norte        0.0025\n",
       "38    UTFPR          Universidade Tecnológica Federal do Paraná        0.0024\n",
       "37     UFGO                       Universidade Federal de Goiás        0.0021\n",
       "36     UFMG                Universidade Federal de Minas Gerais        0.0018"
      ]
     },
     "execution_count": 40,
     "metadata": {},
     "output_type": "execute_result"
    }
   ],
   "source": [
    "df"
   ]
  },
  {
   "cell_type": "code",
   "execution_count": 45,
   "metadata": {},
   "outputs": [],
   "source": [
    "df = df.sort_values(by=['per_cotistas'], ascending=False)"
   ]
  },
  {
   "cell_type": "code",
   "execution_count": 46,
   "metadata": {},
   "outputs": [
    {
     "data": {
      "text/plain": [
       "63"
      ]
     },
     "execution_count": 46,
     "metadata": {},
     "output_type": "execute_result"
    }
   ],
   "source": [
    "len(df)"
   ]
  },
  {
   "attachments": {},
   "cell_type": "markdown",
   "metadata": {},
   "source": [
    "Subindo para o GBQ"
   ]
  },
  {
   "cell_type": "code",
   "execution_count": 51,
   "metadata": {},
   "outputs": [],
   "source": [
    "client = bigquery.Client()\n",
    "dataset_ref = client.dataset('acoes_afirmativas')"
   ]
  },
  {
   "cell_type": "code",
   "execution_count": 52,
   "metadata": {},
   "outputs": [],
   "source": [
    "schema = [bigquery.SchemaField('universidade', 'STRING', description= 'Universidades observadas'),\n",
    "         bigquery.SchemaField('per_cotistas', 'FLOAT', description= 'Percentual de cotistas observados')]\n",
    "         "
   ]
  },
  {
   "cell_type": "code",
   "execution_count": 53,
   "metadata": {},
   "outputs": [
    {
     "data": {
      "text/plain": [
       "LoadJob<project=repositoriodedadosgpsp, location=US, id=225000b5-4442-4aa5-9bbd-12150d36bb86>"
      ]
     },
     "execution_count": 53,
     "metadata": {},
     "output_type": "execute_result"
    }
   ],
   "source": [
    "table_ref = dataset_ref.table('SIAPE_perc_professor_superior')\n",
    "job_config = bigquery.LoadJobConfig(schema=schema)\n",
    "job = client.load_table_from_dataframe(df, table_ref, job_config=job_config)\n",
    "job.result() "
   ]
  }
 ],
 "metadata": {
  "kernelspec": {
   "display_name": "base",
   "language": "python",
   "name": "python3"
  },
  "language_info": {
   "codemirror_mode": {
    "name": "ipython",
    "version": 3
   },
   "file_extension": ".py",
   "mimetype": "text/x-python",
   "name": "python",
   "nbconvert_exporter": "python",
   "pygments_lexer": "ipython3",
   "version": "3.10.11"
  },
  "orig_nbformat": 4
 },
 "nbformat": 4,
 "nbformat_minor": 2
}
