{
  "cells": [
    {
      "cell_type": "markdown",
      "source": [
        "# Dependências"
      ],
      "metadata": {
        "id": "GdqqDSdzTOsu"
      }
    },
    {
      "cell_type": "code",
      "source": [
        "# Install required Google Cloud packages (commented out as these are typically one-time setup commands)\n",
        "# !pip install gcloud\n",
        "# !gcloud auth application-default login\n",
        "\n",
        "# Import necessary Python libraries\n",
        "import pandas as pd                # Data manipulation and analysis\n",
        "import numpy as np                 # Numerical computing\n",
        "import time                        # Time-related functions\n",
        "import os                          # Operating system interfaces\n",
        "import pandas_gbq                  # Pandas integration with BigQuery\n",
        "from google.cloud import bigquery  # BigQuery client library\n",
        "import glob                        # File path pattern matching\n",
        "import openpyxl                    # Excel file handling\n",
        "import csv                         # CSV file handling\n",
        "import re                          # Regular expressions\n",
        "\n",
        "# Note: The actual imports remain exactly as in the original code"
      ],
      "metadata": {
        "id": "zy4WkegGTYyQ"
      },
      "execution_count": null,
      "outputs": []
    },
    {
      "cell_type": "markdown",
      "source": [
        "# Tratamento 1"
      ],
      "metadata": {
        "id": "guNu7_8iVPUq"
      }
    },
    {
      "cell_type": "code",
      "source": [
        "# Load school data for 2024 and 2023 with Latin-1 encoding\n",
        "df = pd.read_csv('IED_ESCOLAS_2024.csv', sep=',', encoding='latin-1')\n",
        "df1 = pd.read_csv('IED_ESCOLAS_2023.csv', sep=',', encoding='latin-1')\n",
        "\n",
        "# Combine both years' data into a single dataframe\n",
        "tabela_final = pd.concat([df1, df])\n",
        "\n",
        "# Filter to keep only 2023 and 2024 data\n",
        "tabela_final = tabela_final[tabela_final['Ano'].isin(['2023', '2024'])]\n",
        "\n",
        "# Rename columns to standardized names\n",
        "tabela_final = tabela_final.rename(columns={\n",
        "    'Ano': 'ano',\n",
        "    'Região': 'nome_regiao',\n",
        "    'UF': 'sigla_uf',\n",
        "    'Código do Município': 'id_municipio',\n",
        "    'Nome do Município': 'nome_municipio',\n",
        "    'Código da Escola': 'id_escola',\n",
        "    'Nome da Escola': 'nome_escola',\n",
        "    'Localização': 'localizacao',\n",
        "    'Dependência Administrativa': 'dependencia_adm',\n",
        "    # Elementary school total groups\n",
        "    'EF_total_grupo1': 'ef_total_grupo1',\n",
        "    'EF_total_grupo2': 'ef_total_grupo2',\n",
        "    'EF_total_grupo3': 'ef_total_grupo3',\n",
        "    'EF_total_grupo4': 'ef_total_grupo4',\n",
        "    'EF_total_grupo5': 'ef_total_grupo5',\n",
        "    'EF_total_grupo6': 'ef_total_grupo6',\n",
        "    # Elementary school initial years groups\n",
        "    'EF_iniciais_grupo1': 'ef_iniciais_grupo1',\n",
        "    'EF_iniciais_grupo2': 'ef_iniciais_grupo2',\n",
        "    'EF_iniciais_grupo3': 'ef_iniciais_grupo3',\n",
        "    'EF_iniciais_grupo4': 'ef_iniciais_grupo4',\n",
        "    'EF_iniciais_grupo5': 'ef_iniciais_grupo5',\n",
        "    'EF_iniciais_grupo6': 'ef_iniciais_grupo6',\n",
        "    # Elementary school final years groups\n",
        "    'EF_finais_grupo1': 'ef_finais_grupo1',\n",
        "    'EF_finais_grupo2': 'ef_finais_grupo2',\n",
        "    'EF_finais_grupo3': 'ef_finais_grupo3',\n",
        "    'EF_finais_grupo4': 'ef_finais_grupo4',\n",
        "    'EF_finais_grupo5': 'ef_finais_grupo5',\n",
        "    'EF_finais_grupo6': 'ef_finais_grupo6',\n",
        "    # High school groups\n",
        "    'EM_grupo1': 'em_grupo1',\n",
        "    'EM_grupo2': 'em_grupo2',\n",
        "    'EM_grupo3': 'em_grupo3',\n",
        "    'EM_grupo4': 'em_grupo4',\n",
        "    'EM_grupo5': 'em_grupo5',\n",
        "    'EM_grupo6': 'em_grupo6'\n",
        "})\n",
        "\n",
        "# Replace '--' values with NaN\n",
        "tabela_final = tabela_final.replace('--', np.nan)\n",
        "\n",
        "# List of columns to convert to float\n",
        "transformar_float = [\n",
        "    'ef_total_grupo1', 'ef_total_grupo2', 'ef_total_grupo3',\n",
        "    'ef_total_grupo4', 'ef_total_grupo5', 'ef_total_grupo6',\n",
        "    'ef_iniciais_grupo1', 'ef_iniciais_grupo2', 'ef_iniciais_grupo3',\n",
        "    'ef_iniciais_grupo4', 'ef_iniciais_grupo5', 'ef_iniciais_grupo6',\n",
        "    'ef_finais_grupo1', 'ef_finais_grupo2', 'ef_finais_grupo3',\n",
        "    'ef_finais_grupo4', 'ef_finais_grupo5', 'ef_finais_grupo6',\n",
        "    'em_grupo1', 'em_grupo2', 'em_grupo3', 'em_grupo4', 'em_grupo5', 'em_grupo6'\n",
        "]\n",
        "\n",
        "# Convert specified columns from string to float (handling decimal comma)\n",
        "for coluna in transformar_float:\n",
        "    tabela_final[coluna] = tabela_final[coluna].str.replace(',', '.').astype(float)\n",
        "\n",
        "# Convert year and school ID to integers\n",
        "tabela_final['ano'] = tabela_final['ano'].astype(int)\n",
        "tabela_final['id_escola'] = tabela_final['id_escola'].astype(int)"
      ],
      "metadata": {
        "id": "s1no2pYbTcIc"
      },
      "execution_count": null,
      "outputs": []
    },
    {
      "cell_type": "markdown",
      "source": [
        "# Tratamento 2"
      ],
      "metadata": {
        "id": "iXb3VggmWRBJ"
      }
    },
    {
      "cell_type": "code",
      "source": [
        "# Rename columns to use dot notation for easier splitting later\n",
        "df_trat = tabela_final.rename(columns={\n",
        "    'ef_total_grupo1': 'ef.total_grupo1',\n",
        "    'ef_total_grupo2': 'ef.total_grupo2',\n",
        "    'ef_total_grupo3': 'ef.total_grupo3',\n",
        "    'ef_total_grupo4': 'ef.total_grupo4',\n",
        "    'ef_total_grupo5': 'ef.total_grupo5',\n",
        "    'ef_total_grupo6': 'ef.total_grupo6',\n",
        "    'ef_finais_grupo1': 'ef.finais_grupo1',\n",
        "    'ef_finais_grupo2': 'ef.finais_grupo2',\n",
        "    'ef_finais_grupo3': 'ef.finais_grupo3',\n",
        "    'ef_finais_grupo4': 'ef.finais_grupo4',\n",
        "    'ef_finais_grupo5': 'ef.finais_grupo5',\n",
        "    'ef_finais_grupo6': 'ef.finais_grupo6',\n",
        "    'ef_iniciais_grupo1': 'ef.iniciais_grupo1',\n",
        "    'ef_iniciais_grupo2': 'ef.iniciais_grupo2',\n",
        "    'ef_iniciais_grupo3': 'ef.iniciais_grupo3',\n",
        "    'ef_iniciais_grupo4': 'ef.iniciais_grupo4',\n",
        "    'ef_iniciais_grupo5': 'ef.iniciais_grupo5',\n",
        "    'ef_iniciais_grupo6': 'ef.iniciais_grupo6'\n",
        "})\n",
        "\n",
        "# Reshape data from wide to long format\n",
        "df_trat = df_trat.melt(\n",
        "    id_vars=['ano', 'nome_regiao', 'sigla_uf', 'id_municipio', 'nome_municipio',\n",
        "             'id_escola', 'nome_escola', 'localizacao', 'dependencia_adm'],\n",
        "    value_vars=[\n",
        "        'ef.total_grupo1', 'ef.total_grupo2', 'ef.total_grupo3',\n",
        "        'ef.total_grupo4', 'ef.total_grupo5', 'ef.total_grupo6',\n",
        "        'ef.iniciais_grupo1', 'ef.iniciais_grupo2', 'ef.iniciais_grupo3',\n",
        "        'ef.iniciais_grupo4', 'ef.iniciais_grupo5', 'ef.iniciais_grupo6',\n",
        "        'ef.finais_grupo1', 'ef.finais_grupo2', 'ef.finais_grupo3',\n",
        "        'ef.finais_grupo4', 'ef.finais_grupo5', 'ef.finais_grupo6',\n",
        "        'em_grupo1', 'em_grupo2', 'em_grupo3', 'em_grupo4', 'em_grupo5', 'em_grupo6'\n",
        "    ],\n",
        "    var_name='grupos_docentes_por_ano_escolar',\n",
        "    value_name='per_valor'\n",
        ")\n",
        "\n",
        "df = df_trat\n",
        "\n",
        "# Split the combined column into two separate columns\n",
        "df1 = df['grupos_docentes_por_ano_escolar'].str.split('_', n=1, expand=True)\n",
        "df1.columns = ['ano_escolar', 'docente_grupos']\n",
        "\n",
        "# Function to transform abbreviated names to full descriptions\n",
        "def transformar(nome):\n",
        "    nome = re.sub(r\"\\bef.total\\b\", \"Ensino Fundamental - Todos os anos\", nome)\n",
        "    nome = re.sub(r\"\\bef.iniciais\\b\", \"Ensino Fundamental - Anos Iniciais\", nome)\n",
        "    nome = re.sub(r\"\\bef.finais\\b\", \"Ensino Fundamental - Anos Finais\", nome)\n",
        "    nome = re.sub(r\"\\bem\\b\", \"Ensino Médio\", nome)\n",
        "    nome = re.sub(r\"\\bgrupo1\\b\", \"Grupo 1\", nome)\n",
        "    nome = re.sub(r\"\\bgrupo2\\b\", \"Grupo 2\", nome)\n",
        "    nome = re.sub(r\"\\bgrupo3\\b\", \"Grupo 3\", nome)\n",
        "    nome = re.sub(r\"\\bgrupo4\\b\", \"Grupo 4\", nome)\n",
        "    nome = re.sub(r\"\\bgrupo5\\b\", \"Grupo 5\", nome)\n",
        "    nome = re.sub(r\"\\bgrupo6\\b\", \"Grupo 6\", nome)\n",
        "    return nome\n",
        "\n",
        "# Apply transformations to both new columns\n",
        "df1['ano_escolar'] = df1['ano_escolar'].apply(transformar)\n",
        "df1['docente_grupos'] = df1['docente_grupos'].apply(transformar)\n",
        "\n",
        "# Handle special case for 'em' (high school)\n",
        "df1['ano_escolar'] = df1['ano_escolar'].replace('em', 'Ensino Médio')\n",
        "\n",
        "# Combine the split columns back with original dataframe\n",
        "df = pd.concat([df, df1], axis=1)\n",
        "\n",
        "# Drop the original combined column\n",
        "df = df.drop(columns='grupos_docentes_por_ano_escolar')\n",
        "\n",
        "# Rename 'Grupo' to 'Nível' for more professional terminology\n",
        "df['docente_grupos'] = df['docente_grupos'].replace(to_replace=r'Grupo', value='Nível', regex=True)\n",
        "\n",
        "# Rename the column to reflect the terminology change\n",
        "df = df.rename(columns={'docente_grupos': 'docente_niveis'})\n",
        "\n",
        "# Select final columns for analysis\n",
        "df = df[['ano', 'sigla_uf', 'localizacao', 'dependencia_adm', 'ano_escolar', 'docente_niveis', 'per_valor']]"
      ],
      "metadata": {
        "id": "2tg558MsUDB_"
      },
      "execution_count": null,
      "outputs": []
    },
    {
      "cell_type": "code",
      "source": [
        "df.info()"
      ],
      "metadata": {
        "colab": {
          "base_uri": "https://localhost:8080/"
        },
        "id": "qozFKrhsbTSU",
        "outputId": "3cb5d527-13d1-4aea-e820-8525bc9bfea3"
      },
      "execution_count": null,
      "outputs": [
        {
          "output_type": "stream",
          "name": "stdout",
          "text": [
            "<class 'pandas.core.frame.DataFrame'>\n",
            "RangeIndex: 735912 entries, 0 to 735911\n",
            "Data columns (total 7 columns):\n",
            " #   Column           Non-Null Count   Dtype  \n",
            "---  ------           --------------   -----  \n",
            " 0   ano              735912 non-null  int64  \n",
            " 1   sigla_uf         735912 non-null  object \n",
            " 2   localizacao      735912 non-null  object \n",
            " 3   dependencia_adm  735912 non-null  object \n",
            " 4   ano_escolar      735912 non-null  object \n",
            " 5   docente_niveis   735912 non-null  object \n",
            " 6   per_valor        492042 non-null  float64\n",
            "dtypes: float64(1), int64(1), object(5)\n",
            "memory usage: 39.3+ MB\n"
          ]
        }
      ]
    },
    {
      "cell_type": "markdown",
      "source": [
        "# Upload"
      ],
      "metadata": {
        "id": "ZMOP3P9pTWp5"
      }
    },
    {
      "cell_type": "code",
      "source": [
        "# Define the BigQuery table schema with Portuguese descriptions\n",
        "schema = [\n",
        "    bigquery.SchemaField('ano', 'INTEGER', description='Ano de referência da observação'),\n",
        "    bigquery.SchemaField('sigla_uf', 'STRING', description='Sigla da Unidade da Federação referente a observação'),\n",
        "    bigquery.SchemaField('localizacao', 'STRING', description='Se a área da observação é urbana ou rural'),\n",
        "    bigquery.SchemaField('dependencia_adm', 'STRING',\n",
        "                       description='Dependência admnistrativa da observação (privada ou pública)'),\n",
        "    bigquery.SchemaField('ano_escolar', 'STRING',\n",
        "                       description='Ano escolar referente ao qual docente leciona'),\n",
        "    bigquery.SchemaField('docente_niveis', 'STRING',\n",
        "                       description='Cinco categorias de adequação da formação dos docentes em relação à disciplina que leciona'),\n",
        "    bigquery.SchemaField('per_valor', 'FLOAT',\n",
        "                       description='Percentual de docentes que lecionam na respectiva agregação em cada um dos níveis da escala do indicador'),\n",
        "]\n",
        "\n",
        "# Initialize BigQuery client connection\n",
        "client = bigquery.Client(project='repositoriodedadosgpsp')\n",
        "\n",
        "# Create reference to target dataset\n",
        "dataset_ref = client.dataset('percepcao_mensuracao_qualidade_estado')\n",
        "\n",
        "# Create reference to target table with standardized naming convention:\n",
        "# FONTE_algo_intuitivo_dado (INEP_esforco_docente_temporal_v2)\n",
        "table_ref = dataset_ref.table('INEP_esforco_docente_temporal_v2')\n",
        "\n",
        "# Configure the load job with our schema definition\n",
        "job_config = bigquery.LoadJobConfig(schema=schema)\n",
        "\n",
        "# Execute the load job to upload DataFrame to BigQuery\n",
        "job = client.load_table_from_dataframe(\n",
        "    dataframe=df,\n",
        "    destination=table_ref,\n",
        "    job_config=job_config\n",
        ")\n",
        "\n",
        "# Wait for the job to complete\n",
        "job.result()"
      ],
      "metadata": {
        "id": "IqP63yogUqcl"
      },
      "execution_count": null,
      "outputs": []
    }
  ],
  "metadata": {
    "kernelspec": {
      "display_name": "base",
      "language": "python",
      "name": "python3"
    },
    "language_info": {
      "codemirror_mode": {
        "name": "ipython",
        "version": 3
      },
      "file_extension": ".py",
      "mimetype": "text/x-python",
      "name": "python",
      "nbconvert_exporter": "python",
      "pygments_lexer": "ipython3",
      "version": "3.11.4"
    },
    "orig_nbformat": 4,
    "colab": {
      "provenance": []
    }
  },
  "nbformat": 4,
  "nbformat_minor": 0
}