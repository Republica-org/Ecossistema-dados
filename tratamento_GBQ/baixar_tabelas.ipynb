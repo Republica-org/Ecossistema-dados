{
 "cells": [
  {
   "cell_type": "code",
   "execution_count": 24,
   "metadata": {},
   "outputs": [],
   "source": [
    "import numpy as np\n",
    "import pandas as pd\n",
    "import numpy as np\n",
    "import os\n",
    "import time\n",
    "from google.cloud import bigquery\n",
    "import pandas_gbq"
   ]
  },
  {
   "cell_type": "code",
   "execution_count": 25,
   "metadata": {},
   "outputs": [],
   "source": [
    "client = bigquery.Client()"
   ]
  },
  {
   "cell_type": "code",
   "execution_count": 36,
   "metadata": {},
   "outputs": [],
   "source": [
    "query = \"select * from `repositoriodedadosgpsp.cargos_lideranca.MUNIC_perfil_gestor_educacao_consolidado`\" "
   ]
  },
  {
   "cell_type": "code",
   "execution_count": 37,
   "metadata": {},
   "outputs": [
    {
     "name": "stderr",
     "output_type": "stream",
     "text": [
      "Downloading: 100%|██████████| 287/287 [00:00<00:00, 838.26rows/s]\n"
     ]
    }
   ],
   "source": [
    "df = pandas_gbq.read_gbq(query, project_id='repositoriodedadosgpsp')"
   ]
  },
  {
   "cell_type": "code",
   "execution_count": 19,
   "metadata": {},
   "outputs": [
    {
     "data": {
      "text/html": [
       "<div>\n",
       "<style scoped>\n",
       "    .dataframe tbody tr th:only-of-type {\n",
       "        vertical-align: middle;\n",
       "    }\n",
       "\n",
       "    .dataframe tbody tr th {\n",
       "        vertical-align: top;\n",
       "    }\n",
       "\n",
       "    .dataframe thead th {\n",
       "        text-align: right;\n",
       "    }\n",
       "</style>\n",
       "<table border=\"1\" class=\"dataframe\">\n",
       "  <thead>\n",
       "    <tr style=\"text-align: right;\">\n",
       "      <th></th>\n",
       "      <th>ano</th>\n",
       "      <th>id_municipio</th>\n",
       "      <th>sigla_uf</th>\n",
       "      <th>tipo_vinculo</th>\n",
       "      <th>quantidade_vinculos</th>\n",
       "      <th>total_municipio</th>\n",
       "    </tr>\n",
       "  </thead>\n",
       "  <tbody>\n",
       "    <tr>\n",
       "      <th>0</th>\n",
       "      <td>2021</td>\n",
       "      <td>1100015</td>\n",
       "      <td>RO</td>\n",
       "      <td>Estatutários</td>\n",
       "      <td>1175</td>\n",
       "      <td>1368</td>\n",
       "    </tr>\n",
       "    <tr>\n",
       "      <th>1</th>\n",
       "      <td>2021</td>\n",
       "      <td>1100015</td>\n",
       "      <td>RO</td>\n",
       "      <td>Celetistas</td>\n",
       "      <td>106</td>\n",
       "      <td>1368</td>\n",
       "    </tr>\n",
       "    <tr>\n",
       "      <th>2</th>\n",
       "      <td>2021</td>\n",
       "      <td>1100015</td>\n",
       "      <td>RO</td>\n",
       "      <td>Somente comissionados</td>\n",
       "      <td>87</td>\n",
       "      <td>1368</td>\n",
       "    </tr>\n",
       "    <tr>\n",
       "      <th>3</th>\n",
       "      <td>2021</td>\n",
       "      <td>1100015</td>\n",
       "      <td>RO</td>\n",
       "      <td>Estagiários</td>\n",
       "      <td>0</td>\n",
       "      <td>1368</td>\n",
       "    </tr>\n",
       "    <tr>\n",
       "      <th>4</th>\n",
       "      <td>2021</td>\n",
       "      <td>1100015</td>\n",
       "      <td>RO</td>\n",
       "      <td>Sem vínculo permanente</td>\n",
       "      <td>0</td>\n",
       "      <td>1368</td>\n",
       "    </tr>\n",
       "  </tbody>\n",
       "</table>\n",
       "</div>"
      ],
      "text/plain": [
       "    ano id_municipio sigla_uf            tipo_vinculo  quantidade_vinculos  \\\n",
       "0  2021      1100015       RO            Estatutários                 1175   \n",
       "1  2021      1100015       RO              Celetistas                  106   \n",
       "2  2021      1100015       RO   Somente comissionados                   87   \n",
       "3  2021      1100015       RO             Estagiários                    0   \n",
       "4  2021      1100015       RO  Sem vínculo permanente                    0   \n",
       "\n",
       "   total_municipio  \n",
       "0             1368  \n",
       "1             1368  \n",
       "2             1368  \n",
       "3             1368  \n",
       "4             1368  "
      ]
     },
     "execution_count": 19,
     "metadata": {},
     "output_type": "execute_result"
    }
   ],
   "source": [
    "df.head()"
   ]
  },
  {
   "cell_type": "code",
   "execution_count": 28,
   "metadata": {},
   "outputs": [],
   "source": [
    "os.chdir(\"G:\\\\Drives compartilhados\\\\República.org\\\\4. Equipes\\\\Dados e Comunicação\\\\DADOS\\\\415 - Repositório de Dados\\Repositório Local\\\\Tabelas para o usuário baixar\")"
   ]
  },
  {
   "cell_type": "code",
   "execution_count": 38,
   "metadata": {},
   "outputs": [],
   "source": [
    "df.to_csv(\"MUNIC_perfil_gestor_educacao_consolidado.csv\",index=False, encoding=\"UTF-8\")"
   ]
  }
 ],
 "metadata": {
  "kernelspec": {
   "display_name": "Python 3",
   "language": "python",
   "name": "python3"
  },
  "language_info": {
   "codemirror_mode": {
    "name": "ipython",
    "version": 3
   },
   "file_extension": ".py",
   "mimetype": "text/x-python",
   "name": "python",
   "nbconvert_exporter": "python",
   "pygments_lexer": "ipython3",
   "version": "3.10.11"
  },
  "orig_nbformat": 4
 },
 "nbformat": 4,
 "nbformat_minor": 2
}
