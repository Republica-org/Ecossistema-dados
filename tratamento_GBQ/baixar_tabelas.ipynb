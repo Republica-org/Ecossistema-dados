{
 "cells": [
  {
   "cell_type": "code",
   "execution_count": 44,
   "metadata": {},
   "outputs": [],
   "source": [
    "import numpy as np\n",
    "import pandas as pd\n",
    "import numpy as np\n",
    "import os\n",
    "import time\n",
    "from google.cloud import bigquery\n",
    "import pandas_gbq"
   ]
  },
  {
   "cell_type": "code",
   "execution_count": 45,
   "metadata": {},
   "outputs": [],
   "source": [
    "client = bigquery.Client()"
   ]
  },
  {
   "cell_type": "code",
   "execution_count": 46,
   "metadata": {},
   "outputs": [],
   "source": [
    "query = \"select * from `repositoriodedadosgpsp.perfil_remuneracao.RAIS_poder_nivel_vinculos` ORDER BY ano\" "
   ]
  },
  {
   "cell_type": "code",
   "execution_count": 47,
   "metadata": {},
   "outputs": [
    {
     "name": "stderr",
     "output_type": "stream",
     "text": [
      "Downloading: 100%|██████████| 280/280 [00:00<00:00, 888.14rows/s]\n"
     ]
    }
   ],
   "source": [
    "df = pandas_gbq.read_gbq(query, project_id='repositoriodedadosgpsp')"
   ]
  },
  {
   "cell_type": "code",
   "execution_count": 48,
   "metadata": {},
   "outputs": [],
   "source": [
    "os.chdir(\"G:\\\\Drives compartilhados\\\\República.org\\\\4. Equipes\\\\Dados e Comunicação\\\\DADOS\\\\415 - Repositório de Dados\\\\Repositório Local\\\\Tabelas para o usuário baixar\")"
   ]
  },
  {
   "cell_type": "code",
   "execution_count": 41,
   "metadata": {},
   "outputs": [],
   "source": [
    "df.to_csv(\"RAIS_remuneracao_vinculos_publicos_privados2.csv\",index=False)"
   ]
  },
  {
   "cell_type": "code",
   "execution_count": 42,
   "metadata": {},
   "outputs": [],
   "source": [
    "df1= pd.read_csv(\"RAIS_remuneracao_vinculos_publicos_privados2.csv\")"
   ]
  },
  {
   "cell_type": "code",
   "execution_count": 49,
   "metadata": {},
   "outputs": [
    {
     "data": {
      "text/html": [
       "<div>\n",
       "<style scoped>\n",
       "    .dataframe tbody tr th:only-of-type {\n",
       "        vertical-align: middle;\n",
       "    }\n",
       "\n",
       "    .dataframe tbody tr th {\n",
       "        vertical-align: top;\n",
       "    }\n",
       "\n",
       "    .dataframe thead th {\n",
       "        text-align: right;\n",
       "    }\n",
       "</style>\n",
       "<table border=\"1\" class=\"dataframe\">\n",
       "  <thead>\n",
       "    <tr style=\"text-align: right;\">\n",
       "      <th></th>\n",
       "      <th>ano</th>\n",
       "      <th>quantidade_vinculos</th>\n",
       "      <th>prop_ano</th>\n",
       "      <th>esfera</th>\n",
       "      <th>poderes</th>\n",
       "    </tr>\n",
       "  </thead>\n",
       "  <tbody>\n",
       "    <tr>\n",
       "      <th>0</th>\n",
       "      <td>1985</td>\n",
       "      <td>849283</td>\n",
       "      <td>0.175573</td>\n",
       "      <td>Federal</td>\n",
       "      <td>Executivo</td>\n",
       "    </tr>\n",
       "    <tr>\n",
       "      <th>1</th>\n",
       "      <td>1985</td>\n",
       "      <td>2319284</td>\n",
       "      <td>0.479469</td>\n",
       "      <td>Estadual</td>\n",
       "      <td>Executivo</td>\n",
       "    </tr>\n",
       "    <tr>\n",
       "      <th>2</th>\n",
       "      <td>1985</td>\n",
       "      <td>1546665</td>\n",
       "      <td>0.319744</td>\n",
       "      <td>Municipal</td>\n",
       "      <td>Executivo</td>\n",
       "    </tr>\n",
       "    <tr>\n",
       "      <th>3</th>\n",
       "      <td>1985</td>\n",
       "      <td>14330</td>\n",
       "      <td>0.002962</td>\n",
       "      <td>Federal</td>\n",
       "      <td>Legislativo</td>\n",
       "    </tr>\n",
       "    <tr>\n",
       "      <th>4</th>\n",
       "      <td>1985</td>\n",
       "      <td>19595</td>\n",
       "      <td>0.004051</td>\n",
       "      <td>Estadual</td>\n",
       "      <td>Legislativo</td>\n",
       "    </tr>\n",
       "    <tr>\n",
       "      <th>5</th>\n",
       "      <td>1985</td>\n",
       "      <td>15051</td>\n",
       "      <td>0.003112</td>\n",
       "      <td>Municipal</td>\n",
       "      <td>Legislativo</td>\n",
       "    </tr>\n",
       "    <tr>\n",
       "      <th>6</th>\n",
       "      <td>1985</td>\n",
       "      <td>23816</td>\n",
       "      <td>0.004924</td>\n",
       "      <td>Federal</td>\n",
       "      <td>Judiciário</td>\n",
       "    </tr>\n",
       "    <tr>\n",
       "      <th>7</th>\n",
       "      <td>1985</td>\n",
       "      <td>49170</td>\n",
       "      <td>0.010165</td>\n",
       "      <td>Estadual</td>\n",
       "      <td>Judiciário</td>\n",
       "    </tr>\n",
       "    <tr>\n",
       "      <th>8</th>\n",
       "      <td>1986</td>\n",
       "      <td>886308</td>\n",
       "      <td>0.173698</td>\n",
       "      <td>Federal</td>\n",
       "      <td>Executivo</td>\n",
       "    </tr>\n",
       "    <tr>\n",
       "      <th>9</th>\n",
       "      <td>1986</td>\n",
       "      <td>2389021</td>\n",
       "      <td>0.468199</td>\n",
       "      <td>Estadual</td>\n",
       "      <td>Executivo</td>\n",
       "    </tr>\n",
       "    <tr>\n",
       "      <th>10</th>\n",
       "      <td>1986</td>\n",
       "      <td>1716500</td>\n",
       "      <td>0.336399</td>\n",
       "      <td>Municipal</td>\n",
       "      <td>Executivo</td>\n",
       "    </tr>\n",
       "    <tr>\n",
       "      <th>11</th>\n",
       "      <td>1986</td>\n",
       "      <td>12328</td>\n",
       "      <td>0.002416</td>\n",
       "      <td>Federal</td>\n",
       "      <td>Legislativo</td>\n",
       "    </tr>\n",
       "    <tr>\n",
       "      <th>12</th>\n",
       "      <td>1986</td>\n",
       "      <td>21957</td>\n",
       "      <td>0.004303</td>\n",
       "      <td>Estadual</td>\n",
       "      <td>Legislativo</td>\n",
       "    </tr>\n",
       "    <tr>\n",
       "      <th>13</th>\n",
       "      <td>1986</td>\n",
       "      <td>17087</td>\n",
       "      <td>0.003349</td>\n",
       "      <td>Municipal</td>\n",
       "      <td>Legislativo</td>\n",
       "    </tr>\n",
       "    <tr>\n",
       "      <th>14</th>\n",
       "      <td>1986</td>\n",
       "      <td>24845</td>\n",
       "      <td>0.004869</td>\n",
       "      <td>Federal</td>\n",
       "      <td>Judiciário</td>\n",
       "    </tr>\n",
       "  </tbody>\n",
       "</table>\n",
       "</div>"
      ],
      "text/plain": [
       "     ano  quantidade_vinculos  prop_ano     esfera      poderes\n",
       "0   1985               849283  0.175573    Federal    Executivo\n",
       "1   1985              2319284  0.479469   Estadual    Executivo\n",
       "2   1985              1546665  0.319744  Municipal    Executivo\n",
       "3   1985                14330  0.002962    Federal  Legislativo\n",
       "4   1985                19595  0.004051   Estadual  Legislativo\n",
       "5   1985                15051  0.003112  Municipal  Legislativo\n",
       "6   1985                23816  0.004924    Federal   Judiciário\n",
       "7   1985                49170  0.010165   Estadual   Judiciário\n",
       "8   1986               886308  0.173698    Federal    Executivo\n",
       "9   1986              2389021  0.468199   Estadual    Executivo\n",
       "10  1986              1716500  0.336399  Municipal    Executivo\n",
       "11  1986                12328  0.002416    Federal  Legislativo\n",
       "12  1986                21957  0.004303   Estadual  Legislativo\n",
       "13  1986                17087  0.003349  Municipal  Legislativo\n",
       "14  1986                24845  0.004869    Federal   Judiciário"
      ]
     },
     "execution_count": 49,
     "metadata": {},
     "output_type": "execute_result"
    }
   ],
   "source": [
    "df.head(15)"
   ]
  },
  {
   "cell_type": "code",
   "execution_count": 50,
   "metadata": {},
   "outputs": [],
   "source": [
    "df.to_csv(\"RAIS_poder_nivel_vinculos.csv\",index=False, encoding=\"latin-1\", sep=';', decimal=',')"
   ]
  },
  {
   "cell_type": "code",
   "execution_count": 34,
   "metadata": {},
   "outputs": [],
   "source": [
    "df1= pd.read_csv(\"RAIS_remuneracao_vinculos_publicos_privados2.csv\",encoding=\"latin-1\", sep=';', decimal=',')"
   ]
  }
 ],
 "metadata": {
  "kernelspec": {
   "display_name": "Python 3",
   "language": "python",
   "name": "python3"
  },
  "language_info": {
   "codemirror_mode": {
    "name": "ipython",
    "version": 3
   },
   "file_extension": ".py",
   "mimetype": "text/x-python",
   "name": "python",
   "nbconvert_exporter": "python",
   "pygments_lexer": "ipython3",
   "version": "3.10.11"
  },
  "orig_nbformat": 4
 },
 "nbformat": 4,
 "nbformat_minor": 2
}
