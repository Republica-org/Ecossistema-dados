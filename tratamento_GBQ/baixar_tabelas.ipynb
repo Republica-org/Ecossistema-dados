{
 "cells": [
  {
   "cell_type": "code",
   "execution_count": 1,
   "metadata": {},
   "outputs": [],
   "source": [
    "import numpy as np\n",
    "import pandas as pd\n",
    "import numpy as np\n",
    "import os \n",
    "import time\n",
    "from google.cloud import bigquery\n",
    "import pandas_gbq\n",
    "import glob"
   ]
  },
  {
   "cell_type": "code",
   "execution_count": 2,
   "metadata": {},
   "outputs": [],
   "source": [
    "client = bigquery.Client()"
   ]
  },
  {
   "cell_type": "code",
   "execution_count": 10,
   "metadata": {},
   "outputs": [],
   "source": [
    "query = \"\"\"SELECT * FROM `repositoriodedadosgpsp.perfil_remuneracao.MILITARES_reserva_reforma_total`\"\"\"  "
   ]
  },
  {
   "cell_type": "code",
   "execution_count": 11,
   "metadata": {},
   "outputs": [
    {
     "name": "stdout",
     "output_type": "stream",
     "text": [
      "Downloading: 100%|\u001b[32m██████████\u001b[0m|\n"
     ]
    },
    {
     "data": {
      "text/html": [
       "<div>\n",
       "<style scoped>\n",
       "    .dataframe tbody tr th:only-of-type {\n",
       "        vertical-align: middle;\n",
       "    }\n",
       "\n",
       "    .dataframe tbody tr th {\n",
       "        vertical-align: top;\n",
       "    }\n",
       "\n",
       "    .dataframe thead th {\n",
       "        text-align: right;\n",
       "    }\n",
       "</style>\n",
       "<table border=\"1\" class=\"dataframe\">\n",
       "  <thead>\n",
       "    <tr style=\"text-align: right;\">\n",
       "      <th></th>\n",
       "      <th>ano</th>\n",
       "      <th>mes</th>\n",
       "      <th>tipo_aposentadoria</th>\n",
       "      <th>org_lotacao</th>\n",
       "      <th>total</th>\n",
       "    </tr>\n",
       "  </thead>\n",
       "  <tbody>\n",
       "    <tr>\n",
       "      <th>0</th>\n",
       "      <td>2024</td>\n",
       "      <td>4</td>\n",
       "      <td>Reforma</td>\n",
       "      <td>Comando da Marinha</td>\n",
       "      <td>1</td>\n",
       "    </tr>\n",
       "    <tr>\n",
       "      <th>1</th>\n",
       "      <td>2024</td>\n",
       "      <td>4</td>\n",
       "      <td>Reforma</td>\n",
       "      <td>Comando da Marinha</td>\n",
       "      <td>1</td>\n",
       "    </tr>\n",
       "    <tr>\n",
       "      <th>2</th>\n",
       "      <td>2024</td>\n",
       "      <td>4</td>\n",
       "      <td>Reforma</td>\n",
       "      <td>Comando da Marinha</td>\n",
       "      <td>1</td>\n",
       "    </tr>\n",
       "    <tr>\n",
       "      <th>3</th>\n",
       "      <td>2024</td>\n",
       "      <td>4</td>\n",
       "      <td>Reforma</td>\n",
       "      <td>Comando da Marinha</td>\n",
       "      <td>1</td>\n",
       "    </tr>\n",
       "    <tr>\n",
       "      <th>4</th>\n",
       "      <td>2024</td>\n",
       "      <td>4</td>\n",
       "      <td>Reforma</td>\n",
       "      <td>Comando da Marinha</td>\n",
       "      <td>1</td>\n",
       "    </tr>\n",
       "    <tr>\n",
       "      <th>...</th>\n",
       "      <td>...</td>\n",
       "      <td>...</td>\n",
       "      <td>...</td>\n",
       "      <td>...</td>\n",
       "      <td>...</td>\n",
       "    </tr>\n",
       "    <tr>\n",
       "      <th>996242</th>\n",
       "      <td>2020</td>\n",
       "      <td>4</td>\n",
       "      <td>Reforma Por Invalidez</td>\n",
       "      <td>Comando da Aeronáutica</td>\n",
       "      <td>1</td>\n",
       "    </tr>\n",
       "    <tr>\n",
       "      <th>996243</th>\n",
       "      <td>2020</td>\n",
       "      <td>4</td>\n",
       "      <td>Reforma Por Invalidez</td>\n",
       "      <td>Comando da Aeronáutica</td>\n",
       "      <td>1</td>\n",
       "    </tr>\n",
       "    <tr>\n",
       "      <th>996244</th>\n",
       "      <td>2020</td>\n",
       "      <td>4</td>\n",
       "      <td>Reforma Por Invalidez</td>\n",
       "      <td>Comando da Aeronáutica</td>\n",
       "      <td>1</td>\n",
       "    </tr>\n",
       "    <tr>\n",
       "      <th>996245</th>\n",
       "      <td>2020</td>\n",
       "      <td>4</td>\n",
       "      <td>Reforma Por Invalidez</td>\n",
       "      <td>Comando da Aeronáutica</td>\n",
       "      <td>1</td>\n",
       "    </tr>\n",
       "    <tr>\n",
       "      <th>996246</th>\n",
       "      <td>2020</td>\n",
       "      <td>4</td>\n",
       "      <td>Reforma Por Invalidez</td>\n",
       "      <td>Comando da Aeronáutica</td>\n",
       "      <td>1</td>\n",
       "    </tr>\n",
       "  </tbody>\n",
       "</table>\n",
       "<p>996247 rows × 5 columns</p>\n",
       "</div>"
      ],
      "text/plain": [
       "         ano  mes     tipo_aposentadoria             org_lotacao  total\n",
       "0       2024    4                Reforma      Comando da Marinha      1\n",
       "1       2024    4                Reforma      Comando da Marinha      1\n",
       "2       2024    4                Reforma      Comando da Marinha      1\n",
       "3       2024    4                Reforma      Comando da Marinha      1\n",
       "4       2024    4                Reforma      Comando da Marinha      1\n",
       "...      ...  ...                    ...                     ...    ...\n",
       "996242  2020    4  Reforma Por Invalidez  Comando da Aeronáutica      1\n",
       "996243  2020    4  Reforma Por Invalidez  Comando da Aeronáutica      1\n",
       "996244  2020    4  Reforma Por Invalidez  Comando da Aeronáutica      1\n",
       "996245  2020    4  Reforma Por Invalidez  Comando da Aeronáutica      1\n",
       "996246  2020    4  Reforma Por Invalidez  Comando da Aeronáutica      1\n",
       "\n",
       "[996247 rows x 5 columns]"
      ]
     },
     "execution_count": 11,
     "metadata": {},
     "output_type": "execute_result"
    }
   ],
   "source": [
    "df = pandas_gbq.read_gbq(query, project_id='repositoriodedadosgpsp')\n",
    "df"
   ]
  },
  {
   "cell_type": "code",
   "execution_count": 12,
   "metadata": {},
   "outputs": [
    {
     "data": {
      "text/plain": [
       "Index(['ano', 'mes', 'tipo_aposentadoria', 'org_lotacao', 'total'], dtype='object')"
      ]
     },
     "execution_count": 12,
     "metadata": {},
     "output_type": "execute_result"
    }
   ],
   "source": [
    "df.columns"
   ]
  },
  {
   "cell_type": "code",
   "execution_count": 6,
   "metadata": {},
   "outputs": [
    {
     "data": {
      "text/plain": [
       "<IntegerArray>\n",
       "[2024, 2021, 2022, 2023, 2020]\n",
       "Length: 5, dtype: Int64"
      ]
     },
     "execution_count": 6,
     "metadata": {},
     "output_type": "execute_result"
    }
   ],
   "source": [
    "df['ano'].unique()"
   ]
  },
  {
   "cell_type": "code",
   "execution_count": 13,
   "metadata": {},
   "outputs": [
    {
     "name": "stdout",
     "output_type": "stream",
     "text": [
      "<class 'pandas.core.frame.DataFrame'>\n",
      "RangeIndex: 996247 entries, 0 to 996246\n",
      "Data columns (total 5 columns):\n",
      " #   Column              Non-Null Count   Dtype \n",
      "---  ------              --------------   ----- \n",
      " 0   ano                 996247 non-null  Int64 \n",
      " 1   mes                 996247 non-null  Int64 \n",
      " 2   tipo_aposentadoria  996247 non-null  object\n",
      " 3   org_lotacao         996247 non-null  object\n",
      " 4   total               996247 non-null  Int64 \n",
      "dtypes: Int64(3), object(2)\n",
      "memory usage: 40.9+ MB\n"
     ]
    }
   ],
   "source": [
    "df.info()"
   ]
  },
  {
   "cell_type": "code",
   "execution_count": 14,
   "metadata": {},
   "outputs": [],
   "source": [
    "dir = 'G:\\\\Drives compartilhados\\\\República.org\\\\4. Equipes\\\\Dados e Comunicação\\\\DADOS E CONHECIMENTO\\\\415 - Repositório de Dados\\\\Repositório Local\\\\Tabelas para o usuário baixar'"
   ]
  },
  {
   "cell_type": "code",
   "execution_count": 16,
   "metadata": {},
   "outputs": [
    {
     "data": {
      "text/html": [
       "<div>\n",
       "<style scoped>\n",
       "    .dataframe tbody tr th:only-of-type {\n",
       "        vertical-align: middle;\n",
       "    }\n",
       "\n",
       "    .dataframe tbody tr th {\n",
       "        vertical-align: top;\n",
       "    }\n",
       "\n",
       "    .dataframe thead th {\n",
       "        text-align: right;\n",
       "    }\n",
       "</style>\n",
       "<table border=\"1\" class=\"dataframe\">\n",
       "  <thead>\n",
       "    <tr style=\"text-align: right;\">\n",
       "      <th></th>\n",
       "      <th>ano</th>\n",
       "      <th>mes</th>\n",
       "      <th>tipo_aposentadoria</th>\n",
       "      <th>org_lotacao</th>\n",
       "      <th>total</th>\n",
       "    </tr>\n",
       "  </thead>\n",
       "  <tbody>\n",
       "    <tr>\n",
       "      <th>0</th>\n",
       "      <td>2024</td>\n",
       "      <td>4</td>\n",
       "      <td>Reforma</td>\n",
       "      <td>Comando da Marinha</td>\n",
       "      <td>1</td>\n",
       "    </tr>\n",
       "    <tr>\n",
       "      <th>1</th>\n",
       "      <td>2024</td>\n",
       "      <td>4</td>\n",
       "      <td>Reforma</td>\n",
       "      <td>Comando da Marinha</td>\n",
       "      <td>1</td>\n",
       "    </tr>\n",
       "    <tr>\n",
       "      <th>2</th>\n",
       "      <td>2024</td>\n",
       "      <td>4</td>\n",
       "      <td>Reforma</td>\n",
       "      <td>Comando da Marinha</td>\n",
       "      <td>1</td>\n",
       "    </tr>\n",
       "    <tr>\n",
       "      <th>3</th>\n",
       "      <td>2024</td>\n",
       "      <td>4</td>\n",
       "      <td>Reforma</td>\n",
       "      <td>Comando da Marinha</td>\n",
       "      <td>1</td>\n",
       "    </tr>\n",
       "    <tr>\n",
       "      <th>4</th>\n",
       "      <td>2024</td>\n",
       "      <td>4</td>\n",
       "      <td>Reforma</td>\n",
       "      <td>Comando da Marinha</td>\n",
       "      <td>1</td>\n",
       "    </tr>\n",
       "    <tr>\n",
       "      <th>...</th>\n",
       "      <td>...</td>\n",
       "      <td>...</td>\n",
       "      <td>...</td>\n",
       "      <td>...</td>\n",
       "      <td>...</td>\n",
       "    </tr>\n",
       "    <tr>\n",
       "      <th>996242</th>\n",
       "      <td>2020</td>\n",
       "      <td>4</td>\n",
       "      <td>Reforma Por Invalidez</td>\n",
       "      <td>Comando da Aeronáutica</td>\n",
       "      <td>1</td>\n",
       "    </tr>\n",
       "    <tr>\n",
       "      <th>996243</th>\n",
       "      <td>2020</td>\n",
       "      <td>4</td>\n",
       "      <td>Reforma Por Invalidez</td>\n",
       "      <td>Comando da Aeronáutica</td>\n",
       "      <td>1</td>\n",
       "    </tr>\n",
       "    <tr>\n",
       "      <th>996244</th>\n",
       "      <td>2020</td>\n",
       "      <td>4</td>\n",
       "      <td>Reforma Por Invalidez</td>\n",
       "      <td>Comando da Aeronáutica</td>\n",
       "      <td>1</td>\n",
       "    </tr>\n",
       "    <tr>\n",
       "      <th>996245</th>\n",
       "      <td>2020</td>\n",
       "      <td>4</td>\n",
       "      <td>Reforma Por Invalidez</td>\n",
       "      <td>Comando da Aeronáutica</td>\n",
       "      <td>1</td>\n",
       "    </tr>\n",
       "    <tr>\n",
       "      <th>996246</th>\n",
       "      <td>2020</td>\n",
       "      <td>4</td>\n",
       "      <td>Reforma Por Invalidez</td>\n",
       "      <td>Comando da Aeronáutica</td>\n",
       "      <td>1</td>\n",
       "    </tr>\n",
       "  </tbody>\n",
       "</table>\n",
       "<p>996247 rows × 5 columns</p>\n",
       "</div>"
      ],
      "text/plain": [
       "         ano  mes     tipo_aposentadoria             org_lotacao  total\n",
       "0       2024    4                Reforma      Comando da Marinha      1\n",
       "1       2024    4                Reforma      Comando da Marinha      1\n",
       "2       2024    4                Reforma      Comando da Marinha      1\n",
       "3       2024    4                Reforma      Comando da Marinha      1\n",
       "4       2024    4                Reforma      Comando da Marinha      1\n",
       "...      ...  ...                    ...                     ...    ...\n",
       "996242  2020    4  Reforma Por Invalidez  Comando da Aeronáutica      1\n",
       "996243  2020    4  Reforma Por Invalidez  Comando da Aeronáutica      1\n",
       "996244  2020    4  Reforma Por Invalidez  Comando da Aeronáutica      1\n",
       "996245  2020    4  Reforma Por Invalidez  Comando da Aeronáutica      1\n",
       "996246  2020    4  Reforma Por Invalidez  Comando da Aeronáutica      1\n",
       "\n",
       "[996247 rows x 5 columns]"
      ]
     },
     "execution_count": 16,
     "metadata": {},
     "output_type": "execute_result"
    }
   ],
   "source": [
    "df"
   ]
  },
  {
   "cell_type": "code",
   "execution_count": 15,
   "metadata": {},
   "outputs": [],
   "source": [
    "os.chdir(dir) "
   ]
  },
  {
   "cell_type": "code",
   "execution_count": 17,
   "metadata": {},
   "outputs": [],
   "source": [
    "df.to_csv('MILITARES_reserva_reforma_total.csv', sep=';', encoding='latin-1', index=False)"
   ]
  },
  {
   "cell_type": "code",
   "execution_count": null,
   "metadata": {},
   "outputs": [],
   "source": []
  },
  {
   "cell_type": "markdown",
   "metadata": {},
   "source": [
    "-----------------------------------------------------------"
   ]
  },
  {
   "cell_type": "markdown",
   "metadata": {},
   "source": [
    "Testes"
   ]
  },
  {
   "cell_type": "code",
   "execution_count": 14,
   "metadata": {},
   "outputs": [
    {
     "data": {
      "text/html": [
       "<div>\n",
       "<style scoped>\n",
       "    .dataframe tbody tr th:only-of-type {\n",
       "        vertical-align: middle;\n",
       "    }\n",
       "\n",
       "    .dataframe tbody tr th {\n",
       "        vertical-align: top;\n",
       "    }\n",
       "\n",
       "    .dataframe thead th {\n",
       "        text-align: right;\n",
       "    }\n",
       "</style>\n",
       "<table border=\"1\" class=\"dataframe\">\n",
       "  <thead>\n",
       "    <tr style=\"text-align: right;\">\n",
       "      <th></th>\n",
       "      <th>tipo_aposentadoria</th>\n",
       "      <th>decada_aposentadoria</th>\n",
       "      <th>categoria_ministerios</th>\n",
       "      <th>media_contribuicao</th>\n",
       "      <th>quantidade_vinculos</th>\n",
       "    </tr>\n",
       "  </thead>\n",
       "  <tbody>\n",
       "    <tr>\n",
       "      <th>0</th>\n",
       "      <td>Outros</td>\n",
       "      <td>1980</td>\n",
       "      <td>Economia, Finanças, Planejamento, Previdência ...</td>\n",
       "      <td>26.0</td>\n",
       "      <td>3</td>\n",
       "    </tr>\n",
       "    <tr>\n",
       "      <th>1</th>\n",
       "      <td>Outros</td>\n",
       "      <td>1980</td>\n",
       "      <td>Educação e Ciência e Tecnologia</td>\n",
       "      <td>19.7</td>\n",
       "      <td>6</td>\n",
       "    </tr>\n",
       "    <tr>\n",
       "      <th>2</th>\n",
       "      <td>Outros</td>\n",
       "      <td>1980</td>\n",
       "      <td>Saúde</td>\n",
       "      <td>19.2</td>\n",
       "      <td>4</td>\n",
       "    </tr>\n",
       "    <tr>\n",
       "      <th>3</th>\n",
       "      <td>Outros</td>\n",
       "      <td>1990</td>\n",
       "      <td>Cultura, Turismo e Esportes</td>\n",
       "      <td>12.0</td>\n",
       "      <td>1</td>\n",
       "    </tr>\n",
       "    <tr>\n",
       "      <th>4</th>\n",
       "      <td>Outros</td>\n",
       "      <td>1990</td>\n",
       "      <td>Economia, Finanças, Planejamento, Previdência ...</td>\n",
       "      <td>26.6</td>\n",
       "      <td>5</td>\n",
       "    </tr>\n",
       "    <tr>\n",
       "      <th>...</th>\n",
       "      <td>...</td>\n",
       "      <td>...</td>\n",
       "      <td>...</td>\n",
       "      <td>...</td>\n",
       "      <td>...</td>\n",
       "    </tr>\n",
       "    <tr>\n",
       "      <th>200</th>\n",
       "      <td>Aposentadoria por incapacidade</td>\n",
       "      <td>2020</td>\n",
       "      <td>Justiça, Segurança e Órgãos de Controle e Defesa</td>\n",
       "      <td>23.0</td>\n",
       "      <td>152</td>\n",
       "    </tr>\n",
       "    <tr>\n",
       "      <th>201</th>\n",
       "      <td>Aposentadoria por incapacidade</td>\n",
       "      <td>2020</td>\n",
       "      <td>Meio ambiente, Agricultura e Agropecuária</td>\n",
       "      <td>27.2</td>\n",
       "      <td>37</td>\n",
       "    </tr>\n",
       "    <tr>\n",
       "      <th>202</th>\n",
       "      <td>Aposentadoria por incapacidade</td>\n",
       "      <td>2020</td>\n",
       "      <td>Presidência da República</td>\n",
       "      <td>20.1</td>\n",
       "      <td>51</td>\n",
       "    </tr>\n",
       "    <tr>\n",
       "      <th>203</th>\n",
       "      <td>Aposentadoria por incapacidade</td>\n",
       "      <td>2020</td>\n",
       "      <td>Relações Exteriores</td>\n",
       "      <td>29.9</td>\n",
       "      <td>13</td>\n",
       "    </tr>\n",
       "    <tr>\n",
       "      <th>204</th>\n",
       "      <td>Aposentadoria por incapacidade</td>\n",
       "      <td>2020</td>\n",
       "      <td>Saúde</td>\n",
       "      <td>22.1</td>\n",
       "      <td>366</td>\n",
       "    </tr>\n",
       "  </tbody>\n",
       "</table>\n",
       "<p>205 rows × 5 columns</p>\n",
       "</div>"
      ],
      "text/plain": [
       "                 tipo_aposentadoria  decada_aposentadoria  \\\n",
       "0                            Outros                  1980   \n",
       "1                            Outros                  1980   \n",
       "2                            Outros                  1980   \n",
       "3                            Outros                  1990   \n",
       "4                            Outros                  1990   \n",
       "..                              ...                   ...   \n",
       "200  Aposentadoria por incapacidade                  2020   \n",
       "201  Aposentadoria por incapacidade                  2020   \n",
       "202  Aposentadoria por incapacidade                  2020   \n",
       "203  Aposentadoria por incapacidade                  2020   \n",
       "204  Aposentadoria por incapacidade                  2020   \n",
       "\n",
       "                                 categoria_ministerios media_contribuicao  \\\n",
       "0    Economia, Finanças, Planejamento, Previdência ...               26.0   \n",
       "1                      Educação e Ciência e Tecnologia               19.7   \n",
       "2                                                Saúde               19.2   \n",
       "3                          Cultura, Turismo e Esportes               12.0   \n",
       "4    Economia, Finanças, Planejamento, Previdência ...               26.6   \n",
       "..                                                 ...                ...   \n",
       "200   Justiça, Segurança e Órgãos de Controle e Defesa               23.0   \n",
       "201          Meio ambiente, Agricultura e Agropecuária               27.2   \n",
       "202                           Presidência da República               20.1   \n",
       "203                                Relações Exteriores               29.9   \n",
       "204                                              Saúde               22.1   \n",
       "\n",
       "     quantidade_vinculos  \n",
       "0                      3  \n",
       "1                      6  \n",
       "2                      4  \n",
       "3                      1  \n",
       "4                      5  \n",
       "..                   ...  \n",
       "200                  152  \n",
       "201                   37  \n",
       "202                   51  \n",
       "203                   13  \n",
       "204                  366  \n",
       "\n",
       "[205 rows x 5 columns]"
      ]
     },
     "execution_count": 14,
     "metadata": {},
     "output_type": "execute_result"
    }
   ],
   "source": [
    "df = pd.read_csv(\"SIAPE_ingresso_aposentadoria_media.csv\", encoding=\"latin-1\", sep=';', decimal=',')\n",
    "df"
   ]
  },
  {
   "cell_type": "markdown",
   "metadata": {},
   "source": [
    "Automatizando troca de csv"
   ]
  },
  {
   "cell_type": "code",
   "execution_count": 45,
   "metadata": {},
   "outputs": [],
   "source": [
    "##os.chdir(\"G:\\\\Drives compartilhados\\\\República.org\\\\4. Equipes\\\\Dados e Comunicação\\\\DADOS\\\\415 - Repositório de Dados\\\\Repositório Local\\\\Tabelas para o usuário baixar\")"
   ]
  },
  {
   "cell_type": "code",
   "execution_count": 46,
   "metadata": {},
   "outputs": [],
   "source": [
    "## baixando os atuais com , e exportando com \";\""
   ]
  },
  {
   "cell_type": "code",
   "execution_count": 47,
   "metadata": {},
   "outputs": [],
   "source": [
    "## listando todos os itens do diretório\n",
    "##len(glob.glob('*.csv'))"
   ]
  },
  {
   "cell_type": "code",
   "execution_count": 48,
   "metadata": {},
   "outputs": [],
   "source": [
    "## Serve apenas na primeira vez . \n",
    "\n",
    "##for i in list(range(0,len(glob.glob('*.csv')))):\n",
    "    \n",
    "   # df= pd.read_csv(glob.glob('*.csv')[i])\n",
    "    #df.to_csv(glob.glob('*.csv')[i],index=False, encoding=\"latin-1\", sep=';', decimal=',')"
   ]
  },
  {
   "cell_type": "markdown",
   "metadata": {},
   "source": []
  },
  {
   "cell_type": "code",
   "execution_count": null,
   "metadata": {},
   "outputs": [],
   "source": []
  }
 ],
 "metadata": {
  "kernelspec": {
   "display_name": "Python 3",
   "language": "python",
   "name": "python3"
  },
  "language_info": {
   "codemirror_mode": {
    "name": "ipython",
    "version": 3
   },
   "file_extension": ".py",
   "mimetype": "text/x-python",
   "name": "python",
   "nbconvert_exporter": "python",
   "pygments_lexer": "ipython3",
   "version": "3.11.4"
  },
  "orig_nbformat": 4
 },
 "nbformat": 4,
 "nbformat_minor": 2
}
