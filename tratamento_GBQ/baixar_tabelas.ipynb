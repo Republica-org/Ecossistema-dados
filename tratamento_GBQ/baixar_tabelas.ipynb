{
 "cells": [
  {
   "cell_type": "code",
   "execution_count": 1,
   "metadata": {},
   "outputs": [],
   "source": [
    "import numpy as np\n",
    "import pandas as pd\n",
    "import numpy as np\n",
    "import os \n",
    "import time\n",
    "from google.cloud import bigquery\n",
    "import pandas_gbq\n",
    "import glob"
   ]
  },
  {
   "cell_type": "code",
   "execution_count": 2,
   "metadata": {},
   "outputs": [],
   "source": [
    "client = bigquery.Client()"
   ]
  },
  {
   "cell_type": "code",
   "execution_count": 3,
   "metadata": {},
   "outputs": [],
   "source": [
    "query = \"\"\"SELECT * FROM `repositoriodedadosgpsp.perfil_remuneracao.SIAPE_ingresso_aposentadoria_media`\"\"\"  "
   ]
  },
  {
   "cell_type": "code",
   "execution_count": 4,
   "metadata": {},
   "outputs": [
    {
     "name": "stdout",
     "output_type": "stream",
     "text": [
      "Downloading: 100%|\u001b[32m██████████\u001b[0m|\n"
     ]
    },
    {
     "data": {
      "text/html": [
       "<div>\n",
       "<style scoped>\n",
       "    .dataframe tbody tr th:only-of-type {\n",
       "        vertical-align: middle;\n",
       "    }\n",
       "\n",
       "    .dataframe tbody tr th {\n",
       "        vertical-align: top;\n",
       "    }\n",
       "\n",
       "    .dataframe thead th {\n",
       "        text-align: right;\n",
       "    }\n",
       "</style>\n",
       "<table border=\"1\" class=\"dataframe\">\n",
       "  <thead>\n",
       "    <tr style=\"text-align: right;\">\n",
       "      <th></th>\n",
       "      <th>tipo_aposentadoria</th>\n",
       "      <th>decada_aposentadoria</th>\n",
       "      <th>categoria_ministerios</th>\n",
       "      <th>media_contribuicao</th>\n",
       "      <th>quantidade_vinculos</th>\n",
       "    </tr>\n",
       "  </thead>\n",
       "  <tbody>\n",
       "    <tr>\n",
       "      <th>0</th>\n",
       "      <td>Outros</td>\n",
       "      <td>1980</td>\n",
       "      <td>Economia, Finanças, Planejamento, Previdência ...</td>\n",
       "      <td>26.0</td>\n",
       "      <td>3</td>\n",
       "    </tr>\n",
       "    <tr>\n",
       "      <th>1</th>\n",
       "      <td>Outros</td>\n",
       "      <td>1980</td>\n",
       "      <td>Educação e Ciência e Tecnologia</td>\n",
       "      <td>19.7</td>\n",
       "      <td>6</td>\n",
       "    </tr>\n",
       "    <tr>\n",
       "      <th>2</th>\n",
       "      <td>Outros</td>\n",
       "      <td>1980</td>\n",
       "      <td>Saúde</td>\n",
       "      <td>19.2</td>\n",
       "      <td>4</td>\n",
       "    </tr>\n",
       "    <tr>\n",
       "      <th>3</th>\n",
       "      <td>Outros</td>\n",
       "      <td>1990</td>\n",
       "      <td>Cultura, Turismo e Esportes</td>\n",
       "      <td>12.0</td>\n",
       "      <td>1</td>\n",
       "    </tr>\n",
       "    <tr>\n",
       "      <th>4</th>\n",
       "      <td>Outros</td>\n",
       "      <td>1990</td>\n",
       "      <td>Economia, Finanças, Planejamento, Previdência ...</td>\n",
       "      <td>26.6</td>\n",
       "      <td>5</td>\n",
       "    </tr>\n",
       "    <tr>\n",
       "      <th>...</th>\n",
       "      <td>...</td>\n",
       "      <td>...</td>\n",
       "      <td>...</td>\n",
       "      <td>...</td>\n",
       "      <td>...</td>\n",
       "    </tr>\n",
       "    <tr>\n",
       "      <th>200</th>\n",
       "      <td>Aposentadoria por incapacidade</td>\n",
       "      <td>2020</td>\n",
       "      <td>Justiça, Segurança e Órgãos de Controle e Defesa</td>\n",
       "      <td>23.0</td>\n",
       "      <td>152</td>\n",
       "    </tr>\n",
       "    <tr>\n",
       "      <th>201</th>\n",
       "      <td>Aposentadoria por incapacidade</td>\n",
       "      <td>2020</td>\n",
       "      <td>Meio ambiente, Agricultura e Agropecuária</td>\n",
       "      <td>27.2</td>\n",
       "      <td>37</td>\n",
       "    </tr>\n",
       "    <tr>\n",
       "      <th>202</th>\n",
       "      <td>Aposentadoria por incapacidade</td>\n",
       "      <td>2020</td>\n",
       "      <td>Presidência da República</td>\n",
       "      <td>20.1</td>\n",
       "      <td>51</td>\n",
       "    </tr>\n",
       "    <tr>\n",
       "      <th>203</th>\n",
       "      <td>Aposentadoria por incapacidade</td>\n",
       "      <td>2020</td>\n",
       "      <td>Relações Exteriores</td>\n",
       "      <td>29.9</td>\n",
       "      <td>13</td>\n",
       "    </tr>\n",
       "    <tr>\n",
       "      <th>204</th>\n",
       "      <td>Aposentadoria por incapacidade</td>\n",
       "      <td>2020</td>\n",
       "      <td>Saúde</td>\n",
       "      <td>22.1</td>\n",
       "      <td>366</td>\n",
       "    </tr>\n",
       "  </tbody>\n",
       "</table>\n",
       "<p>205 rows × 5 columns</p>\n",
       "</div>"
      ],
      "text/plain": [
       "                 tipo_aposentadoria  decada_aposentadoria  \\\n",
       "0                            Outros                  1980   \n",
       "1                            Outros                  1980   \n",
       "2                            Outros                  1980   \n",
       "3                            Outros                  1990   \n",
       "4                            Outros                  1990   \n",
       "..                              ...                   ...   \n",
       "200  Aposentadoria por incapacidade                  2020   \n",
       "201  Aposentadoria por incapacidade                  2020   \n",
       "202  Aposentadoria por incapacidade                  2020   \n",
       "203  Aposentadoria por incapacidade                  2020   \n",
       "204  Aposentadoria por incapacidade                  2020   \n",
       "\n",
       "                                 categoria_ministerios  media_contribuicao  \\\n",
       "0    Economia, Finanças, Planejamento, Previdência ...                26.0   \n",
       "1                      Educação e Ciência e Tecnologia                19.7   \n",
       "2                                                Saúde                19.2   \n",
       "3                          Cultura, Turismo e Esportes                12.0   \n",
       "4    Economia, Finanças, Planejamento, Previdência ...                26.6   \n",
       "..                                                 ...                 ...   \n",
       "200   Justiça, Segurança e Órgãos de Controle e Defesa                23.0   \n",
       "201          Meio ambiente, Agricultura e Agropecuária                27.2   \n",
       "202                           Presidência da República                20.1   \n",
       "203                                Relações Exteriores                29.9   \n",
       "204                                              Saúde                22.1   \n",
       "\n",
       "     quantidade_vinculos  \n",
       "0                      3  \n",
       "1                      6  \n",
       "2                      4  \n",
       "3                      1  \n",
       "4                      5  \n",
       "..                   ...  \n",
       "200                  152  \n",
       "201                   37  \n",
       "202                   51  \n",
       "203                   13  \n",
       "204                  366  \n",
       "\n",
       "[205 rows x 5 columns]"
      ]
     },
     "execution_count": 4,
     "metadata": {},
     "output_type": "execute_result"
    }
   ],
   "source": [
    "df = pandas_gbq.read_gbq(query, project_id='repositoriodedadosgpsp')\n",
    "df"
   ]
  },
  {
   "cell_type": "code",
   "execution_count": 5,
   "metadata": {},
   "outputs": [
    {
     "data": {
      "text/plain": [
       "Index(['tipo_aposentadoria', 'decada_aposentadoria', 'categoria_ministerios',\n",
       "       'media_contribuicao', 'quantidade_vinculos'],\n",
       "      dtype='object')"
      ]
     },
     "execution_count": 5,
     "metadata": {},
     "output_type": "execute_result"
    }
   ],
   "source": [
    "df.columns"
   ]
  },
  {
   "cell_type": "code",
   "execution_count": 11,
   "metadata": {},
   "outputs": [
    {
     "data": {
      "text/plain": [
       "<IntegerArray>\n",
       "[2023, 2021, 2020, 2022]\n",
       "Length: 4, dtype: Int64"
      ]
     },
     "execution_count": 11,
     "metadata": {},
     "output_type": "execute_result"
    }
   ],
   "source": [
    "df['ano'].unique()"
   ]
  },
  {
   "cell_type": "code",
   "execution_count": 12,
   "metadata": {},
   "outputs": [
    {
     "data": {
      "text/plain": [
       "array(['Ministério do Turismo', 'Ministério da Economia',\n",
       "       'Ministério da Saúde', 'Ministério da Defesa',\n",
       "       'Ministério da Educação', 'Ministério de Minas e Energia',\n",
       "       'Ministério da Justiça e Segurança Pública',\n",
       "       'Ministério da Infraestrutura',\n",
       "       'Ministério da Ciência, Tecnologia, Inovações e Comunicações',\n",
       "       'Presidência da República', 'Ministério das Relações Exteriores',\n",
       "       'Ministério da Agricultura, Pecuária e Abastecimento',\n",
       "       'Ministério do Desenvolvimento Regional',\n",
       "       'Ministério do Meio Ambiente',\n",
       "       'Ministério do Desenvolvimento Social',\n",
       "       'Controladoria-Geral da União', 'MINISTERIO DAS COMUNICACOES',\n",
       "       'Defensoria Pública da União',\n",
       "       'Ministério da Mulher, Família e Direitos Humanos',\n",
       "       'Caixa de Financiamento Imobiliário da Aeronáutica'], dtype=object)"
      ]
     },
     "execution_count": 12,
     "metadata": {},
     "output_type": "execute_result"
    }
   ],
   "source": [
    "df['org_lotacao'].unique()"
   ]
  },
  {
   "cell_type": "code",
   "execution_count": 11,
   "metadata": {},
   "outputs": [
    {
     "name": "stdout",
     "output_type": "stream",
     "text": [
      "<class 'pandas.core.frame.DataFrame'>\n",
      "RangeIndex: 1000 entries, 0 to 999\n",
      "Data columns (total 29 columns):\n",
      " #   Column                                Non-Null Count  Dtype  \n",
      "---  ------                                --------------  -----  \n",
      " 0   Id_SERVIDOR_PORTAL                    1000 non-null   Int64  \n",
      " 1   NOME                                  1000 non-null   object \n",
      " 2   CPF                                   1000 non-null   object \n",
      " 3   MATRICULA                             1000 non-null   object \n",
      " 4   COD_TIPO_APOSENTADORIA                1000 non-null   Int64  \n",
      " 5   TIPO_APOSENTADORIA                    1000 non-null   object \n",
      " 6   DATA_APOSENTADORIA                    1000 non-null   object \n",
      " 7   DESCRICAO_CARGO                       1000 non-null   object \n",
      " 8   COD_UORG_LOTACAO                      1000 non-null   Int64  \n",
      " 9   UORG_LOTACAO                          1000 non-null   object \n",
      " 10  COD_ORG_LOTACAO                       1000 non-null   Int64  \n",
      " 11  ORG_LOTACAO                           1000 non-null   object \n",
      " 12  COD_ORGSUP_LOTACAO                    1000 non-null   Int64  \n",
      " 13  ORGSUP_LOTACAO                        1000 non-null   object \n",
      " 14  COD_TIPO_VINCULO                      1000 non-null   Int64  \n",
      " 15  TIPO_VINCULO                          1000 non-null   object \n",
      " 16  SITUACAO_VINCULO                      1000 non-null   object \n",
      " 17  REGIME_JURIDICO                       1000 non-null   object \n",
      " 18  JORNADA_DE_TRABALHO                   1000 non-null   object \n",
      " 19  DATA_INGRESSO_CARGOFUNCAO             955 non-null    object \n",
      " 20  DATA_NOMEACAO_CARGOFUNCAO             0 non-null      float64\n",
      " 21  DATA_INGRESSO_ORGAO                   0 non-null      float64\n",
      " 22  DOCUMENTO_INGRESSO_SERVICOPUBLICO     1000 non-null   Int64  \n",
      " 23  DATA_DIPLOMA_INGRESSO_SERVICOPUBLICO  0 non-null      float64\n",
      " 24  DIPLOMA_INGRESSO_CARGOFUNCAO          0 non-null      float64\n",
      " 25  DIPLOMA_INGRESSO_ORGAO                0 non-null      float64\n",
      " 26  DIPLOMA_INGRESSO_SERVICOPUBLICO       1000 non-null   object \n",
      " 27  ANO                                   1000 non-null   Int64  \n",
      " 28  MES                                   1000 non-null   Int64  \n",
      "dtypes: Int64(9), float64(5), object(15)\n",
      "memory usage: 235.5+ KB\n"
     ]
    }
   ],
   "source": [
    "df.info()"
   ]
  },
  {
   "cell_type": "code",
   "execution_count": 8,
   "metadata": {},
   "outputs": [],
   "source": [
    "dir = 'G:\\\\Drives compartilhados\\\\República.org\\\\4. Equipes\\\\Dados e Comunicação\\\\DADOS E CONHECIMENTO\\\\415 - Repositório de Dados\\\\Repositório Local\\\\Tabelas para o usuário baixar'"
   ]
  },
  {
   "cell_type": "code",
   "execution_count": 9,
   "metadata": {},
   "outputs": [],
   "source": [
    "os.chdir(dir)"
   ]
  },
  {
   "cell_type": "code",
   "execution_count": 13,
   "metadata": {},
   "outputs": [],
   "source": [
    "df.to_csv('SIAPE_ingresso_aposentadoria_media.csv', sep=';', encoding='latin-1', index=False)"
   ]
  },
  {
   "cell_type": "code",
   "execution_count": null,
   "metadata": {},
   "outputs": [],
   "source": []
  },
  {
   "cell_type": "markdown",
   "metadata": {},
   "source": [
    "-----------------------------------------------------------"
   ]
  },
  {
   "cell_type": "markdown",
   "metadata": {},
   "source": [
    "Testes"
   ]
  },
  {
   "cell_type": "code",
   "execution_count": 14,
   "metadata": {},
   "outputs": [
    {
     "data": {
      "text/html": [
       "<div>\n",
       "<style scoped>\n",
       "    .dataframe tbody tr th:only-of-type {\n",
       "        vertical-align: middle;\n",
       "    }\n",
       "\n",
       "    .dataframe tbody tr th {\n",
       "        vertical-align: top;\n",
       "    }\n",
       "\n",
       "    .dataframe thead th {\n",
       "        text-align: right;\n",
       "    }\n",
       "</style>\n",
       "<table border=\"1\" class=\"dataframe\">\n",
       "  <thead>\n",
       "    <tr style=\"text-align: right;\">\n",
       "      <th></th>\n",
       "      <th>tipo_aposentadoria</th>\n",
       "      <th>decada_aposentadoria</th>\n",
       "      <th>categoria_ministerios</th>\n",
       "      <th>media_contribuicao</th>\n",
       "      <th>quantidade_vinculos</th>\n",
       "    </tr>\n",
       "  </thead>\n",
       "  <tbody>\n",
       "    <tr>\n",
       "      <th>0</th>\n",
       "      <td>Outros</td>\n",
       "      <td>1980</td>\n",
       "      <td>Economia, Finanças, Planejamento, Previdência ...</td>\n",
       "      <td>26.0</td>\n",
       "      <td>3</td>\n",
       "    </tr>\n",
       "    <tr>\n",
       "      <th>1</th>\n",
       "      <td>Outros</td>\n",
       "      <td>1980</td>\n",
       "      <td>Educação e Ciência e Tecnologia</td>\n",
       "      <td>19.7</td>\n",
       "      <td>6</td>\n",
       "    </tr>\n",
       "    <tr>\n",
       "      <th>2</th>\n",
       "      <td>Outros</td>\n",
       "      <td>1980</td>\n",
       "      <td>Saúde</td>\n",
       "      <td>19.2</td>\n",
       "      <td>4</td>\n",
       "    </tr>\n",
       "    <tr>\n",
       "      <th>3</th>\n",
       "      <td>Outros</td>\n",
       "      <td>1990</td>\n",
       "      <td>Cultura, Turismo e Esportes</td>\n",
       "      <td>12.0</td>\n",
       "      <td>1</td>\n",
       "    </tr>\n",
       "    <tr>\n",
       "      <th>4</th>\n",
       "      <td>Outros</td>\n",
       "      <td>1990</td>\n",
       "      <td>Economia, Finanças, Planejamento, Previdência ...</td>\n",
       "      <td>26.6</td>\n",
       "      <td>5</td>\n",
       "    </tr>\n",
       "    <tr>\n",
       "      <th>...</th>\n",
       "      <td>...</td>\n",
       "      <td>...</td>\n",
       "      <td>...</td>\n",
       "      <td>...</td>\n",
       "      <td>...</td>\n",
       "    </tr>\n",
       "    <tr>\n",
       "      <th>200</th>\n",
       "      <td>Aposentadoria por incapacidade</td>\n",
       "      <td>2020</td>\n",
       "      <td>Justiça, Segurança e Órgãos de Controle e Defesa</td>\n",
       "      <td>23.0</td>\n",
       "      <td>152</td>\n",
       "    </tr>\n",
       "    <tr>\n",
       "      <th>201</th>\n",
       "      <td>Aposentadoria por incapacidade</td>\n",
       "      <td>2020</td>\n",
       "      <td>Meio ambiente, Agricultura e Agropecuária</td>\n",
       "      <td>27.2</td>\n",
       "      <td>37</td>\n",
       "    </tr>\n",
       "    <tr>\n",
       "      <th>202</th>\n",
       "      <td>Aposentadoria por incapacidade</td>\n",
       "      <td>2020</td>\n",
       "      <td>Presidência da República</td>\n",
       "      <td>20.1</td>\n",
       "      <td>51</td>\n",
       "    </tr>\n",
       "    <tr>\n",
       "      <th>203</th>\n",
       "      <td>Aposentadoria por incapacidade</td>\n",
       "      <td>2020</td>\n",
       "      <td>Relações Exteriores</td>\n",
       "      <td>29.9</td>\n",
       "      <td>13</td>\n",
       "    </tr>\n",
       "    <tr>\n",
       "      <th>204</th>\n",
       "      <td>Aposentadoria por incapacidade</td>\n",
       "      <td>2020</td>\n",
       "      <td>Saúde</td>\n",
       "      <td>22.1</td>\n",
       "      <td>366</td>\n",
       "    </tr>\n",
       "  </tbody>\n",
       "</table>\n",
       "<p>205 rows × 5 columns</p>\n",
       "</div>"
      ],
      "text/plain": [
       "                 tipo_aposentadoria  decada_aposentadoria  \\\n",
       "0                            Outros                  1980   \n",
       "1                            Outros                  1980   \n",
       "2                            Outros                  1980   \n",
       "3                            Outros                  1990   \n",
       "4                            Outros                  1990   \n",
       "..                              ...                   ...   \n",
       "200  Aposentadoria por incapacidade                  2020   \n",
       "201  Aposentadoria por incapacidade                  2020   \n",
       "202  Aposentadoria por incapacidade                  2020   \n",
       "203  Aposentadoria por incapacidade                  2020   \n",
       "204  Aposentadoria por incapacidade                  2020   \n",
       "\n",
       "                                 categoria_ministerios media_contribuicao  \\\n",
       "0    Economia, Finanças, Planejamento, Previdência ...               26.0   \n",
       "1                      Educação e Ciência e Tecnologia               19.7   \n",
       "2                                                Saúde               19.2   \n",
       "3                          Cultura, Turismo e Esportes               12.0   \n",
       "4    Economia, Finanças, Planejamento, Previdência ...               26.6   \n",
       "..                                                 ...                ...   \n",
       "200   Justiça, Segurança e Órgãos de Controle e Defesa               23.0   \n",
       "201          Meio ambiente, Agricultura e Agropecuária               27.2   \n",
       "202                           Presidência da República               20.1   \n",
       "203                                Relações Exteriores               29.9   \n",
       "204                                              Saúde               22.1   \n",
       "\n",
       "     quantidade_vinculos  \n",
       "0                      3  \n",
       "1                      6  \n",
       "2                      4  \n",
       "3                      1  \n",
       "4                      5  \n",
       "..                   ...  \n",
       "200                  152  \n",
       "201                   37  \n",
       "202                   51  \n",
       "203                   13  \n",
       "204                  366  \n",
       "\n",
       "[205 rows x 5 columns]"
      ]
     },
     "execution_count": 14,
     "metadata": {},
     "output_type": "execute_result"
    }
   ],
   "source": [
    "df = pd.read_csv(\"SIAPE_ingresso_aposentadoria_media.csv\", encoding=\"latin-1\", sep=';', decimal=',')\n",
    "df"
   ]
  },
  {
   "cell_type": "markdown",
   "metadata": {},
   "source": [
    "Automatizando troca de csv"
   ]
  },
  {
   "cell_type": "code",
   "execution_count": 45,
   "metadata": {},
   "outputs": [],
   "source": [
    "##os.chdir(\"G:\\\\Drives compartilhados\\\\República.org\\\\4. Equipes\\\\Dados e Comunicação\\\\DADOS\\\\415 - Repositório de Dados\\\\Repositório Local\\\\Tabelas para o usuário baixar\")"
   ]
  },
  {
   "cell_type": "code",
   "execution_count": 46,
   "metadata": {},
   "outputs": [],
   "source": [
    "## baixando os atuais com , e exportando com \";\""
   ]
  },
  {
   "cell_type": "code",
   "execution_count": 47,
   "metadata": {},
   "outputs": [],
   "source": [
    "## listando todos os itens do diretório\n",
    "##len(glob.glob('*.csv'))"
   ]
  },
  {
   "cell_type": "code",
   "execution_count": 48,
   "metadata": {},
   "outputs": [],
   "source": [
    "## Serve apenas na primeira vez . \n",
    "\n",
    "##for i in list(range(0,len(glob.glob('*.csv')))):\n",
    "    \n",
    "   # df= pd.read_csv(glob.glob('*.csv')[i])\n",
    "    #df.to_csv(glob.glob('*.csv')[i],index=False, encoding=\"latin-1\", sep=';', decimal=',')"
   ]
  },
  {
   "cell_type": "markdown",
   "metadata": {},
   "source": []
  },
  {
   "cell_type": "code",
   "execution_count": null,
   "metadata": {},
   "outputs": [],
   "source": []
  }
 ],
 "metadata": {
  "kernelspec": {
   "display_name": "Python 3",
   "language": "python",
   "name": "python3"
  },
  "language_info": {
   "codemirror_mode": {
    "name": "ipython",
    "version": 3
   },
   "file_extension": ".py",
   "mimetype": "text/x-python",
   "name": "python",
   "nbconvert_exporter": "python",
   "pygments_lexer": "ipython3",
   "version": "3.11.4"
  },
  "orig_nbformat": 4
 },
 "nbformat": 4,
 "nbformat_minor": 2
}
