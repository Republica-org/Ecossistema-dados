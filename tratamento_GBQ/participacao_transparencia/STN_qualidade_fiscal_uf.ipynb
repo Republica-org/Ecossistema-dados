{
 "cells": [
  {
   "cell_type": "code",
   "execution_count": 1,
   "metadata": {},
   "outputs": [],
   "source": [
    "import pandas as pd\n",
    "import time\n",
    "import numpy as np\n",
    "import os\n",
    "import pandas_gbq\n",
    "from google.cloud import bigquery\n",
    "import basedosdados as bd"
   ]
  },
  {
   "cell_type": "code",
   "execution_count": 2,
   "metadata": {},
   "outputs": [],
   "source": [
    "query = \"SELECT * FROM `basedosdados-projetos.republica.uf_ranking_qualidade` \""
   ]
  },
  {
   "cell_type": "code",
   "execution_count": 3,
   "metadata": {},
   "outputs": [],
   "source": [
    "client = bigquery.Client()\n"
   ]
  },
  {
   "cell_type": "code",
   "execution_count": 4,
   "metadata": {},
   "outputs": [
    {
     "name": "stderr",
     "output_type": "stream",
     "text": [
      "Downloading: 100%|██████████| 81/81 [00:00<00:00, 228.82rows/s]\n"
     ]
    }
   ],
   "source": [
    "df = pandas_gbq.read_gbq(query, project_id='repositoriodedadosgpsp')"
   ]
  },
  {
   "cell_type": "code",
   "execution_count": 7,
   "metadata": {},
   "outputs": [
    {
     "data": {
      "text/plain": [
       "<IntegerArray>\n",
       "[2019, 2020, 2021]\n",
       "Length: 3, dtype: Int64"
      ]
     },
     "execution_count": 7,
     "metadata": {},
     "output_type": "execute_result"
    }
   ],
   "source": [
    "df['ano'].unique()"
   ]
  },
  {
   "cell_type": "code",
   "execution_count": 6,
   "metadata": {},
   "outputs": [
    {
     "data": {
      "text/html": [
       "<div>\n",
       "<style scoped>\n",
       "    .dataframe tbody tr th:only-of-type {\n",
       "        vertical-align: middle;\n",
       "    }\n",
       "\n",
       "    .dataframe tbody tr th {\n",
       "        vertical-align: top;\n",
       "    }\n",
       "\n",
       "    .dataframe thead th {\n",
       "        text-align: right;\n",
       "    }\n",
       "</style>\n",
       "<table border=\"1\" class=\"dataframe\">\n",
       "  <thead>\n",
       "    <tr style=\"text-align: right;\">\n",
       "      <th></th>\n",
       "      <th>ano</th>\n",
       "      <th>sigla_uf</th>\n",
       "      <th>id_uf</th>\n",
       "      <th>indicador_qualidade_informacao_contabil_fiscal</th>\n",
       "      <th>posicao_ranking</th>\n",
       "      <th>quantidade_acertos_total</th>\n",
       "      <th>proporcao_acertos</th>\n",
       "      <th>dimensao_I</th>\n",
       "      <th>dimensao_II</th>\n",
       "      <th>dimensao_III</th>\n",
       "      <th>dimensao_IV</th>\n",
       "    </tr>\n",
       "  </thead>\n",
       "  <tbody>\n",
       "    <tr>\n",
       "      <th>0</th>\n",
       "      <td>2019</td>\n",
       "      <td>RO</td>\n",
       "      <td>11</td>\n",
       "      <td>B</td>\n",
       "      <td>4</td>\n",
       "      <td>63.400000</td>\n",
       "      <td>0.9320</td>\n",
       "      <td>14.400000</td>\n",
       "      <td>28</td>\n",
       "      <td>9</td>\n",
       "      <td>12</td>\n",
       "    </tr>\n",
       "    <tr>\n",
       "      <th>1</th>\n",
       "      <td>2019</td>\n",
       "      <td>AC</td>\n",
       "      <td>12</td>\n",
       "      <td>B</td>\n",
       "      <td>10</td>\n",
       "      <td>60.800000</td>\n",
       "      <td>0.8940</td>\n",
       "      <td>14.800000</td>\n",
       "      <td>25</td>\n",
       "      <td>10</td>\n",
       "      <td>11</td>\n",
       "    </tr>\n",
       "    <tr>\n",
       "      <th>2</th>\n",
       "      <td>2019</td>\n",
       "      <td>AM</td>\n",
       "      <td>13</td>\n",
       "      <td>B</td>\n",
       "      <td>6</td>\n",
       "      <td>62.600000</td>\n",
       "      <td>0.9200</td>\n",
       "      <td>13.600000</td>\n",
       "      <td>28</td>\n",
       "      <td>11</td>\n",
       "      <td>10</td>\n",
       "    </tr>\n",
       "    <tr>\n",
       "      <th>3</th>\n",
       "      <td>2019</td>\n",
       "      <td>RR</td>\n",
       "      <td>14</td>\n",
       "      <td>E</td>\n",
       "      <td>27</td>\n",
       "      <td>8.300000</td>\n",
       "      <td>0.1220</td>\n",
       "      <td>8.300000</td>\n",
       "      <td>0</td>\n",
       "      <td>0</td>\n",
       "      <td>0</td>\n",
       "    </tr>\n",
       "    <tr>\n",
       "      <th>4</th>\n",
       "      <td>2019</td>\n",
       "      <td>PA</td>\n",
       "      <td>15</td>\n",
       "      <td>B</td>\n",
       "      <td>5</td>\n",
       "      <td>63.100000</td>\n",
       "      <td>0.9270</td>\n",
       "      <td>14.100000</td>\n",
       "      <td>29</td>\n",
       "      <td>8</td>\n",
       "      <td>12</td>\n",
       "    </tr>\n",
       "    <tr>\n",
       "      <th>...</th>\n",
       "      <td>...</td>\n",
       "      <td>...</td>\n",
       "      <td>...</td>\n",
       "      <td>...</td>\n",
       "      <td>...</td>\n",
       "      <td>...</td>\n",
       "      <td>...</td>\n",
       "      <td>...</td>\n",
       "      <td>...</td>\n",
       "      <td>...</td>\n",
       "      <td>...</td>\n",
       "    </tr>\n",
       "    <tr>\n",
       "      <th>76</th>\n",
       "      <td>2021</td>\n",
       "      <td>SP</td>\n",
       "      <td>35</td>\n",
       "      <td>B</td>\n",
       "      <td>23</td>\n",
       "      <td>87.600000</td>\n",
       "      <td>0.8760</td>\n",
       "      <td>21.600000</td>\n",
       "      <td>36</td>\n",
       "      <td>13</td>\n",
       "      <td>17</td>\n",
       "    </tr>\n",
       "    <tr>\n",
       "      <th>77</th>\n",
       "      <td>2021</td>\n",
       "      <td>MA</td>\n",
       "      <td>21</td>\n",
       "      <td>B</td>\n",
       "      <td>24</td>\n",
       "      <td>86.850000</td>\n",
       "      <td>0.8685</td>\n",
       "      <td>20.850000</td>\n",
       "      <td>40</td>\n",
       "      <td>11</td>\n",
       "      <td>15</td>\n",
       "    </tr>\n",
       "    <tr>\n",
       "      <th>78</th>\n",
       "      <td>2021</td>\n",
       "      <td>MG</td>\n",
       "      <td>31</td>\n",
       "      <td>B</td>\n",
       "      <td>25</td>\n",
       "      <td>85.543590</td>\n",
       "      <td>0.8554</td>\n",
       "      <td>22.543590</td>\n",
       "      <td>36</td>\n",
       "      <td>14</td>\n",
       "      <td>13</td>\n",
       "    </tr>\n",
       "    <tr>\n",
       "      <th>79</th>\n",
       "      <td>2021</td>\n",
       "      <td>AP</td>\n",
       "      <td>16</td>\n",
       "      <td>C</td>\n",
       "      <td>26</td>\n",
       "      <td>77.769231</td>\n",
       "      <td>0.7777</td>\n",
       "      <td>20.769231</td>\n",
       "      <td>35</td>\n",
       "      <td>11</td>\n",
       "      <td>11</td>\n",
       "    </tr>\n",
       "    <tr>\n",
       "      <th>80</th>\n",
       "      <td>2021</td>\n",
       "      <td>RR</td>\n",
       "      <td>14</td>\n",
       "      <td>D</td>\n",
       "      <td>27</td>\n",
       "      <td>69.038462</td>\n",
       "      <td>0.6904</td>\n",
       "      <td>21.038462</td>\n",
       "      <td>32</td>\n",
       "      <td>10</td>\n",
       "      <td>6</td>\n",
       "    </tr>\n",
       "  </tbody>\n",
       "</table>\n",
       "<p>81 rows × 11 columns</p>\n",
       "</div>"
      ],
      "text/plain": [
       "     ano sigla_uf id_uf indicador_qualidade_informacao_contabil_fiscal  \\\n",
       "0   2019       RO    11                                              B   \n",
       "1   2019       AC    12                                              B   \n",
       "2   2019       AM    13                                              B   \n",
       "3   2019       RR    14                                              E   \n",
       "4   2019       PA    15                                              B   \n",
       "..   ...      ...   ...                                            ...   \n",
       "76  2021       SP    35                                              B   \n",
       "77  2021       MA    21                                              B   \n",
       "78  2021       MG    31                                              B   \n",
       "79  2021       AP    16                                              C   \n",
       "80  2021       RR    14                                              D   \n",
       "\n",
       "    posicao_ranking  quantidade_acertos_total  proporcao_acertos  dimensao_I  \\\n",
       "0                 4                 63.400000             0.9320   14.400000   \n",
       "1                10                 60.800000             0.8940   14.800000   \n",
       "2                 6                 62.600000             0.9200   13.600000   \n",
       "3                27                  8.300000             0.1220    8.300000   \n",
       "4                 5                 63.100000             0.9270   14.100000   \n",
       "..              ...                       ...                ...         ...   \n",
       "76               23                 87.600000             0.8760   21.600000   \n",
       "77               24                 86.850000             0.8685   20.850000   \n",
       "78               25                 85.543590             0.8554   22.543590   \n",
       "79               26                 77.769231             0.7777   20.769231   \n",
       "80               27                 69.038462             0.6904   21.038462   \n",
       "\n",
       "    dimensao_II  dimensao_III  dimensao_IV  \n",
       "0            28             9           12  \n",
       "1            25            10           11  \n",
       "2            28            11           10  \n",
       "3             0             0            0  \n",
       "4            29             8           12  \n",
       "..          ...           ...          ...  \n",
       "76           36            13           17  \n",
       "77           40            11           15  \n",
       "78           36            14           13  \n",
       "79           35            11           11  \n",
       "80           32            10            6  \n",
       "\n",
       "[81 rows x 11 columns]"
      ]
     },
     "execution_count": 6,
     "metadata": {},
     "output_type": "execute_result"
    }
   ],
   "source": [
    "df"
   ]
  },
  {
   "cell_type": "code",
   "execution_count": null,
   "metadata": {},
   "outputs": [],
   "source": []
  },
  {
   "cell_type": "code",
   "execution_count": 8,
   "metadata": {},
   "outputs": [
    {
     "name": "stdout",
     "output_type": "stream",
     "text": [
      "<class 'pandas.core.frame.DataFrame'>\n",
      "RangeIndex: 81 entries, 0 to 80\n",
      "Data columns (total 11 columns):\n",
      " #   Column                                          Non-Null Count  Dtype  \n",
      "---  ------                                          --------------  -----  \n",
      " 0   ano                                             81 non-null     Int64  \n",
      " 1   sigla_uf                                        81 non-null     object \n",
      " 2   id_uf                                           81 non-null     object \n",
      " 3   indicador_qualidade_informacao_contabil_fiscal  81 non-null     object \n",
      " 4   posicao_ranking                                 81 non-null     Int64  \n",
      " 5   quantidade_acertos_total                        81 non-null     float64\n",
      " 6   proporcao_acertos                               81 non-null     float64\n",
      " 7   dimensao_I                                      81 non-null     float64\n",
      " 8   dimensao_II                                     81 non-null     Int64  \n",
      " 9   dimensao_III                                    81 non-null     Int64  \n",
      " 10  dimensao_IV                                     81 non-null     Int64  \n",
      "dtypes: Int64(5), float64(3), object(3)\n",
      "memory usage: 7.5+ KB\n"
     ]
    }
   ],
   "source": [
    "df.info()"
   ]
  },
  {
   "cell_type": "code",
   "execution_count": 9,
   "metadata": {},
   "outputs": [],
   "source": [
    "client = bigquery.Client()\n",
    "dataset_ref = client.dataset('participacao_transparencia')"
   ]
  },
  {
   "cell_type": "code",
   "execution_count": null,
   "metadata": {},
   "outputs": [],
   "source": [
    "#Dimensão I - Gestão da Informação.\n",
    "#Dimensão II - Informações Contábeis.\n",
    "#Dimensão III - Informações Fiscais.\n",
    "#Dimensão IV - Informações Contábeis x Informações Fiscais."
   ]
  },
  {
   "cell_type": "code",
   "execution_count": 15,
   "metadata": {},
   "outputs": [],
   "source": [
    "schema=[bigquery.SchemaField('ano','INTEGER',description='Ano de referencia da informacao'),\n",
    " bigquery.SchemaField('sigla_uf','STRING',description='Sigla da Unidade da Federação.'),\n",
    " bigquery.SchemaField('id_uf','STRING',description='Código da Unidade da Federação.'),\n",
    " bigquery.SchemaField('indicador_qualidade_informacao_contabil_fiscal','STRING',description='Nota do indicador de qualidade'),\n",
    " bigquery.SchemaField('posicao_ranking','INTEGER',description='Posição do ranking.'),\n",
    " bigquery.SchemaField('quantidade_acertos_total','FLOAT',description='Quantidade de acertos em todas as dimensões'),\n",
    " bigquery.SchemaField('proporcao_acertos','FLOAT',description='Proporção de acertos'),\n",
    " bigquery.SchemaField('dimensao_I','FLOAT',description='Dimensão I - Gestão da Informação.'),\n",
    " bigquery.SchemaField('dimensao_II','INTEGER',description='Dimensão II - Informações Contábeis.'),\n",
    " bigquery.SchemaField('dimensao_III','INTEGER',description='Dimensão III - Informações Fiscais.'),\n",
    " bigquery.SchemaField('dimensao_IV','INTEGER',description='Dimensão IV - Informações Contábeis x Informações Fiscais')\n",
    " ]"
   ]
  },
  {
   "cell_type": "code",
   "execution_count": 16,
   "metadata": {},
   "outputs": [
    {
     "data": {
      "text/plain": [
       "LoadJob<project=repositoriodedadosgpsp, location=US, id=12ebcf2c-4892-42d6-a12a-d2a56ecdca0d>"
      ]
     },
     "execution_count": 16,
     "metadata": {},
     "output_type": "execute_result"
    }
   ],
   "source": [
    "table_ref = dataset_ref.table('STN_qualidade_fiscal_uf') # nome da tabela no padrão FONTE_algo_intuitivo_dado\n",
    "job_config = bigquery.LoadJobConfig(schema=schema)\n",
    "job = client.load_table_from_dataframe(df, table_ref, job_config=job_config)\n",
    "job.result() "
   ]
  }
 ],
 "metadata": {
  "kernelspec": {
   "display_name": "Python 3",
   "language": "python",
   "name": "python3"
  },
  "language_info": {
   "codemirror_mode": {
    "name": "ipython",
    "version": 3
   },
   "file_extension": ".py",
   "mimetype": "text/x-python",
   "name": "python",
   "nbconvert_exporter": "python",
   "pygments_lexer": "ipython3",
   "version": "3.10.11"
  },
  "orig_nbformat": 4
 },
 "nbformat": 4,
 "nbformat_minor": 2
}
