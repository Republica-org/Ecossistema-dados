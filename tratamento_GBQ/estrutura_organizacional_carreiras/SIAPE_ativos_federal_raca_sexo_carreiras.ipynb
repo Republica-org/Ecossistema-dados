{
 "cells": [
  {
   "cell_type": "code",
   "execution_count": 1,
   "metadata": {},
   "outputs": [],
   "source": [
    "import numpy as np\n",
    "import pandas as pd\n",
    "import numpy as np\n",
    "import os\n",
    "import time\n",
    "from google.cloud import bigquery\n",
    "import re"
   ]
  },
  {
   "cell_type": "code",
   "execution_count": 5,
   "metadata": {},
   "outputs": [
    {
     "ename": "FileNotFoundError",
     "evalue": "[WinError 3] O sistema não pode encontrar o caminho especificado: 'G:\\\\Drives compartilhados\\\\República.org\\\\4. Equipes\\\\Dados e Comunicação\\\\DADOS\\\\415 - Repositório de Dados\\\\Dados para subir\\\\Tabelas finais'",
     "output_type": "error",
     "traceback": [
      "\u001b[1;31m---------------------------------------------------------------------------\u001b[0m",
      "\u001b[1;31mFileNotFoundError\u001b[0m                         Traceback (most recent call last)",
      "Cell \u001b[1;32mIn[5], line 1\u001b[0m\n\u001b[1;32m----> 1\u001b[0m os\u001b[38;5;241m.\u001b[39mchdir(\u001b[38;5;124m'\u001b[39m\u001b[38;5;124mG:\u001b[39m\u001b[38;5;130;01m\\\\\u001b[39;00m\u001b[38;5;124mDrives compartilhados\u001b[39m\u001b[38;5;130;01m\\\\\u001b[39;00m\u001b[38;5;124mRepública.org\u001b[39m\u001b[38;5;130;01m\\\\\u001b[39;00m\u001b[38;5;124m4. Equipes\u001b[39m\u001b[38;5;130;01m\\\\\u001b[39;00m\u001b[38;5;124mDados e Comunicação\u001b[39m\u001b[38;5;130;01m\\\\\u001b[39;00m\u001b[38;5;124mDADOS\u001b[39m\u001b[38;5;130;01m\\\\\u001b[39;00m\u001b[38;5;124m415 - Repositório de Dados\u001b[39m\u001b[38;5;130;01m\\\\\u001b[39;00m\u001b[38;5;124mDados para subir\u001b[39m\u001b[38;5;130;01m\\\\\u001b[39;00m\u001b[38;5;124mTabelas finais\u001b[39m\u001b[38;5;124m'\u001b[39m)\n",
      "\u001b[1;31mFileNotFoundError\u001b[0m: [WinError 3] O sistema não pode encontrar o caminho especificado: 'G:\\\\Drives compartilhados\\\\República.org\\\\4. Equipes\\\\Dados e Comunicação\\\\DADOS\\\\415 - Repositório de Dados\\\\Dados para subir\\\\Tabelas finais'"
     ]
    }
   ],
   "source": [
    "os.chdir('G:\\\\Drives compartilhados\\\\República.org\\\\4. Equipes\\\\Dados e Comunicação\\\\DADOS\\\\415 - Repositório de Dados\\\\Dados para subir\\\\Tabelas finais')\n"
   ]
  },
  {
   "cell_type": "code",
   "execution_count": 2,
   "metadata": {},
   "outputs": [
    {
     "ename": "FileNotFoundError",
     "evalue": "[Errno 2] No such file or directory: 'SIAPE_ativos_federal_raca_sexo_carreiras.csv'",
     "output_type": "error",
     "traceback": [
      "\u001b[1;31m---------------------------------------------------------------------------\u001b[0m",
      "\u001b[1;31mFileNotFoundError\u001b[0m                         Traceback (most recent call last)",
      "Cell \u001b[1;32mIn[2], line 1\u001b[0m\n\u001b[1;32m----> 1\u001b[0m df \u001b[38;5;241m=\u001b[39m pd\u001b[38;5;241m.\u001b[39mread_csv(\u001b[38;5;124m'\u001b[39m\u001b[38;5;124mSIAPE_ativos_federal_raca_sexo_carreiras.csv\u001b[39m\u001b[38;5;124m'\u001b[39m)\n\u001b[0;32m      2\u001b[0m df\n",
      "File \u001b[1;32mc:\\Users\\ana.sales_republica\\anaconda3\\Lib\\site-packages\\pandas\\util\\_decorators.py:211\u001b[0m, in \u001b[0;36mdeprecate_kwarg.<locals>._deprecate_kwarg.<locals>.wrapper\u001b[1;34m(*args, **kwargs)\u001b[0m\n\u001b[0;32m    209\u001b[0m     \u001b[38;5;28;01melse\u001b[39;00m:\n\u001b[0;32m    210\u001b[0m         kwargs[new_arg_name] \u001b[38;5;241m=\u001b[39m new_arg_value\n\u001b[1;32m--> 211\u001b[0m \u001b[38;5;28;01mreturn\u001b[39;00m func(\u001b[38;5;241m*\u001b[39margs, \u001b[38;5;241m*\u001b[39m\u001b[38;5;241m*\u001b[39mkwargs)\n",
      "File \u001b[1;32mc:\\Users\\ana.sales_republica\\anaconda3\\Lib\\site-packages\\pandas\\util\\_decorators.py:331\u001b[0m, in \u001b[0;36mdeprecate_nonkeyword_arguments.<locals>.decorate.<locals>.wrapper\u001b[1;34m(*args, **kwargs)\u001b[0m\n\u001b[0;32m    325\u001b[0m \u001b[38;5;28;01mif\u001b[39;00m \u001b[38;5;28mlen\u001b[39m(args) \u001b[38;5;241m>\u001b[39m num_allow_args:\n\u001b[0;32m    326\u001b[0m     warnings\u001b[38;5;241m.\u001b[39mwarn(\n\u001b[0;32m    327\u001b[0m         msg\u001b[38;5;241m.\u001b[39mformat(arguments\u001b[38;5;241m=\u001b[39m_format_argument_list(allow_args)),\n\u001b[0;32m    328\u001b[0m         \u001b[38;5;167;01mFutureWarning\u001b[39;00m,\n\u001b[0;32m    329\u001b[0m         stacklevel\u001b[38;5;241m=\u001b[39mfind_stack_level(),\n\u001b[0;32m    330\u001b[0m     )\n\u001b[1;32m--> 331\u001b[0m \u001b[38;5;28;01mreturn\u001b[39;00m func(\u001b[38;5;241m*\u001b[39margs, \u001b[38;5;241m*\u001b[39m\u001b[38;5;241m*\u001b[39mkwargs)\n",
      "File \u001b[1;32mc:\\Users\\ana.sales_republica\\anaconda3\\Lib\\site-packages\\pandas\\io\\parsers\\readers.py:950\u001b[0m, in \u001b[0;36mread_csv\u001b[1;34m(filepath_or_buffer, sep, delimiter, header, names, index_col, usecols, squeeze, prefix, mangle_dupe_cols, dtype, engine, converters, true_values, false_values, skipinitialspace, skiprows, skipfooter, nrows, na_values, keep_default_na, na_filter, verbose, skip_blank_lines, parse_dates, infer_datetime_format, keep_date_col, date_parser, dayfirst, cache_dates, iterator, chunksize, compression, thousands, decimal, lineterminator, quotechar, quoting, doublequote, escapechar, comment, encoding, encoding_errors, dialect, error_bad_lines, warn_bad_lines, on_bad_lines, delim_whitespace, low_memory, memory_map, float_precision, storage_options)\u001b[0m\n\u001b[0;32m    935\u001b[0m kwds_defaults \u001b[38;5;241m=\u001b[39m _refine_defaults_read(\n\u001b[0;32m    936\u001b[0m     dialect,\n\u001b[0;32m    937\u001b[0m     delimiter,\n\u001b[1;32m   (...)\u001b[0m\n\u001b[0;32m    946\u001b[0m     defaults\u001b[38;5;241m=\u001b[39m{\u001b[38;5;124m\"\u001b[39m\u001b[38;5;124mdelimiter\u001b[39m\u001b[38;5;124m\"\u001b[39m: \u001b[38;5;124m\"\u001b[39m\u001b[38;5;124m,\u001b[39m\u001b[38;5;124m\"\u001b[39m},\n\u001b[0;32m    947\u001b[0m )\n\u001b[0;32m    948\u001b[0m kwds\u001b[38;5;241m.\u001b[39mupdate(kwds_defaults)\n\u001b[1;32m--> 950\u001b[0m \u001b[38;5;28;01mreturn\u001b[39;00m _read(filepath_or_buffer, kwds)\n",
      "File \u001b[1;32mc:\\Users\\ana.sales_republica\\anaconda3\\Lib\\site-packages\\pandas\\io\\parsers\\readers.py:605\u001b[0m, in \u001b[0;36m_read\u001b[1;34m(filepath_or_buffer, kwds)\u001b[0m\n\u001b[0;32m    602\u001b[0m _validate_names(kwds\u001b[38;5;241m.\u001b[39mget(\u001b[38;5;124m\"\u001b[39m\u001b[38;5;124mnames\u001b[39m\u001b[38;5;124m\"\u001b[39m, \u001b[38;5;28;01mNone\u001b[39;00m))\n\u001b[0;32m    604\u001b[0m \u001b[38;5;66;03m# Create the parser.\u001b[39;00m\n\u001b[1;32m--> 605\u001b[0m parser \u001b[38;5;241m=\u001b[39m TextFileReader(filepath_or_buffer, \u001b[38;5;241m*\u001b[39m\u001b[38;5;241m*\u001b[39mkwds)\n\u001b[0;32m    607\u001b[0m \u001b[38;5;28;01mif\u001b[39;00m chunksize \u001b[38;5;129;01mor\u001b[39;00m iterator:\n\u001b[0;32m    608\u001b[0m     \u001b[38;5;28;01mreturn\u001b[39;00m parser\n",
      "File \u001b[1;32mc:\\Users\\ana.sales_republica\\anaconda3\\Lib\\site-packages\\pandas\\io\\parsers\\readers.py:1442\u001b[0m, in \u001b[0;36mTextFileReader.__init__\u001b[1;34m(self, f, engine, **kwds)\u001b[0m\n\u001b[0;32m   1439\u001b[0m     \u001b[38;5;28mself\u001b[39m\u001b[38;5;241m.\u001b[39moptions[\u001b[38;5;124m\"\u001b[39m\u001b[38;5;124mhas_index_names\u001b[39m\u001b[38;5;124m\"\u001b[39m] \u001b[38;5;241m=\u001b[39m kwds[\u001b[38;5;124m\"\u001b[39m\u001b[38;5;124mhas_index_names\u001b[39m\u001b[38;5;124m\"\u001b[39m]\n\u001b[0;32m   1441\u001b[0m \u001b[38;5;28mself\u001b[39m\u001b[38;5;241m.\u001b[39mhandles: IOHandles \u001b[38;5;241m|\u001b[39m \u001b[38;5;28;01mNone\u001b[39;00m \u001b[38;5;241m=\u001b[39m \u001b[38;5;28;01mNone\u001b[39;00m\n\u001b[1;32m-> 1442\u001b[0m \u001b[38;5;28mself\u001b[39m\u001b[38;5;241m.\u001b[39m_engine \u001b[38;5;241m=\u001b[39m \u001b[38;5;28mself\u001b[39m\u001b[38;5;241m.\u001b[39m_make_engine(f, \u001b[38;5;28mself\u001b[39m\u001b[38;5;241m.\u001b[39mengine)\n",
      "File \u001b[1;32mc:\\Users\\ana.sales_republica\\anaconda3\\Lib\\site-packages\\pandas\\io\\parsers\\readers.py:1735\u001b[0m, in \u001b[0;36mTextFileReader._make_engine\u001b[1;34m(self, f, engine)\u001b[0m\n\u001b[0;32m   1733\u001b[0m     \u001b[38;5;28;01mif\u001b[39;00m \u001b[38;5;124m\"\u001b[39m\u001b[38;5;124mb\u001b[39m\u001b[38;5;124m\"\u001b[39m \u001b[38;5;129;01mnot\u001b[39;00m \u001b[38;5;129;01min\u001b[39;00m mode:\n\u001b[0;32m   1734\u001b[0m         mode \u001b[38;5;241m+\u001b[39m\u001b[38;5;241m=\u001b[39m \u001b[38;5;124m\"\u001b[39m\u001b[38;5;124mb\u001b[39m\u001b[38;5;124m\"\u001b[39m\n\u001b[1;32m-> 1735\u001b[0m \u001b[38;5;28mself\u001b[39m\u001b[38;5;241m.\u001b[39mhandles \u001b[38;5;241m=\u001b[39m get_handle(\n\u001b[0;32m   1736\u001b[0m     f,\n\u001b[0;32m   1737\u001b[0m     mode,\n\u001b[0;32m   1738\u001b[0m     encoding\u001b[38;5;241m=\u001b[39m\u001b[38;5;28mself\u001b[39m\u001b[38;5;241m.\u001b[39moptions\u001b[38;5;241m.\u001b[39mget(\u001b[38;5;124m\"\u001b[39m\u001b[38;5;124mencoding\u001b[39m\u001b[38;5;124m\"\u001b[39m, \u001b[38;5;28;01mNone\u001b[39;00m),\n\u001b[0;32m   1739\u001b[0m     compression\u001b[38;5;241m=\u001b[39m\u001b[38;5;28mself\u001b[39m\u001b[38;5;241m.\u001b[39moptions\u001b[38;5;241m.\u001b[39mget(\u001b[38;5;124m\"\u001b[39m\u001b[38;5;124mcompression\u001b[39m\u001b[38;5;124m\"\u001b[39m, \u001b[38;5;28;01mNone\u001b[39;00m),\n\u001b[0;32m   1740\u001b[0m     memory_map\u001b[38;5;241m=\u001b[39m\u001b[38;5;28mself\u001b[39m\u001b[38;5;241m.\u001b[39moptions\u001b[38;5;241m.\u001b[39mget(\u001b[38;5;124m\"\u001b[39m\u001b[38;5;124mmemory_map\u001b[39m\u001b[38;5;124m\"\u001b[39m, \u001b[38;5;28;01mFalse\u001b[39;00m),\n\u001b[0;32m   1741\u001b[0m     is_text\u001b[38;5;241m=\u001b[39mis_text,\n\u001b[0;32m   1742\u001b[0m     errors\u001b[38;5;241m=\u001b[39m\u001b[38;5;28mself\u001b[39m\u001b[38;5;241m.\u001b[39moptions\u001b[38;5;241m.\u001b[39mget(\u001b[38;5;124m\"\u001b[39m\u001b[38;5;124mencoding_errors\u001b[39m\u001b[38;5;124m\"\u001b[39m, \u001b[38;5;124m\"\u001b[39m\u001b[38;5;124mstrict\u001b[39m\u001b[38;5;124m\"\u001b[39m),\n\u001b[0;32m   1743\u001b[0m     storage_options\u001b[38;5;241m=\u001b[39m\u001b[38;5;28mself\u001b[39m\u001b[38;5;241m.\u001b[39moptions\u001b[38;5;241m.\u001b[39mget(\u001b[38;5;124m\"\u001b[39m\u001b[38;5;124mstorage_options\u001b[39m\u001b[38;5;124m\"\u001b[39m, \u001b[38;5;28;01mNone\u001b[39;00m),\n\u001b[0;32m   1744\u001b[0m )\n\u001b[0;32m   1745\u001b[0m \u001b[38;5;28;01massert\u001b[39;00m \u001b[38;5;28mself\u001b[39m\u001b[38;5;241m.\u001b[39mhandles \u001b[38;5;129;01mis\u001b[39;00m \u001b[38;5;129;01mnot\u001b[39;00m \u001b[38;5;28;01mNone\u001b[39;00m\n\u001b[0;32m   1746\u001b[0m f \u001b[38;5;241m=\u001b[39m \u001b[38;5;28mself\u001b[39m\u001b[38;5;241m.\u001b[39mhandles\u001b[38;5;241m.\u001b[39mhandle\n",
      "File \u001b[1;32mc:\\Users\\ana.sales_republica\\anaconda3\\Lib\\site-packages\\pandas\\io\\common.py:856\u001b[0m, in \u001b[0;36mget_handle\u001b[1;34m(path_or_buf, mode, encoding, compression, memory_map, is_text, errors, storage_options)\u001b[0m\n\u001b[0;32m    851\u001b[0m \u001b[38;5;28;01melif\u001b[39;00m \u001b[38;5;28misinstance\u001b[39m(handle, \u001b[38;5;28mstr\u001b[39m):\n\u001b[0;32m    852\u001b[0m     \u001b[38;5;66;03m# Check whether the filename is to be opened in binary mode.\u001b[39;00m\n\u001b[0;32m    853\u001b[0m     \u001b[38;5;66;03m# Binary mode does not support 'encoding' and 'newline'.\u001b[39;00m\n\u001b[0;32m    854\u001b[0m     \u001b[38;5;28;01mif\u001b[39;00m ioargs\u001b[38;5;241m.\u001b[39mencoding \u001b[38;5;129;01mand\u001b[39;00m \u001b[38;5;124m\"\u001b[39m\u001b[38;5;124mb\u001b[39m\u001b[38;5;124m\"\u001b[39m \u001b[38;5;129;01mnot\u001b[39;00m \u001b[38;5;129;01min\u001b[39;00m ioargs\u001b[38;5;241m.\u001b[39mmode:\n\u001b[0;32m    855\u001b[0m         \u001b[38;5;66;03m# Encoding\u001b[39;00m\n\u001b[1;32m--> 856\u001b[0m         handle \u001b[38;5;241m=\u001b[39m \u001b[38;5;28mopen\u001b[39m(\n\u001b[0;32m    857\u001b[0m             handle,\n\u001b[0;32m    858\u001b[0m             ioargs\u001b[38;5;241m.\u001b[39mmode,\n\u001b[0;32m    859\u001b[0m             encoding\u001b[38;5;241m=\u001b[39mioargs\u001b[38;5;241m.\u001b[39mencoding,\n\u001b[0;32m    860\u001b[0m             errors\u001b[38;5;241m=\u001b[39merrors,\n\u001b[0;32m    861\u001b[0m             newline\u001b[38;5;241m=\u001b[39m\u001b[38;5;124m\"\u001b[39m\u001b[38;5;124m\"\u001b[39m,\n\u001b[0;32m    862\u001b[0m         )\n\u001b[0;32m    863\u001b[0m     \u001b[38;5;28;01melse\u001b[39;00m:\n\u001b[0;32m    864\u001b[0m         \u001b[38;5;66;03m# Binary mode\u001b[39;00m\n\u001b[0;32m    865\u001b[0m         handle \u001b[38;5;241m=\u001b[39m \u001b[38;5;28mopen\u001b[39m(handle, ioargs\u001b[38;5;241m.\u001b[39mmode)\n",
      "\u001b[1;31mFileNotFoundError\u001b[0m: [Errno 2] No such file or directory: 'SIAPE_ativos_federal_raca_sexo_carreiras.csv'"
     ]
    }
   ],
   "source": [
    "df = pd.read_csv('SIAPE_ativos_federal_raca_sexo_carreiras.csv')\n",
    "df"
   ]
  },
  {
   "cell_type": "code",
   "execution_count": 28,
   "metadata": {},
   "outputs": [
    {
     "data": {
      "text/plain": [
       "array(['Branco', 'Negro', 'Não informado', 'Outros'], dtype=object)"
      ]
     },
     "execution_count": 28,
     "metadata": {},
     "output_type": "execute_result"
    }
   ],
   "source": [
    "df['raca'].unique()"
   ]
  },
  {
   "cell_type": "code",
   "execution_count": 29,
   "metadata": {},
   "outputs": [
    {
     "data": {
      "text/plain": [
       "array(['Masculino', 'Feminino'], dtype=object)"
      ]
     },
     "execution_count": 29,
     "metadata": {},
     "output_type": "execute_result"
    }
   ],
   "source": [
    "df['sexo'].unique()"
   ]
  },
  {
   "cell_type": "code",
   "execution_count": 30,
   "metadata": {},
   "outputs": [],
   "source": [
    "def transformar(nome):\n",
    "    nome =re.sub(r\"\\bMasculino\\b\", \"Homens\", nome)\n",
    "    nome =re.sub(r\"\\bFeminino\\b\", \"Mulheres\", nome)\n",
    "    return nome"
   ]
  },
  {
   "cell_type": "code",
   "execution_count": 31,
   "metadata": {},
   "outputs": [],
   "source": [
    "df['sexo'] = df['sexo'].apply(transformar)"
   ]
  },
  {
   "cell_type": "code",
   "execution_count": 33,
   "metadata": {},
   "outputs": [],
   "source": [
    "df['genero_raca'] = df['sexo'] + ' ' + df['raca']"
   ]
  },
  {
   "cell_type": "code",
   "execution_count": 34,
   "metadata": {},
   "outputs": [
    {
     "data": {
      "text/html": [
       "<div>\n",
       "<style scoped>\n",
       "    .dataframe tbody tr th:only-of-type {\n",
       "        vertical-align: middle;\n",
       "    }\n",
       "\n",
       "    .dataframe tbody tr th {\n",
       "        vertical-align: top;\n",
       "    }\n",
       "\n",
       "    .dataframe thead th {\n",
       "        text-align: right;\n",
       "    }\n",
       "</style>\n",
       "<table border=\"1\" class=\"dataframe\">\n",
       "  <thead>\n",
       "    <tr style=\"text-align: right;\">\n",
       "      <th></th>\n",
       "      <th>ano</th>\n",
       "      <th>carreira</th>\n",
       "      <th>vinculos</th>\n",
       "      <th>percent</th>\n",
       "      <th>sexo</th>\n",
       "      <th>raca</th>\n",
       "      <th>genero_raca</th>\n",
       "    </tr>\n",
       "  </thead>\n",
       "  <tbody>\n",
       "    <tr>\n",
       "      <th>0</th>\n",
       "      <td>2020</td>\n",
       "      <td>Advogado da União</td>\n",
       "      <td>773</td>\n",
       "      <td>44,6</td>\n",
       "      <td>Homens</td>\n",
       "      <td>Branco</td>\n",
       "      <td>Homens Branco</td>\n",
       "    </tr>\n",
       "    <tr>\n",
       "      <th>1</th>\n",
       "      <td>2020</td>\n",
       "      <td>Advogado da União</td>\n",
       "      <td>194</td>\n",
       "      <td>11,2</td>\n",
       "      <td>Homens</td>\n",
       "      <td>Negro</td>\n",
       "      <td>Homens Negro</td>\n",
       "    </tr>\n",
       "    <tr>\n",
       "      <th>2</th>\n",
       "      <td>2020</td>\n",
       "      <td>Advogado da União</td>\n",
       "      <td>568</td>\n",
       "      <td>32,8</td>\n",
       "      <td>Mulheres</td>\n",
       "      <td>Branco</td>\n",
       "      <td>Mulheres Branco</td>\n",
       "    </tr>\n",
       "    <tr>\n",
       "      <th>3</th>\n",
       "      <td>2020</td>\n",
       "      <td>Advogado da União</td>\n",
       "      <td>113</td>\n",
       "      <td>6,5</td>\n",
       "      <td>Mulheres</td>\n",
       "      <td>Negro</td>\n",
       "      <td>Mulheres Negro</td>\n",
       "    </tr>\n",
       "    <tr>\n",
       "      <th>4</th>\n",
       "      <td>2020</td>\n",
       "      <td>Advogado da União</td>\n",
       "      <td>16</td>\n",
       "      <td>0,9</td>\n",
       "      <td>Mulheres</td>\n",
       "      <td>Não informado</td>\n",
       "      <td>Mulheres Não informado</td>\n",
       "    </tr>\n",
       "    <tr>\n",
       "      <th>...</th>\n",
       "      <td>...</td>\n",
       "      <td>...</td>\n",
       "      <td>...</td>\n",
       "      <td>...</td>\n",
       "      <td>...</td>\n",
       "      <td>...</td>\n",
       "      <td>...</td>\n",
       "    </tr>\n",
       "    <tr>\n",
       "      <th>91</th>\n",
       "      <td>2020</td>\n",
       "      <td>Professor do Magistério Superior</td>\n",
       "      <td>8804</td>\n",
       "      <td>10,2</td>\n",
       "      <td>Mulheres</td>\n",
       "      <td>Negro</td>\n",
       "      <td>Mulheres Negro</td>\n",
       "    </tr>\n",
       "    <tr>\n",
       "      <th>92</th>\n",
       "      <td>2020</td>\n",
       "      <td>Professor do Magistério Superior</td>\n",
       "      <td>2073</td>\n",
       "      <td>2,4</td>\n",
       "      <td>Mulheres</td>\n",
       "      <td>Não informado</td>\n",
       "      <td>Mulheres Não informado</td>\n",
       "    </tr>\n",
       "    <tr>\n",
       "      <th>93</th>\n",
       "      <td>2020</td>\n",
       "      <td>Professor do Magistério Superior</td>\n",
       "      <td>3260</td>\n",
       "      <td>3,8</td>\n",
       "      <td>Homens</td>\n",
       "      <td>Não informado</td>\n",
       "      <td>Homens Não informado</td>\n",
       "    </tr>\n",
       "    <tr>\n",
       "      <th>94</th>\n",
       "      <td>2020</td>\n",
       "      <td>Professor do Magistério Superior</td>\n",
       "      <td>735</td>\n",
       "      <td>0,9</td>\n",
       "      <td>Mulheres</td>\n",
       "      <td>Outros</td>\n",
       "      <td>Mulheres Outros</td>\n",
       "    </tr>\n",
       "    <tr>\n",
       "      <th>95</th>\n",
       "      <td>2020</td>\n",
       "      <td>Professor do Magistério Superior</td>\n",
       "      <td>937</td>\n",
       "      <td>1,1</td>\n",
       "      <td>Homens</td>\n",
       "      <td>Outros</td>\n",
       "      <td>Homens Outros</td>\n",
       "    </tr>\n",
       "  </tbody>\n",
       "</table>\n",
       "<p>96 rows × 7 columns</p>\n",
       "</div>"
      ],
      "text/plain": [
       "     ano                          carreira  vinculos percent      sexo  \\\n",
       "0   2020                 Advogado da União       773    44,6    Homens   \n",
       "1   2020                 Advogado da União       194    11,2    Homens   \n",
       "2   2020                 Advogado da União       568    32,8  Mulheres   \n",
       "3   2020                 Advogado da União       113     6,5  Mulheres   \n",
       "4   2020                 Advogado da União        16     0,9  Mulheres   \n",
       "..   ...                               ...       ...     ...       ...   \n",
       "91  2020  Professor do Magistério Superior      8804    10,2  Mulheres   \n",
       "92  2020  Professor do Magistério Superior      2073     2,4  Mulheres   \n",
       "93  2020  Professor do Magistério Superior      3260     3,8    Homens   \n",
       "94  2020  Professor do Magistério Superior       735     0,9  Mulheres   \n",
       "95  2020  Professor do Magistério Superior       937     1,1    Homens   \n",
       "\n",
       "             raca             genero_raca  \n",
       "0          Branco           Homens Branco  \n",
       "1           Negro            Homens Negro  \n",
       "2          Branco         Mulheres Branco  \n",
       "3           Negro          Mulheres Negro  \n",
       "4   Não informado  Mulheres Não informado  \n",
       "..            ...                     ...  \n",
       "91          Negro          Mulheres Negro  \n",
       "92  Não informado  Mulheres Não informado  \n",
       "93  Não informado    Homens Não informado  \n",
       "94         Outros         Mulheres Outros  \n",
       "95         Outros           Homens Outros  \n",
       "\n",
       "[96 rows x 7 columns]"
      ]
     },
     "execution_count": 34,
     "metadata": {},
     "output_type": "execute_result"
    }
   ],
   "source": [
    "df"
   ]
  },
  {
   "cell_type": "code",
   "execution_count": 35,
   "metadata": {},
   "outputs": [
    {
     "data": {
      "text/plain": [
       "array(['Homens Branco', 'Homens Negro', 'Mulheres Branco',\n",
       "       'Mulheres Negro', 'Mulheres Não informado', 'Homens Não informado',\n",
       "       'Mulheres Outros', 'Homens Outros'], dtype=object)"
      ]
     },
     "execution_count": 35,
     "metadata": {},
     "output_type": "execute_result"
    }
   ],
   "source": [
    "df['genero_raca'].unique()"
   ]
  },
  {
   "cell_type": "code",
   "execution_count": 39,
   "metadata": {},
   "outputs": [],
   "source": [
    "def transforme(nome):\n",
    "    nome =re.sub(r\"\\bMulheres Branco\\b\", \"Mulheres Brancas\", nome)\n",
    "    nome =re.sub(r\"\\bMulheres Negro\\b\", \"Mulheres Negras\", nome)\n",
    "    nome =re.sub(r\"\\bMulheres Não informado\\b\", \"Mulheres sem informação de raça\", nome)\n",
    "    nome =re.sub(r\"\\bMulheres Outros\\b\", \"Mulheres com outras raças\", nome)\n",
    "    nome =re.sub(r\"\\bHomens Negro\\b\", \"Homens Negros\", nome)\n",
    "    nome =re.sub(r\"\\bHomens Branco\\b\", \"Homens Brancos\", nome)\n",
    "    nome =re.sub(r\"\\bHomens Não informado\\b\", \"Homens sem informação de raça\", nome)\n",
    "    nome =re.sub(r\"\\bHomens Outros\\b\", \"Homens com outras raças\", nome)\n",
    "    return nome"
   ]
  },
  {
   "cell_type": "code",
   "execution_count": 40,
   "metadata": {},
   "outputs": [],
   "source": [
    "df['genero_raca'] = df['genero_raca'].apply(transforme)"
   ]
  },
  {
   "cell_type": "code",
   "execution_count": 41,
   "metadata": {},
   "outputs": [
    {
     "data": {
      "text/plain": [
       "array(['Homens Brancos', 'Homens Negros', 'Mulheres Brancas',\n",
       "       'Mulheres Negras', 'Mulheres sem informação de raça',\n",
       "       'Homens sem informação de raça', 'Mulheres com outras raças',\n",
       "       'Homens com outras raças'], dtype=object)"
      ]
     },
     "execution_count": 41,
     "metadata": {},
     "output_type": "execute_result"
    }
   ],
   "source": [
    "df['genero_raca'].unique()"
   ]
  },
  {
   "cell_type": "code",
   "execution_count": 42,
   "metadata": {},
   "outputs": [],
   "source": [
    "df = df.rename(columns={\"carreira\" : \"carreiras_area\", \"percent\" : \"per_valor\", \"sexo\" : \"genero\",\n",
    "    \"raca\" :\"cor_raca\", \"vinculos\" : \"quantidade_vinculos\"})\n"
   ]
  },
  {
   "cell_type": "code",
   "execution_count": 4,
   "metadata": {},
   "outputs": [
    {
     "data": {
      "text/plain": [
       "ano          int64\n",
       "carreira    object\n",
       "vinculos     int64\n",
       "percent     object\n",
       "sexo        object\n",
       "raca        object\n",
       "dtype: object"
      ]
     },
     "execution_count": 4,
     "metadata": {},
     "output_type": "execute_result"
    }
   ],
   "source": [
    "df.dtypes "
   ]
  },
  {
   "cell_type": "code",
   "execution_count": 43,
   "metadata": {},
   "outputs": [],
   "source": [
    "df['per_valor'] = df['per_valor'].str.replace(',','.').astype(float)"
   ]
  },
  {
   "cell_type": "code",
   "execution_count": 44,
   "metadata": {},
   "outputs": [],
   "source": [
    "df['per_valor'] = df['per_valor']/100"
   ]
  },
  {
   "attachments": {},
   "cell_type": "markdown",
   "metadata": {},
   "source": [
    "df"
   ]
  },
  {
   "cell_type": "code",
   "execution_count": 47,
   "metadata": {},
   "outputs": [
    {
     "data": {
      "text/html": [
       "<div>\n",
       "<style scoped>\n",
       "    .dataframe tbody tr th:only-of-type {\n",
       "        vertical-align: middle;\n",
       "    }\n",
       "\n",
       "    .dataframe tbody tr th {\n",
       "        vertical-align: top;\n",
       "    }\n",
       "\n",
       "    .dataframe thead th {\n",
       "        text-align: right;\n",
       "    }\n",
       "</style>\n",
       "<table border=\"1\" class=\"dataframe\">\n",
       "  <thead>\n",
       "    <tr style=\"text-align: right;\">\n",
       "      <th></th>\n",
       "      <th>ano</th>\n",
       "      <th>carreiras_area</th>\n",
       "      <th>quantidade_vinculos</th>\n",
       "      <th>per_valor</th>\n",
       "      <th>genero</th>\n",
       "      <th>cor_raca</th>\n",
       "      <th>genero_raca</th>\n",
       "    </tr>\n",
       "  </thead>\n",
       "  <tbody>\n",
       "    <tr>\n",
       "      <th>0</th>\n",
       "      <td>2020</td>\n",
       "      <td>Advogado da União</td>\n",
       "      <td>773</td>\n",
       "      <td>0.446</td>\n",
       "      <td>Homens</td>\n",
       "      <td>Branco</td>\n",
       "      <td>Homens Brancos</td>\n",
       "    </tr>\n",
       "    <tr>\n",
       "      <th>1</th>\n",
       "      <td>2020</td>\n",
       "      <td>Advogado da União</td>\n",
       "      <td>194</td>\n",
       "      <td>0.112</td>\n",
       "      <td>Homens</td>\n",
       "      <td>Negro</td>\n",
       "      <td>Homens Negros</td>\n",
       "    </tr>\n",
       "    <tr>\n",
       "      <th>2</th>\n",
       "      <td>2020</td>\n",
       "      <td>Advogado da União</td>\n",
       "      <td>568</td>\n",
       "      <td>0.328</td>\n",
       "      <td>Mulheres</td>\n",
       "      <td>Branco</td>\n",
       "      <td>Mulheres Brancas</td>\n",
       "    </tr>\n",
       "    <tr>\n",
       "      <th>3</th>\n",
       "      <td>2020</td>\n",
       "      <td>Advogado da União</td>\n",
       "      <td>113</td>\n",
       "      <td>0.065</td>\n",
       "      <td>Mulheres</td>\n",
       "      <td>Negro</td>\n",
       "      <td>Mulheres Negras</td>\n",
       "    </tr>\n",
       "    <tr>\n",
       "      <th>4</th>\n",
       "      <td>2020</td>\n",
       "      <td>Advogado da União</td>\n",
       "      <td>16</td>\n",
       "      <td>0.009</td>\n",
       "      <td>Mulheres</td>\n",
       "      <td>Não informado</td>\n",
       "      <td>Mulheres sem informação de raça</td>\n",
       "    </tr>\n",
       "    <tr>\n",
       "      <th>...</th>\n",
       "      <td>...</td>\n",
       "      <td>...</td>\n",
       "      <td>...</td>\n",
       "      <td>...</td>\n",
       "      <td>...</td>\n",
       "      <td>...</td>\n",
       "      <td>...</td>\n",
       "    </tr>\n",
       "    <tr>\n",
       "      <th>91</th>\n",
       "      <td>2020</td>\n",
       "      <td>Professor do Magistério Superior</td>\n",
       "      <td>8804</td>\n",
       "      <td>0.102</td>\n",
       "      <td>Mulheres</td>\n",
       "      <td>Negro</td>\n",
       "      <td>Mulheres Negras</td>\n",
       "    </tr>\n",
       "    <tr>\n",
       "      <th>92</th>\n",
       "      <td>2020</td>\n",
       "      <td>Professor do Magistério Superior</td>\n",
       "      <td>2073</td>\n",
       "      <td>0.024</td>\n",
       "      <td>Mulheres</td>\n",
       "      <td>Não informado</td>\n",
       "      <td>Mulheres sem informação de raça</td>\n",
       "    </tr>\n",
       "    <tr>\n",
       "      <th>93</th>\n",
       "      <td>2020</td>\n",
       "      <td>Professor do Magistério Superior</td>\n",
       "      <td>3260</td>\n",
       "      <td>0.038</td>\n",
       "      <td>Homens</td>\n",
       "      <td>Não informado</td>\n",
       "      <td>Homens sem informação de raça</td>\n",
       "    </tr>\n",
       "    <tr>\n",
       "      <th>94</th>\n",
       "      <td>2020</td>\n",
       "      <td>Professor do Magistério Superior</td>\n",
       "      <td>735</td>\n",
       "      <td>0.009</td>\n",
       "      <td>Mulheres</td>\n",
       "      <td>Outros</td>\n",
       "      <td>Mulheres com outras raças</td>\n",
       "    </tr>\n",
       "    <tr>\n",
       "      <th>95</th>\n",
       "      <td>2020</td>\n",
       "      <td>Professor do Magistério Superior</td>\n",
       "      <td>937</td>\n",
       "      <td>0.011</td>\n",
       "      <td>Homens</td>\n",
       "      <td>Outros</td>\n",
       "      <td>Homens com outras raças</td>\n",
       "    </tr>\n",
       "  </tbody>\n",
       "</table>\n",
       "<p>96 rows × 7 columns</p>\n",
       "</div>"
      ],
      "text/plain": [
       "     ano                    carreiras_area  quantidade_vinculos  per_valor  \\\n",
       "0   2020                 Advogado da União                  773      0.446   \n",
       "1   2020                 Advogado da União                  194      0.112   \n",
       "2   2020                 Advogado da União                  568      0.328   \n",
       "3   2020                 Advogado da União                  113      0.065   \n",
       "4   2020                 Advogado da União                   16      0.009   \n",
       "..   ...                               ...                  ...        ...   \n",
       "91  2020  Professor do Magistério Superior                 8804      0.102   \n",
       "92  2020  Professor do Magistério Superior                 2073      0.024   \n",
       "93  2020  Professor do Magistério Superior                 3260      0.038   \n",
       "94  2020  Professor do Magistério Superior                  735      0.009   \n",
       "95  2020  Professor do Magistério Superior                  937      0.011   \n",
       "\n",
       "      genero       cor_raca                      genero_raca  \n",
       "0     Homens         Branco                   Homens Brancos  \n",
       "1     Homens          Negro                    Homens Negros  \n",
       "2   Mulheres         Branco                 Mulheres Brancas  \n",
       "3   Mulheres          Negro                  Mulheres Negras  \n",
       "4   Mulheres  Não informado  Mulheres sem informação de raça  \n",
       "..       ...            ...                              ...  \n",
       "91  Mulheres          Negro                  Mulheres Negras  \n",
       "92  Mulheres  Não informado  Mulheres sem informação de raça  \n",
       "93    Homens  Não informado    Homens sem informação de raça  \n",
       "94  Mulheres         Outros        Mulheres com outras raças  \n",
       "95    Homens         Outros          Homens com outras raças  \n",
       "\n",
       "[96 rows x 7 columns]"
      ]
     },
     "execution_count": 47,
     "metadata": {},
     "output_type": "execute_result"
    }
   ],
   "source": [
    "df"
   ]
  },
  {
   "cell_type": "code",
   "execution_count": 48,
   "metadata": {},
   "outputs": [
    {
     "data": {
      "text/html": [
       "<div>\n",
       "<style scoped>\n",
       "    .dataframe tbody tr th:only-of-type {\n",
       "        vertical-align: middle;\n",
       "    }\n",
       "\n",
       "    .dataframe tbody tr th {\n",
       "        vertical-align: top;\n",
       "    }\n",
       "\n",
       "    .dataframe thead th {\n",
       "        text-align: right;\n",
       "    }\n",
       "</style>\n",
       "<table border=\"1\" class=\"dataframe\">\n",
       "  <thead>\n",
       "    <tr style=\"text-align: right;\">\n",
       "      <th></th>\n",
       "      <th>ano</th>\n",
       "      <th>carreiras_area</th>\n",
       "      <th>genero</th>\n",
       "      <th>cor_raca</th>\n",
       "      <th>genero_raca</th>\n",
       "      <th>quantidade_vinculos</th>\n",
       "      <th>per_valor</th>\n",
       "    </tr>\n",
       "  </thead>\n",
       "  <tbody>\n",
       "    <tr>\n",
       "      <th>0</th>\n",
       "      <td>2020</td>\n",
       "      <td>Advogado da União</td>\n",
       "      <td>Homens</td>\n",
       "      <td>Branco</td>\n",
       "      <td>Homens Brancos</td>\n",
       "      <td>773</td>\n",
       "      <td>0.446</td>\n",
       "    </tr>\n",
       "    <tr>\n",
       "      <th>1</th>\n",
       "      <td>2020</td>\n",
       "      <td>Advogado da União</td>\n",
       "      <td>Homens</td>\n",
       "      <td>Negro</td>\n",
       "      <td>Homens Negros</td>\n",
       "      <td>194</td>\n",
       "      <td>0.112</td>\n",
       "    </tr>\n",
       "    <tr>\n",
       "      <th>2</th>\n",
       "      <td>2020</td>\n",
       "      <td>Advogado da União</td>\n",
       "      <td>Mulheres</td>\n",
       "      <td>Branco</td>\n",
       "      <td>Mulheres Brancas</td>\n",
       "      <td>568</td>\n",
       "      <td>0.328</td>\n",
       "    </tr>\n",
       "    <tr>\n",
       "      <th>3</th>\n",
       "      <td>2020</td>\n",
       "      <td>Advogado da União</td>\n",
       "      <td>Mulheres</td>\n",
       "      <td>Negro</td>\n",
       "      <td>Mulheres Negras</td>\n",
       "      <td>113</td>\n",
       "      <td>0.065</td>\n",
       "    </tr>\n",
       "    <tr>\n",
       "      <th>4</th>\n",
       "      <td>2020</td>\n",
       "      <td>Advogado da União</td>\n",
       "      <td>Mulheres</td>\n",
       "      <td>Não informado</td>\n",
       "      <td>Mulheres sem informação de raça</td>\n",
       "      <td>16</td>\n",
       "      <td>0.009</td>\n",
       "    </tr>\n",
       "    <tr>\n",
       "      <th>...</th>\n",
       "      <td>...</td>\n",
       "      <td>...</td>\n",
       "      <td>...</td>\n",
       "      <td>...</td>\n",
       "      <td>...</td>\n",
       "      <td>...</td>\n",
       "      <td>...</td>\n",
       "    </tr>\n",
       "    <tr>\n",
       "      <th>91</th>\n",
       "      <td>2020</td>\n",
       "      <td>Professor do Magistério Superior</td>\n",
       "      <td>Mulheres</td>\n",
       "      <td>Negro</td>\n",
       "      <td>Mulheres Negras</td>\n",
       "      <td>8804</td>\n",
       "      <td>0.102</td>\n",
       "    </tr>\n",
       "    <tr>\n",
       "      <th>92</th>\n",
       "      <td>2020</td>\n",
       "      <td>Professor do Magistério Superior</td>\n",
       "      <td>Mulheres</td>\n",
       "      <td>Não informado</td>\n",
       "      <td>Mulheres sem informação de raça</td>\n",
       "      <td>2073</td>\n",
       "      <td>0.024</td>\n",
       "    </tr>\n",
       "    <tr>\n",
       "      <th>93</th>\n",
       "      <td>2020</td>\n",
       "      <td>Professor do Magistério Superior</td>\n",
       "      <td>Homens</td>\n",
       "      <td>Não informado</td>\n",
       "      <td>Homens sem informação de raça</td>\n",
       "      <td>3260</td>\n",
       "      <td>0.038</td>\n",
       "    </tr>\n",
       "    <tr>\n",
       "      <th>94</th>\n",
       "      <td>2020</td>\n",
       "      <td>Professor do Magistério Superior</td>\n",
       "      <td>Mulheres</td>\n",
       "      <td>Outros</td>\n",
       "      <td>Mulheres com outras raças</td>\n",
       "      <td>735</td>\n",
       "      <td>0.009</td>\n",
       "    </tr>\n",
       "    <tr>\n",
       "      <th>95</th>\n",
       "      <td>2020</td>\n",
       "      <td>Professor do Magistério Superior</td>\n",
       "      <td>Homens</td>\n",
       "      <td>Outros</td>\n",
       "      <td>Homens com outras raças</td>\n",
       "      <td>937</td>\n",
       "      <td>0.011</td>\n",
       "    </tr>\n",
       "  </tbody>\n",
       "</table>\n",
       "<p>96 rows × 7 columns</p>\n",
       "</div>"
      ],
      "text/plain": [
       "     ano                    carreiras_area    genero       cor_raca  \\\n",
       "0   2020                 Advogado da União    Homens         Branco   \n",
       "1   2020                 Advogado da União    Homens          Negro   \n",
       "2   2020                 Advogado da União  Mulheres         Branco   \n",
       "3   2020                 Advogado da União  Mulheres          Negro   \n",
       "4   2020                 Advogado da União  Mulheres  Não informado   \n",
       "..   ...                               ...       ...            ...   \n",
       "91  2020  Professor do Magistério Superior  Mulheres          Negro   \n",
       "92  2020  Professor do Magistério Superior  Mulheres  Não informado   \n",
       "93  2020  Professor do Magistério Superior    Homens  Não informado   \n",
       "94  2020  Professor do Magistério Superior  Mulheres         Outros   \n",
       "95  2020  Professor do Magistério Superior    Homens         Outros   \n",
       "\n",
       "                        genero_raca  quantidade_vinculos  per_valor  \n",
       "0                    Homens Brancos                  773      0.446  \n",
       "1                     Homens Negros                  194      0.112  \n",
       "2                  Mulheres Brancas                  568      0.328  \n",
       "3                   Mulheres Negras                  113      0.065  \n",
       "4   Mulheres sem informação de raça                   16      0.009  \n",
       "..                              ...                  ...        ...  \n",
       "91                  Mulheres Negras                 8804      0.102  \n",
       "92  Mulheres sem informação de raça                 2073      0.024  \n",
       "93    Homens sem informação de raça                 3260      0.038  \n",
       "94        Mulheres com outras raças                  735      0.009  \n",
       "95          Homens com outras raças                  937      0.011  \n",
       "\n",
       "[96 rows x 7 columns]"
      ]
     },
     "execution_count": 48,
     "metadata": {},
     "output_type": "execute_result"
    }
   ],
   "source": [
    "df = df[['ano', 'carreiras_area','genero', 'cor_raca', 'genero_raca', 'quantidade_vinculos', 'per_valor']]\n",
    "df"
   ]
  },
  {
   "attachments": {},
   "cell_type": "markdown",
   "metadata": {},
   "source": [
    "Subindo pro GBQ"
   ]
  },
  {
   "cell_type": "code",
   "execution_count": 50,
   "metadata": {},
   "outputs": [
    {
     "name": "stderr",
     "output_type": "stream",
     "text": [
      "c:\\Users\\ana.sales_republica\\Anaconda\\lib\\site-packages\\google\\auth\\_default.py:78: UserWarning: Your application has authenticated using end user credentials from Google Cloud SDK without a quota project. You might receive a \"quota exceeded\" or \"API not enabled\" error. See the following page for troubleshooting: https://cloud.google.com/docs/authentication/adc-troubleshooting/user-creds. \n",
      "  warnings.warn(_CLOUD_SDK_CREDENTIALS_WARNING)\n"
     ]
    }
   ],
   "source": [
    "client = bigquery.Client()\n",
    "dataset_ref = client.dataset('estrutura_organizacional_carreiras')\n",
    "\n"
   ]
  },
  {
   "cell_type": "code",
   "execution_count": 52,
   "metadata": {},
   "outputs": [],
   "source": [
    "schema = [bigquery.SchemaField('ano', 'INTEGER', description= 'Ano de referência da observação'),\n",
    "         bigquery.SchemaField('carreiras_area', 'STRING', description= 'Grupo de carreiras da observação'),\n",
    "         bigquery.SchemaField('genero', 'STRING', description= 'Gênero autodeclarado ou não'),\n",
    "         bigquery.SchemaField('cor_raca', 'STRING', description= 'Raça/cor da pessoa observada'),\n",
    "         bigquery.SchemaField('genero_raca', 'STRING', description= 'Gênero e raça da pessoa observada'),\n",
    "         bigquery.SchemaField('quantidade_vinculos', 'INTEGER', description= 'Número total de vinculos observados'),\n",
    "         bigquery.SchemaField('per_valor', 'FLOAT', description= 'Percentual referente ao numero de servidores')]"
   ]
  },
  {
   "cell_type": "code",
   "execution_count": 53,
   "metadata": {},
   "outputs": [
    {
     "data": {
      "text/plain": [
       "LoadJob<project=repositoriodedadosgpsp, location=US, id=a65f46d4-d4b5-49df-af0a-c956bc6c0e54>"
      ]
     },
     "execution_count": 53,
     "metadata": {},
     "output_type": "execute_result"
    }
   ],
   "source": [
    "table_ref = dataset_ref.table('SIAPE_ativos_federal_raca_sexo_carreiras')\n",
    "job_config = bigquery.LoadJobConfig(schema=schema)\n",
    "job = client.load_table_from_dataframe(df, table_ref, job_config=job_config)\n",
    "job.result() \n"
   ]
  }
 ],
 "metadata": {
  "kernelspec": {
   "display_name": "base",
   "language": "python",
   "name": "python3"
  },
  "language_info": {
   "codemirror_mode": {
    "name": "ipython",
    "version": 3
   },
   "file_extension": ".py",
   "mimetype": "text/x-python",
   "name": "python",
   "nbconvert_exporter": "python",
   "pygments_lexer": "ipython3",
   "version": "3.11.4"
  },
  "orig_nbformat": 4
 },
 "nbformat": 4,
 "nbformat_minor": 2
}
