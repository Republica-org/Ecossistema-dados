{
 "cells": [
  {
   "cell_type": "code",
   "execution_count": 1,
   "metadata": {},
   "outputs": [],
   "source": [
    "import pandas as pd\n",
    "import numpy as np\n",
    "import os\n",
    "import pandas_gbq\n",
    "from google.cloud import bigquery\n",
    "import glob\n",
    "import openpyxl"
   ]
  },
  {
   "cell_type": "code",
   "execution_count": 2,
   "metadata": {},
   "outputs": [],
   "source": [
    "os.chdir('G:\\\\\\\\Drives compartilhados\\\\\\\\República.org\\\\\\\\4. Equipes\\\\\\\\Dados e Comunicação\\\\\\\\DADOS\\\\\\\\415 - Repositório de Dados\\\\\\\\Repositório Local')\n"
   ]
  },
  {
   "cell_type": "code",
   "execution_count": 3,
   "metadata": {},
   "outputs": [
    {
     "data": {
      "text/html": [
       "<div>\n",
       "<style scoped>\n",
       "    .dataframe tbody tr th:only-of-type {\n",
       "        vertical-align: middle;\n",
       "    }\n",
       "\n",
       "    .dataframe tbody tr th {\n",
       "        vertical-align: top;\n",
       "    }\n",
       "\n",
       "    .dataframe thead th {\n",
       "        text-align: right;\n",
       "    }\n",
       "</style>\n",
       "<table border=\"1\" class=\"dataframe\">\n",
       "  <thead>\n",
       "    <tr style=\"text-align: right;\">\n",
       "      <th></th>\n",
       "      <th>CodMun</th>\n",
       "      <th>COD UF</th>\n",
       "      <th>NOME MUNIC</th>\n",
       "      <th>MDHU04</th>\n",
       "      <th>MDHU05</th>\n",
       "      <th>MDHU06</th>\n",
       "      <th>MDHU07</th>\n",
       "    </tr>\n",
       "  </thead>\n",
       "  <tbody>\n",
       "    <tr>\n",
       "      <th>0</th>\n",
       "      <td>1100015</td>\n",
       "      <td>11</td>\n",
       "      <td>Alta Floresta D'Oeste</td>\n",
       "      <td>-</td>\n",
       "      <td>-</td>\n",
       "      <td>-</td>\n",
       "      <td>-</td>\n",
       "    </tr>\n",
       "    <tr>\n",
       "      <th>1</th>\n",
       "      <td>1100023</td>\n",
       "      <td>11</td>\n",
       "      <td>Ariquemes</td>\n",
       "      <td>-</td>\n",
       "      <td>-</td>\n",
       "      <td>-</td>\n",
       "      <td>-</td>\n",
       "    </tr>\n",
       "    <tr>\n",
       "      <th>2</th>\n",
       "      <td>1100031</td>\n",
       "      <td>11</td>\n",
       "      <td>Cabixi</td>\n",
       "      <td>-</td>\n",
       "      <td>-</td>\n",
       "      <td>-</td>\n",
       "      <td>-</td>\n",
       "    </tr>\n",
       "    <tr>\n",
       "      <th>3</th>\n",
       "      <td>1100049</td>\n",
       "      <td>11</td>\n",
       "      <td>Cacoal</td>\n",
       "      <td>Masculino</td>\n",
       "      <td>52</td>\n",
       "      <td>Branca</td>\n",
       "      <td>Ensino superior incompleto</td>\n",
       "    </tr>\n",
       "    <tr>\n",
       "      <th>4</th>\n",
       "      <td>1100056</td>\n",
       "      <td>11</td>\n",
       "      <td>Cerejeiras</td>\n",
       "      <td>Feminino</td>\n",
       "      <td>63</td>\n",
       "      <td>Parda</td>\n",
       "      <td>Ensino superior completo</td>\n",
       "    </tr>\n",
       "    <tr>\n",
       "      <th>...</th>\n",
       "      <td>...</td>\n",
       "      <td>...</td>\n",
       "      <td>...</td>\n",
       "      <td>...</td>\n",
       "      <td>...</td>\n",
       "      <td>...</td>\n",
       "      <td>...</td>\n",
       "    </tr>\n",
       "    <tr>\n",
       "      <th>5565</th>\n",
       "      <td>5222005</td>\n",
       "      <td>52</td>\n",
       "      <td>Vianópolis</td>\n",
       "      <td>Feminino</td>\n",
       "      <td>(*) Não soube informar</td>\n",
       "      <td>Branca</td>\n",
       "      <td>Ensino superior completo</td>\n",
       "    </tr>\n",
       "    <tr>\n",
       "      <th>5566</th>\n",
       "      <td>5222054</td>\n",
       "      <td>52</td>\n",
       "      <td>Vicentinópolis</td>\n",
       "      <td>-</td>\n",
       "      <td>-</td>\n",
       "      <td>-</td>\n",
       "      <td>-</td>\n",
       "    </tr>\n",
       "    <tr>\n",
       "      <th>5567</th>\n",
       "      <td>5222203</td>\n",
       "      <td>52</td>\n",
       "      <td>Vila Boa</td>\n",
       "      <td>-</td>\n",
       "      <td>-</td>\n",
       "      <td>-</td>\n",
       "      <td>-</td>\n",
       "    </tr>\n",
       "    <tr>\n",
       "      <th>5568</th>\n",
       "      <td>5222302</td>\n",
       "      <td>52</td>\n",
       "      <td>Vila Propício</td>\n",
       "      <td>-</td>\n",
       "      <td>-</td>\n",
       "      <td>-</td>\n",
       "      <td>-</td>\n",
       "    </tr>\n",
       "    <tr>\n",
       "      <th>5569</th>\n",
       "      <td>5300108</td>\n",
       "      <td>53</td>\n",
       "      <td>Brasília</td>\n",
       "      <td>Masculino</td>\n",
       "      <td>46</td>\n",
       "      <td>Branca</td>\n",
       "      <td>Mestrado</td>\n",
       "    </tr>\n",
       "  </tbody>\n",
       "</table>\n",
       "<p>5570 rows × 7 columns</p>\n",
       "</div>"
      ],
      "text/plain": [
       "       CodMun  COD UF             NOME MUNIC     MDHU04  \\\n",
       "0     1100015      11  Alta Floresta D'Oeste          -   \n",
       "1     1100023      11              Ariquemes          -   \n",
       "2     1100031      11                 Cabixi          -   \n",
       "3     1100049      11                 Cacoal  Masculino   \n",
       "4     1100056      11             Cerejeiras   Feminino   \n",
       "...       ...     ...                    ...        ...   \n",
       "5565  5222005      52             Vianópolis   Feminino   \n",
       "5566  5222054      52         Vicentinópolis          -   \n",
       "5567  5222203      52               Vila Boa          -   \n",
       "5568  5222302      52          Vila Propício          -   \n",
       "5569  5300108      53               Brasília  Masculino   \n",
       "\n",
       "                      MDHU05  MDHU06                      MDHU07  \n",
       "0                          -       -                           -  \n",
       "1                          -       -                           -  \n",
       "2                          -       -                           -  \n",
       "3                         52  Branca  Ensino superior incompleto  \n",
       "4                         63   Parda    Ensino superior completo  \n",
       "...                      ...     ...                         ...  \n",
       "5565  (*) Não soube informar  Branca    Ensino superior completo  \n",
       "5566                       -       -                           -  \n",
       "5567                       -       -                           -  \n",
       "5568                       -       -                           -  \n",
       "5569                      46  Branca                    Mestrado  \n",
       "\n",
       "[5570 rows x 7 columns]"
      ]
     },
     "execution_count": 3,
     "metadata": {},
     "output_type": "execute_result"
    }
   ],
   "source": [
    "df = pd.read_excel('MUNIC//Base_MUNIC_2019.xlsx', sheet_name='Direitos humanos', usecols=['COD UF','CodMun','NOME MUNIC','MDHU04','MDHU05','MDHU06','MDHU07'])\n",
    "df"
   ]
  },
  {
   "cell_type": "code",
   "execution_count": 4,
   "metadata": {},
   "outputs": [],
   "source": [
    "cod_uf = pd.read_csv('MUNIC//MUNIC_educacao_2021.csv', sep=';')[['UF','Cod UF']]"
   ]
  },
  {
   "cell_type": "code",
   "execution_count": 5,
   "metadata": {},
   "outputs": [],
   "source": [
    "x= cod_uf.pivot_table(columns=('UF','Cod UF'), aggfunc='size')\n"
   ]
  },
  {
   "cell_type": "code",
   "execution_count": 6,
   "metadata": {},
   "outputs": [],
   "source": [
    "cod_uf = pd.DataFrame(x).reset_index()[['UF','Cod UF']]"
   ]
  },
  {
   "cell_type": "code",
   "execution_count": 7,
   "metadata": {},
   "outputs": [
    {
     "data": {
      "text/html": [
       "<div>\n",
       "<style scoped>\n",
       "    .dataframe tbody tr th:only-of-type {\n",
       "        vertical-align: middle;\n",
       "    }\n",
       "\n",
       "    .dataframe tbody tr th {\n",
       "        vertical-align: top;\n",
       "    }\n",
       "\n",
       "    .dataframe thead th {\n",
       "        text-align: right;\n",
       "    }\n",
       "</style>\n",
       "<table border=\"1\" class=\"dataframe\">\n",
       "  <thead>\n",
       "    <tr style=\"text-align: right;\">\n",
       "      <th></th>\n",
       "      <th>CodMun</th>\n",
       "      <th>COD UF</th>\n",
       "      <th>NOME MUNIC</th>\n",
       "      <th>MDHU04</th>\n",
       "      <th>MDHU05</th>\n",
       "      <th>MDHU06</th>\n",
       "      <th>MDHU07</th>\n",
       "      <th>UF</th>\n",
       "      <th>Cod UF</th>\n",
       "    </tr>\n",
       "  </thead>\n",
       "  <tbody>\n",
       "    <tr>\n",
       "      <th>0</th>\n",
       "      <td>1100015</td>\n",
       "      <td>11</td>\n",
       "      <td>Alta Floresta D'Oeste</td>\n",
       "      <td>-</td>\n",
       "      <td>-</td>\n",
       "      <td>-</td>\n",
       "      <td>-</td>\n",
       "      <td>RO</td>\n",
       "      <td>11</td>\n",
       "    </tr>\n",
       "    <tr>\n",
       "      <th>1</th>\n",
       "      <td>1100023</td>\n",
       "      <td>11</td>\n",
       "      <td>Ariquemes</td>\n",
       "      <td>-</td>\n",
       "      <td>-</td>\n",
       "      <td>-</td>\n",
       "      <td>-</td>\n",
       "      <td>RO</td>\n",
       "      <td>11</td>\n",
       "    </tr>\n",
       "    <tr>\n",
       "      <th>2</th>\n",
       "      <td>1100031</td>\n",
       "      <td>11</td>\n",
       "      <td>Cabixi</td>\n",
       "      <td>-</td>\n",
       "      <td>-</td>\n",
       "      <td>-</td>\n",
       "      <td>-</td>\n",
       "      <td>RO</td>\n",
       "      <td>11</td>\n",
       "    </tr>\n",
       "    <tr>\n",
       "      <th>3</th>\n",
       "      <td>1100049</td>\n",
       "      <td>11</td>\n",
       "      <td>Cacoal</td>\n",
       "      <td>Masculino</td>\n",
       "      <td>52</td>\n",
       "      <td>Branca</td>\n",
       "      <td>Ensino superior incompleto</td>\n",
       "      <td>RO</td>\n",
       "      <td>11</td>\n",
       "    </tr>\n",
       "    <tr>\n",
       "      <th>4</th>\n",
       "      <td>1100056</td>\n",
       "      <td>11</td>\n",
       "      <td>Cerejeiras</td>\n",
       "      <td>Feminino</td>\n",
       "      <td>63</td>\n",
       "      <td>Parda</td>\n",
       "      <td>Ensino superior completo</td>\n",
       "      <td>RO</td>\n",
       "      <td>11</td>\n",
       "    </tr>\n",
       "    <tr>\n",
       "      <th>...</th>\n",
       "      <td>...</td>\n",
       "      <td>...</td>\n",
       "      <td>...</td>\n",
       "      <td>...</td>\n",
       "      <td>...</td>\n",
       "      <td>...</td>\n",
       "      <td>...</td>\n",
       "      <td>...</td>\n",
       "      <td>...</td>\n",
       "    </tr>\n",
       "    <tr>\n",
       "      <th>5565</th>\n",
       "      <td>5222005</td>\n",
       "      <td>52</td>\n",
       "      <td>Vianópolis</td>\n",
       "      <td>Feminino</td>\n",
       "      <td>(*) Não soube informar</td>\n",
       "      <td>Branca</td>\n",
       "      <td>Ensino superior completo</td>\n",
       "      <td>GO</td>\n",
       "      <td>52</td>\n",
       "    </tr>\n",
       "    <tr>\n",
       "      <th>5566</th>\n",
       "      <td>5222054</td>\n",
       "      <td>52</td>\n",
       "      <td>Vicentinópolis</td>\n",
       "      <td>-</td>\n",
       "      <td>-</td>\n",
       "      <td>-</td>\n",
       "      <td>-</td>\n",
       "      <td>GO</td>\n",
       "      <td>52</td>\n",
       "    </tr>\n",
       "    <tr>\n",
       "      <th>5567</th>\n",
       "      <td>5222203</td>\n",
       "      <td>52</td>\n",
       "      <td>Vila Boa</td>\n",
       "      <td>-</td>\n",
       "      <td>-</td>\n",
       "      <td>-</td>\n",
       "      <td>-</td>\n",
       "      <td>GO</td>\n",
       "      <td>52</td>\n",
       "    </tr>\n",
       "    <tr>\n",
       "      <th>5568</th>\n",
       "      <td>5222302</td>\n",
       "      <td>52</td>\n",
       "      <td>Vila Propício</td>\n",
       "      <td>-</td>\n",
       "      <td>-</td>\n",
       "      <td>-</td>\n",
       "      <td>-</td>\n",
       "      <td>GO</td>\n",
       "      <td>52</td>\n",
       "    </tr>\n",
       "    <tr>\n",
       "      <th>5569</th>\n",
       "      <td>5300108</td>\n",
       "      <td>53</td>\n",
       "      <td>Brasília</td>\n",
       "      <td>Masculino</td>\n",
       "      <td>46</td>\n",
       "      <td>Branca</td>\n",
       "      <td>Mestrado</td>\n",
       "      <td>DF</td>\n",
       "      <td>53</td>\n",
       "    </tr>\n",
       "  </tbody>\n",
       "</table>\n",
       "<p>5570 rows × 9 columns</p>\n",
       "</div>"
      ],
      "text/plain": [
       "       CodMun  COD UF             NOME MUNIC     MDHU04  \\\n",
       "0     1100015      11  Alta Floresta D'Oeste          -   \n",
       "1     1100023      11              Ariquemes          -   \n",
       "2     1100031      11                 Cabixi          -   \n",
       "3     1100049      11                 Cacoal  Masculino   \n",
       "4     1100056      11             Cerejeiras   Feminino   \n",
       "...       ...     ...                    ...        ...   \n",
       "5565  5222005      52             Vianópolis   Feminino   \n",
       "5566  5222054      52         Vicentinópolis          -   \n",
       "5567  5222203      52               Vila Boa          -   \n",
       "5568  5222302      52          Vila Propício          -   \n",
       "5569  5300108      53               Brasília  Masculino   \n",
       "\n",
       "                      MDHU05  MDHU06                      MDHU07  UF  Cod UF  \n",
       "0                          -       -                           -  RO      11  \n",
       "1                          -       -                           -  RO      11  \n",
       "2                          -       -                           -  RO      11  \n",
       "3                         52  Branca  Ensino superior incompleto  RO      11  \n",
       "4                         63   Parda    Ensino superior completo  RO      11  \n",
       "...                      ...     ...                         ...  ..     ...  \n",
       "5565  (*) Não soube informar  Branca    Ensino superior completo  GO      52  \n",
       "5566                       -       -                           -  GO      52  \n",
       "5567                       -       -                           -  GO      52  \n",
       "5568                       -       -                           -  GO      52  \n",
       "5569                      46  Branca                    Mestrado  DF      53  \n",
       "\n",
       "[5570 rows x 9 columns]"
      ]
     },
     "execution_count": 7,
     "metadata": {},
     "output_type": "execute_result"
    }
   ],
   "source": [
    "df = df.merge(cod_uf, right_on='Cod UF',left_on='COD UF')\n",
    "df"
   ]
  },
  {
   "cell_type": "code",
   "execution_count": 8,
   "metadata": {},
   "outputs": [],
   "source": [
    "df = df.drop(['Cod UF'], axis=1) #eliminando coluna repetida"
   ]
  },
  {
   "cell_type": "code",
   "execution_count": 9,
   "metadata": {},
   "outputs": [],
   "source": [
    "df['ano']=2019"
   ]
  },
  {
   "cell_type": "code",
   "execution_count": 10,
   "metadata": {},
   "outputs": [],
   "source": [
    "df = df.rename(columns={'UF':'sigla_uf',\n",
    "                        'COD UF':'cod_uf',\n",
    "                        'CodMun':'id_municipio',\n",
    "                        'NOME MUNIC':'nome_municipio',\n",
    "                        'MDHU04':'genero',\n",
    "                        'MDHU05':'idade',\n",
    "                        'MDHU06':'cor_raca',\n",
    "                        'MDHU07':'grau_instrucao'})"
   ]
  },
  {
   "cell_type": "code",
   "execution_count": 11,
   "metadata": {},
   "outputs": [],
   "source": [
    "#padronizando os dados da coluna 'genero'\n",
    "df['genero']=np.where(df['genero']=='-','Sem dados',df['genero'])\n",
    "\n",
    "#padronizando os dados da coluna 'idade'\n",
    "df['idade']=np.where(df['idade']=='(*) Não soube informar',np.nan,df['idade'])\n",
    "df['idade']=np.where(df['idade']=='-',np.nan,df['idade'])\n",
    "df['idade']=np.where(df['idade']=='Recusa',np.nan,df['idade'])\n",
    "df['idade']=np.where(df['idade']=='Sem titular',np.nan,df['idade']) \n",
    "\n",
    "#padronizando os dados da coluna 'cor_raca'\n",
    "\n",
    "df['cor_raca']=np.where(df['cor_raca']=='-','Sem dados',df['cor_raca'])\n",
    "\n",
    "\n",
    "#padronizando os dados da coluna 'grau_instrucao'\n",
    "df['grau_instrucao']=np.where(df['grau_instrucao']=='-','Sem dados',df['grau_instrucao'])"
   ]
  },
  {
   "cell_type": "code",
   "execution_count": 12,
   "metadata": {},
   "outputs": [],
   "source": [
    "df['idade'] =pd.to_numeric(df['idade']) #transformando em numerico \n"
   ]
  },
  {
   "cell_type": "code",
   "execution_count": 13,
   "metadata": {},
   "outputs": [],
   "source": [
    "limites = [0, 30, 50,65,100]\n",
    "categorias = ['Entre 18-29', 'Entre 30-49', 'Entre 50-64', 'Acima de 65']\n",
    "\n",
    "df['faixa_etaria'] = pd.cut(df['idade'], bins=limites, labels=categorias)\n"
   ]
  },
  {
   "cell_type": "code",
   "execution_count": 14,
   "metadata": {},
   "outputs": [],
   "source": [
    "df=df[['ano', 'sigla_uf','nome_municipio','id_municipio', 'genero', 'cor_raca', 'grau_instrucao', 'faixa_etaria']] #reorganizando as colunas"
   ]
  },
  {
   "cell_type": "code",
   "execution_count": 15,
   "metadata": {},
   "outputs": [],
   "source": [
    "# criando dicionário\n",
    "dict_esco = {'Ensino fundamental incompleto':'Até Ensino Fundamental',\n",
    "             'Ensino fundamental completo':'Até Ensino Fundamental',\n",
    "             'Ensino médio incompleto':'Até Ensino Médio',\n",
    "             'Ensino médio completo':'Até Ensino Médio',\n",
    "             'Ensino superior incompleto':'Até Ensino Superior Completo',\n",
    "             'Ensino superior completo':'Até Ensino Superior Completo',\n",
    "             'Especialização':'Até Pós Graduação ou Mestrado',\n",
    "             'Mestrado':'Até Pós Graduação ou Mestrado',\n",
    "             'Doutorado':'Até Doutorado'}\n"
   ]
  },
  {
   "cell_type": "code",
   "execution_count": 16,
   "metadata": {},
   "outputs": [],
   "source": [
    "df = df.replace({'grau_instrucao':dict_esco}) #substituindo valores para padronizar"
   ]
  },
  {
   "cell_type": "code",
   "execution_count": 19,
   "metadata": {},
   "outputs": [
    {
     "data": {
      "text/plain": [
       "Index(['ano', 'sigla_uf', 'nome_municipio', 'id_municipio', 'genero',\n",
       "       'cor_raca', 'grau_instrucao', 'faixa_etaria'],\n",
       "      dtype='object')"
      ]
     },
     "execution_count": 19,
     "metadata": {},
     "output_type": "execute_result"
    }
   ],
   "source": [
    "df.columns"
   ]
  },
  {
   "cell_type": "code",
   "execution_count": 29,
   "metadata": {},
   "outputs": [
    {
     "data": {
      "text/plain": [
       "array([2019], dtype=int64)"
      ]
     },
     "execution_count": 29,
     "metadata": {},
     "output_type": "execute_result"
    }
   ],
   "source": [
    "df['ano'].unique()"
   ]
  },
  {
   "cell_type": "markdown",
   "metadata": {},
   "source": [
    "Subindo para o GBQ"
   ]
  },
  {
   "cell_type": "code",
   "execution_count": null,
   "metadata": {},
   "outputs": [],
   "source": [
    "client = bigquery.Client()\n",
    "dataset_ref = client.dataset('cargos_lideranca')"
   ]
  },
  {
   "cell_type": "code",
   "execution_count": null,
   "metadata": {},
   "outputs": [],
   "source": [
    "schema=[bigquery.SchemaField('ano','INTEGER',description='Ano de referência da observação'),\n",
    "        bigquery.SchemaField('sigla_uf','STRING',description='Sigla da Unidade da Federação referente municipio'),\n",
    "        bigquery.SchemaField('nome_municipio','STRING',description='Nome do município'),\n",
    "        bigquery.SchemaField('id_municipio','INTEGER',description='Código do IBGE do município'),\n",
    "        bigquery.SchemaField('genero','STRING',description='Gênero autodeclarado ou não'),\n",
    "        bigquery.SchemaField('cor_raca','STRING',description='Raça/cor da pessoa observada'),\n",
    "        bigquery.SchemaField('grau_instrucao','STRING',description='Escolaridade da pessoa ou do vínculo observado com detalhamento na pós-graduação'),\n",
    "        bigquery.SchemaField('faixa_etaria','STRING',description='faixa etária da observação')\n",
    "        ]\n"
   ]
  },
  {
   "cell_type": "code",
   "execution_count": null,
   "metadata": {},
   "outputs": [
    {
     "data": {
      "text/plain": [
       "LoadJob<project=repositoriodedadosgpsp, location=US, id=62603ce1-23b9-44b3-82f0-b47fad031677>"
      ]
     },
     "execution_count": 22,
     "metadata": {},
     "output_type": "execute_result"
    }
   ],
   "source": [
    "table_ref = dataset_ref.table('MUNIC_perfil_gestor_direitos_humanos')\n",
    "job_config = bigquery.LoadJobConfig(schema=schema)\n",
    "job = client.load_table_from_dataframe(df,table_ref, job_config=job_config)\n",
    "job.result() "
   ]
  }
 ],
 "metadata": {
  "kernelspec": {
   "display_name": "base",
   "language": "python",
   "name": "python3"
  },
  "language_info": {
   "codemirror_mode": {
    "name": "ipython",
    "version": 3
   },
   "file_extension": ".py",
   "mimetype": "text/x-python",
   "name": "python",
   "nbconvert_exporter": "python",
   "pygments_lexer": "ipython3",
   "version": "3.11.4"
  }
 },
 "nbformat": 4,
 "nbformat_minor": 2
}
