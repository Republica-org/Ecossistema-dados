{
  "nbformat": 4,
  "nbformat_minor": 0,
  "metadata": {
    "colab": {
      "provenance": []
    },
    "kernelspec": {
      "name": "python3",
      "display_name": "Python 3"
    },
    "language_info": {
      "name": "python"
    }
  },
  "cells": [
    {
      "cell_type": "markdown",
      "source": [
        "# Dependência"
      ],
      "metadata": {
        "id": "SWqkK51qmEeM"
      }
    },
    {
      "cell_type": "code",
      "source": [
        "# Install required Google Cloud packages (commented out as these are typically one-time setup commands)\n",
        "# !pip install gcloud\n",
        "# !gcloud auth application-default login\n",
        "\n",
        "# Import necessary Python libraries\n",
        "import pandas as pd                # Data manipulation and analysis\n",
        "import numpy as np                 # Numerical computing\n",
        "import time                        # Time-related functions\n",
        "import os                          # Operating system interfaces\n",
        "import pandas_gbq                  # Pandas integration with BigQuery\n",
        "from google.cloud import bigquery  # BigQuery client library\n",
        "import glob                        # File path pattern matching\n",
        "import openpyxl                    # Excel file handling\n",
        "import csv                         # CSV file handling\n",
        "import re                          # Regular expressions\n",
        "\n",
        "# Note: The actual imports remain exactly as in the original code"
      ],
      "metadata": {
        "id": "6TZbcT8JmPoY"
      },
      "execution_count": null,
      "outputs": []
    },
    {
      "cell_type": "markdown",
      "source": [
        "# Tratamento"
      ],
      "metadata": {
        "id": "NWPCpfS9mMTc"
      }
    },
    {
      "cell_type": "code",
      "source": [
        "# Load data from Excel file (MUNIC 2023 survey, Human Rights sheet)\n",
        "df = pd.read_excel(\"Base_MUNIC_2023(1).xlsx\", sheet_name='Direitos Humanos')\n",
        "\n",
        "# Select specific columns from the dataset\n",
        "df = df[['Uf', 'Cod Uf', 'Cod Munic', 'Desc Mun', 'MDHU04', 'MDHU05', 'MDHU06', 'MDHU07']]\n",
        "\n",
        "# Add year column with value 2023\n",
        "df['ano'] = 2023\n",
        "\n",
        "# Rename columns to more descriptive names\n",
        "df = df.rename(columns={\n",
        "    'Uf': 'sigla_uf',\n",
        "    'Cod Uf': 'cod_uf',\n",
        "    'Cod Munic': 'id_municipio',\n",
        "    'Desc Mun': 'nome_municipio',\n",
        "    'MDHU04': 'genero',\n",
        "    'MDHU05': 'idade',\n",
        "    'MDHU06': 'cor_raca',\n",
        "    'MDHU07': 'grau_instrucao'\n",
        "})\n",
        "\n",
        "# Standardize race/color category (change 'Pardo' to 'Parda')\n",
        "df['cor_raca'] = np.where(df['cor_raca'] == 'Pardo', 'Parda', df['cor_raca'])\n",
        "\n",
        "# Handle missing/refused data for gender column\n",
        "df['genero'] = np.where(df['genero'] == 'Recusa', 'Sem dados', df['genero'])\n",
        "df['genero'] = np.where(df['genero'] == 'Não informou', 'Sem dados', df['genero'])\n",
        "df['genero'] = np.where(df['genero'] == '-', 'Sem dados', df['genero'])\n",
        "df['genero'] = np.where(df['genero'] == '(**) Sem gestor', 'Sem dados', df['genero'])\n",
        "df['genero'] = np.where(df['genero'] == 'Não soube informar', 'Sem dados', df['genero'])\n",
        "\n",
        "# Handle missing/refused data for race/color column\n",
        "df['cor_raca'] = np.where(df['cor_raca'] == 'Recusa', 'Sem dados', df['cor_raca'])\n",
        "df['cor_raca'] = np.where(df['cor_raca'] == 'Não informou', 'Sem dados', df['cor_raca'])\n",
        "df['cor_raca'] = np.where(df['cor_raca'] == '-', 'Sem dados', df['cor_raca'])\n",
        "df['cor_raca'] = np.where(df['cor_raca'] == '(**) Sem gestor', 'Sem dados', df['cor_raca'])\n",
        "df['cor_raca'] = np.where(df['cor_raca'] == 'Não soube informar', 'Sem dados', df['cor_raca'])\n",
        "\n",
        "# Handle missing/refused data for education level column\n",
        "df['grau_instrucao'] = np.where(df['grau_instrucao'] == 'Recusa', 'Sem dados', df['grau_instrucao'])\n",
        "df['grau_instrucao'] = np.where(df['grau_instrucao'] == 'Não informou', 'Sem dados', df['grau_instrucao'])\n",
        "df['grau_instrucao'] = np.where(df['grau_instrucao'] == '-', 'Sem dados', df['grau_instrucao'])\n",
        "df['grau_instrucao'] = np.where(df['grau_instrucao'] == '(**) Sem gestor', 'Sem dados', df['grau_instrucao'])\n",
        "df['grau_instrucao'] = np.where(df['grau_instrucao'] == 'Não soube informar', 'Sem dados', df['grau_instrucao'])\n",
        "\n",
        "# Handle missing/refused data for age column (convert to NaN)\n",
        "df['idade'] = np.where(df['idade'] == 'Recusa', np.nan, df['idade'])\n",
        "df['idade'] = np.where(df['idade'] == 'Não informou', np.nan, df['idade'])\n",
        "df['idade'] = np.where(df['idade'] == '-', np.nan, df['idade'])\n",
        "df['idade'] = np.where(df['idade'] == '(**) Sem gestor', np.nan, df['idade'])\n",
        "df['idade'] = np.where(df['idade'] == 'Não soube informar', np.nan, df['idade'])\n",
        "\n",
        "# Convert age column to numeric type\n",
        "df['idade'] = pd.to_numeric(df['idade'])\n",
        "\n",
        "# Define age group bins and labels\n",
        "limites = [18, 30, 50, 65, 100]\n",
        "categorias = ['Entre 18-29', 'Entre 30-49', 'Entre 50-64', 'Acima de 65']\n",
        "\n",
        "# Create age group column based on the bins\n",
        "df['faixa_etaria'] = pd.cut(df['idade'], bins=limites, labels=categorias, right=False)\n",
        "\n",
        "# Reorder columns in the dataframe\n",
        "df = df[['ano', 'sigla_uf', 'nome_municipio', 'id_municipio', 'genero', 'cor_raca', 'grau_instrucao', 'faixa_etaria']]\n",
        "\n",
        "# Create dictionary to standardize education levels\n",
        "dict_esco = {\n",
        "    'Ensino fundamental incompleto': 'Até Ensino Fundamental',\n",
        "    'Ensino fundamental completo': 'Até Ensino Fundamental',\n",
        "    'Ensino fundamental (1º Grau) completo': 'Até Ensino Fundamental',\n",
        "    'Ensino fundamental (1º Grau) incompleto': 'Até Ensino Fundamental',\n",
        "    'Ensino médio (2º Grau) incompleto': 'Até Ensino Médio',\n",
        "    'Ensino médio (2º Grau) completo': 'Até Ensino Médio',\n",
        "    'Ensino superior incompleto': 'Até Ensino Superior Completo',\n",
        "    'Ensino superior completo': 'Até Ensino Superior Completo',\n",
        "    'Especialização': 'Até Pós Graduação ou Mestrado',\n",
        "    'Mestrado': 'Até Pós Graduação ou Mestrado',\n",
        "    'Doutorado': 'Até Doutorado'\n",
        "}\n",
        "\n",
        "# Apply education level standardization\n",
        "df = df.replace({'grau_instrucao': dict_esco})\n",
        "\n",
        "# Display unique values in education column for verification\n",
        "df['grau_instrucao'].unique()"
      ],
      "metadata": {
        "id": "yGulvOrvn1Mj"
      },
      "execution_count": null,
      "outputs": []
    },
    {
      "cell_type": "code",
      "source": [
        "df.info()"
      ],
      "metadata": {
        "colab": {
          "base_uri": "https://localhost:8080/"
        },
        "id": "DQ56O72YwZTz",
        "outputId": "b2ca932f-e86d-4555-ae46-f19d974bc3d7"
      },
      "execution_count": null,
      "outputs": [
        {
          "output_type": "stream",
          "name": "stdout",
          "text": [
            "<class 'pandas.core.frame.DataFrame'>\n",
            "RangeIndex: 5570 entries, 0 to 5569\n",
            "Data columns (total 8 columns):\n",
            " #   Column          Non-Null Count  Dtype   \n",
            "---  ------          --------------  -----   \n",
            " 0   ano             5570 non-null   int64   \n",
            " 1   sigla_uf        5570 non-null   object  \n",
            " 2   nome_municipio  5570 non-null   object  \n",
            " 3   id_municipio    5570 non-null   int64   \n",
            " 4   genero          5570 non-null   object  \n",
            " 5   cor_raca        5570 non-null   object  \n",
            " 6   grau_instrucao  5570 non-null   object  \n",
            " 7   faixa_etaria    1893 non-null   category\n",
            "dtypes: category(1), int64(2), object(5)\n",
            "memory usage: 310.4+ KB\n"
          ]
        }
      ]
    },
    {
      "cell_type": "markdown",
      "source": [
        "# Upload"
      ],
      "metadata": {
        "id": "Ncx_GVNumOPb"
      }
    },
    {
      "cell_type": "code",
      "source": [
        "# Define the BigQuery table schema with field descriptions (in Portuguese)\n",
        "schema = [\n",
        "    bigquery.SchemaField('ano', 'INTEGER', description='Ano de referência da observação'),\n",
        "    bigquery.SchemaField('sigla_uf', 'STRING', description='Sigla da Unidade da Federação referente municipio'),\n",
        "    bigquery.SchemaField('nome_municipio', 'STRING', description='Nome do município'),\n",
        "    bigquery.SchemaField('id_municipio', 'INTEGER', description='Código do IBGE do município'),\n",
        "    bigquery.SchemaField('genero', 'STRING', description='Gênero autodeclarado ou não'),\n",
        "    bigquery.SchemaField('cor_raca', 'STRING', description='Raça/cor da pessoa observada'),\n",
        "    bigquery.SchemaField('grau_instrucao', 'STRING',\n",
        "                       description='Escolaridade da pessoa ou do vínculo observado com detalhamento na pós-graduação'),\n",
        "    bigquery.SchemaField('faixa_etaria', 'STRING', description='faixa etária da observação')\n",
        "]\n",
        "\n",
        "# Initialize BigQuery client connection to the specified project\n",
        "client = bigquery.Client(project='repositoriodedadosgpsp')\n",
        "\n",
        "# Create reference to the target dataset 'cargos_lideranca'\n",
        "dataset_ref = client.dataset('cargos_lideranca')\n",
        "\n",
        "# Create reference to the target table with standardized naming convention:\n",
        "# Format: FONTE_algo_intuitivo_dado (MUNIC_perfil_gestor_direitos_humanos_v3)\n",
        "table_ref = dataset_ref.table('MUNIC_perfil_gestor_direitos_humanos_v3')\n",
        "\n",
        "# Configure the load job with our schema definition\n",
        "job_config = bigquery.LoadJobConfig(schema=schema)\n",
        "\n",
        "# Execute the load job to transfer DataFrame to BigQuery\n",
        "job = client.load_table_from_dataframe(\n",
        "    dataframe=df,\n",
        "    destination=table_ref,\n",
        "    job_config=job_config\n",
        ")\n",
        "\n",
        "# Wait for the job to complete\n",
        "job.result()"
      ],
      "metadata": {
        "id": "HZ30VvrRn4U9"
      },
      "execution_count": null,
      "outputs": []
    }
  ]
}