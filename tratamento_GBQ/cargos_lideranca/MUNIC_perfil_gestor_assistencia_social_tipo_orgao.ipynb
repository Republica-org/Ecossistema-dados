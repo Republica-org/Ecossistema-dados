{
  "nbformat": 4,
  "nbformat_minor": 0,
  "metadata": {
    "colab": {
      "provenance": []
    },
    "kernelspec": {
      "name": "python3",
      "display_name": "Python 3"
    },
    "language_info": {
      "name": "python"
    }
  },
  "cells": [
    {
      "cell_type": "markdown",
      "source": [
        "# Dependência"
      ],
      "metadata": {
        "id": "TP_xhuGxhB6d"
      }
    },
    {
      "cell_type": "code",
      "source": [
        "# Install required Google Cloud packages (commented out as these are typically one-time setup commands)\n",
        "# !pip install gcloud\n",
        "# !gcloud auth application-default login\n",
        "\n",
        "# Import necessary Python libraries\n",
        "import pandas as pd                # Data manipulation and analysis\n",
        "import numpy as np                 # Numerical computing\n",
        "import time                        # Time-related functions\n",
        "import os                          # Operating system interfaces\n",
        "import pandas_gbq                  # Pandas integration with BigQuery\n",
        "from google.cloud import bigquery  # BigQuery client library\n",
        "import glob                        # File path pattern matching\n",
        "import openpyxl                    # Excel file handling\n",
        "import csv                         # CSV file handling\n",
        "import re                          # Regular expressions\n",
        "\n",
        "# Note: The actual imports remain exactly as in the original code"
      ],
      "metadata": {
        "id": "CjvHk9ZKg3fv"
      },
      "execution_count": null,
      "outputs": []
    },
    {
      "cell_type": "markdown",
      "source": [
        "# Tratamento"
      ],
      "metadata": {
        "id": "bj9e1wwOhDrC"
      }
    },
    {
      "cell_type": "code",
      "source": [
        "# Read a specific sheet named 'Assistência Social' from an Excel file into a DataFrame.\n",
        "df = pd.read_excel(\"Base_MUNIC_2023(1).xlsx\", sheet_name='Assistência Social')\n",
        "\n",
        "# Select a specific subset of columns from the newly created DataFrame.\n",
        "df = df[['Uf', 'Cod Uf', 'CodMun', 'Desc Mun', 'MASS03','MASS04', 'MASS05', 'MASS06']]\n",
        "\n",
        "# Add a new column named 'ano' and set its value to 2023 for all rows.\n",
        "df['ano']=2023\n",
        "\n",
        "# Rename the columns to a more standardized and readable format (snake_case).\n",
        "df = df.rename(columns={'Uf':'sigla_uf',\n",
        "                        'Cod Uf':'cod_uf',\n",
        "                        'CodMun':'id_municipio',\n",
        "                        'Desc Mun':'nome_municipio',\n",
        "                        'MASS03':'genero',\n",
        "                        'MASS04':'idade',\n",
        "                        'MASS05':'cor_raca',\n",
        "                        'MASS06':'grau_instrucao'})\n",
        "\n",
        "# Use np.where to conditionally replace 'Pardo' with 'Parda' in the 'cor_raca' column.\n",
        "df['cor_raca'] = np.where(df['cor_raca']=='Pardo','Parda',df['cor_raca'])\n",
        "\n",
        "# Standardize various 'no data' entries to 'Sem dados' in the 'genero' column.\n",
        "df['genero']=np.where(df['genero']=='Recusa','Sem dados',df['genero'])\n",
        "df['genero']=np.where(df['genero']=='Não informou','Sem dados',df['genero'])\n",
        "df['genero']=np.where(df['genero']=='-','Sem dados',df['genero'])\n",
        "df['genero']=np.where(df['genero']=='(**) Sem gestor','Sem dados',df['genero'])\n",
        "df['genero']=np.where(df['genero']=='Não soube informar','Sem dados',df['genero'])\n",
        "\n",
        "# Standardize various 'no data' entries to 'Sem dados' in the 'cor_raca' column.\n",
        "df['cor_raca']=np.where(df['cor_raca']=='Recusa','Sem dados',df['cor_raca'])\n",
        "df['cor_raca']=np.where(df['cor_raca']=='Não informou','Sem dados',df['cor_raca'])\n",
        "df['cor_raca']==np.where(df['cor_raca']=='-','Sem dados',df['cor_raca'])\n",
        "df['cor_raca']=np.where(df['cor_raca']=='(**) Sem gestor','Sem dados',df['cor_raca'])\n",
        "df['cor_raca']=np.where(df['cor_raca']=='Não soube informar','Sem dados',df['cor_raca'])\n",
        "\n",
        "# Standardize various 'no data' entries to 'Sem dados' in the 'grau_instrucao' column.\n",
        "df['grau_instrucao']=np.where(df['grau_instrucao']=='Recusa','Sem dados',df['grau_instrucao'])\n",
        "df['grau_instrucao']=np.where(df['grau_instrucao']=='Não informou','Sem dados',df['grau_instrucao'])\n",
        "df['grau_instrucao']=np.where(df['grau_instrucao']=='-','Sem dados',df['grau_instrucao'])\n",
        "df['grau_instrucao']=np.where(df['grau_instrucao']=='(**) Sem gestor','Sem dados',df['grau_instrucao'])\n",
        "df['grau_instrucao']=np.where(df['grau_instrucao']=='Não soube informar','Sem dados',df['grau_instrucao'])\n",
        "\n",
        "# Replace various 'no data' entries in the 'idade' column with np.nan (Not a Number).\n",
        "df['idade']=np.where(df['idade']=='Recusa',np.nan,df['idade'])\n",
        "df['idade']=np.where(df['idade']=='Não informou',np.nan,df['idade'])\n",
        "df['idade']=np.where(df['idade']=='-',np.nan,df['idade'])\n",
        "df['idade']=np.where(df['idade']=='(**) Sem gestor',np.nan,df['idade'])\n",
        "df['idade']=np.where(df['idade']=='Não soube informar',np.nan,df['idade'])\n",
        "\n",
        "# Convert the 'idade' column to a numeric data type, allowing for calculations.\n",
        "df['idade'] =pd.to_numeric(df['idade'])\n",
        "\n",
        "# Define the age bin edges and corresponding category labels for creating age groups.\n",
        "limites = [18, 30, 50, 65, 100]\n",
        "categorias = ['Entre 18-29', 'Entre 30-49', 'Entre 50-64', 'Acima de 65']\n",
        "\n",
        "# Create a new column 'faixa_etaria' by binning the 'idade' column using pd.cut.\n",
        "# 'right=False' means the intervals will be [start, end), e.g., [18, 30).\n",
        "df['faixa_etaria'] = pd.cut(df['idade'], bins=limites, labels=categorias, right=False)\n",
        "\n",
        "# Reorder the columns into a final, desired sequence.\n",
        "df= df[['ano', 'sigla_uf','nome_municipio','id_municipio', 'genero', 'cor_raca', 'grau_instrucao', 'faixa_etaria']] #reorganizando as colunas\n",
        "\n",
        "# Create a dictionary to map detailed education levels to broader, standardized categories.\n",
        "dict_esco = {'Ensino fundamental incompleto':'Até Ensino Fundamental',\n",
        "             'Ensino fundamental completo':'Até Ensino Fundamental',\n",
        "             'Ensino fundamental (1º Grau) completo':'Até Ensino Fundamental',\n",
        "             'Ensino fundamental ( 1º Grau) completo':'Até Ensino Fundamental',\n",
        "             'Ensino fundamental (1º Grau) incompleto':'Até Ensino Fundamental',\n",
        "             'Ensino médio (2º Grau) incompleto':'Até Ensino Médio',\n",
        "             'Ensino médio (2º Grau) completo':'Até Ensino Médio',\n",
        "             'Ensino superior incompleto':'Até Ensino Superior Completo',\n",
        "             'Ensino superior completo':'Até Ensino Superior Completo',\n",
        "             'Especialização':'Até Pós Graduação ou Mestrado',\n",
        "             'Mestrado':'Até Pós Graduação ou Mestrado',\n",
        "             'Doutorado':'Até Doutorado'}\n",
        "\n",
        "# Use the dictionary to replace the values in the 'grau_instrucao' column.\n",
        "df = df.replace({'grau_instrucao':dict_esco}) #substituindo valores para padronizar"
      ],
      "metadata": {
        "id": "bg0jr4cshFbV"
      },
      "execution_count": null,
      "outputs": []
    },
    {
      "cell_type": "code",
      "source": [
        "df.info()"
      ],
      "metadata": {
        "colab": {
          "base_uri": "https://localhost:8080/"
        },
        "id": "DQ56O72YwZTz",
        "outputId": "d9afa9b8-9ad9-412a-d36c-27f07bd96e2b"
      },
      "execution_count": null,
      "outputs": [
        {
          "output_type": "stream",
          "name": "stdout",
          "text": [
            "<class 'pandas.core.frame.DataFrame'>\n",
            "RangeIndex: 5570 entries, 0 to 5569\n",
            "Data columns (total 8 columns):\n",
            " #   Column          Non-Null Count  Dtype   \n",
            "---  ------          --------------  -----   \n",
            " 0   ano             5570 non-null   int64   \n",
            " 1   sigla_uf        5570 non-null   object  \n",
            " 2   nome_municipio  5570 non-null   object  \n",
            " 3   id_municipio    5570 non-null   int64   \n",
            " 4   genero          5570 non-null   object  \n",
            " 5   cor_raca        5570 non-null   object  \n",
            " 6   grau_instrucao  5570 non-null   object  \n",
            " 7   faixa_etaria    5554 non-null   category\n",
            "dtypes: category(1), int64(2), object(5)\n",
            "memory usage: 310.4+ KB\n"
          ]
        }
      ]
    },
    {
      "cell_type": "markdown",
      "source": [
        "# Código"
      ],
      "metadata": {
        "id": "hlcaKT61hWrr"
      }
    },
    {
      "cell_type": "code",
      "source": [
        "# Define the schema for the BigQuery table.\n",
        "# Each bigquery.SchemaField represents a column with its name, data type, and a description.\n",
        "schema=[bigquery.SchemaField('ano','INTEGER',description='Ano de referência da observação'),\n",
        "        bigquery.SchemaField('sigla_uf','STRING',description='Sigla da Unidade da Federação referente municipio'),\n",
        "        bigquery.SchemaField('nome_municipio','STRING',description='Nome do município'),\n",
        "        bigquery.SchemaField('id_municipio','INTEGER',description='Código do IBGE do município'),\n",
        "        bigquery.SchemaField('genero','STRING',description='Gênero autodeclarado ou não'),\n",
        "        bigquery.SchemaField('cor_raca','STRING',description='Raça/cor da pessoa observada'),\n",
        "        bigquery.SchemaField('grau_instrucao','STRING',description='Escolaridade da pessoa ou do vínculo observado com detalhamento na pós-graduação'),\n",
        "        bigquery.SchemaField('faixa_etaria','STRING',description='faixa etária da observação')\n",
        "        ]\n",
        "\n",
        "## Subindo para datalake\n",
        "# Initialize the BigQuery client, specifying the Google Cloud project to use.\n",
        "client = bigquery.Client(project='repositoriodedadosgpsp')\n",
        "# Get a reference to the target dataset within the project.\n",
        "dataset_ref = client.dataset('cargos_lideranca')\n",
        "\n",
        "# Get a reference to the target table within the dataset.\n",
        "table_ref = dataset_ref.table('MUNIC_perfil_gestor_assistencia_social_tipo_orgao_v1') # nome da tabela no padrão FONTE_algo_intuitivo_dado\n",
        "\n",
        "# Create a job configuration object and pass the predefined schema to it.\n",
        "# This ensures the table in BigQuery is created with the correct columns and data types.\n",
        "job_config = bigquery.LoadJobConfig(schema=schema)\n",
        "\n",
        "# Start a job to load the data from the pandas DataFrame (df) into the specified BigQuery table.\n",
        "# The job uses the table reference and the job configuration defined above.\n",
        "job = client.load_table_from_dataframe(df, table_ref, job_config=job_config)\n",
        "\n",
        "# Wait for the load job to complete and raise an exception if it fails.\n",
        "job.result()"
      ],
      "metadata": {
        "id": "2-LEsc3LhYAb"
      },
      "execution_count": null,
      "outputs": []
    },
    {
      "cell_type": "code",
      "source": [],
      "metadata": {
        "colab": {
          "base_uri": "https://localhost:8080/"
        },
        "id": "2t-GZleBq_nt",
        "outputId": "68299b80-3abe-4e7a-d8fa-04728ec45a61"
      },
      "execution_count": null,
      "outputs": [
        {
          "output_type": "execute_result",
          "data": {
            "text/plain": [
              "LoadJob<project=repositoriodedadosgpsp, location=US, id=dd7fbcbd-9f0a-4388-b4c3-0716f603433e>"
            ]
          },
          "metadata": {},
          "execution_count": 56
        }
      ]
    }
  ]
}