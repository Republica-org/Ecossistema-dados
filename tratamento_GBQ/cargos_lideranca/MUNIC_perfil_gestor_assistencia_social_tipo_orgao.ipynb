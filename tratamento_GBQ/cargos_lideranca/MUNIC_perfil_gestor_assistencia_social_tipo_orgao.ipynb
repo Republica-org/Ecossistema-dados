{
 "cells": [
  {
   "cell_type": "code",
   "execution_count": 1,
   "metadata": {},
   "outputs": [],
   "source": [
    "import pandas as pd\n",
    "import numpy as np\n",
    "import os\n",
    "import pandas_gbq\n",
    "from google.cloud import bigquery\n",
    "import glob\n",
    "import openpyxl"
   ]
  },
  {
   "cell_type": "code",
   "execution_count": 2,
   "metadata": {},
   "outputs": [],
   "source": [
    "os.chdir('G:\\\\\\\\Drives compartilhados\\\\\\\\República.org\\\\\\\\4. Equipes\\\\\\\\Dados e Comunicação\\\\\\\\DADOS\\\\\\\\415 - Repositório de Dados\\\\\\\\Repositório Local')\n"
   ]
  },
  {
   "cell_type": "code",
   "execution_count": 3,
   "metadata": {},
   "outputs": [
    {
     "data": {
      "text/html": [
       "<div>\n",
       "<style scoped>\n",
       "    .dataframe tbody tr th:only-of-type {\n",
       "        vertical-align: middle;\n",
       "    }\n",
       "\n",
       "    .dataframe tbody tr th {\n",
       "        vertical-align: top;\n",
       "    }\n",
       "\n",
       "    .dataframe thead th {\n",
       "        text-align: right;\n",
       "    }\n",
       "</style>\n",
       "<table border=\"1\" class=\"dataframe\">\n",
       "  <thead>\n",
       "    <tr style=\"text-align: right;\">\n",
       "      <th></th>\n",
       "      <th>Cod Municipio</th>\n",
       "      <th>MASS01</th>\n",
       "      <th>MASS03</th>\n",
       "      <th>MASS04</th>\n",
       "      <th>MASS05</th>\n",
       "      <th>MASS06</th>\n",
       "    </tr>\n",
       "  </thead>\n",
       "  <tbody>\n",
       "    <tr>\n",
       "      <th>0</th>\n",
       "      <td>1100015</td>\n",
       "      <td>Secretaria em conjunto com outras políticas se...</td>\n",
       "      <td>Masculino</td>\n",
       "      <td>46</td>\n",
       "      <td>Parda</td>\n",
       "      <td>Ensino fundamental (1º Grau) incompleto</td>\n",
       "    </tr>\n",
       "    <tr>\n",
       "      <th>1</th>\n",
       "      <td>1100023</td>\n",
       "      <td>Secretaria exclusiva</td>\n",
       "      <td>Feminino</td>\n",
       "      <td>34</td>\n",
       "      <td>Preta</td>\n",
       "      <td>Especialização</td>\n",
       "    </tr>\n",
       "    <tr>\n",
       "      <th>2</th>\n",
       "      <td>1100031</td>\n",
       "      <td>Secretaria exclusiva</td>\n",
       "      <td>Feminino</td>\n",
       "      <td>54</td>\n",
       "      <td>Parda</td>\n",
       "      <td>Ensino superior completo</td>\n",
       "    </tr>\n",
       "    <tr>\n",
       "      <th>3</th>\n",
       "      <td>1100049</td>\n",
       "      <td>Secretaria exclusiva</td>\n",
       "      <td>Masculino</td>\n",
       "      <td>51</td>\n",
       "      <td>Parda</td>\n",
       "      <td>Ensino superior completo</td>\n",
       "    </tr>\n",
       "    <tr>\n",
       "      <th>4</th>\n",
       "      <td>1100056</td>\n",
       "      <td>Secretaria exclusiva</td>\n",
       "      <td>Feminino</td>\n",
       "      <td>58</td>\n",
       "      <td>Parda</td>\n",
       "      <td>Especialização</td>\n",
       "    </tr>\n",
       "    <tr>\n",
       "      <th>...</th>\n",
       "      <td>...</td>\n",
       "      <td>...</td>\n",
       "      <td>...</td>\n",
       "      <td>...</td>\n",
       "      <td>...</td>\n",
       "      <td>...</td>\n",
       "    </tr>\n",
       "    <tr>\n",
       "      <th>5565</th>\n",
       "      <td>5222005</td>\n",
       "      <td>Secretaria exclusiva</td>\n",
       "      <td>Feminino</td>\n",
       "      <td>40</td>\n",
       "      <td>Branca</td>\n",
       "      <td>Especialização</td>\n",
       "    </tr>\n",
       "    <tr>\n",
       "      <th>5566</th>\n",
       "      <td>5222054</td>\n",
       "      <td>Secretaria em conjunto com outras políticas se...</td>\n",
       "      <td>Feminino</td>\n",
       "      <td>52</td>\n",
       "      <td>Branca</td>\n",
       "      <td>Ensino superior completo</td>\n",
       "    </tr>\n",
       "    <tr>\n",
       "      <th>5567</th>\n",
       "      <td>5222203</td>\n",
       "      <td>Secretaria exclusiva</td>\n",
       "      <td>Feminino</td>\n",
       "      <td>68</td>\n",
       "      <td>Parda</td>\n",
       "      <td>Ensino superior completo</td>\n",
       "    </tr>\n",
       "    <tr>\n",
       "      <th>5568</th>\n",
       "      <td>5222302</td>\n",
       "      <td>Secretaria em conjunto com outras políticas se...</td>\n",
       "      <td>Feminino</td>\n",
       "      <td>42</td>\n",
       "      <td>Parda</td>\n",
       "      <td>Ensino médio (2º Grau) completo</td>\n",
       "    </tr>\n",
       "    <tr>\n",
       "      <th>5569</th>\n",
       "      <td>5300108</td>\n",
       "      <td>Secretaria em conjunto com outras políticas se...</td>\n",
       "      <td>Feminino</td>\n",
       "      <td>68</td>\n",
       "      <td>Branca</td>\n",
       "      <td>Especialização</td>\n",
       "    </tr>\n",
       "  </tbody>\n",
       "</table>\n",
       "<p>5570 rows × 6 columns</p>\n",
       "</div>"
      ],
      "text/plain": [
       "      Cod Municipio                                             MASS01  \\\n",
       "0           1100015  Secretaria em conjunto com outras políticas se...   \n",
       "1           1100023                               Secretaria exclusiva   \n",
       "2           1100031                               Secretaria exclusiva   \n",
       "3           1100049                               Secretaria exclusiva   \n",
       "4           1100056                               Secretaria exclusiva   \n",
       "...             ...                                                ...   \n",
       "5565        5222005                               Secretaria exclusiva   \n",
       "5566        5222054  Secretaria em conjunto com outras políticas se...   \n",
       "5567        5222203                               Secretaria exclusiva   \n",
       "5568        5222302  Secretaria em conjunto com outras políticas se...   \n",
       "5569        5300108  Secretaria em conjunto com outras políticas se...   \n",
       "\n",
       "         MASS03 MASS04  MASS05                                   MASS06  \n",
       "0     Masculino     46   Parda  Ensino fundamental (1º Grau) incompleto  \n",
       "1      Feminino     34   Preta                           Especialização  \n",
       "2      Feminino     54   Parda                 Ensino superior completo  \n",
       "3     Masculino     51   Parda                 Ensino superior completo  \n",
       "4      Feminino     58   Parda                           Especialização  \n",
       "...         ...    ...     ...                                      ...  \n",
       "5565   Feminino     40  Branca                           Especialização  \n",
       "5566   Feminino     52  Branca                 Ensino superior completo  \n",
       "5567   Feminino     68   Parda                 Ensino superior completo  \n",
       "5568   Feminino     42   Parda          Ensino médio (2º Grau) completo  \n",
       "5569   Feminino     68  Branca                           Especialização  \n",
       "\n",
       "[5570 rows x 6 columns]"
      ]
     },
     "execution_count": 3,
     "metadata": {},
     "output_type": "execute_result"
    }
   ],
   "source": [
    "df = pd.read_excel('MUNIC//Base_MUNIC_2018.xlsx', sheet_name='Assistência social', usecols=['Cod Municipio','MASS01','MASS03','MASS04','MASS05','MASS06'])\n",
    "df"
   ]
  },
  {
   "cell_type": "code",
   "execution_count": 4,
   "metadata": {},
   "outputs": [
    {
     "data": {
      "text/html": [
       "<div>\n",
       "<style scoped>\n",
       "    .dataframe tbody tr th:only-of-type {\n",
       "        vertical-align: middle;\n",
       "    }\n",
       "\n",
       "    .dataframe tbody tr th {\n",
       "        vertical-align: top;\n",
       "    }\n",
       "\n",
       "    .dataframe thead th {\n",
       "        text-align: right;\n",
       "    }\n",
       "</style>\n",
       "<table border=\"1\" class=\"dataframe\">\n",
       "  <thead>\n",
       "    <tr style=\"text-align: right;\">\n",
       "      <th></th>\n",
       "      <th>CodMun</th>\n",
       "      <th>UF</th>\n",
       "      <th>Cod UF</th>\n",
       "      <th>Mun</th>\n",
       "    </tr>\n",
       "  </thead>\n",
       "  <tbody>\n",
       "    <tr>\n",
       "      <th>0</th>\n",
       "      <td>1100015</td>\n",
       "      <td>RO</td>\n",
       "      <td>11</td>\n",
       "      <td>Alta Floresta DOeste</td>\n",
       "    </tr>\n",
       "    <tr>\n",
       "      <th>1</th>\n",
       "      <td>1100023</td>\n",
       "      <td>RO</td>\n",
       "      <td>11</td>\n",
       "      <td>Ariquemes</td>\n",
       "    </tr>\n",
       "    <tr>\n",
       "      <th>2</th>\n",
       "      <td>1100031</td>\n",
       "      <td>RO</td>\n",
       "      <td>11</td>\n",
       "      <td>Cabixi</td>\n",
       "    </tr>\n",
       "    <tr>\n",
       "      <th>3</th>\n",
       "      <td>1100049</td>\n",
       "      <td>RO</td>\n",
       "      <td>11</td>\n",
       "      <td>Cacoal</td>\n",
       "    </tr>\n",
       "    <tr>\n",
       "      <th>4</th>\n",
       "      <td>1100056</td>\n",
       "      <td>RO</td>\n",
       "      <td>11</td>\n",
       "      <td>Cerejeiras</td>\n",
       "    </tr>\n",
       "    <tr>\n",
       "      <th>...</th>\n",
       "      <td>...</td>\n",
       "      <td>...</td>\n",
       "      <td>...</td>\n",
       "      <td>...</td>\n",
       "    </tr>\n",
       "    <tr>\n",
       "      <th>5565</th>\n",
       "      <td>5222005</td>\n",
       "      <td>GO</td>\n",
       "      <td>52</td>\n",
       "      <td>Vianópolis</td>\n",
       "    </tr>\n",
       "    <tr>\n",
       "      <th>5566</th>\n",
       "      <td>5222054</td>\n",
       "      <td>GO</td>\n",
       "      <td>52</td>\n",
       "      <td>Vicentinópolis</td>\n",
       "    </tr>\n",
       "    <tr>\n",
       "      <th>5567</th>\n",
       "      <td>5222203</td>\n",
       "      <td>GO</td>\n",
       "      <td>52</td>\n",
       "      <td>Vila Boa</td>\n",
       "    </tr>\n",
       "    <tr>\n",
       "      <th>5568</th>\n",
       "      <td>5222302</td>\n",
       "      <td>GO</td>\n",
       "      <td>52</td>\n",
       "      <td>Vila Propício</td>\n",
       "    </tr>\n",
       "    <tr>\n",
       "      <th>5569</th>\n",
       "      <td>5300108</td>\n",
       "      <td>DF</td>\n",
       "      <td>53</td>\n",
       "      <td>Brasília</td>\n",
       "    </tr>\n",
       "  </tbody>\n",
       "</table>\n",
       "<p>5570 rows × 4 columns</p>\n",
       "</div>"
      ],
      "text/plain": [
       "       CodMun  UF  Cod UF                   Mun\n",
       "0     1100015  RO      11  Alta Floresta DOeste\n",
       "1     1100023  RO      11             Ariquemes\n",
       "2     1100031  RO      11                Cabixi\n",
       "3     1100049  RO      11                Cacoal\n",
       "4     1100056  RO      11            Cerejeiras\n",
       "...       ...  ..     ...                   ...\n",
       "5565  5222005  GO      52            Vianópolis\n",
       "5566  5222054  GO      52        Vicentinópolis\n",
       "5567  5222203  GO      52              Vila Boa\n",
       "5568  5222302  GO      52         Vila Propício\n",
       "5569  5300108  DF      53              Brasília\n",
       "\n",
       "[5570 rows x 4 columns]"
      ]
     },
     "execution_count": 4,
     "metadata": {},
     "output_type": "execute_result"
    }
   ],
   "source": [
    "uf = pd.read_excel('MUNIC//Base_MUNIC_2021.xlsx', sheet_name = 'Variáveis externas', usecols=[0,1,2,3])\n",
    "uf"
   ]
  },
  {
   "cell_type": "code",
   "execution_count": 5,
   "metadata": {},
   "outputs": [],
   "source": [
    "df= df.rename(columns={'Cod Municipio':'id_municipio',\n",
    "                        'MASS01':'caracterizacao_orgao_gestor',\n",
    "                        'MASS03':'genero',\n",
    "                        'MASS04' :'idade',\n",
    "                        'MASS05':'cor_raca',\n",
    "                        'MASS06':'grau_instrucao'}) "
   ]
  },
  {
   "cell_type": "code",
   "execution_count": 6,
   "metadata": {},
   "outputs": [],
   "source": [
    "x= uf.pivot_table(columns=('CodMun', 'UF','Cod UF', 'Mun'), aggfunc='size')\n"
   ]
  },
  {
   "cell_type": "code",
   "execution_count": 7,
   "metadata": {},
   "outputs": [],
   "source": [
    "uf = pd.DataFrame(x).reset_index()[['CodMun', 'UF','Cod UF', 'Mun']]"
   ]
  },
  {
   "cell_type": "code",
   "execution_count": 8,
   "metadata": {},
   "outputs": [],
   "source": [
    "df = df.merge(uf, right_on='CodMun',left_on='id_municipio') #adicionando siglas e nome das UFs e dos municipios\n"
   ]
  },
  {
   "cell_type": "code",
   "execution_count": 9,
   "metadata": {},
   "outputs": [],
   "source": [
    "df['ano']=2018"
   ]
  },
  {
   "cell_type": "code",
   "execution_count": 10,
   "metadata": {},
   "outputs": [],
   "source": [
    "df = df.drop(['CodMun'], axis=1)"
   ]
  },
  {
   "cell_type": "code",
   "execution_count": 11,
   "metadata": {},
   "outputs": [],
   "source": [
    "df = df.rename(columns={'UF':'sigla_uf',\n",
    "                        'Cod UF':'cod_uf',\n",
    "                        'Mun':'nome_municipio'}) #padronizando as colunas"
   ]
  },
  {
   "cell_type": "code",
   "execution_count": 12,
   "metadata": {},
   "outputs": [],
   "source": [
    "df['caracterizacao_orgao_gestor']=df['caracterizacao_orgao_gestor'].str.title()"
   ]
  },
  {
   "cell_type": "code",
   "execution_count": 13,
   "metadata": {},
   "outputs": [],
   "source": [
    "#padronizando os dados da coluna 'genero'\n",
    "df['genero']=np.where(df['genero']=='(**) Sem gestor','Sem titular',df['genero'])\n",
    "df['genero']=np.where(df['genero']=='-','Sem dados',df['genero'])\n",
    "df['genero']=np.where(df['genero']=='(*) Não soube informar','Sem dados',df['genero'])\n",
    "\n",
    "#padronizando os dados da coluna 'idade'\n",
    "df['idade']=np.where(df['idade']=='(*) Não soube informar',np.nan,df['idade'])\n",
    "df['idade']=np.where(df['idade']=='-',np.nan,df['idade'])\n",
    "df['idade']=np.where(df['idade']=='(**) Sem gestor',np.nan,df['idade'])\n",
    "df['idade']=np.where(df['idade']=='Recusa',np.nan,df['idade'])\n",
    "\n",
    "\n",
    "#padronizando os dados da coluna 'cor_raca'\n",
    "\n",
    "df['cor_raca']=np.where(df['cor_raca']=='(**) Sem gestor','Sem titular',df['cor_raca'])\n",
    "df['cor_raca']=np.where(df['cor_raca']=='-','Sem dados',df['cor_raca'])\n",
    "\n",
    "#padronizando os dados da coluna 'escolaridade'\n",
    "df['grau_instrucao']=np.where(df['grau_instrucao']=='-','Sem dados',df['grau_instrucao'])\n",
    "df['grau_instrucao']=np.where(df['grau_instrucao']=='(**) Sem gestor','Sem titular',df['grau_instrucao'])\n"
   ]
  },
  {
   "cell_type": "code",
   "execution_count": 14,
   "metadata": {},
   "outputs": [],
   "source": [
    "df['idade'] =pd.to_numeric(df['idade']) #transformando em numerico \n"
   ]
  },
  {
   "cell_type": "code",
   "execution_count": 15,
   "metadata": {},
   "outputs": [],
   "source": [
    "limites = [0, 30, 50,65,100]\n",
    "categorias = ['Entre 18-29', 'Entre 30-49', 'Entre 50-64', 'Acima de 65']\n",
    "\n",
    "df['faixa_etaria'] = pd.cut(df['idade'], bins=limites, labels=categorias)\n"
   ]
  },
  {
   "cell_type": "code",
   "execution_count": 16,
   "metadata": {},
   "outputs": [],
   "source": [
    "df=df[['ano', 'sigla_uf','nome_municipio','id_municipio','caracterizacao_orgao_gestor', 'genero', 'cor_raca', 'grau_instrucao', 'faixa_etaria']] #reorganizando as colunas"
   ]
  },
  {
   "cell_type": "code",
   "execution_count": 17,
   "metadata": {},
   "outputs": [
    {
     "data": {
      "text/plain": [
       "array(['Ensino fundamental (1º Grau) incompleto', 'Especialização',\n",
       "       'Ensino superior completo', 'Ensino médio (2º Grau) completo',\n",
       "       'Mestrado', 'Ensino superior incompleto',\n",
       "       'Ensino médio (2º Grau) incompleto',\n",
       "       'Ensino fundamental ( 1º Grau) completo', 'Recusa', 'Doutorado',\n",
       "       'Sem dados', 'Sem titular'], dtype=object)"
      ]
     },
     "execution_count": 17,
     "metadata": {},
     "output_type": "execute_result"
    }
   ],
   "source": [
    "df['grau_instrucao'].unique()"
   ]
  },
  {
   "cell_type": "code",
   "execution_count": 18,
   "metadata": {},
   "outputs": [],
   "source": [
    "# criando dicionário\n",
    "dict_esco = {'Ensino fundamental (1º Grau) incompleto':'Até Ensino Fundamental',\n",
    "             'Ensino fundamental ( 1º Grau) completo':'Até Ensino Fundamental',\n",
    "             'Ensino médio (2º Grau) incompleto':'Até Ensino Médio',\n",
    "             'Ensino médio (2º Grau) completo':'Até Ensino Médio',\n",
    "             'Ensino superior incompleto':'Até Ensino Superior Completo',\n",
    "             'Ensino superior completo':'Até Ensino Superior Completo',\n",
    "             'Especialização':'Até Pós Graduação ou Mestrado',\n",
    "             'Mestrado':'Até Pós Graduação ou Mestrado',\n",
    "             'Doutorado':'Até Doutorado'}\n"
   ]
  },
  {
   "cell_type": "code",
   "execution_count": 19,
   "metadata": {},
   "outputs": [],
   "source": [
    "df = df.replace({'grau_instrucao':dict_esco}) #substituindo valores para padronizar\n"
   ]
  },
  {
   "cell_type": "code",
   "execution_count": 21,
   "metadata": {},
   "outputs": [
    {
     "data": {
      "text/plain": [
       "Index(['ano', 'sigla_uf', 'nome_municipio', 'id_municipio',\n",
       "       'caracterizacao_orgao_gestor', 'genero', 'cor_raca', 'grau_instrucao',\n",
       "       'faixa_etaria'],\n",
       "      dtype='object')"
      ]
     },
     "execution_count": 21,
     "metadata": {},
     "output_type": "execute_result"
    }
   ],
   "source": [
    "df.columns"
   ]
  },
  {
   "cell_type": "markdown",
   "metadata": {},
   "source": [
    "Subindo para o GBQ"
   ]
  },
  {
   "cell_type": "code",
   "execution_count": null,
   "metadata": {},
   "outputs": [],
   "source": [
    "client = bigquery.Client()\n",
    "dataset_ref = client.dataset('cargos_lideranca')"
   ]
  },
  {
   "cell_type": "code",
   "execution_count": null,
   "metadata": {},
   "outputs": [
    {
     "name": "stdout",
     "output_type": "stream",
     "text": [
      "<class 'pandas.core.frame.DataFrame'>\n",
      "Int64Index: 5570 entries, 0 to 5569\n",
      "Data columns (total 9 columns):\n",
      " #   Column                       Non-Null Count  Dtype   \n",
      "---  ------                       --------------  -----   \n",
      " 0   ano                          5570 non-null   int64   \n",
      " 1   sigla_uf                     5570 non-null   object  \n",
      " 2   nome_municipio               5570 non-null   object  \n",
      " 3   id_municipio                 5570 non-null   int64   \n",
      " 4   caracterizacao_orgao_gestor  5570 non-null   object  \n",
      " 5   genero                       5570 non-null   object  \n",
      " 6   cor_raca                     5570 non-null   object  \n",
      " 7   grau_instrucao               5570 non-null   object  \n",
      " 8   faixa_etaria                 5515 non-null   category\n",
      "dtypes: category(1), int64(2), object(6)\n",
      "memory usage: 397.3+ KB\n"
     ]
    }
   ],
   "source": [
    "df.info()"
   ]
  },
  {
   "cell_type": "code",
   "execution_count": null,
   "metadata": {},
   "outputs": [],
   "source": [
    "schema=[bigquery.SchemaField('ano','INTEGER',description='Ano de referência da observação'),\n",
    "        bigquery.SchemaField('sigla_uf','STRING',description='Sigla da Unidade da Federação referente municipio'),\n",
    "        bigquery.SchemaField('nome_municipio','STRING',description='Nome do município'),\n",
    "        bigquery.SchemaField('id_municipio','INTEGER',description='Código do IBGE do município'),\n",
    "        bigquery.SchemaField('caracterizacao_orgao_gestor','STRING',description='Tipo de órgão no qual o gestor está'),\n",
    "        bigquery.SchemaField('genero','STRING',description='Gênero autodeclarado ou não'),\n",
    "        bigquery.SchemaField('cor_raca','STRING',description='Raça/cor da pessoa observada'),\n",
    "        bigquery.SchemaField('grau_instrucao','STRING',description='Escolaridade da pessoa ou do vínculo observado com detalhamento na pós-graduação'),\n",
    "        bigquery.SchemaField('faixa_etaria','STRING',description='faixa etária da observação')\n",
    "        ]\n"
   ]
  },
  {
   "cell_type": "code",
   "execution_count": null,
   "metadata": {},
   "outputs": [
    {
     "data": {
      "text/plain": [
       "LoadJob<project=repositoriodedadosgpsp, location=US, id=19dc96a4-a165-4c96-a959-e1a8cd998bbd>"
      ]
     },
     "execution_count": 25,
     "metadata": {},
     "output_type": "execute_result"
    }
   ],
   "source": [
    "table_ref = dataset_ref.table('MUNIC_perfil_gestor_assistencia_social_tipo_orgao')\n",
    "job_config = bigquery.LoadJobConfig(schema=schema)\n",
    "job = client.load_table_from_dataframe(df,table_ref, job_config=job_config)\n",
    "job.result() "
   ]
  }
 ],
 "metadata": {
  "kernelspec": {
   "display_name": "base",
   "language": "python",
   "name": "python3"
  },
  "language_info": {
   "codemirror_mode": {
    "name": "ipython",
    "version": 3
   },
   "file_extension": ".py",
   "mimetype": "text/x-python",
   "name": "python",
   "nbconvert_exporter": "python",
   "pygments_lexer": "ipython3",
   "version": "3.11.4"
  }
 },
 "nbformat": 4,
 "nbformat_minor": 2
}
