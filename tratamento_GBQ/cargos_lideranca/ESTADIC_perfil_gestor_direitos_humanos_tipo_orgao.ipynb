{
  "nbformat": 4,
  "nbformat_minor": 0,
  "metadata": {
    "colab": {
      "provenance": []
    },
    "kernelspec": {
      "name": "python3",
      "display_name": "Python 3"
    },
    "language_info": {
      "name": "python"
    }
  },
  "cells": [
    {
      "cell_type": "markdown",
      "source": [
        "# Dependências"
      ],
      "metadata": {
        "id": "dYO1wsp8JWmY"
      }
    },
    {
      "cell_type": "code",
      "source": [
        "# Install required Google Cloud packages (commented out as these are typically one-time setup commands)\n",
        "# !pip install gcloud\n",
        "# !gcloud auth application-default login\n",
        "\n",
        "# Import necessary Python libraries\n",
        "import pandas as pd                # Data manipulation and analysis\n",
        "import numpy as np                 # Numerical computing\n",
        "import time                        # Time-related functions\n",
        "import os                          # Operating system interfaces\n",
        "import pandas_gbq                  # Pandas integration with BigQuery\n",
        "from google.cloud import bigquery  # BigQuery client library\n",
        "import glob                        # File path pattern matching\n",
        "import openpyxl                    # Excel file handling\n",
        "import csv                         # CSV file handling\n",
        "import re                          # Regular expressions\n",
        "\n",
        "# Note: The actual imports remain exactly as in the original code"
      ],
      "metadata": {
        "id": "gs0zLhkUN1hn"
      },
      "execution_count": null,
      "outputs": []
    },
    {
      "cell_type": "markdown",
      "source": [
        "# Tratamento"
      ],
      "metadata": {
        "id": "xs2Ch4ksJZLn"
      }
    },
    {
      "cell_type": "code",
      "source": [
        "# Load data from Excel file, specifically the 'Direitos Humanos' sheet\n",
        "df = pd.read_excel(\"Base_Estadic_2023(2).xlsx\", sheet_name='Direitos Humanos')\n",
        "\n",
        "# Select and rename relevant columns\n",
        "df = df[['Sigla UF', 'Cod UF', 'Nome UF', 'EDHU01', 'EDHU04', 'EDHU05', 'EDHU06', 'EDHU07']]\n",
        "df['ano'] = 2023  # Add year column\n",
        "df = df.rename(columns={\n",
        "    'Sigla UF': 'sigla_uf',\n",
        "    'Cod UF': 'cod_uf',\n",
        "    'Nome UF': 'uf',\n",
        "    'EDHU01': 'caracterizacao_orgao_gestor',\n",
        "    'EDHU04': 'genero',\n",
        "    'EDHU05': 'idade',\n",
        "    'EDHU06': 'cor_raca',\n",
        "    'EDHU07': 'grau_instrucao'\n",
        "})\n",
        "\n",
        "# Standardize text data (title case and specific value replacements)\n",
        "df['caracterizacao_orgao_gestor'] = df['caracterizacao_orgao_gestor'].str.title()\n",
        "df['cor_raca'] = np.where(df['cor_raca'] == 'Pardo', 'Parda', df['cor_raca'])\n",
        "\n",
        "# Replace 'Recusa' and 'Não Informou' with standardized missing data indicators\n",
        "for col in ['caracterizacao_orgao_gestor', 'genero', 'cor_raca', 'grau_instrucao']:\n",
        "    df[col] = np.where(df[col].isin(['Recusa', 'Não Informou', 'Não informou']),\n",
        "                      'Sem dados',\n",
        "                      df[col])\n",
        "\n",
        "# Handle numeric age column\n",
        "df['idade'] = np.where(df['idade'].isin(['Recusa', 'Não informou']), np.nan, df['idade'])\n",
        "df['idade'] = pd.to_numeric(df['idade'])\n",
        "\n",
        "# Create age groups\n",
        "limites = [18, 30, 50, 65, 100]\n",
        "categorias = ['Entre 18-29', 'Entre 30-49', 'Entre 50-64', 'Acima de 65']\n",
        "df['faixa_etaria'] = pd.cut(df['idade'], bins=limites, labels=categorias, right=False)\n",
        "\n",
        "# Reorder columns\n",
        "df = df[['ano', 'sigla_uf', 'cod_uf', 'uf', 'caracterizacao_orgao_gestor',\n",
        "        'genero', 'faixa_etaria', 'cor_raca', 'grau_instrucao']]\n",
        "\n",
        "# Standardize education levels\n",
        "dict_esco = {\n",
        "    'Ensino superior completo': 'Até Ensino Superior Completo',\n",
        "    'Especialização': 'Até Pós Graduação ou Mestrado',\n",
        "    'Mestrado': 'Até Pós Graduação ou Mestrado',\n",
        "    'Doutorado': 'Até Doutorado'\n",
        "}\n",
        "df = df.replace({'grau_instrucao': dict_esco})"
      ],
      "metadata": {
        "id": "U3j8tEZvM9gL"
      },
      "execution_count": null,
      "outputs": []
    },
    {
      "cell_type": "code",
      "source": [
        "df.info()"
      ],
      "metadata": {
        "colab": {
          "base_uri": "https://localhost:8080/"
        },
        "id": "DQ56O72YwZTz",
        "outputId": "159b68cd-a3af-41d9-e825-76bdc003ac02"
      },
      "execution_count": null,
      "outputs": [
        {
          "output_type": "stream",
          "name": "stdout",
          "text": [
            "<class 'pandas.core.frame.DataFrame'>\n",
            "RangeIndex: 27 entries, 0 to 26\n",
            "Data columns (total 9 columns):\n",
            " #   Column                       Non-Null Count  Dtype   \n",
            "---  ------                       --------------  -----   \n",
            " 0   ano                          27 non-null     int64   \n",
            " 1   sigla_uf                     27 non-null     object  \n",
            " 2   cod_uf                       27 non-null     int64   \n",
            " 3   uf                           27 non-null     object  \n",
            " 4   caracterizacao_orgao_gestor  27 non-null     object  \n",
            " 5   genero                       27 non-null     object  \n",
            " 6   faixa_etaria                 26 non-null     category\n",
            " 7   cor_raca                     27 non-null     object  \n",
            " 8   grau_instrucao               27 non-null     object  \n",
            "dtypes: category(1), int64(2), object(6)\n",
            "memory usage: 2.0+ KB\n"
          ]
        }
      ]
    },
    {
      "cell_type": "markdown",
      "source": [
        "# Upload"
      ],
      "metadata": {
        "id": "6K5imotzJbGp"
      }
    },
    {
      "cell_type": "code",
      "source": [
        "# Define the BigQuery table schema with field types and descriptions\n",
        "schema = [\n",
        "    bigquery.SchemaField('ano', 'INTEGER', description='Year of data collection'),\n",
        "    bigquery.SchemaField('sigla_uf', 'STRING', description='State abbreviation'),\n",
        "    bigquery.SchemaField('cod_uf', 'INTEGER', description='IBGE state code'),\n",
        "    bigquery.SchemaField('uf', 'STRING', description='State name'),\n",
        "    bigquery.SchemaField('caracterizacao_orgao_gestor', 'STRING', description='Characterization of the management body'),\n",
        "    bigquery.SchemaField('genero', 'STRING', description='Self-declared gender'),\n",
        "    bigquery.SchemaField('faixa_etaria', 'STRING', description='Age group of the observation'),\n",
        "    bigquery.SchemaField('cor_raca', 'STRING', description='Race/color of observed person'),\n",
        "    bigquery.SchemaField('grau_instrucao', 'STRING', description='Education level with post-graduate detail')\n",
        "]\n",
        "\n",
        "# Initialize BigQuery client connecting to specific project\n",
        "client = bigquery.Client(project='repositoriodedadosgpsp')\n",
        "\n",
        "# Create reference to target dataset\n",
        "dataset_ref = client.dataset('cargos_lideranca')\n",
        "\n",
        "# Create reference to target table with standardized naming (format: SOURCE_descriptive_name_data)\n",
        "table_ref = dataset_ref.table('ESTADIC_perfil_gestor_direitos_humanos_tipo_orgao_v1')\n",
        "\n",
        "# Configure load job specifying the defined schema\n",
        "job_config = bigquery.LoadJobConfig(schema=schema)\n",
        "\n",
        "# Execute DataFrame load job to BigQuery\n",
        "job = client.load_table_from_dataframe(df, table_ref, job_config=job_config)\n",
        "\n",
        "# Wait for job completion\n",
        "job.result()"
      ],
      "metadata": {
        "id": "ULUfSgayNORE"
      },
      "execution_count": null,
      "outputs": []
    }
  ]
}