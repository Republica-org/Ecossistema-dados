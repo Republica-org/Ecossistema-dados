{
 "cells": [
  {
   "cell_type": "code",
   "execution_count": 1,
   "metadata": {},
   "outputs": [],
   "source": [
    "import pandas as pd\n",
    "import numpy as np\n",
    "import os\n",
    "import pandas_gbq\n",
    "from google.cloud import bigquery\n",
    "import glob\n",
    "import openpyxl"
   ]
  },
  {
   "cell_type": "code",
   "execution_count": 2,
   "metadata": {},
   "outputs": [],
   "source": [
    "os.chdir('G:\\\\\\\\Drives compartilhados\\\\\\\\República.org\\\\\\\\4. Equipes\\\\\\\\Dados e Comunicação\\\\\\\\DADOS\\\\\\\\415 - Repositório de Dados\\\\\\\\Repositório Local')\n"
   ]
  },
  {
   "cell_type": "markdown",
   "metadata": {},
   "source": [
    "Chamando as bases"
   ]
  },
  {
   "cell_type": "code",
   "execution_count": 3,
   "metadata": {},
   "outputs": [
    {
     "data": {
      "text/html": [
       "<div>\n",
       "<style scoped>\n",
       "    .dataframe tbody tr th:only-of-type {\n",
       "        vertical-align: middle;\n",
       "    }\n",
       "\n",
       "    .dataframe tbody tr th {\n",
       "        vertical-align: top;\n",
       "    }\n",
       "\n",
       "    .dataframe thead th {\n",
       "        text-align: right;\n",
       "    }\n",
       "</style>\n",
       "<table border=\"1\" class=\"dataframe\">\n",
       "  <thead>\n",
       "    <tr style=\"text-align: right;\">\n",
       "      <th></th>\n",
       "      <th>Cod Uf</th>\n",
       "      <th>EASS01</th>\n",
       "      <th>EASS03</th>\n",
       "      <th>EASS04</th>\n",
       "      <th>EASS05</th>\n",
       "      <th>EASS06</th>\n",
       "    </tr>\n",
       "  </thead>\n",
       "  <tbody>\n",
       "    <tr>\n",
       "      <th>0</th>\n",
       "      <td>11</td>\n",
       "      <td>Secretaria em conjunto com outras políticas se...</td>\n",
       "      <td>Masculino</td>\n",
       "      <td>50</td>\n",
       "      <td>Branca</td>\n",
       "      <td>Ensino superior completo</td>\n",
       "    </tr>\n",
       "    <tr>\n",
       "      <th>1</th>\n",
       "      <td>12</td>\n",
       "      <td>Secretaria exclusiva</td>\n",
       "      <td>Masculino</td>\n",
       "      <td>43</td>\n",
       "      <td>Branca</td>\n",
       "      <td>Ensino superior completo</td>\n",
       "    </tr>\n",
       "    <tr>\n",
       "      <th>2</th>\n",
       "      <td>13</td>\n",
       "      <td>Secretaria exclusiva</td>\n",
       "      <td>Feminino</td>\n",
       "      <td>45</td>\n",
       "      <td>Pardo</td>\n",
       "      <td>Ensino superior completo</td>\n",
       "    </tr>\n",
       "    <tr>\n",
       "      <th>3</th>\n",
       "      <td>14</td>\n",
       "      <td>Secretaria em conjunto com outras políticas se...</td>\n",
       "      <td>Feminino</td>\n",
       "      <td>37</td>\n",
       "      <td>Branca</td>\n",
       "      <td>Especialização</td>\n",
       "    </tr>\n",
       "    <tr>\n",
       "      <th>4</th>\n",
       "      <td>15</td>\n",
       "      <td>Secretaria em conjunto com outras políticas se...</td>\n",
       "      <td>Masculino</td>\n",
       "      <td>58</td>\n",
       "      <td>Branca</td>\n",
       "      <td>Especialização</td>\n",
       "    </tr>\n",
       "    <tr>\n",
       "      <th>5</th>\n",
       "      <td>16</td>\n",
       "      <td>Secretaria em conjunto com outras políticas se...</td>\n",
       "      <td>Feminino</td>\n",
       "      <td>54</td>\n",
       "      <td>Branca</td>\n",
       "      <td>Especialização</td>\n",
       "    </tr>\n",
       "    <tr>\n",
       "      <th>6</th>\n",
       "      <td>17</td>\n",
       "      <td>Secretaria em conjunto com outras políticas se...</td>\n",
       "      <td>Feminino</td>\n",
       "      <td>54</td>\n",
       "      <td>Branca</td>\n",
       "      <td>Ensino superior completo</td>\n",
       "    </tr>\n",
       "    <tr>\n",
       "      <th>7</th>\n",
       "      <td>21</td>\n",
       "      <td>Secretaria em conjunto com outras políticas se...</td>\n",
       "      <td>Feminino</td>\n",
       "      <td>61</td>\n",
       "      <td>Branca</td>\n",
       "      <td>Especialização</td>\n",
       "    </tr>\n",
       "    <tr>\n",
       "      <th>8</th>\n",
       "      <td>22</td>\n",
       "      <td>Secretaria em conjunto com outras políticas se...</td>\n",
       "      <td>Feminino</td>\n",
       "      <td>49</td>\n",
       "      <td>Branca</td>\n",
       "      <td>Ensino superior completo</td>\n",
       "    </tr>\n",
       "    <tr>\n",
       "      <th>9</th>\n",
       "      <td>23</td>\n",
       "      <td>Secretaria em conjunto com outras políticas se...</td>\n",
       "      <td>Masculino</td>\n",
       "      <td>52</td>\n",
       "      <td>Branca</td>\n",
       "      <td>Especialização</td>\n",
       "    </tr>\n",
       "    <tr>\n",
       "      <th>10</th>\n",
       "      <td>24</td>\n",
       "      <td>Secretaria em conjunto com outras políticas se...</td>\n",
       "      <td>Masculino</td>\n",
       "      <td>49</td>\n",
       "      <td>Branca</td>\n",
       "      <td>Ensino superior completo</td>\n",
       "    </tr>\n",
       "    <tr>\n",
       "      <th>11</th>\n",
       "      <td>25</td>\n",
       "      <td>Secretaria em conjunto com outras políticas se...</td>\n",
       "      <td>Feminino</td>\n",
       "      <td>55</td>\n",
       "      <td>Branca</td>\n",
       "      <td>Mestrado</td>\n",
       "    </tr>\n",
       "    <tr>\n",
       "      <th>12</th>\n",
       "      <td>26</td>\n",
       "      <td>Secretaria em conjunto com outras políticas se...</td>\n",
       "      <td>Masculino</td>\n",
       "      <td>40</td>\n",
       "      <td>Pardo</td>\n",
       "      <td>Ensino superior completo</td>\n",
       "    </tr>\n",
       "    <tr>\n",
       "      <th>13</th>\n",
       "      <td>27</td>\n",
       "      <td>Secretaria exclusiva</td>\n",
       "      <td>Masculino</td>\n",
       "      <td>37</td>\n",
       "      <td>Branca</td>\n",
       "      <td>Ensino médio (2º Grau) incompleto</td>\n",
       "    </tr>\n",
       "    <tr>\n",
       "      <th>14</th>\n",
       "      <td>28</td>\n",
       "      <td>Secretaria em conjunto com outras políticas se...</td>\n",
       "      <td>Masculino</td>\n",
       "      <td>35</td>\n",
       "      <td>Pardo</td>\n",
       "      <td>Ensino superior completo</td>\n",
       "    </tr>\n",
       "    <tr>\n",
       "      <th>15</th>\n",
       "      <td>29</td>\n",
       "      <td>Secretaria em conjunto com outras políticas se...</td>\n",
       "      <td>Masculino</td>\n",
       "      <td>57</td>\n",
       "      <td>Branca</td>\n",
       "      <td>Mestrado</td>\n",
       "    </tr>\n",
       "    <tr>\n",
       "      <th>16</th>\n",
       "      <td>31</td>\n",
       "      <td>Secretaria em conjunto com outras políticas se...</td>\n",
       "      <td>Feminino</td>\n",
       "      <td>52</td>\n",
       "      <td>Branca</td>\n",
       "      <td>Ensino superior completo</td>\n",
       "    </tr>\n",
       "    <tr>\n",
       "      <th>17</th>\n",
       "      <td>32</td>\n",
       "      <td>Secretaria em conjunto com outras políticas se...</td>\n",
       "      <td>Feminino</td>\n",
       "      <td>40</td>\n",
       "      <td>Branca</td>\n",
       "      <td>Mestrado</td>\n",
       "    </tr>\n",
       "    <tr>\n",
       "      <th>18</th>\n",
       "      <td>33</td>\n",
       "      <td>Secretaria em conjunto com outras políticas se...</td>\n",
       "      <td>Masculino</td>\n",
       "      <td>35</td>\n",
       "      <td>Branca</td>\n",
       "      <td>Mestrado</td>\n",
       "    </tr>\n",
       "    <tr>\n",
       "      <th>19</th>\n",
       "      <td>35</td>\n",
       "      <td>Secretaria exclusiva</td>\n",
       "      <td>Masculino</td>\n",
       "      <td>38</td>\n",
       "      <td>Branca</td>\n",
       "      <td>Especialização</td>\n",
       "    </tr>\n",
       "    <tr>\n",
       "      <th>20</th>\n",
       "      <td>41</td>\n",
       "      <td>Secretaria em conjunto com outras políticas se...</td>\n",
       "      <td>Feminino</td>\n",
       "      <td>55</td>\n",
       "      <td>Branca</td>\n",
       "      <td>Especialização</td>\n",
       "    </tr>\n",
       "    <tr>\n",
       "      <th>21</th>\n",
       "      <td>42</td>\n",
       "      <td>Secretaria em conjunto com outras políticas se...</td>\n",
       "      <td>Feminino</td>\n",
       "      <td>43</td>\n",
       "      <td>Branca</td>\n",
       "      <td>Mestrado</td>\n",
       "    </tr>\n",
       "    <tr>\n",
       "      <th>22</th>\n",
       "      <td>43</td>\n",
       "      <td>Secretaria em conjunto com outras políticas se...</td>\n",
       "      <td>Feminino</td>\n",
       "      <td>65</td>\n",
       "      <td>Branca</td>\n",
       "      <td>Especialização</td>\n",
       "    </tr>\n",
       "    <tr>\n",
       "      <th>23</th>\n",
       "      <td>50</td>\n",
       "      <td>Secretaria em conjunto com outras políticas se...</td>\n",
       "      <td>Feminino</td>\n",
       "      <td>53</td>\n",
       "      <td>Pardo</td>\n",
       "      <td>Mestrado</td>\n",
       "    </tr>\n",
       "    <tr>\n",
       "      <th>24</th>\n",
       "      <td>51</td>\n",
       "      <td>Secretaria em conjunto com outras políticas se...</td>\n",
       "      <td>Feminino</td>\n",
       "      <td>32</td>\n",
       "      <td>Branca</td>\n",
       "      <td>Especialização</td>\n",
       "    </tr>\n",
       "    <tr>\n",
       "      <th>25</th>\n",
       "      <td>52</td>\n",
       "      <td>Secretaria em conjunto com outras políticas se...</td>\n",
       "      <td>Masculino</td>\n",
       "      <td>47</td>\n",
       "      <td>Branca</td>\n",
       "      <td>Especialização</td>\n",
       "    </tr>\n",
       "    <tr>\n",
       "      <th>26</th>\n",
       "      <td>53</td>\n",
       "      <td>Secretaria em conjunto com outras políticas se...</td>\n",
       "      <td>Feminino</td>\n",
       "      <td>68</td>\n",
       "      <td>Branca</td>\n",
       "      <td>Especialização</td>\n",
       "    </tr>\n",
       "  </tbody>\n",
       "</table>\n",
       "</div>"
      ],
      "text/plain": [
       "    Cod Uf                                             EASS01     EASS03  \\\n",
       "0       11  Secretaria em conjunto com outras políticas se...  Masculino   \n",
       "1       12                               Secretaria exclusiva  Masculino   \n",
       "2       13                               Secretaria exclusiva   Feminino   \n",
       "3       14  Secretaria em conjunto com outras políticas se...   Feminino   \n",
       "4       15  Secretaria em conjunto com outras políticas se...  Masculino   \n",
       "5       16  Secretaria em conjunto com outras políticas se...   Feminino   \n",
       "6       17  Secretaria em conjunto com outras políticas se...   Feminino   \n",
       "7       21  Secretaria em conjunto com outras políticas se...   Feminino   \n",
       "8       22  Secretaria em conjunto com outras políticas se...   Feminino   \n",
       "9       23  Secretaria em conjunto com outras políticas se...  Masculino   \n",
       "10      24  Secretaria em conjunto com outras políticas se...  Masculino   \n",
       "11      25  Secretaria em conjunto com outras políticas se...   Feminino   \n",
       "12      26  Secretaria em conjunto com outras políticas se...  Masculino   \n",
       "13      27                               Secretaria exclusiva  Masculino   \n",
       "14      28  Secretaria em conjunto com outras políticas se...  Masculino   \n",
       "15      29  Secretaria em conjunto com outras políticas se...  Masculino   \n",
       "16      31  Secretaria em conjunto com outras políticas se...   Feminino   \n",
       "17      32  Secretaria em conjunto com outras políticas se...   Feminino   \n",
       "18      33  Secretaria em conjunto com outras políticas se...  Masculino   \n",
       "19      35                               Secretaria exclusiva  Masculino   \n",
       "20      41  Secretaria em conjunto com outras políticas se...   Feminino   \n",
       "21      42  Secretaria em conjunto com outras políticas se...   Feminino   \n",
       "22      43  Secretaria em conjunto com outras políticas se...   Feminino   \n",
       "23      50  Secretaria em conjunto com outras políticas se...   Feminino   \n",
       "24      51  Secretaria em conjunto com outras políticas se...   Feminino   \n",
       "25      52  Secretaria em conjunto com outras políticas se...  Masculino   \n",
       "26      53  Secretaria em conjunto com outras políticas se...   Feminino   \n",
       "\n",
       "    EASS04  EASS05                             EASS06  \n",
       "0       50  Branca           Ensino superior completo  \n",
       "1       43  Branca           Ensino superior completo  \n",
       "2       45   Pardo           Ensino superior completo  \n",
       "3       37  Branca                     Especialização  \n",
       "4       58  Branca                     Especialização  \n",
       "5       54  Branca                     Especialização  \n",
       "6       54  Branca           Ensino superior completo  \n",
       "7       61  Branca                     Especialização  \n",
       "8       49  Branca           Ensino superior completo  \n",
       "9       52  Branca                     Especialização  \n",
       "10      49  Branca           Ensino superior completo  \n",
       "11      55  Branca                           Mestrado  \n",
       "12      40   Pardo           Ensino superior completo  \n",
       "13      37  Branca  Ensino médio (2º Grau) incompleto  \n",
       "14      35   Pardo           Ensino superior completo  \n",
       "15      57  Branca                           Mestrado  \n",
       "16      52  Branca           Ensino superior completo  \n",
       "17      40  Branca                           Mestrado  \n",
       "18      35  Branca                           Mestrado  \n",
       "19      38  Branca                     Especialização  \n",
       "20      55  Branca                     Especialização  \n",
       "21      43  Branca                           Mestrado  \n",
       "22      65  Branca                     Especialização  \n",
       "23      53   Pardo                           Mestrado  \n",
       "24      32  Branca                     Especialização  \n",
       "25      47  Branca                     Especialização  \n",
       "26      68  Branca                     Especialização  "
      ]
     },
     "execution_count": 3,
     "metadata": {},
     "output_type": "execute_result"
    }
   ],
   "source": [
    "df = pd.read_excel('ESTADIC//Base_ESTADIC_2018.xlsx', sheet_name='Assistência social', nrows=29, usecols=['Cod Uf', 'EASS01','EASS03','EASS04', 'EASS05', 'EASS06'])\n",
    "df"
   ]
  },
  {
   "cell_type": "code",
   "execution_count": 4,
   "metadata": {},
   "outputs": [],
   "source": [
    "uf = pd.read_excel('ESTADIC//Base_ESTADIC_2020.xlsx', sheet_name = 'Variáveis externas', usecols=[1,2,3])"
   ]
  },
  {
   "cell_type": "markdown",
   "metadata": {},
   "source": [
    "Renomeando as colunas"
   ]
  },
  {
   "cell_type": "code",
   "execution_count": 5,
   "metadata": {},
   "outputs": [],
   "source": [
    "df= df.rename(columns={'Cod Uf':'cod_uf',\n",
    "                        'EASS01':'caracterizacao_orgao_gestor',\n",
    "                        'EASS03':'genero',\n",
    "                        'EASS04' :'idade',\n",
    "                        'EASS05':'cor_raca',\n",
    "                        'EASS06':'grau_instrucao'}) "
   ]
  },
  {
   "cell_type": "code",
   "execution_count": 6,
   "metadata": {},
   "outputs": [],
   "source": [
    "##adicionando a coluna de 'ano' \n",
    "df['ano']=2018"
   ]
  },
  {
   "cell_type": "code",
   "execution_count": 7,
   "metadata": {},
   "outputs": [],
   "source": [
    "x= uf.pivot_table(columns=('Código da Unidade da Federação', 'Sigla da Unidade da Federação', 'Nome da Unidade da Federação'), aggfunc='size')\n"
   ]
  },
  {
   "cell_type": "code",
   "execution_count": 8,
   "metadata": {},
   "outputs": [],
   "source": [
    "uf = pd.DataFrame(x).reset_index()[['Código da Unidade da Federação', 'Sigla da Unidade da Federação', 'Nome da Unidade da Federação']]"
   ]
  },
  {
   "cell_type": "code",
   "execution_count": 9,
   "metadata": {},
   "outputs": [],
   "source": [
    "df = df.merge(uf, right_on='Código da Unidade da Federação',left_on='cod_uf') #juntando os dataframes, adicionando sigla e nome das UFs\n"
   ]
  },
  {
   "cell_type": "code",
   "execution_count": 10,
   "metadata": {},
   "outputs": [],
   "source": [
    "df = df.drop(['Código da Unidade da Federação'], axis=1) #eliminando coluna repetida"
   ]
  },
  {
   "cell_type": "code",
   "execution_count": 11,
   "metadata": {},
   "outputs": [],
   "source": [
    "df = df.rename(columns={'Sigla da Unidade da Federação':'sigla_uf',\n",
    "                        'Nome da Unidade da Federação':'uf'}) #padronizando as colunas"
   ]
  },
  {
   "cell_type": "code",
   "execution_count": 12,
   "metadata": {},
   "outputs": [],
   "source": [
    "df['caracterizacao_orgao_gestor']=df['caracterizacao_orgao_gestor'].str.title()"
   ]
  },
  {
   "cell_type": "code",
   "execution_count": 13,
   "metadata": {},
   "outputs": [],
   "source": [
    "#padronizando os dados da coluna 'cor_raca'\n",
    "df['cor_raca'] = np.where(df['cor_raca']=='Pardo','Parda',df['cor_raca'])"
   ]
  },
  {
   "cell_type": "code",
   "execution_count": 14,
   "metadata": {},
   "outputs": [],
   "source": [
    "limites = [0, 30, 50,65,100] #criando uma nova coluna (faixa_etaria) com base na coluna 'idade'\n",
    "categorias = ['Entre 18-29', 'Entre 30-49', 'Entre 50-64', 'Acima de 65']\n",
    "\n",
    "df['faixa_etaria'] = pd.cut(df['idade'], bins=limites, labels=categorias)\n"
   ]
  },
  {
   "cell_type": "code",
   "execution_count": 15,
   "metadata": {},
   "outputs": [],
   "source": [
    "# criando dicionário\n",
    "dict_esco = {'Ensino médio (2º Grau) incompleto':'Até Ensino Médio',\n",
    "             'Ensino superior completo':'Até Ensino Superior Completo',\n",
    "             'Especialização':'Até Pós Graduação ou Mestrado',\n",
    "             'Mestrado':'Até Pós Graduação ou Mestrado'}"
   ]
  },
  {
   "cell_type": "code",
   "execution_count": 16,
   "metadata": {},
   "outputs": [],
   "source": [
    "df = df.replace({'grau_instrucao':dict_esco})"
   ]
  },
  {
   "cell_type": "code",
   "execution_count": 17,
   "metadata": {},
   "outputs": [],
   "source": [
    "df= df[['ano', 'sigla_uf','cod_uf', 'uf', 'caracterizacao_orgao_gestor','genero', 'faixa_etaria', 'cor_raca','grau_instrucao']]"
   ]
  },
  {
   "cell_type": "markdown",
   "metadata": {},
   "source": [
    "Subindo para o GBQ"
   ]
  },
  {
   "cell_type": "code",
   "execution_count": null,
   "metadata": {},
   "outputs": [],
   "source": [
    "client = bigquery.Client()\n",
    "dataset_ref = client.dataset('cargos_lideranca')"
   ]
  },
  {
   "cell_type": "code",
   "execution_count": null,
   "metadata": {},
   "outputs": [
    {
     "name": "stdout",
     "output_type": "stream",
     "text": [
      "<class 'pandas.core.frame.DataFrame'>\n",
      "Int64Index: 27 entries, 0 to 26\n",
      "Data columns (total 9 columns):\n",
      " #   Column                       Non-Null Count  Dtype   \n",
      "---  ------                       --------------  -----   \n",
      " 0   ano                          27 non-null     int64   \n",
      " 1   sigla_uf                     27 non-null     object  \n",
      " 2   cod_uf                       27 non-null     int64   \n",
      " 3   uf                           27 non-null     object  \n",
      " 4   caracterizacao_orgao_gestor  27 non-null     object  \n",
      " 5   genero                       27 non-null     object  \n",
      " 6   faixa_etaria                 27 non-null     category\n",
      " 7   cor_raca                     27 non-null     object  \n",
      " 8   grau_instrucao               27 non-null     object  \n",
      "dtypes: category(1), int64(2), object(6)\n",
      "memory usage: 2.1+ KB\n"
     ]
    }
   ],
   "source": [
    "df.info()"
   ]
  },
  {
   "cell_type": "code",
   "execution_count": null,
   "metadata": {},
   "outputs": [],
   "source": [
    "schema=[bigquery.SchemaField('ano','INTEGER',description='Ano da apuração daquele dado'),\n",
    "        bigquery.SchemaField('sigla_uf','STRING',description='Sigla da UF'),\n",
    "        bigquery.SchemaField('cod_uf','INTEGER',description='Código do IBGE da UF'),\n",
    "        bigquery.SchemaField('uf','STRING',description='Nome da UF'), \n",
    "        bigquery.SchemaField('caracterizacao_orgao_gestor','STRING',description='Caracterização do órgão no qual o gestor está'), \n",
    "        bigquery.SchemaField('genero','STRING',description='Gênero autodeclarado ou não'),\n",
    "        bigquery.SchemaField('faixa_etaria','STRING',description='faixa etária da observação'),\n",
    "        bigquery.SchemaField('cor_raca','STRING',description='Raça/cor da pessoa observada'),\n",
    "        bigquery.SchemaField('grau_instrucao','STRING',description='Escolaridade da pessoa ou do vínculo observado com detalhamento na pós-graduação')\n",
    "        ]\n"
   ]
  },
  {
   "cell_type": "code",
   "execution_count": null,
   "metadata": {},
   "outputs": [
    {
     "data": {
      "text/plain": [
       "LoadJob<project=repositoriodedadosgpsp, location=US, id=2a78818d-a88d-4956-8894-6ef5cff4cb7c>"
      ]
     },
     "execution_count": 28,
     "metadata": {},
     "output_type": "execute_result"
    }
   ],
   "source": [
    "table_ref = dataset_ref.table('ESTADIC_perfil_gestor_assistencia_social_tipo_orgao')\n",
    "job_config = bigquery.LoadJobConfig(schema=schema)\n",
    "job = client.load_table_from_dataframe(df,table_ref, job_config=job_config)\n",
    "job.result() "
   ]
  }
 ],
 "metadata": {
  "kernelspec": {
   "display_name": "base",
   "language": "python",
   "name": "python3"
  },
  "language_info": {
   "codemirror_mode": {
    "name": "ipython",
    "version": 3
   },
   "file_extension": ".py",
   "mimetype": "text/x-python",
   "name": "python",
   "nbconvert_exporter": "python",
   "pygments_lexer": "ipython3",
   "version": "3.11.4"
  }
 },
 "nbformat": 4,
 "nbformat_minor": 2
}
