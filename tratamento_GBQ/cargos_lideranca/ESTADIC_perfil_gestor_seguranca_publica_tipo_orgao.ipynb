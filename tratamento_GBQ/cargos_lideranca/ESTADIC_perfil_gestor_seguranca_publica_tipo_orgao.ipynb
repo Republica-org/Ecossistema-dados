{
  "nbformat": 4,
  "nbformat_minor": 0,
  "metadata": {
    "colab": {
      "provenance": []
    },
    "kernelspec": {
      "name": "python3",
      "display_name": "Python 3"
    },
    "language_info": {
      "name": "python"
    }
  },
  "cells": [
    {
      "cell_type": "markdown",
      "source": [
        "# Dependências"
      ],
      "metadata": {
        "id": "5rK9jR4JExOG"
      }
    },
    {
      "cell_type": "code",
      "source": [
        "# Install required Google Cloud packages (commented out as these are typically one-time setup commands)\n",
        "# !pip install gcloud\n",
        "# !gcloud auth application-default login\n",
        "\n",
        "# Import necessary Python libraries\n",
        "import pandas as pd                # Data manipulation and analysis\n",
        "import numpy as np                 # Numerical computing\n",
        "import time                        # Time-related functions\n",
        "import os                          # Operating system interfaces\n",
        "import pandas_gbq                  # Pandas integration with BigQuery\n",
        "from google.cloud import bigquery  # BigQuery client library\n",
        "import glob                        # File path pattern matching\n",
        "import openpyxl                    # Excel file handling\n",
        "import csv                         # CSV file handling\n",
        "import re                          # Regular expressions\n",
        "\n",
        "# Note: The actual imports remain exactly as in the original code"
      ],
      "metadata": {
        "id": "Xua0hy__Epvn"
      },
      "execution_count": null,
      "outputs": []
    },
    {
      "cell_type": "markdown",
      "source": [
        "# Tratamento"
      ],
      "metadata": {
        "id": "RegptitXEzOr"
      }
    },
    {
      "cell_type": "code",
      "source": [
        "# Load Public Safety data from Excel file\n",
        "df = pd.read_excel(\"Base_Estadic_2023(2).xlsx\", sheet_name='Segurança Pública')\n",
        "\n",
        "# Select relevant columns and preview first 10 rows\n",
        "df = df[['Sigla UF', 'Cod UF', 'ESEG01', 'ESEG04', 'ESEG05', 'ESEG06', 'ESEG07']]\n",
        "df['ano'] = 2023  # Add year column\n",
        "\n",
        "# Rename columns for clarity\n",
        "df = df.rename(columns={\n",
        "    'Sigla UF': 'sigla_uf',\n",
        "    'Cod UF': 'cod_uf',\n",
        "    'ESEG01': 'caracterizacao_orgao_gestor',\n",
        "    'ESEG04': 'genero',\n",
        "    'ESEG05': 'idade',\n",
        "    'ESEG06': 'cor_raca',\n",
        "    'ESEG07': 'grau_instrucao'\n",
        "})\n",
        "\n",
        "# Standardize text capitalization\n",
        "df['caracterizacao_orgao_gestor'] = df['caracterizacao_orgao_gestor'].str.title()\n",
        "\n",
        "# Define function to correct common typos in organization names\n",
        "def transformar(nome):\n",
        "    nome = re.sub(r\"\\bSeg. \\b\", \"Segurança \", nome)\n",
        "    nome = re.sub(r\"\\bSocail\\b\", \"Social\", nome)\n",
        "    nome = re.sub(r\"\\Segursança\\b\", \"Segurança\", nome)\n",
        "    nome = re.sub(r\"\\Daa\\b\", \"Da\", nome)\n",
        "    return nome\n",
        "\n",
        "# Apply text corrections to organization names\n",
        "df['caracterizacao_orgao_gestor'] = df['caracterizacao_orgao_gestor'].apply(transformar)\n",
        "\n",
        "# Handle missing/refused data - standardize to 'Sem dados'\n",
        "for col in ['caracterizacao_orgao_gestor', 'genero', 'cor_raca', 'grau_instrucao']:\n",
        "    df[col] = np.where(df[col].isin(['Recusa', 'Não Informou', 'Não informou']),\n",
        "                     'Sem dados',\n",
        "                     df[col])\n",
        "\n",
        "# Convert age to numeric and handle missing values\n",
        "df['idade'] = np.where(df['idade'].isin(['Recusa', 'Não informou']), np.nan, df['idade'])\n",
        "df['idade'] = pd.to_numeric(df['idade'])\n",
        "\n",
        "# Standardize race/color category\n",
        "df['cor_raca'] = np.where(df['cor_raca'] == 'Pardo', 'Parda', df['cor_raca'])\n",
        "\n",
        "# Create age groups\n",
        "limites = [18, 30, 50, 65, 100]\n",
        "categorias = ['Entre 18-29', 'Entre 30-49', 'Entre 50-64', 'Acima de 65']\n",
        "df['faixa_etaria'] = pd.cut(df['idade'], bins=limites, labels=categorias, right=False)\n",
        "\n",
        "# Select final columns\n",
        "df = df[['ano', 'sigla_uf', 'cod_uf', 'caracterizacao_orgao_gestor',\n",
        "         'genero', 'faixa_etaria', 'cor_raca', 'grau_instrucao']]\n",
        "\n",
        "# Standardize education levels\n",
        "dict_esco = {\n",
        "    'Ensino superior completo': 'Até Ensino Superior Completo',\n",
        "    'Especialização': 'Até Pós Graduação ou Mestrado',\n",
        "    'Mestrado': 'Até Pós Graduação ou Mestrado',\n",
        "    'Doutorado': 'Até Doutorado'\n",
        "}\n",
        "df = df.replace({'grau_instrucao': dict_esco})\n",
        "\n",
        "# Preview final data and structure\n",
        "df.head()\n",
        "df.info()"
      ],
      "metadata": {
        "id": "bjp4G7rnE9KM"
      },
      "execution_count": null,
      "outputs": []
    },
    {
      "cell_type": "code",
      "source": [],
      "metadata": {
        "colab": {
          "base_uri": "https://localhost:8080/"
        },
        "id": "DQ56O72YwZTz",
        "outputId": "c23dbf58-2b6a-497a-9304-0801e524d105"
      },
      "execution_count": null,
      "outputs": [
        {
          "output_type": "stream",
          "name": "stdout",
          "text": [
            "<class 'pandas.core.frame.DataFrame'>\n",
            "RangeIndex: 27 entries, 0 to 26\n",
            "Data columns (total 8 columns):\n",
            " #   Column                       Non-Null Count  Dtype   \n",
            "---  ------                       --------------  -----   \n",
            " 0   ano                          27 non-null     int64   \n",
            " 1   sigla_uf                     27 non-null     object  \n",
            " 2   cod_uf                       27 non-null     int64   \n",
            " 3   caracterizacao_orgao_gestor  27 non-null     object  \n",
            " 4   genero                       27 non-null     object  \n",
            " 5   faixa_etaria                 25 non-null     category\n",
            " 6   cor_raca                     27 non-null     object  \n",
            " 7   grau_instrucao               27 non-null     object  \n",
            "dtypes: category(1), int64(2), object(5)\n",
            "memory usage: 1.8+ KB\n"
          ]
        }
      ]
    },
    {
      "cell_type": "markdown",
      "source": [
        "# Upload"
      ],
      "metadata": {
        "id": "YlU08MWaE1_8"
      }
    },
    {
      "cell_type": "code",
      "source": [],
      "metadata": {
        "id": "MlgP2mVQF4PM"
      },
      "execution_count": null,
      "outputs": []
    },
    {
      "cell_type": "code",
      "source": [
        "# Define the table schema for BigQuery with field types and descriptions\n",
        "schema=[\n",
        "    bigquery.SchemaField('ano','INTEGER',description='Ano da apuração daquele dado'),\n",
        "    bigquery.SchemaField('sigla_uf','STRING',description='sigla da UF'),\n",
        "    bigquery.SchemaField('cod_uf','INTEGER',description='Código do IBGE da UF'),\n",
        "    bigquery.SchemaField('caracterizacao_orgao_gestor','STRING',description='Caracterização do órgão no qual o gestor está'),\n",
        "    bigquery.SchemaField('genero','STRING',description='Gênero autodeclarado ou não'),\n",
        "    bigquery.SchemaField('faixa_etaria','STRING',description='faixa etária da observação'),\n",
        "    bigquery.SchemaField('cor_raca','STRING',description='Raça/cor da pessoa observada'),\n",
        "    bigquery.SchemaField('grau_instrucao','STRING',description='Escolaridade da pessoa ou do vínculo observado com detalhamento na pós-graduação')\n",
        "]\n",
        "\n",
        "# Initialize the BigQuery client with the specified project\n",
        "client = bigquery.Client(project='repositoriodedadosgpsp')\n",
        "\n",
        "# Create a reference to the target dataset\n",
        "dataset_ref = client.dataset('cargos_lideranca')\n",
        "\n",
        "# Create a reference to the target table with standardized naming convention\n",
        "table_ref = dataset_ref.table('ESTADIC_perfil_gestor_seguranca_publica_tipo_orgao_v1')\n",
        "\n",
        "# Configure the load job with the defined schema\n",
        "job_config = bigquery.LoadJobConfig(schema=schema)\n",
        "\n",
        "# Execute the load job to upload the DataFrame to BigQuery\n",
        "job = client.load_table_from_dataframe(df, table_ref, job_config=job_config)\n",
        "\n",
        "# Wait for the job to complete\n",
        "job.result()"
      ],
      "metadata": {
        "id": "wQooeqdCFy8s"
      },
      "execution_count": null,
      "outputs": []
    }
  ]
}