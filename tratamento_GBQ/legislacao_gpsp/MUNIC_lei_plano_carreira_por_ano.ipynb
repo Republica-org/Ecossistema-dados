{
 "cells": [
  {
   "cell_type": "code",
   "execution_count": 1,
   "metadata": {},
   "outputs": [],
   "source": [
    "import pandas as pd\n",
    "import numpy as np\n",
    "import os\n",
    "import pandas_gbq\n",
    "from google.cloud import bigquery\n",
    "import glob\n",
    "import openpyxl\n",
    "import re"
   ]
  },
  {
   "cell_type": "code",
   "execution_count": 2,
   "metadata": {},
   "outputs": [],
   "source": [
    "os.chdir('G:\\\\\\\\Drives compartilhados\\\\\\\\República.org\\\\\\\\4. Equipes\\\\\\\\Dados e Comunicação\\\\\\\\DADOS\\\\\\\\415 - Repositório de Dados\\\\\\\\Repositório Local')\n"
   ]
  },
  {
   "cell_type": "markdown",
   "metadata": {},
   "source": [
    "Chamando as bases"
   ]
  },
  {
   "cell_type": "code",
   "execution_count": 3,
   "metadata": {},
   "outputs": [
    {
     "data": {
      "text/html": [
       "<div>\n",
       "<style scoped>\n",
       "    .dataframe tbody tr th:only-of-type {\n",
       "        vertical-align: middle;\n",
       "    }\n",
       "\n",
       "    .dataframe tbody tr th {\n",
       "        vertical-align: top;\n",
       "    }\n",
       "\n",
       "    .dataframe thead th {\n",
       "        text-align: right;\n",
       "    }\n",
       "</style>\n",
       "<table border=\"1\" class=\"dataframe\">\n",
       "  <thead>\n",
       "    <tr style=\"text-align: right;\">\n",
       "      <th></th>\n",
       "      <th>CodMun</th>\n",
       "      <th>Medu161a</th>\n",
       "      <th>MEDU161b</th>\n",
       "    </tr>\n",
       "  </thead>\n",
       "  <tbody>\n",
       "    <tr>\n",
       "      <th>0</th>\n",
       "      <td>1100015</td>\n",
       "      <td>-</td>\n",
       "      <td>-</td>\n",
       "    </tr>\n",
       "    <tr>\n",
       "      <th>1</th>\n",
       "      <td>1100023</td>\n",
       "      <td>954</td>\n",
       "      <td>2002</td>\n",
       "    </tr>\n",
       "    <tr>\n",
       "      <th>2</th>\n",
       "      <td>1100031</td>\n",
       "      <td>616</td>\n",
       "      <td>2009</td>\n",
       "    </tr>\n",
       "    <tr>\n",
       "      <th>3</th>\n",
       "      <td>1100049</td>\n",
       "      <td>2736</td>\n",
       "      <td>2010</td>\n",
       "    </tr>\n",
       "    <tr>\n",
       "      <th>4</th>\n",
       "      <td>1100056</td>\n",
       "      <td>1947</td>\n",
       "      <td>2011</td>\n",
       "    </tr>\n",
       "    <tr>\n",
       "      <th>...</th>\n",
       "      <td>...</td>\n",
       "      <td>...</td>\n",
       "      <td>...</td>\n",
       "    </tr>\n",
       "    <tr>\n",
       "      <th>5565</th>\n",
       "      <td>5222005</td>\n",
       "      <td>879</td>\n",
       "      <td>2008</td>\n",
       "    </tr>\n",
       "    <tr>\n",
       "      <th>5566</th>\n",
       "      <td>5222054</td>\n",
       "      <td>574</td>\n",
       "      <td>2011</td>\n",
       "    </tr>\n",
       "    <tr>\n",
       "      <th>5567</th>\n",
       "      <td>5222203</td>\n",
       "      <td>222</td>\n",
       "      <td>2009</td>\n",
       "    </tr>\n",
       "    <tr>\n",
       "      <th>5568</th>\n",
       "      <td>5222302</td>\n",
       "      <td>414</td>\n",
       "      <td>2009</td>\n",
       "    </tr>\n",
       "    <tr>\n",
       "      <th>5569</th>\n",
       "      <td>5300108</td>\n",
       "      <td>5105</td>\n",
       "      <td>2013</td>\n",
       "    </tr>\n",
       "  </tbody>\n",
       "</table>\n",
       "<p>5570 rows × 3 columns</p>\n",
       "</div>"
      ],
      "text/plain": [
       "       CodMun Medu161a MEDU161b\n",
       "0     1100015        -        -\n",
       "1     1100023      954     2002\n",
       "2     1100031      616     2009\n",
       "3     1100049     2736     2010\n",
       "4     1100056     1947     2011\n",
       "...       ...      ...      ...\n",
       "5565  5222005      879     2008\n",
       "5566  5222054      574     2011\n",
       "5567  5222203      222     2009\n",
       "5568  5222302      414     2009\n",
       "5569  5300108     5105     2013\n",
       "\n",
       "[5570 rows x 3 columns]"
      ]
     },
     "execution_count": 3,
     "metadata": {},
     "output_type": "execute_result"
    }
   ],
   "source": [
    "df21 = pd.read_excel('MUNIC//Base_MUNIC_2021.xlsx', sheet_name='Educação', usecols=['CodMun','Medu161a','MEDU161b'])\n",
    "df21"
   ]
  },
  {
   "cell_type": "code",
   "execution_count": 4,
   "metadata": {},
   "outputs": [
    {
     "data": {
      "text/html": [
       "<div>\n",
       "<style scoped>\n",
       "    .dataframe tbody tr th:only-of-type {\n",
       "        vertical-align: middle;\n",
       "    }\n",
       "\n",
       "    .dataframe tbody tr th {\n",
       "        vertical-align: top;\n",
       "    }\n",
       "\n",
       "    .dataframe thead th {\n",
       "        text-align: right;\n",
       "    }\n",
       "</style>\n",
       "<table border=\"1\" class=\"dataframe\">\n",
       "  <thead>\n",
       "    <tr style=\"text-align: right;\">\n",
       "      <th></th>\n",
       "      <th>CodMun</th>\n",
       "      <th>UF</th>\n",
       "      <th>Cod UF</th>\n",
       "      <th>Mun</th>\n",
       "    </tr>\n",
       "  </thead>\n",
       "  <tbody>\n",
       "    <tr>\n",
       "      <th>0</th>\n",
       "      <td>1100015</td>\n",
       "      <td>RO</td>\n",
       "      <td>11</td>\n",
       "      <td>Alta Floresta DOeste</td>\n",
       "    </tr>\n",
       "    <tr>\n",
       "      <th>1</th>\n",
       "      <td>1100023</td>\n",
       "      <td>RO</td>\n",
       "      <td>11</td>\n",
       "      <td>Ariquemes</td>\n",
       "    </tr>\n",
       "    <tr>\n",
       "      <th>2</th>\n",
       "      <td>1100031</td>\n",
       "      <td>RO</td>\n",
       "      <td>11</td>\n",
       "      <td>Cabixi</td>\n",
       "    </tr>\n",
       "    <tr>\n",
       "      <th>3</th>\n",
       "      <td>1100049</td>\n",
       "      <td>RO</td>\n",
       "      <td>11</td>\n",
       "      <td>Cacoal</td>\n",
       "    </tr>\n",
       "    <tr>\n",
       "      <th>4</th>\n",
       "      <td>1100056</td>\n",
       "      <td>RO</td>\n",
       "      <td>11</td>\n",
       "      <td>Cerejeiras</td>\n",
       "    </tr>\n",
       "    <tr>\n",
       "      <th>...</th>\n",
       "      <td>...</td>\n",
       "      <td>...</td>\n",
       "      <td>...</td>\n",
       "      <td>...</td>\n",
       "    </tr>\n",
       "    <tr>\n",
       "      <th>5565</th>\n",
       "      <td>5222005</td>\n",
       "      <td>GO</td>\n",
       "      <td>52</td>\n",
       "      <td>Vianópolis</td>\n",
       "    </tr>\n",
       "    <tr>\n",
       "      <th>5566</th>\n",
       "      <td>5222054</td>\n",
       "      <td>GO</td>\n",
       "      <td>52</td>\n",
       "      <td>Vicentinópolis</td>\n",
       "    </tr>\n",
       "    <tr>\n",
       "      <th>5567</th>\n",
       "      <td>5222203</td>\n",
       "      <td>GO</td>\n",
       "      <td>52</td>\n",
       "      <td>Vila Boa</td>\n",
       "    </tr>\n",
       "    <tr>\n",
       "      <th>5568</th>\n",
       "      <td>5222302</td>\n",
       "      <td>GO</td>\n",
       "      <td>52</td>\n",
       "      <td>Vila Propício</td>\n",
       "    </tr>\n",
       "    <tr>\n",
       "      <th>5569</th>\n",
       "      <td>5300108</td>\n",
       "      <td>DF</td>\n",
       "      <td>53</td>\n",
       "      <td>Brasília</td>\n",
       "    </tr>\n",
       "  </tbody>\n",
       "</table>\n",
       "<p>5570 rows × 4 columns</p>\n",
       "</div>"
      ],
      "text/plain": [
       "       CodMun  UF  Cod UF                   Mun\n",
       "0     1100015  RO      11  Alta Floresta DOeste\n",
       "1     1100023  RO      11             Ariquemes\n",
       "2     1100031  RO      11                Cabixi\n",
       "3     1100049  RO      11                Cacoal\n",
       "4     1100056  RO      11            Cerejeiras\n",
       "...       ...  ..     ...                   ...\n",
       "5565  5222005  GO      52            Vianópolis\n",
       "5566  5222054  GO      52        Vicentinópolis\n",
       "5567  5222203  GO      52              Vila Boa\n",
       "5568  5222302  GO      52         Vila Propício\n",
       "5569  5300108  DF      53              Brasília\n",
       "\n",
       "[5570 rows x 4 columns]"
      ]
     },
     "execution_count": 4,
     "metadata": {},
     "output_type": "execute_result"
    }
   ],
   "source": [
    "uf = pd.read_excel('MUNIC//Base_MUNIC_2021.xlsx', sheet_name = 'Variáveis externas', usecols=[0,1,2,3])\n",
    "uf "
   ]
  },
  {
   "cell_type": "markdown",
   "metadata": {},
   "source": [
    "Renomeando as colunas"
   ]
  },
  {
   "cell_type": "code",
   "execution_count": 5,
   "metadata": {},
   "outputs": [],
   "source": [
    "df21= df21.rename(columns={'CodMun':'id_municipio',\n",
    "                           'Medu161a':'lei_criacao_plano_carreira',\n",
    "                           'MEDU161b':'ano_criacao_lei'}) "
   ]
  },
  {
   "cell_type": "code",
   "execution_count": 6,
   "metadata": {},
   "outputs": [],
   "source": [
    "##adicionando a coluna de 'ano' em cada um dos dfs\n",
    "df21['ano']=2021 "
   ]
  },
  {
   "cell_type": "code",
   "execution_count": 7,
   "metadata": {},
   "outputs": [],
   "source": [
    "x= uf.pivot_table(columns=('CodMun', 'UF','Cod UF', 'Mun'), aggfunc='size')\n"
   ]
  },
  {
   "cell_type": "code",
   "execution_count": 8,
   "metadata": {},
   "outputs": [],
   "source": [
    "uf = pd.DataFrame(x).reset_index()[['CodMun', 'UF','Cod UF', 'Mun']]"
   ]
  },
  {
   "cell_type": "code",
   "execution_count": 9,
   "metadata": {},
   "outputs": [],
   "source": [
    "df = df21.merge(uf, right_on='CodMun',left_on='id_municipio') #adicionando siglas e nome das UFs e dos municipios\n"
   ]
  },
  {
   "cell_type": "code",
   "execution_count": 10,
   "metadata": {},
   "outputs": [],
   "source": [
    "df = df.drop(['CodMun'], axis=1) #eliminando coluna repetida"
   ]
  },
  {
   "cell_type": "code",
   "execution_count": 11,
   "metadata": {},
   "outputs": [],
   "source": [
    "df= df.rename(columns={'UF':'sigla_uf',\n",
    "                'Cod UF':'cod_uf',\n",
    "                'Mun':'nome_municipio'}) #padronizando"
   ]
  },
  {
   "cell_type": "code",
   "execution_count": 13,
   "metadata": {},
   "outputs": [
    {
     "data": {
      "text/plain": [
       "Index(['id_municipio', 'lei_criacao_plano_carreira', 'ano_criacao_lei', 'ano',\n",
       "       'sigla_uf', 'cod_uf', 'nome_municipio'],\n",
       "      dtype='object')"
      ]
     },
     "execution_count": 13,
     "metadata": {},
     "output_type": "execute_result"
    }
   ],
   "source": [
    "df.columns"
   ]
  },
  {
   "cell_type": "code",
   "execution_count": 14,
   "metadata": {},
   "outputs": [],
   "source": [
    "#padronizando dados das colunas\n",
    "df['lei_criacao_plano_carreira']=np.where(df['lei_criacao_plano_carreira']=='-','Sem dados',df['lei_criacao_plano_carreira'])\n",
    "df['lei_criacao_plano_carreira']=np.where(df['lei_criacao_plano_carreira']=='(*) Não soube informar','Sem dados',df['lei_criacao_plano_carreira'])\n",
    "\n",
    "df['ano_criacao_lei']=np.where(df['ano_criacao_lei']=='(*) Não soube informar',np.nan,df['ano_criacao_lei'])\n",
    "df['ano_criacao_lei']=np.where(df['ano_criacao_lei']=='Não informou',np.nan,df['ano_criacao_lei'])\n",
    "df['ano_criacao_lei']=np.where(df['ano_criacao_lei']=='-',np.nan,df['ano_criacao_lei'])\n",
    "df['ano_criacao_lei']=np.where(df['ano_criacao_lei']=='Recusa',np.nan,df['ano_criacao_lei'])\n"
   ]
  },
  {
   "cell_type": "code",
   "execution_count": 44,
   "metadata": {},
   "outputs": [
    {
     "data": {
      "text/plain": [
       "array([  nan, 2002., 2009., 2010., 2011., 2008., 2013., 2019., 2007.,\n",
       "       2001., 2012., 2015., 2005., 2017., 2004., 2014., 2020., 2016.,\n",
       "       1999., 2021., 1998., 2006., 2018., 2000., 2003., 1991., 1997.,\n",
       "       1990., 1994., 1996., 1986., 1995., 1988., 1993., 1989., 1992.,\n",
       "       1987., 1983., 1976.])"
      ]
     },
     "execution_count": 44,
     "metadata": {},
     "output_type": "execute_result"
    }
   ],
   "source": [
    "df['ano_criacao_lei'].unique()"
   ]
  },
  {
   "cell_type": "code",
   "execution_count": 49,
   "metadata": {},
   "outputs": [
    {
     "name": "stderr",
     "output_type": "stream",
     "text": [
      "C:\\Users\\ana.sales_republica\\AppData\\Local\\Temp\\ipykernel_15804\\2967302833.py:4: SettingWithCopyWarning: \n",
      "A value is trying to be set on a copy of a slice from a DataFrame.\n",
      "Try using .loc[row_indexer,col_indexer] = value instead\n",
      "\n",
      "See the caveats in the documentation: https://pandas.pydata.org/pandas-docs/stable/user_guide/indexing.html#returning-a-view-versus-a-copy\n",
      "  df['periodo_anual'] = pd.cut(df['ano_criacao_lei'], bins=limites, labels=categorias)\n"
     ]
    }
   ],
   "source": [
    "limites = [0,1980,1990,2000, 2010, 2020, 9999] #criando uma nova coluna (periodo_anual) com base na coluna 'ano_criacao_lei'\n",
    "categorias = ['Década de 70','Década de 80','Década de 90', 'Década de 2000', \"Década de 2010\", \"Década de 2020\" ]\n",
    "\n",
    "df['periodo_anual'] = pd.cut(df['ano_criacao_lei'], bins=limites, labels=categorias)"
   ]
  },
  {
   "cell_type": "code",
   "execution_count": 39,
   "metadata": {},
   "outputs": [
    {
     "name": "stderr",
     "output_type": "stream",
     "text": [
      "C:\\Users\\ana.sales_republica\\AppData\\Local\\Temp\\ipykernel_15804\\2865004523.py:1: SettingWithCopyWarning: \n",
      "A value is trying to be set on a copy of a slice from a DataFrame.\n",
      "Try using .loc[row_indexer,col_indexer] = value instead\n",
      "\n",
      "See the caveats in the documentation: https://pandas.pydata.org/pandas-docs/stable/user_guide/indexing.html#returning-a-view-versus-a-copy\n",
      "  df['ano_criacao_lei'] = df['ano_criacao_lei'].astype('float') ##transformando em float para obter categoria\n"
     ]
    }
   ],
   "source": [
    "df['ano_criacao_lei'] = df['ano_criacao_lei'].astype('float') ##transformando em float para obter categoria"
   ]
  },
  {
   "cell_type": "code",
   "execution_count": 29,
   "metadata": {},
   "outputs": [
    {
     "data": {
      "text/html": [
       "<div>\n",
       "<style scoped>\n",
       "    .dataframe tbody tr th:only-of-type {\n",
       "        vertical-align: middle;\n",
       "    }\n",
       "\n",
       "    .dataframe tbody tr th {\n",
       "        vertical-align: top;\n",
       "    }\n",
       "\n",
       "    .dataframe thead th {\n",
       "        text-align: right;\n",
       "    }\n",
       "</style>\n",
       "<table border=\"1\" class=\"dataframe\">\n",
       "  <thead>\n",
       "    <tr style=\"text-align: right;\">\n",
       "      <th></th>\n",
       "      <th>ano</th>\n",
       "      <th>sigla_uf</th>\n",
       "      <th>id_municipio</th>\n",
       "      <th>nome_municipio</th>\n",
       "      <th>ano_criacao_lei</th>\n",
       "      <th>lei_criacao_plano_carreira</th>\n",
       "      <th>periodo_anual</th>\n",
       "    </tr>\n",
       "  </thead>\n",
       "  <tbody>\n",
       "    <tr>\n",
       "      <th>1</th>\n",
       "      <td>2021</td>\n",
       "      <td>RO</td>\n",
       "      <td>1100023</td>\n",
       "      <td>Ariquemes</td>\n",
       "      <td>2002.0</td>\n",
       "      <td>954</td>\n",
       "      <td>Década de 2000</td>\n",
       "    </tr>\n",
       "    <tr>\n",
       "      <th>2</th>\n",
       "      <td>2021</td>\n",
       "      <td>RO</td>\n",
       "      <td>1100031</td>\n",
       "      <td>Cabixi</td>\n",
       "      <td>2009.0</td>\n",
       "      <td>616</td>\n",
       "      <td>Década de 2000</td>\n",
       "    </tr>\n",
       "    <tr>\n",
       "      <th>3</th>\n",
       "      <td>2021</td>\n",
       "      <td>RO</td>\n",
       "      <td>1100049</td>\n",
       "      <td>Cacoal</td>\n",
       "      <td>2010.0</td>\n",
       "      <td>2736</td>\n",
       "      <td>Década de 2000</td>\n",
       "    </tr>\n",
       "    <tr>\n",
       "      <th>5</th>\n",
       "      <td>2021</td>\n",
       "      <td>RO</td>\n",
       "      <td>1100064</td>\n",
       "      <td>Colorado do Oeste</td>\n",
       "      <td>2008.0</td>\n",
       "      <td>40</td>\n",
       "      <td>Década de 2000</td>\n",
       "    </tr>\n",
       "    <tr>\n",
       "      <th>10</th>\n",
       "      <td>2021</td>\n",
       "      <td>RO</td>\n",
       "      <td>1100114</td>\n",
       "      <td>Jaru</td>\n",
       "      <td>2007.0</td>\n",
       "      <td>1036</td>\n",
       "      <td>Década de 2000</td>\n",
       "    </tr>\n",
       "    <tr>\n",
       "      <th>...</th>\n",
       "      <td>...</td>\n",
       "      <td>...</td>\n",
       "      <td>...</td>\n",
       "      <td>...</td>\n",
       "      <td>...</td>\n",
       "      <td>...</td>\n",
       "      <td>...</td>\n",
       "    </tr>\n",
       "    <tr>\n",
       "      <th>5558</th>\n",
       "      <td>2021</td>\n",
       "      <td>GO</td>\n",
       "      <td>5221551</td>\n",
       "      <td>Turvelândia</td>\n",
       "      <td>2007.0</td>\n",
       "      <td>156</td>\n",
       "      <td>Década de 2000</td>\n",
       "    </tr>\n",
       "    <tr>\n",
       "      <th>5561</th>\n",
       "      <td>2021</td>\n",
       "      <td>GO</td>\n",
       "      <td>5221700</td>\n",
       "      <td>Uruana</td>\n",
       "      <td>2004.0</td>\n",
       "      <td>934</td>\n",
       "      <td>Década de 2000</td>\n",
       "    </tr>\n",
       "    <tr>\n",
       "      <th>5565</th>\n",
       "      <td>2021</td>\n",
       "      <td>GO</td>\n",
       "      <td>5222005</td>\n",
       "      <td>Vianópolis</td>\n",
       "      <td>2008.0</td>\n",
       "      <td>879</td>\n",
       "      <td>Década de 2000</td>\n",
       "    </tr>\n",
       "    <tr>\n",
       "      <th>5567</th>\n",
       "      <td>2021</td>\n",
       "      <td>GO</td>\n",
       "      <td>5222203</td>\n",
       "      <td>Vila Boa</td>\n",
       "      <td>2009.0</td>\n",
       "      <td>222</td>\n",
       "      <td>Década de 2000</td>\n",
       "    </tr>\n",
       "    <tr>\n",
       "      <th>5568</th>\n",
       "      <td>2021</td>\n",
       "      <td>GO</td>\n",
       "      <td>5222302</td>\n",
       "      <td>Vila Propício</td>\n",
       "      <td>2009.0</td>\n",
       "      <td>414</td>\n",
       "      <td>Década de 2000</td>\n",
       "    </tr>\n",
       "  </tbody>\n",
       "</table>\n",
       "<p>2615 rows × 7 columns</p>\n",
       "</div>"
      ],
      "text/plain": [
       "       ano sigla_uf  id_municipio     nome_municipio  ano_criacao_lei  \\\n",
       "1     2021       RO       1100023          Ariquemes           2002.0   \n",
       "2     2021       RO       1100031             Cabixi           2009.0   \n",
       "3     2021       RO       1100049             Cacoal           2010.0   \n",
       "5     2021       RO       1100064  Colorado do Oeste           2008.0   \n",
       "10    2021       RO       1100114               Jaru           2007.0   \n",
       "...    ...      ...           ...                ...              ...   \n",
       "5558  2021       GO       5221551        Turvelândia           2007.0   \n",
       "5561  2021       GO       5221700             Uruana           2004.0   \n",
       "5565  2021       GO       5222005         Vianópolis           2008.0   \n",
       "5567  2021       GO       5222203           Vila Boa           2009.0   \n",
       "5568  2021       GO       5222302      Vila Propício           2009.0   \n",
       "\n",
       "     lei_criacao_plano_carreira   periodo_anual  \n",
       "1                           954  Década de 2000  \n",
       "2                           616  Década de 2000  \n",
       "3                          2736  Década de 2000  \n",
       "5                            40  Década de 2000  \n",
       "10                         1036  Década de 2000  \n",
       "...                         ...             ...  \n",
       "5558                        156  Década de 2000  \n",
       "5561                        934  Década de 2000  \n",
       "5565                        879  Década de 2000  \n",
       "5567                        222  Década de 2000  \n",
       "5568                        414  Década de 2000  \n",
       "\n",
       "[2615 rows x 7 columns]"
      ]
     },
     "execution_count": 29,
     "metadata": {},
     "output_type": "execute_result"
    }
   ],
   "source": [
    "a = df[df['periodo_anual']=='Década de 2000']\n",
    "a"
   ]
  },
  {
   "cell_type": "code",
   "execution_count": 28,
   "metadata": {},
   "outputs": [],
   "source": [
    "df = df[['ano','sigla_uf','id_municipio','nome_municipio','ano_criacao_lei','lei_criacao_plano_carreira', 'periodo_anual']] #organizando as colunas\n"
   ]
  },
  {
   "cell_type": "markdown",
   "metadata": {},
   "source": [
    "Subindo para o GBQ"
   ]
  },
  {
   "cell_type": "code",
   "execution_count": 30,
   "metadata": {},
   "outputs": [],
   "source": [
    "client = bigquery.Client()\n",
    "dataset_ref = client.dataset('legislacoes')"
   ]
  },
  {
   "cell_type": "code",
   "execution_count": 66,
   "metadata": {},
   "outputs": [
    {
     "data": {
      "text/plain": [
       "Index(['ano', 'sigla_uf', 'id_municipio', 'nome_municipio', 'ano_criacao_lei',\n",
       "       'lei_criacao_plano_carreira', 'periodo_anual'],\n",
       "      dtype='object')"
      ]
     },
     "execution_count": 66,
     "metadata": {},
     "output_type": "execute_result"
    }
   ],
   "source": [
    "df.columns"
   ]
  },
  {
   "cell_type": "code",
   "execution_count": 79,
   "metadata": {},
   "outputs": [],
   "source": [
    "df1 = df[['ano', 'sigla_uf', 'id_municipio', 'nome_municipio','ano_criacao_lei',\n",
    "       'lei_criacao_plano_carreira','periodo_anual']]"
   ]
  },
  {
   "cell_type": "code",
   "execution_count": 80,
   "metadata": {},
   "outputs": [],
   "source": [
    "schema=[bigquery.SchemaField('ano','INTEGER',description='Ano da apuração daquele dado'),\n",
    "        bigquery.SchemaField('sigla_uf','STRING',description='Sigla da UF'),\n",
    "        bigquery.SchemaField('id_municipio','INTEGER',description='Identificador do município pelo IBGE'),\n",
    "        bigquery.SchemaField('nome_municipio','STRING',description='Nome do município da observação'),       \n",
    "       bigquery.SchemaField('ano_criacao_lei','Float',description='Ano de criação da lei em observação'),\n",
    "        #bigquery.SchemaField('lei_criacao_plano_carreira','STRING',description='Ano em que a lei de criação de plano de carreira foi criada'),\n",
    "       bigquery.SchemaField('periodo_anual','STRING',description='Período anual referente a observação')\n",
    "        \n",
    "        ]"
   ]
  },
  {
   "cell_type": "code",
   "execution_count": 76,
   "metadata": {},
   "outputs": [
    {
     "data": {
      "text/html": [
       "<div>\n",
       "<style scoped>\n",
       "    .dataframe tbody tr th:only-of-type {\n",
       "        vertical-align: middle;\n",
       "    }\n",
       "\n",
       "    .dataframe tbody tr th {\n",
       "        vertical-align: top;\n",
       "    }\n",
       "\n",
       "    .dataframe thead th {\n",
       "        text-align: right;\n",
       "    }\n",
       "</style>\n",
       "<table border=\"1\" class=\"dataframe\">\n",
       "  <thead>\n",
       "    <tr style=\"text-align: right;\">\n",
       "      <th></th>\n",
       "      <th>ano</th>\n",
       "      <th>sigla_uf</th>\n",
       "      <th>id_municipio</th>\n",
       "      <th>nome_municipio</th>\n",
       "      <th>lei_criacao_plano_carreira</th>\n",
       "    </tr>\n",
       "  </thead>\n",
       "  <tbody>\n",
       "    <tr>\n",
       "      <th>0</th>\n",
       "      <td>2021</td>\n",
       "      <td>RO</td>\n",
       "      <td>1100015</td>\n",
       "      <td>Alta Floresta DOeste</td>\n",
       "      <td>Sem dados</td>\n",
       "    </tr>\n",
       "    <tr>\n",
       "      <th>1</th>\n",
       "      <td>2021</td>\n",
       "      <td>RO</td>\n",
       "      <td>1100023</td>\n",
       "      <td>Ariquemes</td>\n",
       "      <td>954</td>\n",
       "    </tr>\n",
       "    <tr>\n",
       "      <th>2</th>\n",
       "      <td>2021</td>\n",
       "      <td>RO</td>\n",
       "      <td>1100031</td>\n",
       "      <td>Cabixi</td>\n",
       "      <td>616</td>\n",
       "    </tr>\n",
       "    <tr>\n",
       "      <th>3</th>\n",
       "      <td>2021</td>\n",
       "      <td>RO</td>\n",
       "      <td>1100049</td>\n",
       "      <td>Cacoal</td>\n",
       "      <td>2736</td>\n",
       "    </tr>\n",
       "    <tr>\n",
       "      <th>4</th>\n",
       "      <td>2021</td>\n",
       "      <td>RO</td>\n",
       "      <td>1100056</td>\n",
       "      <td>Cerejeiras</td>\n",
       "      <td>1947</td>\n",
       "    </tr>\n",
       "  </tbody>\n",
       "</table>\n",
       "</div>"
      ],
      "text/plain": [
       "    ano sigla_uf  id_municipio        nome_municipio  \\\n",
       "0  2021       RO       1100015  Alta Floresta DOeste   \n",
       "1  2021       RO       1100023             Ariquemes   \n",
       "2  2021       RO       1100031                Cabixi   \n",
       "3  2021       RO       1100049                Cacoal   \n",
       "4  2021       RO       1100056            Cerejeiras   \n",
       "\n",
       "  lei_criacao_plano_carreira  \n",
       "0                  Sem dados  \n",
       "1                        954  \n",
       "2                        616  \n",
       "3                       2736  \n",
       "4                       1947  "
      ]
     },
     "execution_count": 76,
     "metadata": {},
     "output_type": "execute_result"
    }
   ],
   "source": [
    "df1.head()"
   ]
  },
  {
   "cell_type": "code",
   "execution_count": 50,
   "metadata": {},
   "outputs": [
    {
     "data": {
      "text/plain": [
       "ano                              int64\n",
       "sigla_uf                        object\n",
       "id_municipio                     int64\n",
       "nome_municipio                  object\n",
       "ano_criacao_lei                float64\n",
       "lei_criacao_plano_carreira      object\n",
       "periodo_anual                 category\n",
       "dtype: object"
      ]
     },
     "execution_count": 50,
     "metadata": {},
     "output_type": "execute_result"
    }
   ],
   "source": [
    "df.dtypes"
   ]
  },
  {
   "cell_type": "code",
   "execution_count": 81,
   "metadata": {},
   "outputs": [
    {
     "ename": "ArrowTypeError",
     "evalue": "Expected bytes, got a 'int' object",
     "output_type": "error",
     "traceback": [
      "\u001b[1;31m---------------------------------------------------------------------------\u001b[0m",
      "\u001b[1;31mArrowTypeError\u001b[0m                            Traceback (most recent call last)",
      "Cell \u001b[1;32mIn[81], line 3\u001b[0m\n\u001b[0;32m      1\u001b[0m table_ref \u001b[38;5;241m=\u001b[39m dataset_ref\u001b[38;5;241m.\u001b[39mtable(\u001b[38;5;124m'\u001b[39m\u001b[38;5;124mMUNIC_lei_plano_carreira_por_ano\u001b[39m\u001b[38;5;124m'\u001b[39m)\n\u001b[0;32m      2\u001b[0m job_config \u001b[38;5;241m=\u001b[39m bigquery\u001b[38;5;241m.\u001b[39mLoadJobConfig(schema\u001b[38;5;241m=\u001b[39mschema)\n\u001b[1;32m----> 3\u001b[0m job \u001b[38;5;241m=\u001b[39m client\u001b[38;5;241m.\u001b[39mload_table_from_dataframe(df1,table_ref, job_config\u001b[38;5;241m=\u001b[39mjob_config)\n\u001b[0;32m      4\u001b[0m job\u001b[38;5;241m.\u001b[39mresult()\n",
      "File \u001b[1;32mc:\\Users\\ana.sales_republica\\anaconda3\\Lib\\site-packages\\google\\cloud\\bigquery\\client.py:2666\u001b[0m, in \u001b[0;36mClient.load_table_from_dataframe\u001b[1;34m(self, dataframe, destination, num_retries, job_id, job_id_prefix, location, project, job_config, parquet_compression, timeout)\u001b[0m\n\u001b[0;32m   2648\u001b[0m         columns_and_indexes \u001b[38;5;241m=\u001b[39m \u001b[38;5;28mfrozenset\u001b[39m(\n\u001b[0;32m   2649\u001b[0m             name\n\u001b[0;32m   2650\u001b[0m             \u001b[38;5;28;01mfor\u001b[39;00m name, _ \u001b[38;5;129;01min\u001b[39;00m _pandas_helpers\u001b[38;5;241m.\u001b[39mlist_columns_and_indexes(dataframe)\n\u001b[0;32m   2651\u001b[0m         )\n\u001b[0;32m   2652\u001b[0m         new_job_config\u001b[38;5;241m.\u001b[39mschema \u001b[38;5;241m=\u001b[39m [\n\u001b[0;32m   2653\u001b[0m             \u001b[38;5;66;03m# Field description and policy tags are not needed to\u001b[39;00m\n\u001b[0;32m   2654\u001b[0m             \u001b[38;5;66;03m# serialize a data frame.\u001b[39;00m\n\u001b[1;32m   (...)\u001b[0m\n\u001b[0;32m   2663\u001b[0m             \u001b[38;5;28;01mif\u001b[39;00m field\u001b[38;5;241m.\u001b[39mname \u001b[38;5;129;01min\u001b[39;00m columns_and_indexes\n\u001b[0;32m   2664\u001b[0m         ]\n\u001b[1;32m-> 2666\u001b[0m new_job_config\u001b[38;5;241m.\u001b[39mschema \u001b[38;5;241m=\u001b[39m _pandas_helpers\u001b[38;5;241m.\u001b[39mdataframe_to_bq_schema(\n\u001b[0;32m   2667\u001b[0m     dataframe, new_job_config\u001b[38;5;241m.\u001b[39mschema\n\u001b[0;32m   2668\u001b[0m )\n\u001b[0;32m   2670\u001b[0m \u001b[38;5;28;01mif\u001b[39;00m \u001b[38;5;129;01mnot\u001b[39;00m new_job_config\u001b[38;5;241m.\u001b[39mschema:\n\u001b[0;32m   2671\u001b[0m     \u001b[38;5;66;03m# the schema could not be fully detected\u001b[39;00m\n\u001b[0;32m   2672\u001b[0m     warnings\u001b[38;5;241m.\u001b[39mwarn(\n\u001b[0;32m   2673\u001b[0m         \u001b[38;5;124m\"\u001b[39m\u001b[38;5;124mSchema could not be detected for all columns. Loading from a \u001b[39m\u001b[38;5;124m\"\u001b[39m\n\u001b[0;32m   2674\u001b[0m         \u001b[38;5;124m\"\u001b[39m\u001b[38;5;124mdataframe without a schema will be deprecated in the future, \u001b[39m\u001b[38;5;124m\"\u001b[39m\n\u001b[1;32m   (...)\u001b[0m\n\u001b[0;32m   2677\u001b[0m         stacklevel\u001b[38;5;241m=\u001b[39m\u001b[38;5;241m2\u001b[39m,\n\u001b[0;32m   2678\u001b[0m     )\n",
      "File \u001b[1;32mc:\\Users\\ana.sales_republica\\anaconda3\\Lib\\site-packages\\google\\cloud\\bigquery\\_pandas_helpers.py:536\u001b[0m, in \u001b[0;36mdataframe_to_bq_schema\u001b[1;34m(dataframe, bq_schema)\u001b[0m\n\u001b[0;32m    532\u001b[0m         \u001b[38;5;28;01mreturn\u001b[39;00m \u001b[38;5;28;01mNone\u001b[39;00m  \u001b[38;5;66;03m# We cannot detect the schema in full.\u001b[39;00m\n\u001b[0;32m    534\u001b[0m     \u001b[38;5;66;03m# The augment_schema() helper itself will also issue unknown type\u001b[39;00m\n\u001b[0;32m    535\u001b[0m     \u001b[38;5;66;03m# warnings if detection still fails for any of the fields.\u001b[39;00m\n\u001b[1;32m--> 536\u001b[0m     bq_schema_out \u001b[38;5;241m=\u001b[39m augment_schema(dataframe, bq_schema_out)\n\u001b[0;32m    538\u001b[0m \u001b[38;5;28;01mreturn\u001b[39;00m \u001b[38;5;28mtuple\u001b[39m(bq_schema_out) \u001b[38;5;28;01mif\u001b[39;00m bq_schema_out \u001b[38;5;28;01melse\u001b[39;00m \u001b[38;5;28;01mNone\u001b[39;00m\n",
      "File \u001b[1;32mc:\\Users\\ana.sales_republica\\anaconda3\\Lib\\site-packages\\google\\cloud\\bigquery\\_pandas_helpers.py:566\u001b[0m, in \u001b[0;36maugment_schema\u001b[1;34m(dataframe, current_bq_schema)\u001b[0m\n\u001b[0;32m    563\u001b[0m     augmented_schema\u001b[38;5;241m.\u001b[39mappend(field)\n\u001b[0;32m    564\u001b[0m     \u001b[38;5;28;01mcontinue\u001b[39;00m\n\u001b[1;32m--> 566\u001b[0m arrow_table \u001b[38;5;241m=\u001b[39m pyarrow\u001b[38;5;241m.\u001b[39marray(dataframe\u001b[38;5;241m.\u001b[39mreset_index()[field\u001b[38;5;241m.\u001b[39mname])\n\u001b[0;32m    568\u001b[0m \u001b[38;5;28;01mif\u001b[39;00m pyarrow\u001b[38;5;241m.\u001b[39mtypes\u001b[38;5;241m.\u001b[39mis_list(arrow_table\u001b[38;5;241m.\u001b[39mtype):\n\u001b[0;32m    569\u001b[0m     \u001b[38;5;66;03m# `pyarrow.ListType`\u001b[39;00m\n\u001b[0;32m    570\u001b[0m     detected_mode \u001b[38;5;241m=\u001b[39m \u001b[38;5;124m\"\u001b[39m\u001b[38;5;124mREPEATED\u001b[39m\u001b[38;5;124m\"\u001b[39m\n",
      "File \u001b[1;32mc:\\Users\\ana.sales_republica\\anaconda3\\Lib\\site-packages\\pyarrow\\array.pxi:316\u001b[0m, in \u001b[0;36mpyarrow.lib.array\u001b[1;34m()\u001b[0m\n",
      "File \u001b[1;32mc:\\Users\\ana.sales_republica\\anaconda3\\Lib\\site-packages\\pyarrow\\array.pxi:83\u001b[0m, in \u001b[0;36mpyarrow.lib._ndarray_to_array\u001b[1;34m()\u001b[0m\n",
      "File \u001b[1;32mc:\\Users\\ana.sales_republica\\anaconda3\\Lib\\site-packages\\pyarrow\\error.pxi:123\u001b[0m, in \u001b[0;36mpyarrow.lib.check_status\u001b[1;34m()\u001b[0m\n",
      "\u001b[1;31mArrowTypeError\u001b[0m: Expected bytes, got a 'int' object"
     ]
    }
   ],
   "source": [
    "table_ref = dataset_ref.table('MUNIC_lei_plano_carreira_por_ano')\n",
    "job_config = bigquery.LoadJobConfig(schema=schema)\n",
    "job = client.load_table_from_dataframe(df1,table_ref, job_config=job_config)\n",
    "job.result() "
   ]
  }
 ],
 "metadata": {
  "kernelspec": {
   "display_name": "base",
   "language": "python",
   "name": "python3"
  },
  "language_info": {
   "codemirror_mode": {
    "name": "ipython",
    "version": 3
   },
   "file_extension": ".py",
   "mimetype": "text/x-python",
   "name": "python",
   "nbconvert_exporter": "python",
   "pygments_lexer": "ipython3",
   "version": "3.11.4"
  }
 },
 "nbformat": 4,
 "nbformat_minor": 2
}
