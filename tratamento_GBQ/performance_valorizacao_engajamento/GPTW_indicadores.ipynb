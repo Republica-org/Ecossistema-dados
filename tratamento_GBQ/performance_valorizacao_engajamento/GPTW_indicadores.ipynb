{
 "cells": [
  {
   "cell_type": "code",
   "execution_count": 1,
   "metadata": {},
   "outputs": [],
   "source": [
    "import openpyxl\n",
    "import pandas as pd\n",
    "import time\n",
    "import os\n",
    "import pandas_gbq\n",
    "from google.cloud import bigquery\n",
    "import glob\n",
    "import basedosdados as bd\n",
    "import numpy as np\n"
   ]
  },
  {
   "cell_type": "code",
   "execution_count": 2,
   "metadata": {},
   "outputs": [],
   "source": [
    "os.chdir(\"G:\\\\Drives compartilhados\\\\República.org\\\\4. Equipes\\\\Dados e Comunicação\\\\DADOS\\\\415 - Repositório de Dados\\\\Repositório Local\\\\GPTW\")"
   ]
  },
  {
   "cell_type": "code",
   "execution_count": 5,
   "metadata": {},
   "outputs": [
    {
     "data": {
      "text/html": [
       "<div>\n",
       "<style scoped>\n",
       "    .dataframe tbody tr th:only-of-type {\n",
       "        vertical-align: middle;\n",
       "    }\n",
       "\n",
       "    .dataframe tbody tr th {\n",
       "        vertical-align: top;\n",
       "    }\n",
       "\n",
       "    .dataframe thead th {\n",
       "        text-align: right;\n",
       "    }\n",
       "</style>\n",
       "<table border=\"1\" class=\"dataframe\">\n",
       "  <thead>\n",
       "    <tr style=\"text-align: right;\">\n",
       "      <th></th>\n",
       "      <th>quesito/sentenca</th>\n",
       "      <th>Media geral</th>\n",
       "      <th>Assunto</th>\n",
       "    </tr>\n",
       "  </thead>\n",
       "  <tbody>\n",
       "    <tr>\n",
       "      <th>0</th>\n",
       "      <td>Os gestores me mantêm informado sobre assuntos...</td>\n",
       "      <td>58</td>\n",
       "      <td>Credibilidade</td>\n",
       "    </tr>\n",
       "    <tr>\n",
       "      <th>1</th>\n",
       "      <td>Os gestores deixam claras suas expectativas</td>\n",
       "      <td>59</td>\n",
       "      <td>Credibilidade</td>\n",
       "    </tr>\n",
       "    <tr>\n",
       "      <th>2</th>\n",
       "      <td>Posso fazer qualquer pergunta razoável aos ges...</td>\n",
       "      <td>67</td>\n",
       "      <td>Credibilidade</td>\n",
       "    </tr>\n",
       "    <tr>\n",
       "      <th>3</th>\n",
       "      <td>É fácil se aproximar dos gestores e é também f...</td>\n",
       "      <td>73</td>\n",
       "      <td>Credibilidade</td>\n",
       "    </tr>\n",
       "    <tr>\n",
       "      <th>4</th>\n",
       "      <td>Os gestores são competentes para tocar as ativ...</td>\n",
       "      <td>65</td>\n",
       "      <td>Credibilidade</td>\n",
       "    </tr>\n",
       "    <tr>\n",
       "      <th>...</th>\n",
       "      <td>...</td>\n",
       "      <td>...</td>\n",
       "      <td>...</td>\n",
       "    </tr>\n",
       "    <tr>\n",
       "      <th>69</th>\n",
       "      <td>Eu me sinto representado por minha entidade re...</td>\n",
       "      <td>44</td>\n",
       "      <td>Adicionais</td>\n",
       "    </tr>\n",
       "    <tr>\n",
       "      <th>70</th>\n",
       "      <td>Estão claras as competências gerais que todos ...</td>\n",
       "      <td>59</td>\n",
       "      <td>Adicionais</td>\n",
       "    </tr>\n",
       "    <tr>\n",
       "      <th>71</th>\n",
       "      <td>Acredito que as avaliações de desempenho, de m...</td>\n",
       "      <td>52</td>\n",
       "      <td>Adicionais</td>\n",
       "    </tr>\n",
       "    <tr>\n",
       "      <th>72</th>\n",
       "      <td>Média adicionais</td>\n",
       "      <td>66</td>\n",
       "      <td>Adicionais</td>\n",
       "    </tr>\n",
       "    <tr>\n",
       "      <th>73</th>\n",
       "      <td>Média Geral</td>\n",
       "      <td>62</td>\n",
       "      <td>Adicionais</td>\n",
       "    </tr>\n",
       "  </tbody>\n",
       "</table>\n",
       "<p>74 rows × 3 columns</p>\n",
       "</div>"
      ],
      "text/plain": [
       "                                     quesito/sentenca  Media geral  \\\n",
       "0   Os gestores me mantêm informado sobre assuntos...           58   \n",
       "1         Os gestores deixam claras suas expectativas           59   \n",
       "2   Posso fazer qualquer pergunta razoável aos ges...           67   \n",
       "3   É fácil se aproximar dos gestores e é também f...           73   \n",
       "4   Os gestores são competentes para tocar as ativ...           65   \n",
       "..                                                ...          ...   \n",
       "69  Eu me sinto representado por minha entidade re...           44   \n",
       "70  Estão claras as competências gerais que todos ...           59   \n",
       "71  Acredito que as avaliações de desempenho, de m...           52   \n",
       "72                                   Média adicionais           66   \n",
       "73                                        Média Geral           62   \n",
       "\n",
       "          Assunto  \n",
       "0   Credibilidade  \n",
       "1   Credibilidade  \n",
       "2   Credibilidade  \n",
       "3   Credibilidade  \n",
       "4   Credibilidade  \n",
       "..            ...  \n",
       "69     Adicionais  \n",
       "70     Adicionais  \n",
       "71     Adicionais  \n",
       "72     Adicionais  \n",
       "73     Adicionais  \n",
       "\n",
       "[74 rows x 3 columns]"
      ]
     },
     "execution_count": 5,
     "metadata": {},
     "output_type": "execute_result"
    }
   ],
   "source": [
    "## Esse aqui pega do original que está na BD\n",
    "df = pd.read_csv(\"GPTW_indicadores.csv\", sep=';')\n",
    "df"
   ]
  },
  {
   "cell_type": "code",
   "execution_count": 6,
   "metadata": {},
   "outputs": [],
   "source": [
    "client = bigquery.Client()\n",
    "dataset_ref = client.dataset('performance_valorizacao_engajamento')"
   ]
  },
  {
   "cell_type": "code",
   "execution_count": 15,
   "metadata": {},
   "outputs": [],
   "source": [
    "df= df.rename(columns={'quesito/sentenca':'quesito_sentenca','Media geral':\"media_geral\"})"
   ]
  },
  {
   "cell_type": "code",
   "execution_count": 16,
   "metadata": {},
   "outputs": [
    {
     "name": "stdout",
     "output_type": "stream",
     "text": [
      "<class 'pandas.core.frame.DataFrame'>\n",
      "RangeIndex: 74 entries, 0 to 73\n",
      "Data columns (total 3 columns):\n",
      " #   Column            Non-Null Count  Dtype \n",
      "---  ------            --------------  ----- \n",
      " 0   quesito_sentenca  74 non-null     object\n",
      " 1   media_geral       74 non-null     int64 \n",
      " 2   Assunto           74 non-null     object\n",
      "dtypes: int64(1), object(2)\n",
      "memory usage: 1.9+ KB\n"
     ]
    }
   ],
   "source": [
    "df.info()"
   ]
  },
  {
   "cell_type": "code",
   "execution_count": 17,
   "metadata": {},
   "outputs": [],
   "source": [
    "schema=[bigquery.SchemaField('quesito_sentenca','STRING',description='Sentença pergunta para o servidor atribuir notade 0 a 100 ou média de um determinado assunto.'),\n",
    " bigquery.SchemaField('media_geral','integer',description='Média daquela sentença'),\n",
    " bigquery.SchemaField('Assunto','STRING',description='Grande área daquela sentença')]"
   ]
  },
  {
   "cell_type": "code",
   "execution_count": 18,
   "metadata": {},
   "outputs": [
    {
     "data": {
      "text/plain": [
       "LoadJob<project=repositoriodedadosgpsp, location=US, id=66973da4-0eee-46bb-9ef1-02be1607104e>"
      ]
     },
     "execution_count": 18,
     "metadata": {},
     "output_type": "execute_result"
    }
   ],
   "source": [
    "table_ref = dataset_ref.table('GPTW_indicadores') # nome da tabela no padrão FONTE_algo_intuitivo_dado\n",
    "job_config = bigquery.LoadJobConfig(schema=schema)\n",
    "job = client.load_table_from_dataframe(df, table_ref, job_config=job_config)\n",
    "job.result() "
   ]
  }
 ],
 "metadata": {
  "kernelspec": {
   "display_name": "Python 3",
   "language": "python",
   "name": "python3"
  },
  "language_info": {
   "codemirror_mode": {
    "name": "ipython",
    "version": 3
   },
   "file_extension": ".py",
   "mimetype": "text/x-python",
   "name": "python",
   "nbconvert_exporter": "python",
   "pygments_lexer": "ipython3",
   "version": "3.10.11"
  },
  "orig_nbformat": 4
 },
 "nbformat": 4,
 "nbformat_minor": 2
}
