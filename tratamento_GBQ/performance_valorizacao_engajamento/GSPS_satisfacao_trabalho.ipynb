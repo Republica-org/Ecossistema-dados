{
 "cells": [
  {
   "cell_type": "code",
   "execution_count": 2,
   "metadata": {},
   "outputs": [],
   "source": [
    "import openpyxl\n",
    "import pandas as pd\n",
    "import time\n",
    "import os\n",
    "import pandas_gbq\n",
    "from google.cloud import bigquery\n",
    "import glob\n",
    "import basedosdados as bd\n",
    "import numpy as np\n"
   ]
  },
  {
   "cell_type": "code",
   "execution_count": 4,
   "metadata": {},
   "outputs": [],
   "source": [
    "query = \"SELECT * FROM `basedosdados.world_gsps_consortium_gsps.global_indicators`\""
   ]
  },
  {
   "cell_type": "code",
   "execution_count": 5,
   "metadata": {},
   "outputs": [
    {
     "name": "stderr",
     "output_type": "stream",
     "text": [
      "Downloading: 100%|██████████| 152275/152275 [00:25<00:00, 5878.89rows/s]\n"
     ]
    }
   ],
   "source": [
    "## df da base dos dados\n",
    "\n",
    "df=bd.read_sql(query, billing_project_id=\"repositoriodedadosgpsp\", from_file=False, reauth=False, use_bqstorage_api=False)"
   ]
  },
  {
   "cell_type": "code",
   "execution_count": 5,
   "metadata": {},
   "outputs": [],
   "source": [
    "os.chdir(\"G:\\\\Drives compartilhados\\\\República.org\\\\4. Equipes\\\\Dados e Comunicação\\\\DADOS\\\\415 - Repositório de Dados\\\\Repositório Local\\\\GSPS\")"
   ]
  },
  {
   "cell_type": "code",
   "execution_count": 6,
   "metadata": {},
   "outputs": [
    {
     "ename": "NameError",
     "evalue": "name 'df' is not defined",
     "output_type": "error",
     "traceback": [
      "\u001b[1;31m---------------------------------------------------------------------------\u001b[0m",
      "\u001b[1;31mNameError\u001b[0m                                 Traceback (most recent call last)",
      "Cell \u001b[1;32mIn[6], line 1\u001b[0m\n\u001b[1;32m----> 1\u001b[0m df\u001b[39m.\u001b[39mto_csv(\u001b[39m\"\u001b[39m\u001b[39mGSPS_indicadores.csv\u001b[39m\u001b[39m\"\u001b[39m)\n",
      "\u001b[1;31mNameError\u001b[0m: name 'df' is not defined"
     ]
    }
   ],
   "source": [
    "df.to_csv(\"GSPS_indicadores.csv\")"
   ]
  },
  {
   "cell_type": "code",
   "execution_count": 8,
   "metadata": {},
   "outputs": [
    {
     "data": {
      "text/html": [
       "<div>\n",
       "<style scoped>\n",
       "    .dataframe tbody tr th:only-of-type {\n",
       "        vertical-align: middle;\n",
       "    }\n",
       "\n",
       "    .dataframe tbody tr th {\n",
       "        vertical-align: top;\n",
       "    }\n",
       "\n",
       "    .dataframe thead th {\n",
       "        text-align: right;\n",
       "    }\n",
       "</style>\n",
       "<table border=\"1\" class=\"dataframe\">\n",
       "  <thead>\n",
       "    <tr style=\"text-align: right;\">\n",
       "      <th></th>\n",
       "      <th>Unnamed: 0</th>\n",
       "      <th>year</th>\n",
       "      <th>country</th>\n",
       "      <th>institutions_number</th>\n",
       "      <th>respondents</th>\n",
       "      <th>response_rate</th>\n",
       "      <th>section_org</th>\n",
       "      <th>topic</th>\n",
       "      <th>indicator</th>\n",
       "      <th>group</th>\n",
       "      <th>category</th>\n",
       "      <th>mode</th>\n",
       "      <th>question_text</th>\n",
       "      <th>harmonize</th>\n",
       "      <th>scale</th>\n",
       "      <th>mean</th>\n",
       "      <th>lower_ci</th>\n",
       "      <th>upper_ci</th>\n",
       "      <th>source</th>\n",
       "    </tr>\n",
       "  </thead>\n",
       "  <tbody>\n",
       "    <tr>\n",
       "      <th>0</th>\n",
       "      <td>0</td>\n",
       "      <td>2019</td>\n",
       "      <td>Australia</td>\n",
       "      <td>102</td>\n",
       "      <td>104471</td>\n",
       "      <td>77%</td>\n",
       "      <td>General Impressions: Current Job</td>\n",
       "      <td>General Impressions: Current Job</td>\n",
       "      <td>My job gives me a feeling of personal accompli...</td>\n",
       "      <td>All</td>\n",
       "      <td>All</td>\n",
       "      <td>Online</td>\n",
       "      <td>My job gives me a feeling of personal accompli...</td>\n",
       "      <td>0</td>\n",
       "      <td>1--5</td>\n",
       "      <td>0.727</td>\n",
       "      <td>0.725</td>\n",
       "      <td>0.730</td>\n",
       "      <td>https://www.apsc.gov.au/initiatives-and-progra...</td>\n",
       "    </tr>\n",
       "    <tr>\n",
       "      <th>1</th>\n",
       "      <td>1</td>\n",
       "      <td>2019</td>\n",
       "      <td>Australia</td>\n",
       "      <td>102</td>\n",
       "      <td>104471</td>\n",
       "      <td>77%</td>\n",
       "      <td>General Impressions: Current Job</td>\n",
       "      <td>General Impressions: Current Job</td>\n",
       "      <td>My job gives me a feeling of personal accompli...</td>\n",
       "      <td>Gender</td>\n",
       "      <td>Male</td>\n",
       "      <td>Online</td>\n",
       "      <td>My job gives me a feeling of personal accompli...</td>\n",
       "      <td>0</td>\n",
       "      <td>1--5</td>\n",
       "      <td>0.725</td>\n",
       "      <td>0.720</td>\n",
       "      <td>0.729</td>\n",
       "      <td>https://www.apsc.gov.au/initiatives-and-progra...</td>\n",
       "    </tr>\n",
       "    <tr>\n",
       "      <th>2</th>\n",
       "      <td>2</td>\n",
       "      <td>2019</td>\n",
       "      <td>Australia</td>\n",
       "      <td>102</td>\n",
       "      <td>104471</td>\n",
       "      <td>77%</td>\n",
       "      <td>General Impressions: Current Job</td>\n",
       "      <td>General Impressions: Current Job</td>\n",
       "      <td>My job gives me a feeling of personal accompli...</td>\n",
       "      <td>Gender</td>\n",
       "      <td>Female</td>\n",
       "      <td>Online</td>\n",
       "      <td>My job gives me a feeling of personal accompli...</td>\n",
       "      <td>0</td>\n",
       "      <td>1--5</td>\n",
       "      <td>0.742</td>\n",
       "      <td>0.739</td>\n",
       "      <td>0.745</td>\n",
       "      <td>https://www.apsc.gov.au/initiatives-and-progra...</td>\n",
       "    </tr>\n",
       "    <tr>\n",
       "      <th>3</th>\n",
       "      <td>3</td>\n",
       "      <td>2019</td>\n",
       "      <td>Australia</td>\n",
       "      <td>102</td>\n",
       "      <td>104471</td>\n",
       "      <td>77%</td>\n",
       "      <td>General Impressions: Current Job</td>\n",
       "      <td>General Impressions: Current Job</td>\n",
       "      <td>My job gives me a feeling of personal accompli...</td>\n",
       "      <td>Manager status</td>\n",
       "      <td>Manager</td>\n",
       "      <td>Online</td>\n",
       "      <td>My job gives me a feeling of personal accompli...</td>\n",
       "      <td>0</td>\n",
       "      <td>1--5</td>\n",
       "      <td>0.809</td>\n",
       "      <td>0.805</td>\n",
       "      <td>0.814</td>\n",
       "      <td>https://www.apsc.gov.au/initiatives-and-progra...</td>\n",
       "    </tr>\n",
       "    <tr>\n",
       "      <th>4</th>\n",
       "      <td>4</td>\n",
       "      <td>2019</td>\n",
       "      <td>Australia</td>\n",
       "      <td>102</td>\n",
       "      <td>104471</td>\n",
       "      <td>77%</td>\n",
       "      <td>General Impressions: Current Job</td>\n",
       "      <td>General Impressions: Current Job</td>\n",
       "      <td>My job gives me a feeling of personal accompli...</td>\n",
       "      <td>Manager status</td>\n",
       "      <td>Not manager</td>\n",
       "      <td>Online</td>\n",
       "      <td>My job gives me a feeling of personal accompli...</td>\n",
       "      <td>0</td>\n",
       "      <td>1--5</td>\n",
       "      <td>0.687</td>\n",
       "      <td>0.683</td>\n",
       "      <td>0.690</td>\n",
       "      <td>https://www.apsc.gov.au/initiatives-and-progra...</td>\n",
       "    </tr>\n",
       "    <tr>\n",
       "      <th>...</th>\n",
       "      <td>...</td>\n",
       "      <td>...</td>\n",
       "      <td>...</td>\n",
       "      <td>...</td>\n",
       "      <td>...</td>\n",
       "      <td>...</td>\n",
       "      <td>...</td>\n",
       "      <td>...</td>\n",
       "      <td>...</td>\n",
       "      <td>...</td>\n",
       "      <td>...</td>\n",
       "      <td>...</td>\n",
       "      <td>...</td>\n",
       "      <td>...</td>\n",
       "      <td>...</td>\n",
       "      <td>...</td>\n",
       "      <td>...</td>\n",
       "      <td>...</td>\n",
       "      <td>...</td>\n",
       "    </tr>\n",
       "    <tr>\n",
       "      <th>152270</th>\n",
       "      <td>152270</td>\n",
       "      <td>2021</td>\n",
       "      <td>Uruguay</td>\n",
       "      <td>20</td>\n",
       "      <td>10232</td>\n",
       "      <td>29%</td>\n",
       "      <td>Work effort and workload</td>\n",
       "      <td>Work effort and workload</td>\n",
       "      <td>Thinking about your first job in the public se...</td>\n",
       "      <td>Region</td>\n",
       "      <td>Salto</td>\n",
       "      <td>Online</td>\n",
       "      <td>Thinking about your first job in the public se...</td>\n",
       "      <td>0</td>\n",
       "      <td>0--1</td>\n",
       "      <td>0.234</td>\n",
       "      <td>0.225</td>\n",
       "      <td>0.244</td>\n",
       "      <td>https://www.gub.uy/oficina-nacional-servicio-c...</td>\n",
       "    </tr>\n",
       "    <tr>\n",
       "      <th>152271</th>\n",
       "      <td>152271</td>\n",
       "      <td>2021</td>\n",
       "      <td>Uruguay</td>\n",
       "      <td>20</td>\n",
       "      <td>10232</td>\n",
       "      <td>29%</td>\n",
       "      <td>Work effort and workload</td>\n",
       "      <td>Work effort and workload</td>\n",
       "      <td>Thinking about your first job in the public se...</td>\n",
       "      <td>Region</td>\n",
       "      <td>Durazno</td>\n",
       "      <td>Online</td>\n",
       "      <td>Thinking about your first job in the public se...</td>\n",
       "      <td>0</td>\n",
       "      <td>0--1</td>\n",
       "      <td>0.133</td>\n",
       "      <td>0.125</td>\n",
       "      <td>0.142</td>\n",
       "      <td>https://www.gub.uy/oficina-nacional-servicio-c...</td>\n",
       "    </tr>\n",
       "    <tr>\n",
       "      <th>152272</th>\n",
       "      <td>152272</td>\n",
       "      <td>2021</td>\n",
       "      <td>Uruguay</td>\n",
       "      <td>20</td>\n",
       "      <td>10232</td>\n",
       "      <td>29%</td>\n",
       "      <td>Work effort and workload</td>\n",
       "      <td>Work effort and workload</td>\n",
       "      <td>Thinking about your first job in the public se...</td>\n",
       "      <td>Region</td>\n",
       "      <td>Cerro Largo</td>\n",
       "      <td>Online</td>\n",
       "      <td>Thinking about your first job in the public se...</td>\n",
       "      <td>0</td>\n",
       "      <td>0--1</td>\n",
       "      <td>0.161</td>\n",
       "      <td>0.152</td>\n",
       "      <td>0.170</td>\n",
       "      <td>https://www.gub.uy/oficina-nacional-servicio-c...</td>\n",
       "    </tr>\n",
       "    <tr>\n",
       "      <th>152273</th>\n",
       "      <td>152273</td>\n",
       "      <td>2021</td>\n",
       "      <td>Uruguay</td>\n",
       "      <td>20</td>\n",
       "      <td>10232</td>\n",
       "      <td>29%</td>\n",
       "      <td>Work effort and workload</td>\n",
       "      <td>Work effort and workload</td>\n",
       "      <td>Thinking about your first job in the public se...</td>\n",
       "      <td>Region</td>\n",
       "      <td>Rivera</td>\n",
       "      <td>Online</td>\n",
       "      <td>Thinking about your first job in the public se...</td>\n",
       "      <td>0</td>\n",
       "      <td>0--1</td>\n",
       "      <td>0.125</td>\n",
       "      <td>0.117</td>\n",
       "      <td>0.134</td>\n",
       "      <td>https://www.gub.uy/oficina-nacional-servicio-c...</td>\n",
       "    </tr>\n",
       "    <tr>\n",
       "      <th>152274</th>\n",
       "      <td>152274</td>\n",
       "      <td>2021</td>\n",
       "      <td>Uruguay</td>\n",
       "      <td>20</td>\n",
       "      <td>10232</td>\n",
       "      <td>29%</td>\n",
       "      <td>Work effort and workload</td>\n",
       "      <td>Work effort and workload</td>\n",
       "      <td>Thinking about your first job in the public se...</td>\n",
       "      <td>Region</td>\n",
       "      <td>Rocha</td>\n",
       "      <td>Online</td>\n",
       "      <td>Thinking about your first job in the public se...</td>\n",
       "      <td>0</td>\n",
       "      <td>0--1</td>\n",
       "      <td>0.162</td>\n",
       "      <td>0.153</td>\n",
       "      <td>0.171</td>\n",
       "      <td>https://www.gub.uy/oficina-nacional-servicio-c...</td>\n",
       "    </tr>\n",
       "  </tbody>\n",
       "</table>\n",
       "<p>152275 rows × 19 columns</p>\n",
       "</div>"
      ],
      "text/plain": [
       "        Unnamed: 0  year    country  institutions_number  respondents  \\\n",
       "0                0  2019  Australia                  102       104471   \n",
       "1                1  2019  Australia                  102       104471   \n",
       "2                2  2019  Australia                  102       104471   \n",
       "3                3  2019  Australia                  102       104471   \n",
       "4                4  2019  Australia                  102       104471   \n",
       "...            ...   ...        ...                  ...          ...   \n",
       "152270      152270  2021    Uruguay                   20        10232   \n",
       "152271      152271  2021    Uruguay                   20        10232   \n",
       "152272      152272  2021    Uruguay                   20        10232   \n",
       "152273      152273  2021    Uruguay                   20        10232   \n",
       "152274      152274  2021    Uruguay                   20        10232   \n",
       "\n",
       "       response_rate                       section_org  \\\n",
       "0                77%  General Impressions: Current Job   \n",
       "1                77%  General Impressions: Current Job   \n",
       "2                77%  General Impressions: Current Job   \n",
       "3                77%  General Impressions: Current Job   \n",
       "4                77%  General Impressions: Current Job   \n",
       "...              ...                               ...   \n",
       "152270           29%          Work effort and workload   \n",
       "152271           29%          Work effort and workload   \n",
       "152272           29%          Work effort and workload   \n",
       "152273           29%          Work effort and workload   \n",
       "152274           29%          Work effort and workload   \n",
       "\n",
       "                                   topic  \\\n",
       "0       General Impressions: Current Job   \n",
       "1       General Impressions: Current Job   \n",
       "2       General Impressions: Current Job   \n",
       "3       General Impressions: Current Job   \n",
       "4       General Impressions: Current Job   \n",
       "...                                  ...   \n",
       "152270          Work effort and workload   \n",
       "152271          Work effort and workload   \n",
       "152272          Work effort and workload   \n",
       "152273          Work effort and workload   \n",
       "152274          Work effort and workload   \n",
       "\n",
       "                                                indicator           group  \\\n",
       "0       My job gives me a feeling of personal accompli...             All   \n",
       "1       My job gives me a feeling of personal accompli...          Gender   \n",
       "2       My job gives me a feeling of personal accompli...          Gender   \n",
       "3       My job gives me a feeling of personal accompli...  Manager status   \n",
       "4       My job gives me a feeling of personal accompli...  Manager status   \n",
       "...                                                   ...             ...   \n",
       "152270  Thinking about your first job in the public se...          Region   \n",
       "152271  Thinking about your first job in the public se...          Region   \n",
       "152272  Thinking about your first job in the public se...          Region   \n",
       "152273  Thinking about your first job in the public se...          Region   \n",
       "152274  Thinking about your first job in the public se...          Region   \n",
       "\n",
       "           category    mode  \\\n",
       "0               All  Online   \n",
       "1              Male  Online   \n",
       "2            Female  Online   \n",
       "3           Manager  Online   \n",
       "4       Not manager  Online   \n",
       "...             ...     ...   \n",
       "152270        Salto  Online   \n",
       "152271      Durazno  Online   \n",
       "152272  Cerro Largo  Online   \n",
       "152273       Rivera  Online   \n",
       "152274        Rocha  Online   \n",
       "\n",
       "                                            question_text harmonize scale  \\\n",
       "0       My job gives me a feeling of personal accompli...         0  1--5   \n",
       "1       My job gives me a feeling of personal accompli...         0  1--5   \n",
       "2       My job gives me a feeling of personal accompli...         0  1--5   \n",
       "3       My job gives me a feeling of personal accompli...         0  1--5   \n",
       "4       My job gives me a feeling of personal accompli...         0  1--5   \n",
       "...                                                   ...       ...   ...   \n",
       "152270  Thinking about your first job in the public se...         0  0--1   \n",
       "152271  Thinking about your first job in the public se...         0  0--1   \n",
       "152272  Thinking about your first job in the public se...         0  0--1   \n",
       "152273  Thinking about your first job in the public se...         0  0--1   \n",
       "152274  Thinking about your first job in the public se...         0  0--1   \n",
       "\n",
       "         mean  lower_ci  upper_ci  \\\n",
       "0       0.727     0.725     0.730   \n",
       "1       0.725     0.720     0.729   \n",
       "2       0.742     0.739     0.745   \n",
       "3       0.809     0.805     0.814   \n",
       "4       0.687     0.683     0.690   \n",
       "...       ...       ...       ...   \n",
       "152270  0.234     0.225     0.244   \n",
       "152271  0.133     0.125     0.142   \n",
       "152272  0.161     0.152     0.170   \n",
       "152273  0.125     0.117     0.134   \n",
       "152274  0.162     0.153     0.171   \n",
       "\n",
       "                                                   source  \n",
       "0       https://www.apsc.gov.au/initiatives-and-progra...  \n",
       "1       https://www.apsc.gov.au/initiatives-and-progra...  \n",
       "2       https://www.apsc.gov.au/initiatives-and-progra...  \n",
       "3       https://www.apsc.gov.au/initiatives-and-progra...  \n",
       "4       https://www.apsc.gov.au/initiatives-and-progra...  \n",
       "...                                                   ...  \n",
       "152270  https://www.gub.uy/oficina-nacional-servicio-c...  \n",
       "152271  https://www.gub.uy/oficina-nacional-servicio-c...  \n",
       "152272  https://www.gub.uy/oficina-nacional-servicio-c...  \n",
       "152273  https://www.gub.uy/oficina-nacional-servicio-c...  \n",
       "152274  https://www.gub.uy/oficina-nacional-servicio-c...  \n",
       "\n",
       "[152275 rows x 19 columns]"
      ]
     },
     "execution_count": 8,
     "metadata": {},
     "output_type": "execute_result"
    }
   ],
   "source": [
    "## Esse aqui pega do original que está na BD\n",
    "df1 = pd.read_csv(\"GSPS_indicadores.csv\")\n",
    "df1"
   ]
  },
  {
   "cell_type": "code",
   "execution_count": 9,
   "metadata": {},
   "outputs": [],
   "source": [
    "paises = df1[(df1['topic']==\"Job satisfaction\") & (df1['group']==\"All\")][['country',\"mean\"]]"
   ]
  },
  {
   "cell_type": "code",
   "execution_count": 19,
   "metadata": {},
   "outputs": [
    {
     "data": {
      "text/plain": [
       "array(['Job stability', 'Job characteristics', 'Job security',\n",
       "       'Job satisfaction'], dtype=object)"
      ]
     },
     "execution_count": 19,
     "metadata": {},
     "output_type": "execute_result"
    }
   ],
   "source": [
    "df[df['topic'].str.startswith('Job')]['topic'].unique()"
   ]
  },
  {
   "cell_type": "code",
   "execution_count": null,
   "metadata": {},
   "outputs": [],
   "source": [
    "## Explorando o original\n",
    "## Os países Romênia, Colômbia, Nigéria, Chile, Ucrânia, Lituânia, Uruguai, Eslováquia, Austrália e Estados Unidos tiveram seus valores coletadas apenas do dashboard disponibilizado "
   ]
  },
  {
   "cell_type": "code",
   "execution_count": null,
   "metadata": {},
   "outputs": [],
   "source": [
    "## Trabalhar apenas com satisfação no trabalho, por enquanto. "
   ]
  },
  {
   "cell_type": "code",
   "execution_count": 10,
   "metadata": {},
   "outputs": [],
   "source": [
    "## Esse aqui é referente ao gráfico no tableau\n",
    "#https://public.tableau.com/app/profile/global.survey.of.public.servants/viz/GlobalSurveyofPublicServants_16357969958320/GlobalPublicServantIndicators\n",
    "\n",
    "df = pd.read_csv(\"satisfacao_trabalho.csv\")"
   ]
  },
  {
   "cell_type": "code",
   "execution_count": 11,
   "metadata": {},
   "outputs": [],
   "source": [
    "df2=df.merge(paises,right_on=\"country\", left_on=\"Country\",how='left')"
   ]
  },
  {
   "cell_type": "code",
   "execution_count": 49,
   "metadata": {},
   "outputs": [
    {
     "data": {
      "text/plain": [
       "Index(['Country', 'CI Length', 'Indicator', 'Institutions number', 'Mode',\n",
       "       'Question text', 'Respondents', 'Response rate', 'Scale', 'Year',\n",
       "       'Overall lower', 'Overall upper', 'Overall', 'media', 'country',\n",
       "       'mean'],\n",
       "      dtype='object')"
      ]
     },
     "execution_count": 49,
     "metadata": {},
     "output_type": "execute_result"
    }
   ],
   "source": [
    "df2.columns"
   ]
  },
  {
   "cell_type": "code",
   "execution_count": 12,
   "metadata": {},
   "outputs": [],
   "source": [
    "df2['Overall'] = df2['Overall'].str.replace(\"%\", \"\")\n",
    "df2['Overall'] = pd.to_numeric(df2['Overall'])\n"
   ]
  },
  {
   "cell_type": "code",
   "execution_count": 13,
   "metadata": {},
   "outputs": [],
   "source": [
    "df2['Overall'] = df2['Overall']/100"
   ]
  },
  {
   "cell_type": "code",
   "execution_count": 14,
   "metadata": {},
   "outputs": [],
   "source": [
    "# Definir a quantidade de casas decimais desejada\n",
    "casas_decimais = 4\n",
    "\n",
    "# Adicionar zeros à direita na coluna\n",
    "df2['Overall'] = df2['Overall'].apply(lambda x: '{:.{prec}f}'.format(x, prec=casas_decimais))"
   ]
  },
  {
   "cell_type": "code",
   "execution_count": 15,
   "metadata": {},
   "outputs": [],
   "source": [
    "df2['media']= np.where(df2['Country'].isin(paises['country']),df2['mean'],df2['Overall'])"
   ]
  },
  {
   "cell_type": "code",
   "execution_count": 88,
   "metadata": {},
   "outputs": [
    {
     "data": {
      "text/plain": [
       "Index(['Country', 'CI Length', 'Indicator', 'Institutions number', 'Mode',\n",
       "       'Question text', 'Respondents', 'Response rate', 'Scale', 'Year',\n",
       "       'Overall lower', 'Overall upper', 'Overall', 'media', 'country', 'mean',\n",
       "       'numero_decimal'],\n",
       "      dtype='object')"
      ]
     },
     "execution_count": 88,
     "metadata": {},
     "output_type": "execute_result"
    }
   ],
   "source": [
    "df2.columns"
   ]
  },
  {
   "cell_type": "code",
   "execution_count": 16,
   "metadata": {},
   "outputs": [],
   "source": [
    "df2 = df2[['Country', 'CI Length', 'Indicator', 'Institutions number', 'Mode',\n",
    "       'Question text', 'Respondents', 'Response rate', 'Scale', 'Year',\n",
    "       'Overall lower', 'Overall upper',  'media']]"
   ]
  },
  {
   "cell_type": "code",
   "execution_count": 19,
   "metadata": {},
   "outputs": [],
   "source": [
    "df2['media']=pd.to_numeric(df2['media'])"
   ]
  },
  {
   "cell_type": "code",
   "execution_count": 3,
   "metadata": {},
   "outputs": [],
   "source": [
    "client = bigquery.Client()\n",
    "dataset_ref = client.dataset('performance_valorizacao_engajamento')"
   ]
  },
  {
   "cell_type": "code",
   "execution_count": 26,
   "metadata": {},
   "outputs": [
    {
     "data": {
      "text/plain": [
       "array(['Brazil', 'Croatia', 'United States', 'Kosovo', 'Australia',\n",
       "       'Slovakia', 'Uruguay', 'Albania', 'Estonia', 'Lithuania',\n",
       "       'Ukraine', 'Chile', 'Nigeria', 'Colombia', 'Romania'], dtype=object)"
      ]
     },
     "execution_count": 26,
     "metadata": {},
     "output_type": "execute_result"
    }
   ],
   "source": [
    "df2['Country'].unique()"
   ]
  },
  {
   "cell_type": "code",
   "execution_count": 23,
   "metadata": {},
   "outputs": [],
   "source": [
    "schema=[bigquery.SchemaField('Country','STRING',description='País'),\n",
    "bigquery.SchemaField('CI Length','float',description=''),\n",
    "bigquery.SchemaField('Indicator','STRING',description=''),\n",
    "bigquery.SchemaField('Institutions number','integer',description=''),\n",
    "bigquery.SchemaField('Mode','STRING',description=''),\n",
    "bigquery.SchemaField('Question text','STRING',description=''),\n",
    "bigquery.SchemaField('Respondents','STRING',description=''),\n",
    "bigquery.SchemaField('Response rate','STRING',description=''),\n",
    " bigquery.SchemaField('Scale','STRING',description=''),\n",
    " bigquery.SchemaField('Year','integer',description=''),\n",
    " bigquery.SchemaField('Overall lower','STRING',description=''),\n",
    " bigquery.SchemaField('Overall upper','STRING',description='P'),\n",
    " bigquery.SchemaField('media','float',description='Média do indicador')]"
   ]
  },
  {
   "cell_type": "code",
   "execution_count": 24,
   "metadata": {},
   "outputs": [
    {
     "data": {
      "text/plain": [
       "LoadJob<project=repositoriodedadosgpsp, location=US, id=f52c69d1-16c9-4b56-a947-802c82ef3529>"
      ]
     },
     "execution_count": 24,
     "metadata": {},
     "output_type": "execute_result"
    }
   ],
   "source": [
    "table_ref = dataset_ref.table('GSPS_satisfacao_trabalho') # nome da tabela no padrão FONTE_algo_intuitivo_dado\n",
    "job_config = bigquery.LoadJobConfig(schema=schema)\n",
    "job = client.load_table_from_dataframe(df2, table_ref, job_config=job_config)\n",
    "job.result() "
   ]
  }
 ],
 "metadata": {
  "kernelspec": {
   "display_name": "Python 3",
   "language": "python",
   "name": "python3"
  },
  "language_info": {
   "codemirror_mode": {
    "name": "ipython",
    "version": 3
   },
   "file_extension": ".py",
   "mimetype": "text/x-python",
   "name": "python",
   "nbconvert_exporter": "python",
   "pygments_lexer": "ipython3",
   "version": "3.10.11"
  },
  "orig_nbformat": 4
 },
 "nbformat": 4,
 "nbformat_minor": 2
}
