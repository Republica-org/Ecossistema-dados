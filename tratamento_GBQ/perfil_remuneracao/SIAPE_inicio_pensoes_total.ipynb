{
  "cells": [
    {
      "cell_type": "markdown",
      "source": [
        "# Dependências"
      ],
      "metadata": {
        "id": "7I1_R7--zBdb"
      }
    },
    {
      "cell_type": "code",
      "source": [
        "# Install required Google Cloud packages (commented out as these are typically one-time setup commands)\n",
        "!pip install gcloud\n",
        "!gcloud auth application-default login\n",
        "\n",
        "# Import necessary Python libraries\n",
        "import pandas as pd                # Data manipulation and analysis\n",
        "import numpy as np                 # Numerical computing\n",
        "import time                        # Time-related functions\n",
        "import os                          # Operating system interfaces\n",
        "import pandas_gbq                  # Pandas integration with BigQuery\n",
        "from google.cloud import bigquery  # BigQuery client library\n",
        "import glob                        # File path pattern matching\n",
        "import openpyxl                    # Excel file handling\n",
        "import csv                         # CSV file handling\n",
        "import re                          # Regular expressions\n",
        "\n",
        "# Note: The actual imports remain exactly as in the original code"
      ],
      "metadata": {
        "id": "aVergbVtzBML",
        "colab": {
          "base_uri": "https://localhost:8080/"
        },
        "outputId": "d34fabba-fe0d-4888-b797-2721cb74f9ee"
      },
      "execution_count": null,
      "outputs": [
        {
          "output_type": "stream",
          "name": "stdout",
          "text": [
            "Collecting gcloud\n",
            "  Downloading gcloud-0.18.3.tar.gz (454 kB)\n",
            "\u001b[2K     \u001b[90m━━━━━━━━━━━━━━━━━━━━━━━━━━━━━━━━━━━━━━━\u001b[0m \u001b[32m454.4/454.4 kB\u001b[0m \u001b[31m7.0 MB/s\u001b[0m eta \u001b[36m0:00:00\u001b[0m\n",
            "\u001b[?25h  Preparing metadata (setup.py) ... \u001b[?25l\u001b[?25hdone\n",
            "Requirement already satisfied: httplib2>=0.9.1 in /usr/local/lib/python3.12/dist-packages (from gcloud) (0.22.0)\n",
            "Requirement already satisfied: googleapis-common-protos in /usr/local/lib/python3.12/dist-packages (from gcloud) (1.70.0)\n",
            "Requirement already satisfied: oauth2client>=2.0.1 in /usr/local/lib/python3.12/dist-packages (from gcloud) (4.1.3)\n",
            "Requirement already satisfied: protobuf!=3.0.0.b2.post1,>=3.0.0b2 in /usr/local/lib/python3.12/dist-packages (from gcloud) (5.29.5)\n",
            "Requirement already satisfied: six in /usr/local/lib/python3.12/dist-packages (from gcloud) (1.17.0)\n",
            "Requirement already satisfied: pyparsing!=3.0.0,!=3.0.1,!=3.0.2,!=3.0.3,<4,>=2.4.2 in /usr/local/lib/python3.12/dist-packages (from httplib2>=0.9.1->gcloud) (3.2.3)\n",
            "Requirement already satisfied: pyasn1>=0.1.7 in /usr/local/lib/python3.12/dist-packages (from oauth2client>=2.0.1->gcloud) (0.6.1)\n",
            "Requirement already satisfied: pyasn1-modules>=0.0.5 in /usr/local/lib/python3.12/dist-packages (from oauth2client>=2.0.1->gcloud) (0.4.2)\n",
            "Requirement already satisfied: rsa>=3.1.4 in /usr/local/lib/python3.12/dist-packages (from oauth2client>=2.0.1->gcloud) (4.9.1)\n",
            "Building wheels for collected packages: gcloud\n",
            "  Building wheel for gcloud (setup.py) ... \u001b[?25l\u001b[?25hdone\n",
            "  Created wheel for gcloud: filename=gcloud-0.18.3-py3-none-any.whl size=602927 sha256=66efcbb73e9f9467cba08c3f268d4cecbb610365674770c2a6d7b043964c497c\n",
            "  Stored in directory: /root/.cache/pip/wheels/2a/62/75/3d74209bfebb8805823ae74afa28653aa1ea76d8b5a9d741ff\n",
            "Successfully built gcloud\n",
            "Installing collected packages: gcloud\n",
            "Successfully installed gcloud-0.18.3\n",
            "Go to the following link in your browser, and complete the sign-in prompts:\n",
            "\n",
            "    https://accounts.google.com/o/oauth2/auth?response_type=code&client_id=764086051850-6qr4p6gpi6hn506pt8ejuq83di341hur.apps.googleusercontent.com&redirect_uri=https%3A%2F%2Fsdk.cloud.google.com%2Fapplicationdefaultauthcode.html&scope=openid+https%3A%2F%2Fwww.googleapis.com%2Fauth%2Fuserinfo.email+https%3A%2F%2Fwww.googleapis.com%2Fauth%2Fcloud-platform+https%3A%2F%2Fwww.googleapis.com%2Fauth%2Fsqlservice.login&state=73VwbTDHyIaaljSGNtG4CcYjqxsoqO&prompt=consent&token_usage=remote&access_type=offline&code_challenge=oGj5vNurMvlIaKxL3MP6Y9v-jPSBKs50JWNQt5Dq7eE&code_challenge_method=S256\n",
            "\n",
            "Once finished, enter the verification code provided in your browser: 4/0AVMBsJivSg4jwrGBMqQYXCk9g9sQfYxsVM06p9PLN-8JtB9E68P4QYMkgB-mvbDh-Me6nA\n",
            "\n",
            "Credentials saved to file: [/content/.config/application_default_credentials.json]\n",
            "\n",
            "These credentials will be used by any library that requests Application Default Credentials (ADC).\n",
            "\u001b[1;33mWARNING:\u001b[0m \n",
            "Cannot find a quota project to add to ADC. You might receive a \"quota exceeded\" or \"API not enabled\" error. Run $ gcloud auth application-default set-quota-project to add a quota project.\n"
          ]
        }
      ]
    },
    {
      "cell_type": "markdown",
      "source": [
        "# Tratamento"
      ],
      "metadata": {
        "id": "YQ4iug_UzzMV"
      }
    },
    {
      "cell_type": "code",
      "source": [
        "# Import necessary libraries\n",
        "import pandas as pd\n",
        "import pandas_gbq\n",
        "\n",
        "# Define the SQL query to select civil pensioner data from a BigQuery table.\n",
        "query = \"\"\" SELECT ANO as ano, MES as mes, TIPO_PENSAO as tipo_pensao, DATA_INICIO_PENSAO as data_inicio_pensao,\n",
        "            1 as total FROM `repositoriodedadosgpsp.portal_transparencia_cgu.2025_4_siape_pensionista_cadastro`\n",
        "        \"\"\"\n",
        "\n",
        "# Execute the query and load the result into a pandas DataFrame.\n",
        "df = pandas_gbq.read_gbq(query, project_id='repositoriodedadosgpsp')\n",
        "# Display the initial DataFrame.\n",
        "df\n",
        "\n",
        "# Check for null values in the 'data_inicio_pensao' column.\n",
        "pensoes = df['data_inicio_pensao'].isnull()\n",
        "# Count the number of null and non-null values.\n",
        "pensoes.value_counts()\n",
        "\n",
        "# Drop rows with any missing values.\n",
        "df = df.dropna() # 42 rows were dropped, equivalent to the total null values indicated above.\n",
        "# Display the DataFrame after dropping nulls.\n",
        "df\n",
        "\n",
        "# Convert the 'data_inicio_pensao' column to datetime objects.\n",
        "df['data_inicio_pensao'] = pd.to_datetime(df['data_inicio_pensao'], dayfirst=True, format= \"%d/%m/%Y\") #transforming into date\n",
        "\n",
        "# Extract the year from the 'data_inicio_pensao' column.\n",
        "df['ano_inicio_pensao'] = df['data_inicio_pensao'].dt.year #getting only the year\n",
        "\n",
        "# Define bin edges for creating decades.\n",
        "limites = [0, 1929, 1939, 1949, 1959, 1969, 1979, 1989, 1999, 2009, 2019, 2025]\n",
        "# Define labels for the decade bins.\n",
        "categorias = [1920, 1930, 1940, 1950, 1960, 1970, 1980, 1990, 2000, 2010, 2020]\n",
        "\n",
        "# Create a new column by categorizing the 'ano_inicio_pensao' into decades.\n",
        "df['decada_inicio_pensao'] = pd.cut(df['ano_inicio_pensao'], bins=limites, labels=categorias)\n",
        "\n",
        "# Convert the new 'decada_inicio_pensao' column to an integer type.\n",
        "df['decada_inicio_pensao'] = df['decada_inicio_pensao'].astype(int)\n",
        "\n",
        "# Select and display rows where 'tipo_pensao' is 'Inválido' for inspection.\n",
        "df[df['tipo_pensao']=='Inválido'] # Corresponds to 0.58% of the total\n",
        "\n",
        "# Drop the rows where the 'tipo_pensao' column is 'Inválido'.\n",
        "df = df.drop(df.index[df['tipo_pensao']=='Inválido'])\n",
        "\n",
        "# Define a dictionary to map detailed pension types to broader categories.\n",
        "pensoes = {'(Ex) conjuge / (Ex) companheiro (a) / Viuvo (a)':'Cônjuge ou ex-cônjuge',\n",
        "'Filho (a) / Menor sob guarda / Enteado (a)':\"Filhos, netos, enteados ou menores em tutela\",\n",
        "'Pai / Mae':'Pais',\n",
        "'Outros':'Outros',\n",
        "'Pessoa designada':'Pessoa designada',\n",
        "'Irmao (a)':'Irmão (ã)',\n",
        "'Neto (a)':'Filhos, netos, enteados ou menores em tutela\"'}\n",
        "\n",
        "# Define a function to apply the categorization using the dictionary.\n",
        "def categorizando(x):\n",
        "    if x in pensoes:\n",
        "        return pensoes[x]\n",
        "\n",
        "# Create a new column 'tipo_pensao_agrupado' by applying the function.\n",
        "df['tipo_pensao_agrupado'] = df['tipo_pensao'].apply(categorizando)\n",
        "\n",
        "# Select and reorder columns for the final DataFrame.\n",
        "df= df[['ano', 'mes', 'data_inicio_pensao', 'ano_inicio_pensao', 'decada_inicio_pensao', 'tipo_pensao','tipo_pensao_agrupado', 'total']]\n",
        "# Display the final DataFrame.\n",
        "df"
      ],
      "metadata": {
        "id": "INTg3zYwfRNq"
      },
      "execution_count": null,
      "outputs": []
    },
    {
      "cell_type": "code",
      "execution_count": null,
      "metadata": {
        "colab": {
          "base_uri": "https://localhost:8080/"
        },
        "id": "JL5i8zUcy_Dm",
        "outputId": "ed0c4583-0c88-408a-fc8f-f3c34ead55d9"
      },
      "outputs": [
        {
          "output_type": "stream",
          "name": "stdout",
          "text": [
            "<class 'pandas.core.frame.DataFrame'>\n",
            "Index: 276173 entries, 0 to 278632\n",
            "Data columns (total 8 columns):\n",
            " #   Column                Non-Null Count   Dtype         \n",
            "---  ------                --------------   -----         \n",
            " 0   ano                   276173 non-null  Int64         \n",
            " 1   mes                   276173 non-null  Int64         \n",
            " 2   data_inicio_pensao    276173 non-null  datetime64[ns]\n",
            " 3   ano_inicio_pensao     276173 non-null  int32         \n",
            " 4   decada_inicio_pensao  276173 non-null  int64         \n",
            " 5   tipo_pensao           276173 non-null  object        \n",
            " 6   tipo_pensao_agrupado  276173 non-null  object        \n",
            " 7   total                 276173 non-null  Int64         \n",
            "dtypes: Int64(3), datetime64[ns](1), int32(1), int64(1), object(2)\n",
            "memory usage: 18.7+ MB\n"
          ]
        }
      ],
      "source": [
        "df.info()"
      ]
    },
    {
      "cell_type": "markdown",
      "source": [
        "# Upload"
      ],
      "metadata": {
        "id": "DWxIaXkb1azD"
      }
    },
    {
      "cell_type": "code",
      "source": [
        "# Import the bigquery library from google.cloud\n",
        "from google.cloud import bigquery\n",
        "\n",
        "# Initialize the BigQuery client, specifying the Google Cloud project ID.\n",
        "# This client object is the main entry point for interacting with the BigQuery API.\n",
        "client = bigquery.Client(project='repositoriodedadosgpsp')\n",
        "\n",
        "# Create a reference to the BigQuery dataset named 'perfil_remuneracao'.\n",
        "# This object points to the dataset where the table will be created or updated.\n",
        "dataset_ref = client.dataset('perfil_remuneracao')\n",
        "\n",
        "# Define the schema for the destination BigQuery table.\n",
        "# The schema is a list of SchemaField objects, where each object defines a column's:\n",
        "# 1. Name (e.g., 'ano')\n",
        "# 2. Data type (e.g., 'INTEGER')\n",
        "# 3. Description (e.g., 'Ano de referência da observação')\n",
        "schema=[bigquery.SchemaField('ano','INTEGER',description='Ano de referência da observação'),\n",
        "        bigquery.SchemaField('mes','INTEGER',description='Mês de referência da observação'),\n",
        "        bigquery.SchemaField('data_inicio_pensao','DATETIME',description='Data de início da pensão'),\n",
        "        bigquery.SchemaField('ano_inicio_pensao','INTEGER',description='Ano de início da pensão extraido da data'),\n",
        "        bigquery.SchemaField('decada_inicio_pensao','INTEGER',description='Década de início da pensão'),\n",
        "        bigquery.SchemaField('tipo_pensao','STRING',description='Tipo de pensão'),\n",
        "        bigquery.SchemaField('tipo_pensao_agrupado','STRING',description='Categorização das pensões'),\n",
        "        bigquery.SchemaField('total','INTEGER',description='Quantidade total da observação')\n",
        "        ]\n",
        "\n",
        "# Create a reference to the target table within the dataset specified earlier.\n",
        "# The table will be named 'SIAPE_inicio_pensoes_total_v8'.\n",
        "table_ref = dataset_ref.table('SIAPE_inicio_pensoes_total_v8')\n",
        "\n",
        "# Configure the load job by creating a LoadJobConfig object.\n",
        "# Here, we specify the schema that BigQuery should use for the table. This ensures\n",
        "# that the columns in BigQuery have the correct data types and descriptions.\n",
        "job_config = bigquery.LoadJobConfig(schema=schema)\n",
        "\n",
        "# Start the job to load data from the pandas DataFrame 'df' into the specified BigQuery table ('table_ref').\n",
        "# The job is configured with the previously defined 'job_config'. This command sends the data to BigQuery.\n",
        "job = client.load_table_from_dataframe(df, table_ref, job_config=job_config)\n",
        "\n",
        "# Wait for the load job to complete and retrieve its result.\n",
        "# This line is blocking and will pause the script's execution until the data upload is finished.\n",
        "# It's crucial for ensuring the data is fully loaded before the script ends or proceeds.\n",
        "job.result()"
      ],
      "metadata": {
        "id": "5CwD10UFf76g"
      },
      "execution_count": null,
      "outputs": []
    }
  ],
  "metadata": {
    "kernelspec": {
      "display_name": "base",
      "language": "python",
      "name": "python3"
    },
    "language_info": {
      "codemirror_mode": {
        "name": "ipython",
        "version": 3
      },
      "file_extension": ".py",
      "mimetype": "text/x-python",
      "name": "python",
      "nbconvert_exporter": "python",
      "pygments_lexer": "ipython3",
      "version": "3.11.4"
    },
    "colab": {
      "provenance": []
    }
  },
  "nbformat": 4,
  "nbformat_minor": 0
}