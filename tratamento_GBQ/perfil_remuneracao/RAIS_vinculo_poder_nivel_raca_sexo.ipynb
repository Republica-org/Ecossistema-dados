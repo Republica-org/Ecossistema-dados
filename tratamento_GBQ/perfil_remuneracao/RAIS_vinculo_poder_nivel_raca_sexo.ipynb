{
 "cells": [
  {
   "cell_type": "code",
   "execution_count": 1,
   "metadata": {},
   "outputs": [],
   "source": [
    "import numpy as np\n",
    "import pandas as pd\n",
    "import numpy as np\n",
    "import os\n",
    "import time\n",
    "from google.cloud import bigquery\n",
    "import re"
   ]
  },
  {
   "cell_type": "code",
   "execution_count": 2,
   "metadata": {},
   "outputs": [],
   "source": [
    "os.chdir('G:\\\\Drives compartilhados\\\\República.org\\\\4. Equipes\\\\Dados e Comunicação\\\\DADOS\\\\415 - Repositório de Dados\\\\Dados para subir\\\\Tabelas finais')\n"
   ]
  },
  {
   "cell_type": "code",
   "execution_count": 27,
   "metadata": {},
   "outputs": [
    {
     "data": {
      "text/html": [
       "<div>\n",
       "<style scoped>\n",
       "    .dataframe tbody tr th:only-of-type {\n",
       "        vertical-align: middle;\n",
       "    }\n",
       "\n",
       "    .dataframe tbody tr th {\n",
       "        vertical-align: top;\n",
       "    }\n",
       "\n",
       "    .dataframe thead th {\n",
       "        text-align: right;\n",
       "    }\n",
       "</style>\n",
       "<table border=\"1\" class=\"dataframe\">\n",
       "  <thead>\n",
       "    <tr style=\"text-align: right;\">\n",
       "      <th></th>\n",
       "      <th>esfera</th>\n",
       "      <th>poder</th>\n",
       "      <th>raca</th>\n",
       "      <th>genero</th>\n",
       "      <th>ano</th>\n",
       "      <th>valores</th>\n",
       "    </tr>\n",
       "  </thead>\n",
       "  <tbody>\n",
       "    <tr>\n",
       "      <th>0</th>\n",
       "      <td>Estadual</td>\n",
       "      <td>Executivo</td>\n",
       "      <td>Amarela</td>\n",
       "      <td>Feminino</td>\n",
       "      <td>2004</td>\n",
       "      <td>15113.0</td>\n",
       "    </tr>\n",
       "    <tr>\n",
       "      <th>1</th>\n",
       "      <td>Estadual</td>\n",
       "      <td>Executivo</td>\n",
       "      <td>Amarela</td>\n",
       "      <td>Masculino</td>\n",
       "      <td>2004</td>\n",
       "      <td>10887.0</td>\n",
       "    </tr>\n",
       "    <tr>\n",
       "      <th>2</th>\n",
       "      <td>Estadual</td>\n",
       "      <td>Executivo</td>\n",
       "      <td>Branca</td>\n",
       "      <td>Feminino</td>\n",
       "      <td>2004</td>\n",
       "      <td>1239279.0</td>\n",
       "    </tr>\n",
       "    <tr>\n",
       "      <th>3</th>\n",
       "      <td>Estadual</td>\n",
       "      <td>Executivo</td>\n",
       "      <td>Branca</td>\n",
       "      <td>Masculino</td>\n",
       "      <td>2004</td>\n",
       "      <td>795102.0</td>\n",
       "    </tr>\n",
       "    <tr>\n",
       "      <th>4</th>\n",
       "      <td>Estadual</td>\n",
       "      <td>Executivo</td>\n",
       "      <td>Indígena</td>\n",
       "      <td>Feminino</td>\n",
       "      <td>2004</td>\n",
       "      <td>15046.0</td>\n",
       "    </tr>\n",
       "    <tr>\n",
       "      <th>...</th>\n",
       "      <td>...</td>\n",
       "      <td>...</td>\n",
       "      <td>...</td>\n",
       "      <td>...</td>\n",
       "      <td>...</td>\n",
       "      <td>...</td>\n",
       "    </tr>\n",
       "    <tr>\n",
       "      <th>1355</th>\n",
       "      <td>Municipal</td>\n",
       "      <td>Legislativo</td>\n",
       "      <td>Indígena</td>\n",
       "      <td>Masculino</td>\n",
       "      <td>2020</td>\n",
       "      <td>321.0</td>\n",
       "    </tr>\n",
       "    <tr>\n",
       "      <th>1356</th>\n",
       "      <td>Municipal</td>\n",
       "      <td>Legislativo</td>\n",
       "      <td>Parda</td>\n",
       "      <td>Feminino</td>\n",
       "      <td>2020</td>\n",
       "      <td>21292.0</td>\n",
       "    </tr>\n",
       "    <tr>\n",
       "      <th>1357</th>\n",
       "      <td>Municipal</td>\n",
       "      <td>Legislativo</td>\n",
       "      <td>Parda</td>\n",
       "      <td>Masculino</td>\n",
       "      <td>2020</td>\n",
       "      <td>25679.0</td>\n",
       "    </tr>\n",
       "    <tr>\n",
       "      <th>1358</th>\n",
       "      <td>Municipal</td>\n",
       "      <td>Legislativo</td>\n",
       "      <td>Preta</td>\n",
       "      <td>Feminino</td>\n",
       "      <td>2020</td>\n",
       "      <td>1953.0</td>\n",
       "    </tr>\n",
       "    <tr>\n",
       "      <th>1359</th>\n",
       "      <td>Municipal</td>\n",
       "      <td>Legislativo</td>\n",
       "      <td>Preta</td>\n",
       "      <td>Masculino</td>\n",
       "      <td>2020</td>\n",
       "      <td>2716.0</td>\n",
       "    </tr>\n",
       "  </tbody>\n",
       "</table>\n",
       "<p>1360 rows × 6 columns</p>\n",
       "</div>"
      ],
      "text/plain": [
       "         esfera        poder      raca     genero   ano    valores\n",
       "0      Estadual    Executivo   Amarela   Feminino  2004    15113.0\n",
       "1      Estadual    Executivo   Amarela  Masculino  2004    10887.0\n",
       "2      Estadual    Executivo    Branca   Feminino  2004  1239279.0\n",
       "3      Estadual    Executivo    Branca  Masculino  2004   795102.0\n",
       "4      Estadual    Executivo  Indígena   Feminino  2004    15046.0\n",
       "...         ...          ...       ...        ...   ...        ...\n",
       "1355  Municipal  Legislativo  Indígena  Masculino  2020      321.0\n",
       "1356  Municipal  Legislativo     Parda   Feminino  2020    21292.0\n",
       "1357  Municipal  Legislativo     Parda  Masculino  2020    25679.0\n",
       "1358  Municipal  Legislativo     Preta   Feminino  2020     1953.0\n",
       "1359  Municipal  Legislativo     Preta  Masculino  2020     2716.0\n",
       "\n",
       "[1360 rows x 6 columns]"
      ]
     },
     "execution_count": 27,
     "metadata": {},
     "output_type": "execute_result"
    }
   ],
   "source": [
    "df = pd.read_csv('RAIS_vinculo_poder_nivel_raca_sexo.csv', sep=';')\n",
    "df"
   ]
  },
  {
   "cell_type": "code",
   "execution_count": 28,
   "metadata": {},
   "outputs": [
    {
     "data": {
      "text/plain": [
       "array(['Amarela', 'Branca', 'Indígena', 'Parda', 'Preta'], dtype=object)"
      ]
     },
     "execution_count": 28,
     "metadata": {},
     "output_type": "execute_result"
    }
   ],
   "source": [
    "df['raca'].unique()"
   ]
  },
  {
   "cell_type": "code",
   "execution_count": 29,
   "metadata": {},
   "outputs": [
    {
     "data": {
      "text/plain": [
       "array(['Feminino', 'Masculino'], dtype=object)"
      ]
     },
     "execution_count": 29,
     "metadata": {},
     "output_type": "execute_result"
    }
   ],
   "source": [
    "df['genero'].unique()"
   ]
  },
  {
   "cell_type": "code",
   "execution_count": 30,
   "metadata": {},
   "outputs": [
    {
     "data": {
      "text/html": [
       "<div>\n",
       "<style scoped>\n",
       "    .dataframe tbody tr th:only-of-type {\n",
       "        vertical-align: middle;\n",
       "    }\n",
       "\n",
       "    .dataframe tbody tr th {\n",
       "        vertical-align: top;\n",
       "    }\n",
       "\n",
       "    .dataframe thead th {\n",
       "        text-align: right;\n",
       "    }\n",
       "</style>\n",
       "<table border=\"1\" class=\"dataframe\">\n",
       "  <thead>\n",
       "    <tr style=\"text-align: right;\">\n",
       "      <th></th>\n",
       "      <th>esfera_governo</th>\n",
       "      <th>poderes</th>\n",
       "      <th>cor_raca</th>\n",
       "      <th>genero</th>\n",
       "      <th>ano</th>\n",
       "      <th>quantidade_vinculos</th>\n",
       "    </tr>\n",
       "  </thead>\n",
       "  <tbody>\n",
       "    <tr>\n",
       "      <th>0</th>\n",
       "      <td>Estadual</td>\n",
       "      <td>Executivo</td>\n",
       "      <td>Amarela</td>\n",
       "      <td>Feminino</td>\n",
       "      <td>2004</td>\n",
       "      <td>15113.0</td>\n",
       "    </tr>\n",
       "    <tr>\n",
       "      <th>1</th>\n",
       "      <td>Estadual</td>\n",
       "      <td>Executivo</td>\n",
       "      <td>Amarela</td>\n",
       "      <td>Masculino</td>\n",
       "      <td>2004</td>\n",
       "      <td>10887.0</td>\n",
       "    </tr>\n",
       "    <tr>\n",
       "      <th>2</th>\n",
       "      <td>Estadual</td>\n",
       "      <td>Executivo</td>\n",
       "      <td>Branca</td>\n",
       "      <td>Feminino</td>\n",
       "      <td>2004</td>\n",
       "      <td>1239279.0</td>\n",
       "    </tr>\n",
       "    <tr>\n",
       "      <th>3</th>\n",
       "      <td>Estadual</td>\n",
       "      <td>Executivo</td>\n",
       "      <td>Branca</td>\n",
       "      <td>Masculino</td>\n",
       "      <td>2004</td>\n",
       "      <td>795102.0</td>\n",
       "    </tr>\n",
       "    <tr>\n",
       "      <th>4</th>\n",
       "      <td>Estadual</td>\n",
       "      <td>Executivo</td>\n",
       "      <td>Indígena</td>\n",
       "      <td>Feminino</td>\n",
       "      <td>2004</td>\n",
       "      <td>15046.0</td>\n",
       "    </tr>\n",
       "    <tr>\n",
       "      <th>...</th>\n",
       "      <td>...</td>\n",
       "      <td>...</td>\n",
       "      <td>...</td>\n",
       "      <td>...</td>\n",
       "      <td>...</td>\n",
       "      <td>...</td>\n",
       "    </tr>\n",
       "    <tr>\n",
       "      <th>1355</th>\n",
       "      <td>Municipal</td>\n",
       "      <td>Legislativo</td>\n",
       "      <td>Indígena</td>\n",
       "      <td>Masculino</td>\n",
       "      <td>2020</td>\n",
       "      <td>321.0</td>\n",
       "    </tr>\n",
       "    <tr>\n",
       "      <th>1356</th>\n",
       "      <td>Municipal</td>\n",
       "      <td>Legislativo</td>\n",
       "      <td>Parda</td>\n",
       "      <td>Feminino</td>\n",
       "      <td>2020</td>\n",
       "      <td>21292.0</td>\n",
       "    </tr>\n",
       "    <tr>\n",
       "      <th>1357</th>\n",
       "      <td>Municipal</td>\n",
       "      <td>Legislativo</td>\n",
       "      <td>Parda</td>\n",
       "      <td>Masculino</td>\n",
       "      <td>2020</td>\n",
       "      <td>25679.0</td>\n",
       "    </tr>\n",
       "    <tr>\n",
       "      <th>1358</th>\n",
       "      <td>Municipal</td>\n",
       "      <td>Legislativo</td>\n",
       "      <td>Preta</td>\n",
       "      <td>Feminino</td>\n",
       "      <td>2020</td>\n",
       "      <td>1953.0</td>\n",
       "    </tr>\n",
       "    <tr>\n",
       "      <th>1359</th>\n",
       "      <td>Municipal</td>\n",
       "      <td>Legislativo</td>\n",
       "      <td>Preta</td>\n",
       "      <td>Masculino</td>\n",
       "      <td>2020</td>\n",
       "      <td>2716.0</td>\n",
       "    </tr>\n",
       "  </tbody>\n",
       "</table>\n",
       "<p>1360 rows × 6 columns</p>\n",
       "</div>"
      ],
      "text/plain": [
       "     esfera_governo      poderes  cor_raca     genero   ano  \\\n",
       "0          Estadual    Executivo   Amarela   Feminino  2004   \n",
       "1          Estadual    Executivo   Amarela  Masculino  2004   \n",
       "2          Estadual    Executivo    Branca   Feminino  2004   \n",
       "3          Estadual    Executivo    Branca  Masculino  2004   \n",
       "4          Estadual    Executivo  Indígena   Feminino  2004   \n",
       "...             ...          ...       ...        ...   ...   \n",
       "1355      Municipal  Legislativo  Indígena  Masculino  2020   \n",
       "1356      Municipal  Legislativo     Parda   Feminino  2020   \n",
       "1357      Municipal  Legislativo     Parda  Masculino  2020   \n",
       "1358      Municipal  Legislativo     Preta   Feminino  2020   \n",
       "1359      Municipal  Legislativo     Preta  Masculino  2020   \n",
       "\n",
       "      quantidade_vinculos  \n",
       "0                 15113.0  \n",
       "1                 10887.0  \n",
       "2               1239279.0  \n",
       "3                795102.0  \n",
       "4                 15046.0  \n",
       "...                   ...  \n",
       "1355                321.0  \n",
       "1356              21292.0  \n",
       "1357              25679.0  \n",
       "1358               1953.0  \n",
       "1359               2716.0  \n",
       "\n",
       "[1360 rows x 6 columns]"
      ]
     },
     "execution_count": 30,
     "metadata": {},
     "output_type": "execute_result"
    }
   ],
   "source": [
    "df = df.rename(columns={\"esfera\" : \"esfera_governo\", \"poder\" : \"poderes\", \"raca\" :\"cor_raca\", \"valores\" : \"quantidade_vinculos\"})\n",
    "df"
   ]
  },
  {
   "cell_type": "code",
   "execution_count": 31,
   "metadata": {},
   "outputs": [],
   "source": [
    "def transformar(nome):\n",
    "    nome = re.sub(r\"\\bFeminino\\b\", \"Mulheres\", nome)\n",
    "    nome =re.sub(r\"\\bMasculino\\b\", \"Homens\", nome)\n",
    "    return nome"
   ]
  },
  {
   "cell_type": "code",
   "execution_count": 32,
   "metadata": {},
   "outputs": [],
   "source": [
    "df['genero'] = df['genero'].apply(transformar)"
   ]
  },
  {
   "cell_type": "code",
   "execution_count": 33,
   "metadata": {},
   "outputs": [],
   "source": [
    "df['genero_raca'] = df['genero'] + ' ' + df['cor_raca']"
   ]
  },
  {
   "cell_type": "code",
   "execution_count": 34,
   "metadata": {},
   "outputs": [
    {
     "data": {
      "text/plain": [
       "array(['Mulheres Amarela', 'Homens Amarela', 'Mulheres Branca',\n",
       "       'Homens Branca', 'Mulheres Indígena', 'Homens Indígena',\n",
       "       'Mulheres Parda', 'Homens Parda', 'Mulheres Preta', 'Homens Preta'],\n",
       "      dtype=object)"
      ]
     },
     "execution_count": 34,
     "metadata": {},
     "output_type": "execute_result"
    }
   ],
   "source": [
    "df['genero_raca'].unique()"
   ]
  },
  {
   "cell_type": "code",
   "execution_count": 35,
   "metadata": {},
   "outputs": [],
   "source": [
    "def transforme(nome):\n",
    "    nome =re.sub(r\"\\bMulheres Amarela\\b\", \"Mulheres Amarelas\", nome)\n",
    "    nome =re.sub(r\"\\bHomens Amarela\\b\", \"Homens Amarelos\", nome)\n",
    "    nome =re.sub(r\"\\bMulheres Branca\\b\", \"Mulheres Brancas\", nome)\n",
    "    nome =re.sub(r\"\\bHomens Branca\\b\", \"Homens Brancos\", nome) \n",
    "    nome =re.sub(r\"\\bMulheres Indígena\\b\", \"Mulheres Indígenas\", nome)\n",
    "    nome =re.sub(r\"\\bHomens Indígena\\b\", \"Homens Indígenas\", nome)\n",
    "    nome =re.sub(r\"\\bMulheres Parda\\b\", \"Mulheres Pardas\", nome)\n",
    "    nome =re.sub(r\"\\bHomens Parda\\b\", \"Homens Pardos\", nome)\n",
    "    nome =re.sub(r\"\\bMulheres Preta\\b\", \"Mulheres Pretas\", nome)\n",
    "    nome =re.sub(r\"\\bHomens Preta\\b\", \"Homens Pretos\", nome)\n",
    "    \n",
    "    return nome"
   ]
  },
  {
   "cell_type": "code",
   "execution_count": 36,
   "metadata": {},
   "outputs": [],
   "source": [
    "df['genero_raca'] = df['genero_raca'].apply(transforme)"
   ]
  },
  {
   "cell_type": "code",
   "execution_count": 37,
   "metadata": {},
   "outputs": [
    {
     "data": {
      "text/plain": [
       "array(['Mulheres Amarelas', 'Homens Amarelos', 'Mulheres Brancas',\n",
       "       'Homens Brancos', 'Mulheres Indígenas', 'Homens Indígenas',\n",
       "       'Mulheres Pardas', 'Homens Pardos', 'Mulheres Pretas',\n",
       "       'Homens Pretos'], dtype=object)"
      ]
     },
     "execution_count": 37,
     "metadata": {},
     "output_type": "execute_result"
    }
   ],
   "source": [
    "df['genero_raca'].unique()"
   ]
  },
  {
   "cell_type": "code",
   "execution_count": 39,
   "metadata": {},
   "outputs": [],
   "source": [
    "df = df[['ano', 'esfera_governo', 'poderes', 'genero', 'cor_raca', 'genero_raca', 'quantidade_vinculos']]"
   ]
  },
  {
   "cell_type": "code",
   "execution_count": 40,
   "metadata": {},
   "outputs": [
    {
     "data": {
      "text/html": [
       "<div>\n",
       "<style scoped>\n",
       "    .dataframe tbody tr th:only-of-type {\n",
       "        vertical-align: middle;\n",
       "    }\n",
       "\n",
       "    .dataframe tbody tr th {\n",
       "        vertical-align: top;\n",
       "    }\n",
       "\n",
       "    .dataframe thead th {\n",
       "        text-align: right;\n",
       "    }\n",
       "</style>\n",
       "<table border=\"1\" class=\"dataframe\">\n",
       "  <thead>\n",
       "    <tr style=\"text-align: right;\">\n",
       "      <th></th>\n",
       "      <th>ano</th>\n",
       "      <th>esfera_governo</th>\n",
       "      <th>poderes</th>\n",
       "      <th>genero</th>\n",
       "      <th>cor_raca</th>\n",
       "      <th>genero_raca</th>\n",
       "      <th>quantidade_vinculos</th>\n",
       "    </tr>\n",
       "  </thead>\n",
       "  <tbody>\n",
       "    <tr>\n",
       "      <th>0</th>\n",
       "      <td>2004</td>\n",
       "      <td>Estadual</td>\n",
       "      <td>Executivo</td>\n",
       "      <td>Mulheres</td>\n",
       "      <td>Amarela</td>\n",
       "      <td>Mulheres Amarelas</td>\n",
       "      <td>15113.0</td>\n",
       "    </tr>\n",
       "    <tr>\n",
       "      <th>1</th>\n",
       "      <td>2004</td>\n",
       "      <td>Estadual</td>\n",
       "      <td>Executivo</td>\n",
       "      <td>Homens</td>\n",
       "      <td>Amarela</td>\n",
       "      <td>Homens Amarelos</td>\n",
       "      <td>10887.0</td>\n",
       "    </tr>\n",
       "    <tr>\n",
       "      <th>2</th>\n",
       "      <td>2004</td>\n",
       "      <td>Estadual</td>\n",
       "      <td>Executivo</td>\n",
       "      <td>Mulheres</td>\n",
       "      <td>Branca</td>\n",
       "      <td>Mulheres Brancas</td>\n",
       "      <td>1239279.0</td>\n",
       "    </tr>\n",
       "    <tr>\n",
       "      <th>3</th>\n",
       "      <td>2004</td>\n",
       "      <td>Estadual</td>\n",
       "      <td>Executivo</td>\n",
       "      <td>Homens</td>\n",
       "      <td>Branca</td>\n",
       "      <td>Homens Brancos</td>\n",
       "      <td>795102.0</td>\n",
       "    </tr>\n",
       "    <tr>\n",
       "      <th>4</th>\n",
       "      <td>2004</td>\n",
       "      <td>Estadual</td>\n",
       "      <td>Executivo</td>\n",
       "      <td>Mulheres</td>\n",
       "      <td>Indígena</td>\n",
       "      <td>Mulheres Indígenas</td>\n",
       "      <td>15046.0</td>\n",
       "    </tr>\n",
       "    <tr>\n",
       "      <th>...</th>\n",
       "      <td>...</td>\n",
       "      <td>...</td>\n",
       "      <td>...</td>\n",
       "      <td>...</td>\n",
       "      <td>...</td>\n",
       "      <td>...</td>\n",
       "      <td>...</td>\n",
       "    </tr>\n",
       "    <tr>\n",
       "      <th>1355</th>\n",
       "      <td>2020</td>\n",
       "      <td>Municipal</td>\n",
       "      <td>Legislativo</td>\n",
       "      <td>Homens</td>\n",
       "      <td>Indígena</td>\n",
       "      <td>Homens Indígenas</td>\n",
       "      <td>321.0</td>\n",
       "    </tr>\n",
       "    <tr>\n",
       "      <th>1356</th>\n",
       "      <td>2020</td>\n",
       "      <td>Municipal</td>\n",
       "      <td>Legislativo</td>\n",
       "      <td>Mulheres</td>\n",
       "      <td>Parda</td>\n",
       "      <td>Mulheres Pardas</td>\n",
       "      <td>21292.0</td>\n",
       "    </tr>\n",
       "    <tr>\n",
       "      <th>1357</th>\n",
       "      <td>2020</td>\n",
       "      <td>Municipal</td>\n",
       "      <td>Legislativo</td>\n",
       "      <td>Homens</td>\n",
       "      <td>Parda</td>\n",
       "      <td>Homens Pardos</td>\n",
       "      <td>25679.0</td>\n",
       "    </tr>\n",
       "    <tr>\n",
       "      <th>1358</th>\n",
       "      <td>2020</td>\n",
       "      <td>Municipal</td>\n",
       "      <td>Legislativo</td>\n",
       "      <td>Mulheres</td>\n",
       "      <td>Preta</td>\n",
       "      <td>Mulheres Pretas</td>\n",
       "      <td>1953.0</td>\n",
       "    </tr>\n",
       "    <tr>\n",
       "      <th>1359</th>\n",
       "      <td>2020</td>\n",
       "      <td>Municipal</td>\n",
       "      <td>Legislativo</td>\n",
       "      <td>Homens</td>\n",
       "      <td>Preta</td>\n",
       "      <td>Homens Pretos</td>\n",
       "      <td>2716.0</td>\n",
       "    </tr>\n",
       "  </tbody>\n",
       "</table>\n",
       "<p>1360 rows × 7 columns</p>\n",
       "</div>"
      ],
      "text/plain": [
       "       ano esfera_governo      poderes    genero  cor_raca  \\\n",
       "0     2004       Estadual    Executivo  Mulheres   Amarela   \n",
       "1     2004       Estadual    Executivo    Homens   Amarela   \n",
       "2     2004       Estadual    Executivo  Mulheres    Branca   \n",
       "3     2004       Estadual    Executivo    Homens    Branca   \n",
       "4     2004       Estadual    Executivo  Mulheres  Indígena   \n",
       "...    ...            ...          ...       ...       ...   \n",
       "1355  2020      Municipal  Legislativo    Homens  Indígena   \n",
       "1356  2020      Municipal  Legislativo  Mulheres     Parda   \n",
       "1357  2020      Municipal  Legislativo    Homens     Parda   \n",
       "1358  2020      Municipal  Legislativo  Mulheres     Preta   \n",
       "1359  2020      Municipal  Legislativo    Homens     Preta   \n",
       "\n",
       "             genero_raca  quantidade_vinculos  \n",
       "0      Mulheres Amarelas              15113.0  \n",
       "1        Homens Amarelos              10887.0  \n",
       "2       Mulheres Brancas            1239279.0  \n",
       "3         Homens Brancos             795102.0  \n",
       "4     Mulheres Indígenas              15046.0  \n",
       "...                  ...                  ...  \n",
       "1355    Homens Indígenas                321.0  \n",
       "1356     Mulheres Pardas              21292.0  \n",
       "1357       Homens Pardos              25679.0  \n",
       "1358     Mulheres Pretas               1953.0  \n",
       "1359       Homens Pretos               2716.0  \n",
       "\n",
       "[1360 rows x 7 columns]"
      ]
     },
     "execution_count": 40,
     "metadata": {},
     "output_type": "execute_result"
    }
   ],
   "source": [
    "df"
   ]
  },
  {
   "attachments": {},
   "cell_type": "markdown",
   "metadata": {},
   "source": [
    "Subindo para o GBQ"
   ]
  },
  {
   "cell_type": "code",
   "execution_count": 41,
   "metadata": {},
   "outputs": [
    {
     "name": "stderr",
     "output_type": "stream",
     "text": [
      "c:\\Users\\ana.sales_republica\\Anaconda\\lib\\site-packages\\google\\auth\\_default.py:78: UserWarning: Your application has authenticated using end user credentials from Google Cloud SDK without a quota project. You might receive a \"quota exceeded\" or \"API not enabled\" error. See the following page for troubleshooting: https://cloud.google.com/docs/authentication/adc-troubleshooting/user-creds. \n",
      "  warnings.warn(_CLOUD_SDK_CREDENTIALS_WARNING)\n"
     ]
    }
   ],
   "source": [
    "client = bigquery.Client()\n",
    "dataset_ref = client.dataset('perfil_remuneracao')"
   ]
  },
  {
   "cell_type": "code",
   "execution_count": 42,
   "metadata": {},
   "outputs": [],
   "source": [
    "schema = [bigquery.SchemaField('ano', 'INTEGER', description= 'Ano de referência da observação'),\n",
    "          bigquery.SchemaField('esfera_governo', 'STRING', description= 'Nível da esfera do governo referente da observação'),\n",
    "          bigquery.SchemaField('poderes', 'STRING', description= 'Poder abrangente ao nível de esfera referente a observação'),\n",
    "          bigquery.SchemaField('genero', 'STRING', description= 'Gênero autodeclarado ou não'),\n",
    "          bigquery.SchemaField('cor_raca', 'STRING', description= 'Raça/cor da pessoa observada'),\n",
    "          bigquery.SchemaField('genero_raca', 'STRING', description= 'Gênero e raça da pessoa observada'),\n",
    "          bigquery.SchemaField('quantidade_vinculos', 'FLOAT', description= 'Número total de vinculos observados')]"
   ]
  },
  {
   "cell_type": "code",
   "execution_count": 43,
   "metadata": {},
   "outputs": [
    {
     "data": {
      "text/plain": [
       "LoadJob<project=repositoriodedadosgpsp, location=US, id=37df400b-d03a-4ffc-b5a0-1c2193279598>"
      ]
     },
     "execution_count": 43,
     "metadata": {},
     "output_type": "execute_result"
    }
   ],
   "source": [
    "table_ref = dataset_ref.table('RAIS_vinculo_poder_nivel_raca_sexo')\n",
    "job_config = bigquery.LoadJobConfig(schema=schema)\n",
    "job = client.load_table_from_dataframe(df, table_ref, job_config=job_config)\n",
    "job.result() "
   ]
  }
 ],
 "metadata": {
  "kernelspec": {
   "display_name": "base",
   "language": "python",
   "name": "python3"
  },
  "language_info": {
   "codemirror_mode": {
    "name": "ipython",
    "version": 3
   },
   "file_extension": ".py",
   "mimetype": "text/x-python",
   "name": "python",
   "nbconvert_exporter": "python",
   "pygments_lexer": "ipython3",
   "version": "3.10.9"
  },
  "orig_nbformat": 4
 },
 "nbformat": 4,
 "nbformat_minor": 2
}
