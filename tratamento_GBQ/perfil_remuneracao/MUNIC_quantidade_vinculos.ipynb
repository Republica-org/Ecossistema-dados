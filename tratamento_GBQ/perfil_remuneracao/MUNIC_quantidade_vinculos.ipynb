{
  "nbformat": 4,
  "nbformat_minor": 0,
  "metadata": {
    "colab": {
      "provenance": []
    },
    "kernelspec": {
      "name": "python3",
      "display_name": "Python 3"
    },
    "language_info": {
      "name": "python"
    }
  },
  "cells": [
    {
      "cell_type": "markdown",
      "source": [
        "# Dependência"
      ],
      "metadata": {
        "id": "vRYut6LKYDAS"
      }
    },
    {
      "cell_type": "code",
      "source": [
        "# Install Google Cloud SDK components (typically run once per environment)\n",
        "# Note: These are shell commands, not Python code, hence the '!' prefix in Jupyter notebooks\n",
        "!pip install gcloud  # Installs the Google Cloud CLI tools\n",
        "!gcloud auth application-default login  # Sets up application default credentials for GCP access\n",
        "\n",
        "# Import required Python packages for data processing and Google Cloud operations\n",
        "import pandas as pd         # Primary data analysis library (DataFrames, Series)\n",
        "import numpy as np          # Numerical computing (arrays, math operations)\n",
        "import time                 # Time measurement and delays\n",
        "import os                   # Operating system interactions (files, paths)\n",
        "import pandas_gbq           # Pandas-BigQuery integration (direct DataFrame transfers)\n",
        "from google.cloud import bigquery  # Official BigQuery client library (detailed operations)\n",
        "import glob                 # File path pattern matching (finding files by patterns)\n",
        "import openpyxl             # Excel file reading/writing (.xlsx format support)\n",
        "import csv                  # CSV file reading/writing\n",
        "import re                   # Regular expressions (text pattern matching)"
      ],
      "metadata": {
        "id": "O-JyA07VYUqC"
      },
      "execution_count": null,
      "outputs": []
    },
    {
      "cell_type": "markdown",
      "source": [
        "# Tratamento"
      ],
      "metadata": {
        "id": "pJ8VUCvbqfWj"
      }
    },
    {
      "cell_type": "code",
      "source": [
        "# Load data from Excel file (MUNIC 2023 survey, Human Resources sheet)\n",
        "df = pd.read_excel(\"Base_MUNIC_2023(1).xlsx\", sheet_name='Recursos humanos')\n",
        "\n",
        "# Create two separate dataframes for different question groups (MREH01* and MREH03*)\n",
        "df1 = df[['Sigla UF', 'CodMun', 'MREH0111', 'MREH0112', 'MREH0113', 'MREH0114', 'MREH0115']]\n",
        "df2 = df[['Sigla UF', 'CodMun', 'MREH0311', 'MREH0312', 'MREH0313', 'MREH0314', 'MREH0315']]\n",
        "\n",
        "# Rename columns to meaningful Portuguese names\n",
        "df1 = df1.rename(columns={\n",
        "    'MREH0111':'Estatutários',\n",
        "    'MREH0112':'Celetistas',\n",
        "    'MREH0113':'Somente comissionados',\n",
        "    'MREH0114':'Estagiários',\n",
        "    'MREH0115':'Sem vínculo permanente',\n",
        "    'CodMun':'id_municipio',\n",
        "    'Sigla UF':'sigla_uf'\n",
        "})\n",
        "\n",
        "df2 = df2.rename(columns={\n",
        "    'MREH0311':'Estatutários',\n",
        "    'MREH0312':'Celetistas',\n",
        "    'MREH0313':'Somente comissionados',\n",
        "    'MREH0314':'Estagiários',\n",
        "    'MREH0315':'Sem vínculo permanente',\n",
        "    'CodMun':'id_municipio',\n",
        "    'Sigla UF':'sigla_uf'\n",
        "})\n",
        "\n",
        "# Transform both dataframes from wide to long format\n",
        "df1 = df1.melt(\n",
        "    id_vars=['sigla_uf', 'id_municipio'],\n",
        "    value_vars=['Estatutários', 'Celetistas', 'Somente comissionados', 'Estagiários', 'Sem vínculo permanente'],\n",
        "    var_name='tipo_vinculo',\n",
        "    value_name='quantidade_vinculos'\n",
        ")\n",
        "\n",
        "df2 = df2.melt(\n",
        "    id_vars=['sigla_uf', 'id_municipio'],\n",
        "    value_vars=['Estatutários', 'Celetistas', 'Somente comissionados', 'Estagiários', 'Sem vínculo permanente'],\n",
        "    var_name='tipo_vinculo',\n",
        "    value_name='quantidade_vinculos'\n",
        ")\n",
        "\n",
        "# Combine both dataframes\n",
        "df = pd.concat([df1, df2])\n",
        "\n",
        "# Clean and standardize the numeric values\n",
        "df['quantidade_vinculos'] = pd.to_numeric(df['quantidade_vinculos'], errors='coerce')\n",
        "df['quantidade_vinculos'] = df['quantidade_vinculos'].fillna(0)\n",
        "\n",
        "# Select and reorder columns\n",
        "df = df[['tipo_vinculo', 'sigla_uf', 'quantidade_vinculos', 'id_municipio']]\n",
        "\n",
        "# Aggregate data by UF, municipality and employment type\n",
        "df = df.groupby(['sigla_uf', 'tipo_vinculo', 'id_municipio'], as_index=False)['quantidade_vinculos'].sum()\n",
        "\n",
        "# Add year column and finalize column order\n",
        "df['ano'] = 2023\n",
        "df = df[['ano', 'tipo_vinculo', 'sigla_uf', 'id_municipio', 'quantidade_vinculos']]\n",
        "\n",
        "# Ensure municipality code is treated as string\n",
        "df['id_municipio'] = df['id_municipio'].astype(str)"
      ],
      "metadata": {
        "id": "J9eC-Z-vYqJG"
      },
      "execution_count": null,
      "outputs": []
    },
    {
      "cell_type": "code",
      "source": [
        "df.info()"
      ],
      "metadata": {
        "colab": {
          "base_uri": "https://localhost:8080/"
        },
        "id": "4wEVs2CnnI2L",
        "outputId": "fc41674e-f417-4158-884f-478d869d70d7"
      },
      "execution_count": null,
      "outputs": [
        {
          "output_type": "stream",
          "name": "stdout",
          "text": [
            "<class 'pandas.core.frame.DataFrame'>\n",
            "RangeIndex: 27850 entries, 0 to 27849\n",
            "Data columns (total 5 columns):\n",
            " #   Column               Non-Null Count  Dtype  \n",
            "---  ------               --------------  -----  \n",
            " 0   ano                  27850 non-null  int64  \n",
            " 1   tipo_vinculo         27850 non-null  object \n",
            " 2   sigla_uf             27850 non-null  object \n",
            " 3   id_municipio         27850 non-null  object \n",
            " 4   quantidade_vinculos  27850 non-null  float64\n",
            "dtypes: float64(1), int64(1), object(3)\n",
            "memory usage: 1.1+ MB\n"
          ]
        }
      ]
    },
    {
      "cell_type": "markdown",
      "source": [
        "# Upload"
      ],
      "metadata": {
        "id": "1KvMGWrPYJ1i"
      }
    },
    {
      "cell_type": "code",
      "source": [
        "# Define the BigQuery table schema with field types and descriptions\n",
        "schema = [\n",
        "    bigquery.SchemaField('ano', 'INTEGER', description='Reference year of the information'),\n",
        "    bigquery.SchemaField('tipo_vinculo', 'STRING', description='Type of employment contract'),\n",
        "    bigquery.SchemaField('sigla_uf', 'STRING', description='State abbreviation code'),\n",
        "    bigquery.SchemaField('id_municipio', 'STRING', description='Municipality identifier'),\n",
        "    bigquery.SchemaField('quantidade_vinculos', 'INTEGER', description='Number of employment contracts')\n",
        "]\n",
        "\n",
        "# Initialize BigQuery client connection\n",
        "client = bigquery.Client(project='repositoriodedadosgpsp')\n",
        "\n",
        "# Create reference to target dataset\n",
        "dataset_ref = client.dataset('perfil_remuneracao')\n",
        "\n",
        "# Create reference to target table with standardized naming convention (SOURCE_descriptive_name_version)\n",
        "table_ref = dataset_ref.table('MUNIC_quantidade_vinculos_v1')\n",
        "\n",
        "# Configure the load job with our schema definition\n",
        "job_config = bigquery.LoadJobConfig(schema=schema)\n",
        "\n",
        "# Execute the load job to transfer DataFrame to BigQuery\n",
        "job = client.load_table_from_dataframe(\n",
        "    dataframe=df,\n",
        "    destination=table_ref,\n",
        "    job_config=job_config\n",
        ")\n",
        "\n",
        "# Wait for the job to complete\n",
        "job.result()"
      ],
      "metadata": {
        "id": "Njro3LzPZf19"
      },
      "execution_count": null,
      "outputs": []
    }
  ]
}