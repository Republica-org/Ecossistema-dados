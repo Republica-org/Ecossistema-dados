{
  "cells": [
    {
      "cell_type": "markdown",
      "source": [
        "# Dependências"
      ],
      "metadata": {
        "id": "rbDak9P5FG-B"
      }
    },
    {
      "cell_type": "code",
      "source": [
        "# Install required Google Cloud packages (commented out as these are typically one-time setup commands)\n",
        "!pip install gcloud\n",
        "!gcloud auth application-default login\n",
        "\n",
        "# Import necessary Python libraries\n",
        "import pandas as pd                # Data manipulation and analysis\n",
        "import numpy as np                 # Numerical computing\n",
        "import time                        # Time-related functions\n",
        "import os                          # Operating system interfaces\n",
        "import pandas_gbq                  # Pandas integration with BigQuery\n",
        "from google.cloud import bigquery  # BigQuery client library\n",
        "import glob                        # File path pattern matching\n",
        "import openpyxl                    # Excel file handling\n",
        "import csv                         # CSV file handling\n",
        "import re                          # Regular expressions\n",
        "\n",
        "# Note: The actual imports remain exactly as in the original code"
      ],
      "metadata": {
        "colab": {
          "base_uri": "https://localhost:8080/"
        },
        "id": "THPOm60QFIjS",
        "outputId": "fde79ba5-af50-48bb-8223-03acffbb7aa1"
      },
      "execution_count": null,
      "outputs": [
        {
          "output_type": "stream",
          "name": "stdout",
          "text": [
            "Collecting gcloud\n",
            "  Downloading gcloud-0.18.3.tar.gz (454 kB)\n",
            "\u001b[?25l     \u001b[90m━━━━━━━━━━━━━━━━━━━━━━━━━━━━━━━━━━━━━━━━\u001b[0m \u001b[32m0.0/454.4 kB\u001b[0m \u001b[31m?\u001b[0m eta \u001b[36m-:--:--\u001b[0m\r\u001b[2K     \u001b[91m━━━━━━━━━━━━━━━━━━━━━━━━━━━━━━━━━━━━━\u001b[0m\u001b[91m╸\u001b[0m \u001b[32m450.6/454.4 kB\u001b[0m \u001b[31m19.4 MB/s\u001b[0m eta \u001b[36m0:00:01\u001b[0m\r\u001b[2K     \u001b[90m━━━━━━━━━━━━━━━━━━━━━━━━━━━━━━━━━━━━━━\u001b[0m \u001b[32m454.4/454.4 kB\u001b[0m \u001b[31m12.7 MB/s\u001b[0m eta \u001b[36m0:00:00\u001b[0m\n",
            "\u001b[?25h  Preparing metadata (setup.py) ... \u001b[?25l\u001b[?25hdone\n",
            "Requirement already satisfied: httplib2>=0.9.1 in /usr/local/lib/python3.12/dist-packages (from gcloud) (0.22.0)\n",
            "Requirement already satisfied: googleapis-common-protos in /usr/local/lib/python3.12/dist-packages (from gcloud) (1.70.0)\n",
            "Requirement already satisfied: oauth2client>=2.0.1 in /usr/local/lib/python3.12/dist-packages (from gcloud) (4.1.3)\n",
            "Requirement already satisfied: protobuf!=3.0.0.b2.post1,>=3.0.0b2 in /usr/local/lib/python3.12/dist-packages (from gcloud) (5.29.5)\n",
            "Requirement already satisfied: six in /usr/local/lib/python3.12/dist-packages (from gcloud) (1.17.0)\n",
            "Requirement already satisfied: pyparsing!=3.0.0,!=3.0.1,!=3.0.2,!=3.0.3,<4,>=2.4.2 in /usr/local/lib/python3.12/dist-packages (from httplib2>=0.9.1->gcloud) (3.2.3)\n",
            "Requirement already satisfied: pyasn1>=0.1.7 in /usr/local/lib/python3.12/dist-packages (from oauth2client>=2.0.1->gcloud) (0.6.1)\n",
            "Requirement already satisfied: pyasn1-modules>=0.0.5 in /usr/local/lib/python3.12/dist-packages (from oauth2client>=2.0.1->gcloud) (0.4.2)\n",
            "Requirement already satisfied: rsa>=3.1.4 in /usr/local/lib/python3.12/dist-packages (from oauth2client>=2.0.1->gcloud) (4.9.1)\n",
            "Building wheels for collected packages: gcloud\n",
            "  Building wheel for gcloud (setup.py) ... \u001b[?25l\u001b[?25hdone\n",
            "  Created wheel for gcloud: filename=gcloud-0.18.3-py3-none-any.whl size=602927 sha256=6fb57ab5f0a164a0f817042a71c9d11f734ae90c30ea231ba7a837aa50e0b4da\n",
            "  Stored in directory: /root/.cache/pip/wheels/2a/62/75/3d74209bfebb8805823ae74afa28653aa1ea76d8b5a9d741ff\n",
            "Successfully built gcloud\n",
            "Installing collected packages: gcloud\n",
            "Successfully installed gcloud-0.18.3\n",
            "Go to the following link in your browser, and complete the sign-in prompts:\n",
            "\n",
            "    https://accounts.google.com/o/oauth2/auth?response_type=code&client_id=764086051850-6qr4p6gpi6hn506pt8ejuq83di341hur.apps.googleusercontent.com&redirect_uri=https%3A%2F%2Fsdk.cloud.google.com%2Fapplicationdefaultauthcode.html&scope=openid+https%3A%2F%2Fwww.googleapis.com%2Fauth%2Fuserinfo.email+https%3A%2F%2Fwww.googleapis.com%2Fauth%2Fcloud-platform+https%3A%2F%2Fwww.googleapis.com%2Fauth%2Fsqlservice.login&state=Owe9DP4LNeCgddX7cvZK1ZwqFxQksX&prompt=consent&token_usage=remote&access_type=offline&code_challenge=SkZOgBgO5HZGzFwt4e91PwDBzodzON9NgFNCxzlWQ-k&code_challenge_method=S256\n",
            "\n",
            "Once finished, enter the verification code provided in your browser: 4/0AVMBsJivi6JruPALoPToV14wxnuIy_NbF0crk84l2Tp5MP23l_vgP4Q7-cLy-3iuZgjJEg\n",
            "\n",
            "Credentials saved to file: [/content/.config/application_default_credentials.json]\n",
            "\n",
            "These credentials will be used by any library that requests Application Default Credentials (ADC).\n",
            "\u001b[1;33mWARNING:\u001b[0m \n",
            "Cannot find a quota project to add to ADC. You might receive a \"quota exceeded\" or \"API not enabled\" error. Run $ gcloud auth application-default set-quota-project to add a quota project.\n"
          ]
        }
      ]
    },
    {
      "cell_type": "markdown",
      "source": [
        "# Tratamento"
      ],
      "metadata": {
        "id": "nJwf_LpYFLER"
      }
    },
    {
      "cell_type": "code",
      "source": [
        "# Import necessary libraries\n",
        "import pandas as pd\n",
        "import pandas_gbq\n",
        "\n",
        "# Define a SQL query to select all data from the 2025 table for military reserve and reformed personnel.\n",
        "query_reserva = \"\"\" SELECT * FROM `repositoriodedadosgpsp.portal_transparencia_cgu.2025_4_militares_reserva_reforma_cadastro`\n",
        "            \"\"\"\n",
        "# Execute the query and load the result into a DataFrame named 'df_reserva'.\n",
        "# Note: This DataFrame is not used in the rest of the provided script.\n",
        "df_reserva = pandas_gbq.read_gbq(query_reserva, project_id='repositoriodedadosgpsp')\n",
        "\n",
        "# Define the main SQL query to be executed in Google BigQuery.\n",
        "# This query combines data on military reserve/reformed personnel from multiple yearly tables (2020-2025) using UNION ALL.\n",
        "# It renames columns for clarity (e.g., ANO to ano) and adds a 'total' column with a value of 1 for easy counting of records.\n",
        "query = \"\"\"\n",
        "        SELECT ANO as ano, MES as mes, TIPO_APOSENTADORIA as tipo_aposentadoria, ORG_LOTACAO as org_lotacao,\n",
        "            1 as total FROM `repositoriodedadosgpsp.portal_transparencia_cgu.2020_abr_militares_reserva_reforma_cadastro`\n",
        "            UNION ALL\n",
        "        SELECT ANO as ano, MES as mes, TIPO_APOSENTADORIA as tipo_aposentadoria, ORG_LOTACAO as org_lotacao,\n",
        "            1 as total FROM `repositoriodedadosgpsp.portal_transparencia_cgu.2021_abr_militares_reserva_reforma_cadastro`\n",
        "            UNION ALL\n",
        "        SELECT ANO as ano, MES as mes, TIPO_APOSENTADORIA as tipo_aposentadoria, ORG_LOTACAO as org_lotacao,\n",
        "            1 as total FROM `repositoriodedadosgpsp.portal_transparencia_cgu.2022_abr_militares_reserva_reforma_cadastro`\n",
        "            UNION ALL\n",
        "        SELECT ANO as ano, MES as mes, TIPO_APOSENTADORIA as tipo_aposentadoria, ORG_LOTACAO as org_lotacao,\n",
        "            1 as total FROM `repositoriodedadosgpsp.portal_transparencia_cgu.2023_abr_militares_reserva_reforma_cadastro`\n",
        "               UNION ALL\n",
        "        SELECT ANO as ano, MES as mes, TIPO_APOSENTADORIA as tipo_aposentadoria, ORG_LOTACAO as org_lotacao,\n",
        "           1 as total FROM `repositoriodedadosgpsp.portal_transparencia_cgu.2024_abr_militares_reserva_reforma_cadastro`\n",
        "           UNION ALL\n",
        "        SELECT ANO as ano, MES as mes, TIPO_APOSENTADORIA as tipo_aposentadoria, ORG_LOTACAO as org_lotacao,\n",
        "           1 as total FROM `repositoriodedadosgpsp.portal_transparencia_cgu.2025_4_militares_reserva_reforma_cadastro`\n",
        "        \"\"\"\n",
        "# Execute the main query and load the combined result into a pandas DataFrame called 'df'.\n",
        "df = pandas_gbq.read_gbq(query, project_id='repositoriodedadosgpsp')\n",
        "\n",
        "# Convert the 'tipo_aposentadoria' (retirement type) column to title case (e.g., \"RESERVA\" becomes \"Reserva\").\n",
        "df['tipo_aposentadoria'] = df['tipo_aposentadoria'].str.title()\n",
        "\n",
        "# Creates a copy of the column to avoid the SettingWithCopyWarning\n",
        "# (The line above is the original comment in Portuguese)\n",
        "# Ensure the 'tipo_aposentadoria' column is of string data type to allow for string operations.\n",
        "df['tipo_aposentadoria'] = df['tipo_aposentadoria'].astype(str)\n",
        "\n",
        "# Corrects 'Doen A' to 'Doença'\n",
        "# (The line above is the original comment in Portuguese)\n",
        "# Replace occurrences of 'Doen A' with 'Doença' (Disease) to fix character encoding issues from the source.\n",
        "df['tipo_aposentadoria'] = df['tipo_aposentadoria'].str.replace('Doen A', 'Doença', regex=False)\n",
        "\n",
        "# Corrects 'Decis O' to 'Decisão'\n",
        "# (The line above is the original comment in Portuguese)\n",
        "# Replace occurrences of 'Decis O' with 'Decisão' (Decision) to fix another character encoding issue.\n",
        "df['tipo_aposentadoria'] = df['tipo_aposentadoria'].str.replace('Decis O', 'Decisão', regex=False)"
      ],
      "metadata": {
        "id": "xzCq3bgsbPAi"
      },
      "execution_count": null,
      "outputs": []
    },
    {
      "cell_type": "markdown",
      "source": [
        "# Upload"
      ],
      "metadata": {
        "id": "3JQdTc1MGATA"
      }
    },
    {
      "cell_type": "code",
      "source": [
        "# Import the bigquery library from google.cloud\n",
        "from google.cloud import bigquery\n",
        "\n",
        "# Initialize the BigQuery client, specifying the Google Cloud project ID.\n",
        "# This client object is the main entry point for interacting with the BigQuery API.\n",
        "client = bigquery.Client(project='repositoriodedadosgpsp')\n",
        "\n",
        "# Create a reference to the BigQuery dataset named 'perfil_remuneracao'.\n",
        "# This object points to the dataset where the table will be created or updated.\n",
        "dataset_ref = client.dataset('perfil_remuneracao')\n",
        "\n",
        "# Define the schema for the destination BigQuery table.\n",
        "# The schema is a list of SchemaField objects, where each object defines a column's:\n",
        "# 1. Name (e.g., 'ano')\n",
        "# 2. Data type (e.g., 'INTEGER')\n",
        "# 3. Description (e.g., 'Ano de referência da observação')\n",
        "schema=[bigquery.SchemaField('ano','INTEGER',description='Ano de referência da observação'),\n",
        "        bigquery.SchemaField('mes','INTEGER',description='Mês de referência da observação'),\n",
        "        bigquery.SchemaField('tipo_aposentadoria','STRING',description='Tipo de aposentadoria'),\n",
        "        bigquery.SchemaField('org_lotacao','STRING',description='Órgão de lotação'),\n",
        "        bigquery.SchemaField('total','INTEGER',description='Quantidade total da observação')\n",
        "        ]\n",
        "\n",
        "# Create a reference to the target table within the dataset specified earlier.\n",
        "# The table will be named 'MILITARES_reserva_reforma_total_v2'.\n",
        "table_ref = dataset_ref.table('MILITARES_reserva_reforma_total_v2')\n",
        "\n",
        "# Configure the load job by creating a LoadJobConfig object.\n",
        "# Here, we specify the schema that BigQuery should use for the table. This ensures\n",
        "# that the columns in BigQuery have the correct data types and descriptions.\n",
        "job_config = bigquery.LoadJobConfig(schema=schema)\n",
        "\n",
        "# Start the job to load data from the pandas DataFrame 'df' into the specified BigQuery table ('table_ref').\n",
        "# The job is configured with the previously defined 'job_config'. This command sends the data to BigQuery.\n",
        "job = client.load_table_from_dataframe(df, table_ref, job_config=job_config)\n",
        "\n",
        "# Wait for the load job to complete and retrieve its result.\n",
        "# This line is blocking and will pause the script's execution until the data upload is finished.\n",
        "# It's crucial for ensuring the data is fully loaded before the script ends or proceeds.\n",
        "job.result()"
      ],
      "metadata": {
        "id": "JXCkBzYxbfPV"
      },
      "execution_count": null,
      "outputs": []
    }
  ],
  "metadata": {
    "kernelspec": {
      "display_name": "base",
      "language": "python",
      "name": "python3"
    },
    "language_info": {
      "codemirror_mode": {
        "name": "ipython",
        "version": 3
      },
      "file_extension": ".py",
      "mimetype": "text/x-python",
      "name": "python",
      "nbconvert_exporter": "python",
      "pygments_lexer": "ipython3",
      "version": "3.11.4"
    },
    "colab": {
      "provenance": []
    }
  },
  "nbformat": 4,
  "nbformat_minor": 0
}