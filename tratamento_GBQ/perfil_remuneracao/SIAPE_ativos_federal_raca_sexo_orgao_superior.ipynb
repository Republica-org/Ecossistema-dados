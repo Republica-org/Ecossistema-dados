{
 "cells": [
  {
   "cell_type": "code",
   "execution_count": 1,
   "metadata": {},
   "outputs": [],
   "source": [
    "import numpy as np\n",
    "import pandas as pd\n",
    "import numpy as np\n",
    "import os\n",
    "import time\n",
    "from google.cloud import bigquery\n",
    "import re"
   ]
  },
  {
   "cell_type": "code",
   "execution_count": 2,
   "metadata": {},
   "outputs": [],
   "source": [
    "os.chdir('G:\\\\Drives compartilhados\\\\República.org\\\\4. Equipes\\\\Dados e Comunicação\\\\DADOS\\\\415 - Repositório de Dados\\\\Dados para subir\\\\Tabelas finais')\n"
   ]
  },
  {
   "cell_type": "code",
   "execution_count": 39,
   "metadata": {},
   "outputs": [
    {
     "data": {
      "text/html": [
       "<div>\n",
       "<style scoped>\n",
       "    .dataframe tbody tr th:only-of-type {\n",
       "        vertical-align: middle;\n",
       "    }\n",
       "\n",
       "    .dataframe tbody tr th {\n",
       "        vertical-align: top;\n",
       "    }\n",
       "\n",
       "    .dataframe thead th {\n",
       "        text-align: right;\n",
       "    }\n",
       "</style>\n",
       "<table border=\"1\" class=\"dataframe\">\n",
       "  <thead>\n",
       "    <tr style=\"text-align: right;\">\n",
       "      <th></th>\n",
       "      <th>ano</th>\n",
       "      <th>orgao_superior</th>\n",
       "      <th>raca</th>\n",
       "      <th>genero</th>\n",
       "      <th>total_vinculos</th>\n",
       "    </tr>\n",
       "  </thead>\n",
       "  <tbody>\n",
       "    <tr>\n",
       "      <th>0</th>\n",
       "      <td>2020</td>\n",
       "      <td>CGU</td>\n",
       "      <td>Branca</td>\n",
       "      <td>Fem</td>\n",
       "      <td>446</td>\n",
       "    </tr>\n",
       "    <tr>\n",
       "      <th>1</th>\n",
       "      <td>2020</td>\n",
       "      <td>CGU</td>\n",
       "      <td>NÃ£o informada</td>\n",
       "      <td>Fem</td>\n",
       "      <td>25</td>\n",
       "    </tr>\n",
       "    <tr>\n",
       "      <th>2</th>\n",
       "      <td>2020</td>\n",
       "      <td>CGU</td>\n",
       "      <td>Negra</td>\n",
       "      <td>Fem</td>\n",
       "      <td>171</td>\n",
       "    </tr>\n",
       "    <tr>\n",
       "      <th>3</th>\n",
       "      <td>2020</td>\n",
       "      <td>CGU</td>\n",
       "      <td>Outros</td>\n",
       "      <td>Fem</td>\n",
       "      <td>17</td>\n",
       "    </tr>\n",
       "    <tr>\n",
       "      <th>4</th>\n",
       "      <td>2020</td>\n",
       "      <td>MAPA</td>\n",
       "      <td>Branca</td>\n",
       "      <td>Fem</td>\n",
       "      <td>1986</td>\n",
       "    </tr>\n",
       "    <tr>\n",
       "      <th>...</th>\n",
       "      <td>...</td>\n",
       "      <td>...</td>\n",
       "      <td>...</td>\n",
       "      <td>...</td>\n",
       "      <td>...</td>\n",
       "    </tr>\n",
       "    <tr>\n",
       "      <th>131</th>\n",
       "      <td>2020</td>\n",
       "      <td>MTUR</td>\n",
       "      <td>Outros</td>\n",
       "      <td>Mas</td>\n",
       "      <td>22</td>\n",
       "    </tr>\n",
       "    <tr>\n",
       "      <th>132</th>\n",
       "      <td>2020</td>\n",
       "      <td>PR</td>\n",
       "      <td>Branca</td>\n",
       "      <td>Mas</td>\n",
       "      <td>3381</td>\n",
       "    </tr>\n",
       "    <tr>\n",
       "      <th>133</th>\n",
       "      <td>2020</td>\n",
       "      <td>PR</td>\n",
       "      <td>NÃ£o informada</td>\n",
       "      <td>Mas</td>\n",
       "      <td>163</td>\n",
       "    </tr>\n",
       "    <tr>\n",
       "      <th>134</th>\n",
       "      <td>2020</td>\n",
       "      <td>PR</td>\n",
       "      <td>Negra</td>\n",
       "      <td>Mas</td>\n",
       "      <td>1217</td>\n",
       "    </tr>\n",
       "    <tr>\n",
       "      <th>135</th>\n",
       "      <td>2020</td>\n",
       "      <td>PR</td>\n",
       "      <td>Outros</td>\n",
       "      <td>Mas</td>\n",
       "      <td>97</td>\n",
       "    </tr>\n",
       "  </tbody>\n",
       "</table>\n",
       "<p>136 rows × 5 columns</p>\n",
       "</div>"
      ],
      "text/plain": [
       "      ano orgao_superior            raca genero  total_vinculos\n",
       "0    2020            CGU          Branca    Fem             446\n",
       "1    2020            CGU  NÃ£o informada    Fem              25\n",
       "2    2020            CGU           Negra    Fem             171\n",
       "3    2020            CGU          Outros    Fem              17\n",
       "4    2020           MAPA          Branca    Fem            1986\n",
       "..    ...            ...             ...    ...             ...\n",
       "131  2020           MTUR          Outros    Mas              22\n",
       "132  2020             PR          Branca    Mas            3381\n",
       "133  2020             PR  NÃ£o informada    Mas             163\n",
       "134  2020             PR           Negra    Mas            1217\n",
       "135  2020             PR          Outros    Mas              97\n",
       "\n",
       "[136 rows x 5 columns]"
      ]
     },
     "execution_count": 39,
     "metadata": {},
     "output_type": "execute_result"
    }
   ],
   "source": [
    "df = pd.read_csv('SIAPE_ativos_federal_raca_sexo_orgao_superior.csv')\n",
    "df"
   ]
  },
  {
   "cell_type": "code",
   "execution_count": 40,
   "metadata": {},
   "outputs": [
    {
     "data": {
      "text/plain": [
       "array(['Branca', 'NÃ£o informada', 'Negra', 'Outros'], dtype=object)"
      ]
     },
     "execution_count": 40,
     "metadata": {},
     "output_type": "execute_result"
    }
   ],
   "source": [
    "df['raca'].unique()"
   ]
  },
  {
   "cell_type": "code",
   "execution_count": 41,
   "metadata": {},
   "outputs": [
    {
     "data": {
      "text/plain": [
       "array(['Fem', 'Mas'], dtype=object)"
      ]
     },
     "execution_count": 41,
     "metadata": {},
     "output_type": "execute_result"
    }
   ],
   "source": [
    "df['genero'].unique()"
   ]
  },
  {
   "cell_type": "code",
   "execution_count": 42,
   "metadata": {},
   "outputs": [
    {
     "data": {
      "text/html": [
       "<div>\n",
       "<style scoped>\n",
       "    .dataframe tbody tr th:only-of-type {\n",
       "        vertical-align: middle;\n",
       "    }\n",
       "\n",
       "    .dataframe tbody tr th {\n",
       "        vertical-align: top;\n",
       "    }\n",
       "\n",
       "    .dataframe thead th {\n",
       "        text-align: right;\n",
       "    }\n",
       "</style>\n",
       "<table border=\"1\" class=\"dataframe\">\n",
       "  <thead>\n",
       "    <tr style=\"text-align: right;\">\n",
       "      <th></th>\n",
       "      <th>ano</th>\n",
       "      <th>orgao_superior</th>\n",
       "      <th>cor_raca</th>\n",
       "      <th>genero</th>\n",
       "      <th>quantidade_vinculos</th>\n",
       "    </tr>\n",
       "  </thead>\n",
       "  <tbody>\n",
       "    <tr>\n",
       "      <th>0</th>\n",
       "      <td>2020</td>\n",
       "      <td>CGU</td>\n",
       "      <td>Branca</td>\n",
       "      <td>Fem</td>\n",
       "      <td>446</td>\n",
       "    </tr>\n",
       "    <tr>\n",
       "      <th>1</th>\n",
       "      <td>2020</td>\n",
       "      <td>CGU</td>\n",
       "      <td>NÃ£o informada</td>\n",
       "      <td>Fem</td>\n",
       "      <td>25</td>\n",
       "    </tr>\n",
       "    <tr>\n",
       "      <th>2</th>\n",
       "      <td>2020</td>\n",
       "      <td>CGU</td>\n",
       "      <td>Negra</td>\n",
       "      <td>Fem</td>\n",
       "      <td>171</td>\n",
       "    </tr>\n",
       "    <tr>\n",
       "      <th>3</th>\n",
       "      <td>2020</td>\n",
       "      <td>CGU</td>\n",
       "      <td>Outros</td>\n",
       "      <td>Fem</td>\n",
       "      <td>17</td>\n",
       "    </tr>\n",
       "    <tr>\n",
       "      <th>4</th>\n",
       "      <td>2020</td>\n",
       "      <td>MAPA</td>\n",
       "      <td>Branca</td>\n",
       "      <td>Fem</td>\n",
       "      <td>1986</td>\n",
       "    </tr>\n",
       "    <tr>\n",
       "      <th>...</th>\n",
       "      <td>...</td>\n",
       "      <td>...</td>\n",
       "      <td>...</td>\n",
       "      <td>...</td>\n",
       "      <td>...</td>\n",
       "    </tr>\n",
       "    <tr>\n",
       "      <th>131</th>\n",
       "      <td>2020</td>\n",
       "      <td>MTUR</td>\n",
       "      <td>Outros</td>\n",
       "      <td>Mas</td>\n",
       "      <td>22</td>\n",
       "    </tr>\n",
       "    <tr>\n",
       "      <th>132</th>\n",
       "      <td>2020</td>\n",
       "      <td>PR</td>\n",
       "      <td>Branca</td>\n",
       "      <td>Mas</td>\n",
       "      <td>3381</td>\n",
       "    </tr>\n",
       "    <tr>\n",
       "      <th>133</th>\n",
       "      <td>2020</td>\n",
       "      <td>PR</td>\n",
       "      <td>NÃ£o informada</td>\n",
       "      <td>Mas</td>\n",
       "      <td>163</td>\n",
       "    </tr>\n",
       "    <tr>\n",
       "      <th>134</th>\n",
       "      <td>2020</td>\n",
       "      <td>PR</td>\n",
       "      <td>Negra</td>\n",
       "      <td>Mas</td>\n",
       "      <td>1217</td>\n",
       "    </tr>\n",
       "    <tr>\n",
       "      <th>135</th>\n",
       "      <td>2020</td>\n",
       "      <td>PR</td>\n",
       "      <td>Outros</td>\n",
       "      <td>Mas</td>\n",
       "      <td>97</td>\n",
       "    </tr>\n",
       "  </tbody>\n",
       "</table>\n",
       "<p>136 rows × 5 columns</p>\n",
       "</div>"
      ],
      "text/plain": [
       "      ano orgao_superior        cor_raca genero  quantidade_vinculos\n",
       "0    2020            CGU          Branca    Fem                  446\n",
       "1    2020            CGU  NÃ£o informada    Fem                   25\n",
       "2    2020            CGU           Negra    Fem                  171\n",
       "3    2020            CGU          Outros    Fem                   17\n",
       "4    2020           MAPA          Branca    Fem                 1986\n",
       "..    ...            ...             ...    ...                  ...\n",
       "131  2020           MTUR          Outros    Mas                   22\n",
       "132  2020             PR          Branca    Mas                 3381\n",
       "133  2020             PR  NÃ£o informada    Mas                  163\n",
       "134  2020             PR           Negra    Mas                 1217\n",
       "135  2020             PR          Outros    Mas                   97\n",
       "\n",
       "[136 rows x 5 columns]"
      ]
     },
     "execution_count": 42,
     "metadata": {},
     "output_type": "execute_result"
    }
   ],
   "source": [
    "df = df.rename(columns={\"raca\" :\"cor_raca\", \"total_vinculos\" : \"quantidade_vinculos\"})\n",
    "df"
   ]
  },
  {
   "cell_type": "code",
   "execution_count": 43,
   "metadata": {},
   "outputs": [],
   "source": [
    "def transformar(nome):\n",
    "    nome = re.sub(r\"\\bFem\\b\", \"Mulheres\", nome)\n",
    "    nome = re.sub(r\"\\bMas\\b\", \"Homens\", nome)\n",
    "    nome = re.sub(r\"\\bNÃ£o informada\\b\", \"Não Informado\", nome)\n",
    "    return nome"
   ]
  },
  {
   "cell_type": "code",
   "execution_count": 44,
   "metadata": {},
   "outputs": [],
   "source": [
    "df['cor_raca'] = df['cor_raca'].apply(transformar)\n",
    "df['genero'] = df['genero'].apply(transformar)"
   ]
  },
  {
   "cell_type": "code",
   "execution_count": 45,
   "metadata": {},
   "outputs": [],
   "source": [
    "df['genero_raca'] = df['genero'] + ' ' + df['cor_raca']"
   ]
  },
  {
   "cell_type": "code",
   "execution_count": 47,
   "metadata": {},
   "outputs": [],
   "source": [
    "def transforme(nome):\n",
    "    nome = re.sub(r\"\\bMulheres Branca\\b\", \"Mulheres Brancas\", nome)\n",
    "    nome = re.sub(r\"\\bMulheres Não Informado\\b\", \"Mulheres sem informação de raça\", nome)\n",
    "    nome = re.sub(r\"\\bMulheres Negra\\b\", \"Mulheres Negras\", nome)\n",
    "    nome = re.sub(r\"\\bMulheres Outros\\b\", \"Mulheres com outras raças\", nome)\n",
    "    nome = re.sub(r\"\\bHomens Branca\\b\", \"Homens Brancos\", nome)\n",
    "    nome = re.sub(r\"\\bHomens Não Informado\\b\", \"Homens sem informação de raça\", nome)\n",
    "    nome = re.sub(r\"\\bHomens Negra\\b\", \"Homens Negros\", nome)\n",
    "    nome = re.sub(r\"\\bHomens Outros\\b\", \"Homens com outras raças\", nome)\n",
    "    return nome"
   ]
  },
  {
   "cell_type": "code",
   "execution_count": 50,
   "metadata": {},
   "outputs": [],
   "source": [
    "df['genero_raca'] = df['genero_raca'].apply(transforme)"
   ]
  },
  {
   "cell_type": "code",
   "execution_count": 52,
   "metadata": {},
   "outputs": [
    {
     "data": {
      "text/plain": [
       "array(['Mulheres Brancas', 'Mulheres sem informação de raça',\n",
       "       'Mulheres Negras', 'Mulheres com outras raças', 'Homens Brancos',\n",
       "       'Homens sem informação de raça', 'Homens Negros',\n",
       "       'Homens com outras raças'], dtype=object)"
      ]
     },
     "execution_count": 52,
     "metadata": {},
     "output_type": "execute_result"
    }
   ],
   "source": [
    "df['genero_raca'].unique()"
   ]
  },
  {
   "cell_type": "code",
   "execution_count": 53,
   "metadata": {},
   "outputs": [],
   "source": [
    "df = df[['ano', 'orgao_superior', 'genero', 'cor_raca', 'genero_raca', 'quantidade_vinculos']]"
   ]
  },
  {
   "cell_type": "code",
   "execution_count": 54,
   "metadata": {},
   "outputs": [
    {
     "data": {
      "text/html": [
       "<div>\n",
       "<style scoped>\n",
       "    .dataframe tbody tr th:only-of-type {\n",
       "        vertical-align: middle;\n",
       "    }\n",
       "\n",
       "    .dataframe tbody tr th {\n",
       "        vertical-align: top;\n",
       "    }\n",
       "\n",
       "    .dataframe thead th {\n",
       "        text-align: right;\n",
       "    }\n",
       "</style>\n",
       "<table border=\"1\" class=\"dataframe\">\n",
       "  <thead>\n",
       "    <tr style=\"text-align: right;\">\n",
       "      <th></th>\n",
       "      <th>ano</th>\n",
       "      <th>orgao_superior</th>\n",
       "      <th>genero</th>\n",
       "      <th>cor_raca</th>\n",
       "      <th>genero_raca</th>\n",
       "      <th>quantidade_vinculos</th>\n",
       "    </tr>\n",
       "  </thead>\n",
       "  <tbody>\n",
       "    <tr>\n",
       "      <th>0</th>\n",
       "      <td>2020</td>\n",
       "      <td>CGU</td>\n",
       "      <td>Mulheres</td>\n",
       "      <td>Branca</td>\n",
       "      <td>Mulheres Brancas</td>\n",
       "      <td>446</td>\n",
       "    </tr>\n",
       "    <tr>\n",
       "      <th>1</th>\n",
       "      <td>2020</td>\n",
       "      <td>CGU</td>\n",
       "      <td>Mulheres</td>\n",
       "      <td>Não Informado</td>\n",
       "      <td>Mulheres sem informação de raça</td>\n",
       "      <td>25</td>\n",
       "    </tr>\n",
       "    <tr>\n",
       "      <th>2</th>\n",
       "      <td>2020</td>\n",
       "      <td>CGU</td>\n",
       "      <td>Mulheres</td>\n",
       "      <td>Negra</td>\n",
       "      <td>Mulheres Negras</td>\n",
       "      <td>171</td>\n",
       "    </tr>\n",
       "    <tr>\n",
       "      <th>3</th>\n",
       "      <td>2020</td>\n",
       "      <td>CGU</td>\n",
       "      <td>Mulheres</td>\n",
       "      <td>Outros</td>\n",
       "      <td>Mulheres com outras raças</td>\n",
       "      <td>17</td>\n",
       "    </tr>\n",
       "    <tr>\n",
       "      <th>4</th>\n",
       "      <td>2020</td>\n",
       "      <td>MAPA</td>\n",
       "      <td>Mulheres</td>\n",
       "      <td>Branca</td>\n",
       "      <td>Mulheres Brancas</td>\n",
       "      <td>1986</td>\n",
       "    </tr>\n",
       "    <tr>\n",
       "      <th>...</th>\n",
       "      <td>...</td>\n",
       "      <td>...</td>\n",
       "      <td>...</td>\n",
       "      <td>...</td>\n",
       "      <td>...</td>\n",
       "      <td>...</td>\n",
       "    </tr>\n",
       "    <tr>\n",
       "      <th>131</th>\n",
       "      <td>2020</td>\n",
       "      <td>MTUR</td>\n",
       "      <td>Homens</td>\n",
       "      <td>Outros</td>\n",
       "      <td>Homens com outras raças</td>\n",
       "      <td>22</td>\n",
       "    </tr>\n",
       "    <tr>\n",
       "      <th>132</th>\n",
       "      <td>2020</td>\n",
       "      <td>PR</td>\n",
       "      <td>Homens</td>\n",
       "      <td>Branca</td>\n",
       "      <td>Homens Brancos</td>\n",
       "      <td>3381</td>\n",
       "    </tr>\n",
       "    <tr>\n",
       "      <th>133</th>\n",
       "      <td>2020</td>\n",
       "      <td>PR</td>\n",
       "      <td>Homens</td>\n",
       "      <td>Não Informado</td>\n",
       "      <td>Homens sem informação de raça</td>\n",
       "      <td>163</td>\n",
       "    </tr>\n",
       "    <tr>\n",
       "      <th>134</th>\n",
       "      <td>2020</td>\n",
       "      <td>PR</td>\n",
       "      <td>Homens</td>\n",
       "      <td>Negra</td>\n",
       "      <td>Homens Negros</td>\n",
       "      <td>1217</td>\n",
       "    </tr>\n",
       "    <tr>\n",
       "      <th>135</th>\n",
       "      <td>2020</td>\n",
       "      <td>PR</td>\n",
       "      <td>Homens</td>\n",
       "      <td>Outros</td>\n",
       "      <td>Homens com outras raças</td>\n",
       "      <td>97</td>\n",
       "    </tr>\n",
       "  </tbody>\n",
       "</table>\n",
       "<p>136 rows × 6 columns</p>\n",
       "</div>"
      ],
      "text/plain": [
       "      ano orgao_superior    genero       cor_raca  \\\n",
       "0    2020            CGU  Mulheres         Branca   \n",
       "1    2020            CGU  Mulheres  Não Informado   \n",
       "2    2020            CGU  Mulheres          Negra   \n",
       "3    2020            CGU  Mulheres         Outros   \n",
       "4    2020           MAPA  Mulheres         Branca   \n",
       "..    ...            ...       ...            ...   \n",
       "131  2020           MTUR    Homens         Outros   \n",
       "132  2020             PR    Homens         Branca   \n",
       "133  2020             PR    Homens  Não Informado   \n",
       "134  2020             PR    Homens          Negra   \n",
       "135  2020             PR    Homens         Outros   \n",
       "\n",
       "                         genero_raca  quantidade_vinculos  \n",
       "0                   Mulheres Brancas                  446  \n",
       "1    Mulheres sem informação de raça                   25  \n",
       "2                    Mulheres Negras                  171  \n",
       "3          Mulheres com outras raças                   17  \n",
       "4                   Mulheres Brancas                 1986  \n",
       "..                               ...                  ...  \n",
       "131          Homens com outras raças                   22  \n",
       "132                   Homens Brancos                 3381  \n",
       "133    Homens sem informação de raça                  163  \n",
       "134                    Homens Negros                 1217  \n",
       "135          Homens com outras raças                   97  \n",
       "\n",
       "[136 rows x 6 columns]"
      ]
     },
     "execution_count": 54,
     "metadata": {},
     "output_type": "execute_result"
    }
   ],
   "source": [
    "df"
   ]
  },
  {
   "attachments": {},
   "cell_type": "markdown",
   "metadata": {},
   "source": [
    "Subindo para o GBQ"
   ]
  },
  {
   "cell_type": "code",
   "execution_count": 55,
   "metadata": {},
   "outputs": [
    {
     "name": "stderr",
     "output_type": "stream",
     "text": [
      "c:\\Users\\ana.sales_republica\\Anaconda\\lib\\site-packages\\google\\auth\\_default.py:78: UserWarning: Your application has authenticated using end user credentials from Google Cloud SDK without a quota project. You might receive a \"quota exceeded\" or \"API not enabled\" error. See the following page for troubleshooting: https://cloud.google.com/docs/authentication/adc-troubleshooting/user-creds. \n",
      "  warnings.warn(_CLOUD_SDK_CREDENTIALS_WARNING)\n"
     ]
    }
   ],
   "source": [
    "client = bigquery.Client()\n",
    "dataset_ref = client.dataset('perfil_remuneracao')"
   ]
  },
  {
   "cell_type": "code",
   "execution_count": 56,
   "metadata": {},
   "outputs": [],
   "source": [
    "schema = [bigquery.SchemaField('ano', 'INTEGER', description= 'Ano de referência da observação'),\n",
    "          bigquery.SchemaField('orgao_superior', 'STRING', description= 'Orgão superior (Controladoria-Geral da União (CGU), Ministérios) observado'),\n",
    "          bigquery.SchemaField('genero', 'STRING', description= 'Gênero autodeclarado ou não'),\n",
    "          bigquery.SchemaField('cor_raca', 'STRING', description= 'Raça/cor da pessoa observada'),\n",
    "          bigquery.SchemaField('genero_raca', 'STRING', description= 'Gênero e raça da pessoa observada'),\n",
    "          bigquery.SchemaField('quantidade_vinculos', 'INTEGER', description= 'Número total de vinculos observados')]"
   ]
  },
  {
   "cell_type": "code",
   "execution_count": 57,
   "metadata": {},
   "outputs": [
    {
     "data": {
      "text/plain": [
       "LoadJob<project=repositoriodedadosgpsp, location=US, id=5befb63c-685c-4d66-a0e8-f8b6e7cccc0b>"
      ]
     },
     "execution_count": 57,
     "metadata": {},
     "output_type": "execute_result"
    }
   ],
   "source": [
    "table_ref = dataset_ref.table('SIAPE_ativos_federal_raca_sexo_orgao_superior')\n",
    "job_config = bigquery.LoadJobConfig(schema=schema)\n",
    "job = client.load_table_from_dataframe(df, table_ref, job_config=job_config)\n",
    "job.result() \n"
   ]
  }
 ],
 "metadata": {
  "kernelspec": {
   "display_name": "base",
   "language": "python",
   "name": "python3"
  },
  "language_info": {
   "codemirror_mode": {
    "name": "ipython",
    "version": 3
   },
   "file_extension": ".py",
   "mimetype": "text/x-python",
   "name": "python",
   "nbconvert_exporter": "python",
   "pygments_lexer": "ipython3",
   "version": "3.10.9"
  },
  "orig_nbformat": 4
 },
 "nbformat": 4,
 "nbformat_minor": 2
}
