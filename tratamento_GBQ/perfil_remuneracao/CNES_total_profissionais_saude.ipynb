{
  "cells": [
    {
      "cell_type": "markdown",
      "source": [
        "# Dependências"
      ],
      "metadata": {
        "id": "yAFzby1wrj2G"
      }
    },
    {
      "cell_type": "code",
      "source": [
        "# Install required Google Cloud packages (commented out as these are typically one-time setup commands)\n",
        "!pip install gcloud\n",
        "!gcloud auth application-default login\n",
        "\n",
        "# Import necessary Python libraries\n",
        "import pandas as pd                # Data manipulation and analysis\n",
        "import numpy as np                 # Numerical computing\n",
        "import time                        # Time-related functions\n",
        "import os                          # Operating system interfaces\n",
        "import pandas_gbq                  # Pandas integration with BigQuery\n",
        "from google.cloud import bigquery  # BigQuery client library\n",
        "import glob                        # File path pattern matching\n",
        "import openpyxl                    # Excel file handling\n",
        "import csv                         # CSV file handling\n",
        "import re                          # Regular expressions\n",
        "\n",
        "# Note: The actual imports remain exactly as in the original code"
      ],
      "metadata": {
        "colab": {
          "base_uri": "https://localhost:8080/"
        },
        "id": "HG14k-3irmp2",
        "outputId": "261a14b8-bec4-41aa-d878-bb4f05a31cb9"
      },
      "execution_count": null,
      "outputs": [
        {
          "output_type": "stream",
          "name": "stdout",
          "text": [
            "Collecting gcloud\n",
            "  Downloading gcloud-0.18.3.tar.gz (454 kB)\n",
            "\u001b[?25l     \u001b[90m━━━━━━━━━━━━━━━━━━━━━━━━━━━━━━━━━━━━━━━━\u001b[0m \u001b[32m0.0/454.4 kB\u001b[0m \u001b[31m?\u001b[0m eta \u001b[36m-:--:--\u001b[0m\r\u001b[2K     \u001b[91m━━━━━━━━━━━━━━━━━━━━━━━━━━━━━━━━━━━━━\u001b[0m\u001b[91m╸\u001b[0m \u001b[32m450.6/454.4 kB\u001b[0m \u001b[31m29.1 MB/s\u001b[0m eta \u001b[36m0:00:01\u001b[0m\r\u001b[2K     \u001b[90m━━━━━━━━━━━━━━━━━━━━━━━━━━━━━━━━━━━━━━\u001b[0m \u001b[32m454.4/454.4 kB\u001b[0m \u001b[31m11.2 MB/s\u001b[0m eta \u001b[36m0:00:00\u001b[0m\n",
            "\u001b[?25h  Preparing metadata (setup.py) ... \u001b[?25l\u001b[?25hdone\n",
            "Requirement already satisfied: httplib2>=0.9.1 in /usr/local/lib/python3.12/dist-packages (from gcloud) (0.22.0)\n",
            "Requirement already satisfied: googleapis-common-protos in /usr/local/lib/python3.12/dist-packages (from gcloud) (1.70.0)\n",
            "Requirement already satisfied: oauth2client>=2.0.1 in /usr/local/lib/python3.12/dist-packages (from gcloud) (4.1.3)\n",
            "Requirement already satisfied: protobuf!=3.0.0.b2.post1,>=3.0.0b2 in /usr/local/lib/python3.12/dist-packages (from gcloud) (5.29.5)\n",
            "Requirement already satisfied: six in /usr/local/lib/python3.12/dist-packages (from gcloud) (1.17.0)\n",
            "Requirement already satisfied: pyparsing!=3.0.0,!=3.0.1,!=3.0.2,!=3.0.3,<4,>=2.4.2 in /usr/local/lib/python3.12/dist-packages (from httplib2>=0.9.1->gcloud) (3.2.3)\n",
            "Requirement already satisfied: pyasn1>=0.1.7 in /usr/local/lib/python3.12/dist-packages (from oauth2client>=2.0.1->gcloud) (0.6.1)\n",
            "Requirement already satisfied: pyasn1-modules>=0.0.5 in /usr/local/lib/python3.12/dist-packages (from oauth2client>=2.0.1->gcloud) (0.4.2)\n",
            "Requirement already satisfied: rsa>=3.1.4 in /usr/local/lib/python3.12/dist-packages (from oauth2client>=2.0.1->gcloud) (4.9.1)\n",
            "Building wheels for collected packages: gcloud\n",
            "  Building wheel for gcloud (setup.py) ... \u001b[?25l\u001b[?25hdone\n",
            "  Created wheel for gcloud: filename=gcloud-0.18.3-py3-none-any.whl size=602927 sha256=99308a741158f5b4bea73286760bf59a13b95fe4561de7898962f8bffcfffa3b\n",
            "  Stored in directory: /root/.cache/pip/wheels/2a/62/75/3d74209bfebb8805823ae74afa28653aa1ea76d8b5a9d741ff\n",
            "Successfully built gcloud\n",
            "Installing collected packages: gcloud\n",
            "Successfully installed gcloud-0.18.3\n",
            "Go to the following link in your browser, and complete the sign-in prompts:\n",
            "\n",
            "    https://accounts.google.com/o/oauth2/auth?response_type=code&client_id=764086051850-6qr4p6gpi6hn506pt8ejuq83di341hur.apps.googleusercontent.com&redirect_uri=https%3A%2F%2Fsdk.cloud.google.com%2Fapplicationdefaultauthcode.html&scope=openid+https%3A%2F%2Fwww.googleapis.com%2Fauth%2Fuserinfo.email+https%3A%2F%2Fwww.googleapis.com%2Fauth%2Fcloud-platform+https%3A%2F%2Fwww.googleapis.com%2Fauth%2Fsqlservice.login&state=XkIzFjtuh1oMDJYRoXyXkUzXk401gY&prompt=consent&token_usage=remote&access_type=offline&code_challenge=X7olED8CWglpPNsOL1DdsL7nfVMjZ1IhncZxSf5c2ss&code_challenge_method=S256\n",
            "\n",
            "Once finished, enter the verification code provided in your browser: 4/0AVMBsJi52SpfaVu_QQliYcTF3885nmX7F1JhpHWa3lR5XstuoqpQJ2reEiOwHp8jmA_b5A\n",
            "\n",
            "Credentials saved to file: [/content/.config/application_default_credentials.json]\n",
            "\n",
            "These credentials will be used by any library that requests Application Default Credentials (ADC).\n",
            "\u001b[1;33mWARNING:\u001b[0m \n",
            "Cannot find a quota project to add to ADC. You might receive a \"quota exceeded\" or \"API not enabled\" error. Run $ gcloud auth application-default set-quota-project to add a quota project.\n"
          ]
        }
      ]
    },
    {
      "cell_type": "markdown",
      "source": [
        "# Tratamento"
      ],
      "metadata": {
        "id": "Igq9MSturqND"
      }
    },
    {
      "cell_type": "code",
      "source": [
        "# Import necessary libraries\n",
        "import pandas as pd\n",
        "import numpy as np\n",
        "import pandas_gbq\n",
        "\n",
        "# Define the SQL query to be executed in Google BigQuery.\n",
        "# This query selects all columns from the `CNES_profissionais_saude_ocupacao_publico` table,\n",
        "# ordering the results by the 'ano' column in descending order.\n",
        "query = \"\"\"\n",
        "  SELECT * FROM `repositoriodedadosgpsp.Datalake.CNES_profissionais_saude_ocupacao_publico` order by ano desc\n",
        "        \"\"\"\n",
        "# Execute the query using pandas_gbq.read_gbq and load the result into a pandas DataFrame called 'df'.\n",
        "# The 'project_id' specifies the Google Cloud Project to use.\n",
        "df= pandas_gbq.read_gbq(query, project_id='repositoriodedadosgpsp')\n",
        "\n",
        "# Filter the DataFrame to find rows where 'tipo_ocupacao' starts with 'Médicos' and display the unique values.\n",
        "# This line is for inspection and does not modify the DataFrame.\n",
        "df[df['tipo_ocupacao'].str.startswith('Médicos')]['tipo_ocupacao'].unique()\n",
        "\n",
        "# This is a duplicate of the previous line, also for inspecting unique values.\n",
        "df[df['tipo_ocupacao'].str.startswith('Médicos')]['tipo_ocupacao'].unique()\n",
        "\n",
        "# Create a new column 'tipo_2'.\n",
        "# If the 'tipo_ocupacao' starts with 'Médicos', the value in 'tipo_2' becomes 'Médicos'.\n",
        "# Otherwise, it keeps the original 'tipo_ocupacao' value.\n",
        "df['tipo_2'] = np.where(df['tipo_ocupacao'].str.startswith('Médicos'),'Médicos',df['tipo_ocupacao'])\n",
        "\n",
        "## Here I unify the three types of Doctors (clinic, surgery and therapeutic)\n",
        "# The line above is a comment in Portuguese explaining the previous operation.\n",
        "\n",
        "# Sort the DataFrame by the 'quantidade_vinculos' column in descending order.\n",
        "# Note: This operation is not performed in-place and the result is not assigned back to 'df',\n",
        "# so this line only displays the sorted result in an interactive environment.\n",
        "df.sort_values('quantidade_vinculos',ascending=False)\n",
        "\n",
        "# Define a list of occupation types that are of primary interest.\n",
        "ocupacao_interesse = ['Técnicos e auxiliares de enfermagem',\n",
        " 'Médicos',\n",
        " 'Trabalhadores em serviços de promoção e apoio à saúde',\n",
        " 'Enfermeiros e afins',\n",
        " 'Cirurgiões-dentistas',\n",
        " 'Fisioterapeutas',\n",
        " 'Psicólogos e psicanalistas',\n",
        " 'Farmacêuticos',\n",
        " 'Técnicos de odontologia',\n",
        " 'Tecnólogos e técnicos em métodos de diagnósticos e terapêutica',\n",
        " 'Nutricionistas',\n",
        " 'Assistentes sociais e economistas domésticos','Outros']\n",
        "\n",
        "# Create a new column 'tipo_3'.\n",
        "# If a value in 'tipo_2' is present in the 'ocupacao_interesse' list, that value is kept.\n",
        "# If not, it is replaced with the string 'Outros' (Others).\n",
        "df['tipo_3'] = np.where(df['tipo_2'].isin(ocupacao_interesse) ,df['tipo_2'],'Outros')\n",
        "\n",
        "# Create a pivot table 'x' from the DataFrame 'df'.\n",
        "# This aggregates (sums) the 'quantidade_vinculos' (number of employment links)\n",
        "# for each unique combination of 'ano', 'sigla_uf', and 'tipo_3'.\n",
        "x=df.pivot_table(index=['ano','sigla_uf'  ,'tipo_3'], values='quantidade_vinculos',aggfunc=np.sum)\n",
        "\n",
        "# Convert the pivot table 'x' into a pandas DataFrame 'y'.\n",
        "y = pd.DataFrame(x)\n",
        "\n",
        "# Reset the index of DataFrame 'y'. This converts the multi-level index ('ano', 'sigla_uf', 'tipo_3') into columns.\n",
        "y = y.reset_index() ##insert the count as a column\n",
        "\n",
        "# A commented-out line that was likely used to rename a column in a previous version of the code.\n",
        "#y = y.rename(columns={0:'count'})\n",
        "\n",
        "## Adjusting for BQ\n",
        "# The line above is a comment in Portuguese: \"Adjusting for BigQuery\"\n",
        "\n",
        "# Assign the processed DataFrame 'y' back to the 'df' variable and rename the 'tipo_3' column to 'tipo_ocupacao'.\n",
        "df= y.rename(columns={'tipo_3':'tipo_ocupacao'})\n",
        "\n",
        "# Sort the new DataFrame 'df' by 'quantidade_vinculos' in descending order.\n",
        "# As before, this is not an in-place operation and the result is not stored.\n",
        "df.sort_values('quantidade_vinculos', ascending=False)\n",
        "\n",
        "# Filter the DataFrame 'df' to keep only the rows where the 'ano' is greater than 2012.\n",
        "df = df[df['ano']>2012]\n",
        "\n",
        "# Print a concise summary of the final DataFrame 'df'.\n",
        "# This includes information about the columns, their data types, non-null values, and memory usage.\n",
        "df.info()"
      ],
      "metadata": {
        "id": "yzHSycaqFhUa"
      },
      "execution_count": null,
      "outputs": []
    },
    {
      "cell_type": "code",
      "execution_count": null,
      "metadata": {
        "colab": {
          "base_uri": "https://localhost:8080/"
        },
        "id": "648S02XCrhRj",
        "outputId": "a01f16ec-8b1b-4721-9b28-b85c0e79975c"
      },
      "outputs": [
        {
          "output_type": "stream",
          "name": "stdout",
          "text": [
            "<class 'pandas.core.frame.DataFrame'>\n",
            "Index: 4211 entries, 1755 to 5965\n",
            "Data columns (total 4 columns):\n",
            " #   Column               Non-Null Count  Dtype \n",
            "---  ------               --------------  ----- \n",
            " 0   ano                  4211 non-null   Int64 \n",
            " 1   sigla_uf             4211 non-null   object\n",
            " 2   tipo_ocupacao        4211 non-null   object\n",
            " 3   quantidade_vinculos  4211 non-null   Int64 \n",
            "dtypes: Int64(2), object(2)\n",
            "memory usage: 172.7+ KB\n"
          ]
        }
      ],
      "source": [
        "df.info()"
      ]
    },
    {
      "cell_type": "markdown",
      "source": [
        "# Upload"
      ],
      "metadata": {
        "id": "t5hvCkQMtLaz"
      }
    },
    {
      "cell_type": "code",
      "source": [
        "# Import the bigquery library from google.cloud\n",
        "from google.cloud import bigquery\n",
        "\n",
        "# Initialize the BigQuery client, specifying the Google Cloud project ID.\n",
        "# This client object is used for all subsequent interactions with the BigQuery API.\n",
        "client = bigquery.Client(project='repositoriodedadosgpsp')\n",
        "\n",
        "# Create a reference to the BigQuery dataset named 'perfil_remuneracao'.\n",
        "# This object points to the dataset where the table will be created or updated.\n",
        "dataset_ref = client.dataset('perfil_remuneracao')\n",
        "\n",
        "# Define the schema for the destination BigQuery table.\n",
        "# The schema is a list of SchemaField objects, where each object defines a column's:\n",
        "# 1. Name (e.g., 'ano')\n",
        "# 2. Data type (e.g., 'INTEGER')\n",
        "# 3. Description (e.g., 'Ano de referencia da informacao')\n",
        "schema=[bigquery.SchemaField('ano','INTEGER',description='Ano de referencia da informacao'),\n",
        " bigquery.SchemaField('sigla_uf','STRING',description='Sigla da Unidade da Federação.'),\n",
        " bigquery.SchemaField('tipo_ocupacao','STRING',description='Qual a ocupação daquele vínculo'),\n",
        " bigquery.SchemaField('quantidade_vinculos','INTEGER',description='Quantidade de vinculos')\n",
        " ]\n",
        "\n",
        "# Create a reference to the target table within the dataset specified earlier.\n",
        "# The table will be named 'CNES_total_profissionais_saude_v1'.\n",
        "table_ref = dataset_ref.table('CNES_total_profissionais_saude_v1')\n",
        "\n",
        "# Configure the load job by creating a LoadJobConfig object.\n",
        "# Here, we specify the schema that BigQuery should use for the table. This ensures\n",
        "# that the columns in BigQuery have the correct data types and descriptions.\n",
        "job_config = bigquery.LoadJobConfig(schema=schema)\n",
        "\n",
        "# Start the job to load data from the pandas DataFrame 'df' into the specified BigQuery table ('table_ref').\n",
        "# The job is configured with the previously defined 'job_config'. This command sends the data to BigQuery.\n",
        "job = client.load_table_from_dataframe(df, table_ref, job_config=job_config)\n",
        "\n",
        "# Wait for the load job to complete and retrieve its result.\n",
        "# This line is blocking and will pause the script's execution until the data upload is finished.\n",
        "# It's crucial for ensuring the data is fully loaded before the script ends or proceeds.\n",
        "job.result()"
      ],
      "metadata": {
        "id": "H0FbZ20mFlTA"
      },
      "execution_count": null,
      "outputs": []
    }
  ],
  "metadata": {
    "kernelspec": {
      "display_name": "Python 3",
      "language": "python",
      "name": "python3"
    },
    "language_info": {
      "codemirror_mode": {
        "name": "ipython",
        "version": 3
      },
      "file_extension": ".py",
      "mimetype": "text/x-python",
      "name": "python",
      "nbconvert_exporter": "python",
      "pygments_lexer": "ipython3",
      "version": "3.10.11"
    },
    "orig_nbformat": 4,
    "colab": {
      "provenance": []
    }
  },
  "nbformat": 4,
  "nbformat_minor": 0
}