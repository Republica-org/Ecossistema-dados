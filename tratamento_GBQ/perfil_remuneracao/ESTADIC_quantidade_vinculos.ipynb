{
 "cells": [
  {
   "cell_type": "code",
   "execution_count": 3,
   "metadata": {},
   "outputs": [],
   "source": [
    "import pandas as pd\n",
    "import time\n",
    "import numpy as np\n",
    "import os\n",
    "import pandas_gbq\n",
    "from google.cloud import bigquery\n",
    "import basedosdados as bd"
   ]
  },
  {
   "cell_type": "code",
   "execution_count": 34,
   "metadata": {},
   "outputs": [],
   "source": [
    "query = \"SELECT  ano,  tipo_vinculo,  sigla_uf,  sum(quantidade_vinculo) as quantidade_vinculos FROM  `basedosdados.br_ibge_estadic.indicadores_quantidade_vinculo` where ano !=2018 group by   1, 2, 3\""
   ]
  },
  {
   "cell_type": "code",
   "execution_count": 6,
   "metadata": {},
   "outputs": [],
   "source": [
    "client = bigquery.Client()"
   ]
  },
  {
   "cell_type": "code",
   "execution_count": 35,
   "metadata": {},
   "outputs": [
    {
     "name": "stderr",
     "output_type": "stream",
     "text": [
      "Downloading: 100%|██████████| 405/405 [00:00<00:00, 1199.15rows/s]\n"
     ]
    }
   ],
   "source": [
    "df = pandas_gbq.read_gbq(query, project_id='repositoriodedadosgpsp')"
   ]
  },
  {
   "cell_type": "code",
   "execution_count": 36,
   "metadata": {},
   "outputs": [],
   "source": [
    "## Subindo para GBQ\n",
    "\n",
    "dataset_ref = client.dataset('perfil_remuneracao') "
   ]
  },
  {
   "cell_type": "code",
   "execution_count": 37,
   "metadata": {},
   "outputs": [],
   "source": [
    "schema=[bigquery.SchemaField('ano','INTEGER',description='Ano de referencia da informacao'),\n",
    "bigquery.SchemaField('tipo_vinculo','STRING',description='Tipo de vinculo.'),\n",
    " bigquery.SchemaField('sigla_uf','STRING',description='Sigla da Unidade da Federação.'),\n",
    " bigquery.SchemaField('quantidade_vinculos','INTEGER',description='Quantidade de vinculos')\n",
    " ]"
   ]
  },
  {
   "cell_type": "code",
   "execution_count": 40,
   "metadata": {},
   "outputs": [
    {
     "data": {
      "text/plain": [
       "LoadJob<project=repositoriodedadosgpsp, location=US, id=9e74c753-ad69-4bc8-b37c-4fcce09936f4>"
      ]
     },
     "execution_count": 40,
     "metadata": {},
     "output_type": "execute_result"
    }
   ],
   "source": [
    "table_ref = dataset_ref.table('ESTADIC_quantidade_vinculos') # nome da tabela no padrão FONTE_algo_intuitivo_dado\n",
    "job_config = bigquery.LoadJobConfig(schema=schema)\n",
    "job = client.load_table_from_dataframe(df, table_ref, job_config=job_config)\n",
    "job.result() "
   ]
  },
  {
   "cell_type": "code",
   "execution_count": null,
   "metadata": {},
   "outputs": [],
   "source": [
    "### Fazendo para o mapa\n"
   ]
  },
  {
   "cell_type": "code",
   "execution_count": 15,
   "metadata": {},
   "outputs": [],
   "source": [
    "y=df.pivot_table(index={'sigla_uf'},values='quantidade_vinculos', aggfunc=np.sum)"
   ]
  },
  {
   "cell_type": "code",
   "execution_count": 21,
   "metadata": {},
   "outputs": [],
   "source": [
    "y = pd.DataFrame(y)\n",
    "total = y.reset_index()\n"
   ]
  },
  {
   "cell_type": "code",
   "execution_count": 23,
   "metadata": {},
   "outputs": [],
   "source": [
    "total=total.rename(columns={'quantidade_vinculos':'total_estado'})"
   ]
  },
  {
   "cell_type": "code",
   "execution_count": 25,
   "metadata": {},
   "outputs": [],
   "source": [
    "df1 = df.merge(total, right_on='sigla_uf', left_on='sigla_uf')"
   ]
  },
  {
   "cell_type": "code",
   "execution_count": 28,
   "metadata": {},
   "outputs": [],
   "source": [
    "## Subindo para GBQ\n",
    "\n",
    "dataset_ref = client.dataset('perfil_remuneracao') "
   ]
  },
  {
   "cell_type": "code",
   "execution_count": 29,
   "metadata": {},
   "outputs": [
    {
     "name": "stdout",
     "output_type": "stream",
     "text": [
      "<class 'pandas.core.frame.DataFrame'>\n",
      "Int64Index: 135 entries, 0 to 134\n",
      "Data columns (total 5 columns):\n",
      " #   Column               Non-Null Count  Dtype \n",
      "---  ------               --------------  ----- \n",
      " 0   ano                  135 non-null    Int64 \n",
      " 1   tipo_vinculo         135 non-null    object\n",
      " 2   sigla_uf             135 non-null    object\n",
      " 3   quantidade_vinculos  132 non-null    Int64 \n",
      " 4   total_estado         135 non-null    Int64 \n",
      "dtypes: Int64(3), object(2)\n",
      "memory usage: 6.7+ KB\n"
     ]
    }
   ],
   "source": [
    "df1.info()"
   ]
  },
  {
   "cell_type": "code",
   "execution_count": 32,
   "metadata": {},
   "outputs": [],
   "source": [
    "schema=[bigquery.SchemaField('ano','INTEGER',description='Ano de referencia da informacao'),\n",
    "bigquery.SchemaField('tipo_vinculo','STRING',description='Tipo de vinculo.'),\n",
    " bigquery.SchemaField('sigla_uf','STRING',description='Sigla da Unidade da Federação.'),\n",
    " bigquery.SchemaField('quantidade_vinculos','INTEGER',description='Quantidade de vinculos'),\n",
    " bigquery.SchemaField('total_estado','INTEGER',description='Total de vínculos daquela UF')\n",
    " ]"
   ]
  },
  {
   "cell_type": "code",
   "execution_count": 33,
   "metadata": {},
   "outputs": [
    {
     "data": {
      "text/plain": [
       "LoadJob<project=repositoriodedadosgpsp, location=US, id=4e7496d2-2915-4498-ba80-9da967b19307>"
      ]
     },
     "execution_count": 33,
     "metadata": {},
     "output_type": "execute_result"
    }
   ],
   "source": [
    "table_ref = dataset_ref.table('ESTADIC_quantidade_vinculos') # nome da tabela no padrão FONTE_algo_intuitivo_dado\n",
    "job_config = bigquery.LoadJobConfig(schema=schema)\n",
    "job = client.load_table_from_dataframe(df1, table_ref, job_config=job_config)\n",
    "job.result() "
   ]
  },
  {
   "cell_type": "code",
   "execution_count": null,
   "metadata": {},
   "outputs": [],
   "source": [
    "## Para modificações:"
   ]
  },
  {
   "cell_type": "code",
   "execution_count": null,
   "metadata": {},
   "outputs": [],
   "source": [
    "query = "
   ]
  },
  {
   "cell_type": "code",
   "execution_count": null,
   "metadata": {},
   "outputs": [],
   "source": [
    "df = pandas_gbq.read_gbq(query, project_id='repositoriodedadosgpsp')"
   ]
  }
 ],
 "metadata": {
  "kernelspec": {
   "display_name": "Python 3",
   "language": "python",
   "name": "python3"
  },
  "language_info": {
   "codemirror_mode": {
    "name": "ipython",
    "version": 3
   },
   "file_extension": ".py",
   "mimetype": "text/x-python",
   "name": "python",
   "nbconvert_exporter": "python",
   "pygments_lexer": "ipython3",
   "version": "3.10.11"
  },
  "orig_nbformat": 4
 },
 "nbformat": 4,
 "nbformat_minor": 2
}
