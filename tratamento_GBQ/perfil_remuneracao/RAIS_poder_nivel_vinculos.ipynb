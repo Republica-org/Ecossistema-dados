{
 "cells": [
  {
   "cell_type": "code",
   "execution_count": 1,
   "metadata": {},
   "outputs": [],
   "source": [
    "import numpy as np\n",
    "import pandas as pd\n",
    "import numpy as np\n",
    "import os\n",
    "import time\n",
    "from google.cloud import bigquery\n"
   ]
  },
  {
   "cell_type": "code",
   "execution_count": 2,
   "metadata": {},
   "outputs": [],
   "source": [
    "os.chdir('G:\\\\Drives compartilhados\\\\República.org\\\\4. Equipes\\\\Dados e Comunicação\\\\DADOS\\\\415 - Repositório de Dados\\\\Repositório Local\\\\RAIS')\n"
   ]
  },
  {
   "cell_type": "code",
   "execution_count": 7,
   "metadata": {},
   "outputs": [
    {
     "data": {
      "text/html": [
       "<div>\n",
       "<style scoped>\n",
       "    .dataframe tbody tr th:only-of-type {\n",
       "        vertical-align: middle;\n",
       "    }\n",
       "\n",
       "    .dataframe tbody tr th {\n",
       "        vertical-align: top;\n",
       "    }\n",
       "\n",
       "    .dataframe thead th {\n",
       "        text-align: right;\n",
       "    }\n",
       "</style>\n",
       "<table border=\"1\" class=\"dataframe\">\n",
       "  <thead>\n",
       "    <tr style=\"text-align: right;\">\n",
       "      <th></th>\n",
       "      <th>ano</th>\n",
       "      <th>quantidade_vinculos</th>\n",
       "      <th>prop_ano</th>\n",
       "      <th>esfera</th>\n",
       "      <th>poderes</th>\n",
       "    </tr>\n",
       "  </thead>\n",
       "  <tbody>\n",
       "    <tr>\n",
       "      <th>0</th>\n",
       "      <td>1985</td>\n",
       "      <td>849283</td>\n",
       "      <td>0.175573</td>\n",
       "      <td>Federal</td>\n",
       "      <td>Executivo</td>\n",
       "    </tr>\n",
       "    <tr>\n",
       "      <th>1</th>\n",
       "      <td>1986</td>\n",
       "      <td>886308</td>\n",
       "      <td>0.173698</td>\n",
       "      <td>Federal</td>\n",
       "      <td>Executivo</td>\n",
       "    </tr>\n",
       "    <tr>\n",
       "      <th>2</th>\n",
       "      <td>1987</td>\n",
       "      <td>889837</td>\n",
       "      <td>0.163017</td>\n",
       "      <td>Federal</td>\n",
       "      <td>Executivo</td>\n",
       "    </tr>\n",
       "    <tr>\n",
       "      <th>3</th>\n",
       "      <td>1988</td>\n",
       "      <td>864307</td>\n",
       "      <td>0.154180</td>\n",
       "      <td>Federal</td>\n",
       "      <td>Executivo</td>\n",
       "    </tr>\n",
       "    <tr>\n",
       "      <th>4</th>\n",
       "      <td>1989</td>\n",
       "      <td>881391</td>\n",
       "      <td>0.155422</td>\n",
       "      <td>Federal</td>\n",
       "      <td>Executivo</td>\n",
       "    </tr>\n",
       "    <tr>\n",
       "      <th>...</th>\n",
       "      <td>...</td>\n",
       "      <td>...</td>\n",
       "      <td>...</td>\n",
       "      <td>...</td>\n",
       "      <td>...</td>\n",
       "    </tr>\n",
       "    <tr>\n",
       "      <th>275</th>\n",
       "      <td>2015</td>\n",
       "      <td>215291</td>\n",
       "      <td>0.018976</td>\n",
       "      <td>Estadual</td>\n",
       "      <td>Judiciário</td>\n",
       "    </tr>\n",
       "    <tr>\n",
       "      <th>276</th>\n",
       "      <td>2016</td>\n",
       "      <td>219009</td>\n",
       "      <td>0.019451</td>\n",
       "      <td>Estadual</td>\n",
       "      <td>Judiciário</td>\n",
       "    </tr>\n",
       "    <tr>\n",
       "      <th>277</th>\n",
       "      <td>2017</td>\n",
       "      <td>222011</td>\n",
       "      <td>0.019522</td>\n",
       "      <td>Estadual</td>\n",
       "      <td>Judiciário</td>\n",
       "    </tr>\n",
       "    <tr>\n",
       "      <th>278</th>\n",
       "      <td>2018</td>\n",
       "      <td>224112</td>\n",
       "      <td>0.020055</td>\n",
       "      <td>Estadual</td>\n",
       "      <td>Judiciário</td>\n",
       "    </tr>\n",
       "    <tr>\n",
       "      <th>279</th>\n",
       "      <td>2019</td>\n",
       "      <td>223649</td>\n",
       "      <td>0.020537</td>\n",
       "      <td>Estadual</td>\n",
       "      <td>Judiciário</td>\n",
       "    </tr>\n",
       "  </tbody>\n",
       "</table>\n",
       "<p>280 rows × 5 columns</p>\n",
       "</div>"
      ],
      "text/plain": [
       "      ano  quantidade_vinculos  prop_ano    esfera     poderes\n",
       "0    1985               849283  0.175573   Federal   Executivo\n",
       "1    1986               886308  0.173698   Federal   Executivo\n",
       "2    1987               889837  0.163017   Federal   Executivo\n",
       "3    1988               864307  0.154180   Federal   Executivo\n",
       "4    1989               881391  0.155422   Federal   Executivo\n",
       "..    ...                  ...       ...       ...         ...\n",
       "275  2015               215291  0.018976  Estadual  Judiciário\n",
       "276  2016               219009  0.019451  Estadual  Judiciário\n",
       "277  2017               222011  0.019522  Estadual  Judiciário\n",
       "278  2018               224112  0.020055  Estadual  Judiciário\n",
       "279  2019               223649  0.020537  Estadual  Judiciário\n",
       "\n",
       "[280 rows x 5 columns]"
      ]
     },
     "execution_count": 7,
     "metadata": {},
     "output_type": "execute_result"
    }
   ],
   "source": [
    "df = pd.read_csv('RAIS_poderes_esferas.csv', sep=';', decimal=',')\n",
    "df"
   ]
  },
  {
   "attachments": {},
   "cell_type": "markdown",
   "metadata": {},
   "source": [
    "Subindo para o GBQ"
   ]
  },
  {
   "cell_type": "code",
   "execution_count": 5,
   "metadata": {},
   "outputs": [],
   "source": [
    "client = bigquery.Client()\n",
    "dataset_ref = client.dataset('perfil_remuneracao')"
   ]
  },
  {
   "cell_type": "code",
   "execution_count": 8,
   "metadata": {},
   "outputs": [
    {
     "name": "stdout",
     "output_type": "stream",
     "text": [
      "<class 'pandas.core.frame.DataFrame'>\n",
      "RangeIndex: 280 entries, 0 to 279\n",
      "Data columns (total 5 columns):\n",
      " #   Column               Non-Null Count  Dtype  \n",
      "---  ------               --------------  -----  \n",
      " 0   ano                  280 non-null    int64  \n",
      " 1   quantidade_vinculos  280 non-null    int64  \n",
      " 2   prop_ano             280 non-null    float64\n",
      " 3   esfera               280 non-null    object \n",
      " 4   poderes              280 non-null    object \n",
      "dtypes: float64(1), int64(2), object(2)\n",
      "memory usage: 11.1+ KB\n"
     ]
    }
   ],
   "source": [
    "df.info()"
   ]
  },
  {
   "cell_type": "code",
   "execution_count": 9,
   "metadata": {},
   "outputs": [],
   "source": [
    "schema = [bigquery.SchemaField('ano', 'INTEGER', description= 'Ano de referência da observação'),\n",
    "          bigquery.SchemaField('quantidade_vinculos', 'INTEGER', description= 'Número total de vinculos observados'),\n",
    "          bigquery.SchemaField('prop_ano', 'FLOAT', description= 'proporção de vínculo em relação ao total naquele ano'),\n",
    "          bigquery.SchemaField('esfera', 'STRING', description= 'Nível da esfera do governo referente da observação'),\n",
    "          bigquery.SchemaField('poderes', 'STRING', description= 'Poder abrangente ao nível de esfera referente a observação')\n",
    "          ]"
   ]
  },
  {
   "cell_type": "code",
   "execution_count": 10,
   "metadata": {},
   "outputs": [
    {
     "data": {
      "text/plain": [
       "LoadJob<project=repositoriodedadosgpsp, location=US, id=9f5a88ee-0d1d-4826-875f-9a316138b0ea>"
      ]
     },
     "execution_count": 10,
     "metadata": {},
     "output_type": "execute_result"
    }
   ],
   "source": [
    "table_ref = dataset_ref.table('RAIS_poder_nivel_vinculos')\n",
    "job_config = bigquery.LoadJobConfig(schema=schema)\n",
    "job = client.load_table_from_dataframe(df, table_ref, job_config=job_config)\n",
    "job.result() "
   ]
  }
 ],
 "metadata": {
  "kernelspec": {
   "display_name": "base",
   "language": "python",
   "name": "python3"
  },
  "language_info": {
   "codemirror_mode": {
    "name": "ipython",
    "version": 3
   },
   "file_extension": ".py",
   "mimetype": "text/x-python",
   "name": "python",
   "nbconvert_exporter": "python",
   "pygments_lexer": "ipython3",
   "version": "3.10.11"
  },
  "orig_nbformat": 4
 },
 "nbformat": 4,
 "nbformat_minor": 2
}
