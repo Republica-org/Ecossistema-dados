{
  "cells": [
    {
      "cell_type": "code",
      "source": [
        "!pip install gcloud"
      ],
      "metadata": {
        "colab": {
          "base_uri": "https://localhost:8080/"
        },
        "id": "IdwpqyRCxoiv",
        "outputId": "7dbd0cec-70a9-429f-bed2-4011cf30ddef"
      },
      "execution_count": 1,
      "outputs": [
        {
          "output_type": "stream",
          "name": "stdout",
          "text": [
            "Collecting gcloud\n",
            "  Downloading gcloud-0.18.3.tar.gz (454 kB)\n",
            "\u001b[?25l     \u001b[90m━━━━━━━━━━━━━━━━━━━━━━━━━━━━━━━━━━━━━━━━\u001b[0m \u001b[32m0.0/454.4 kB\u001b[0m \u001b[31m?\u001b[0m eta \u001b[36m-:--:--\u001b[0m\r\u001b[2K     \u001b[91m━━━━━━━━━━━━━━━━━━━━━━━━━━━━━━━━━━━━━━━\u001b[0m\u001b[91m╸\u001b[0m \u001b[32m450.6/454.4 kB\u001b[0m \u001b[31m22.2 MB/s\u001b[0m eta \u001b[36m0:00:01\u001b[0m\r\u001b[2K     \u001b[90m━━━━━━━━━━━━━━━━━━━━━━━━━━━━━━━━━━━━━━━━\u001b[0m \u001b[32m454.4/454.4 kB\u001b[0m \u001b[31m12.3 MB/s\u001b[0m eta \u001b[36m0:00:00\u001b[0m\n",
            "\u001b[?25h  Preparing metadata (setup.py) ... \u001b[?25l\u001b[?25hdone\n",
            "Requirement already satisfied: httplib2>=0.9.1 in /usr/local/lib/python3.10/dist-packages (from gcloud) (0.22.0)\n",
            "Requirement already satisfied: googleapis-common-protos in /usr/local/lib/python3.10/dist-packages (from gcloud) (1.63.2)\n",
            "Requirement already satisfied: oauth2client>=2.0.1 in /usr/local/lib/python3.10/dist-packages (from gcloud) (4.1.3)\n",
            "Requirement already satisfied: protobuf!=3.0.0.b2.post1,>=3.0.0b2 in /usr/local/lib/python3.10/dist-packages (from gcloud) (3.20.3)\n",
            "Requirement already satisfied: six in /usr/local/lib/python3.10/dist-packages (from gcloud) (1.16.0)\n",
            "Requirement already satisfied: pyparsing!=3.0.0,!=3.0.1,!=3.0.2,!=3.0.3,<4,>=2.4.2 in /usr/local/lib/python3.10/dist-packages (from httplib2>=0.9.1->gcloud) (3.1.2)\n",
            "Requirement already satisfied: pyasn1>=0.1.7 in /usr/local/lib/python3.10/dist-packages (from oauth2client>=2.0.1->gcloud) (0.6.0)\n",
            "Requirement already satisfied: pyasn1-modules>=0.0.5 in /usr/local/lib/python3.10/dist-packages (from oauth2client>=2.0.1->gcloud) (0.4.0)\n",
            "Requirement already satisfied: rsa>=3.1.4 in /usr/local/lib/python3.10/dist-packages (from oauth2client>=2.0.1->gcloud) (4.9)\n",
            "Building wheels for collected packages: gcloud\n",
            "  Building wheel for gcloud (setup.py) ... \u001b[?25l\u001b[?25hdone\n",
            "  Created wheel for gcloud: filename=gcloud-0.18.3-py3-none-any.whl size=602927 sha256=02bed7b31e49f745de28337d4893b5e1034af3d59d0d72e90b3900c3c8007b1a\n",
            "  Stored in directory: /root/.cache/pip/wheels/7c/30/88/5017af921da3a33af785f0d0fd3e944b845bc62a445a2c2f69\n",
            "Successfully built gcloud\n",
            "Installing collected packages: gcloud\n",
            "Successfully installed gcloud-0.18.3\n"
          ]
        }
      ]
    },
    {
      "cell_type": "code",
      "source": [
        "!gcloud auth application-default login"
      ],
      "metadata": {
        "colab": {
          "base_uri": "https://localhost:8080/"
        },
        "id": "3XMGtLKJxqAc",
        "outputId": "7419af94-0a96-421c-af79-4aece4969c40"
      },
      "execution_count": 2,
      "outputs": [
        {
          "output_type": "stream",
          "name": "stdout",
          "text": [
            "Go to the following link in your browser, and complete the sign-in prompts:\n",
            "\n",
            "    https://accounts.google.com/o/oauth2/auth?response_type=code&client_id=764086051850-6qr4p6gpi6hn506pt8ejuq83di341hur.apps.googleusercontent.com&redirect_uri=https%3A%2F%2Fsdk.cloud.google.com%2Fapplicationdefaultauthcode.html&scope=openid+https%3A%2F%2Fwww.googleapis.com%2Fauth%2Fuserinfo.email+https%3A%2F%2Fwww.googleapis.com%2Fauth%2Fcloud-platform+https%3A%2F%2Fwww.googleapis.com%2Fauth%2Fsqlservice.login&state=WqcfpMYQe9M3s39fN1aKafeXQFGVoM&prompt=consent&token_usage=remote&access_type=offline&code_challenge=xX8A0EorGsSQ8dGubbCD1cMKjvDeUucXuOpBUWRvbvM&code_challenge_method=S256\n",
            "\n",
            "Once finished, enter the verification code provided in your browser: 4/0AcvDMrCEMkt__kD8NTzr30P6c_EFw4_LjQTw4_8M0uc0pnOQY-in6M72CSdKzWUV6Z9P8Q\n",
            "\n",
            "Credentials saved to file: [/content/.config/application_default_credentials.json]\n",
            "\n",
            "These credentials will be used by any library that requests Application Default Credentials (ADC).\n",
            "\u001b[1;33mWARNING:\u001b[0m \n",
            "Cannot find a quota project to add to ADC. You might receive a \"quota exceeded\" or \"API not enabled\" error. Run $ gcloud auth application-default set-quota-project to add a quota project.\n"
          ]
        }
      ]
    },
    {
      "cell_type": "code",
      "execution_count": 23,
      "metadata": {
        "id": "zQSr9ecfwtXO"
      },
      "outputs": [],
      "source": [
        "##importando pacotes\n",
        "import pandas as pd\n",
        "import numpy as np\n",
        "import time\n",
        "import os\n",
        "import pandas_gbq\n",
        "from google.cloud import bigquery\n",
        "import glob\n",
        "import openpyxl\n",
        "import csv\n",
        "import re"
      ]
    },
    {
      "cell_type": "code",
      "source": [
        "df = pd.read_csv(\"ILOSTAT_genero.csv\", usecols=['ref_area.label','source.label','time','sex.label','classif2.label','obs_value'])"
      ],
      "metadata": {
        "id": "yfIgblGYx_Fi"
      },
      "execution_count": 24,
      "outputs": []
    },
    {
      "cell_type": "code",
      "execution_count": 25,
      "metadata": {
        "colab": {
          "base_uri": "https://localhost:8080/"
        },
        "id": "7LLPfZXbwtXT",
        "outputId": "04b6d910-d6ab-46cc-fcbb-9a0489706ef4"
      },
      "outputs": [
        {
          "output_type": "stream",
          "name": "stdout",
          "text": [
            "<class 'pandas.core.frame.DataFrame'>\n",
            "RangeIndex: 596 entries, 0 to 595\n",
            "Data columns (total 6 columns):\n",
            " #   Column          Non-Null Count  Dtype  \n",
            "---  ------          --------------  -----  \n",
            " 0   ref_area.label  596 non-null    object \n",
            " 1   source.label    596 non-null    object \n",
            " 2   sex.label       596 non-null    object \n",
            " 3   classif2.label  596 non-null    object \n",
            " 4   time            596 non-null    int64  \n",
            " 5   obs_value       596 non-null    float64\n",
            "dtypes: float64(1), int64(1), object(4)\n",
            "memory usage: 28.1+ KB\n"
          ]
        }
      ],
      "source": [
        "df.info()"
      ]
    },
    {
      "cell_type": "code",
      "source": [
        "df.rename(columns={\n",
        "    'ref_area.label': 'Reference area',\n",
        "    'source.label': 'Source',\n",
        "    'sex.label': 'Sex',\n",
        "    'classif2.label': 'Setor',\n",
        "    'time': 'Time',\n",
        "    'obs_value': 'Total'\n",
        "}, inplace=True)"
      ],
      "metadata": {
        "id": "2KNQHu4304ff"
      },
      "execution_count": 26,
      "outputs": []
    },
    {
      "cell_type": "code",
      "source": [
        "df['Sex'] = df['Sex'].str.replace('Sex: ', '')\n",
        "df['Setor'] = df['Setor'].str.replace('Institutional sector: ', '')\n",
        "print(df)"
      ],
      "metadata": {
        "colab": {
          "base_uri": "https://localhost:8080/"
        },
        "id": "kvyokxB204iW",
        "outputId": "a6326980-625b-4e87-e171-d4a501ad6c5c"
      },
      "execution_count": 27,
      "outputs": [
        {
          "output_type": "stream",
          "name": "stdout",
          "text": [
            "    Reference area                                   Source     Sex    Setor  \\\n",
            "0        Argentina  LFS - Permanent Household Survey, Urban    Male   Public   \n",
            "1        Argentina  LFS - Permanent Household Survey, Urban    Male  Private   \n",
            "2        Argentina  LFS - Permanent Household Survey, Urban  Female   Public   \n",
            "3        Argentina  LFS - Permanent Household Survey, Urban  Female  Private   \n",
            "4        Argentina  LFS - Permanent Household Survey, Urban    Male   Public   \n",
            "..             ...                                      ...     ...      ...   \n",
            "591   South Africa      LFS - Quarterly Labour Force Survey  Female  Private   \n",
            "592   South Africa      LFS - Quarterly Labour Force Survey    Male   Public   \n",
            "593   South Africa      LFS - Quarterly Labour Force Survey    Male  Private   \n",
            "594   South Africa      LFS - Quarterly Labour Force Survey  Female   Public   \n",
            "595   South Africa      LFS - Quarterly Labour Force Survey  Female  Private   \n",
            "\n",
            "     Time     Total  \n",
            "0    2023  1079.515  \n",
            "1    2023  4265.218  \n",
            "2    2023  1332.894  \n",
            "3    2023  3192.356  \n",
            "4    2022  1049.845  \n",
            "..    ...       ...  \n",
            "591  2011  4106.949  \n",
            "592  2010  1070.556  \n",
            "593  2010  5527.566  \n",
            "594  2010  1121.780  \n",
            "595  2010  4010.284  \n",
            "\n",
            "[596 rows x 6 columns]\n"
          ]
        }
      ]
    },
    {
      "cell_type": "code",
      "source": [
        "df.head()"
      ],
      "metadata": {
        "colab": {
          "base_uri": "https://localhost:8080/",
          "height": 206
        },
        "id": "x22D9yl_04lQ",
        "outputId": "f84acefd-877e-4fbf-a18f-d2ab817d0b0d"
      },
      "execution_count": 28,
      "outputs": [
        {
          "output_type": "execute_result",
          "data": {
            "text/plain": [
              "  Reference area                                   Source     Sex    Setor  \\\n",
              "0      Argentina  LFS - Permanent Household Survey, Urban    Male   Public   \n",
              "1      Argentina  LFS - Permanent Household Survey, Urban    Male  Private   \n",
              "2      Argentina  LFS - Permanent Household Survey, Urban  Female   Public   \n",
              "3      Argentina  LFS - Permanent Household Survey, Urban  Female  Private   \n",
              "4      Argentina  LFS - Permanent Household Survey, Urban    Male   Public   \n",
              "\n",
              "   Time     Total  \n",
              "0  2023  1079.515  \n",
              "1  2023  4265.218  \n",
              "2  2023  1332.894  \n",
              "3  2023  3192.356  \n",
              "4  2022  1049.845  "
            ],
            "text/html": [
              "\n",
              "  <div id=\"df-7901b682-af15-486d-9771-9d573efd55c2\" class=\"colab-df-container\">\n",
              "    <div>\n",
              "<style scoped>\n",
              "    .dataframe tbody tr th:only-of-type {\n",
              "        vertical-align: middle;\n",
              "    }\n",
              "\n",
              "    .dataframe tbody tr th {\n",
              "        vertical-align: top;\n",
              "    }\n",
              "\n",
              "    .dataframe thead th {\n",
              "        text-align: right;\n",
              "    }\n",
              "</style>\n",
              "<table border=\"1\" class=\"dataframe\">\n",
              "  <thead>\n",
              "    <tr style=\"text-align: right;\">\n",
              "      <th></th>\n",
              "      <th>Reference area</th>\n",
              "      <th>Source</th>\n",
              "      <th>Sex</th>\n",
              "      <th>Setor</th>\n",
              "      <th>Time</th>\n",
              "      <th>Total</th>\n",
              "    </tr>\n",
              "  </thead>\n",
              "  <tbody>\n",
              "    <tr>\n",
              "      <th>0</th>\n",
              "      <td>Argentina</td>\n",
              "      <td>LFS - Permanent Household Survey, Urban</td>\n",
              "      <td>Male</td>\n",
              "      <td>Public</td>\n",
              "      <td>2023</td>\n",
              "      <td>1079.515</td>\n",
              "    </tr>\n",
              "    <tr>\n",
              "      <th>1</th>\n",
              "      <td>Argentina</td>\n",
              "      <td>LFS - Permanent Household Survey, Urban</td>\n",
              "      <td>Male</td>\n",
              "      <td>Private</td>\n",
              "      <td>2023</td>\n",
              "      <td>4265.218</td>\n",
              "    </tr>\n",
              "    <tr>\n",
              "      <th>2</th>\n",
              "      <td>Argentina</td>\n",
              "      <td>LFS - Permanent Household Survey, Urban</td>\n",
              "      <td>Female</td>\n",
              "      <td>Public</td>\n",
              "      <td>2023</td>\n",
              "      <td>1332.894</td>\n",
              "    </tr>\n",
              "    <tr>\n",
              "      <th>3</th>\n",
              "      <td>Argentina</td>\n",
              "      <td>LFS - Permanent Household Survey, Urban</td>\n",
              "      <td>Female</td>\n",
              "      <td>Private</td>\n",
              "      <td>2023</td>\n",
              "      <td>3192.356</td>\n",
              "    </tr>\n",
              "    <tr>\n",
              "      <th>4</th>\n",
              "      <td>Argentina</td>\n",
              "      <td>LFS - Permanent Household Survey, Urban</td>\n",
              "      <td>Male</td>\n",
              "      <td>Public</td>\n",
              "      <td>2022</td>\n",
              "      <td>1049.845</td>\n",
              "    </tr>\n",
              "  </tbody>\n",
              "</table>\n",
              "</div>\n",
              "    <div class=\"colab-df-buttons\">\n",
              "\n",
              "  <div class=\"colab-df-container\">\n",
              "    <button class=\"colab-df-convert\" onclick=\"convertToInteractive('df-7901b682-af15-486d-9771-9d573efd55c2')\"\n",
              "            title=\"Convert this dataframe to an interactive table.\"\n",
              "            style=\"display:none;\">\n",
              "\n",
              "  <svg xmlns=\"http://www.w3.org/2000/svg\" height=\"24px\" viewBox=\"0 -960 960 960\">\n",
              "    <path d=\"M120-120v-720h720v720H120Zm60-500h600v-160H180v160Zm220 220h160v-160H400v160Zm0 220h160v-160H400v160ZM180-400h160v-160H180v160Zm440 0h160v-160H620v160ZM180-180h160v-160H180v160Zm440 0h160v-160H620v160Z\"/>\n",
              "  </svg>\n",
              "    </button>\n",
              "\n",
              "  <style>\n",
              "    .colab-df-container {\n",
              "      display:flex;\n",
              "      gap: 12px;\n",
              "    }\n",
              "\n",
              "    .colab-df-convert {\n",
              "      background-color: #E8F0FE;\n",
              "      border: none;\n",
              "      border-radius: 50%;\n",
              "      cursor: pointer;\n",
              "      display: none;\n",
              "      fill: #1967D2;\n",
              "      height: 32px;\n",
              "      padding: 0 0 0 0;\n",
              "      width: 32px;\n",
              "    }\n",
              "\n",
              "    .colab-df-convert:hover {\n",
              "      background-color: #E2EBFA;\n",
              "      box-shadow: 0px 1px 2px rgba(60, 64, 67, 0.3), 0px 1px 3px 1px rgba(60, 64, 67, 0.15);\n",
              "      fill: #174EA6;\n",
              "    }\n",
              "\n",
              "    .colab-df-buttons div {\n",
              "      margin-bottom: 4px;\n",
              "    }\n",
              "\n",
              "    [theme=dark] .colab-df-convert {\n",
              "      background-color: #3B4455;\n",
              "      fill: #D2E3FC;\n",
              "    }\n",
              "\n",
              "    [theme=dark] .colab-df-convert:hover {\n",
              "      background-color: #434B5C;\n",
              "      box-shadow: 0px 1px 3px 1px rgba(0, 0, 0, 0.15);\n",
              "      filter: drop-shadow(0px 1px 2px rgba(0, 0, 0, 0.3));\n",
              "      fill: #FFFFFF;\n",
              "    }\n",
              "  </style>\n",
              "\n",
              "    <script>\n",
              "      const buttonEl =\n",
              "        document.querySelector('#df-7901b682-af15-486d-9771-9d573efd55c2 button.colab-df-convert');\n",
              "      buttonEl.style.display =\n",
              "        google.colab.kernel.accessAllowed ? 'block' : 'none';\n",
              "\n",
              "      async function convertToInteractive(key) {\n",
              "        const element = document.querySelector('#df-7901b682-af15-486d-9771-9d573efd55c2');\n",
              "        const dataTable =\n",
              "          await google.colab.kernel.invokeFunction('convertToInteractive',\n",
              "                                                    [key], {});\n",
              "        if (!dataTable) return;\n",
              "\n",
              "        const docLinkHtml = 'Like what you see? Visit the ' +\n",
              "          '<a target=\"_blank\" href=https://colab.research.google.com/notebooks/data_table.ipynb>data table notebook</a>'\n",
              "          + ' to learn more about interactive tables.';\n",
              "        element.innerHTML = '';\n",
              "        dataTable['output_type'] = 'display_data';\n",
              "        await google.colab.output.renderOutput(dataTable, element);\n",
              "        const docLink = document.createElement('div');\n",
              "        docLink.innerHTML = docLinkHtml;\n",
              "        element.appendChild(docLink);\n",
              "      }\n",
              "    </script>\n",
              "  </div>\n",
              "\n",
              "\n",
              "<div id=\"df-ea58eed9-6a8c-4329-9abd-193f01e03475\">\n",
              "  <button class=\"colab-df-quickchart\" onclick=\"quickchart('df-ea58eed9-6a8c-4329-9abd-193f01e03475')\"\n",
              "            title=\"Suggest charts\"\n",
              "            style=\"display:none;\">\n",
              "\n",
              "<svg xmlns=\"http://www.w3.org/2000/svg\" height=\"24px\"viewBox=\"0 0 24 24\"\n",
              "     width=\"24px\">\n",
              "    <g>\n",
              "        <path d=\"M19 3H5c-1.1 0-2 .9-2 2v14c0 1.1.9 2 2 2h14c1.1 0 2-.9 2-2V5c0-1.1-.9-2-2-2zM9 17H7v-7h2v7zm4 0h-2V7h2v10zm4 0h-2v-4h2v4z\"/>\n",
              "    </g>\n",
              "</svg>\n",
              "  </button>\n",
              "\n",
              "<style>\n",
              "  .colab-df-quickchart {\n",
              "      --bg-color: #E8F0FE;\n",
              "      --fill-color: #1967D2;\n",
              "      --hover-bg-color: #E2EBFA;\n",
              "      --hover-fill-color: #174EA6;\n",
              "      --disabled-fill-color: #AAA;\n",
              "      --disabled-bg-color: #DDD;\n",
              "  }\n",
              "\n",
              "  [theme=dark] .colab-df-quickchart {\n",
              "      --bg-color: #3B4455;\n",
              "      --fill-color: #D2E3FC;\n",
              "      --hover-bg-color: #434B5C;\n",
              "      --hover-fill-color: #FFFFFF;\n",
              "      --disabled-bg-color: #3B4455;\n",
              "      --disabled-fill-color: #666;\n",
              "  }\n",
              "\n",
              "  .colab-df-quickchart {\n",
              "    background-color: var(--bg-color);\n",
              "    border: none;\n",
              "    border-radius: 50%;\n",
              "    cursor: pointer;\n",
              "    display: none;\n",
              "    fill: var(--fill-color);\n",
              "    height: 32px;\n",
              "    padding: 0;\n",
              "    width: 32px;\n",
              "  }\n",
              "\n",
              "  .colab-df-quickchart:hover {\n",
              "    background-color: var(--hover-bg-color);\n",
              "    box-shadow: 0 1px 2px rgba(60, 64, 67, 0.3), 0 1px 3px 1px rgba(60, 64, 67, 0.15);\n",
              "    fill: var(--button-hover-fill-color);\n",
              "  }\n",
              "\n",
              "  .colab-df-quickchart-complete:disabled,\n",
              "  .colab-df-quickchart-complete:disabled:hover {\n",
              "    background-color: var(--disabled-bg-color);\n",
              "    fill: var(--disabled-fill-color);\n",
              "    box-shadow: none;\n",
              "  }\n",
              "\n",
              "  .colab-df-spinner {\n",
              "    border: 2px solid var(--fill-color);\n",
              "    border-color: transparent;\n",
              "    border-bottom-color: var(--fill-color);\n",
              "    animation:\n",
              "      spin 1s steps(1) infinite;\n",
              "  }\n",
              "\n",
              "  @keyframes spin {\n",
              "    0% {\n",
              "      border-color: transparent;\n",
              "      border-bottom-color: var(--fill-color);\n",
              "      border-left-color: var(--fill-color);\n",
              "    }\n",
              "    20% {\n",
              "      border-color: transparent;\n",
              "      border-left-color: var(--fill-color);\n",
              "      border-top-color: var(--fill-color);\n",
              "    }\n",
              "    30% {\n",
              "      border-color: transparent;\n",
              "      border-left-color: var(--fill-color);\n",
              "      border-top-color: var(--fill-color);\n",
              "      border-right-color: var(--fill-color);\n",
              "    }\n",
              "    40% {\n",
              "      border-color: transparent;\n",
              "      border-right-color: var(--fill-color);\n",
              "      border-top-color: var(--fill-color);\n",
              "    }\n",
              "    60% {\n",
              "      border-color: transparent;\n",
              "      border-right-color: var(--fill-color);\n",
              "    }\n",
              "    80% {\n",
              "      border-color: transparent;\n",
              "      border-right-color: var(--fill-color);\n",
              "      border-bottom-color: var(--fill-color);\n",
              "    }\n",
              "    90% {\n",
              "      border-color: transparent;\n",
              "      border-bottom-color: var(--fill-color);\n",
              "    }\n",
              "  }\n",
              "</style>\n",
              "\n",
              "  <script>\n",
              "    async function quickchart(key) {\n",
              "      const quickchartButtonEl =\n",
              "        document.querySelector('#' + key + ' button');\n",
              "      quickchartButtonEl.disabled = true;  // To prevent multiple clicks.\n",
              "      quickchartButtonEl.classList.add('colab-df-spinner');\n",
              "      try {\n",
              "        const charts = await google.colab.kernel.invokeFunction(\n",
              "            'suggestCharts', [key], {});\n",
              "      } catch (error) {\n",
              "        console.error('Error during call to suggestCharts:', error);\n",
              "      }\n",
              "      quickchartButtonEl.classList.remove('colab-df-spinner');\n",
              "      quickchartButtonEl.classList.add('colab-df-quickchart-complete');\n",
              "    }\n",
              "    (() => {\n",
              "      let quickchartButtonEl =\n",
              "        document.querySelector('#df-ea58eed9-6a8c-4329-9abd-193f01e03475 button');\n",
              "      quickchartButtonEl.style.display =\n",
              "        google.colab.kernel.accessAllowed ? 'block' : 'none';\n",
              "    })();\n",
              "  </script>\n",
              "</div>\n",
              "\n",
              "    </div>\n",
              "  </div>\n"
            ],
            "application/vnd.google.colaboratory.intrinsic+json": {
              "type": "dataframe",
              "variable_name": "df",
              "summary": "{\n  \"name\": \"df\",\n  \"rows\": 596,\n  \"fields\": [\n    {\n      \"column\": \"Reference area\",\n      \"properties\": {\n        \"dtype\": \"category\",\n        \"num_unique_values\": 11,\n        \"samples\": [\n          \"France\",\n          \"Argentina\",\n          \"United States of America\"\n        ],\n        \"semantic_type\": \"\",\n        \"description\": \"\"\n      }\n    },\n    {\n      \"column\": \"Source\",\n      \"properties\": {\n        \"dtype\": \"category\",\n        \"num_unique_values\": 14,\n        \"samples\": [\n          \"LFS - Permanent Employment Survey, National\",\n          \"LFS - Continous Household Survey\",\n          \"LFS - Permanent Household Survey, Urban\"\n        ],\n        \"semantic_type\": \"\",\n        \"description\": \"\"\n      }\n    },\n    {\n      \"column\": \"Sex\",\n      \"properties\": {\n        \"dtype\": \"category\",\n        \"num_unique_values\": 2,\n        \"samples\": [\n          \"Female\",\n          \"Male\"\n        ],\n        \"semantic_type\": \"\",\n        \"description\": \"\"\n      }\n    },\n    {\n      \"column\": \"Setor\",\n      \"properties\": {\n        \"dtype\": \"category\",\n        \"num_unique_values\": 2,\n        \"samples\": [\n          \"Private\",\n          \"Public\"\n        ],\n        \"semantic_type\": \"\",\n        \"description\": \"\"\n      }\n    },\n    {\n      \"column\": \"Time\",\n      \"properties\": {\n        \"dtype\": \"number\",\n        \"std\": 3,\n        \"min\": 2010,\n        \"max\": 2023,\n        \"num_unique_values\": 14,\n        \"samples\": [\n          2012,\n          2010\n        ],\n        \"semantic_type\": \"\",\n        \"description\": \"\"\n      }\n    },\n    {\n      \"column\": \"Total\",\n      \"properties\": {\n        \"dtype\": \"number\",\n        \"std\": 13200.033138026603,\n        \"min\": 109.758,\n        \"max\": 70258.77,\n        \"num_unique_values\": 596,\n        \"samples\": [\n          420.816,\n          417.186\n        ],\n        \"semantic_type\": \"\",\n        \"description\": \"\"\n      }\n    }\n  ]\n}"
            }
          },
          "metadata": {},
          "execution_count": 28
        }
      ]
    },
    {
      "cell_type": "code",
      "source": [
        "df = df.rename(columns={'Time':'ano_pesquisa','Reference area':'pais','Source':'fonte_pesquisa','Total':'quantidade','Sex':'genero','Setor':'setor'})"
      ],
      "metadata": {
        "id": "MKlc8O9Y1w8-"
      },
      "execution_count": 29,
      "outputs": []
    },
    {
      "cell_type": "code",
      "source": [
        "df.info()"
      ],
      "metadata": {
        "colab": {
          "base_uri": "https://localhost:8080/"
        },
        "id": "mVaXDh6d1w_a",
        "outputId": "18d94501-1a01-4853-b88b-5a7d3ccb98f2"
      },
      "execution_count": 30,
      "outputs": [
        {
          "output_type": "stream",
          "name": "stdout",
          "text": [
            "<class 'pandas.core.frame.DataFrame'>\n",
            "RangeIndex: 596 entries, 0 to 595\n",
            "Data columns (total 6 columns):\n",
            " #   Column          Non-Null Count  Dtype  \n",
            "---  ------          --------------  -----  \n",
            " 0   pais            596 non-null    object \n",
            " 1   fonte_pesquisa  596 non-null    object \n",
            " 2   genero          596 non-null    object \n",
            " 3   setor           596 non-null    object \n",
            " 4   ano_pesquisa    596 non-null    int64  \n",
            " 5   quantidade      596 non-null    float64\n",
            "dtypes: float64(1), int64(1), object(4)\n",
            "memory usage: 28.1+ KB\n"
          ]
        }
      ]
    },
    {
      "cell_type": "code",
      "source": [
        "min(df['ano_pesquisa'])"
      ],
      "metadata": {
        "colab": {
          "base_uri": "https://localhost:8080/"
        },
        "id": "a374fFu41xCO",
        "outputId": "1bce79d0-311a-4d13-b94d-8adcd6cfac4d"
      },
      "execution_count": 31,
      "outputs": [
        {
          "output_type": "execute_result",
          "data": {
            "text/plain": [
              "2010"
            ]
          },
          "metadata": {},
          "execution_count": 31
        }
      ]
    },
    {
      "cell_type": "code",
      "source": [
        "max(df['ano_pesquisa'])"
      ],
      "metadata": {
        "colab": {
          "base_uri": "https://localhost:8080/"
        },
        "id": "D0CiUhVO1xEf",
        "outputId": "634b8db0-a35f-48c5-f427-c05c1aff7412"
      },
      "execution_count": 32,
      "outputs": [
        {
          "output_type": "execute_result",
          "data": {
            "text/plain": [
              "2023"
            ]
          },
          "metadata": {},
          "execution_count": 32
        }
      ]
    },
    {
      "cell_type": "code",
      "source": [
        "unique_countries = df['setor'].unique()\n",
        "print(unique_countries)\n",
        "\n",
        "translations = {\n",
        "    'Private': 'Privado',\n",
        "    'Public': 'Público'\n",
        "}\n",
        "\n",
        "# Substituindo os valores da coluna 'country' pelos valores traduzidos\n",
        "df['setor'] = df['setor'].replace(translations)\n",
        "\n",
        "print(df)"
      ],
      "metadata": {
        "colab": {
          "base_uri": "https://localhost:8080/"
        },
        "id": "WH1xVfvteVzS",
        "outputId": "2f9c7b03-52d5-4a06-cac1-b504d70ab932"
      },
      "execution_count": 33,
      "outputs": [
        {
          "output_type": "stream",
          "name": "stdout",
          "text": [
            "['Public' 'Private']\n",
            "             pais                           fonte_pesquisa  genero    setor  \\\n",
            "0       Argentina  LFS - Permanent Household Survey, Urban    Male  Público   \n",
            "1       Argentina  LFS - Permanent Household Survey, Urban    Male  Privado   \n",
            "2       Argentina  LFS - Permanent Household Survey, Urban  Female  Público   \n",
            "3       Argentina  LFS - Permanent Household Survey, Urban  Female  Privado   \n",
            "4       Argentina  LFS - Permanent Household Survey, Urban    Male  Público   \n",
            "..            ...                                      ...     ...      ...   \n",
            "591  South Africa      LFS - Quarterly Labour Force Survey  Female  Privado   \n",
            "592  South Africa      LFS - Quarterly Labour Force Survey    Male  Público   \n",
            "593  South Africa      LFS - Quarterly Labour Force Survey    Male  Privado   \n",
            "594  South Africa      LFS - Quarterly Labour Force Survey  Female  Público   \n",
            "595  South Africa      LFS - Quarterly Labour Force Survey  Female  Privado   \n",
            "\n",
            "     ano_pesquisa  quantidade  \n",
            "0            2023    1079.515  \n",
            "1            2023    4265.218  \n",
            "2            2023    1332.894  \n",
            "3            2023    3192.356  \n",
            "4            2022    1049.845  \n",
            "..            ...         ...  \n",
            "591          2011    4106.949  \n",
            "592          2010    1070.556  \n",
            "593          2010    5527.566  \n",
            "594          2010    1121.780  \n",
            "595          2010    4010.284  \n",
            "\n",
            "[596 rows x 6 columns]\n"
          ]
        }
      ]
    },
    {
      "cell_type": "code",
      "source": [
        "unique_countries = df['genero'].unique()\n",
        "print(unique_countries)\n",
        "\n",
        "translations = {\n",
        "    'Male': 'Homem',\n",
        "    'Female': 'Mulher'\n",
        "}\n",
        "\n",
        "# Substituindo os valores da coluna 'country' pelos valores traduzidos\n",
        "df['genero'] = df['genero'].replace(translations)\n",
        "\n",
        "print(df)"
      ],
      "metadata": {
        "colab": {
          "base_uri": "https://localhost:8080/"
        },
        "id": "hZSO6LLKeV6X",
        "outputId": "0a444fdd-cc6f-45bb-d5e4-94b32b9d7fbb"
      },
      "execution_count": 34,
      "outputs": [
        {
          "output_type": "stream",
          "name": "stdout",
          "text": [
            "['Male' 'Female']\n",
            "             pais                           fonte_pesquisa  genero    setor  \\\n",
            "0       Argentina  LFS - Permanent Household Survey, Urban   Homem  Público   \n",
            "1       Argentina  LFS - Permanent Household Survey, Urban   Homem  Privado   \n",
            "2       Argentina  LFS - Permanent Household Survey, Urban  Mulher  Público   \n",
            "3       Argentina  LFS - Permanent Household Survey, Urban  Mulher  Privado   \n",
            "4       Argentina  LFS - Permanent Household Survey, Urban   Homem  Público   \n",
            "..            ...                                      ...     ...      ...   \n",
            "591  South Africa      LFS - Quarterly Labour Force Survey  Mulher  Privado   \n",
            "592  South Africa      LFS - Quarterly Labour Force Survey   Homem  Público   \n",
            "593  South Africa      LFS - Quarterly Labour Force Survey   Homem  Privado   \n",
            "594  South Africa      LFS - Quarterly Labour Force Survey  Mulher  Público   \n",
            "595  South Africa      LFS - Quarterly Labour Force Survey  Mulher  Privado   \n",
            "\n",
            "     ano_pesquisa  quantidade  \n",
            "0            2023    1079.515  \n",
            "1            2023    4265.218  \n",
            "2            2023    1332.894  \n",
            "3            2023    3192.356  \n",
            "4            2022    1049.845  \n",
            "..            ...         ...  \n",
            "591          2011    4106.949  \n",
            "592          2010    1070.556  \n",
            "593          2010    5527.566  \n",
            "594          2010    1121.780  \n",
            "595          2010    4010.284  \n",
            "\n",
            "[596 rows x 6 columns]\n"
          ]
        }
      ]
    },
    {
      "cell_type": "code",
      "execution_count": 35,
      "metadata": {
        "id": "PTOAt4zdwtXU"
      },
      "outputs": [],
      "source": [
        "df=df.rename(columns={'País':'pais'})"
      ]
    },
    {
      "cell_type": "code",
      "source": [
        "unique_countries = df['pais'].unique()\n",
        "print(unique_countries)\n",
        "\n",
        "translations = {\n",
        "    'South Africa': 'África do Sul',\n",
        "    'Argentina': 'Argentina',\n",
        "    'Brazil': 'Brasil',\n",
        "    'Chile': 'Chile',\n",
        "    'Colombia': 'Colômbia',\n",
        "    'United States of America': 'Estados Unidos',\n",
        "    'France': 'França',\n",
        "    'Mexico': 'México',\n",
        "    'Peru': 'Peru',\n",
        "    'Bolivia (Plurinational State of)': 'Bolívia',\n",
        "    'Uruguay': 'Uruguai',\n",
        "    'France' : 'França'\n",
        "}\n",
        "\n",
        "# Substituindo os valores da coluna 'country' pelos valores traduzidos\n",
        "df['pais'] = df['pais'].replace(translations)\n",
        "\n",
        "print(df)"
      ],
      "metadata": {
        "colab": {
          "base_uri": "https://localhost:8080/"
        },
        "id": "OE_NnzPu8nTf",
        "outputId": "fa05be07-7ddf-4663-d025-7a41e6c5f36e"
      },
      "execution_count": 36,
      "outputs": [
        {
          "output_type": "stream",
          "name": "stdout",
          "text": [
            "['Argentina' 'Bolivia (Plurinational State of)' 'Brazil' 'Chile'\n",
            " 'Colombia' 'France' 'Mexico' 'Peru' 'Uruguay' 'United States of America'\n",
            " 'South Africa']\n",
            "              pais                           fonte_pesquisa  genero    setor  \\\n",
            "0        Argentina  LFS - Permanent Household Survey, Urban   Homem  Público   \n",
            "1        Argentina  LFS - Permanent Household Survey, Urban   Homem  Privado   \n",
            "2        Argentina  LFS - Permanent Household Survey, Urban  Mulher  Público   \n",
            "3        Argentina  LFS - Permanent Household Survey, Urban  Mulher  Privado   \n",
            "4        Argentina  LFS - Permanent Household Survey, Urban   Homem  Público   \n",
            "..             ...                                      ...     ...      ...   \n",
            "591  África do Sul      LFS - Quarterly Labour Force Survey  Mulher  Privado   \n",
            "592  África do Sul      LFS - Quarterly Labour Force Survey   Homem  Público   \n",
            "593  África do Sul      LFS - Quarterly Labour Force Survey   Homem  Privado   \n",
            "594  África do Sul      LFS - Quarterly Labour Force Survey  Mulher  Público   \n",
            "595  África do Sul      LFS - Quarterly Labour Force Survey  Mulher  Privado   \n",
            "\n",
            "     ano_pesquisa  quantidade  \n",
            "0            2023    1079.515  \n",
            "1            2023    4265.218  \n",
            "2            2023    1332.894  \n",
            "3            2023    3192.356  \n",
            "4            2022    1049.845  \n",
            "..            ...         ...  \n",
            "591          2011    4106.949  \n",
            "592          2010    1070.556  \n",
            "593          2010    5527.566  \n",
            "594          2010    1121.780  \n",
            "595          2010    4010.284  \n",
            "\n",
            "[596 rows x 6 columns]\n"
          ]
        }
      ]
    },
    {
      "cell_type": "code",
      "execution_count": 37,
      "metadata": {
        "id": "EN2vC8OWwtXU"
      },
      "outputs": [],
      "source": [
        "schema=[\n",
        " bigquery.SchemaField('pais','STRING',description='Nome do país selecionado'),\n",
        " bigquery.SchemaField('fonte_pesquisa','STRING',description='De qual pesquisa nacional foi extraído aquele dado.'),\n",
        "bigquery.SchemaField('genero','STRING',description='Gênero da pessoa'),\n",
        "bigquery.SchemaField('quantidade','Float',description='total de pessoas que trabalham'),\n",
        "bigquery.SchemaField('setor','STRING',description='se o setor é público ou privado'),\n",
        " bigquery.SchemaField('ano_pesquisa','INTEGER',description='Ano de coleta da informação'),\n",
        "\n",
        " ]"
      ]
    },
    {
      "cell_type": "code",
      "source": [
        "client = bigquery.Client(project='repositoriodedadosgpsp')"
      ],
      "metadata": {
        "colab": {
          "base_uri": "https://localhost:8080/"
        },
        "id": "nQs8_U_MyNPz",
        "outputId": "363fabaf-3269-472c-ec5d-5a9fcd2efb29"
      },
      "execution_count": 38,
      "outputs": [
        {
          "output_type": "stream",
          "name": "stderr",
          "text": [
            "/usr/local/lib/python3.10/dist-packages/google/auth/_default.py:76: UserWarning: Your application has authenticated using end user credentials from Google Cloud SDK without a quota project. You might receive a \"quota exceeded\" or \"API not enabled\" error. See the following page for troubleshooting: https://cloud.google.com/docs/authentication/adc-troubleshooting/user-creds. \n",
            "  warnings.warn(_CLOUD_SDK_CREDENTIALS_WARNING)\n"
          ]
        }
      ]
    },
    {
      "cell_type": "code",
      "source": [
        "dataset_ref = client.dataset('perfil_remuneracao')"
      ],
      "metadata": {
        "id": "F1kLRX4fyN8O"
      },
      "execution_count": 39,
      "outputs": []
    },
    {
      "cell_type": "code",
      "source": [
        "table_ref = dataset_ref.table('ILOSTAT_paises_selecionados_genero')\n",
        "job_config = bigquery.LoadJobConfig(schema=schema)\n",
        "job = client.load_table_from_dataframe(df, table_ref, job_config=job_config)\n",
        "job.result()"
      ],
      "metadata": {
        "colab": {
          "base_uri": "https://localhost:8080/"
        },
        "id": "15ootZdzyN_A",
        "outputId": "e3a1b635-56f7-4651-daa0-b713e390cc1a"
      },
      "execution_count": 40,
      "outputs": [
        {
          "output_type": "execute_result",
          "data": {
            "text/plain": [
              "LoadJob<project=repositoriodedadosgpsp, location=US, id=5c2686df-c093-4e97-a411-9c014ad6a645>"
            ]
          },
          "metadata": {},
          "execution_count": 40
        }
      ]
    }
  ],
  "metadata": {
    "kernelspec": {
      "display_name": "Python 3",
      "language": "python",
      "name": "python3"
    },
    "language_info": {
      "codemirror_mode": {
        "name": "ipython",
        "version": 3
      },
      "file_extension": ".py",
      "mimetype": "text/x-python",
      "name": "python",
      "nbconvert_exporter": "python",
      "pygments_lexer": "ipython3",
      "version": "3.10.11"
    },
    "orig_nbformat": 4,
    "colab": {
      "provenance": []
    }
  },
  "nbformat": 4,
  "nbformat_minor": 0
}