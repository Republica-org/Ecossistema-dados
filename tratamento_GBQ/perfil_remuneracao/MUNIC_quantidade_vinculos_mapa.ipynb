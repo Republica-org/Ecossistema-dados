{
  "nbformat": 4,
  "nbformat_minor": 0,
  "metadata": {
    "colab": {
      "provenance": []
    },
    "kernelspec": {
      "name": "python3",
      "display_name": "Python 3"
    },
    "language_info": {
      "name": "python"
    }
  },
  "cells": [
    {
      "cell_type": "markdown",
      "source": [
        "# Dependências"
      ],
      "metadata": {
        "id": "x3zfrjd26Upr"
      }
    },
    {
      "cell_type": "code",
      "source": [
        "# Install required Google Cloud packages (commented out as these are typically one-time setup commands)\n",
        "# !pip install gcloud\n",
        "# !gcloud auth application-default login\n",
        "\n",
        "# Import necessary Python libraries\n",
        "import pandas as pd                # Data manipulation and analysis\n",
        "import numpy as np                 # Numerical computing\n",
        "import time                        # Time-related functions\n",
        "import os                          # Operating system interfaces\n",
        "import pandas_gbq                  # Pandas integration with BigQuery\n",
        "from google.cloud import bigquery  # BigQuery client library\n",
        "import glob                        # File path pattern matching\n",
        "import openpyxl                    # Excel file handling\n",
        "import csv                         # CSV file handling\n",
        "import re                          # Regular expressions\n",
        "\n",
        "# Note: The actual imports remain exactly as in the original code"
      ],
      "metadata": {
        "id": "3X7RwD7w6WzV"
      },
      "execution_count": null,
      "outputs": []
    },
    {
      "cell_type": "markdown",
      "source": [
        "# Tratamento"
      ],
      "metadata": {
        "id": "pJ8VUCvbqfWj"
      }
    },
    {
      "cell_type": "code",
      "source": [
        "# Set Google Cloud project ID\n",
        "project_id = \"repositoriodedadosgpsp\"\n",
        "\n",
        "# SQL query to fetch all data from the MUNIC_quantidade_vinculos_v1 table\n",
        "query = \"\"\"\n",
        "SELECT * FROM `repositoriodedadosgpsp.perfil_remuneracao.MUNIC_quantidade_vinculos_v1`\n",
        "\"\"\"\n",
        "\n",
        "# Execute query and load results into DataFrame\n",
        "df = pandas_gbq.read_gbq(query, project_id=project_id)\n",
        "\n",
        "# Create pivot table to calculate total employment by municipality\n",
        "y = df.pivot_table(\n",
        "    index={'id_municipio'},\n",
        "    values='quantidade_vinculos',\n",
        "    aggfunc=np.sum\n",
        ")\n",
        "\n",
        "# Convert pivot table to DataFrame and reset index\n",
        "y = pd.DataFrame(y)\n",
        "total = y.reset_index()\n",
        "\n",
        "# Rename column for clarity\n",
        "total = total.rename(columns={'quantidade_vinculos': 'total_municipio'})\n",
        "\n",
        "# Merge totals back with original data\n",
        "df1 = df.merge(\n",
        "    total,\n",
        "    right_on='id_municipio',\n",
        "    left_on='id_municipio'\n",
        ")\n",
        "\n",
        "# Example check for specific municipality (Vitória-ES)\n",
        "df1[df1['id_municipio'] == \"3200102\"]\n",
        "\n",
        "# Update main DataFrame with merged data\n",
        "df = df1"
      ],
      "metadata": {
        "id": "9GyK9P0n7ECB"
      },
      "execution_count": null,
      "outputs": []
    },
    {
      "cell_type": "code",
      "source": [
        "df1.info()"
      ],
      "metadata": {
        "colab": {
          "base_uri": "https://localhost:8080/"
        },
        "id": "4wEVs2CnnI2L",
        "outputId": "2fd8ec1d-9f35-428e-c5ec-c770c4b8ea2c"
      },
      "execution_count": null,
      "outputs": [
        {
          "output_type": "stream",
          "name": "stdout",
          "text": [
            "<class 'pandas.core.frame.DataFrame'>\n",
            "RangeIndex: 27850 entries, 0 to 27849\n",
            "Data columns (total 6 columns):\n",
            " #   Column               Non-Null Count  Dtype \n",
            "---  ------               --------------  ----- \n",
            " 0   ano                  27850 non-null  Int64 \n",
            " 1   tipo_vinculo         27850 non-null  object\n",
            " 2   sigla_uf             27850 non-null  object\n",
            " 3   id_municipio         27850 non-null  object\n",
            " 4   quantidade_vinculos  27850 non-null  Int64 \n",
            " 5   total_municipio      27850 non-null  Int64 \n",
            "dtypes: Int64(3), object(3)\n",
            "memory usage: 1.4+ MB\n"
          ]
        }
      ]
    },
    {
      "cell_type": "markdown",
      "source": [
        "# Upload"
      ],
      "metadata": {
        "id": "658ak1mx7SW_"
      }
    },
    {
      "cell_type": "code",
      "source": [
        "# Define the BigQuery table schema with Portuguese descriptions\n",
        "schema = [\n",
        "    bigquery.SchemaField('ano', 'INTEGER', description='Ano de referencia da informacao'),\n",
        "    bigquery.SchemaField('id_municipio', 'STRING', description='Identificador de município'),\n",
        "    bigquery.SchemaField('sigla_uf', 'STRING', description='Sigla da Unidade da Federação.'),\n",
        "    bigquery.SchemaField('tipo_vinculo', 'STRING', description='Tipo de vinculo.'),\n",
        "    bigquery.SchemaField('quantidade_vinculos', 'INTEGER', description='Quantidade de vinculos'),\n",
        "    bigquery.SchemaField('total_municipio', 'INTEGER', description='Total de vínculos daquele municipio')\n",
        "]\n",
        "\n",
        "# Initialize BigQuery client connection\n",
        "client = bigquery.Client(project='repositoriodedadosgpsp')\n",
        "\n",
        "# Create reference to target dataset\n",
        "dataset_ref = client.dataset('perfil_remuneracao')\n",
        "\n",
        "# Create reference to target table with standardized naming convention:\n",
        "# FONTE_algo_intuitivo_dado (MUNIC_quantidade_vinculos_mapa_v1)\n",
        "table_ref = dataset_ref.table('MUNIC_quantidade_vinculos_mapa_v1')\n",
        "\n",
        "# Configure the load job with our schema definition\n",
        "job_config = bigquery.LoadJobConfig(\n",
        "    schema=schema,\n",
        "    # Optional parameters (commented out):\n",
        "    # write_disposition=\"WRITE_TRUNCATE\",  # Overwrites table if exists\n",
        "    # create_disposition=\"CREATE_IF_NEEDED\"  # Default behavior\n",
        ")\n",
        "\n",
        "# Execute the load job to upload DataFrame to BigQuery\n",
        "job = client.load_table_from_dataframe(\n",
        "    dataframe=df,\n",
        "    destination=table_ref,\n",
        "    job_config=job_config\n",
        ")\n",
        "\n",
        "# Wait for the job to complete\n",
        "job.result()"
      ],
      "metadata": {
        "id": "udgBnXEy_Ijd"
      },
      "execution_count": null,
      "outputs": []
    }
  ]
}