{
 "cells": [
  {
   "cell_type": "code",
   "execution_count": 1,
   "metadata": {},
   "outputs": [],
   "source": [
    "import pandas as pd\n",
    "import time\n",
    "import numpy as np\n",
    "import os\n",
    "import pandas_gbq\n",
    "from google.cloud import bigquery\n",
    "import basedosdados as bd"
   ]
  },
  {
   "cell_type": "code",
   "execution_count": 6,
   "metadata": {},
   "outputs": [],
   "source": [
    "query = \"SELECT  ano,  id_municipio,   sigla_uf,  tipo_vinculo, sum(quantidade_vinculo) as quantidade_vinculos FROM  `basedosdados.br_ibge_munic.indicadores_quantidade_vinculo` where ano =2021 group by   1, 2, 3,4\""
   ]
  },
  {
   "cell_type": "code",
   "execution_count": 4,
   "metadata": {},
   "outputs": [],
   "source": [
    "client = bigquery.Client()"
   ]
  },
  {
   "cell_type": "code",
   "execution_count": 7,
   "metadata": {},
   "outputs": [
    {
     "name": "stderr",
     "output_type": "stream",
     "text": [
      "Downloading: 100%|██████████| 27850/27850 [00:01<00:00, 16251.66rows/s]\n"
     ]
    }
   ],
   "source": [
    "df = pandas_gbq.read_gbq(query, project_id='repositoriodedadosgpsp')"
   ]
  },
  {
   "cell_type": "code",
   "execution_count": 8,
   "metadata": {},
   "outputs": [
    {
     "data": {
      "text/html": [
       "<div>\n",
       "<style scoped>\n",
       "    .dataframe tbody tr th:only-of-type {\n",
       "        vertical-align: middle;\n",
       "    }\n",
       "\n",
       "    .dataframe tbody tr th {\n",
       "        vertical-align: top;\n",
       "    }\n",
       "\n",
       "    .dataframe thead th {\n",
       "        text-align: right;\n",
       "    }\n",
       "</style>\n",
       "<table border=\"1\" class=\"dataframe\">\n",
       "  <thead>\n",
       "    <tr style=\"text-align: right;\">\n",
       "      <th></th>\n",
       "      <th>ano</th>\n",
       "      <th>id_municipio</th>\n",
       "      <th>sigla_uf</th>\n",
       "      <th>tipo_vinculo</th>\n",
       "      <th>quantidade_vinculos</th>\n",
       "    </tr>\n",
       "  </thead>\n",
       "  <tbody>\n",
       "    <tr>\n",
       "      <th>0</th>\n",
       "      <td>2021</td>\n",
       "      <td>1100015</td>\n",
       "      <td>RO</td>\n",
       "      <td>Estatutários</td>\n",
       "      <td>1175</td>\n",
       "    </tr>\n",
       "    <tr>\n",
       "      <th>1</th>\n",
       "      <td>2021</td>\n",
       "      <td>1100023</td>\n",
       "      <td>RO</td>\n",
       "      <td>Estatutários</td>\n",
       "      <td>2191</td>\n",
       "    </tr>\n",
       "    <tr>\n",
       "      <th>2</th>\n",
       "      <td>2021</td>\n",
       "      <td>1100031</td>\n",
       "      <td>RO</td>\n",
       "      <td>Estatutários</td>\n",
       "      <td>250</td>\n",
       "    </tr>\n",
       "    <tr>\n",
       "      <th>3</th>\n",
       "      <td>2021</td>\n",
       "      <td>1100049</td>\n",
       "      <td>RO</td>\n",
       "      <td>Estatutários</td>\n",
       "      <td>1848</td>\n",
       "    </tr>\n",
       "    <tr>\n",
       "      <th>4</th>\n",
       "      <td>2021</td>\n",
       "      <td>1100056</td>\n",
       "      <td>RO</td>\n",
       "      <td>Estatutários</td>\n",
       "      <td>513</td>\n",
       "    </tr>\n",
       "    <tr>\n",
       "      <th>...</th>\n",
       "      <td>...</td>\n",
       "      <td>...</td>\n",
       "      <td>...</td>\n",
       "      <td>...</td>\n",
       "      <td>...</td>\n",
       "    </tr>\n",
       "    <tr>\n",
       "      <th>27845</th>\n",
       "      <td>2021</td>\n",
       "      <td>5222005</td>\n",
       "      <td>GO</td>\n",
       "      <td>Sem vínculo permanente</td>\n",
       "      <td>45</td>\n",
       "    </tr>\n",
       "    <tr>\n",
       "      <th>27846</th>\n",
       "      <td>2021</td>\n",
       "      <td>5222054</td>\n",
       "      <td>GO</td>\n",
       "      <td>Sem vínculo permanente</td>\n",
       "      <td>60</td>\n",
       "    </tr>\n",
       "    <tr>\n",
       "      <th>27847</th>\n",
       "      <td>2021</td>\n",
       "      <td>5222203</td>\n",
       "      <td>GO</td>\n",
       "      <td>Sem vínculo permanente</td>\n",
       "      <td>5</td>\n",
       "    </tr>\n",
       "    <tr>\n",
       "      <th>27848</th>\n",
       "      <td>2021</td>\n",
       "      <td>5222302</td>\n",
       "      <td>GO</td>\n",
       "      <td>Sem vínculo permanente</td>\n",
       "      <td>15</td>\n",
       "    </tr>\n",
       "    <tr>\n",
       "      <th>27849</th>\n",
       "      <td>2021</td>\n",
       "      <td>5300108</td>\n",
       "      <td>DF</td>\n",
       "      <td>Sem vínculo permanente</td>\n",
       "      <td>13841</td>\n",
       "    </tr>\n",
       "  </tbody>\n",
       "</table>\n",
       "<p>27850 rows × 5 columns</p>\n",
       "</div>"
      ],
      "text/plain": [
       "        ano id_municipio sigla_uf            tipo_vinculo  quantidade_vinculos\n",
       "0      2021      1100015       RO            Estatutários                 1175\n",
       "1      2021      1100023       RO            Estatutários                 2191\n",
       "2      2021      1100031       RO            Estatutários                  250\n",
       "3      2021      1100049       RO            Estatutários                 1848\n",
       "4      2021      1100056       RO            Estatutários                  513\n",
       "...     ...          ...      ...                     ...                  ...\n",
       "27845  2021      5222005       GO  Sem vínculo permanente                   45\n",
       "27846  2021      5222054       GO  Sem vínculo permanente                   60\n",
       "27847  2021      5222203       GO  Sem vínculo permanente                    5\n",
       "27848  2021      5222302       GO  Sem vínculo permanente                   15\n",
       "27849  2021      5300108       DF  Sem vínculo permanente                13841\n",
       "\n",
       "[27850 rows x 5 columns]"
      ]
     },
     "execution_count": 8,
     "metadata": {},
     "output_type": "execute_result"
    }
   ],
   "source": [
    "df"
   ]
  },
  {
   "cell_type": "code",
   "execution_count": 9,
   "metadata": {},
   "outputs": [],
   "source": [
    "y=df.pivot_table(index={'id_municipio'},values='quantidade_vinculos', aggfunc=np.sum)"
   ]
  },
  {
   "cell_type": "code",
   "execution_count": 12,
   "metadata": {},
   "outputs": [],
   "source": [
    "y = pd.DataFrame(y)\n",
    "total = y.reset_index()\n"
   ]
  },
  {
   "cell_type": "code",
   "execution_count": 13,
   "metadata": {},
   "outputs": [],
   "source": [
    "total=total.rename(columns={'quantidade_vinculos':'total_municipio'})"
   ]
  },
  {
   "cell_type": "code",
   "execution_count": 14,
   "metadata": {},
   "outputs": [],
   "source": [
    "df1 = df.merge(total, right_on='id_municipio', left_on='id_municipio')"
   ]
  },
  {
   "cell_type": "code",
   "execution_count": 15,
   "metadata": {},
   "outputs": [],
   "source": [
    "## Subindo para GBQ\n",
    "\n",
    "dataset_ref = client.dataset('perfil_remuneracao') "
   ]
  },
  {
   "cell_type": "code",
   "execution_count": 16,
   "metadata": {},
   "outputs": [
    {
     "name": "stdout",
     "output_type": "stream",
     "text": [
      "<class 'pandas.core.frame.DataFrame'>\n",
      "Int64Index: 27850 entries, 0 to 27849\n",
      "Data columns (total 6 columns):\n",
      " #   Column               Non-Null Count  Dtype \n",
      "---  ------               --------------  ----- \n",
      " 0   ano                  27850 non-null  Int64 \n",
      " 1   id_municipio         27850 non-null  object\n",
      " 2   sigla_uf             27850 non-null  object\n",
      " 3   tipo_vinculo         27850 non-null  object\n",
      " 4   quantidade_vinculos  27819 non-null  Int64 \n",
      " 5   total_municipio      27850 non-null  Int64 \n",
      "dtypes: Int64(3), object(3)\n",
      "memory usage: 1.6+ MB\n"
     ]
    }
   ],
   "source": [
    "df1.info()"
   ]
  },
  {
   "cell_type": "code",
   "execution_count": 17,
   "metadata": {},
   "outputs": [],
   "source": [
    "schema=[bigquery.SchemaField('ano','INTEGER',description='Ano de referencia da informacao'),\n",
    " bigquery.SchemaField('id_municipio','STRING',description='Identificador de município'),\n",
    "  bigquery.SchemaField('sigla_uf','STRING',description='Sigla da Unidade da Federação.'),\n",
    "bigquery.SchemaField('tipo_vinculo','STRING',description='Tipo de vinculo.'),\n",
    " bigquery.SchemaField('quantidade_vinculos','INTEGER',description='Quantidade de vinculos'),\n",
    " bigquery.SchemaField('total_municipio','INTEGER',description='Total de vínculos daquele municipio')\n",
    " ]"
   ]
  },
  {
   "cell_type": "code",
   "execution_count": 18,
   "metadata": {},
   "outputs": [
    {
     "data": {
      "text/plain": [
       "LoadJob<project=repositoriodedadosgpsp, location=US, id=be591a1c-a44e-485b-ac5b-2c4798a564d9>"
      ]
     },
     "execution_count": 18,
     "metadata": {},
     "output_type": "execute_result"
    }
   ],
   "source": [
    "table_ref = dataset_ref.table('MUNIC_quantidade_vinculos_mapa') # nome da tabela no padrão FONTE_algo_intuitivo_dado\n",
    "job_config = bigquery.LoadJobConfig(schema=schema)\n",
    "job = client.load_table_from_dataframe(df1, table_ref, job_config=job_config)\n",
    "job.result() "
   ]
  }
 ],
 "metadata": {
  "kernelspec": {
   "display_name": "Python 3",
   "language": "python",
   "name": "python3"
  },
  "language_info": {
   "codemirror_mode": {
    "name": "ipython",
    "version": 3
   },
   "file_extension": ".py",
   "mimetype": "text/x-python",
   "name": "python",
   "nbconvert_exporter": "python",
   "pygments_lexer": "ipython3",
   "version": "3.10.11"
  },
  "orig_nbformat": 4
 },
 "nbformat": 4,
 "nbformat_minor": 2
}
