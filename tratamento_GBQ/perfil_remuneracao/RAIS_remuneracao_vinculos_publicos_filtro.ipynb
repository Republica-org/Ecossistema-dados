{
  "nbformat": 4,
  "nbformat_minor": 0,
  "metadata": {
    "colab": {
      "provenance": []
    },
    "kernelspec": {
      "name": "python3",
      "display_name": "Python 3"
    },
    "language_info": {
      "name": "python"
    }
  },
  "cells": [
    {
      "cell_type": "markdown",
      "source": [
        "# Dependências"
      ],
      "metadata": {
        "id": "s1rvCQdCub1N"
      }
    },
    {
      "cell_type": "code",
      "execution_count": null,
      "metadata": {
        "id": "J5KgfnFK8row"
      },
      "outputs": [],
      "source": [
        "##importando pacotes\n",
        "import pandas as pd\n",
        "import numpy as np\n",
        "import time\n",
        "import os\n",
        "import pandas_gbq as pandas_gbq\n",
        "from google.cloud import bigquery\n",
        "import glob\n",
        "import openpyxl\n",
        "import csv\n",
        "import re"
      ]
    },
    {
      "cell_type": "markdown",
      "source": [
        "# Tratamento"
      ],
      "metadata": {
        "id": "QtX3F74bufVG"
      }
    },
    {
      "cell_type": "code",
      "source": [
        "# Import the pandas library for data manipulation.\n",
        "import pandas as pd\n",
        "\n",
        "# Read data from a comma-separated CSV file into a pandas DataFrame.\n",
        "df = pd.read_csv('dados_check_diretor_2022_rais.csv', sep=',')\n",
        "\n",
        "# Calculate and print the initial mean of the 'valor_remuneracao_media' column.\n",
        "print(df['valor_remuneracao_media'].mean())\n",
        "\n",
        "# Count and print the number of rows where the 'valor_remuneracao_media' is exactly zero.\n",
        "print((df['valor_remuneracao_media'] == 0).sum())\n",
        "\n",
        "# 1. Define the condition: remuneration value greater than 100,000 (Original comment in Portuguese)\n",
        "# Create a boolean Series that is True for rows where the remuneration is greater than 100,000.\n",
        "condicao = df['valor_remuneracao_media'] > 100000\n",
        "\n",
        "# 2. Use .loc to select the rows that meet the condition and the specific column.\n",
        "# Then, assign the new value (the original value divided by 10). (Original comment in Portuguese)\n",
        "# For the selected rows, update the 'valor_remuneracao_media' by dividing the original value by 10.\n",
        "df.loc[condicao, 'valor_remuneracao_media'] = df.loc[condicao, 'valor_remuneracao_media'] / 10\n",
        "\n",
        "# 3. (Optional) Verify the result (Original comment in Portuguese)\n",
        "# Print a confirmation message.\n",
        "print(\"Alteração concluída. Verificando os maiores valores agora:\")\n",
        "# Sort the DataFrame by the updated column in descending order and display the top results to verify the change.\n",
        "print(df.sort_values(by='valor_remuneracao_media', ascending=False).head())\n",
        "\n",
        "# Calculate and print the new mean of the column"
      ],
      "metadata": {
        "id": "ckqK0G0Nu41U"
      },
      "execution_count": null,
      "outputs": []
    }
  ]
}