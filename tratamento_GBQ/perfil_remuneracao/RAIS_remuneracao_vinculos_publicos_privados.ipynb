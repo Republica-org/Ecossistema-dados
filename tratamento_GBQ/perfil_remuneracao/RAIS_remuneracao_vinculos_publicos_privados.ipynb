{
  "nbformat": 4,
  "nbformat_minor": 0,
  "metadata": {
    "colab": {
      "provenance": []
    },
    "kernelspec": {
      "name": "python3",
      "display_name": "Python 3"
    },
    "language_info": {
      "name": "python"
    }
  },
  "cells": [
    {
      "cell_type": "markdown",
      "source": [
        "# Dependências"
      ],
      "metadata": {
        "id": "nDpTEu8dsxmm"
      }
    },
    {
      "cell_type": "code",
      "source": [
        "# Install required Google Cloud packages (commented out as these are typically one-time setup commands)\n",
        "!pip install gcloud\n",
        "!gcloud auth application-default login\n",
        "\n",
        "# Import necessary Python libraries\n",
        "import pandas as pd                # Data manipulation and analysis\n",
        "import numpy as np                 # Numerical computing\n",
        "import time                        # Time-related functions\n",
        "import os                          # Operating system interfaces\n",
        "import pandas_gbq                  # Pandas integration with BigQuery\n",
        "from google.cloud import bigquery  # BigQuery client library\n",
        "import glob                        # File path pattern matching\n",
        "import openpyxl                    # Excel file handling\n",
        "import csv                         # CSV file handling\n",
        "import re                          # Regular expressions\n",
        "\n",
        "# Note: The actual imports remain exactly as in the original code"
      ],
      "metadata": {
        "id": "PPjQ9o2Ws4Ir",
        "colab": {
          "base_uri": "https://localhost:8080/"
        },
        "outputId": "67c2ded0-01dc-4c75-ebbd-b7bb943d4bce"
      },
      "execution_count": null,
      "outputs": [
        {
          "output_type": "stream",
          "name": "stdout",
          "text": [
            "Collecting gcloud\n",
            "  Downloading gcloud-0.18.3.tar.gz (454 kB)\n",
            "\u001b[?25l     \u001b[90m━━━━━━━━━━━━━━━━━━━━━━━━━━━━━━━━━━━━━━━━\u001b[0m \u001b[32m0.0/454.4 kB\u001b[0m \u001b[31m?\u001b[0m eta \u001b[36m-:--:--\u001b[0m\r\u001b[2K     \u001b[91m━━━━━━━━━━━━━━━━━━━━\u001b[0m\u001b[90m╺\u001b[0m\u001b[90m━━━━━━━━━━━━━━━━━━\u001b[0m \u001b[32m235.5/454.4 kB\u001b[0m \u001b[31m7.4 MB/s\u001b[0m eta \u001b[36m0:00:01\u001b[0m\r\u001b[2K     \u001b[90m━━━━━━━━━━━━━━━━━━━━━━━━━━━━━━━━━━━━━━━\u001b[0m \u001b[32m454.4/454.4 kB\u001b[0m \u001b[31m7.2 MB/s\u001b[0m eta \u001b[36m0:00:00\u001b[0m\n",
            "\u001b[?25h  Preparing metadata (setup.py) ... \u001b[?25l\u001b[?25hdone\n",
            "Requirement already satisfied: httplib2>=0.9.1 in /usr/local/lib/python3.12/dist-packages (from gcloud) (0.30.0)\n",
            "Requirement already satisfied: googleapis-common-protos in /usr/local/lib/python3.12/dist-packages (from gcloud) (1.70.0)\n",
            "Requirement already satisfied: oauth2client>=2.0.1 in /usr/local/lib/python3.12/dist-packages (from gcloud) (4.1.3)\n",
            "Requirement already satisfied: protobuf!=3.0.0.b2.post1,>=3.0.0b2 in /usr/local/lib/python3.12/dist-packages (from gcloud) (5.29.5)\n",
            "Requirement already satisfied: six in /usr/local/lib/python3.12/dist-packages (from gcloud) (1.17.0)\n",
            "Requirement already satisfied: pyparsing<4,>=3.0.4 in /usr/local/lib/python3.12/dist-packages (from httplib2>=0.9.1->gcloud) (3.2.3)\n",
            "Requirement already satisfied: pyasn1>=0.1.7 in /usr/local/lib/python3.12/dist-packages (from oauth2client>=2.0.1->gcloud) (0.6.1)\n",
            "Requirement already satisfied: pyasn1-modules>=0.0.5 in /usr/local/lib/python3.12/dist-packages (from oauth2client>=2.0.1->gcloud) (0.4.2)\n",
            "Requirement already satisfied: rsa>=3.1.4 in /usr/local/lib/python3.12/dist-packages (from oauth2client>=2.0.1->gcloud) (4.9.1)\n",
            "Building wheels for collected packages: gcloud\n",
            "  Building wheel for gcloud (setup.py) ... \u001b[?25l\u001b[?25hdone\n",
            "  Created wheel for gcloud: filename=gcloud-0.18.3-py3-none-any.whl size=602927 sha256=9dac69f2e46c771817bc1b3782ebdde981fc6aaa52a6edb12546dd2a6989cbc2\n",
            "  Stored in directory: /root/.cache/pip/wheels/2a/62/75/3d74209bfebb8805823ae74afa28653aa1ea76d8b5a9d741ff\n",
            "Successfully built gcloud\n",
            "Installing collected packages: gcloud\n",
            "Successfully installed gcloud-0.18.3\n",
            "Go to the following link in your browser, and complete the sign-in prompts:\n",
            "\n",
            "    https://accounts.google.com/o/oauth2/auth?response_type=code&client_id=764086051850-6qr4p6gpi6hn506pt8ejuq83di341hur.apps.googleusercontent.com&redirect_uri=https%3A%2F%2Fsdk.cloud.google.com%2Fapplicationdefaultauthcode.html&scope=openid+https%3A%2F%2Fwww.googleapis.com%2Fauth%2Fuserinfo.email+https%3A%2F%2Fwww.googleapis.com%2Fauth%2Fcloud-platform+https%3A%2F%2Fwww.googleapis.com%2Fauth%2Fsqlservice.login&state=tEgPvRm1RSqA6Xrdc19sPytgm7Ftty&prompt=consent&token_usage=remote&access_type=offline&code_challenge=abB44fpao7F3pwXvwa6c3rUQzjvPlZsBxaXVPxxK35U&code_challenge_method=S256\n",
            "\n",
            "Once finished, enter the verification code provided in your browser: 4/0AVMBsJhUYtotc4JJchdFk8Ng5rtfLvUVJ2j4M3LvUEALsIXU0TBjeZNxLuDTxdnX_lHpdQ\n",
            "\n",
            "Credentials saved to file: [/content/.config/application_default_credentials.json]\n",
            "\n",
            "These credentials will be used by any library that requests Application Default Credentials (ADC).\n",
            "\u001b[1;33mWARNING:\u001b[0m \n",
            "Cannot find a quota project to add to ADC. You might receive a \"quota exceeded\" or \"API not enabled\" error. Run $ gcloud auth application-default set-quota-project to add a quota project.\n"
          ]
        }
      ]
    },
    {
      "cell_type": "markdown",
      "source": [
        "# Tratamento"
      ],
      "metadata": {
        "id": "pi6vv8Mes6ry"
      }
    },
    {
      "cell_type": "code",
      "source": [
        "project_id = \"repositoriodedadosgpsp\"\n",
        "\n",
        "query = \"\"\"\n",
        "SELECT ano, 'publico' as flag_publico_privado,variavel,categoria, media_remuneracao FROM `repositoriodedadosgpsp.Datalake.RAIS_remuneracao_vinculos_publicos_2023` union all SELECT ano, flag_publico_privado,variavel, categoria,media_remuneracao FROM `repositoriodedadosgpsp.Datalake.RAIS_remuneracao_flag_privados_2023`\n",
        "\"\"\"\n",
        "\n",
        "df = pandas_gbq.read_gbq(query, project_id=project_id)\n",
        "\n",
        "# Mostra as primeiras linhas\n",
        "df.info()\n",
        "\n",
        "df=df[df['variavel']!='tipo_vinculo']\n",
        "\n",
        "# 1. Carregar os dados originais\n",
        "df_ipca = pd.read_csv('it-ipca-formatado.csv')\n",
        "\n",
        "# 2. Criar listas com anos e valores\n",
        "anos = df_ipca.columns.str.extract('(\\d{4})')[0].tolist()\n",
        "valores = df_ipca.iloc[0].tolist()\n",
        "\n",
        "# 3. Criar novo DataFrame\n",
        "df_ipca_transformado = pd.DataFrame({\n",
        "    'Ano': anos,\n",
        "    'IPCA_acumulado': valores\n",
        "})\n",
        "\n",
        "# 4. Limpeza dos dados\n",
        "def converter_valor(valor):\n",
        "    if isinstance(valor, str):\n",
        "        if valor == '...':\n",
        "            return None\n",
        "        return float(valor.replace(',', '.'))\n",
        "    return valor\n",
        "\n",
        "df_ipca_transformado['IPCA_acumulado'] = df_ipca_transformado['IPCA_acumulado'].apply(converter_valor)\n",
        "\n",
        "# 5. Remover linhas com valores nulos (opcional)\n",
        "df_ipca_transformado = df_ipca_transformado.dropna()\n",
        "\n",
        "# 6. Converter ano para inteiro\n",
        "df_ipca_transformado['Ano'] = df_ipca_transformado['Ano'].astype(int)\n",
        "\n",
        "# 7. Visualizar o resultado\n",
        "print(df_ipca_transformado)\n",
        "\n",
        "# 8. Salvar em novo arquivo CSV\n",
        "df_ipca_transformado.to_csv('ipca_simplificado.csv', index=False)\n",
        "\n",
        "df_ipca_transformado = df_ipca_transformado.rename(columns={'Ano': 'ano'})\n",
        "df_ipca_transformado['ano'] = df_ipca_transformado['ano'].astype(int)\n",
        "df['ano'] = df['ano'].astype(int)\n",
        "\n",
        "df_completo = pd.merge(\n",
        "    df,\n",
        "    df_ipca_transformado,\n",
        "    on='ano',\n",
        "    how='left'\n",
        ")\n",
        "\n",
        "df_completo['fator_correcao'] = (7100.5 / df_completo['IPCA_acumulado'])\n",
        "\n",
        "df_completo['media_remuneracao_ajustada']= df_completo['media_remuneracao'] * (df_completo['fator_correcao'])\n",
        "\n",
        "df_completo['flag_publico_privado']=np.where(df_completo['flag_publico_privado']==\"privado\",\"Privado\",df_completo['flag_publico_privado'])\n",
        "df_completo['flag_publico_privado']=np.where(df_completo['flag_publico_privado']==\"publico\",\"Público\",df_completo['flag_publico_privado'])\n",
        "df_completo.head(2)\n",
        "\n",
        "df_completo = df_completo[['ano','flag_publico_privado', 'variavel', 'categoria', 'media_remuneracao',\n",
        "       'fator_correcao', 'media_remuneracao_ajustada']]\n",
        "\n",
        "\n"
      ],
      "metadata": {
        "id": "NWMrm76JGDSE"
      },
      "execution_count": null,
      "outputs": []
    },
    {
      "cell_type": "code",
      "source": [
        "df_completo.info()"
      ],
      "metadata": {
        "colab": {
          "base_uri": "https://localhost:8080/"
        },
        "id": "GizeqaD-0NeD",
        "outputId": "91ff62fe-de98-49b1-d8f0-896972768d58"
      },
      "execution_count": null,
      "outputs": [
        {
          "output_type": "stream",
          "name": "stdout",
          "text": [
            "<class 'pandas.core.frame.DataFrame'>\n",
            "RangeIndex: 24 entries, 0 to 23\n",
            "Data columns (total 7 columns):\n",
            " #   Column                      Non-Null Count  Dtype  \n",
            "---  ------                      --------------  -----  \n",
            " 0   ano                         24 non-null     int64  \n",
            " 1   flag_publico_privado        24 non-null     object \n",
            " 2   variavel                    24 non-null     object \n",
            " 3   categoria                   24 non-null     object \n",
            " 4   media_remuneracao           24 non-null     float64\n",
            " 5   fator_correcao              24 non-null     float64\n",
            " 6   media_remuneracao_ajustada  24 non-null     float64\n",
            "dtypes: float64(3), int64(1), object(3)\n",
            "memory usage: 1.4+ KB\n"
          ]
        }
      ]
    },
    {
      "cell_type": "markdown",
      "source": [
        "# Upload"
      ],
      "metadata": {
        "id": "a1XtDxcD1BwZ"
      }
    },
    {
      "cell_type": "code",
      "source": [
        "schema=[bigquery.SchemaField('ano','INTEGER',description='Ano de referência'),\n",
        "bigquery.SchemaField('flag_publico_privado','STRING',description='Se se refere ao setor publico ou privado'),\n",
        " bigquery.SchemaField('variavel','STRING',description='De qual variável aquela remuneração se refere'),\n",
        " bigquery.SchemaField('categoria','STRING',description='Categoria dentro daquela variável'),\n",
        " bigquery.SchemaField('media_remuneracao','FLOAT',description='Valor nominal da média de remuneração daquele ano'),\n",
        "bigquery.SchemaField('fator_correcao','FLOAT',description='índice para correção monetária baseando-se no IPCA para dezembro de 2022'),\n",
        "bigquery.SchemaField('media_remuneracao_ajustada','FLOAT',description='Valor nominal da média de remuneração daquele ano ajustado para dezembro de 2022')\n",
        " ]\n",
        "\n",
        " ## Subindo para datalake\n",
        "client = bigquery.Client(project='repositoriodedadosgpsp')\n",
        "dataset_ref = client.dataset('perfil_remuneracao')\n",
        "\n",
        "table_ref = dataset_ref.table('RAIS_remuneracao_vinculos_publicos_privados_2023') # nome da tabela no padrão FONTE_algo_intuitivo_dado\n",
        "job_config = bigquery.LoadJobConfig(schema=schema)\n",
        "job = client.load_table_from_dataframe(df_completo, table_ref, job_config=job_config)\n",
        "job.result()"
      ],
      "metadata": {
        "id": "tPTEj66XGngH"
      },
      "execution_count": null,
      "outputs": []
    }
  ]
}