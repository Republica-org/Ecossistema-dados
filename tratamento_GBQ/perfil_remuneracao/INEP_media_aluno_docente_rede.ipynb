{
 "cells": [
  {
   "cell_type": "code",
   "execution_count": 2,
   "metadata": {},
   "outputs": [],
   "source": [
    "import pandas as pd\n",
    "import time\n",
    "import numpy as np\n",
    "import os\n",
    "import pandas_gbq\n",
    "from google.cloud import bigquery\n",
    "import basedosdados as bd"
   ]
  },
  {
   "cell_type": "code",
   "execution_count": 11,
   "metadata": {},
   "outputs": [],
   "source": [
    "query = 'SELECT rede,sigla_uf,  id_municipio, sum(alunos_soma) as alunos_soma, sum(professores_soma) as professores_soma FROM `repositoriodedadosgpsp.Datalake.INEP_media_aluno_docente` group by rede,sigla_uf,  id_municipio'"
   ]
  },
  {
   "cell_type": "code",
   "execution_count": 4,
   "metadata": {},
   "outputs": [],
   "source": [
    "client = bigquery.Client()"
   ]
  },
  {
   "cell_type": "code",
   "execution_count": 12,
   "metadata": {},
   "outputs": [
    {
     "name": "stderr",
     "output_type": "stream",
     "text": [
      "Downloading: 100%|██████████| 14987/14987 [00:01<00:00, 10772.87rows/s]\n"
     ]
    }
   ],
   "source": [
    "df = pandas_gbq.read_gbq(query, project_id='repositoriodedadosgpsp')"
   ]
  },
  {
   "cell_type": "code",
   "execution_count": 13,
   "metadata": {},
   "outputs": [
    {
     "data": {
      "text/html": [
       "<div>\n",
       "<style scoped>\n",
       "    .dataframe tbody tr th:only-of-type {\n",
       "        vertical-align: middle;\n",
       "    }\n",
       "\n",
       "    .dataframe tbody tr th {\n",
       "        vertical-align: top;\n",
       "    }\n",
       "\n",
       "    .dataframe thead th {\n",
       "        text-align: right;\n",
       "    }\n",
       "</style>\n",
       "<table border=\"1\" class=\"dataframe\">\n",
       "  <thead>\n",
       "    <tr style=\"text-align: right;\">\n",
       "      <th></th>\n",
       "      <th>rede</th>\n",
       "      <th>sigla_uf</th>\n",
       "      <th>id_municipio</th>\n",
       "      <th>alunos_soma</th>\n",
       "      <th>professores_soma</th>\n",
       "    </tr>\n",
       "  </thead>\n",
       "  <tbody>\n",
       "    <tr>\n",
       "      <th>0</th>\n",
       "      <td>federal</td>\n",
       "      <td>AP</td>\n",
       "      <td>1600303</td>\n",
       "      <td>55711</td>\n",
       "      <td>2226</td>\n",
       "    </tr>\n",
       "    <tr>\n",
       "      <th>1</th>\n",
       "      <td>federal</td>\n",
       "      <td>DF</td>\n",
       "      <td>5300108</td>\n",
       "      <td>353549</td>\n",
       "      <td>17334</td>\n",
       "    </tr>\n",
       "    <tr>\n",
       "      <th>2</th>\n",
       "      <td>federal</td>\n",
       "      <td>RR</td>\n",
       "      <td>1400209</td>\n",
       "      <td>28864</td>\n",
       "      <td>1589</td>\n",
       "    </tr>\n",
       "    <tr>\n",
       "      <th>3</th>\n",
       "      <td>federal</td>\n",
       "      <td>AP</td>\n",
       "      <td>1600535</td>\n",
       "      <td>10444</td>\n",
       "      <td>618</td>\n",
       "    </tr>\n",
       "    <tr>\n",
       "      <th>4</th>\n",
       "      <td>federal</td>\n",
       "      <td>AC</td>\n",
       "      <td>1200401</td>\n",
       "      <td>56993</td>\n",
       "      <td>2378</td>\n",
       "    </tr>\n",
       "    <tr>\n",
       "      <th>...</th>\n",
       "      <td>...</td>\n",
       "      <td>...</td>\n",
       "      <td>...</td>\n",
       "      <td>...</td>\n",
       "      <td>...</td>\n",
       "    </tr>\n",
       "    <tr>\n",
       "      <th>14982</th>\n",
       "      <td>municipal</td>\n",
       "      <td>SP</td>\n",
       "      <td>3541109</td>\n",
       "      <td>37</td>\n",
       "      <td>3</td>\n",
       "    </tr>\n",
       "    <tr>\n",
       "      <th>14983</th>\n",
       "      <td>municipal</td>\n",
       "      <td>SP</td>\n",
       "      <td>3513850</td>\n",
       "      <td>231</td>\n",
       "      <td>14</td>\n",
       "    </tr>\n",
       "    <tr>\n",
       "      <th>14984</th>\n",
       "      <td>municipal</td>\n",
       "      <td>GO</td>\n",
       "      <td>5211602</td>\n",
       "      <td>59</td>\n",
       "      <td>6</td>\n",
       "    </tr>\n",
       "    <tr>\n",
       "      <th>14985</th>\n",
       "      <td>municipal</td>\n",
       "      <td>SC</td>\n",
       "      <td>4215901</td>\n",
       "      <td>52</td>\n",
       "      <td>2</td>\n",
       "    </tr>\n",
       "    <tr>\n",
       "      <th>14986</th>\n",
       "      <td>municipal</td>\n",
       "      <td>GO</td>\n",
       "      <td>5214804</td>\n",
       "      <td>58</td>\n",
       "      <td>4</td>\n",
       "    </tr>\n",
       "  </tbody>\n",
       "</table>\n",
       "<p>14987 rows × 5 columns</p>\n",
       "</div>"
      ],
      "text/plain": [
       "            rede sigla_uf id_municipio  alunos_soma  professores_soma\n",
       "0        federal       AP      1600303        55711              2226\n",
       "1        federal       DF      5300108       353549             17334\n",
       "2        federal       RR      1400209        28864              1589\n",
       "3        federal       AP      1600535        10444               618\n",
       "4        federal       AC      1200401        56993              2378\n",
       "...          ...      ...          ...          ...               ...\n",
       "14982  municipal       SP      3541109           37                 3\n",
       "14983  municipal       SP      3513850          231                14\n",
       "14984  municipal       GO      5211602           59                 6\n",
       "14985  municipal       SC      4215901           52                 2\n",
       "14986  municipal       GO      5214804           58                 4\n",
       "\n",
       "[14987 rows x 5 columns]"
      ]
     },
     "execution_count": 13,
     "metadata": {},
     "output_type": "execute_result"
    }
   ],
   "source": [
    "df"
   ]
  },
  {
   "cell_type": "code",
   "execution_count": 10,
   "metadata": {},
   "outputs": [
    {
     "data": {
      "text/plain": [
       "83163369"
      ]
     },
     "execution_count": 10,
     "metadata": {},
     "output_type": "execute_result"
    }
   ],
   "source": [
    "sum(df['professores_soma'])"
   ]
  },
  {
   "cell_type": "code",
   "execution_count": 7,
   "metadata": {},
   "outputs": [
    {
     "data": {
      "text/plain": [
       "83849604"
      ]
     },
     "execution_count": 7,
     "metadata": {},
     "output_type": "execute_result"
    }
   ],
   "source": [
    "## antigo\n",
    "\n",
    "sum(df['professores_soma'])"
   ]
  },
  {
   "cell_type": "code",
   "execution_count": 38,
   "metadata": {},
   "outputs": [],
   "source": [
    "## Subindo para o GBQ"
   ]
  },
  {
   "cell_type": "code",
   "execution_count": 14,
   "metadata": {},
   "outputs": [
    {
     "name": "stdout",
     "output_type": "stream",
     "text": [
      "<class 'pandas.core.frame.DataFrame'>\n",
      "RangeIndex: 14987 entries, 0 to 14986\n",
      "Data columns (total 5 columns):\n",
      " #   Column            Non-Null Count  Dtype \n",
      "---  ------            --------------  ----- \n",
      " 0   rede              14987 non-null  object\n",
      " 1   sigla_uf          14987 non-null  object\n",
      " 2   id_municipio      14987 non-null  object\n",
      " 3   alunos_soma       14987 non-null  Int64 \n",
      " 4   professores_soma  14987 non-null  Int64 \n",
      "dtypes: Int64(2), object(3)\n",
      "memory usage: 614.8+ KB\n"
     ]
    }
   ],
   "source": [
    "df.info()"
   ]
  },
  {
   "cell_type": "code",
   "execution_count": 15,
   "metadata": {},
   "outputs": [],
   "source": [
    "\n",
    "\n",
    "schema=[bigquery.SchemaField('rede','STRING',description='Rede'),\n",
    " bigquery.SchemaField('sigla_uf','STRING',description='Sigla da Unidade da Federação.'),\n",
    " bigquery.SchemaField('id_municipio','STRING',description='ID do município no IBGE'),\n",
    " bigquery.SchemaField('alunos_soma','INTEGER',description='Soma de aluno'),\n",
    " bigquery.SchemaField('professores_soma','INTEGER',description='Soma de aluno')\n",
    " ]"
   ]
  },
  {
   "cell_type": "code",
   "execution_count": 16,
   "metadata": {},
   "outputs": [
    {
     "data": {
      "text/plain": [
       "LoadJob<project=repositoriodedadosgpsp, location=US, id=fb32e835-1156-4d8a-b5e5-e00a193806ea>"
      ]
     },
     "execution_count": 16,
     "metadata": {},
     "output_type": "execute_result"
    }
   ],
   "source": [
    "dataset_ref = client.dataset('perfil_remuneracao')\n",
    "table_ref = dataset_ref.table('INEP_media_aluno_docente_rede')\n",
    "job_config = bigquery.LoadJobConfig(schema=schema)\n",
    "job = client.load_table_from_dataframe(df, table_ref, job_config=job_config)\n",
    "job.result() "
   ]
  }
 ],
 "metadata": {
  "kernelspec": {
   "display_name": "Python 3",
   "language": "python",
   "name": "python3"
  },
  "language_info": {
   "codemirror_mode": {
    "name": "ipython",
    "version": 3
   },
   "file_extension": ".py",
   "mimetype": "text/x-python",
   "name": "python",
   "nbconvert_exporter": "python",
   "pygments_lexer": "ipython3",
   "version": "3.10.11"
  },
  "orig_nbformat": 4
 },
 "nbformat": 4,
 "nbformat_minor": 2
}
