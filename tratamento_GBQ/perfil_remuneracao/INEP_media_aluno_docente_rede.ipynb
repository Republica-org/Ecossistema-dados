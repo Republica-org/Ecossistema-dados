{
 "cells": [
  {
   "cell_type": "code",
   "execution_count": 1,
   "metadata": {},
   "outputs": [],
   "source": [
    "import pandas as pd\n",
    "import time\n",
    "import numpy as np\n",
    "import os\n",
    "import pandas_gbq\n",
    "from google.cloud import bigquery\n",
    "import basedosdados as bd"
   ]
  },
  {
   "cell_type": "code",
   "execution_count": 2,
   "metadata": {},
   "outputs": [],
   "source": [
    "query = 'SELECT rede,sigla_uf,  id_municipio, sum(alunos_soma) as alunos_soma, sum(professores_soma) as professores_soma FROM `repositoriodedadosgpsp.Datalake.INEP_media_aluno_docente` where ano=2020 group by rede,sigla_uf,  id_municipio'"
   ]
  },
  {
   "cell_type": "code",
   "execution_count": 3,
   "metadata": {},
   "outputs": [],
   "source": [
    "client = bigquery.Client()"
   ]
  },
  {
   "cell_type": "code",
   "execution_count": 4,
   "metadata": {},
   "outputs": [
    {
     "name": "stderr",
     "output_type": "stream",
     "text": [
      "Downloading: 100%|██████████| 14578/14578 [00:01<00:00, 10780.49rows/s]\n"
     ]
    }
   ],
   "source": [
    "\n",
    "df = pandas_gbq.read_gbq(query, project_id='repositoriodedadosgpsp')"
   ]
  },
  {
   "cell_type": "code",
   "execution_count": 5,
   "metadata": {},
   "outputs": [
    {
     "data": {
      "text/html": [
       "<div>\n",
       "<style scoped>\n",
       "    .dataframe tbody tr th:only-of-type {\n",
       "        vertical-align: middle;\n",
       "    }\n",
       "\n",
       "    .dataframe tbody tr th {\n",
       "        vertical-align: top;\n",
       "    }\n",
       "\n",
       "    .dataframe thead th {\n",
       "        text-align: right;\n",
       "    }\n",
       "</style>\n",
       "<table border=\"1\" class=\"dataframe\">\n",
       "  <thead>\n",
       "    <tr style=\"text-align: right;\">\n",
       "      <th></th>\n",
       "      <th>rede</th>\n",
       "      <th>sigla_uf</th>\n",
       "      <th>id_municipio</th>\n",
       "      <th>alunos_soma</th>\n",
       "      <th>professores_soma</th>\n",
       "    </tr>\n",
       "  </thead>\n",
       "  <tbody>\n",
       "    <tr>\n",
       "      <th>0</th>\n",
       "      <td>federal</td>\n",
       "      <td>DF</td>\n",
       "      <td>5300108</td>\n",
       "      <td>48376</td>\n",
       "      <td>2300</td>\n",
       "    </tr>\n",
       "    <tr>\n",
       "      <th>1</th>\n",
       "      <td>federal</td>\n",
       "      <td>AC</td>\n",
       "      <td>1200609</td>\n",
       "      <td>3103</td>\n",
       "      <td>158</td>\n",
       "    </tr>\n",
       "    <tr>\n",
       "      <th>2</th>\n",
       "      <td>federal</td>\n",
       "      <td>RR</td>\n",
       "      <td>1400100</td>\n",
       "      <td>10554</td>\n",
       "      <td>533</td>\n",
       "    </tr>\n",
       "    <tr>\n",
       "      <th>3</th>\n",
       "      <td>federal</td>\n",
       "      <td>AC</td>\n",
       "      <td>1200708</td>\n",
       "      <td>3093</td>\n",
       "      <td>142</td>\n",
       "    </tr>\n",
       "    <tr>\n",
       "      <th>4</th>\n",
       "      <td>federal</td>\n",
       "      <td>RR</td>\n",
       "      <td>1400209</td>\n",
       "      <td>2999</td>\n",
       "      <td>172</td>\n",
       "    </tr>\n",
       "    <tr>\n",
       "      <th>...</th>\n",
       "      <td>...</td>\n",
       "      <td>...</td>\n",
       "      <td>...</td>\n",
       "      <td>...</td>\n",
       "      <td>...</td>\n",
       "    </tr>\n",
       "    <tr>\n",
       "      <th>14573</th>\n",
       "      <td>municipal</td>\n",
       "      <td>GO</td>\n",
       "      <td>5214804</td>\n",
       "      <td>58</td>\n",
       "      <td>4</td>\n",
       "    </tr>\n",
       "    <tr>\n",
       "      <th>14574</th>\n",
       "      <td>municipal</td>\n",
       "      <td>MG</td>\n",
       "      <td>3118700</td>\n",
       "      <td>15</td>\n",
       "      <td>2</td>\n",
       "    </tr>\n",
       "    <tr>\n",
       "      <th>14575</th>\n",
       "      <td>municipal</td>\n",
       "      <td>MG</td>\n",
       "      <td>3143153</td>\n",
       "      <td>179</td>\n",
       "      <td>10</td>\n",
       "    </tr>\n",
       "    <tr>\n",
       "      <th>14576</th>\n",
       "      <td>municipal</td>\n",
       "      <td>SP</td>\n",
       "      <td>3539905</td>\n",
       "      <td>172</td>\n",
       "      <td>12</td>\n",
       "    </tr>\n",
       "    <tr>\n",
       "      <th>14577</th>\n",
       "      <td>municipal</td>\n",
       "      <td>SP</td>\n",
       "      <td>3547205</td>\n",
       "      <td>13</td>\n",
       "      <td>1</td>\n",
       "    </tr>\n",
       "  </tbody>\n",
       "</table>\n",
       "<p>14578 rows × 5 columns</p>\n",
       "</div>"
      ],
      "text/plain": [
       "            rede sigla_uf id_municipio  alunos_soma  professores_soma\n",
       "0        federal       DF      5300108        48376              2300\n",
       "1        federal       AC      1200609         3103               158\n",
       "2        federal       RR      1400100        10554               533\n",
       "3        federal       AC      1200708         3093               142\n",
       "4        federal       RR      1400209         2999               172\n",
       "...          ...      ...          ...          ...               ...\n",
       "14573  municipal       GO      5214804           58                 4\n",
       "14574  municipal       MG      3118700           15                 2\n",
       "14575  municipal       MG      3143153          179                10\n",
       "14576  municipal       SP      3539905          172                12\n",
       "14577  municipal       SP      3547205           13                 1\n",
       "\n",
       "[14578 rows x 5 columns]"
      ]
     },
     "execution_count": 5,
     "metadata": {},
     "output_type": "execute_result"
    }
   ],
   "source": [
    "df"
   ]
  },
  {
   "cell_type": "code",
   "execution_count": 6,
   "metadata": {},
   "outputs": [
    {
     "data": {
      "text/plain": [
       "8746720"
      ]
     },
     "execution_count": 6,
     "metadata": {},
     "output_type": "execute_result"
    }
   ],
   "source": [
    "sum(df['professores_soma'])"
   ]
  },
  {
   "cell_type": "code",
   "execution_count": 7,
   "metadata": {},
   "outputs": [
    {
     "data": {
      "text/plain": [
       "8746720"
      ]
     },
     "execution_count": 7,
     "metadata": {},
     "output_type": "execute_result"
    }
   ],
   "source": [
    "## antigo\n",
    "\n",
    "sum(df['professores_soma'])"
   ]
  },
  {
   "cell_type": "code",
   "execution_count": 38,
   "metadata": {},
   "outputs": [],
   "source": [
    "## Subindo para o GBQ"
   ]
  },
  {
   "cell_type": "code",
   "execution_count": 14,
   "metadata": {},
   "outputs": [
    {
     "name": "stdout",
     "output_type": "stream",
     "text": [
      "<class 'pandas.core.frame.DataFrame'>\n",
      "RangeIndex: 14987 entries, 0 to 14986\n",
      "Data columns (total 5 columns):\n",
      " #   Column            Non-Null Count  Dtype \n",
      "---  ------            --------------  ----- \n",
      " 0   rede              14987 non-null  object\n",
      " 1   sigla_uf          14987 non-null  object\n",
      " 2   id_municipio      14987 non-null  object\n",
      " 3   alunos_soma       14987 non-null  Int64 \n",
      " 4   professores_soma  14987 non-null  Int64 \n",
      "dtypes: Int64(2), object(3)\n",
      "memory usage: 614.8+ KB\n"
     ]
    }
   ],
   "source": [
    "df.info()"
   ]
  },
  {
   "cell_type": "code",
   "execution_count": 15,
   "metadata": {},
   "outputs": [],
   "source": [
    "\n",
    "\n",
    "schema=[bigquery.SchemaField('rede','STRING',description='Rede'),\n",
    " bigquery.SchemaField('sigla_uf','STRING',description='Sigla da Unidade da Federação.'),\n",
    " bigquery.SchemaField('id_municipio','STRING',description='ID do município no IBGE'),\n",
    " bigquery.SchemaField('alunos_soma','INTEGER',description='Soma de aluno'),\n",
    " bigquery.SchemaField('professores_soma','INTEGER',description='Soma de aluno')\n",
    " ]"
   ]
  },
  {
   "cell_type": "code",
   "execution_count": 16,
   "metadata": {},
   "outputs": [
    {
     "data": {
      "text/plain": [
       "LoadJob<project=repositoriodedadosgpsp, location=US, id=fb32e835-1156-4d8a-b5e5-e00a193806ea>"
      ]
     },
     "execution_count": 16,
     "metadata": {},
     "output_type": "execute_result"
    }
   ],
   "source": [
    "dataset_ref = client.dataset('perfil_remuneracao')\n",
    "table_ref = dataset_ref.table('INEP_media_aluno_docente_rede')\n",
    "job_config = bigquery.LoadJobConfig(schema=schema)\n",
    "job = client.load_table_from_dataframe(df, table_ref, job_config=job_config)\n",
    "job.result() "
   ]
  }
 ],
 "metadata": {
  "kernelspec": {
   "display_name": "Python 3",
   "language": "python",
   "name": "python3"
  },
  "language_info": {
   "codemirror_mode": {
    "name": "ipython",
    "version": 3
   },
   "file_extension": ".py",
   "mimetype": "text/x-python",
   "name": "python",
   "nbconvert_exporter": "python",
   "pygments_lexer": "ipython3",
   "version": "3.10.11"
  },
  "orig_nbformat": 4
 },
 "nbformat": 4,
 "nbformat_minor": 2
}
