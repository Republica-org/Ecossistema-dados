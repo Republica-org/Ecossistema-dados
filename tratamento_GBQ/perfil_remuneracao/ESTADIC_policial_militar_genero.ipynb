{
  "nbformat": 4,
  "nbformat_minor": 0,
  "metadata": {
    "colab": {
      "provenance": []
    },
    "kernelspec": {
      "name": "python3",
      "display_name": "Python 3"
    },
    "language_info": {
      "name": "python"
    }
  },
  "cells": [
    {
      "cell_type": "markdown",
      "source": [
        "# Dependência"
      ],
      "metadata": {
        "id": "sNn7tU1fOPOe"
      }
    },
    {
      "cell_type": "code",
      "source": [
        "# Install required Google Cloud packages (commented out as these are typically one-time setup commands)\n",
        "# !pip install gcloud\n",
        "# !gcloud auth application-default login\n",
        "\n",
        "# Import necessary Python libraries\n",
        "import pandas as pd                # Data manipulation and analysis\n",
        "import numpy as np                 # Numerical computing\n",
        "import time                        # Time-related functions\n",
        "import os                          # Operating system interfaces\n",
        "import pandas_gbq                  # Pandas integration with BigQuery\n",
        "from google.cloud import bigquery  # BigQuery client library\n",
        "import glob                        # File path pattern matching\n",
        "import openpyxl                    # Excel file handling\n",
        "import csv                         # CSV file handling\n",
        "import re                          # Regular expressions\n",
        "\n",
        "# Note: The actual imports remain exactly as in the original code"
      ],
      "metadata": {
        "id": "jdw5bYR_OcET"
      },
      "execution_count": null,
      "outputs": []
    },
    {
      "cell_type": "markdown",
      "source": [
        "# Tratamento"
      ],
      "metadata": {
        "id": "jA2btydNOTJa"
      }
    },
    {
      "cell_type": "code",
      "source": [
        "# Load Public Safety data from Excel file\n",
        "df = pd.read_excel(\"Base_Estadic_2023(2).xlsx\", sheet_name='Segurança Pública')\n",
        "\n",
        "# Select and rename relevant columns for military police data\n",
        "df = df[['Sigla UF', 'PopUF', 'ESEG271', 'ESEG272']]\n",
        "df = df.rename(columns={\n",
        "    'ESEG271': 'policia_militar_efetivo_homens',\n",
        "    'ESEG272': 'policia_militar_efetivo_mulheres',\n",
        "    'PopUF': 'pop_projetada',\n",
        "    'Sigla UF': 'sigla_uf'\n",
        "})\n",
        "\n",
        "# Handle missing/refused data by replacing with 0\n",
        "df['policia_militar_efetivo_homens'] = df['policia_militar_efetivo_homens'].replace(['Recusa', 'Não informou'], 0)\n",
        "df['policia_militar_efetivo_mulheres'] = df['policia_militar_efetivo_mulheres'].replace(['Recusa', 'Não informou'], 0)\n",
        "\n",
        "# Convert to numeric (note: these need assignment to take effect)\n",
        "df['policia_militar_efetivo_homens'] = df['policia_militar_efetivo_homens'].astype(str).astype(int)\n",
        "df['policia_militar_efetivo_mulheres'] = df['policia_militar_efetivo_mulheres'].astype(str).astype(int)\n",
        "\n",
        "# Add year column\n",
        "df['ano'] = 2023\n",
        "\n",
        "# Create separate dataframes by gender\n",
        "df_mulheres = df.drop('policia_militar_efetivo_homens', axis=1)\n",
        "df_homens = df.drop('policia_militar_efetivo_mulheres', axis=1)\n",
        "\n",
        "# Standardize column names and add gender column\n",
        "df_homens = df_homens.rename(columns={'policia_militar_efetivo_homens': 'quantidade_pessoas'})\n",
        "df_homens['genero'] = 'Masculino'\n",
        "\n",
        "df_mulheres = df_mulheres.rename(columns={'policia_militar_efetivo_mulheres': 'quantidade_pessoas'})\n",
        "df_mulheres['genero'] = 'Feminino'\n",
        "\n",
        "# Combine male and female dataframes\n",
        "df = pd.concat([df_homens, df_mulheres])\n",
        "\n",
        "# Add theme identifier\n",
        "df['tema'] = 'seguranca_publica'"
      ],
      "metadata": {
        "id": "dklEfpqJPAgm"
      },
      "execution_count": null,
      "outputs": []
    },
    {
      "cell_type": "markdown",
      "source": [
        "# Upload"
      ],
      "metadata": {
        "id": "pFzORg9ROZl3"
      }
    },
    {
      "cell_type": "code",
      "source": [
        "# Define the BigQuery table schema with field descriptions (in Portuguese)\n",
        "schema = [\n",
        "    bigquery.SchemaField('ano', 'INTEGER', description='Ano de implementação da legislação.'),\n",
        "    bigquery.SchemaField('tema', 'STRING', description='Tema de origem daquele dado na ESTADIC'),\n",
        "    bigquery.SchemaField('sigla_uf', 'STRING', description='Sigla da Unidade da Federação.'),\n",
        "    bigquery.SchemaField('quantidade_pessoas', 'INTEGER',\n",
        "                       description='Quantitativo total de pessoas'),\n",
        "    bigquery.SchemaField('genero', 'STRING',\n",
        "                       description='Genero daquele quantitativo')\n",
        "]\n",
        "\n",
        "# Initialize BigQuery client connection\n",
        "client = bigquery.Client(project='repositoriodedadosgpsp')\n",
        "\n",
        "# Create reference to target dataset\n",
        "dataset_ref = client.dataset('perfil_remuneracao')\n",
        "\n",
        "# Create reference to target table with standardized naming convention:\n",
        "# Format: FONTE_algo_intuitivo_dado (ESTADIC_policial_militar_genero_v1)\n",
        "table_ref = dataset_ref.table('ESTADIC_policial_militar_genero_v1')\n",
        "\n",
        "# Configure the load job with our schema definition\n",
        "job_config = bigquery.LoadJobConfig(schema=schema)\n",
        "\n",
        "# Execute the load job to transfer DataFrame to BigQuery\n",
        "job = client.load_table_from_dataframe(\n",
        "    dataframe=df,\n",
        "    destination=table_ref,\n",
        "    job_config=job_config\n",
        ")\n",
        "\n",
        "# Wait for the job to complete\n",
        "job.result()"
      ],
      "metadata": {
        "id": "xGcvePReP1Dw"
      },
      "execution_count": null,
      "outputs": []
    }
  ]
}