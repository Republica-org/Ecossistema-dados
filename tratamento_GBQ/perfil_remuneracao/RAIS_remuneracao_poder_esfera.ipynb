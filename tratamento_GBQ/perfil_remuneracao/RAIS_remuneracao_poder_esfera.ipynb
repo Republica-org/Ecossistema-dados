{
 "cells": [
  {
   "cell_type": "code",
   "execution_count": 1,
   "metadata": {},
   "outputs": [],
   "source": [
    "import numpy as np\n",
    "import pandas as pd\n",
    "import numpy as np\n",
    "import os\n",
    "import time\n",
    "from google.cloud import bigquery\n"
   ]
  },
  {
   "cell_type": "code",
   "execution_count": 2,
   "metadata": {},
   "outputs": [],
   "source": [
    "os.chdir('G:\\\\Drives compartilhados\\\\República.org\\\\4. Equipes\\\\Dados e Comunicação\\\\DADOS\\\\415 - Repositório de Dados\\\\Repositório Local\\\\RAIS')\n"
   ]
  },
  {
   "cell_type": "code",
   "execution_count": 3,
   "metadata": {},
   "outputs": [
    {
     "data": {
      "text/html": [
       "<div>\n",
       "<style scoped>\n",
       "    .dataframe tbody tr th:only-of-type {\n",
       "        vertical-align: middle;\n",
       "    }\n",
       "\n",
       "    .dataframe tbody tr th {\n",
       "        vertical-align: top;\n",
       "    }\n",
       "\n",
       "    .dataframe thead th {\n",
       "        text-align: right;\n",
       "    }\n",
       "</style>\n",
       "<table border=\"1\" class=\"dataframe\">\n",
       "  <thead>\n",
       "    <tr style=\"text-align: right;\">\n",
       "      <th></th>\n",
       "      <th>Categoria</th>\n",
       "      <th>Grupo</th>\n",
       "      <th>mediana_2019</th>\n",
       "      <th>mediana_ajustada</th>\n",
       "    </tr>\n",
       "  </thead>\n",
       "  <tbody>\n",
       "    <tr>\n",
       "      <th>0</th>\n",
       "      <td>Público</td>\n",
       "      <td>Esfera</td>\n",
       "      <td>2794.40</td>\n",
       "      <td>3391.47</td>\n",
       "    </tr>\n",
       "    <tr>\n",
       "      <th>1</th>\n",
       "      <td>Estadual</td>\n",
       "      <td>Esfera</td>\n",
       "      <td>3862.26</td>\n",
       "      <td>4687.50</td>\n",
       "    </tr>\n",
       "    <tr>\n",
       "      <th>2</th>\n",
       "      <td>Federal</td>\n",
       "      <td>Esfera</td>\n",
       "      <td>8263.44</td>\n",
       "      <td>10029.07</td>\n",
       "    </tr>\n",
       "    <tr>\n",
       "      <th>3</th>\n",
       "      <td>Municipal</td>\n",
       "      <td>Esfera</td>\n",
       "      <td>2155.68</td>\n",
       "      <td>2616.28</td>\n",
       "    </tr>\n",
       "    <tr>\n",
       "      <th>4</th>\n",
       "      <td>Executivo Estadual</td>\n",
       "      <td>Esfera e poder</td>\n",
       "      <td>3612.76</td>\n",
       "      <td>4384.69</td>\n",
       "    </tr>\n",
       "    <tr>\n",
       "      <th>5</th>\n",
       "      <td>Judiciário Estadual</td>\n",
       "      <td>Esfera e poder</td>\n",
       "      <td>8373.22</td>\n",
       "      <td>10162.31</td>\n",
       "    </tr>\n",
       "    <tr>\n",
       "      <th>6</th>\n",
       "      <td>Legislativo Estadual</td>\n",
       "      <td>Esfera e poder</td>\n",
       "      <td>4990.00</td>\n",
       "      <td>6056.20</td>\n",
       "    </tr>\n",
       "    <tr>\n",
       "      <th>7</th>\n",
       "      <td>Executivo Federal</td>\n",
       "      <td>Esfera e poder</td>\n",
       "      <td>7235.50</td>\n",
       "      <td>8781.49</td>\n",
       "    </tr>\n",
       "    <tr>\n",
       "      <th>8</th>\n",
       "      <td>Judiciário Federal</td>\n",
       "      <td>Esfera e poder</td>\n",
       "      <td>14830.28</td>\n",
       "      <td>17999.04</td>\n",
       "    </tr>\n",
       "    <tr>\n",
       "      <th>9</th>\n",
       "      <td>Legislativo Federal</td>\n",
       "      <td>Esfera e poder</td>\n",
       "      <td>5728.52</td>\n",
       "      <td>6952.52</td>\n",
       "    </tr>\n",
       "    <tr>\n",
       "      <th>10</th>\n",
       "      <td>Executivo Municipal</td>\n",
       "      <td>Esfera e poder</td>\n",
       "      <td>2145.70</td>\n",
       "      <td>2604.17</td>\n",
       "    </tr>\n",
       "    <tr>\n",
       "      <th>11</th>\n",
       "      <td>Legislativo Municipal</td>\n",
       "      <td>Esfera e poder</td>\n",
       "      <td>2734.52</td>\n",
       "      <td>3318.80</td>\n",
       "    </tr>\n",
       "  </tbody>\n",
       "</table>\n",
       "</div>"
      ],
      "text/plain": [
       "                Categoria           Grupo  mediana_2019  mediana_ajustada \n",
       "0                 Público      Esfera           2794.40            3391.47\n",
       "1                Estadual      Esfera           3862.26            4687.50\n",
       "2                 Federal      Esfera           8263.44           10029.07\n",
       "3               Municipal      Esfera           2155.68            2616.28\n",
       "4      Executivo Estadual  Esfera e poder       3612.76            4384.69\n",
       "5     Judiciário Estadual  Esfera e poder       8373.22           10162.31\n",
       "6    Legislativo Estadual  Esfera e poder       4990.00            6056.20\n",
       "7       Executivo Federal  Esfera e poder       7235.50            8781.49\n",
       "8      Judiciário Federal  Esfera e poder      14830.28           17999.04\n",
       "9     Legislativo Federal  Esfera e poder       5728.52            6952.52\n",
       "10    Executivo Municipal  Esfera e poder       2145.70            2604.17\n",
       "11  Legislativo Municipal  Esfera e poder       2734.52            3318.80"
      ]
     },
     "execution_count": 3,
     "metadata": {},
     "output_type": "execute_result"
    }
   ],
   "source": [
    "df = pd.read_csv('RAIS_remuneracao_poder_efera.csv', sep=';', decimal=',', thousands='.')\n",
    "df"
   ]
  },
  {
   "attachments": {},
   "cell_type": "markdown",
   "metadata": {},
   "source": [
    "Subindo para o GBQ"
   ]
  },
  {
   "cell_type": "code",
   "execution_count": 4,
   "metadata": {},
   "outputs": [],
   "source": [
    "client = bigquery.Client()\n",
    "dataset_ref = client.dataset('perfil_remuneracao')"
   ]
  },
  {
   "cell_type": "code",
   "execution_count": 7,
   "metadata": {},
   "outputs": [],
   "source": [
    "df=df.rename(columns={'mediana_ajustada ':'mediana_ajustada'})"
   ]
  },
  {
   "cell_type": "code",
   "execution_count": 11,
   "metadata": {},
   "outputs": [],
   "source": [
    "df['teste']='A'"
   ]
  },
  {
   "cell_type": "code",
   "execution_count": 13,
   "metadata": {},
   "outputs": [],
   "source": [
    "schema = [bigquery.SchemaField('Categoria', 'STRING', description= 'Categoria que irá aprecer no options'),\n",
    "          bigquery.SchemaField('Grupo', 'STRING', description= 'Grupo para ser agrupado'),\n",
    "          bigquery.SchemaField('mediana_2019', 'FLOAT', description= 'mediana da remuneração de 2019'),\n",
    "          bigquery.SchemaField('teste', 'STRING', description= 'mediana da remuneração de 2019'),\n",
    "          bigquery.SchemaField('mediana_ajustada', 'FLOAT', description= 'mediana da remuneração ajustada')]"
   ]
  },
  {
   "cell_type": "code",
   "execution_count": 14,
   "metadata": {},
   "outputs": [
    {
     "data": {
      "text/plain": [
       "LoadJob<project=repositoriodedadosgpsp, location=US, id=ee9c7eef-e81b-4767-9765-09ffc4cbb665>"
      ]
     },
     "execution_count": 14,
     "metadata": {},
     "output_type": "execute_result"
    }
   ],
   "source": [
    "table_ref = dataset_ref.table('RAIS_remuneracao_poder_esfera')\n",
    "job_config = bigquery.LoadJobConfig(schema=schema)\n",
    "job = client.load_table_from_dataframe(df, table_ref, job_config=job_config)\n",
    "job.result() "
   ]
  }
 ],
 "metadata": {
  "kernelspec": {
   "display_name": "base",
   "language": "python",
   "name": "python3"
  },
  "language_info": {
   "codemirror_mode": {
    "name": "ipython",
    "version": 3
   },
   "file_extension": ".py",
   "mimetype": "text/x-python",
   "name": "python",
   "nbconvert_exporter": "python",
   "pygments_lexer": "ipython3",
   "version": "3.10.11"
  },
  "orig_nbformat": 4
 },
 "nbformat": 4,
 "nbformat_minor": 2
}
