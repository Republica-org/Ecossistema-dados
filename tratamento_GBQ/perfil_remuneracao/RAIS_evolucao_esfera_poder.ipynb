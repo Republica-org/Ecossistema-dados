{
 "cells": [
  {
   "cell_type": "code",
   "execution_count": 2,
   "metadata": {},
   "outputs": [],
   "source": [
    "import numpy as np\n",
    "import pandas as pd\n",
    "import numpy as np\n",
    "import os \n",
    "import time\n",
    "from google.cloud import bigquery\n",
    "import pandas_gbq"
   ]
  },
  {
   "cell_type": "code",
   "execution_count": 3,
   "metadata": {},
   "outputs": [],
   "source": [
    "client = bigquery.Client()"
   ]
  },
  {
   "cell_type": "code",
   "execution_count": 5,
   "metadata": {},
   "outputs": [],
   "source": [
    "query = '''SELECT \n",
    "  ano,\n",
    "  sigla_uf,\n",
    "  esfera,\n",
    "  poderes, \n",
    "  quantidade_vinculos\n",
    "FROM (\n",
    "  SELECT \n",
    "    ano,\n",
    "    sigla_uf,\n",
    "    CASE \n",
    "      WHEN natureza_juridica IN ('1015','1040', '1074', '1104','1139', '1163', '1252', '1287', '1317', '1341') THEN 'Federal'\n",
    "      WHEN natureza_juridica IN ('1023','1058', '1082', '1112', '1147', '1171', '1236','1260',  '1295', '1325') THEN 'Estadual'\n",
    "      WHEN natureza_juridica IN ('1031','1066', '1120', '1155', '1180', '1244', '1279', '1309', '1333') THEN 'Municipal'\n",
    "      ELSE 'Outros' \n",
    "    END AS esfera,\n",
    "    CASE \n",
    "      WHEN natureza_juridica IN ('1015','1023', '1031','1104','1139','1112', '1147','1236','1120', '1155','1180','1341', '1163','1252','1260','1279','1287','1295','1309','1317','1325','1333','1171','1180', '1244', '1341') THEN 'Executivo'\n",
    "      WHEN natureza_juridica IN ('1040','1058', '1066') THEN 'Legislativo'\n",
    "      WHEN natureza_juridica IN ('1074','1082') THEN 'Judiciário'\n",
    "      ELSE 'Outros' \n",
    "    END AS poderes,\n",
    "    COUNT(*) AS quantidade_vinculos\n",
    "  FROM `basedosdados.br_me_rais.microdados_vinculos`  \n",
    "  GROUP BY ano, sigla_uf, esfera, natureza_juridica\n",
    ") subquery\n",
    "WHERE esfera != 'Outros' and poderes != 'Outros'\n",
    "ORDER BY esfera, ano, sigla_uf, poderes;\n",
    "\n",
    "\n",
    "---116-3 - Órgão Público Autônomo Federal - executivo\n",
    "--125-2 - Fundação Pública de Direito Privado Federal\n",
    "--126-0 - Fundação Pública de Direito Privado Estadual ou do Distrito Federal\n",
    "--127-9 - Fundação Pública de Direito Privado Municipal\n",
    "--128-7 - Fundo Público da Administração Indireta Federal\n",
    "--129-5 - Fundo Público da Administração Indireta Estadual ou do Distrito Federal\n",
    "--130-9 - Fundo Público da Administração Indireta Municipal\n",
    "--131-7 - Fundo Público da Administração Direta Federal\n",
    "--132-5 - Fundo Público da Administração Direta Estadual ou do Distrito Federal\n",
    "--133-3 - Fundo Público da Administração Direta Municipal\n",
    "--117-1 - Órgão Público Autônomo Estadual ou do Distrito Federal - executivo\n",
    "--118-0 - Órgão Público Autônomo Municipal - executivo\n",
    "--124-4 - Município\n",
    "--134-1 - União '''"
   ]
  },
  {
   "cell_type": "code",
   "execution_count": null,
   "metadata": {},
   "outputs": [
    {
     "name": "stdout",
     "output_type": "stream",
     "text": [
      "Downloading: 100%|\u001b[32m██████████\u001b[0m|\n"
     ]
    },
    {
     "data": {
      "text/html": [
       "<div>\n",
       "<style scoped>\n",
       "    .dataframe tbody tr th:only-of-type {\n",
       "        vertical-align: middle;\n",
       "    }\n",
       "\n",
       "    .dataframe tbody tr th {\n",
       "        vertical-align: top;\n",
       "    }\n",
       "\n",
       "    .dataframe thead th {\n",
       "        text-align: right;\n",
       "    }\n",
       "</style>\n",
       "<table border=\"1\" class=\"dataframe\">\n",
       "  <thead>\n",
       "    <tr style=\"text-align: right;\">\n",
       "      <th></th>\n",
       "      <th>ano</th>\n",
       "      <th>sigla_uf</th>\n",
       "      <th>esfera</th>\n",
       "      <th>poderes</th>\n",
       "      <th>quantidade_vinculos</th>\n",
       "    </tr>\n",
       "  </thead>\n",
       "  <tbody>\n",
       "    <tr>\n",
       "      <th>0</th>\n",
       "      <td>1995</td>\n",
       "      <td>AC</td>\n",
       "      <td>Estadual</td>\n",
       "      <td>Executivo</td>\n",
       "      <td>21811</td>\n",
       "    </tr>\n",
       "    <tr>\n",
       "      <th>1</th>\n",
       "      <td>1995</td>\n",
       "      <td>AC</td>\n",
       "      <td>Estadual</td>\n",
       "      <td>Executivo</td>\n",
       "      <td>1354</td>\n",
       "    </tr>\n",
       "    <tr>\n",
       "      <th>2</th>\n",
       "      <td>1995</td>\n",
       "      <td>AC</td>\n",
       "      <td>Estadual</td>\n",
       "      <td>Executivo</td>\n",
       "      <td>142</td>\n",
       "    </tr>\n",
       "    <tr>\n",
       "      <th>3</th>\n",
       "      <td>1995</td>\n",
       "      <td>AC</td>\n",
       "      <td>Estadual</td>\n",
       "      <td>Judiciário</td>\n",
       "      <td>663</td>\n",
       "    </tr>\n",
       "    <tr>\n",
       "      <th>4</th>\n",
       "      <td>1995</td>\n",
       "      <td>AC</td>\n",
       "      <td>Estadual</td>\n",
       "      <td>Legislativo</td>\n",
       "      <td>504</td>\n",
       "    </tr>\n",
       "    <tr>\n",
       "      <th>...</th>\n",
       "      <td>...</td>\n",
       "      <td>...</td>\n",
       "      <td>...</td>\n",
       "      <td>...</td>\n",
       "      <td>...</td>\n",
       "    </tr>\n",
       "    <tr>\n",
       "      <th>11180</th>\n",
       "      <td>2022</td>\n",
       "      <td>TO</td>\n",
       "      <td>Municipal</td>\n",
       "      <td>Executivo</td>\n",
       "      <td>24</td>\n",
       "    </tr>\n",
       "    <tr>\n",
       "      <th>11181</th>\n",
       "      <td>2022</td>\n",
       "      <td>TO</td>\n",
       "      <td>Municipal</td>\n",
       "      <td>Executivo</td>\n",
       "      <td>12361</td>\n",
       "    </tr>\n",
       "    <tr>\n",
       "      <th>11182</th>\n",
       "      <td>2022</td>\n",
       "      <td>TO</td>\n",
       "      <td>Municipal</td>\n",
       "      <td>Executivo</td>\n",
       "      <td>3960</td>\n",
       "    </tr>\n",
       "    <tr>\n",
       "      <th>11183</th>\n",
       "      <td>2022</td>\n",
       "      <td>TO</td>\n",
       "      <td>Municipal</td>\n",
       "      <td>Executivo</td>\n",
       "      <td>1385</td>\n",
       "    </tr>\n",
       "    <tr>\n",
       "      <th>11184</th>\n",
       "      <td>2022</td>\n",
       "      <td>TO</td>\n",
       "      <td>Municipal</td>\n",
       "      <td>Legislativo</td>\n",
       "      <td>1613</td>\n",
       "    </tr>\n",
       "  </tbody>\n",
       "</table>\n",
       "<p>11185 rows × 5 columns</p>\n",
       "</div>"
      ],
      "text/plain": [
       "        ano sigla_uf     esfera      poderes  quantidade_vinculos\n",
       "0      1995       AC   Estadual    Executivo                21811\n",
       "1      1995       AC   Estadual    Executivo                 1354\n",
       "2      1995       AC   Estadual    Executivo                  142\n",
       "3      1995       AC   Estadual   Judiciário                  663\n",
       "4      1995       AC   Estadual  Legislativo                  504\n",
       "...     ...      ...        ...          ...                  ...\n",
       "11180  2022       TO  Municipal    Executivo                   24\n",
       "11181  2022       TO  Municipal    Executivo                12361\n",
       "11182  2022       TO  Municipal    Executivo                 3960\n",
       "11183  2022       TO  Municipal    Executivo                 1385\n",
       "11184  2022       TO  Municipal  Legislativo                 1613\n",
       "\n",
       "[11185 rows x 5 columns]"
      ]
     },
     "execution_count": 6,
     "metadata": {},
     "output_type": "execute_result"
    }
   ],
   "source": [
    "df = pandas_gbq.read_gbq(query, project_id='repositoriodedadosgpsp')\n",
    "df"
   ]
  },
  {
   "cell_type": "code",
   "execution_count": 8,
   "metadata": {},
   "outputs": [
    {
     "data": {
      "text/plain": [
       "array(['Estadual', 'Federal', 'Municipal'], dtype=object)"
      ]
     },
     "execution_count": 8,
     "metadata": {},
     "output_type": "execute_result"
    }
   ],
   "source": [
    "df['esfera'].unique()"
   ]
  },
  {
   "attachments": {},
   "cell_type": "markdown",
   "metadata": {},
   "source": [
    "Subindo para o GBQ"
   ]
  },
  {
   "cell_type": "code",
   "execution_count": 11,
   "metadata": {},
   "outputs": [],
   "source": [
    "client = bigquery.Client()\n",
    "dataset_ref = client.dataset('perfil_remuneracao')"
   ]
  },
  {
   "cell_type": "code",
   "execution_count": 12,
   "metadata": {},
   "outputs": [
    {
     "name": "stdout",
     "output_type": "stream",
     "text": [
      "<class 'pandas.core.frame.DataFrame'>\n",
      "RangeIndex: 11185 entries, 0 to 11184\n",
      "Data columns (total 5 columns):\n",
      " #   Column               Non-Null Count  Dtype \n",
      "---  ------               --------------  ----- \n",
      " 0   ano                  11185 non-null  Int64 \n",
      " 1   sigla_uf             11185 non-null  object\n",
      " 2   esfera               11185 non-null  object\n",
      " 3   poderes              11185 non-null  object\n",
      " 4   quantidade_vinculos  11185 non-null  Int64 \n",
      "dtypes: Int64(2), object(3)\n",
      "memory usage: 458.9+ KB\n"
     ]
    }
   ],
   "source": [
    "df.info()"
   ]
  },
  {
   "cell_type": "code",
   "execution_count": 16,
   "metadata": {},
   "outputs": [],
   "source": [
    "schema = [bigquery.SchemaField('ano', 'INTEGER', description= 'Ano de referência'),\n",
    "          bigquery.SchemaField('quantidade_vinculos', 'INTEGER', description= 'Número total de vinculos observados'),\n",
    "          bigquery.SchemaField('sigla_uf', 'STRING', description= 'Sigla da Unidade da Federação'),\n",
    "          bigquery.SchemaField('esfera', 'STRING', description= 'Nível da esfera do governo'),\n",
    "          bigquery.SchemaField('poderes', 'STRING', description= 'Poder abrangente ao nível de esfera')\n",
    "          ]"
   ]
  },
  {
   "cell_type": "code",
   "execution_count": 17,
   "metadata": {},
   "outputs": [
    {
     "data": {
      "text/plain": [
       "LoadJob<project=repositoriodedadosgpsp, location=US, id=046144a1-91ac-4751-9166-921cdd81ae42>"
      ]
     },
     "execution_count": 17,
     "metadata": {},
     "output_type": "execute_result"
    }
   ],
   "source": [
    "table_ref = dataset_ref.table('RAIS_evolucao_esfera_poder')\n",
    "job_config = bigquery.LoadJobConfig(schema=schema)\n",
    "job = client.load_table_from_dataframe(df, table_ref, job_config=job_config)\n",
    "job.result() "
   ]
  }
 ],
 "metadata": {
  "kernelspec": {
   "display_name": "base",
   "language": "python",
   "name": "python3"
  },
  "language_info": {
   "codemirror_mode": {
    "name": "ipython",
    "version": 3
   },
   "file_extension": ".py",
   "mimetype": "text/x-python",
   "name": "python",
   "nbconvert_exporter": "python",
   "pygments_lexer": "ipython3",
   "version": "3.11.4"
  },
  "orig_nbformat": 4
 },
 "nbformat": 4,
 "nbformat_minor": 2
}
