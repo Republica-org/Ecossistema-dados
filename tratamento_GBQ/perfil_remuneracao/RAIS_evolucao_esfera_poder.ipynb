{
  "nbformat": 4,
  "nbformat_minor": 0,
  "metadata": {
    "colab": {
      "provenance": []
    },
    "kernelspec": {
      "name": "python3",
      "display_name": "Python 3"
    },
    "language_info": {
      "name": "python"
    }
  },
  "cells": [
    {
      "cell_type": "markdown",
      "source": [
        "# Dependências"
      ],
      "metadata": {
        "id": "dgJbmMPWRlzn"
      }
    },
    {
      "cell_type": "code",
      "execution_count": null,
      "metadata": {
        "colab": {
          "base_uri": "https://localhost:8080/"
        },
        "id": "KYLu-ty_ts0q",
        "outputId": "c4f5d7ed-c4af-462c-de38-1d40d833b877"
      },
      "outputs": [
        {
          "output_type": "stream",
          "name": "stdout",
          "text": [
            "Collecting gcloud\n",
            "  Downloading gcloud-0.18.3.tar.gz (454 kB)\n",
            "\u001b[2K     \u001b[90m━━━━━━━━━━━━━━━━━━━━━━━━━━━━━━━━━━━━━━━\u001b[0m \u001b[32m454.4/454.4 kB\u001b[0m \u001b[31m4.7 MB/s\u001b[0m eta \u001b[36m0:00:00\u001b[0m\n",
            "\u001b[?25h  Preparing metadata (setup.py) ... \u001b[?25l\u001b[?25hdone\n",
            "Requirement already satisfied: httplib2>=0.9.1 in /usr/local/lib/python3.12/dist-packages (from gcloud) (0.22.0)\n",
            "Requirement already satisfied: googleapis-common-protos in /usr/local/lib/python3.12/dist-packages (from gcloud) (1.70.0)\n",
            "Requirement already satisfied: oauth2client>=2.0.1 in /usr/local/lib/python3.12/dist-packages (from gcloud) (4.1.3)\n",
            "Requirement already satisfied: protobuf!=3.0.0.b2.post1,>=3.0.0b2 in /usr/local/lib/python3.12/dist-packages (from gcloud) (5.29.5)\n",
            "Requirement already satisfied: six in /usr/local/lib/python3.12/dist-packages (from gcloud) (1.17.0)\n",
            "Requirement already satisfied: pyparsing!=3.0.0,!=3.0.1,!=3.0.2,!=3.0.3,<4,>=2.4.2 in /usr/local/lib/python3.12/dist-packages (from httplib2>=0.9.1->gcloud) (3.2.3)\n",
            "Requirement already satisfied: pyasn1>=0.1.7 in /usr/local/lib/python3.12/dist-packages (from oauth2client>=2.0.1->gcloud) (0.6.1)\n",
            "Requirement already satisfied: pyasn1-modules>=0.0.5 in /usr/local/lib/python3.12/dist-packages (from oauth2client>=2.0.1->gcloud) (0.4.2)\n",
            "Requirement already satisfied: rsa>=3.1.4 in /usr/local/lib/python3.12/dist-packages (from oauth2client>=2.0.1->gcloud) (4.9.1)\n",
            "Building wheels for collected packages: gcloud\n",
            "  Building wheel for gcloud (setup.py) ... \u001b[?25l\u001b[?25hdone\n",
            "  Created wheel for gcloud: filename=gcloud-0.18.3-py3-none-any.whl size=602927 sha256=4194f89a822c5bf4998e975c44343e3f7d3d03e677aea5761a76b6775d0820c9\n",
            "  Stored in directory: /root/.cache/pip/wheels/2a/62/75/3d74209bfebb8805823ae74afa28653aa1ea76d8b5a9d741ff\n",
            "Successfully built gcloud\n",
            "Installing collected packages: gcloud\n",
            "Successfully installed gcloud-0.18.3\n",
            "Requirement already satisfied: pandas-gbq in /usr/local/lib/python3.12/dist-packages (0.29.2)\n",
            "Requirement already satisfied: setuptools in /usr/local/lib/python3.12/dist-packages (from pandas-gbq) (75.2.0)\n",
            "Requirement already satisfied: db-dtypes<2.0.0,>=1.0.4 in /usr/local/lib/python3.12/dist-packages (from pandas-gbq) (1.4.3)\n",
            "Requirement already satisfied: numpy>=1.18.1 in /usr/local/lib/python3.12/dist-packages (from pandas-gbq) (2.0.2)\n",
            "Requirement already satisfied: pandas>=1.1.4 in /usr/local/lib/python3.12/dist-packages (from pandas-gbq) (2.2.2)\n",
            "Requirement already satisfied: pyarrow>=4.0.0 in /usr/local/lib/python3.12/dist-packages (from pandas-gbq) (18.1.0)\n",
            "Requirement already satisfied: pydata-google-auth>=1.5.0 in /usr/local/lib/python3.12/dist-packages (from pandas-gbq) (1.9.1)\n",
            "Requirement already satisfied: google-api-core<3.0.0,>=2.10.2 in /usr/local/lib/python3.12/dist-packages (from pandas-gbq) (2.25.1)\n",
            "Requirement already satisfied: google-auth>=2.13.0 in /usr/local/lib/python3.12/dist-packages (from pandas-gbq) (2.38.0)\n",
            "Requirement already satisfied: google-auth-oauthlib>=0.7.0 in /usr/local/lib/python3.12/dist-packages (from pandas-gbq) (1.2.2)\n",
            "Requirement already satisfied: google-cloud-bigquery<4.0.0,>=3.4.2 in /usr/local/lib/python3.12/dist-packages (from pandas-gbq) (3.35.1)\n",
            "Requirement already satisfied: packaging>=22.0.0 in /usr/local/lib/python3.12/dist-packages (from pandas-gbq) (25.0)\n",
            "Requirement already satisfied: googleapis-common-protos<2.0.0,>=1.56.2 in /usr/local/lib/python3.12/dist-packages (from google-api-core<3.0.0,>=2.10.2->pandas-gbq) (1.70.0)\n",
            "Requirement already satisfied: protobuf!=3.20.0,!=3.20.1,!=4.21.0,!=4.21.1,!=4.21.2,!=4.21.3,!=4.21.4,!=4.21.5,<7.0.0,>=3.19.5 in /usr/local/lib/python3.12/dist-packages (from google-api-core<3.0.0,>=2.10.2->pandas-gbq) (5.29.5)\n",
            "Requirement already satisfied: proto-plus<2.0.0,>=1.22.3 in /usr/local/lib/python3.12/dist-packages (from google-api-core<3.0.0,>=2.10.2->pandas-gbq) (1.26.1)\n",
            "Requirement already satisfied: requests<3.0.0,>=2.18.0 in /usr/local/lib/python3.12/dist-packages (from google-api-core<3.0.0,>=2.10.2->pandas-gbq) (2.32.4)\n",
            "Requirement already satisfied: cachetools<6.0,>=2.0.0 in /usr/local/lib/python3.12/dist-packages (from google-auth>=2.13.0->pandas-gbq) (5.5.2)\n",
            "Requirement already satisfied: pyasn1-modules>=0.2.1 in /usr/local/lib/python3.12/dist-packages (from google-auth>=2.13.0->pandas-gbq) (0.4.2)\n",
            "Requirement already satisfied: rsa<5,>=3.1.4 in /usr/local/lib/python3.12/dist-packages (from google-auth>=2.13.0->pandas-gbq) (4.9.1)\n",
            "Requirement already satisfied: requests-oauthlib>=0.7.0 in /usr/local/lib/python3.12/dist-packages (from google-auth-oauthlib>=0.7.0->pandas-gbq) (2.0.0)\n",
            "Requirement already satisfied: google-cloud-core<3.0.0,>=2.4.1 in /usr/local/lib/python3.12/dist-packages (from google-cloud-bigquery<4.0.0,>=3.4.2->pandas-gbq) (2.4.3)\n",
            "Requirement already satisfied: google-resumable-media<3.0.0,>=2.0.0 in /usr/local/lib/python3.12/dist-packages (from google-cloud-bigquery<4.0.0,>=3.4.2->pandas-gbq) (2.7.2)\n",
            "Requirement already satisfied: python-dateutil<3.0.0,>=2.8.2 in /usr/local/lib/python3.12/dist-packages (from google-cloud-bigquery<4.0.0,>=3.4.2->pandas-gbq) (2.9.0.post0)\n",
            "Requirement already satisfied: pytz>=2020.1 in /usr/local/lib/python3.12/dist-packages (from pandas>=1.1.4->pandas-gbq) (2025.2)\n",
            "Requirement already satisfied: tzdata>=2022.7 in /usr/local/lib/python3.12/dist-packages (from pandas>=1.1.4->pandas-gbq) (2025.2)\n",
            "Requirement already satisfied: grpcio<2.0.0,>=1.33.2 in /usr/local/lib/python3.12/dist-packages (from google-api-core[grpc]<3.0.0,>=2.11.1->google-cloud-bigquery<4.0.0,>=3.4.2->pandas-gbq) (1.74.0)\n",
            "Requirement already satisfied: grpcio-status<2.0.0,>=1.33.2 in /usr/local/lib/python3.12/dist-packages (from google-api-core[grpc]<3.0.0,>=2.11.1->google-cloud-bigquery<4.0.0,>=3.4.2->pandas-gbq) (1.71.2)\n",
            "Requirement already satisfied: google-crc32c<2.0dev,>=1.0 in /usr/local/lib/python3.12/dist-packages (from google-resumable-media<3.0.0,>=2.0.0->google-cloud-bigquery<4.0.0,>=3.4.2->pandas-gbq) (1.7.1)\n",
            "Requirement already satisfied: pyasn1<0.7.0,>=0.6.1 in /usr/local/lib/python3.12/dist-packages (from pyasn1-modules>=0.2.1->google-auth>=2.13.0->pandas-gbq) (0.6.1)\n",
            "Requirement already satisfied: six>=1.5 in /usr/local/lib/python3.12/dist-packages (from python-dateutil<3.0.0,>=2.8.2->google-cloud-bigquery<4.0.0,>=3.4.2->pandas-gbq) (1.17.0)\n",
            "Requirement already satisfied: charset_normalizer<4,>=2 in /usr/local/lib/python3.12/dist-packages (from requests<3.0.0,>=2.18.0->google-api-core<3.0.0,>=2.10.2->pandas-gbq) (3.4.3)\n",
            "Requirement already satisfied: idna<4,>=2.5 in /usr/local/lib/python3.12/dist-packages (from requests<3.0.0,>=2.18.0->google-api-core<3.0.0,>=2.10.2->pandas-gbq) (3.10)\n",
            "Requirement already satisfied: urllib3<3,>=1.21.1 in /usr/local/lib/python3.12/dist-packages (from requests<3.0.0,>=2.18.0->google-api-core<3.0.0,>=2.10.2->pandas-gbq) (2.5.0)\n",
            "Requirement already satisfied: certifi>=2017.4.17 in /usr/local/lib/python3.12/dist-packages (from requests<3.0.0,>=2.18.0->google-api-core<3.0.0,>=2.10.2->pandas-gbq) (2025.8.3)\n",
            "Requirement already satisfied: oauthlib>=3.0.0 in /usr/local/lib/python3.12/dist-packages (from requests-oauthlib>=0.7.0->google-auth-oauthlib>=0.7.0->pandas-gbq) (3.3.1)\n"
          ]
        }
      ],
      "source": [
        "# Install required Google Cloud packages (commented out as these are typically one-time setup commands)\n",
        "!pip install gcloud\n",
        "!gcloud auth application-default login\n",
        "\n",
        "# Import necessary Python libraries\n",
        "import pandas as pd                # Data manipulation and analysis\n",
        "import numpy as np                 # Numerical computing\n",
        "import time                        # Time-related functions\n",
        "import os                          # Operating system interfaces\n",
        "import pandas_gbq                  # Pandas integration with BigQuery\n",
        "from google.cloud import bigquery  # BigQuery client library\n",
        "import glob                        # File path pattern matching\n",
        "import openpyxl                    # Excel file handling\n",
        "import csv                         # CSV file handling\n",
        "import re                          # Regular expressions\n",
        "\n",
        "# Note: The actual imports remain exactly as in the original code"
      ]
    },
    {
      "cell_type": "code",
      "source": [
        "!gcloud auth application-default login"
      ],
      "metadata": {
        "colab": {
          "base_uri": "https://localhost:8080/"
        },
        "id": "oW54GeAjtzv1",
        "outputId": "0d2498e6-c24c-41f8-8f1e-5c23c1c7ceee"
      },
      "execution_count": null,
      "outputs": [
        {
          "output_type": "stream",
          "name": "stdout",
          "text": [
            "Go to the following link in your browser, and complete the sign-in prompts:\n",
            "\n",
            "    https://accounts.google.com/o/oauth2/auth?response_type=code&client_id=764086051850-6qr4p6gpi6hn506pt8ejuq83di341hur.apps.googleusercontent.com&redirect_uri=https%3A%2F%2Fsdk.cloud.google.com%2Fapplicationdefaultauthcode.html&scope=openid+https%3A%2F%2Fwww.googleapis.com%2Fauth%2Fuserinfo.email+https%3A%2F%2Fwww.googleapis.com%2Fauth%2Fcloud-platform+https%3A%2F%2Fwww.googleapis.com%2Fauth%2Fsqlservice.login&state=Z9GXg2sa3Lxz0DwTMqLU0M5s0dAnTz&prompt=consent&token_usage=remote&access_type=offline&code_challenge=Uh6rgPUT6qA7WubXhQgfqTihzRCPf35A81NPFH4Gg5Q&code_challenge_method=S256\n",
            "\n",
            "Once finished, enter the verification code provided in your browser: 4/0AVMBsJjh7fvjqRMYXBAnHK5oOemR31LTFwXiEICSY6GgGkwF9Yw3QsuysLyNQe11Qm_3Dw\n",
            "\n",
            "Credentials saved to file: [/content/.config/application_default_credentials.json]\n",
            "\n",
            "These credentials will be used by any library that requests Application Default Credentials (ADC).\n",
            "\u001b[1;33mWARNING:\u001b[0m \n",
            "Cannot find a quota project to add to ADC. You might receive a \"quota exceeded\" or \"API not enabled\" error. Run $ gcloud auth application-default set-quota-project to add a quota project.\n"
          ]
        }
      ]
    },
    {
      "cell_type": "markdown",
      "source": [
        "# Tratamento"
      ],
      "metadata": {
        "id": "DMiQMAxWjdK5"
      }
    },
    {
      "cell_type": "code",
      "source": [
        "# Importa a biblioteca pandas-gbq, necessária para interagir com o BigQuery.\n",
        "import pandas_gbq\n",
        "\n",
        "# Define o ID do projeto do Google Cloud onde a consulta BigQuery será executada.\n",
        "project_id = \"repositoriodedadosgpsp\"\n",
        "\n",
        "# Define a consulta SQL a ser executada no BigQuery.\n",
        "# A consulta agrega a quantidade de vínculos de trabalho por ano, UF, esfera e poder.\n",
        "query = '''SELECT\n",
        "  ano,\n",
        "  sigla_uf,\n",
        "  esfera,\n",
        "  poderes,\n",
        "  quantidade_vinculos\n",
        "FROM (\n",
        "  SELECT\n",
        "    ano,\n",
        "    sigla_uf,\n",
        "    CASE\n",
        "      WHEN natureza_juridica IN ('1015','1040', '1074', '1104','1139', '1163', '1252', '1287', '1317', '1341') THEN 'Federal'\n",
        "      WHEN natureza_juridica IN ('1023','1058', '1082', '1112', '1147', '1171', '1236','1260',  '1295', '1325') THEN 'Estadual'\n",
        "      WHEN natureza_juridica IN ('1031','1066', '1120', '1155', '1180', '1244', '1279', '1309', '1333') THEN 'Municipal'\n",
        "      ELSE 'Outros'\n",
        "    END AS esfera,\n",
        "    CASE\n",
        "      WHEN natureza_juridica IN ('1015','1023', '1031','1104','1139','1112', '1147','1236','1120', '1155','1180','1341', '1163','1252','1260','1279','1287','1295','1309','1317','1325','1333','1171','1180', '1244', '1341') THEN 'Executivo'\n",
        "      WHEN natureza_juridica IN ('1040','1058', '1066') THEN 'Legislativo'\n",
        "      WHEN natureza_juridica IN ('1074','1082') THEN 'Judiciário'\n",
        "      ELSE 'Outros'\n",
        "    END AS poderes,\n",
        "    COUNT(*) AS quantidade_vinculos\n",
        "  FROM `repositoriodedadosgpsp.Datalake.RAIS_2024_ALL_AJUSTADO`\n",
        "  GROUP BY ano, sigla_uf, esfera, natureza_juridica\n",
        ") subquery\n",
        "WHERE esfera != 'Outros' and poderes != 'Outros'\n",
        "ORDER BY esfera, ano, sigla_uf, poderes;\n",
        "\n",
        "\n",
        "---116-3 - Órgão Público Autônomo Federal - executivo\n",
        "--125-2 - Fundação Pública de Direito Privado Federal\n",
        "--126-0 - Fundação Pública de Direito Privado Estadual ou do Distrito Federal\n",
        "--127-9 - Fundação Pública de Direito Privado Municipal\n",
        "--128-7 - Fundo Público da Administração Indireta Federal\n",
        "--129-5 - Fundo Público da Administração Indireta Estadual ou do Distrito Federal\n",
        "--130-9 - Fundo Público da Administração Indireta Municipal\n",
        "--131-7 - Fundo Público da Administração Direta Federal\n",
        "--132-5 - Fundo Público da Administração Direta Estadual ou do Distrito Federal\n",
        "--133-3 - Fundo Público da Administração Direta Municipal\n",
        "--117-1 - Órgão Público Autônomo Estadual ou do Distrito Federal - executivo\n",
        "--118-0 - Órgão Público Autônomo Municipal - executivo\n",
        "--124-4 - Município\n",
        "--134-1 - União '''\n",
        "\n",
        "# Executa a consulta no BigQuery e armazena os resultados em um DataFrame do pandas.\n",
        "df = pandas_gbq.read_gbq(query, project_id=project_id)\n",
        "\n",
        "# Mostra as primeiras linhas do DataFrame para uma rápida visualização dos dados.\n",
        "print(df.head())"
      ],
      "metadata": {
        "id": "E3Ldi3gRj2gA"
      },
      "execution_count": null,
      "outputs": []
    },
    {
      "cell_type": "markdown",
      "source": [
        "# Upload"
      ],
      "metadata": {
        "id": "I7zA_EzLj-TB"
      }
    },
    {
      "cell_type": "code",
      "source": [
        "# Importa a biblioteca do BigQuery, necessária para interagir com a API.\n",
        "from google.cloud import bigquery\n",
        "\n",
        "# Define o esquema da tabela de destino no BigQuery, especificando nome, tipo e descrição de cada coluna.\n",
        "schema = [bigquery.SchemaField('ano', 'INTEGER', description= 'Ano de referência'),\n",
        "          bigquery.SchemaField('quantidade_vinculos', 'INTEGER', description= 'Número total de vinculos observados'),\n",
        "          bigquery.SchemaField('sigla_uf', 'STRING', description= 'Sigla da Unidade da Federação'),\n",
        "          bigquery.SchemaField('esfera', 'STRING', description= 'Nível da esfera do governo'),\n",
        "          bigquery.SchemaField('poderes', 'STRING', description= 'Poder abrangente ao nível de esfera')\n",
        "          ]\n",
        "\n",
        "## Subindo para datalake\n",
        "# Inicializa o cliente do BigQuery, especificando o projeto a ser utilizado.\n",
        "client = bigquery.Client(project='repositoriodedadosgpsp')\n",
        "\n",
        "# Cria uma referência ao dataset (conjunto de dados) de destino no BigQuery.\n",
        "dataset_ref = client.dataset('perfil_remuneracao')\n",
        "\n",
        "# Cria uma referência à tabela de destino dentro do dataset especificado.\n",
        "table_ref = dataset_ref.table('RAIS_evolucao_esfera_poder_v1')\n",
        "\n",
        "# Configura o trabalho de carregamento (load job), aplicando o esquema definido anteriormente.\n",
        "job_config = bigquery.LoadJobConfig(schema=schema)\n",
        "\n",
        "# Inicia o trabalho de upload do DataFrame para a tabela no BigQuery, usando a configuração definida.\n",
        "job = client.load_table_from_dataframe(df, table_ref, job_config=job_config)\n",
        "\n",
        "# Aguarda a conclusão do trabalho de upload e verifica se ocorreram erros.\n",
        "job.result()"
      ],
      "metadata": {
        "id": "97YRjNx4kA5A"
      },
      "execution_count": null,
      "outputs": []
    }
  ]
}