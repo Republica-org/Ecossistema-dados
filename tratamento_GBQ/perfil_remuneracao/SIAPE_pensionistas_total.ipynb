{
 "cells": [
  {
   "cell_type": "code",
   "execution_count": 6,
   "metadata": {},
   "outputs": [],
   "source": [
    "import pandas as pd\n",
    "import numpy as np\n",
    "import time\n",
    "import os\n",
    "import zipfile\n",
    "import pandas_gbq\n",
    "import glob\n",
    "from google.cloud import bigquery\n",
    "import re"
   ]
  },
  {
   "cell_type": "code",
   "execution_count": 7,
   "metadata": {},
   "outputs": [],
   "source": [
    "client = bigquery.Client()"
   ]
  },
  {
   "cell_type": "code",
   "execution_count": 8,
   "metadata": {},
   "outputs": [],
   "source": [
    "query = \"\"\" \n",
    "        SELECT ANO as ano, MES as mes, TIPO_PENSAO as tipo_pensao,\n",
    "            1 as total FROM `repositoriodedadosgpsp.portal_transparencia_cgu.2020_abr_siape_pensionista_cadastro` \n",
    "            UNION ALL\n",
    "        SELECT ANO as ano, MES as mes, TIPO_PENSAO as tipo_pensao,\n",
    "            1 as total FROM `repositoriodedadosgpsp.portal_transparencia_cgu.2021_abr_siape_pensionista_cadastro` \n",
    "            UNION ALL\n",
    "        SELECT ANO as ano, MES as mes, TIPO_PENSAO as tipo_pensao,\n",
    "            1 as total FROM `repositoriodedadosgpsp.portal_transparencia_cgu.2022_abr_siape_pensionista_cadastro` \n",
    "            UNION ALL\n",
    "        SELECT ANO as ano, MES as mes, TIPO_PENSAO as tipo_pensao,\n",
    "            1 as total FROM `repositoriodedadosgpsp.portal_transparencia_cgu.2023_abr_siape_pensionista_cadastro` \n",
    "            UNION ALL\n",
    "        SELECT ANO as ano, MES as mes, TIPO_PENSAO as tipo_pensao,\n",
    "            1 as total FROM `repositoriodedadosgpsp.portal_transparencia_cgu.2024_abr_siape_pensionista_cadastro` \n",
    "        \"\"\"  \n"
   ]
  },
  {
   "cell_type": "code",
   "execution_count": 9,
   "metadata": {},
   "outputs": [
    {
     "name": "stdout",
     "output_type": "stream",
     "text": [
      "Downloading: 100%|\u001b[32m██████████\u001b[0m|\n"
     ]
    },
    {
     "data": {
      "text/html": [
       "<div>\n",
       "<style scoped>\n",
       "    .dataframe tbody tr th:only-of-type {\n",
       "        vertical-align: middle;\n",
       "    }\n",
       "\n",
       "    .dataframe tbody tr th {\n",
       "        vertical-align: top;\n",
       "    }\n",
       "\n",
       "    .dataframe thead th {\n",
       "        text-align: right;\n",
       "    }\n",
       "</style>\n",
       "<table border=\"1\" class=\"dataframe\">\n",
       "  <thead>\n",
       "    <tr style=\"text-align: right;\">\n",
       "      <th></th>\n",
       "      <th>ano</th>\n",
       "      <th>mes</th>\n",
       "      <th>tipo_pensao</th>\n",
       "      <th>total</th>\n",
       "    </tr>\n",
       "  </thead>\n",
       "  <tbody>\n",
       "    <tr>\n",
       "      <th>0</th>\n",
       "      <td>2024</td>\n",
       "      <td>4</td>\n",
       "      <td>(Ex) conjuge / (Ex) companheiro (a) / Viuvo (a)</td>\n",
       "      <td>1</td>\n",
       "    </tr>\n",
       "    <tr>\n",
       "      <th>1</th>\n",
       "      <td>2024</td>\n",
       "      <td>4</td>\n",
       "      <td>(Ex) conjuge / (Ex) companheiro (a) / Viuvo (a)</td>\n",
       "      <td>1</td>\n",
       "    </tr>\n",
       "    <tr>\n",
       "      <th>2</th>\n",
       "      <td>2024</td>\n",
       "      <td>4</td>\n",
       "      <td>(Ex) conjuge / (Ex) companheiro (a) / Viuvo (a)</td>\n",
       "      <td>1</td>\n",
       "    </tr>\n",
       "    <tr>\n",
       "      <th>3</th>\n",
       "      <td>2024</td>\n",
       "      <td>4</td>\n",
       "      <td>(Ex) conjuge / (Ex) companheiro (a) / Viuvo (a)</td>\n",
       "      <td>1</td>\n",
       "    </tr>\n",
       "    <tr>\n",
       "      <th>4</th>\n",
       "      <td>2024</td>\n",
       "      <td>4</td>\n",
       "      <td>Filho (a) / Menor sob guarda / Enteado (a)</td>\n",
       "      <td>1</td>\n",
       "    </tr>\n",
       "    <tr>\n",
       "      <th>...</th>\n",
       "      <td>...</td>\n",
       "      <td>...</td>\n",
       "      <td>...</td>\n",
       "      <td>...</td>\n",
       "    </tr>\n",
       "    <tr>\n",
       "      <th>1447457</th>\n",
       "      <td>2020</td>\n",
       "      <td>4</td>\n",
       "      <td>(Ex) conjuge / (Ex) companheiro (a) / Viuvo (a)</td>\n",
       "      <td>1</td>\n",
       "    </tr>\n",
       "    <tr>\n",
       "      <th>1447458</th>\n",
       "      <td>2020</td>\n",
       "      <td>4</td>\n",
       "      <td>(Ex) conjuge / (Ex) companheiro (a) / Viuvo (a)</td>\n",
       "      <td>1</td>\n",
       "    </tr>\n",
       "    <tr>\n",
       "      <th>1447459</th>\n",
       "      <td>2020</td>\n",
       "      <td>4</td>\n",
       "      <td>(Ex) conjuge / (Ex) companheiro (a) / Viuvo (a)</td>\n",
       "      <td>1</td>\n",
       "    </tr>\n",
       "    <tr>\n",
       "      <th>1447460</th>\n",
       "      <td>2020</td>\n",
       "      <td>4</td>\n",
       "      <td>Filho (a) / Menor sob guarda / Enteado (a)</td>\n",
       "      <td>1</td>\n",
       "    </tr>\n",
       "    <tr>\n",
       "      <th>1447461</th>\n",
       "      <td>2020</td>\n",
       "      <td>4</td>\n",
       "      <td>(Ex) conjuge / (Ex) companheiro (a) / Viuvo (a)</td>\n",
       "      <td>1</td>\n",
       "    </tr>\n",
       "  </tbody>\n",
       "</table>\n",
       "<p>1447462 rows × 4 columns</p>\n",
       "</div>"
      ],
      "text/plain": [
       "          ano  mes                                      tipo_pensao  total\n",
       "0        2024    4  (Ex) conjuge / (Ex) companheiro (a) / Viuvo (a)      1\n",
       "1        2024    4  (Ex) conjuge / (Ex) companheiro (a) / Viuvo (a)      1\n",
       "2        2024    4  (Ex) conjuge / (Ex) companheiro (a) / Viuvo (a)      1\n",
       "3        2024    4  (Ex) conjuge / (Ex) companheiro (a) / Viuvo (a)      1\n",
       "4        2024    4       Filho (a) / Menor sob guarda / Enteado (a)      1\n",
       "...       ...  ...                                              ...    ...\n",
       "1447457  2020    4  (Ex) conjuge / (Ex) companheiro (a) / Viuvo (a)      1\n",
       "1447458  2020    4  (Ex) conjuge / (Ex) companheiro (a) / Viuvo (a)      1\n",
       "1447459  2020    4  (Ex) conjuge / (Ex) companheiro (a) / Viuvo (a)      1\n",
       "1447460  2020    4       Filho (a) / Menor sob guarda / Enteado (a)      1\n",
       "1447461  2020    4  (Ex) conjuge / (Ex) companheiro (a) / Viuvo (a)      1\n",
       "\n",
       "[1447462 rows x 4 columns]"
      ]
     },
     "execution_count": 9,
     "metadata": {},
     "output_type": "execute_result"
    }
   ],
   "source": [
    "df = pandas_gbq.read_gbq(query, project_id='repositoriodedadosgpsp')\n",
    "df"
   ]
  },
  {
   "cell_type": "code",
   "execution_count": 21,
   "metadata": {},
   "outputs": [
    {
     "name": "stdout",
     "output_type": "stream",
     "text": [
      "<class 'pandas.core.frame.DataFrame'>\n",
      "RangeIndex: 1447462 entries, 0 to 1447461\n",
      "Data columns (total 4 columns):\n",
      " #   Column       Non-Null Count    Dtype \n",
      "---  ------       --------------    ----- \n",
      " 0   ano          1447462 non-null  Int64 \n",
      " 1   mes          1447462 non-null  Int64 \n",
      " 2   tipo_pensao  1447462 non-null  object\n",
      " 3   total        1447462 non-null  Int64 \n",
      "dtypes: Int64(3), object(1)\n",
      "memory usage: 48.3+ MB\n"
     ]
    }
   ],
   "source": [
    "df.info()"
   ]
  },
  {
   "cell_type": "code",
   "execution_count": 23,
   "metadata": {},
   "outputs": [
    {
     "data": {
      "text/plain": [
       "array(['(Ex) conjuge / (Ex) companheiro (a) / Viuvo (a)',\n",
       "       'Filho (a) / Menor sob guarda / Enteado (a)', 'Pai / Mae',\n",
       "       'Outros', 'Pessoa designada', 'Irmao (a)', 'Neto (a)', 'Inválido'],\n",
       "      dtype=object)"
      ]
     },
     "execution_count": 23,
     "metadata": {},
     "output_type": "execute_result"
    }
   ],
   "source": [
    "df['tipo_pensao'].unique()"
   ]
  },
  {
   "cell_type": "code",
   "execution_count": 22,
   "metadata": {},
   "outputs": [
    {
     "data": {
      "text/html": [
       "<div>\n",
       "<style scoped>\n",
       "    .dataframe tbody tr th:only-of-type {\n",
       "        vertical-align: middle;\n",
       "    }\n",
       "\n",
       "    .dataframe tbody tr th {\n",
       "        vertical-align: top;\n",
       "    }\n",
       "\n",
       "    .dataframe thead th {\n",
       "        text-align: right;\n",
       "    }\n",
       "</style>\n",
       "<table border=\"1\" class=\"dataframe\">\n",
       "  <thead>\n",
       "    <tr style=\"text-align: right;\">\n",
       "      <th></th>\n",
       "      <th>ano</th>\n",
       "      <th>mes</th>\n",
       "      <th>tipo_pensao</th>\n",
       "      <th>total</th>\n",
       "    </tr>\n",
       "  </thead>\n",
       "  <tbody>\n",
       "    <tr>\n",
       "      <th>22766</th>\n",
       "      <td>2024</td>\n",
       "      <td>4</td>\n",
       "      <td>Inválido</td>\n",
       "      <td>1</td>\n",
       "    </tr>\n",
       "    <tr>\n",
       "      <th>23037</th>\n",
       "      <td>2024</td>\n",
       "      <td>4</td>\n",
       "      <td>Inválido</td>\n",
       "      <td>1</td>\n",
       "    </tr>\n",
       "    <tr>\n",
       "      <th>23143</th>\n",
       "      <td>2024</td>\n",
       "      <td>4</td>\n",
       "      <td>Inválido</td>\n",
       "      <td>1</td>\n",
       "    </tr>\n",
       "    <tr>\n",
       "      <th>23267</th>\n",
       "      <td>2024</td>\n",
       "      <td>4</td>\n",
       "      <td>Inválido</td>\n",
       "      <td>1</td>\n",
       "    </tr>\n",
       "    <tr>\n",
       "      <th>23699</th>\n",
       "      <td>2024</td>\n",
       "      <td>4</td>\n",
       "      <td>Inválido</td>\n",
       "      <td>1</td>\n",
       "    </tr>\n",
       "    <tr>\n",
       "      <th>...</th>\n",
       "      <td>...</td>\n",
       "      <td>...</td>\n",
       "      <td>...</td>\n",
       "      <td>...</td>\n",
       "    </tr>\n",
       "    <tr>\n",
       "      <th>1407263</th>\n",
       "      <td>2020</td>\n",
       "      <td>4</td>\n",
       "      <td>Inválido</td>\n",
       "      <td>1</td>\n",
       "    </tr>\n",
       "    <tr>\n",
       "      <th>1407268</th>\n",
       "      <td>2020</td>\n",
       "      <td>4</td>\n",
       "      <td>Inválido</td>\n",
       "      <td>1</td>\n",
       "    </tr>\n",
       "    <tr>\n",
       "      <th>1407301</th>\n",
       "      <td>2020</td>\n",
       "      <td>4</td>\n",
       "      <td>Inválido</td>\n",
       "      <td>1</td>\n",
       "    </tr>\n",
       "    <tr>\n",
       "      <th>1407349</th>\n",
       "      <td>2020</td>\n",
       "      <td>4</td>\n",
       "      <td>Inválido</td>\n",
       "      <td>1</td>\n",
       "    </tr>\n",
       "    <tr>\n",
       "      <th>1407378</th>\n",
       "      <td>2020</td>\n",
       "      <td>4</td>\n",
       "      <td>Inválido</td>\n",
       "      <td>1</td>\n",
       "    </tr>\n",
       "  </tbody>\n",
       "</table>\n",
       "<p>11909 rows × 4 columns</p>\n",
       "</div>"
      ],
      "text/plain": [
       "          ano  mes tipo_pensao  total\n",
       "22766    2024    4    Inválido      1\n",
       "23037    2024    4    Inválido      1\n",
       "23143    2024    4    Inválido      1\n",
       "23267    2024    4    Inválido      1\n",
       "23699    2024    4    Inválido      1\n",
       "...       ...  ...         ...    ...\n",
       "1407263  2020    4    Inválido      1\n",
       "1407268  2020    4    Inválido      1\n",
       "1407301  2020    4    Inválido      1\n",
       "1407349  2020    4    Inválido      1\n",
       "1407378  2020    4    Inválido      1\n",
       "\n",
       "[11909 rows x 4 columns]"
      ]
     },
     "execution_count": 22,
     "metadata": {},
     "output_type": "execute_result"
    }
   ],
   "source": [
    "df[df['tipo_pensao']=='Inválido'] # Corresponde a 0.82% do total"
   ]
  },
  {
   "cell_type": "code",
   "execution_count": 24,
   "metadata": {},
   "outputs": [],
   "source": [
    "\n",
    "df = df.drop(df.index[df['tipo_pensao']=='Inválido']) # Esses dados que foram descartados correspondem a 0.82% do total "
   ]
  },
  {
   "cell_type": "code",
   "execution_count": 26,
   "metadata": {},
   "outputs": [
    {
     "data": {
      "text/plain": [
       "array(['(Ex) conjuge / (Ex) companheiro (a) / Viuvo (a)',\n",
       "       'Filho (a) / Menor sob guarda / Enteado (a)', 'Pai / Mae',\n",
       "       'Outros', 'Pessoa designada', 'Irmao (a)', 'Neto (a)'],\n",
       "      dtype=object)"
      ]
     },
     "execution_count": 26,
     "metadata": {},
     "output_type": "execute_result"
    }
   ],
   "source": [
    "df['tipo_pensao'].unique()"
   ]
  },
  {
   "cell_type": "code",
   "execution_count": 28,
   "metadata": {},
   "outputs": [],
   "source": [
    "pensoes = {'(Ex) conjuge / (Ex) companheiro (a) / Viuvo (a)':'Cônjuge ou ex-cônjuge',\n",
    "'Filho (a) / Menor sob guarda / Enteado (a)':\"Filhos, netos, enteados ou menores em tutela\",\n",
    "'Pai / Mae':'Pais',\n",
    "'Outros':'Outros',\n",
    "'Pessoa designada':'Pessoa designada',\n",
    "'Irmao (a)':'Irmão (ã)',\n",
    "'Neto (a)':'Filhos, netos, enteados ou menores em tutela\"'}"
   ]
  },
  {
   "cell_type": "code",
   "execution_count": 29,
   "metadata": {},
   "outputs": [],
   "source": [
    "def categorizando(x):\n",
    "    if x in pensoes:\n",
    "        return pensoes[x]\n"
   ]
  },
  {
   "cell_type": "code",
   "execution_count": 30,
   "metadata": {},
   "outputs": [],
   "source": [
    "df['tipo_pensao_agrupado'] = df['tipo_pensao'].apply(categorizando)"
   ]
  },
  {
   "cell_type": "code",
   "execution_count": 31,
   "metadata": {},
   "outputs": [
    {
     "data": {
      "text/html": [
       "<div>\n",
       "<style scoped>\n",
       "    .dataframe tbody tr th:only-of-type {\n",
       "        vertical-align: middle;\n",
       "    }\n",
       "\n",
       "    .dataframe tbody tr th {\n",
       "        vertical-align: top;\n",
       "    }\n",
       "\n",
       "    .dataframe thead th {\n",
       "        text-align: right;\n",
       "    }\n",
       "</style>\n",
       "<table border=\"1\" class=\"dataframe\">\n",
       "  <thead>\n",
       "    <tr style=\"text-align: right;\">\n",
       "      <th></th>\n",
       "      <th>ano</th>\n",
       "      <th>mes</th>\n",
       "      <th>tipo_pensao</th>\n",
       "      <th>tipo_pensao_agrupado</th>\n",
       "      <th>total</th>\n",
       "    </tr>\n",
       "  </thead>\n",
       "  <tbody>\n",
       "    <tr>\n",
       "      <th>0</th>\n",
       "      <td>2024</td>\n",
       "      <td>4</td>\n",
       "      <td>(Ex) conjuge / (Ex) companheiro (a) / Viuvo (a)</td>\n",
       "      <td>Cônjuge ou ex-cônjuge</td>\n",
       "      <td>1</td>\n",
       "    </tr>\n",
       "    <tr>\n",
       "      <th>1</th>\n",
       "      <td>2024</td>\n",
       "      <td>4</td>\n",
       "      <td>(Ex) conjuge / (Ex) companheiro (a) / Viuvo (a)</td>\n",
       "      <td>Cônjuge ou ex-cônjuge</td>\n",
       "      <td>1</td>\n",
       "    </tr>\n",
       "    <tr>\n",
       "      <th>2</th>\n",
       "      <td>2024</td>\n",
       "      <td>4</td>\n",
       "      <td>(Ex) conjuge / (Ex) companheiro (a) / Viuvo (a)</td>\n",
       "      <td>Cônjuge ou ex-cônjuge</td>\n",
       "      <td>1</td>\n",
       "    </tr>\n",
       "    <tr>\n",
       "      <th>3</th>\n",
       "      <td>2024</td>\n",
       "      <td>4</td>\n",
       "      <td>(Ex) conjuge / (Ex) companheiro (a) / Viuvo (a)</td>\n",
       "      <td>Cônjuge ou ex-cônjuge</td>\n",
       "      <td>1</td>\n",
       "    </tr>\n",
       "    <tr>\n",
       "      <th>4</th>\n",
       "      <td>2024</td>\n",
       "      <td>4</td>\n",
       "      <td>Filho (a) / Menor sob guarda / Enteado (a)</td>\n",
       "      <td>Filhos, netos, enteados ou menores em tutela</td>\n",
       "      <td>1</td>\n",
       "    </tr>\n",
       "    <tr>\n",
       "      <th>...</th>\n",
       "      <td>...</td>\n",
       "      <td>...</td>\n",
       "      <td>...</td>\n",
       "      <td>...</td>\n",
       "      <td>...</td>\n",
       "    </tr>\n",
       "    <tr>\n",
       "      <th>1447457</th>\n",
       "      <td>2020</td>\n",
       "      <td>4</td>\n",
       "      <td>(Ex) conjuge / (Ex) companheiro (a) / Viuvo (a)</td>\n",
       "      <td>Cônjuge ou ex-cônjuge</td>\n",
       "      <td>1</td>\n",
       "    </tr>\n",
       "    <tr>\n",
       "      <th>1447458</th>\n",
       "      <td>2020</td>\n",
       "      <td>4</td>\n",
       "      <td>(Ex) conjuge / (Ex) companheiro (a) / Viuvo (a)</td>\n",
       "      <td>Cônjuge ou ex-cônjuge</td>\n",
       "      <td>1</td>\n",
       "    </tr>\n",
       "    <tr>\n",
       "      <th>1447459</th>\n",
       "      <td>2020</td>\n",
       "      <td>4</td>\n",
       "      <td>(Ex) conjuge / (Ex) companheiro (a) / Viuvo (a)</td>\n",
       "      <td>Cônjuge ou ex-cônjuge</td>\n",
       "      <td>1</td>\n",
       "    </tr>\n",
       "    <tr>\n",
       "      <th>1447460</th>\n",
       "      <td>2020</td>\n",
       "      <td>4</td>\n",
       "      <td>Filho (a) / Menor sob guarda / Enteado (a)</td>\n",
       "      <td>Filhos, netos, enteados ou menores em tutela</td>\n",
       "      <td>1</td>\n",
       "    </tr>\n",
       "    <tr>\n",
       "      <th>1447461</th>\n",
       "      <td>2020</td>\n",
       "      <td>4</td>\n",
       "      <td>(Ex) conjuge / (Ex) companheiro (a) / Viuvo (a)</td>\n",
       "      <td>Cônjuge ou ex-cônjuge</td>\n",
       "      <td>1</td>\n",
       "    </tr>\n",
       "  </tbody>\n",
       "</table>\n",
       "<p>1435553 rows × 5 columns</p>\n",
       "</div>"
      ],
      "text/plain": [
       "          ano  mes                                      tipo_pensao  \\\n",
       "0        2024    4  (Ex) conjuge / (Ex) companheiro (a) / Viuvo (a)   \n",
       "1        2024    4  (Ex) conjuge / (Ex) companheiro (a) / Viuvo (a)   \n",
       "2        2024    4  (Ex) conjuge / (Ex) companheiro (a) / Viuvo (a)   \n",
       "3        2024    4  (Ex) conjuge / (Ex) companheiro (a) / Viuvo (a)   \n",
       "4        2024    4       Filho (a) / Menor sob guarda / Enteado (a)   \n",
       "...       ...  ...                                              ...   \n",
       "1447457  2020    4  (Ex) conjuge / (Ex) companheiro (a) / Viuvo (a)   \n",
       "1447458  2020    4  (Ex) conjuge / (Ex) companheiro (a) / Viuvo (a)   \n",
       "1447459  2020    4  (Ex) conjuge / (Ex) companheiro (a) / Viuvo (a)   \n",
       "1447460  2020    4       Filho (a) / Menor sob guarda / Enteado (a)   \n",
       "1447461  2020    4  (Ex) conjuge / (Ex) companheiro (a) / Viuvo (a)   \n",
       "\n",
       "                                 tipo_pensao_agrupado  total  \n",
       "0                               Cônjuge ou ex-cônjuge      1  \n",
       "1                               Cônjuge ou ex-cônjuge      1  \n",
       "2                               Cônjuge ou ex-cônjuge      1  \n",
       "3                               Cônjuge ou ex-cônjuge      1  \n",
       "4        Filhos, netos, enteados ou menores em tutela      1  \n",
       "...                                               ...    ...  \n",
       "1447457                         Cônjuge ou ex-cônjuge      1  \n",
       "1447458                         Cônjuge ou ex-cônjuge      1  \n",
       "1447459                         Cônjuge ou ex-cônjuge      1  \n",
       "1447460  Filhos, netos, enteados ou menores em tutela      1  \n",
       "1447461                         Cônjuge ou ex-cônjuge      1  \n",
       "\n",
       "[1435553 rows x 5 columns]"
      ]
     },
     "execution_count": 31,
     "metadata": {},
     "output_type": "execute_result"
    }
   ],
   "source": [
    "df= df[['ano', 'mes', 'tipo_pensao','tipo_pensao_agrupado', 'total']]\n",
    "df"
   ]
  },
  {
   "cell_type": "code",
   "execution_count": 37,
   "metadata": {},
   "outputs": [
    {
     "data": {
      "text/plain": [
       "array(['Cônjuge ou ex-cônjuge',\n",
       "       'Filhos, netos, enteados ou menores em tutela', 'Pais', 'Outros',\n",
       "       'Pessoa designada', 'Irmão (ã)',\n",
       "       'Filhos, netos, enteados ou menores em tutela\"'], dtype=object)"
      ]
     },
     "execution_count": 37,
     "metadata": {},
     "output_type": "execute_result"
    }
   ],
   "source": [
    "df['tipo_pensao_agrupado'].unique()"
   ]
  },
  {
   "cell_type": "code",
   "execution_count": 33,
   "metadata": {},
   "outputs": [
    {
     "name": "stdout",
     "output_type": "stream",
     "text": [
      "<class 'pandas.core.frame.DataFrame'>\n",
      "Int64Index: 1435553 entries, 0 to 1447461\n",
      "Data columns (total 5 columns):\n",
      " #   Column                Non-Null Count    Dtype \n",
      "---  ------                --------------    ----- \n",
      " 0   ano                   1435553 non-null  Int64 \n",
      " 1   mes                   1435553 non-null  Int64 \n",
      " 2   tipo_pensao           1435553 non-null  object\n",
      " 3   tipo_pensao_agrupado  1435553 non-null  object\n",
      " 4   total                 1435553 non-null  Int64 \n",
      "dtypes: Int64(3), object(2)\n",
      "memory usage: 69.8+ MB\n"
     ]
    }
   ],
   "source": [
    "df.info()"
   ]
  },
  {
   "cell_type": "code",
   "execution_count": 34,
   "metadata": {},
   "outputs": [],
   "source": [
    "client = bigquery.Client()\n",
    "dataset_ref = client.dataset('perfil_remuneracao')"
   ]
  },
  {
   "cell_type": "code",
   "execution_count": 35,
   "metadata": {},
   "outputs": [],
   "source": [
    "schema=[bigquery.SchemaField('ano','INTEGER',description='Ano de referência da observação'),\n",
    "        bigquery.SchemaField('mes','INTEGER',description='Mês de referência da observação'),        \n",
    "        bigquery.SchemaField('tipo_pensao','STRING',description='Tipo de pensão'),\n",
    "        bigquery.SchemaField('tipo_pensao_agrupado','STRING',description='Categorização das pensões'),\n",
    "        bigquery.SchemaField('total','INTEGER',description='Quantidade total da observação')\n",
    "        ]"
   ]
  },
  {
   "cell_type": "code",
   "execution_count": 36,
   "metadata": {},
   "outputs": [
    {
     "data": {
      "text/plain": [
       "LoadJob<project=repositoriodedadosgpsp, location=US, id=4ad99ba7-fbc6-4801-86d1-ed134f699d9d>"
      ]
     },
     "execution_count": 36,
     "metadata": {},
     "output_type": "execute_result"
    }
   ],
   "source": [
    "table_ref = dataset_ref.table('SIAPE_pensionistas_total') \n",
    "job_config = bigquery.LoadJobConfig(schema=schema)\n",
    "job = client.load_table_from_dataframe(df, table_ref, job_config=job_config)\n",
    "job.result() \n"
   ]
  }
 ],
 "metadata": {
  "kernelspec": {
   "display_name": "base",
   "language": "python",
   "name": "python3"
  },
  "language_info": {
   "codemirror_mode": {
    "name": "ipython",
    "version": 3
   },
   "file_extension": ".py",
   "mimetype": "text/x-python",
   "name": "python",
   "nbconvert_exporter": "python",
   "pygments_lexer": "ipython3",
   "version": "3.11.4"
  }
 },
 "nbformat": 4,
 "nbformat_minor": 2
}
