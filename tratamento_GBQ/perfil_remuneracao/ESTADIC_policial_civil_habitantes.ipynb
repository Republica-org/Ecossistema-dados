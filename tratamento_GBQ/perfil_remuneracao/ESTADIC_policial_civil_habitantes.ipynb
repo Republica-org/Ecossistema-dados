{
  "nbformat": 4,
  "nbformat_minor": 0,
  "metadata": {
    "colab": {
      "provenance": []
    },
    "kernelspec": {
      "name": "python3",
      "display_name": "Python 3"
    },
    "language_info": {
      "name": "python"
    }
  },
  "cells": [
    {
      "cell_type": "markdown",
      "source": [
        "# Dependência"
      ],
      "metadata": {
        "id": "T8I1DS3CICov"
      }
    },
    {
      "cell_type": "code",
      "source": [
        "# Install required Google Cloud packages (commented out as these are typically one-time setup commands)\n",
        "# !pip install gcloud\n",
        "# !gcloud auth application-default login\n",
        "\n",
        "# Import necessary Python libraries\n",
        "import pandas as pd                # Data manipulation and analysis\n",
        "import numpy as np                 # Numerical computing\n",
        "import time                        # Time-related functions\n",
        "import os                          # Operating system interfaces\n",
        "import pandas_gbq                  # Pandas integration with BigQuery\n",
        "from google.cloud import bigquery  # BigQuery client library\n",
        "import glob                        # File path pattern matching\n",
        "import openpyxl                    # Excel file handling\n",
        "import csv                         # CSV file handling\n",
        "import re                          # Regular expressions\n",
        "\n",
        "# Note: The actual imports remain exactly as in the original code"
      ],
      "metadata": {
        "id": "siLBuXxJH_Pb"
      },
      "execution_count": null,
      "outputs": []
    },
    {
      "cell_type": "markdown",
      "source": [
        "# Tratamento"
      ],
      "metadata": {
        "id": "refhcbOwIFEK"
      }
    },
    {
      "cell_type": "code",
      "source": [
        "# Load Public Safety data from Excel file\n",
        "df = pd.read_excel(\"Base_Estadic_2023(2).xlsx\", sheet_name='Segurança Pública')\n",
        "\n",
        "# Select and rename relevant columns\n",
        "df = df[['Sigla UF', 'PopUF', 'ESEG491', 'ESEG492', 'ESEG493']]\n",
        "df = df.rename(columns={\n",
        "    'ESEG491': 'policia_civil_efetivo_homem',\n",
        "    'ESEG492': 'policia_civil_efetivo_mulher',\n",
        "    'ESEG493': 'policia_civil_efetivo_total',\n",
        "    'PopUF': 'pop_projetada',\n",
        "    'Sigla UF': 'sigla_uf'\n",
        "})\n",
        "\n",
        "# Handle missing/refused data by replacing with 0\n",
        "df['policia_civil_efetivo_total'] = df['policia_civil_efetivo_total'].replace('Recusa', 0)\n",
        "df['policia_civil_efetivo_homem'] = df['policia_civil_efetivo_homem'].replace(['Recusa', 'Não informou'], 0)\n",
        "df['policia_civil_efetivo_mulher'] = df['policia_civil_efetivo_mulher'].replace(['Recusa', 'Não informou'], 0)\n",
        "\n",
        "# Convert to numeric (note: these lines don't modify the dataframe without assignment)\n",
        "df['policia_civil_efetivo_total'] = df['policia_civil_efetivo_total'].astype(str).astype(int)\n",
        "df['policia_civil_efetivo_homem'] = df['policia_civil_efetivo_homem'].astype(str).astype(int)\n",
        "df['policia_civil_efetivo_mulher'] = df['policia_civil_efetivo_mulher'].astype(str).astype(int)\n",
        "\n",
        "# Calculate police per 1000 population rate\n",
        "df['taxa'] = df['policia_civil_efetivo_total'] / df['pop_projetada'] * 1000\n",
        "\n",
        "# Add metadata columns\n",
        "df['ano'] = 2023\n",
        "df['tema'] = 'seguranca_publica'"
      ],
      "metadata": {
        "id": "-BQNIcT2IfhA"
      },
      "execution_count": null,
      "outputs": []
    },
    {
      "cell_type": "code",
      "source": [
        "df.info()"
      ],
      "metadata": {
        "colab": {
          "base_uri": "https://localhost:8080/"
        },
        "id": "XK1f8h8KpeYG",
        "outputId": "eeae172a-db03-4eb1-ba00-191b393325a7"
      },
      "execution_count": null,
      "outputs": [
        {
          "output_type": "stream",
          "name": "stdout",
          "text": [
            "<class 'pandas.core.frame.DataFrame'>\n",
            "RangeIndex: 27 entries, 0 to 26\n",
            "Data columns (total 8 columns):\n",
            " #   Column                        Non-Null Count  Dtype  \n",
            "---  ------                        --------------  -----  \n",
            " 0   sigla_uf                      27 non-null     object \n",
            " 1   pop_projetada                 27 non-null     int64  \n",
            " 2   policia_civil_efetivo_homem   27 non-null     int64  \n",
            " 3   policia_civil_efetivo_mulher  27 non-null     int64  \n",
            " 4   policia_civil_efetivo_total   27 non-null     int64  \n",
            " 5   taxa                          27 non-null     float64\n",
            " 6   ano                           27 non-null     int64  \n",
            " 7   tema                          27 non-null     object \n",
            "dtypes: float64(1), int64(5), object(2)\n",
            "memory usage: 1.8+ KB\n"
          ]
        }
      ]
    },
    {
      "cell_type": "markdown",
      "source": [
        "# Upload"
      ],
      "metadata": {
        "id": "egWc_yrjIHOf"
      }
    },
    {
      "cell_type": "code",
      "source": [
        "# Define the BigQuery table schema with field descriptions (in Portuguese)\n",
        "schema = [\n",
        "    bigquery.SchemaField('ano', 'INTEGER', description='Ano de implementação da legislação.'),\n",
        "    bigquery.SchemaField('tema', 'STRING', description='Tema de origem daquele dado na ESTADIC'),\n",
        "    bigquery.SchemaField('sigla_uf', 'STRING', description='Sigla da Unidade da Federação.'),\n",
        "    bigquery.SchemaField('policia_civil_efetivo_homem', 'INTEGER',\n",
        "                       description='Quantitativo total de homens policiais civis.'),\n",
        "    bigquery.SchemaField('policia_civil_efetivo_mulher', 'INTEGER',\n",
        "                       description='Quantitativo total de mulheres policiais civis.'),\n",
        "    bigquery.SchemaField('policia_civil_efetivo_total', 'INTEGER',\n",
        "                       description='Quantitativo total de efetivo de policiais civis.'),\n",
        "    bigquery.SchemaField('pop_projetada', 'INTEGER',\n",
        "                       description='População projetada pelo IBGE para o ano de referência'),\n",
        "    bigquery.SchemaField('taxa', 'FLOAT',\n",
        "                       description='taxa de policiais por 1000 habitantes')\n",
        "]\n",
        "\n",
        "# Initialize BigQuery client connection\n",
        "client = bigquery.Client(project='repositoriodedadosgpsp')\n",
        "\n",
        "# Create reference to target dataset\n",
        "dataset_ref = client.dataset('perfil_remuneracao')\n",
        "\n",
        "# Create reference to target table with standardized naming convention:\n",
        "# Format: FONTE_algo_intuitivo_dado (ESTADIC_policial_civil_habitantes_v1)\n",
        "table_ref = dataset_ref.table('ESTADIC_policial_civil_habitantes_v1')\n",
        "\n",
        "# Configure the load job with our schema definition\n",
        "job_config = bigquery.LoadJobConfig(schema=schema)\n",
        "\n",
        "# Execute the load job to transfer DataFrame to BigQuery\n",
        "job = client.load_table_from_dataframe(\n",
        "    dataframe=df,\n",
        "    destination=table_ref,\n",
        "    job_config=job_config\n",
        ")\n",
        "\n",
        "# Wait for the job to complete\n",
        "job.result()"
      ],
      "metadata": {
        "id": "hGgSpqrpI21R"
      },
      "execution_count": null,
      "outputs": []
    }
  ]
}