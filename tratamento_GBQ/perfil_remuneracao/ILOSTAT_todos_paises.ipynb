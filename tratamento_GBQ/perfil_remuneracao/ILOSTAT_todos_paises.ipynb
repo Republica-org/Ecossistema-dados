{
  "cells": [
    {
      "cell_type": "markdown",
      "source": [
        "# Dependências"
      ],
      "metadata": {
        "id": "bpJebScVqrAd"
      }
    },
    {
      "cell_type": "code",
      "source": [
        "# Install required Google Cloud packages (commented out as these are typically one-time setup commands)\n",
        "# !pip install gcloud\n",
        "# !gcloud auth application-default login\n",
        "\n",
        "# Import necessary Python libraries\n",
        "import pandas as pd                # Data manipulation and analysis\n",
        "import numpy as np                 # Numerical computing\n",
        "import time                        # Time-related functions\n",
        "import os                          # Operating system interfaces\n",
        "import pandas_gbq                  # Pandas integration with BigQuery\n",
        "from google.cloud import bigquery  # BigQuery client library\n",
        "import glob                        # File path pattern matching\n",
        "import openpyxl                    # Excel file handling\n",
        "import csv                         # CSV file handling\n",
        "import re                          # Regular expressions\n",
        "\n",
        "# Note: The actual imports remain exactly as in the original code"
      ],
      "metadata": {
        "id": "fx_FLlUYqllP"
      },
      "execution_count": null,
      "outputs": []
    },
    {
      "cell_type": "markdown",
      "source": [
        "# Tratamento"
      ],
      "metadata": {
        "id": "u3T6_6Z5FeEJ"
      }
    },
    {
      "cell_type": "code",
      "source": [
        "# Load ILOSTAT data from CSV file\n",
        "df = pd.read_csv(\"ilostat_todos_paises4.csv\")\n",
        "\n",
        "# Select and rename relevant columns\n",
        "df = df[['ref_area.label', 'source.label', 'time', 'classif2.label', 'obs_value']]\n",
        "df = df.rename(columns={\n",
        "    'ref_area.label':'Reference area',\n",
        "    'source.label':'Source',\n",
        "    'time':'Time',\n",
        "    'classif2.label':'Setor',\n",
        "    'obs_value':'Total'\n",
        "})\n",
        "\n",
        "# Clean sector labels by removing prefix\n",
        "df['Setor'] = df['Setor'].str.replace('Institutional sector: ', '')\n",
        "\n",
        "# Create pivot table to calculate totals per country and year\n",
        "x = df[['Reference area', 'Source', 'Time', 'Setor', 'Total']].pivot_table(\n",
        "    index=['Reference area','Time'],\n",
        "    values='Total',\n",
        "    aggfunc=np.sum\n",
        ")\n",
        "y = pd.DataFrame(x)\n",
        "total = y.reset_index()\n",
        "\n",
        "# Prepare main dataframe with selected columns\n",
        "df = df[['Reference area', 'Source', 'Time', 'Setor', 'Total']]\n",
        "df = df.rename(columns={\"Total\":\"quantidade_vinculos\"})\n",
        "\n",
        "# Merge with totals to calculate proportions\n",
        "df1 = df.merge(total, right_on=['Reference area','Time'], left_on=['Reference area','Time'])\n",
        "\n",
        "# Calculate proportion of each sector\n",
        "df1['prop'] = df1['quantidade_vinculos']/df1['Total']\n",
        "\n",
        "# Replace proportions of 1 with NaN (total rows)\n",
        "df1['prop'] = np.where(df1['prop']==1, np.nan, df1['prop'])\n",
        "\n",
        "# Filter for selected countries of interest\n",
        "paises = [\"Japan\",\"United Kingdom\",\"Canada\",\"Australia\",\"Germany\"]\n",
        "selecionados = df1[df1['Reference area'].isin(paises)]\n",
        "\n",
        "# Rename columns to final names\n",
        "df1 = df1.rename(columns={\n",
        "    'Time':'ano',\n",
        "    'Reference area':'pais',\n",
        "    'Source':'fonte_pesquisa',\n",
        "    'Total':'total_ano',\n",
        "    'Setor':'setor'\n",
        "})\n",
        "\n",
        "# Identify rows without proportion values\n",
        "linhas_sem_prop = df1[df1['prop'].isna()]\n",
        "print(linhas_sem_prop)"
      ],
      "metadata": {
        "id": "vAq2xg5ZqyuM"
      },
      "execution_count": null,
      "outputs": []
    },
    {
      "cell_type": "code",
      "execution_count": null,
      "metadata": {
        "colab": {
          "base_uri": "https://localhost:8080/"
        },
        "id": "hAkZqiU1pu0J",
        "outputId": "46bde5ba-393b-427c-8174-71b01ca0d460"
      },
      "outputs": [
        {
          "output_type": "execute_result",
          "data": {
            "text/plain": [
              "2010"
            ]
          },
          "metadata": {},
          "execution_count": 163
        }
      ],
      "source": [
        "min(df1['ano'])"
      ]
    },
    {
      "cell_type": "code",
      "source": [
        "df1.info()"
      ],
      "metadata": {
        "colab": {
          "base_uri": "https://localhost:8080/"
        },
        "id": "l08ZUrCf1V-i",
        "outputId": "ed625701-6c5f-4aef-dda8-0216a9ca981a"
      },
      "execution_count": null,
      "outputs": [
        {
          "output_type": "stream",
          "name": "stdout",
          "text": [
            "<class 'pandas.core.frame.DataFrame'>\n",
            "RangeIndex: 2105 entries, 0 to 2104\n",
            "Data columns (total 7 columns):\n",
            " #   Column               Non-Null Count  Dtype  \n",
            "---  ------               --------------  -----  \n",
            " 0   pais                 2105 non-null   object \n",
            " 1   fonte_pesquisa       2105 non-null   object \n",
            " 2   ano                  2105 non-null   int64  \n",
            " 3   setor                2105 non-null   object \n",
            " 4   quantidade_vinculos  2105 non-null   float64\n",
            " 5   total_ano            2105 non-null   float64\n",
            " 6   prop                 2104 non-null   float64\n",
            "dtypes: float64(3), int64(1), object(3)\n",
            "memory usage: 115.2+ KB\n"
          ]
        }
      ]
    },
    {
      "cell_type": "code",
      "source": [
        "df1['setor'].unique()"
      ],
      "metadata": {
        "id": "DgFjDPu1ATg2",
        "outputId": "8fbf69a5-4e8e-4448-935a-97b927b2688a",
        "colab": {
          "base_uri": "https://localhost:8080/"
        }
      },
      "execution_count": null,
      "outputs": [
        {
          "output_type": "execute_result",
          "data": {
            "text/plain": [
              "array(['Public', 'Private'], dtype=object)"
            ]
          },
          "metadata": {},
          "execution_count": 165
        }
      ]
    },
    {
      "cell_type": "markdown",
      "source": [
        "# Upload"
      ],
      "metadata": {
        "id": "vzqARoP7FaUz"
      }
    },
    {
      "cell_type": "code",
      "source": [
        "# Define the BigQuery table schema with Portuguese descriptions\n",
        "schema = [\n",
        "    bigquery.SchemaField('pais', 'STRING', description='Nome do país selecionado'),\n",
        "    bigquery.SchemaField('fonte_pesquisa', 'STRING',\n",
        "                       description='De qual pesquisa nacional foi extraído aquele dado.'),\n",
        "    bigquery.SchemaField('ano', 'INTEGER',\n",
        "                       description='Ano de coleta da informação'),\n",
        "    bigquery.SchemaField('setor', 'STRING',\n",
        "                       description='se o setor é público ou privado'),\n",
        "    bigquery.SchemaField('quantidade_vinculos', 'FLOAT',\n",
        "                       description='total de pessoas que trabalham naquele setor'),\n",
        "    bigquery.SchemaField('total_ano', 'FLOAT',\n",
        "                       description='total de pessoas que trabalham naquele ano'),\n",
        "    bigquery.SchemaField('prop', 'FLOAT',\n",
        "                       description='Proporção de vínculos naquele setor'),\n",
        "]\n",
        "\n",
        "# Initialize BigQuery client connection\n",
        "client = bigquery.Client(project='repositoriodedadosgpsp')\n",
        "\n",
        "# Create reference to target dataset\n",
        "dataset_ref = client.dataset('perfil_remuneracao')\n",
        "\n",
        "# Create reference to target table with standardized naming convention:\n",
        "# FONTE_algo_intuitivo_dado (ILOSTAT_todos_paises_v3)\n",
        "table_ref = dataset_ref.table('ILOSTAT_todos_paises_v3')\n",
        "\n",
        "# Configure the load job with our schema definition\n",
        "job_config = bigquery.LoadJobConfig(schema=schema)\n",
        "\n",
        "# Execute the load job to upload DataFrame to BigQuery\n",
        "job = client.load_table_from_dataframe(\n",
        "    dataframe=df1,\n",
        "    destination=table_ref,\n",
        "    job_config=job_config\n",
        ")\n",
        "\n",
        "# Wait for the job to complete\n",
        "job.result()"
      ],
      "metadata": {
        "id": "rZXr9CZrr6Zk"
      },
      "execution_count": null,
      "outputs": []
    }
  ],
  "metadata": {
    "kernelspec": {
      "display_name": "Python 3",
      "language": "python",
      "name": "python3"
    },
    "language_info": {
      "codemirror_mode": {
        "name": "ipython",
        "version": 3
      },
      "file_extension": ".py",
      "mimetype": "text/x-python",
      "name": "python",
      "nbconvert_exporter": "python",
      "pygments_lexer": "ipython3",
      "version": "3.10.11"
    },
    "orig_nbformat": 4,
    "colab": {
      "provenance": []
    }
  },
  "nbformat": 4,
  "nbformat_minor": 0
}