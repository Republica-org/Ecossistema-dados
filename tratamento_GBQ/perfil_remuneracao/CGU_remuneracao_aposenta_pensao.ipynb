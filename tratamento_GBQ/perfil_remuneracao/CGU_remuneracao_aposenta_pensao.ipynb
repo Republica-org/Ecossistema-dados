{
 "cells": [
  {
   "cell_type": "code",
   "execution_count": null,
   "metadata": {},
   "outputs": [],
   "source": [
    "##importando pacotes\n",
    "import pandas as pd\n",
    "import numpy as np\n",
    "import time\n",
    "import os\n",
    "import pandas_gbq\n",
    "from google.cloud import bigquery\n",
    "import glob\n",
    "import openpyxl\n",
    "import csv\n",
    "import re"
   ]
  },
  {
   "cell_type": "code",
   "execution_count": null,
   "metadata": {},
   "outputs": [],
   "source": [
    "# Initialize a BigQuery client\n",
    "client = bigquery.Client()\n",
    "\n",
    "# Specify your query\n",
    "\n",
    "\n",
    "query20 = \"\"\"\n",
    "WITH Medias AS (\n",
    "  SELECT 'aposentados_civil' AS detalhamento, AVG(REMUNERACAO_BASICA_BRUTA_EM_REAIS) AS media\n",
    "  FROM `repositoriodedadosgpsp.portal_transparencia_cgu.{ano}_nov_siape_aposentados_remuneracao`\n",
    "  UNION ALL\n",
    "  SELECT 'pensionista_civil' AS detalhamento, AVG(REMUNERACAO_BASICA_BRUTA_EM_REAIS) AS media\n",
    "  FROM `repositoriodedadosgpsp.portal_transparencia_cgu.{ano}_nov_siape_pensionista_remuneracao`\n",
    "  UNION ALL\n",
    "  SELECT 'militar_reserva_reforma' AS detalhamento, AVG(REMUNERACAO_BASICA_BRUTA_EM_REAIS) AS media\n",
    "  FROM `repositoriodedadosgpsp.portal_transparencia_cgu.{ano}_nov_militares_reserva_reforma_remuneracao`\n",
    "  UNION ALL\n",
    "  SELECT 'pensionista_militar' AS detalhamento, AVG(REMUNERACAO_BASICA_BRUTA_EM_REAIS) AS media\n",
    "  FROM `repositoriodedadosgpsp.portal_transparencia_cgu.{ano}_nov_militares_pensionistas_remuneracao`\n",
    "),\n",
    "\n",
    "Medianas AS (\n",
    "  SELECT 'aposentados_civil' AS detalhamento,\n",
    "         IF(MOD(total_count, 2) = 1, REMUNERACAO_BASICA_BRUTA_EM_REAIS, \n",
    "         (REMUNERACAO_BASICA_BRUTA_EM_REAIS + LAG(REMUNERACAO_BASICA_BRUTA_EM_REAIS, 1) OVER(ORDER BY row_number)) / 2) AS mediana\n",
    "  FROM (\n",
    "    SELECT REMUNERACAO_BASICA_BRUTA_EM_REAIS,\n",
    "           COUNT(REMUNERACAO_BASICA_BRUTA_EM_REAIS) OVER() AS total_count,\n",
    "           ROW_NUMBER() OVER(ORDER BY REMUNERACAO_BASICA_BRUTA_EM_REAIS) AS row_number\n",
    "    FROM `repositoriodedadosgpsp.portal_transparencia_cgu.2020_nov_siape_aposentados_remuneracao`\n",
    "  )\n",
    "  WHERE row_number IN (FLOOR((total_count + 1) / 2), CEIL((total_count + 1) / 2))\n",
    "\n",
    "  UNION ALL\n",
    "\n",
    "  SELECT 'pensionista_civil' AS detalhamento,\n",
    "         IF(MOD(total_count, 2) = 1, REMUNERACAO_BASICA_BRUTA_EM_REAIS, \n",
    "         (REMUNERACAO_BASICA_BRUTA_EM_REAIS + LAG(REMUNERACAO_BASICA_BRUTA_EM_REAIS, 1) OVER(ORDER BY row_number)) / 2) AS mediana\n",
    "  FROM (\n",
    "    SELECT REMUNERACAO_BASICA_BRUTA_EM_REAIS,\n",
    "           COUNT(REMUNERACAO_BASICA_BRUTA_EM_REAIS) OVER() AS total_count,\n",
    "           ROW_NUMBER() OVER(ORDER BY REMUNERACAO_BASICA_BRUTA_EM_REAIS) AS row_number\n",
    "    FROM `repositoriodedadosgpsp.portal_transparencia_cgu.2020_nov_siape_pensionista_remuneracao`\n",
    "    \n",
    "  )\n",
    "  WHERE row_number IN (FLOOR((total_count + 1) / 2), CEIL((total_count + 1) / 2))\n",
    "UNION ALL\n",
    "\n",
    "  SELECT 'militar_reserva_reforma' AS detalhamento,\n",
    "         IF(MOD(total_count, 2) = 1, REMUNERACAO_BASICA_BRUTA_EM_REAIS, \n",
    "         (REMUNERACAO_BASICA_BRUTA_EM_REAIS + LAG(REMUNERACAO_BASICA_BRUTA_EM_REAIS, 1) OVER(ORDER BY row_number)) / 2) AS mediana\n",
    "  FROM (\n",
    "    SELECT REMUNERACAO_BASICA_BRUTA_EM_REAIS,\n",
    "           COUNT(REMUNERACAO_BASICA_BRUTA_EM_REAIS) OVER() AS total_count,\n",
    "           ROW_NUMBER() OVER(ORDER BY REMUNERACAO_BASICA_BRUTA_EM_REAIS) AS row_number\n",
    "    FROM `repositoriodedadosgpsp.portal_transparencia_cgu.2020_nov_militares_reserva_reforma_remuneracao`\n",
    "    \n",
    "  )\n",
    "  WHERE row_number IN (FLOOR((total_count + 1) / 2), CEIL((total_count + 1) / 2))\n",
    "  UNION ALL\n",
    "\n",
    "  SELECT 'pensionista_militar' AS detalhamento,\n",
    "         IF(MOD(total_count, 2) = 1, REMUNERACAO_BASICA_BRUTA_EM_REAIS, \n",
    "         (REMUNERACAO_BASICA_BRUTA_EM_REAIS + LAG(REMUNERACAO_BASICA_BRUTA_EM_REAIS, 1) OVER(ORDER BY row_number)) / 2) AS mediana\n",
    "  FROM (\n",
    "    SELECT REMUNERACAO_BASICA_BRUTA_EM_REAIS,\n",
    "           COUNT(REMUNERACAO_BASICA_BRUTA_EM_REAIS) OVER() AS total_count,\n",
    "           ROW_NUMBER() OVER(ORDER BY REMUNERACAO_BASICA_BRUTA_EM_REAIS) AS row_number\n",
    "    FROM `repositoriodedadosgpsp.portal_transparencia_cgu.2020_nov_militares_pensionistas_remuneracao`\n",
    "    \n",
    "  )\n",
    "  WHERE row_number IN (FLOOR((total_count + 1) / 2), CEIL((total_count + 1) / 2))\n",
    "\n",
    "\n",
    ")\n",
    "\n",
    "SELECT \n",
    "  M.detalhamento,\n",
    "  M.media,\n",
    "  MD.mediana\n",
    "FROM Medias M\n",
    "LEFT JOIN Medianas MD\n",
    "ON M.detalhamento = MD.detalhamento\n",
    "\"\"\"\n",
    "\n",
    "# Execute the query\n",
    "query_job = client.query(query20)"
   ]
  },
  {
   "cell_type": "code",
   "execution_count": null,
   "metadata": {},
   "outputs": [],
   "source": [
    "df20 = client.query(query20).to_dataframe()"
   ]
  },
  {
   "cell_type": "code",
   "execution_count": null,
   "metadata": {},
   "outputs": [],
   "source": [
    "df20['ano']=2020\n",
    "df20 = df20[df20['mediana'].notna()]\n",
    "df20"
   ]
  },
  {
   "cell_type": "code",
   "execution_count": null,
   "metadata": {},
   "outputs": [],
   "source": [
    "### Verificar distribuição das remunerações: \n",
    "\n",
    "df['REMUNERACAO_BASICA_BRUTA_EM_REAIS'].describe()"
   ]
  },
  {
   "cell_type": "code",
   "execution_count": null,
   "metadata": {},
   "outputs": [],
   "source": [
    "anos = [2020,2021,2022,2023]"
   ]
  },
  {
   "cell_type": "code",
   "execution_count": null,
   "metadata": {},
   "outputs": [],
   "source": [
    "resultados=[]"
   ]
  },
  {
   "cell_type": "code",
   "execution_count": null,
   "metadata": {},
   "outputs": [],
   "source": [
    "for ano in anos: \n",
    "  query = f\"\"\"\n",
    "  WITH Medias AS (\n",
    "    SELECT 'aposentados_civil' AS detalhamento, AVG(REMUNERACAO_BASICA_BRUTA_EM_REAIS) AS media\n",
    "    FROM `repositoriodedadosgpsp.portal_transparencia_cgu.{ano}_nov_siape_aposentados_remuneracao`\n",
    "   UNION ALL\n",
    "   SELECT 'pensionista_civil' AS detalhamento, AVG(REMUNERACAO_BASICA_BRUTA_EM_REAIS) AS media\n",
    "    FROM `repositoriodedadosgpsp.portal_transparencia_cgu.{ano}_nov_siape_pensionista_remuneracao`\n",
    "   UNION ALL\n",
    "   SELECT 'militar_reserva_reforma' AS detalhamento, AVG(REMUNERACAO_BASICA_BRUTA_EM_REAIS) AS media\n",
    "   FROM `repositoriodedadosgpsp.portal_transparencia_cgu.{ano}_nov_militares_reserva_reforma_remuneracao`\n",
    "   UNION ALL\n",
    "   SELECT 'pensionista_militar' AS detalhamento, AVG(REMUNERACAO_BASICA_BRUTA_EM_REAIS) AS media\n",
    "   FROM `repositoriodedadosgpsp.portal_transparencia_cgu.{ano}_nov_militares_pensionistas_remuneracao`\n",
    "  ),\n",
    "\n",
    "  Medianas AS (\n",
    "  SELECT 'aposentados_civil' AS detalhamento,\n",
    "         IF(MOD(total_count, 2) = 1, REMUNERACAO_BASICA_BRUTA_EM_REAIS, \n",
    "         (REMUNERACAO_BASICA_BRUTA_EM_REAIS + LAG(REMUNERACAO_BASICA_BRUTA_EM_REAIS, 1) OVER(ORDER BY row_number)) / 2) AS mediana\n",
    "  FROM (\n",
    "    SELECT REMUNERACAO_BASICA_BRUTA_EM_REAIS,\n",
    "           COUNT(REMUNERACAO_BASICA_BRUTA_EM_REAIS) OVER() AS total_count,\n",
    "           ROW_NUMBER() OVER(ORDER BY REMUNERACAO_BASICA_BRUTA_EM_REAIS) AS row_number\n",
    "    FROM `repositoriodedadosgpsp.portal_transparencia_cgu.{ano}_nov_siape_aposentados_remuneracao`\n",
    "  )\n",
    "  WHERE row_number IN (FLOOR((total_count + 1) / 2), CEIL((total_count + 1) / 2))\n",
    "\n",
    "  UNION ALL\n",
    "\n",
    "  SELECT 'pensionista_civil' AS detalhamento,\n",
    "         IF(MOD(total_count, 2) = 1, REMUNERACAO_BASICA_BRUTA_EM_REAIS, \n",
    "         (REMUNERACAO_BASICA_BRUTA_EM_REAIS + LAG(REMUNERACAO_BASICA_BRUTA_EM_REAIS, 1) OVER(ORDER BY row_number)) / 2) AS mediana\n",
    "  FROM (\n",
    "    SELECT REMUNERACAO_BASICA_BRUTA_EM_REAIS,\n",
    "           COUNT(REMUNERACAO_BASICA_BRUTA_EM_REAIS) OVER() AS total_count,\n",
    "           ROW_NUMBER() OVER(ORDER BY REMUNERACAO_BASICA_BRUTA_EM_REAIS) AS row_number\n",
    "    FROM `repositoriodedadosgpsp.portal_transparencia_cgu.{ano}_nov_siape_pensionista_remuneracao`\n",
    "    \n",
    "  )\n",
    "  WHERE row_number IN (FLOOR((total_count + 1) / 2), CEIL((total_count + 1) / 2))\n",
    "  UNION ALL\n",
    "\n",
    "  SELECT 'militar_reserva_reforma' AS detalhamento,\n",
    "         IF(MOD(total_count, 2) = 1, REMUNERACAO_BASICA_BRUTA_EM_REAIS, \n",
    "         (REMUNERACAO_BASICA_BRUTA_EM_REAIS + LAG(REMUNERACAO_BASICA_BRUTA_EM_REAIS, 1) OVER(ORDER BY row_number)) / 2) AS mediana\n",
    "  FROM (\n",
    "    SELECT REMUNERACAO_BASICA_BRUTA_EM_REAIS,\n",
    "           COUNT(REMUNERACAO_BASICA_BRUTA_EM_REAIS) OVER() AS total_count,\n",
    "           ROW_NUMBER() OVER(ORDER BY REMUNERACAO_BASICA_BRUTA_EM_REAIS) AS row_number\n",
    "    FROM `repositoriodedadosgpsp.portal_transparencia_cgu.{ano}_nov_militares_reserva_reforma_remuneracao`\n",
    "    \n",
    "  )\n",
    "  WHERE row_number IN (FLOOR((total_count + 1) / 2), CEIL((total_count + 1) / 2))\n",
    "  UNION ALL\n",
    "\n",
    "  SELECT 'pensionista_militar' AS detalhamento,\n",
    "         IF(MOD(total_count, 2) = 1, REMUNERACAO_BASICA_BRUTA_EM_REAIS, \n",
    "         (REMUNERACAO_BASICA_BRUTA_EM_REAIS + LAG(REMUNERACAO_BASICA_BRUTA_EM_REAIS, 1) OVER(ORDER BY row_number)) / 2) AS mediana\n",
    "  FROM (\n",
    "    SELECT REMUNERACAO_BASICA_BRUTA_EM_REAIS,\n",
    "           COUNT(REMUNERACAO_BASICA_BRUTA_EM_REAIS) OVER() AS total_count,\n",
    "           ROW_NUMBER() OVER(ORDER BY REMUNERACAO_BASICA_BRUTA_EM_REAIS) AS row_number\n",
    "    FROM `repositoriodedadosgpsp.portal_transparencia_cgu.{ano}_nov_militares_pensionistas_remuneracao`\n",
    "    \n",
    "  )\n",
    "  WHERE row_number IN (FLOOR((total_count + 1) / 2), CEIL((total_count + 1) / 2))\n",
    "\n",
    "\n",
    "  )\n",
    "\n",
    "  SELECT \n",
    "    M.detalhamento,\n",
    "  M.media,\n",
    "  MD.mediana\n",
    "FROM Medias M\n",
    "LEFT JOIN Medianas MD\n",
    "ON M.detalhamento = MD.detalhamento\n",
    "\"\"\"\n",
    "\n",
    "# Execute the query\n",
    "  query_job = client.query(query)\n",
    "  df_name = f\"df{ano}\"\n",
    "  exec(f\"{df_name} = query_job.to_dataframe()\")"
   ]
  },
  {
   "cell_type": "code",
   "execution_count": null,
   "metadata": {},
   "outputs": [],
   "source": [
    "anos2 = [2021,2022,2023]\n",
    "df2020['ano'] = 2020 # Adiciona a coluna 'ano'\n",
    "df2020= df2020[df2020['mediana'].notna()] "
   ]
  },
  {
   "cell_type": "code",
   "execution_count": null,
   "metadata": {},
   "outputs": [],
   "source": [
    "for ano in anos2: \n",
    "   # Cria o nome da variável do DataFrame com base no ano\n",
    "    df_name = f\"df{ano}\"\n",
    "    \n",
    "    # Recupera o DataFrame correspondente ao ano\n",
    "    df = globals().get(df_name)  # Usa globals() para obter a variável global com o nome df{ano}\n",
    "    \n",
    "    if df is not None:  # Verifica se o DataFrame existe\n",
    "        df['ano'] = ano  # Adiciona a coluna 'ano'\n",
    "        df = df[df['mediana'].notna()]  # Filtra linhas onde 'mediana' não é NaN\n",
    "        \n",
    "        # Concatena o DataFrame atual ao df2020\n",
    "        df2020 = pd.concat([df2020, df], ignore_index=True)\n",
    "   "
   ]
  },
  {
   "cell_type": "code",
   "execution_count": null,
   "metadata": {},
   "outputs": [],
   "source": [
    "df=df2020\n",
    "df"
   ]
  },
  {
   "cell_type": "code",
   "execution_count": null,
   "metadata": {},
   "outputs": [],
   "source": [
    "## Fazer a correção pelo ipca: \n",
    "\n",
    "ipca_query = \"\"\"\n",
    "SELECT * FROM `repositoriodedadosgpsp.Datalake.ipca`\n",
    "\"\"\"\n",
    "ipca = client.query(ipca_query).to_dataframe()"
   ]
  },
  {
   "cell_type": "code",
   "execution_count": null,
   "metadata": {},
   "outputs": [],
   "source": [
    "df1=df.merge(ipca[['ano','fator_correcao']], how='left', on='ano')"
   ]
  },
  {
   "cell_type": "code",
   "execution_count": null,
   "metadata": {},
   "outputs": [],
   "source": [
    "df1['media_corrigido']= df1['media']*df1['fator_correcao']\n",
    "df1['mediana_corrigido']= df1['mediana']*df1['fator_correcao']"
   ]
  },
  {
   "cell_type": "code",
   "execution_count": null,
   "metadata": {},
   "outputs": [],
   "source": [
    "df1.columns"
   ]
  },
  {
   "cell_type": "code",
   "execution_count": null,
   "metadata": {},
   "outputs": [],
   "source": [
    "df1=df1[['ano','detalhamento', 'media', 'mediana','media_corrigido', 'mediana_corrigido','fator_correcao']]"
   ]
  },
  {
   "cell_type": "code",
   "execution_count": null,
   "metadata": {},
   "outputs": [],
   "source": [
    "df1.info()"
   ]
  },
  {
   "cell_type": "code",
   "execution_count": null,
   "metadata": {},
   "outputs": [],
   "source": []
  }
 ],
 "metadata": {
  "kernelspec": {
   "display_name": "Python 3",
   "language": "python",
   "name": "python3"
  },
  "language_info": {
   "codemirror_mode": {
    "name": "ipython",
    "version": 3
   },
   "file_extension": ".py",
   "mimetype": "text/x-python",
   "name": "python",
   "nbconvert_exporter": "python",
   "pygments_lexer": "ipython3",
   "version": "3.11.4"
  }
 },
 "nbformat": 4,
 "nbformat_minor": 2
}
