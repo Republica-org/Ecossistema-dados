{
 "cells": [
  {
   "cell_type": "code",
   "execution_count": 1,
   "metadata": {},
   "outputs": [],
   "source": [
    "import numpy as np\n",
    "import pandas as pd\n",
    "import os\n",
    "import time\n",
    "import pandas_gbq\n",
    "from google.cloud import bigquery\n",
    "import re\n"
   ]
  },
  {
   "cell_type": "code",
   "execution_count": 2,
   "metadata": {},
   "outputs": [],
   "source": [
    "os.chdir('G:\\\\Drives compartilhados\\\\República.org\\\\4. Equipes\\\\Dados e Comunicação\\\\DADOS\\\\415 - Repositório de Dados\\\\Dados para subir\\\\Tabelas finais')\n"
   ]
  },
  {
   "cell_type": "code",
   "execution_count": 3,
   "metadata": {},
   "outputs": [
    {
     "data": {
      "text/html": [
       "<div>\n",
       "<style scoped>\n",
       "    .dataframe tbody tr th:only-of-type {\n",
       "        vertical-align: middle;\n",
       "    }\n",
       "\n",
       "    .dataframe tbody tr th {\n",
       "        vertical-align: top;\n",
       "    }\n",
       "\n",
       "    .dataframe thead th {\n",
       "        text-align: right;\n",
       "    }\n",
       "</style>\n",
       "<table border=\"1\" class=\"dataframe\">\n",
       "  <thead>\n",
       "    <tr style=\"text-align: right;\">\n",
       "      <th></th>\n",
       "      <th>ano</th>\n",
       "      <th>escolaridade</th>\n",
       "      <th>raca</th>\n",
       "      <th>liquido</th>\n",
       "    </tr>\n",
       "  </thead>\n",
       "  <tbody>\n",
       "    <tr>\n",
       "      <th>0</th>\n",
       "      <td>1999</td>\n",
       "      <td>1º grau completo ou menos</td>\n",
       "      <td>Amarela</td>\n",
       "      <td>3320,7</td>\n",
       "    </tr>\n",
       "    <tr>\n",
       "      <th>1</th>\n",
       "      <td>1999</td>\n",
       "      <td>1º grau completo ou menos</td>\n",
       "      <td>Branca</td>\n",
       "      <td>3543,9</td>\n",
       "    </tr>\n",
       "    <tr>\n",
       "      <th>2</th>\n",
       "      <td>1999</td>\n",
       "      <td>1º grau completo ou menos</td>\n",
       "      <td>Indígena</td>\n",
       "      <td>3015,5</td>\n",
       "    </tr>\n",
       "    <tr>\n",
       "      <th>3</th>\n",
       "      <td>1999</td>\n",
       "      <td>1º grau completo ou menos</td>\n",
       "      <td>Não informado</td>\n",
       "      <td>3254,2</td>\n",
       "    </tr>\n",
       "    <tr>\n",
       "      <th>4</th>\n",
       "      <td>1999</td>\n",
       "      <td>1º grau completo ou menos</td>\n",
       "      <td>Negra</td>\n",
       "      <td>3312,3</td>\n",
       "    </tr>\n",
       "    <tr>\n",
       "      <th>...</th>\n",
       "      <td>...</td>\n",
       "      <td>...</td>\n",
       "      <td>...</td>\n",
       "      <td>...</td>\n",
       "    </tr>\n",
       "    <tr>\n",
       "      <th>325</th>\n",
       "      <td>2020</td>\n",
       "      <td>Superior completo ou mais</td>\n",
       "      <td>Amarela</td>\n",
       "      <td>9471,4</td>\n",
       "    </tr>\n",
       "    <tr>\n",
       "      <th>326</th>\n",
       "      <td>2020</td>\n",
       "      <td>Superior completo ou mais</td>\n",
       "      <td>Branca</td>\n",
       "      <td>9089,9</td>\n",
       "    </tr>\n",
       "    <tr>\n",
       "      <th>327</th>\n",
       "      <td>2020</td>\n",
       "      <td>Superior completo ou mais</td>\n",
       "      <td>Indígena</td>\n",
       "      <td>7412,6</td>\n",
       "    </tr>\n",
       "    <tr>\n",
       "      <th>328</th>\n",
       "      <td>2020</td>\n",
       "      <td>Superior completo ou mais</td>\n",
       "      <td>Não informado</td>\n",
       "      <td>9111,1</td>\n",
       "    </tr>\n",
       "    <tr>\n",
       "      <th>329</th>\n",
       "      <td>2020</td>\n",
       "      <td>Superior completo ou mais</td>\n",
       "      <td>Negra</td>\n",
       "      <td>7088,6</td>\n",
       "    </tr>\n",
       "  </tbody>\n",
       "</table>\n",
       "<p>330 rows × 4 columns</p>\n",
       "</div>"
      ],
      "text/plain": [
       "      ano               escolaridade           raca liquido\n",
       "0    1999  1º grau completo ou menos        Amarela  3320,7\n",
       "1    1999  1º grau completo ou menos         Branca  3543,9\n",
       "2    1999  1º grau completo ou menos       Indígena  3015,5\n",
       "3    1999  1º grau completo ou menos  Não informado  3254,2\n",
       "4    1999  1º grau completo ou menos          Negra  3312,3\n",
       "..    ...                        ...            ...     ...\n",
       "325  2020  Superior completo ou mais        Amarela  9471,4\n",
       "326  2020  Superior completo ou mais         Branca  9089,9\n",
       "327  2020  Superior completo ou mais       Indígena  7412,6\n",
       "328  2020  Superior completo ou mais  Não informado  9111,1\n",
       "329  2020  Superior completo ou mais          Negra  7088,6\n",
       "\n",
       "[330 rows x 4 columns]"
      ]
     },
     "execution_count": 3,
     "metadata": {},
     "output_type": "execute_result"
    }
   ],
   "source": [
    "df = pd.read_csv('SIAPE_remuneracao_liquida_executivo_raca_escolaridade.csv')\n",
    "df"
   ]
  },
  {
   "cell_type": "code",
   "execution_count": 4,
   "metadata": {},
   "outputs": [
    {
     "data": {
      "text/html": [
       "<div>\n",
       "<style scoped>\n",
       "    .dataframe tbody tr th:only-of-type {\n",
       "        vertical-align: middle;\n",
       "    }\n",
       "\n",
       "    .dataframe tbody tr th {\n",
       "        vertical-align: top;\n",
       "    }\n",
       "\n",
       "    .dataframe thead th {\n",
       "        text-align: right;\n",
       "    }\n",
       "</style>\n",
       "<table border=\"1\" class=\"dataframe\">\n",
       "  <thead>\n",
       "    <tr style=\"text-align: right;\">\n",
       "      <th></th>\n",
       "      <th>ano</th>\n",
       "      <th>grau_instrucao</th>\n",
       "      <th>cor_raca</th>\n",
       "      <th>remuneracao_liquida</th>\n",
       "    </tr>\n",
       "  </thead>\n",
       "  <tbody>\n",
       "    <tr>\n",
       "      <th>0</th>\n",
       "      <td>1999</td>\n",
       "      <td>1º grau completo ou menos</td>\n",
       "      <td>Amarela</td>\n",
       "      <td>3320,7</td>\n",
       "    </tr>\n",
       "    <tr>\n",
       "      <th>1</th>\n",
       "      <td>1999</td>\n",
       "      <td>1º grau completo ou menos</td>\n",
       "      <td>Branca</td>\n",
       "      <td>3543,9</td>\n",
       "    </tr>\n",
       "    <tr>\n",
       "      <th>2</th>\n",
       "      <td>1999</td>\n",
       "      <td>1º grau completo ou menos</td>\n",
       "      <td>Indígena</td>\n",
       "      <td>3015,5</td>\n",
       "    </tr>\n",
       "    <tr>\n",
       "      <th>3</th>\n",
       "      <td>1999</td>\n",
       "      <td>1º grau completo ou menos</td>\n",
       "      <td>Não informado</td>\n",
       "      <td>3254,2</td>\n",
       "    </tr>\n",
       "    <tr>\n",
       "      <th>4</th>\n",
       "      <td>1999</td>\n",
       "      <td>1º grau completo ou menos</td>\n",
       "      <td>Negra</td>\n",
       "      <td>3312,3</td>\n",
       "    </tr>\n",
       "    <tr>\n",
       "      <th>...</th>\n",
       "      <td>...</td>\n",
       "      <td>...</td>\n",
       "      <td>...</td>\n",
       "      <td>...</td>\n",
       "    </tr>\n",
       "    <tr>\n",
       "      <th>325</th>\n",
       "      <td>2020</td>\n",
       "      <td>Superior completo ou mais</td>\n",
       "      <td>Amarela</td>\n",
       "      <td>9471,4</td>\n",
       "    </tr>\n",
       "    <tr>\n",
       "      <th>326</th>\n",
       "      <td>2020</td>\n",
       "      <td>Superior completo ou mais</td>\n",
       "      <td>Branca</td>\n",
       "      <td>9089,9</td>\n",
       "    </tr>\n",
       "    <tr>\n",
       "      <th>327</th>\n",
       "      <td>2020</td>\n",
       "      <td>Superior completo ou mais</td>\n",
       "      <td>Indígena</td>\n",
       "      <td>7412,6</td>\n",
       "    </tr>\n",
       "    <tr>\n",
       "      <th>328</th>\n",
       "      <td>2020</td>\n",
       "      <td>Superior completo ou mais</td>\n",
       "      <td>Não informado</td>\n",
       "      <td>9111,1</td>\n",
       "    </tr>\n",
       "    <tr>\n",
       "      <th>329</th>\n",
       "      <td>2020</td>\n",
       "      <td>Superior completo ou mais</td>\n",
       "      <td>Negra</td>\n",
       "      <td>7088,6</td>\n",
       "    </tr>\n",
       "  </tbody>\n",
       "</table>\n",
       "<p>330 rows × 4 columns</p>\n",
       "</div>"
      ],
      "text/plain": [
       "      ano             grau_instrucao       cor_raca remuneracao_liquida\n",
       "0    1999  1º grau completo ou menos        Amarela              3320,7\n",
       "1    1999  1º grau completo ou menos         Branca              3543,9\n",
       "2    1999  1º grau completo ou menos       Indígena              3015,5\n",
       "3    1999  1º grau completo ou menos  Não informado              3254,2\n",
       "4    1999  1º grau completo ou menos          Negra              3312,3\n",
       "..    ...                        ...            ...                 ...\n",
       "325  2020  Superior completo ou mais        Amarela              9471,4\n",
       "326  2020  Superior completo ou mais         Branca              9089,9\n",
       "327  2020  Superior completo ou mais       Indígena              7412,6\n",
       "328  2020  Superior completo ou mais  Não informado              9111,1\n",
       "329  2020  Superior completo ou mais          Negra              7088,6\n",
       "\n",
       "[330 rows x 4 columns]"
      ]
     },
     "execution_count": 4,
     "metadata": {},
     "output_type": "execute_result"
    }
   ],
   "source": [
    "df.rename(columns={'escolaridade':'grau_instrucao','raca':'cor_raca', 'liquido':'remuneracao_liquida'}, inplace=True) #padronizando\n",
    "df\n"
   ]
  },
  {
   "cell_type": "code",
   "execution_count": 5,
   "metadata": {},
   "outputs": [
    {
     "data": {
      "text/html": [
       "<div>\n",
       "<style scoped>\n",
       "    .dataframe tbody tr th:only-of-type {\n",
       "        vertical-align: middle;\n",
       "    }\n",
       "\n",
       "    .dataframe tbody tr th {\n",
       "        vertical-align: top;\n",
       "    }\n",
       "\n",
       "    .dataframe thead th {\n",
       "        text-align: right;\n",
       "    }\n",
       "</style>\n",
       "<table border=\"1\" class=\"dataframe\">\n",
       "  <thead>\n",
       "    <tr style=\"text-align: right;\">\n",
       "      <th></th>\n",
       "      <th>ano</th>\n",
       "      <th>grau_instrucao</th>\n",
       "      <th>cor_raca</th>\n",
       "      <th>remuneracao_liquida</th>\n",
       "    </tr>\n",
       "  </thead>\n",
       "  <tbody>\n",
       "    <tr>\n",
       "      <th>0</th>\n",
       "      <td>1999</td>\n",
       "      <td>1º grau completo ou menos</td>\n",
       "      <td>Amarela</td>\n",
       "      <td>3320.7</td>\n",
       "    </tr>\n",
       "    <tr>\n",
       "      <th>1</th>\n",
       "      <td>1999</td>\n",
       "      <td>1º grau completo ou menos</td>\n",
       "      <td>Branca</td>\n",
       "      <td>3543.9</td>\n",
       "    </tr>\n",
       "    <tr>\n",
       "      <th>2</th>\n",
       "      <td>1999</td>\n",
       "      <td>1º grau completo ou menos</td>\n",
       "      <td>Indígena</td>\n",
       "      <td>3015.5</td>\n",
       "    </tr>\n",
       "    <tr>\n",
       "      <th>3</th>\n",
       "      <td>1999</td>\n",
       "      <td>1º grau completo ou menos</td>\n",
       "      <td>Não informado</td>\n",
       "      <td>3254.2</td>\n",
       "    </tr>\n",
       "    <tr>\n",
       "      <th>4</th>\n",
       "      <td>1999</td>\n",
       "      <td>1º grau completo ou menos</td>\n",
       "      <td>Negra</td>\n",
       "      <td>3312.3</td>\n",
       "    </tr>\n",
       "    <tr>\n",
       "      <th>...</th>\n",
       "      <td>...</td>\n",
       "      <td>...</td>\n",
       "      <td>...</td>\n",
       "      <td>...</td>\n",
       "    </tr>\n",
       "    <tr>\n",
       "      <th>325</th>\n",
       "      <td>2020</td>\n",
       "      <td>Superior completo ou mais</td>\n",
       "      <td>Amarela</td>\n",
       "      <td>9471.4</td>\n",
       "    </tr>\n",
       "    <tr>\n",
       "      <th>326</th>\n",
       "      <td>2020</td>\n",
       "      <td>Superior completo ou mais</td>\n",
       "      <td>Branca</td>\n",
       "      <td>9089.9</td>\n",
       "    </tr>\n",
       "    <tr>\n",
       "      <th>327</th>\n",
       "      <td>2020</td>\n",
       "      <td>Superior completo ou mais</td>\n",
       "      <td>Indígena</td>\n",
       "      <td>7412.6</td>\n",
       "    </tr>\n",
       "    <tr>\n",
       "      <th>328</th>\n",
       "      <td>2020</td>\n",
       "      <td>Superior completo ou mais</td>\n",
       "      <td>Não informado</td>\n",
       "      <td>9111.1</td>\n",
       "    </tr>\n",
       "    <tr>\n",
       "      <th>329</th>\n",
       "      <td>2020</td>\n",
       "      <td>Superior completo ou mais</td>\n",
       "      <td>Negra</td>\n",
       "      <td>7088.6</td>\n",
       "    </tr>\n",
       "  </tbody>\n",
       "</table>\n",
       "<p>330 rows × 4 columns</p>\n",
       "</div>"
      ],
      "text/plain": [
       "      ano             grau_instrucao       cor_raca  remuneracao_liquida\n",
       "0    1999  1º grau completo ou menos        Amarela               3320.7\n",
       "1    1999  1º grau completo ou menos         Branca               3543.9\n",
       "2    1999  1º grau completo ou menos       Indígena               3015.5\n",
       "3    1999  1º grau completo ou menos  Não informado               3254.2\n",
       "4    1999  1º grau completo ou menos          Negra               3312.3\n",
       "..    ...                        ...            ...                  ...\n",
       "325  2020  Superior completo ou mais        Amarela               9471.4\n",
       "326  2020  Superior completo ou mais         Branca               9089.9\n",
       "327  2020  Superior completo ou mais       Indígena               7412.6\n",
       "328  2020  Superior completo ou mais  Não informado               9111.1\n",
       "329  2020  Superior completo ou mais          Negra               7088.6\n",
       "\n",
       "[330 rows x 4 columns]"
      ]
     },
     "execution_count": 5,
     "metadata": {},
     "output_type": "execute_result"
    }
   ],
   "source": [
    "df['remuneracao_liquida'] = df['remuneracao_liquida'].str.replace(',','.').astype(float)\n",
    "df"
   ]
  },
  {
   "cell_type": "code",
   "execution_count": 6,
   "metadata": {},
   "outputs": [
    {
     "data": {
      "text/plain": [
       "array(['1º grau completo ou menos', '2º grau completo',\n",
       "       'Superior completo ou mais'], dtype=object)"
      ]
     },
     "execution_count": 6,
     "metadata": {},
     "output_type": "execute_result"
    }
   ],
   "source": [
    "df['grau_instrucao'].unique()"
   ]
  },
  {
   "cell_type": "code",
   "execution_count": 7,
   "metadata": {},
   "outputs": [
    {
     "data": {
      "text/plain": [
       "array(['Amarela', 'Branca', 'Indígena', 'Não informado', 'Negra'],\n",
       "      dtype=object)"
      ]
     },
     "execution_count": 7,
     "metadata": {},
     "output_type": "execute_result"
    }
   ],
   "source": [
    "df['cor_raca'].unique()"
   ]
  },
  {
   "cell_type": "code",
   "execution_count": 8,
   "metadata": {},
   "outputs": [],
   "source": [
    "def transforme(nome):\n",
    "    nome =re.sub(r\"\\b1º grau completo ou menos\\b\", \"Até Ensino Fundamental\", nome)\n",
    "    nome =re.sub(r\"\\b2º grau completo\\b\", \"Até Ensino Médio\", nome)\n",
    "    nome =re.sub(r\"\\bSuperior completo ou mais\\b\", \"Até superior completo ou mais\", nome)\n",
    "    return nome"
   ]
  },
  {
   "cell_type": "code",
   "execution_count": 9,
   "metadata": {},
   "outputs": [],
   "source": [
    "df['grau_instrucao'] = df['grau_instrucao'].apply(transforme)"
   ]
  },
  {
   "cell_type": "code",
   "execution_count": 10,
   "metadata": {},
   "outputs": [
    {
     "data": {
      "text/plain": [
       "array(['Até Ensino Fundamental', 'Até Ensino Médio',\n",
       "       'Até superior completo ou mais'], dtype=object)"
      ]
     },
     "execution_count": 10,
     "metadata": {},
     "output_type": "execute_result"
    }
   ],
   "source": [
    "df['grau_instrucao'].unique()"
   ]
  },
  {
   "cell_type": "code",
   "execution_count": 11,
   "metadata": {},
   "outputs": [],
   "source": [
    "df['raca_escolaridade'] = df['grau_instrucao'] + ' / ' + df['cor_raca']\n"
   ]
  },
  {
   "cell_type": "code",
   "execution_count": 12,
   "metadata": {},
   "outputs": [],
   "source": [
    "df = df[['ano', 'grau_instrucao', 'cor_raca', 'raca_escolaridade', 'remuneracao_liquida' ]]\n"
   ]
  },
  {
   "cell_type": "code",
   "execution_count": 13,
   "metadata": {},
   "outputs": [
    {
     "data": {
      "text/html": [
       "<div>\n",
       "<style scoped>\n",
       "    .dataframe tbody tr th:only-of-type {\n",
       "        vertical-align: middle;\n",
       "    }\n",
       "\n",
       "    .dataframe tbody tr th {\n",
       "        vertical-align: top;\n",
       "    }\n",
       "\n",
       "    .dataframe thead th {\n",
       "        text-align: right;\n",
       "    }\n",
       "</style>\n",
       "<table border=\"1\" class=\"dataframe\">\n",
       "  <thead>\n",
       "    <tr style=\"text-align: right;\">\n",
       "      <th></th>\n",
       "      <th>ano</th>\n",
       "      <th>grau_instrucao</th>\n",
       "      <th>cor_raca</th>\n",
       "      <th>raca_escolaridade</th>\n",
       "      <th>remuneracao_liquida</th>\n",
       "    </tr>\n",
       "  </thead>\n",
       "  <tbody>\n",
       "    <tr>\n",
       "      <th>0</th>\n",
       "      <td>1999</td>\n",
       "      <td>Até Ensino Fundamental</td>\n",
       "      <td>Amarela</td>\n",
       "      <td>Até Ensino Fundamental / Amarela</td>\n",
       "      <td>3320.7</td>\n",
       "    </tr>\n",
       "    <tr>\n",
       "      <th>1</th>\n",
       "      <td>1999</td>\n",
       "      <td>Até Ensino Fundamental</td>\n",
       "      <td>Branca</td>\n",
       "      <td>Até Ensino Fundamental / Branca</td>\n",
       "      <td>3543.9</td>\n",
       "    </tr>\n",
       "    <tr>\n",
       "      <th>2</th>\n",
       "      <td>1999</td>\n",
       "      <td>Até Ensino Fundamental</td>\n",
       "      <td>Indígena</td>\n",
       "      <td>Até Ensino Fundamental / Indígena</td>\n",
       "      <td>3015.5</td>\n",
       "    </tr>\n",
       "    <tr>\n",
       "      <th>3</th>\n",
       "      <td>1999</td>\n",
       "      <td>Até Ensino Fundamental</td>\n",
       "      <td>Não informado</td>\n",
       "      <td>Até Ensino Fundamental / Não informado</td>\n",
       "      <td>3254.2</td>\n",
       "    </tr>\n",
       "    <tr>\n",
       "      <th>4</th>\n",
       "      <td>1999</td>\n",
       "      <td>Até Ensino Fundamental</td>\n",
       "      <td>Negra</td>\n",
       "      <td>Até Ensino Fundamental / Negra</td>\n",
       "      <td>3312.3</td>\n",
       "    </tr>\n",
       "    <tr>\n",
       "      <th>...</th>\n",
       "      <td>...</td>\n",
       "      <td>...</td>\n",
       "      <td>...</td>\n",
       "      <td>...</td>\n",
       "      <td>...</td>\n",
       "    </tr>\n",
       "    <tr>\n",
       "      <th>325</th>\n",
       "      <td>2020</td>\n",
       "      <td>Até superior completo ou mais</td>\n",
       "      <td>Amarela</td>\n",
       "      <td>Até superior completo ou mais / Amarela</td>\n",
       "      <td>9471.4</td>\n",
       "    </tr>\n",
       "    <tr>\n",
       "      <th>326</th>\n",
       "      <td>2020</td>\n",
       "      <td>Até superior completo ou mais</td>\n",
       "      <td>Branca</td>\n",
       "      <td>Até superior completo ou mais / Branca</td>\n",
       "      <td>9089.9</td>\n",
       "    </tr>\n",
       "    <tr>\n",
       "      <th>327</th>\n",
       "      <td>2020</td>\n",
       "      <td>Até superior completo ou mais</td>\n",
       "      <td>Indígena</td>\n",
       "      <td>Até superior completo ou mais / Indígena</td>\n",
       "      <td>7412.6</td>\n",
       "    </tr>\n",
       "    <tr>\n",
       "      <th>328</th>\n",
       "      <td>2020</td>\n",
       "      <td>Até superior completo ou mais</td>\n",
       "      <td>Não informado</td>\n",
       "      <td>Até superior completo ou mais / Não informado</td>\n",
       "      <td>9111.1</td>\n",
       "    </tr>\n",
       "    <tr>\n",
       "      <th>329</th>\n",
       "      <td>2020</td>\n",
       "      <td>Até superior completo ou mais</td>\n",
       "      <td>Negra</td>\n",
       "      <td>Até superior completo ou mais / Negra</td>\n",
       "      <td>7088.6</td>\n",
       "    </tr>\n",
       "  </tbody>\n",
       "</table>\n",
       "<p>330 rows × 5 columns</p>\n",
       "</div>"
      ],
      "text/plain": [
       "      ano                 grau_instrucao       cor_raca  \\\n",
       "0    1999         Até Ensino Fundamental        Amarela   \n",
       "1    1999         Até Ensino Fundamental         Branca   \n",
       "2    1999         Até Ensino Fundamental       Indígena   \n",
       "3    1999         Até Ensino Fundamental  Não informado   \n",
       "4    1999         Até Ensino Fundamental          Negra   \n",
       "..    ...                            ...            ...   \n",
       "325  2020  Até superior completo ou mais        Amarela   \n",
       "326  2020  Até superior completo ou mais         Branca   \n",
       "327  2020  Até superior completo ou mais       Indígena   \n",
       "328  2020  Até superior completo ou mais  Não informado   \n",
       "329  2020  Até superior completo ou mais          Negra   \n",
       "\n",
       "                                 raca_escolaridade  remuneracao_liquida  \n",
       "0                 Até Ensino Fundamental / Amarela               3320.7  \n",
       "1                  Até Ensino Fundamental / Branca               3543.9  \n",
       "2                Até Ensino Fundamental / Indígena               3015.5  \n",
       "3           Até Ensino Fundamental / Não informado               3254.2  \n",
       "4                   Até Ensino Fundamental / Negra               3312.3  \n",
       "..                                             ...                  ...  \n",
       "325        Até superior completo ou mais / Amarela               9471.4  \n",
       "326         Até superior completo ou mais / Branca               9089.9  \n",
       "327       Até superior completo ou mais / Indígena               7412.6  \n",
       "328  Até superior completo ou mais / Não informado               9111.1  \n",
       "329          Até superior completo ou mais / Negra               7088.6  \n",
       "\n",
       "[330 rows x 5 columns]"
      ]
     },
     "execution_count": 13,
     "metadata": {},
     "output_type": "execute_result"
    }
   ],
   "source": [
    "df"
   ]
  },
  {
   "cell_type": "code",
   "execution_count": 14,
   "metadata": {},
   "outputs": [
    {
     "data": {
      "text/plain": [
       "array(['Até Ensino Fundamental / Amarela',\n",
       "       'Até Ensino Fundamental / Branca',\n",
       "       'Até Ensino Fundamental / Indígena',\n",
       "       'Até Ensino Fundamental / Não informado',\n",
       "       'Até Ensino Fundamental / Negra', 'Até Ensino Médio / Amarela',\n",
       "       'Até Ensino Médio / Branca', 'Até Ensino Médio / Indígena',\n",
       "       'Até Ensino Médio / Não informado', 'Até Ensino Médio / Negra',\n",
       "       'Até superior completo ou mais / Amarela',\n",
       "       'Até superior completo ou mais / Branca',\n",
       "       'Até superior completo ou mais / Indígena',\n",
       "       'Até superior completo ou mais / Não informado',\n",
       "       'Até superior completo ou mais / Negra'], dtype=object)"
      ]
     },
     "execution_count": 14,
     "metadata": {},
     "output_type": "execute_result"
    }
   ],
   "source": [
    "df['raca_escolaridade'].unique()"
   ]
  },
  {
   "cell_type": "code",
   "execution_count": 18,
   "metadata": {},
   "outputs": [
    {
     "data": {
      "text/plain": [
       "array(['Amarelas', 'Brancas', 'Indígenas', 'sem informação de raça',\n",
       "       'Negras'], dtype=object)"
      ]
     },
     "execution_count": 18,
     "metadata": {},
     "output_type": "execute_result"
    }
   ],
   "source": [
    "df['cor_raca'].unique()"
   ]
  },
  {
   "cell_type": "code",
   "execution_count": 16,
   "metadata": {},
   "outputs": [],
   "source": [
    "def transforme(nome):\n",
    "    nome =re.sub(r\"\\bAmarela\\b\", \"Amarelas\", nome)\n",
    "    nome =re.sub(r\"\\bBranca\\b\", \"Brancas\", nome)\n",
    "    nome =re.sub(r\"\\bIndígena\\b\", \"Indígenas\", nome)\n",
    "    nome =re.sub(r\"\\bNão informado\\b\", \"Sem informação de raça\", nome)\n",
    "    nome =re.sub(r\"\\bNegra\\b\", \"Negras\", nome)\n",
    "\n",
    "    return nome"
   ]
  },
  {
   "cell_type": "code",
   "execution_count": 17,
   "metadata": {},
   "outputs": [],
   "source": [
    "df['cor_raca'] = df['cor_raca'].apply(transforme)"
   ]
  },
  {
   "attachments": {},
   "cell_type": "markdown",
   "metadata": {},
   "source": [
    "Subindo para o GBQ"
   ]
  },
  {
   "cell_type": "code",
   "execution_count": 19,
   "metadata": {},
   "outputs": [],
   "source": [
    "client = bigquery.Client()\n",
    "dataset_ref = client.dataset('perfil_remuneracao')"
   ]
  },
  {
   "cell_type": "code",
   "execution_count": 20,
   "metadata": {},
   "outputs": [],
   "source": [
    "schema=[bigquery.SchemaField('ano','INTEGER',description='Ano de referência da observação'), \n",
    " bigquery.SchemaField('grau_instrucao','STRING',description='Escolaridade da pessoa ou do vínculo observado'),\n",
    " bigquery.SchemaField('cor_raca','STRING',description='Raça/cor da pessoa observada'),\n",
    " bigquery.SchemaField('raca_escolaridade','STRING',description='Raça/cor e escolaridade da pessoa observada'),\n",
    " bigquery.SchemaField('remuneracao_liquida','FLOAT',description='Remuneração liquida da pessoa observada')]"
   ]
  },
  {
   "cell_type": "code",
   "execution_count": 21,
   "metadata": {},
   "outputs": [
    {
     "data": {
      "text/plain": [
       "LoadJob<project=repositoriodedadosgpsp, location=US, id=843272f7-65d5-43cd-b224-5307d5cac8d6>"
      ]
     },
     "execution_count": 21,
     "metadata": {},
     "output_type": "execute_result"
    }
   ],
   "source": [
    "table_ref = dataset_ref.table('SIAPE_remuneracao_liquida_executivo_raca_escolaridade')\n",
    "job_config = bigquery.LoadJobConfig(schema=schema)\n",
    "job = client.load_table_from_dataframe(df, table_ref, job_config=job_config)\n",
    "job.result() "
   ]
  }
 ],
 "metadata": {
  "kernelspec": {
   "display_name": "base",
   "language": "python",
   "name": "python3"
  },
  "language_info": {
   "codemirror_mode": {
    "name": "ipython",
    "version": 3
   },
   "file_extension": ".py",
   "mimetype": "text/x-python",
   "name": "python",
   "nbconvert_exporter": "python",
   "pygments_lexer": "ipython3",
   "version": "3.11.4"
  },
  "orig_nbformat": 4
 },
 "nbformat": 4,
 "nbformat_minor": 2
}
