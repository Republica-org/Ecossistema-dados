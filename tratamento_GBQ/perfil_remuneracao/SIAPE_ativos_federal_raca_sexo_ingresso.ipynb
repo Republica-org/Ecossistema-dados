{
  "cells": [
    {
      "cell_type": "markdown",
      "source": [
        "# Dependências"
      ],
      "metadata": {
        "id": "3GLzGgK6M1TI"
      }
    },
    {
      "cell_type": "code",
      "source": [
        "# Install required Google Cloud packages (commented out as these are typically one-time setup commands)\n",
        "# !pip install gcloud\n",
        "# !gcloud auth application-default login\n",
        "\n",
        "# Import necessary Python libraries\n",
        "import pandas as pd                # Data manipulation and analysis\n",
        "import numpy as np                 # Numerical computing\n",
        "import time                        # Time-related functions\n",
        "import os                          # Operating system interfaces\n",
        "import pandas_gbq                  # Pandas integration with BigQuery\n",
        "from google.cloud import bigquery  # BigQuery client library\n",
        "import glob                        # File path pattern matching\n",
        "import openpyxl                    # Excel file handling\n",
        "import csv                         # CSV file handling\n",
        "import re                          # Regular expressions\n",
        "\n",
        "# Note: The actual imports remain exactly as in the original code"
      ],
      "metadata": {
        "id": "itzM-BIBM7e-"
      },
      "execution_count": null,
      "outputs": []
    },
    {
      "cell_type": "markdown",
      "source": [
        "# Tratamento"
      ],
      "metadata": {
        "id": "n1W2sPMuyT8K"
      }
    },
    {
      "cell_type": "code",
      "source": [
        "# Load civil servant data from CSV file\n",
        "df = pd.read_csv('siape_vinculos.csv', sep=';')\n",
        "\n",
        "# Rename columns for clarity\n",
        "df = df.rename(columns={\n",
        "    'sexo': 'genero',\n",
        "    'ano_ing_spub': 'ano_ingresso',\n",
        "    'raca_grupo': 'raca',\n",
        "    'servidores': 'total_vinculo'\n",
        "})\n",
        "\n",
        "# Function to standardize gender labels\n",
        "def transformar(nome):\n",
        "    nome = re.sub(r\"\\bFem\\b\", \"Mulheres\", nome)\n",
        "    nome = re.sub(r\"\\bMas\\b\", \"Homens\", nome)\n",
        "    return nome\n",
        "\n",
        "# Apply gender standardization\n",
        "df['genero'] = df['genero'].apply(transformar)\n",
        "\n",
        "# Rename additional columns\n",
        "df = df.rename(columns={\"raca\": \"cor_raca\", \"total_vinculo\": \"quantidade_vinculos\"})\n",
        "\n",
        "# Create combined gender-race column\n",
        "df['genero_raca'] = df['genero'] + ' ' + df['cor_raca']\n",
        "\n",
        "# Select relevant columns\n",
        "df = df[['ano_ingresso', 'cor_raca', 'genero', 'genero_raca', 'quantidade_vinculos']]\n",
        "\n",
        "# Function to standardize gender-race labels\n",
        "def transformar(nome):\n",
        "    nome = re.sub(r\"\\bMulheres Branca\\b\", \"Mulheres Brancas\", nome)\n",
        "    nome = re.sub(r\"\\bMulheres Negra\\b\", \"Mulheres Negras\", nome)\n",
        "    nome = re.sub(r\"\\bMulheres Não informada\\b\", \"Mulheres sem informação de raça\", nome)\n",
        "    nome = re.sub(r\"\\bMulheres Outros\\b\", \"Mulheres com outras raças\", nome)\n",
        "    nome = re.sub(r\"\\bHomens Branca\\b\", \"Homens Brancos\", nome)\n",
        "    nome = re.sub(r\"\\bHomens Negra\\b\", \"Homens Negros\", nome)\n",
        "    nome = re.sub(r\"\\bHomens Não informada\\b\", \"Homens sem informação de raça\", nome)\n",
        "    nome = re.sub(r\"\\bHomens Outros\\b\", \"Homens com outras raças\", nome)\n",
        "    return nome\n",
        "\n",
        "# Apply gender-race standardization\n",
        "df['genero_raca'] = df['genero_raca'].apply(transformar)\n",
        "\n",
        "# Function to standardize gender labels to formal format\n",
        "def transforme(nome):\n",
        "    nome = re.sub(r\"\\bMulheres\\b\", \"Feminino\", nome)\n",
        "    nome = re.sub(r\"\\bHomens\\b\", \"Masculino\", nome)\n",
        "    return nome\n",
        "\n",
        "# Apply formal gender standardization\n",
        "df['genero'] = df['genero'].apply(transforme)\n",
        "\n",
        "# Clean and convert numeric values\n",
        "df['quantidade_vinculos'] = df['quantidade_vinculos'].str.replace(',', '.')\n",
        "df['quantidade_vinculos'] = pd.to_numeric(df['quantidade_vinculos'], errors='coerce')\n",
        "df['quantidade_vinculos'] = df['quantidade_vinculos'].astype('Int64')"
      ],
      "metadata": {
        "id": "o5WL4e8dNjAM"
      },
      "execution_count": null,
      "outputs": []
    },
    {
      "cell_type": "code",
      "source": [
        "df.info()"
      ],
      "metadata": {
        "colab": {
          "base_uri": "https://localhost:8080/"
        },
        "id": "zg7HpNcDyLFS",
        "outputId": "43c06750-5c03-4a4d-e1fa-5566b69ac6b0"
      },
      "execution_count": null,
      "outputs": [
        {
          "output_type": "stream",
          "name": "stdout",
          "text": [
            "<class 'pandas.core.frame.DataFrame'>\n",
            "RangeIndex: 163 entries, 0 to 162\n",
            "Data columns (total 5 columns):\n",
            " #   Column               Non-Null Count  Dtype \n",
            "---  ------               --------------  ----- \n",
            " 0   ano_ingresso         163 non-null    int64 \n",
            " 1   cor_raca             163 non-null    object\n",
            " 2   genero               163 non-null    object\n",
            " 3   genero_raca          163 non-null    object\n",
            " 4   quantidade_vinculos  163 non-null    Int64 \n",
            "dtypes: Int64(1), int64(1), object(3)\n",
            "memory usage: 6.7+ KB\n"
          ]
        }
      ]
    },
    {
      "cell_type": "markdown",
      "source": [
        "# Upload"
      ],
      "metadata": {
        "id": "mcyAnifBM5Ei"
      }
    },
    {
      "cell_type": "code",
      "source": [
        "# Define schema for BigQuery table\n",
        "schema = [\n",
        "    bigquery.SchemaField('ano_ingresso','INTEGER',description='Ano referente ao ingresso da pessoa na profissão'),\n",
        "    bigquery.SchemaField('cor_raca','STRING',description='Raça/cor da pessoa observada '),\n",
        "    bigquery.SchemaField('genero','STRING',description='Gênero autodeclarado ou não'),\n",
        "    bigquery.SchemaField('genero_raca','STRING',description='Gênero e raça da pessoa observada'),\n",
        "    bigquery.SchemaField('quantidade_vinculos','INTEGER',description='Número total de vinculos observados')\n",
        "]\n",
        "\n",
        "# Initialize BigQuery client\n",
        "client = bigquery.Client(project='repositoriodedadosgpsp')\n",
        "dataset_ref = client.dataset('perfil_remuneracao')\n",
        "\n",
        "# Create table reference\n",
        "table_ref = dataset_ref.table('SIAPE_ativos_federal_raca_sexo_ingresso_v1')\n",
        "\n",
        "# Configure load job\n",
        "job_config = bigquery.LoadJobConfig(schema=schema)\n",
        "\n",
        "# Execute load job\n",
        "job = client.load_table_from_dataframe(df, table_ref, job_config=job_config)\n",
        "job.result()"
      ],
      "metadata": {
        "id": "9jl1sA61No7k"
      },
      "execution_count": null,
      "outputs": []
    }
  ],
  "metadata": {
    "kernelspec": {
      "display_name": "base",
      "language": "python",
      "name": "python3"
    },
    "language_info": {
      "codemirror_mode": {
        "name": "ipython",
        "version": 3
      },
      "file_extension": ".py",
      "mimetype": "text/x-python",
      "name": "python",
      "nbconvert_exporter": "python",
      "pygments_lexer": "ipython3",
      "version": "3.11.4"
    },
    "orig_nbformat": 4,
    "colab": {
      "provenance": []
    }
  },
  "nbformat": 4,
  "nbformat_minor": 0
}