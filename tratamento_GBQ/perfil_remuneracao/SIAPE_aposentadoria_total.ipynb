{
 "cells": [
  {
   "cell_type": "code",
   "execution_count": 1,
   "metadata": {},
   "outputs": [],
   "source": [
    "import pandas as pd\n",
    "import numpy as np\n",
    "import time\n",
    "import os\n",
    "import zipfile\n",
    "import pandas_gbq\n",
    "import glob\n",
    "from google.cloud import bigquery\n",
    "import re"
   ]
  },
  {
   "cell_type": "code",
   "execution_count": 2,
   "metadata": {},
   "outputs": [],
   "source": [
    "client = bigquery.Client()"
   ]
  },
  {
   "cell_type": "code",
   "execution_count": 3,
   "metadata": {},
   "outputs": [],
   "source": [
    "query = \"\"\" \n",
    "        SELECT ANO as ano, MES as mes, TIPO_APOSENTADORIA as tipo_aposentadoria, \n",
    "            CASE WHEN ORGSUP_LOTACAO =\"Sem informação\" THEN ORG_LOTACAO ELSE ORGSUP_LOTACAO \n",
    "            END as org_lotacao, 'REGIME JURIDICO UNICO' as regime_juridico,\n",
    "            1 as total FROM `repositoriodedadosgpsp.portal_transparencia_cgu.2020_nov_siape_aposentados_cadastro` \n",
    "            UNION ALL\n",
    "        SELECT ANO as ano, MES as mes, TIPO_APOSENTADORIA as tipo_aposentadoria, \n",
    "            CASE WHEN ORGSUP_LOTACAO =\"Sem informação\" THEN ORG_LOTACAO ELSE ORGSUP_LOTACAO \n",
    "            END as org_lotacao, 'REGIME JURIDICO UNICO' as regime_juridico,\n",
    "            1 as total FROM `repositoriodedadosgpsp.portal_transparencia_cgu.2021_nov_siape_aposentados_cadastro` \n",
    "            UNION ALL\n",
    "        SELECT ANO as ano, MES as mes, TIPO_APOSENTADORIA as tipo_aposentadoria, \n",
    "            CASE WHEN ORGSUP_LOTACAO =\"Sem informação\" THEN ORG_LOTACAO ELSE ORGSUP_LOTACAO \n",
    "            END as org_lotacao, 'REGIME JURIDICO UNICO' as regime_juridico,\n",
    "            1 as total FROM `repositoriodedadosgpsp.portal_transparencia_cgu.2022_nov_siape_aposentados_cadastro`\n",
    "            UNION ALL\n",
    "        SELECT ANO as ano, MES as mes, TIPO_APOSENTADORIA as tipo_aposentadoria, \n",
    "            CASE WHEN ORGSUP_LOTACAO =\"Sem informação\" THEN ORG_LOTACAO ELSE ORGSUP_LOTACAO \n",
    "            END as org_lotacao, 'REGIME JURIDICO UNICO' as regime_juridico,\n",
    "            1 as total FROM `repositoriodedadosgpsp.portal_transparencia_cgu.2023_nov_siape_aposentados_cadastro`\n",
    "        \"\"\"  "
   ]
  },
  {
   "cell_type": "code",
   "execution_count": 4,
   "metadata": {},
   "outputs": [
    {
     "name": "stdout",
     "output_type": "stream",
     "text": [
      "Downloading: 100%|\u001b[32m██████████\u001b[0m|\n"
     ]
    },
    {
     "data": {
      "text/html": [
       "<div>\n",
       "<style scoped>\n",
       "    .dataframe tbody tr th:only-of-type {\n",
       "        vertical-align: middle;\n",
       "    }\n",
       "\n",
       "    .dataframe tbody tr th {\n",
       "        vertical-align: top;\n",
       "    }\n",
       "\n",
       "    .dataframe thead th {\n",
       "        text-align: right;\n",
       "    }\n",
       "</style>\n",
       "<table border=\"1\" class=\"dataframe\">\n",
       "  <thead>\n",
       "    <tr style=\"text-align: right;\">\n",
       "      <th></th>\n",
       "      <th>ano</th>\n",
       "      <th>mes</th>\n",
       "      <th>tipo_aposentadoria</th>\n",
       "      <th>org_lotacao</th>\n",
       "      <th>regime_juridico</th>\n",
       "      <th>total</th>\n",
       "    </tr>\n",
       "  </thead>\n",
       "  <tbody>\n",
       "    <tr>\n",
       "      <th>0</th>\n",
       "      <td>2022</td>\n",
       "      <td>11</td>\n",
       "      <td>APOSENTADORIA POR INVALIDEZ</td>\n",
       "      <td>Ministério da Economia</td>\n",
       "      <td>REGIME JURIDICO UNICO</td>\n",
       "      <td>1</td>\n",
       "    </tr>\n",
       "    <tr>\n",
       "      <th>1</th>\n",
       "      <td>2022</td>\n",
       "      <td>11</td>\n",
       "      <td>APOSENTADORIA VOLUNTARIA</td>\n",
       "      <td>Ministério da Economia</td>\n",
       "      <td>REGIME JURIDICO UNICO</td>\n",
       "      <td>1</td>\n",
       "    </tr>\n",
       "    <tr>\n",
       "      <th>2</th>\n",
       "      <td>2022</td>\n",
       "      <td>11</td>\n",
       "      <td>APOSENTADORIA VOLUNTARIA</td>\n",
       "      <td>Ministério da Economia</td>\n",
       "      <td>REGIME JURIDICO UNICO</td>\n",
       "      <td>1</td>\n",
       "    </tr>\n",
       "    <tr>\n",
       "      <th>3</th>\n",
       "      <td>2022</td>\n",
       "      <td>11</td>\n",
       "      <td>APOSENTADORIA VOLUNTARIA</td>\n",
       "      <td>Ministério da Economia</td>\n",
       "      <td>REGIME JURIDICO UNICO</td>\n",
       "      <td>1</td>\n",
       "    </tr>\n",
       "    <tr>\n",
       "      <th>4</th>\n",
       "      <td>2022</td>\n",
       "      <td>11</td>\n",
       "      <td>APOSENTADORIA VOLUNTARIA</td>\n",
       "      <td>Ministério da Economia</td>\n",
       "      <td>REGIME JURIDICO UNICO</td>\n",
       "      <td>1</td>\n",
       "    </tr>\n",
       "    <tr>\n",
       "      <th>...</th>\n",
       "      <td>...</td>\n",
       "      <td>...</td>\n",
       "      <td>...</td>\n",
       "      <td>...</td>\n",
       "      <td>...</td>\n",
       "      <td>...</td>\n",
       "    </tr>\n",
       "    <tr>\n",
       "      <th>1689358</th>\n",
       "      <td>2021</td>\n",
       "      <td>11</td>\n",
       "      <td>APOSENTADORIA VOLUNTARIA</td>\n",
       "      <td>Ministério da Economia</td>\n",
       "      <td>REGIME JURIDICO UNICO</td>\n",
       "      <td>1</td>\n",
       "    </tr>\n",
       "    <tr>\n",
       "      <th>1689359</th>\n",
       "      <td>2021</td>\n",
       "      <td>11</td>\n",
       "      <td>APOSENTADORIA VOLUNTARIA</td>\n",
       "      <td>Ministério da Economia</td>\n",
       "      <td>REGIME JURIDICO UNICO</td>\n",
       "      <td>1</td>\n",
       "    </tr>\n",
       "    <tr>\n",
       "      <th>1689360</th>\n",
       "      <td>2021</td>\n",
       "      <td>11</td>\n",
       "      <td>APOSENTADORIA POR INVALIDEZ</td>\n",
       "      <td>Ministério da Defesa</td>\n",
       "      <td>REGIME JURIDICO UNICO</td>\n",
       "      <td>1</td>\n",
       "    </tr>\n",
       "    <tr>\n",
       "      <th>1689361</th>\n",
       "      <td>2021</td>\n",
       "      <td>11</td>\n",
       "      <td>APOSENTADORIA POR INVALIDEZ</td>\n",
       "      <td>Ministério da Defesa</td>\n",
       "      <td>REGIME JURIDICO UNICO</td>\n",
       "      <td>1</td>\n",
       "    </tr>\n",
       "    <tr>\n",
       "      <th>1689362</th>\n",
       "      <td>2021</td>\n",
       "      <td>11</td>\n",
       "      <td>APOSENTADORIA VOLUNTARIA</td>\n",
       "      <td>Ministério da Defesa</td>\n",
       "      <td>REGIME JURIDICO UNICO</td>\n",
       "      <td>1</td>\n",
       "    </tr>\n",
       "  </tbody>\n",
       "</table>\n",
       "<p>1689363 rows × 6 columns</p>\n",
       "</div>"
      ],
      "text/plain": [
       "          ano  mes           tipo_aposentadoria             org_lotacao  \\\n",
       "0        2022   11  APOSENTADORIA POR INVALIDEZ  Ministério da Economia   \n",
       "1        2022   11     APOSENTADORIA VOLUNTARIA  Ministério da Economia   \n",
       "2        2022   11     APOSENTADORIA VOLUNTARIA  Ministério da Economia   \n",
       "3        2022   11     APOSENTADORIA VOLUNTARIA  Ministério da Economia   \n",
       "4        2022   11     APOSENTADORIA VOLUNTARIA  Ministério da Economia   \n",
       "...       ...  ...                          ...                     ...   \n",
       "1689358  2021   11     APOSENTADORIA VOLUNTARIA  Ministério da Economia   \n",
       "1689359  2021   11     APOSENTADORIA VOLUNTARIA  Ministério da Economia   \n",
       "1689360  2021   11  APOSENTADORIA POR INVALIDEZ    Ministério da Defesa   \n",
       "1689361  2021   11  APOSENTADORIA POR INVALIDEZ    Ministério da Defesa   \n",
       "1689362  2021   11     APOSENTADORIA VOLUNTARIA    Ministério da Defesa   \n",
       "\n",
       "               regime_juridico  total  \n",
       "0        REGIME JURIDICO UNICO      1  \n",
       "1        REGIME JURIDICO UNICO      1  \n",
       "2        REGIME JURIDICO UNICO      1  \n",
       "3        REGIME JURIDICO UNICO      1  \n",
       "4        REGIME JURIDICO UNICO      1  \n",
       "...                        ...    ...  \n",
       "1689358  REGIME JURIDICO UNICO      1  \n",
       "1689359  REGIME JURIDICO UNICO      1  \n",
       "1689360  REGIME JURIDICO UNICO      1  \n",
       "1689361  REGIME JURIDICO UNICO      1  \n",
       "1689362  REGIME JURIDICO UNICO      1  \n",
       "\n",
       "[1689363 rows x 6 columns]"
      ]
     },
     "execution_count": 4,
     "metadata": {},
     "output_type": "execute_result"
    }
   ],
   "source": [
    "df = pandas_gbq.read_gbq(query, project_id='repositoriodedadosgpsp')\n",
    "df"
   ]
  },
  {
   "cell_type": "code",
   "execution_count": 5,
   "metadata": {},
   "outputs": [
    {
     "data": {
      "text/plain": [
       "Index(['ano', 'mes', 'tipo_aposentadoria', 'org_lotacao', 'regime_juridico',\n",
       "       'total'],\n",
       "      dtype='object')"
      ]
     },
     "execution_count": 5,
     "metadata": {},
     "output_type": "execute_result"
    }
   ],
   "source": [
    "df.columns"
   ]
  },
  {
   "cell_type": "code",
   "execution_count": 6,
   "metadata": {},
   "outputs": [
    {
     "data": {
      "text/plain": [
       "array(['APOSENTADORIA POR INVALIDEZ', 'APOSENTADORIA VOLUNTARIA',\n",
       "       'APOSENTADORIA COMPULSORIA', 'APOSENTADORIA POR INCAPACIDADE',\n",
       "       'OUTROS'], dtype=object)"
      ]
     },
     "execution_count": 6,
     "metadata": {},
     "output_type": "execute_result"
    }
   ],
   "source": [
    "df['tipo_aposentadoria'].unique()"
   ]
  },
  {
   "cell_type": "code",
   "execution_count": 7,
   "metadata": {},
   "outputs": [],
   "source": [
    "def renomear(var_aposentadoria):\n",
    "    var_aposentadoria = re.sub(r\"\\bAPOSENTADORIA POR INVALIDEZ\\b\", \"Aposentadoria por invalidez\", var_aposentadoria)\n",
    "    var_aposentadoria = re.sub(r\"\\bAPOSENTADORIA VOLUNTARIA\\b\", \"Aposentadoria voluntária\", var_aposentadoria)\n",
    "    var_aposentadoria = re.sub(r\"\\bAPOSENTADORIA COMPULSORIA\\b\", \"Aposentadoria compulsória\", var_aposentadoria)\n",
    "    var_aposentadoria = re.sub(r\"\\bAPOSENTADORIA POR INCAPACIDADE\\b\", \"Aposentadoria por incapacidade\", var_aposentadoria)\n",
    "    var_aposentadoria = re.sub(r\"\\bOUTROS\\b\", \"Outros\", var_aposentadoria)\n",
    "    \n",
    "    return var_aposentadoria"
   ]
  },
  {
   "cell_type": "code",
   "execution_count": 8,
   "metadata": {},
   "outputs": [],
   "source": [
    "df['tipo_aposentadoria'] = df['tipo_aposentadoria'].apply(renomear)"
   ]
  },
  {
   "cell_type": "code",
   "execution_count": 9,
   "metadata": {},
   "outputs": [
    {
     "data": {
      "text/plain": [
       "array(['Aposentadoria por invalidez', 'Aposentadoria voluntária',\n",
       "       'Aposentadoria compulsória', 'Aposentadoria por incapacidade',\n",
       "       'Outros'], dtype=object)"
      ]
     },
     "execution_count": 9,
     "metadata": {},
     "output_type": "execute_result"
    }
   ],
   "source": [
    "df['tipo_aposentadoria'].unique()"
   ]
  },
  {
   "cell_type": "code",
   "execution_count": 10,
   "metadata": {},
   "outputs": [],
   "source": [
    "df['org_lotacao'] = df['org_lotacao'].str.title()"
   ]
  },
  {
   "cell_type": "code",
   "execution_count": 11,
   "metadata": {},
   "outputs": [
    {
     "data": {
      "text/plain": [
       "array(['Ministério Da Economia', 'Ministério Da Saúde',\n",
       "       'Ministério Da Educação',\n",
       "       'Ministério Da Justiça E Segurança Pública',\n",
       "       'Ministério Da Defesa',\n",
       "       'Ministério Da Ciência, Tecnologia, Inovações E Comunicações',\n",
       "       'Ministério Da Infraestrutura', 'Presidência Da República',\n",
       "       'Ministério Das Relações Exteriores',\n",
       "       'Ministério Da Agricultura, Pecuária E Abastecimento',\n",
       "       'Ministério Do Desenvolvimento Regional', 'Ministério Do Turismo',\n",
       "       'Ministério Do Meio Ambiente', 'Ministério De Minas E Energia',\n",
       "       'Controladoria-Geral Da União',\n",
       "       'Ministério Do Desenvolvimento Social',\n",
       "       'Ministerio Das Comunicacoes', 'Defensoria Pública Da União',\n",
       "       'Ministerio Da Cultura', 'Min Gestao E Inov Em Serv Publicos',\n",
       "       'Ministerio Dos Transportes', 'Ministerio Da Previdencia Social',\n",
       "       'Ministerio Do Planejamento E Orcamento',\n",
       "       'Min Do Desenv Agr E Agric Familiar',\n",
       "       'Min Da Integ E Do Desenv Regional',\n",
       "       'Ministerio Dos Povos Indigenas', 'Ministerio Do Meio Ambiente',\n",
       "       'Ministerio Do Trabalho E Emprego',\n",
       "       'Ministerio De Portos E Aeroportos',\n",
       "       'Min Desenvolv Ind Comercio E Servicos', 'Ministerio Da Fazenda',\n",
       "       'Ministerio Do Trabalho E Previdencia',\n",
       "       'Conselho Nacional De Desenvolvimento Científico E Tecnológico',\n",
       "       'Caixa De Financiamento Imobiliário Da Aeronáutica'], dtype=object)"
      ]
     },
     "execution_count": 11,
     "metadata": {},
     "output_type": "execute_result"
    }
   ],
   "source": [
    "df['org_lotacao'].unique()"
   ]
  },
  {
   "cell_type": "code",
   "execution_count": 12,
   "metadata": {},
   "outputs": [],
   "source": [
    "def renomear2(var_aposentadoria):\n",
    "    var_aposentadoria = re.sub(r\"\\bMin Gestao E Inov Em Serv Publicos\\b\", \"Ministério Gestão E Inovação Em Serviços Públicos\", var_aposentadoria)\n",
    "    var_aposentadoria = re.sub(r\"\\bMinisterio Dos Povos Indigenas\\b\", \"Ministério dos Povos Indígenas\", var_aposentadoria)\n",
    "    var_aposentadoria = re.sub(r\"\\bMinisterio Da Previdencia Social\\b\", \"Ministério Da Previdência Social\", var_aposentadoria)\n",
    "    var_aposentadoria = re.sub(r\"\\bMinisterio Do Planejamento E Orcamento\\b\", \"Ministério Do Planejamento E Orçamento\", var_aposentadoria)\n",
    "    var_aposentadoria = re.sub(r\"\\bMin Da Integ E Do Desenv Regional\\b\", \"Ministério da Integração e do Desenvolvimento Regional\", var_aposentadoria)\n",
    "    var_aposentadoria = re.sub(r\"\\bMin Do Desenv Agr E Agric Familiar\\b\", \"Ministério do Desenvolvimento Agrário e Agricultura Familiar\", var_aposentadoria)\n",
    "    var_aposentadoria = re.sub(r\"\\bMin Desenvolv Ind Comercio E Servicos\\b\", \"Ministério do Desenvolvimento, Indústria, Comércio e Serviços\", var_aposentadoria)\n",
    "    var_aposentadoria = re.sub(r\"\\bComunicacoes\\b\", \"Comunicações\", var_aposentadoria)\n",
    "    var_aposentadoria = re.sub(r\"\\bMinisterio\\b\", \"Ministério\", var_aposentadoria)\n",
    "    var_aposentadoria = re.sub(r\"\\bPrevidencia\\b\", \"Previdência\", var_aposentadoria)\n",
    "\n",
    "    \n",
    "    return var_aposentadoria"
   ]
  },
  {
   "cell_type": "code",
   "execution_count": 13,
   "metadata": {},
   "outputs": [],
   "source": [
    "df['org_lotacao'] = df['org_lotacao'].apply(renomear2)"
   ]
  },
  {
   "cell_type": "code",
   "execution_count": 14,
   "metadata": {},
   "outputs": [
    {
     "data": {
      "text/plain": [
       "array(['Ministério Da Economia', 'Ministério Da Saúde',\n",
       "       'Ministério Da Educação',\n",
       "       'Ministério Da Justiça E Segurança Pública',\n",
       "       'Ministério Da Defesa',\n",
       "       'Ministério Da Ciência, Tecnologia, Inovações E Comunicações',\n",
       "       'Ministério Da Infraestrutura', 'Presidência Da República',\n",
       "       'Ministério Das Relações Exteriores',\n",
       "       'Ministério Da Agricultura, Pecuária E Abastecimento',\n",
       "       'Ministério Do Desenvolvimento Regional', 'Ministério Do Turismo',\n",
       "       'Ministério Do Meio Ambiente', 'Ministério De Minas E Energia',\n",
       "       'Controladoria-Geral Da União',\n",
       "       'Ministério Do Desenvolvimento Social',\n",
       "       'Ministério Das Comunicações', 'Defensoria Pública Da União',\n",
       "       'Ministério Da Cultura',\n",
       "       'Ministério Gestão E Inovação Em Serviços Públicos',\n",
       "       'Ministério Dos Transportes', 'Ministério Da Previdência Social',\n",
       "       'Ministério Do Planejamento E Orçamento',\n",
       "       'Ministério do Desenvolvimento Agrário e Agricultura Familiar',\n",
       "       'Ministério da Integração e do Desenvolvimento Regional',\n",
       "       'Ministério dos Povos Indígenas',\n",
       "       'Ministério Do Trabalho E Emprego',\n",
       "       'Ministério De Portos E Aeroportos',\n",
       "       'Ministério do Desenvolvimento, Indústria, Comércio e Serviços',\n",
       "       'Ministério Da Fazenda', 'Ministério Do Trabalho E Previdência',\n",
       "       'Conselho Nacional De Desenvolvimento Científico E Tecnológico',\n",
       "       'Caixa De Financiamento Imobiliário Da Aeronáutica'], dtype=object)"
      ]
     },
     "execution_count": 14,
     "metadata": {},
     "output_type": "execute_result"
    }
   ],
   "source": [
    "df['org_lotacao'].unique()"
   ]
  },
  {
   "cell_type": "code",
   "execution_count": 15,
   "metadata": {},
   "outputs": [
    {
     "data": {
      "text/plain": [
       "array(['REGIME JURIDICO UNICO'], dtype=object)"
      ]
     },
     "execution_count": 15,
     "metadata": {},
     "output_type": "execute_result"
    }
   ],
   "source": [
    "df['regime_juridico'].unique()"
   ]
  },
  {
   "cell_type": "code",
   "execution_count": 16,
   "metadata": {},
   "outputs": [],
   "source": [
    "def renomear3(var_regime):\n",
    "    var_regime = re.sub(r\"\\bREGIME JURIDICO UNICO\\b\", \"Regime Jurídico Único\", var_regime)\n",
    "    return var_regime"
   ]
  },
  {
   "cell_type": "code",
   "execution_count": 17,
   "metadata": {},
   "outputs": [],
   "source": [
    "df['regime_juridico'] = df['regime_juridico'].apply(renomear3)"
   ]
  },
  {
   "cell_type": "code",
   "execution_count": 18,
   "metadata": {},
   "outputs": [
    {
     "data": {
      "text/plain": [
       "array(['Ministério Da Economia', 'Ministério Da Saúde',\n",
       "       'Ministério Da Educação',\n",
       "       'Ministério Da Justiça E Segurança Pública',\n",
       "       'Ministério Da Defesa',\n",
       "       'Ministério Da Ciência, Tecnologia, Inovações E Comunicações',\n",
       "       'Ministério Da Infraestrutura', 'Presidência Da República',\n",
       "       'Ministério Das Relações Exteriores',\n",
       "       'Ministério Da Agricultura, Pecuária E Abastecimento',\n",
       "       'Ministério Do Desenvolvimento Regional', 'Ministério Do Turismo',\n",
       "       'Ministério Do Meio Ambiente', 'Ministério De Minas E Energia',\n",
       "       'Controladoria-Geral Da União',\n",
       "       'Ministério Do Desenvolvimento Social',\n",
       "       'Ministério Das Comunicações', 'Defensoria Pública Da União',\n",
       "       'Ministério Da Cultura',\n",
       "       'Ministério Gestão E Inovação Em Serviços Públicos',\n",
       "       'Ministério Dos Transportes', 'Ministério Da Previdência Social',\n",
       "       'Ministério Do Planejamento E Orçamento',\n",
       "       'Ministério do Desenvolvimento Agrário e Agricultura Familiar',\n",
       "       'Ministério da Integração e do Desenvolvimento Regional',\n",
       "       'Ministério dos Povos Indígenas',\n",
       "       'Ministério Do Trabalho E Emprego',\n",
       "       'Ministério De Portos E Aeroportos',\n",
       "       'Ministério do Desenvolvimento, Indústria, Comércio e Serviços',\n",
       "       'Ministério Da Fazenda', 'Ministério Do Trabalho E Previdência',\n",
       "       'Conselho Nacional De Desenvolvimento Científico E Tecnológico',\n",
       "       'Caixa De Financiamento Imobiliário Da Aeronáutica'], dtype=object)"
      ]
     },
     "execution_count": 18,
     "metadata": {},
     "output_type": "execute_result"
    }
   ],
   "source": [
    "df['org_lotacao'].unique()"
   ]
  },
  {
   "cell_type": "code",
   "execution_count": 19,
   "metadata": {},
   "outputs": [],
   "source": [
    "ministerios = {\n",
    "    \"Ministério Do Turismo\": \"Cultura, Turismo e Esportes\",\n",
    "    \"Ministério Da Economia\": \"Economia, Finanças, Planejamento, Previdência e Gestão\",\n",
    "    \"Ministério Da Saúde\": \"Saúde\",\n",
    "    \"Ministério Da Justiça E Segurança Pública\": \"Justiça, Segurança e Órgãos de Controle e Defesa\",\n",
    "    \"Ministério Da Educação\": \"Educação e Ciência e Tecnologia\",\n",
    "    \"Ministério De Minas E Energia\": \"Infraestrutura, Transporte, Desenvolvimento Regional, Portos e Aeroportos, Minas e Energia\",\n",
    "    \"Ministério Da Defesa\": \"Justiça, Segurança e Órgãos de Controle e Defesa\",\n",
    "    \"Ministério Da Ciência, Tecnologia, Inovações E Comunicações\": \"Educação e Ciência e Tecnologia\",\n",
    "    \"Ministério Da Infraestrutura\": \"Infraestrutura, Transporte, Desenvolvimento Regional, Portos e Aeroportos, Minas e Energia\",\n",
    "    \"Presidência Da República\": \"Presidência Da República\",\n",
    "    \"Ministério Das Relações Exteriores\": \"Relações Exteriores\",\n",
    "    \"Ministério Da Agricultura, Pecuária E Abastecimento\": \"Meio ambiente, Agricultura e Agropecuária\",\n",
    "    \"Ministério Do Desenvolvimento Regional\": \"Infraestrutura, Transporte, Desenvolvimento Regional, Portos e Aeroportos, Minas e Energia\",\n",
    "    \"Ministério Do Meio Ambiente\": \"Meio ambiente, Agricultura e Agropecuária\",\n",
    "    \"Controladoria-Geral Da União\": \"Justiça, Segurança e Órgãos de Controle e Defesa\",\n",
    "    \"Ministério Do Desenvolvimento Social\": \"Desenvolvimento Social e Direitos Humanos\",\n",
    "    \"Defensoria Pública Da União\": \"Justiça, Segurança e Órgãos de Controle e Defesa\",\n",
    "    \"Conselho Nacional De Desenvolvimento Científico E Tecnológico\": \"Educação e Ciência e Tecnologia\",\n",
    "    \"Ministério Gestão E Inovação Em Serviços Públicos\": \"Economia, Finanças, Planejamento, Previdência e Gestão\",\n",
    "    \"Ministério Da Cultura\": \"Cultura, Turismo e Esportes\",\n",
    "    \"Ministério Dos Transportes\": \"Infraestrutura, Transporte, Desenvolvimento Regional, Portos e Aeroportos, Minas e Energia\",\n",
    "    \"Ministério Da Previdência Social\": \"Economia, Finanças, Planejamento, Previdência e Gestão\",\n",
    "    \"Ministério Do Planejamento E Orçamento\": \"Economia, Finanças, Planejamento, Previdência e Gestão\",\n",
    "    \"Ministério da Integração e do Desenvolvimento Regional\": \"Infraestrutura, Transporte, Desenvolvimento Regional, Portos e Aeroportos, Minas e Energia\",\n",
    "    \"Ministério do Desenvolvimento Agrário e Agricultura Familiar\": \"Meio ambiente, Agricultura e Agropecuária\",\n",
    "    \"Ministério dos Povos Indígenas\": \"Desenvolvimento Social e Direitos Humanos\",\n",
    "    \"Ministério Do Trabalho E Emprego\": \"Economia, Finanças, Planejamento, Previdência e Gestão\",\n",
    "    \"Ministério De Portos E Aeroportos\": \"Infraestrutura, Transporte, Desenvolvimento Regional, Portos e Aeroportos, Minas e Energia\",\n",
    "    \"Ministério do Desenvolvimento, Indústria, Comércio e Serviços\": \"Infraestrutura, Transporte, Desenvolvimento Regional, Portos e Aeroportos, Minas e Energia\",\n",
    "    \"Ministério Da Fazenda\": \"Economia, Finanças, Planejamento, Previdência e Gestão\",\n",
    "    \"Ministério Das Comunicações\": \"Infraestrutura, Transporte, Desenvolvimento Regional, Portos e Aeroportos, Minas e Energia\",\n",
    "    \"Caixa De Financiamento Imobiliário Da Aeronáutica\": \"Economia, Finanças, Planejamento, Previdência e Gestão\",\n",
    "    \"Ministério Do Trabalho E Previdência\": \"Economia, Finanças, Planejamento, Previdência e Gestão\"\n",
    "}\n"
   ]
  },
  {
   "cell_type": "code",
   "execution_count": 20,
   "metadata": {},
   "outputs": [],
   "source": [
    "def categorizando(x):\n",
    "    if x in ministerios:\n",
    "        return ministerios[x]\n"
   ]
  },
  {
   "cell_type": "code",
   "execution_count": 21,
   "metadata": {},
   "outputs": [],
   "source": [
    "df['categoria_ministerios'] = df['org_lotacao'].apply(categorizando)"
   ]
  },
  {
   "cell_type": "code",
   "execution_count": 22,
   "metadata": {},
   "outputs": [
    {
     "data": {
      "text/html": [
       "<div>\n",
       "<style scoped>\n",
       "    .dataframe tbody tr th:only-of-type {\n",
       "        vertical-align: middle;\n",
       "    }\n",
       "\n",
       "    .dataframe tbody tr th {\n",
       "        vertical-align: top;\n",
       "    }\n",
       "\n",
       "    .dataframe thead th {\n",
       "        text-align: right;\n",
       "    }\n",
       "</style>\n",
       "<table border=\"1\" class=\"dataframe\">\n",
       "  <thead>\n",
       "    <tr style=\"text-align: right;\">\n",
       "      <th></th>\n",
       "      <th>ano</th>\n",
       "      <th>mes</th>\n",
       "      <th>tipo_aposentadoria</th>\n",
       "      <th>org_lotacao</th>\n",
       "      <th>regime_juridico</th>\n",
       "      <th>total</th>\n",
       "      <th>categoria_ministerios</th>\n",
       "    </tr>\n",
       "  </thead>\n",
       "  <tbody>\n",
       "    <tr>\n",
       "      <th>0</th>\n",
       "      <td>2022</td>\n",
       "      <td>11</td>\n",
       "      <td>Aposentadoria por invalidez</td>\n",
       "      <td>Ministério Da Economia</td>\n",
       "      <td>Regime Jurídico Único</td>\n",
       "      <td>1</td>\n",
       "      <td>Economia, Finanças, Planejamento, Previdência ...</td>\n",
       "    </tr>\n",
       "    <tr>\n",
       "      <th>1</th>\n",
       "      <td>2022</td>\n",
       "      <td>11</td>\n",
       "      <td>Aposentadoria voluntária</td>\n",
       "      <td>Ministério Da Economia</td>\n",
       "      <td>Regime Jurídico Único</td>\n",
       "      <td>1</td>\n",
       "      <td>Economia, Finanças, Planejamento, Previdência ...</td>\n",
       "    </tr>\n",
       "    <tr>\n",
       "      <th>2</th>\n",
       "      <td>2022</td>\n",
       "      <td>11</td>\n",
       "      <td>Aposentadoria voluntária</td>\n",
       "      <td>Ministério Da Economia</td>\n",
       "      <td>Regime Jurídico Único</td>\n",
       "      <td>1</td>\n",
       "      <td>Economia, Finanças, Planejamento, Previdência ...</td>\n",
       "    </tr>\n",
       "    <tr>\n",
       "      <th>3</th>\n",
       "      <td>2022</td>\n",
       "      <td>11</td>\n",
       "      <td>Aposentadoria voluntária</td>\n",
       "      <td>Ministério Da Economia</td>\n",
       "      <td>Regime Jurídico Único</td>\n",
       "      <td>1</td>\n",
       "      <td>Economia, Finanças, Planejamento, Previdência ...</td>\n",
       "    </tr>\n",
       "    <tr>\n",
       "      <th>4</th>\n",
       "      <td>2022</td>\n",
       "      <td>11</td>\n",
       "      <td>Aposentadoria voluntária</td>\n",
       "      <td>Ministério Da Economia</td>\n",
       "      <td>Regime Jurídico Único</td>\n",
       "      <td>1</td>\n",
       "      <td>Economia, Finanças, Planejamento, Previdência ...</td>\n",
       "    </tr>\n",
       "    <tr>\n",
       "      <th>...</th>\n",
       "      <td>...</td>\n",
       "      <td>...</td>\n",
       "      <td>...</td>\n",
       "      <td>...</td>\n",
       "      <td>...</td>\n",
       "      <td>...</td>\n",
       "      <td>...</td>\n",
       "    </tr>\n",
       "    <tr>\n",
       "      <th>1689358</th>\n",
       "      <td>2021</td>\n",
       "      <td>11</td>\n",
       "      <td>Aposentadoria voluntária</td>\n",
       "      <td>Ministério Da Economia</td>\n",
       "      <td>Regime Jurídico Único</td>\n",
       "      <td>1</td>\n",
       "      <td>Economia, Finanças, Planejamento, Previdência ...</td>\n",
       "    </tr>\n",
       "    <tr>\n",
       "      <th>1689359</th>\n",
       "      <td>2021</td>\n",
       "      <td>11</td>\n",
       "      <td>Aposentadoria voluntária</td>\n",
       "      <td>Ministério Da Economia</td>\n",
       "      <td>Regime Jurídico Único</td>\n",
       "      <td>1</td>\n",
       "      <td>Economia, Finanças, Planejamento, Previdência ...</td>\n",
       "    </tr>\n",
       "    <tr>\n",
       "      <th>1689360</th>\n",
       "      <td>2021</td>\n",
       "      <td>11</td>\n",
       "      <td>Aposentadoria por invalidez</td>\n",
       "      <td>Ministério Da Defesa</td>\n",
       "      <td>Regime Jurídico Único</td>\n",
       "      <td>1</td>\n",
       "      <td>Justiça, Segurança e Órgãos de Controle e Defesa</td>\n",
       "    </tr>\n",
       "    <tr>\n",
       "      <th>1689361</th>\n",
       "      <td>2021</td>\n",
       "      <td>11</td>\n",
       "      <td>Aposentadoria por invalidez</td>\n",
       "      <td>Ministério Da Defesa</td>\n",
       "      <td>Regime Jurídico Único</td>\n",
       "      <td>1</td>\n",
       "      <td>Justiça, Segurança e Órgãos de Controle e Defesa</td>\n",
       "    </tr>\n",
       "    <tr>\n",
       "      <th>1689362</th>\n",
       "      <td>2021</td>\n",
       "      <td>11</td>\n",
       "      <td>Aposentadoria voluntária</td>\n",
       "      <td>Ministério Da Defesa</td>\n",
       "      <td>Regime Jurídico Único</td>\n",
       "      <td>1</td>\n",
       "      <td>Justiça, Segurança e Órgãos de Controle e Defesa</td>\n",
       "    </tr>\n",
       "  </tbody>\n",
       "</table>\n",
       "<p>1689363 rows × 7 columns</p>\n",
       "</div>"
      ],
      "text/plain": [
       "          ano  mes           tipo_aposentadoria             org_lotacao  \\\n",
       "0        2022   11  Aposentadoria por invalidez  Ministério Da Economia   \n",
       "1        2022   11     Aposentadoria voluntária  Ministério Da Economia   \n",
       "2        2022   11     Aposentadoria voluntária  Ministério Da Economia   \n",
       "3        2022   11     Aposentadoria voluntária  Ministério Da Economia   \n",
       "4        2022   11     Aposentadoria voluntária  Ministério Da Economia   \n",
       "...       ...  ...                          ...                     ...   \n",
       "1689358  2021   11     Aposentadoria voluntária  Ministério Da Economia   \n",
       "1689359  2021   11     Aposentadoria voluntária  Ministério Da Economia   \n",
       "1689360  2021   11  Aposentadoria por invalidez    Ministério Da Defesa   \n",
       "1689361  2021   11  Aposentadoria por invalidez    Ministério Da Defesa   \n",
       "1689362  2021   11     Aposentadoria voluntária    Ministério Da Defesa   \n",
       "\n",
       "               regime_juridico  total  \\\n",
       "0        Regime Jurídico Único      1   \n",
       "1        Regime Jurídico Único      1   \n",
       "2        Regime Jurídico Único      1   \n",
       "3        Regime Jurídico Único      1   \n",
       "4        Regime Jurídico Único      1   \n",
       "...                        ...    ...   \n",
       "1689358  Regime Jurídico Único      1   \n",
       "1689359  Regime Jurídico Único      1   \n",
       "1689360  Regime Jurídico Único      1   \n",
       "1689361  Regime Jurídico Único      1   \n",
       "1689362  Regime Jurídico Único      1   \n",
       "\n",
       "                                     categoria_ministerios  \n",
       "0        Economia, Finanças, Planejamento, Previdência ...  \n",
       "1        Economia, Finanças, Planejamento, Previdência ...  \n",
       "2        Economia, Finanças, Planejamento, Previdência ...  \n",
       "3        Economia, Finanças, Planejamento, Previdência ...  \n",
       "4        Economia, Finanças, Planejamento, Previdência ...  \n",
       "...                                                    ...  \n",
       "1689358  Economia, Finanças, Planejamento, Previdência ...  \n",
       "1689359  Economia, Finanças, Planejamento, Previdência ...  \n",
       "1689360   Justiça, Segurança e Órgãos de Controle e Defesa  \n",
       "1689361   Justiça, Segurança e Órgãos de Controle e Defesa  \n",
       "1689362   Justiça, Segurança e Órgãos de Controle e Defesa  \n",
       "\n",
       "[1689363 rows x 7 columns]"
      ]
     },
     "execution_count": 22,
     "metadata": {},
     "output_type": "execute_result"
    }
   ],
   "source": [
    "df"
   ]
  },
  {
   "cell_type": "code",
   "execution_count": 23,
   "metadata": {},
   "outputs": [
    {
     "data": {
      "text/plain": [
       "array(['Economia, Finanças, Planejamento, Previdência e Gestão', 'Saúde',\n",
       "       'Educação e Ciência e Tecnologia',\n",
       "       'Justiça, Segurança e Órgãos de Controle e Defesa',\n",
       "       'Infraestrutura, Transporte, Desenvolvimento Regional, Portos e Aeroportos, Minas e Energia',\n",
       "       'Presidência Da República', 'Relações Exteriores',\n",
       "       'Meio ambiente, Agricultura e Agropecuária',\n",
       "       'Cultura, Turismo e Esportes',\n",
       "       'Desenvolvimento Social e Direitos Humanos'], dtype=object)"
      ]
     },
     "execution_count": 23,
     "metadata": {},
     "output_type": "execute_result"
    }
   ],
   "source": [
    "df['categoria_ministerios'].unique()"
   ]
  },
  {
   "cell_type": "code",
   "execution_count": 24,
   "metadata": {},
   "outputs": [
    {
     "data": {
      "text/plain": [
       "Educação e Ciência e Tecnologia                                                               500246\n",
       "Economia, Finanças, Planejamento, Previdência e Gestão                                        472829\n",
       "Saúde                                                                                         397423\n",
       "Justiça, Segurança e Órgãos de Controle e Defesa                                              174720\n",
       "Meio ambiente, Agricultura e Agropecuária                                                      69864\n",
       "Presidência Da República                                                                       30159\n",
       "Infraestrutura, Transporte, Desenvolvimento Regional, Portos e Aeroportos, Minas e Energia     26970\n",
       "Cultura, Turismo e Esportes                                                                     8578\n",
       "Relações Exteriores                                                                             6644\n",
       "Desenvolvimento Social e Direitos Humanos                                                       1930\n",
       "Name: categoria_ministerios, dtype: int64"
      ]
     },
     "execution_count": 24,
     "metadata": {},
     "output_type": "execute_result"
    }
   ],
   "source": [
    "df['categoria_ministerios'].value_counts()"
   ]
  },
  {
   "cell_type": "code",
   "execution_count": 25,
   "metadata": {},
   "outputs": [
    {
     "data": {
      "text/plain": [
       "array(['Ministério Da Economia', 'Ministério Da Saúde',\n",
       "       'Ministério Da Educação',\n",
       "       'Ministério Da Justiça E Segurança Pública',\n",
       "       'Ministério Da Defesa',\n",
       "       'Ministério Da Ciência, Tecnologia, Inovações E Comunicações',\n",
       "       'Ministério Da Infraestrutura', 'Presidência Da República',\n",
       "       'Ministério Das Relações Exteriores',\n",
       "       'Ministério Da Agricultura, Pecuária E Abastecimento',\n",
       "       'Ministério Do Desenvolvimento Regional', 'Ministério Do Turismo',\n",
       "       'Ministério Do Meio Ambiente', 'Ministério De Minas E Energia',\n",
       "       'Controladoria-Geral Da União',\n",
       "       'Ministério Do Desenvolvimento Social',\n",
       "       'Ministério Das Comunicações', 'Defensoria Pública Da União',\n",
       "       'Ministério Da Cultura',\n",
       "       'Ministério Gestão E Inovação Em Serviços Públicos',\n",
       "       'Ministério Dos Transportes', 'Ministério Da Previdência Social',\n",
       "       'Ministério Do Planejamento E Orçamento',\n",
       "       'Ministério do Desenvolvimento Agrário e Agricultura Familiar',\n",
       "       'Ministério da Integração e do Desenvolvimento Regional',\n",
       "       'Ministério dos Povos Indígenas',\n",
       "       'Ministério Do Trabalho E Emprego',\n",
       "       'Ministério De Portos E Aeroportos',\n",
       "       'Ministério do Desenvolvimento, Indústria, Comércio e Serviços',\n",
       "       'Ministério Da Fazenda', 'Ministério Do Trabalho E Previdência',\n",
       "       'Conselho Nacional De Desenvolvimento Científico E Tecnológico',\n",
       "       'Caixa De Financiamento Imobiliário Da Aeronáutica'], dtype=object)"
      ]
     },
     "execution_count": 25,
     "metadata": {},
     "output_type": "execute_result"
    }
   ],
   "source": [
    "df['org_lotacao'].unique()\n"
   ]
  },
  {
   "cell_type": "code",
   "execution_count": 26,
   "metadata": {},
   "outputs": [
    {
     "data": {
      "text/plain": [
       "array(['Economia, Finanças, Planejamento, Previdência e Gestão', 'Saúde',\n",
       "       'Educação e Ciência e Tecnologia',\n",
       "       'Justiça, Segurança e Órgãos de Controle e Defesa',\n",
       "       'Infraestrutura, Transporte, Desenvolvimento Regional, Portos e Aeroportos, Minas e Energia',\n",
       "       'Presidência Da República', 'Relações Exteriores',\n",
       "       'Meio ambiente, Agricultura e Agropecuária',\n",
       "       'Cultura, Turismo e Esportes',\n",
       "       'Desenvolvimento Social e Direitos Humanos'], dtype=object)"
      ]
     },
     "execution_count": 26,
     "metadata": {},
     "output_type": "execute_result"
    }
   ],
   "source": [
    "df['categoria_ministerios'].unique()"
   ]
  },
  {
   "cell_type": "code",
   "execution_count": 62,
   "metadata": {},
   "outputs": [
    {
     "data": {
      "text/plain": [
       "Index(['ano', 'mes', 'tipo_aposentadoria', 'org_lotacao', 'regime_juridico',\n",
       "       'total', 'categoria_ministerios'],\n",
       "      dtype='object')"
      ]
     },
     "execution_count": 62,
     "metadata": {},
     "output_type": "execute_result"
    }
   ],
   "source": [
    "df.columns"
   ]
  },
  {
   "cell_type": "code",
   "execution_count": null,
   "metadata": {},
   "outputs": [],
   "source": []
  },
  {
   "cell_type": "code",
   "execution_count": 61,
   "metadata": {},
   "outputs": [],
   "source": [
    "client = bigquery.Client()\n",
    "dataset_ref = client.dataset('perfil_remuneracao')"
   ]
  },
  {
   "cell_type": "code",
   "execution_count": 63,
   "metadata": {},
   "outputs": [],
   "source": [
    "#schema=[bigquery.SchemaField('ano','INTEGER',description='Ano de referência da observação'),\n",
    "        bigquery.SchemaField('mes','INTEGER',description='Mês de referência da observação'),        \n",
    "        bigquery.SchemaField('tipo_aposentadoria','STRING',description='Tipo de aposentadoria'),\n",
    "        bigquery.SchemaField('org_lotacao','STRING',description='Órgão de lotação'),\n",
    "        bigquery.SchemaField('regime_juridico','STRING',description='Regime jurídico'),\n",
    "        bigquery.SchemaField('total','INTEGER',description='Quantidade total da observação'),\n",
    "        bigquery.SchemaField('categoria_ministerios','STRING',description='Categorias dos ministérios')]\n"
   ]
  },
  {
   "cell_type": "code",
   "execution_count": 64,
   "metadata": {},
   "outputs": [
    {
     "data": {
      "text/plain": [
       "LoadJob<project=repositoriodedadosgpsp, location=US, id=49644a91-c758-48c5-a630-bc40fc8eb799>"
      ]
     },
     "execution_count": 64,
     "metadata": {},
     "output_type": "execute_result"
    }
   ],
   "source": [
    "table_ref = dataset_ref.table('SIAPE_aposentadorias') \n",
    "job_config = bigquery.LoadJobConfig(schema=schema)\n",
    "job = client.load_table_from_dataframe(df, table_ref, job_config=job_config)\n",
    "job.result() \n"
   ]
  }
 ],
 "metadata": {
  "kernelspec": {
   "display_name": "base",
   "language": "python",
   "name": "python3"
  },
  "language_info": {
   "codemirror_mode": {
    "name": "ipython",
    "version": 3
   },
   "file_extension": ".py",
   "mimetype": "text/x-python",
   "name": "python",
   "nbconvert_exporter": "python",
   "pygments_lexer": "ipython3",
   "version": "3.11.4"
  }
 },
 "nbformat": 4,
 "nbformat_minor": 2
}
