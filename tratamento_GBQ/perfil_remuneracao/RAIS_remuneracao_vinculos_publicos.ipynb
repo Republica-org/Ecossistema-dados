{
  "cells": [
    {
      "cell_type": "code",
      "source": [
        "!pip install gcloud"
      ],
      "metadata": {
        "colab": {
          "base_uri": "https://localhost:8080/"
        },
        "id": "kVX9KWmqWlF3",
        "outputId": "5a598cb9-f07f-4a2d-86d2-24a6f1afeb55"
      },
      "execution_count": 1,
      "outputs": [
        {
          "output_type": "stream",
          "name": "stdout",
          "text": [
            "Collecting gcloud\n",
            "  Downloading gcloud-0.18.3.tar.gz (454 kB)\n",
            "\u001b[2K     \u001b[90m━━━━━━━━━━━━━━━━━━━━━━━━━━━━━━━━━━━━━━━━\u001b[0m \u001b[32m454.4/454.4 kB\u001b[0m \u001b[31m2.2 MB/s\u001b[0m eta \u001b[36m0:00:00\u001b[0m\n",
            "\u001b[?25h  Preparing metadata (setup.py) ... \u001b[?25l\u001b[?25hdone\n",
            "Requirement already satisfied: httplib2>=0.9.1 in /usr/local/lib/python3.10/dist-packages (from gcloud) (0.22.0)\n",
            "Requirement already satisfied: googleapis-common-protos in /usr/local/lib/python3.10/dist-packages (from gcloud) (1.63.2)\n",
            "Requirement already satisfied: oauth2client>=2.0.1 in /usr/local/lib/python3.10/dist-packages (from gcloud) (4.1.3)\n",
            "Requirement already satisfied: protobuf!=3.0.0.b2.post1,>=3.0.0b2 in /usr/local/lib/python3.10/dist-packages (from gcloud) (3.20.3)\n",
            "Requirement already satisfied: six in /usr/local/lib/python3.10/dist-packages (from gcloud) (1.16.0)\n",
            "Requirement already satisfied: pyparsing!=3.0.0,!=3.0.1,!=3.0.2,!=3.0.3,<4,>=2.4.2 in /usr/local/lib/python3.10/dist-packages (from httplib2>=0.9.1->gcloud) (3.1.2)\n",
            "Requirement already satisfied: pyasn1>=0.1.7 in /usr/local/lib/python3.10/dist-packages (from oauth2client>=2.0.1->gcloud) (0.6.0)\n",
            "Requirement already satisfied: pyasn1-modules>=0.0.5 in /usr/local/lib/python3.10/dist-packages (from oauth2client>=2.0.1->gcloud) (0.4.0)\n",
            "Requirement already satisfied: rsa>=3.1.4 in /usr/local/lib/python3.10/dist-packages (from oauth2client>=2.0.1->gcloud) (4.9)\n",
            "Building wheels for collected packages: gcloud\n",
            "  Building wheel for gcloud (setup.py) ... \u001b[?25l\u001b[?25hdone\n",
            "  Created wheel for gcloud: filename=gcloud-0.18.3-py3-none-any.whl size=602927 sha256=030be72365305d0067b687cf269c136e2124977b07f078327a5dea942c075041\n",
            "  Stored in directory: /root/.cache/pip/wheels/7c/30/88/5017af921da3a33af785f0d0fd3e944b845bc62a445a2c2f69\n",
            "Successfully built gcloud\n",
            "Installing collected packages: gcloud\n",
            "Successfully installed gcloud-0.18.3\n"
          ]
        }
      ]
    },
    {
      "cell_type": "code",
      "source": [
        "!gcloud auth application-default login"
      ],
      "metadata": {
        "colab": {
          "base_uri": "https://localhost:8080/"
        },
        "id": "gJZECiJGWl-j",
        "outputId": "04131ea6-5933-4563-b7b2-b4d06ca662dd"
      },
      "execution_count": 2,
      "outputs": [
        {
          "output_type": "stream",
          "name": "stdout",
          "text": [
            "Go to the following link in your browser, and complete the sign-in prompts:\n",
            "\n",
            "    https://accounts.google.com/o/oauth2/auth?response_type=code&client_id=764086051850-6qr4p6gpi6hn506pt8ejuq83di341hur.apps.googleusercontent.com&redirect_uri=https%3A%2F%2Fsdk.cloud.google.com%2Fapplicationdefaultauthcode.html&scope=openid+https%3A%2F%2Fwww.googleapis.com%2Fauth%2Fuserinfo.email+https%3A%2F%2Fwww.googleapis.com%2Fauth%2Fcloud-platform+https%3A%2F%2Fwww.googleapis.com%2Fauth%2Fsqlservice.login&state=TNNZwkOuGnSNjxY39UAyGwyTZUtWJ7&prompt=consent&token_usage=remote&access_type=offline&code_challenge=pXdHU-PT6qWoMPyY-MeIcmmvGHWf4VGljWVLB0uMVQ4&code_challenge_method=S256\n",
            "\n",
            "Once finished, enter the verification code provided in your browser: 4/0AcvDMrCOUpj0yFYyEdC6EDe6vPlCQfZTtN-Marfl6jB0X5oP8DOLjI6bbGHJUwZNdftGGw\n",
            "\n",
            "Credentials saved to file: [/content/.config/application_default_credentials.json]\n",
            "\n",
            "These credentials will be used by any library that requests Application Default Credentials (ADC).\n",
            "\u001b[1;33mWARNING:\u001b[0m \n",
            "Cannot find a quota project to add to ADC. You might receive a \"quota exceeded\" or \"API not enabled\" error. Run $ gcloud auth application-default set-quota-project to add a quota project.\n"
          ]
        }
      ]
    },
    {
      "cell_type": "code",
      "execution_count": 5,
      "metadata": {
        "id": "KCnFfLCxWYg8"
      },
      "outputs": [],
      "source": [
        "##importando pacotes\n",
        "import pandas as pd\n",
        "import numpy as np\n",
        "import time\n",
        "import os\n",
        "import pandas_gbq\n",
        "from google.cloud import bigquery\n",
        "import glob\n",
        "import openpyxl\n",
        "import csv\n",
        "import re"
      ]
    },
    {
      "cell_type": "code",
      "source": [
        "client = bigquery.Client(project='repositoriodedadosgpsp')"
      ],
      "metadata": {
        "colab": {
          "base_uri": "https://localhost:8080/"
        },
        "id": "elAAkHD_WmII",
        "outputId": "0f22d158-0c97-4f2f-9bb9-14081c6d3441"
      },
      "execution_count": 6,
      "outputs": [
        {
          "output_type": "stream",
          "name": "stderr",
          "text": [
            "/usr/local/lib/python3.10/dist-packages/google/auth/_default.py:76: UserWarning: Your application has authenticated using end user credentials from Google Cloud SDK without a quota project. You might receive a \"quota exceeded\" or \"API not enabled\" error. See the following page for troubleshooting: https://cloud.google.com/docs/authentication/adc-troubleshooting/user-creds. \n",
            "  warnings.warn(_CLOUD_SDK_CREDENTIALS_WARNING)\n"
          ]
        }
      ]
    },
    {
      "cell_type": "code",
      "source": [
        "# Definir a consulta SQL\n",
        "query = \"\"\"\n",
        "SELECT *\n",
        "FROM `repositoriodedadosgpsp.Datalake.RAIS_remuneracao_vinculos_publicos_v2`\n",
        "\"\"\"\n",
        "\n",
        "# Executar a consulta e salvar os resultados em um DataFrame do pandas\n",
        "df = client.query(query).to_dataframe()\n",
        "\n",
        "# Exibir os primeiros registros do DataFrame\n",
        "print(df.head())"
      ],
      "metadata": {
        "colab": {
          "base_uri": "https://localhost:8080/"
        },
        "id": "ru_F5p0JZg_f",
        "outputId": "0aa0622f-8305-41fa-e481-c601862bc578"
      },
      "execution_count": 7,
      "outputs": [
        {
          "output_type": "stream",
          "name": "stdout",
          "text": [
            "    ano variavel         categoria  media_remuneracao\n",
            "0  2022   genero  Não identificado           0.000000\n",
            "1  2022   genero          Feminino        5099.993482\n",
            "2  2017   genero          Feminino        3791.736833\n",
            "3  2009   genero          Feminino        1887.628480\n",
            "4  2008   genero          Feminino        1723.506923\n"
          ]
        }
      ]
    },
    {
      "cell_type": "code",
      "execution_count": 8,
      "metadata": {
        "colab": {
          "base_uri": "https://localhost:8080/"
        },
        "id": "ABBUGTN8WYg_",
        "outputId": "d3defee6-89f7-4b02-a2c8-cf6086bea716"
      },
      "outputs": [
        {
          "output_type": "execute_result",
          "data": {
            "text/plain": [
              "<IntegerArray>\n",
              "[2022, 2017, 2009, 2008, 2013, 2019, 2007, 2010, 2018, 2016, 2020, 2011, 2015,\n",
              " 2003, 2006, 2005, 2012, 2014, 2004, 2021]\n",
              "Length: 20, dtype: Int64"
            ]
          },
          "metadata": {},
          "execution_count": 8
        }
      ],
      "source": [
        "df['ano'].unique()\n",
        "\n",
        "## tenho de 2004 a 2021:\n",
        "\n"
      ]
    },
    {
      "cell_type": "code",
      "execution_count": 9,
      "metadata": {
        "id": "lCALF5vqWYhD",
        "colab": {
          "base_uri": "https://localhost:8080/"
        },
        "outputId": "91a33f37-87f0-48ad-918b-5a980c45b0f1"
      },
      "outputs": [
        {
          "output_type": "stream",
          "name": "stdout",
          "text": [
            "    ano  acumulado_dezembro_ano           it  fator_correcao\n",
            "0  2018                    3.75  4098.727240        1.328049\n",
            "1  2011                    6.50  2734.909768        1.990308\n",
            "2  2020                    4.52  4468.629667        1.218117\n",
            "3  2006                    3.14  2101.282770        2.590471\n",
            "4  1996                    9.56  1095.600000        4.968339\n"
          ]
        }
      ],
      "source": [
        "# Definir a consulta SQL\n",
        "query = \"\"\"\n",
        "SELECT * FROM `repositoriodedadosgpsp.Datalake.ipca`\n",
        "\"\"\"\n",
        "\n",
        "\n",
        "\n",
        "# Executar a consulta e salvar os resultados em um DataFrame do pandas\n",
        "ipca = client.query(query).to_dataframe()\n",
        "\n",
        "# Exibir os primeiros registros do DataFrame\n",
        "print(ipca.head())"
      ]
    },
    {
      "cell_type": "code",
      "execution_count": 10,
      "metadata": {
        "colab": {
          "base_uri": "https://localhost:8080/"
        },
        "id": "OsGfrtN3WYhD",
        "outputId": "6850d075-2fff-464d-81c1-e91e539342ab"
      },
      "outputs": [
        {
          "output_type": "stream",
          "name": "stdout",
          "text": [
            "<class 'pandas.core.frame.DataFrame'>\n",
            "RangeIndex: 29 entries, 0 to 28\n",
            "Data columns (total 4 columns):\n",
            " #   Column                  Non-Null Count  Dtype  \n",
            "---  ------                  --------------  -----  \n",
            " 0   ano                     29 non-null     Int64  \n",
            " 1   acumulado_dezembro_ano  29 non-null     float64\n",
            " 2   it                      29 non-null     float64\n",
            " 3   fator_correcao          29 non-null     float64\n",
            "dtypes: Int64(1), float64(3)\n",
            "memory usage: 1.1 KB\n"
          ]
        }
      ],
      "source": [
        "ipca.info()"
      ]
    },
    {
      "cell_type": "code",
      "execution_count": 11,
      "metadata": {
        "id": "segTaA0BWYhE"
      },
      "outputs": [],
      "source": [
        "df1= df.merge(ipca[['ano','fator_correcao']], right_on='ano',left_on='ano')"
      ]
    },
    {
      "cell_type": "code",
      "execution_count": 12,
      "metadata": {
        "id": "AOA8uHI4WYhE"
      },
      "outputs": [],
      "source": [
        "df1['media_remuneracao_ajustada']= df1['media_remuneracao']* df1['fator_correcao']"
      ]
    },
    {
      "cell_type": "code",
      "execution_count": 13,
      "metadata": {
        "colab": {
          "base_uri": "https://localhost:8080/",
          "height": 423
        },
        "id": "jtiffDeiWYhF",
        "outputId": "cf52ef4f-2f88-48c6-ee27-015f85df16ff"
      },
      "outputs": [
        {
          "output_type": "execute_result",
          "data": {
            "text/plain": [
              "      ano        variavel                     categoria  media_remuneracao  \\\n",
              "0    2022          genero              Não identificado           0.000000   \n",
              "1    2022          genero                      Feminino        5099.993482   \n",
              "2    2022          genero                     Masculino        7201.277814   \n",
              "3    2022         poderes                        Outros        8540.517166   \n",
              "4    2022         poderes                     Executivo        4486.838805   \n",
              "..    ...             ...                           ...                ...   \n",
              "491  2021  grau_instrucao                  Até Mestrado        8519.270156   \n",
              "492  2021  grau_instrucao                 Até Doutorado       12202.513889   \n",
              "493  2021  grau_instrucao               Até Fundamental        2348.324320   \n",
              "494  2021  grau_instrucao              Até Ensino Médio        3094.496974   \n",
              "495  2021  grau_instrucao  Até Ensino Superior Completo        6537.552210   \n",
              "\n",
              "     fator_correcao  media_remuneracao_ajustada  \n",
              "0          1.046200                    0.000000  \n",
              "1          1.046200                 5335.613181  \n",
              "2          1.046200                 7533.976849  \n",
              "3          1.046200                 8935.089059  \n",
              "4          1.046200                 4694.130758  \n",
              "..              ...                         ...  \n",
              "491        1.106775                 9428.915056  \n",
              "492        1.106775                13505.437065  \n",
              "493        1.106775                 2599.066602  \n",
              "494        1.106775                 3424.911827  \n",
              "495        1.106775                 7235.599216  \n",
              "\n",
              "[496 rows x 6 columns]"
            ],
            "text/html": [
              "\n",
              "  <div id=\"df-3d8089d3-56f6-42f9-9d10-328607837042\" class=\"colab-df-container\">\n",
              "    <div>\n",
              "<style scoped>\n",
              "    .dataframe tbody tr th:only-of-type {\n",
              "        vertical-align: middle;\n",
              "    }\n",
              "\n",
              "    .dataframe tbody tr th {\n",
              "        vertical-align: top;\n",
              "    }\n",
              "\n",
              "    .dataframe thead th {\n",
              "        text-align: right;\n",
              "    }\n",
              "</style>\n",
              "<table border=\"1\" class=\"dataframe\">\n",
              "  <thead>\n",
              "    <tr style=\"text-align: right;\">\n",
              "      <th></th>\n",
              "      <th>ano</th>\n",
              "      <th>variavel</th>\n",
              "      <th>categoria</th>\n",
              "      <th>media_remuneracao</th>\n",
              "      <th>fator_correcao</th>\n",
              "      <th>media_remuneracao_ajustada</th>\n",
              "    </tr>\n",
              "  </thead>\n",
              "  <tbody>\n",
              "    <tr>\n",
              "      <th>0</th>\n",
              "      <td>2022</td>\n",
              "      <td>genero</td>\n",
              "      <td>Não identificado</td>\n",
              "      <td>0.000000</td>\n",
              "      <td>1.046200</td>\n",
              "      <td>0.000000</td>\n",
              "    </tr>\n",
              "    <tr>\n",
              "      <th>1</th>\n",
              "      <td>2022</td>\n",
              "      <td>genero</td>\n",
              "      <td>Feminino</td>\n",
              "      <td>5099.993482</td>\n",
              "      <td>1.046200</td>\n",
              "      <td>5335.613181</td>\n",
              "    </tr>\n",
              "    <tr>\n",
              "      <th>2</th>\n",
              "      <td>2022</td>\n",
              "      <td>genero</td>\n",
              "      <td>Masculino</td>\n",
              "      <td>7201.277814</td>\n",
              "      <td>1.046200</td>\n",
              "      <td>7533.976849</td>\n",
              "    </tr>\n",
              "    <tr>\n",
              "      <th>3</th>\n",
              "      <td>2022</td>\n",
              "      <td>poderes</td>\n",
              "      <td>Outros</td>\n",
              "      <td>8540.517166</td>\n",
              "      <td>1.046200</td>\n",
              "      <td>8935.089059</td>\n",
              "    </tr>\n",
              "    <tr>\n",
              "      <th>4</th>\n",
              "      <td>2022</td>\n",
              "      <td>poderes</td>\n",
              "      <td>Executivo</td>\n",
              "      <td>4486.838805</td>\n",
              "      <td>1.046200</td>\n",
              "      <td>4694.130758</td>\n",
              "    </tr>\n",
              "    <tr>\n",
              "      <th>...</th>\n",
              "      <td>...</td>\n",
              "      <td>...</td>\n",
              "      <td>...</td>\n",
              "      <td>...</td>\n",
              "      <td>...</td>\n",
              "      <td>...</td>\n",
              "    </tr>\n",
              "    <tr>\n",
              "      <th>491</th>\n",
              "      <td>2021</td>\n",
              "      <td>grau_instrucao</td>\n",
              "      <td>Até Mestrado</td>\n",
              "      <td>8519.270156</td>\n",
              "      <td>1.106775</td>\n",
              "      <td>9428.915056</td>\n",
              "    </tr>\n",
              "    <tr>\n",
              "      <th>492</th>\n",
              "      <td>2021</td>\n",
              "      <td>grau_instrucao</td>\n",
              "      <td>Até Doutorado</td>\n",
              "      <td>12202.513889</td>\n",
              "      <td>1.106775</td>\n",
              "      <td>13505.437065</td>\n",
              "    </tr>\n",
              "    <tr>\n",
              "      <th>493</th>\n",
              "      <td>2021</td>\n",
              "      <td>grau_instrucao</td>\n",
              "      <td>Até Fundamental</td>\n",
              "      <td>2348.324320</td>\n",
              "      <td>1.106775</td>\n",
              "      <td>2599.066602</td>\n",
              "    </tr>\n",
              "    <tr>\n",
              "      <th>494</th>\n",
              "      <td>2021</td>\n",
              "      <td>grau_instrucao</td>\n",
              "      <td>Até Ensino Médio</td>\n",
              "      <td>3094.496974</td>\n",
              "      <td>1.106775</td>\n",
              "      <td>3424.911827</td>\n",
              "    </tr>\n",
              "    <tr>\n",
              "      <th>495</th>\n",
              "      <td>2021</td>\n",
              "      <td>grau_instrucao</td>\n",
              "      <td>Até Ensino Superior Completo</td>\n",
              "      <td>6537.552210</td>\n",
              "      <td>1.106775</td>\n",
              "      <td>7235.599216</td>\n",
              "    </tr>\n",
              "  </tbody>\n",
              "</table>\n",
              "<p>496 rows × 6 columns</p>\n",
              "</div>\n",
              "    <div class=\"colab-df-buttons\">\n",
              "\n",
              "  <div class=\"colab-df-container\">\n",
              "    <button class=\"colab-df-convert\" onclick=\"convertToInteractive('df-3d8089d3-56f6-42f9-9d10-328607837042')\"\n",
              "            title=\"Convert this dataframe to an interactive table.\"\n",
              "            style=\"display:none;\">\n",
              "\n",
              "  <svg xmlns=\"http://www.w3.org/2000/svg\" height=\"24px\" viewBox=\"0 -960 960 960\">\n",
              "    <path d=\"M120-120v-720h720v720H120Zm60-500h600v-160H180v160Zm220 220h160v-160H400v160Zm0 220h160v-160H400v160ZM180-400h160v-160H180v160Zm440 0h160v-160H620v160ZM180-180h160v-160H180v160Zm440 0h160v-160H620v160Z\"/>\n",
              "  </svg>\n",
              "    </button>\n",
              "\n",
              "  <style>\n",
              "    .colab-df-container {\n",
              "      display:flex;\n",
              "      gap: 12px;\n",
              "    }\n",
              "\n",
              "    .colab-df-convert {\n",
              "      background-color: #E8F0FE;\n",
              "      border: none;\n",
              "      border-radius: 50%;\n",
              "      cursor: pointer;\n",
              "      display: none;\n",
              "      fill: #1967D2;\n",
              "      height: 32px;\n",
              "      padding: 0 0 0 0;\n",
              "      width: 32px;\n",
              "    }\n",
              "\n",
              "    .colab-df-convert:hover {\n",
              "      background-color: #E2EBFA;\n",
              "      box-shadow: 0px 1px 2px rgba(60, 64, 67, 0.3), 0px 1px 3px 1px rgba(60, 64, 67, 0.15);\n",
              "      fill: #174EA6;\n",
              "    }\n",
              "\n",
              "    .colab-df-buttons div {\n",
              "      margin-bottom: 4px;\n",
              "    }\n",
              "\n",
              "    [theme=dark] .colab-df-convert {\n",
              "      background-color: #3B4455;\n",
              "      fill: #D2E3FC;\n",
              "    }\n",
              "\n",
              "    [theme=dark] .colab-df-convert:hover {\n",
              "      background-color: #434B5C;\n",
              "      box-shadow: 0px 1px 3px 1px rgba(0, 0, 0, 0.15);\n",
              "      filter: drop-shadow(0px 1px 2px rgba(0, 0, 0, 0.3));\n",
              "      fill: #FFFFFF;\n",
              "    }\n",
              "  </style>\n",
              "\n",
              "    <script>\n",
              "      const buttonEl =\n",
              "        document.querySelector('#df-3d8089d3-56f6-42f9-9d10-328607837042 button.colab-df-convert');\n",
              "      buttonEl.style.display =\n",
              "        google.colab.kernel.accessAllowed ? 'block' : 'none';\n",
              "\n",
              "      async function convertToInteractive(key) {\n",
              "        const element = document.querySelector('#df-3d8089d3-56f6-42f9-9d10-328607837042');\n",
              "        const dataTable =\n",
              "          await google.colab.kernel.invokeFunction('convertToInteractive',\n",
              "                                                    [key], {});\n",
              "        if (!dataTable) return;\n",
              "\n",
              "        const docLinkHtml = 'Like what you see? Visit the ' +\n",
              "          '<a target=\"_blank\" href=https://colab.research.google.com/notebooks/data_table.ipynb>data table notebook</a>'\n",
              "          + ' to learn more about interactive tables.';\n",
              "        element.innerHTML = '';\n",
              "        dataTable['output_type'] = 'display_data';\n",
              "        await google.colab.output.renderOutput(dataTable, element);\n",
              "        const docLink = document.createElement('div');\n",
              "        docLink.innerHTML = docLinkHtml;\n",
              "        element.appendChild(docLink);\n",
              "      }\n",
              "    </script>\n",
              "  </div>\n",
              "\n",
              "\n",
              "<div id=\"df-fa585ac8-c163-4725-bf30-1c7ac6110d04\">\n",
              "  <button class=\"colab-df-quickchart\" onclick=\"quickchart('df-fa585ac8-c163-4725-bf30-1c7ac6110d04')\"\n",
              "            title=\"Suggest charts\"\n",
              "            style=\"display:none;\">\n",
              "\n",
              "<svg xmlns=\"http://www.w3.org/2000/svg\" height=\"24px\"viewBox=\"0 0 24 24\"\n",
              "     width=\"24px\">\n",
              "    <g>\n",
              "        <path d=\"M19 3H5c-1.1 0-2 .9-2 2v14c0 1.1.9 2 2 2h14c1.1 0 2-.9 2-2V5c0-1.1-.9-2-2-2zM9 17H7v-7h2v7zm4 0h-2V7h2v10zm4 0h-2v-4h2v4z\"/>\n",
              "    </g>\n",
              "</svg>\n",
              "  </button>\n",
              "\n",
              "<style>\n",
              "  .colab-df-quickchart {\n",
              "      --bg-color: #E8F0FE;\n",
              "      --fill-color: #1967D2;\n",
              "      --hover-bg-color: #E2EBFA;\n",
              "      --hover-fill-color: #174EA6;\n",
              "      --disabled-fill-color: #AAA;\n",
              "      --disabled-bg-color: #DDD;\n",
              "  }\n",
              "\n",
              "  [theme=dark] .colab-df-quickchart {\n",
              "      --bg-color: #3B4455;\n",
              "      --fill-color: #D2E3FC;\n",
              "      --hover-bg-color: #434B5C;\n",
              "      --hover-fill-color: #FFFFFF;\n",
              "      --disabled-bg-color: #3B4455;\n",
              "      --disabled-fill-color: #666;\n",
              "  }\n",
              "\n",
              "  .colab-df-quickchart {\n",
              "    background-color: var(--bg-color);\n",
              "    border: none;\n",
              "    border-radius: 50%;\n",
              "    cursor: pointer;\n",
              "    display: none;\n",
              "    fill: var(--fill-color);\n",
              "    height: 32px;\n",
              "    padding: 0;\n",
              "    width: 32px;\n",
              "  }\n",
              "\n",
              "  .colab-df-quickchart:hover {\n",
              "    background-color: var(--hover-bg-color);\n",
              "    box-shadow: 0 1px 2px rgba(60, 64, 67, 0.3), 0 1px 3px 1px rgba(60, 64, 67, 0.15);\n",
              "    fill: var(--button-hover-fill-color);\n",
              "  }\n",
              "\n",
              "  .colab-df-quickchart-complete:disabled,\n",
              "  .colab-df-quickchart-complete:disabled:hover {\n",
              "    background-color: var(--disabled-bg-color);\n",
              "    fill: var(--disabled-fill-color);\n",
              "    box-shadow: none;\n",
              "  }\n",
              "\n",
              "  .colab-df-spinner {\n",
              "    border: 2px solid var(--fill-color);\n",
              "    border-color: transparent;\n",
              "    border-bottom-color: var(--fill-color);\n",
              "    animation:\n",
              "      spin 1s steps(1) infinite;\n",
              "  }\n",
              "\n",
              "  @keyframes spin {\n",
              "    0% {\n",
              "      border-color: transparent;\n",
              "      border-bottom-color: var(--fill-color);\n",
              "      border-left-color: var(--fill-color);\n",
              "    }\n",
              "    20% {\n",
              "      border-color: transparent;\n",
              "      border-left-color: var(--fill-color);\n",
              "      border-top-color: var(--fill-color);\n",
              "    }\n",
              "    30% {\n",
              "      border-color: transparent;\n",
              "      border-left-color: var(--fill-color);\n",
              "      border-top-color: var(--fill-color);\n",
              "      border-right-color: var(--fill-color);\n",
              "    }\n",
              "    40% {\n",
              "      border-color: transparent;\n",
              "      border-right-color: var(--fill-color);\n",
              "      border-top-color: var(--fill-color);\n",
              "    }\n",
              "    60% {\n",
              "      border-color: transparent;\n",
              "      border-right-color: var(--fill-color);\n",
              "    }\n",
              "    80% {\n",
              "      border-color: transparent;\n",
              "      border-right-color: var(--fill-color);\n",
              "      border-bottom-color: var(--fill-color);\n",
              "    }\n",
              "    90% {\n",
              "      border-color: transparent;\n",
              "      border-bottom-color: var(--fill-color);\n",
              "    }\n",
              "  }\n",
              "</style>\n",
              "\n",
              "  <script>\n",
              "    async function quickchart(key) {\n",
              "      const quickchartButtonEl =\n",
              "        document.querySelector('#' + key + ' button');\n",
              "      quickchartButtonEl.disabled = true;  // To prevent multiple clicks.\n",
              "      quickchartButtonEl.classList.add('colab-df-spinner');\n",
              "      try {\n",
              "        const charts = await google.colab.kernel.invokeFunction(\n",
              "            'suggestCharts', [key], {});\n",
              "      } catch (error) {\n",
              "        console.error('Error during call to suggestCharts:', error);\n",
              "      }\n",
              "      quickchartButtonEl.classList.remove('colab-df-spinner');\n",
              "      quickchartButtonEl.classList.add('colab-df-quickchart-complete');\n",
              "    }\n",
              "    (() => {\n",
              "      let quickchartButtonEl =\n",
              "        document.querySelector('#df-fa585ac8-c163-4725-bf30-1c7ac6110d04 button');\n",
              "      quickchartButtonEl.style.display =\n",
              "        google.colab.kernel.accessAllowed ? 'block' : 'none';\n",
              "    })();\n",
              "  </script>\n",
              "</div>\n",
              "\n",
              "  <div id=\"id_f438c989-54ef-4371-9794-af2c4168badd\">\n",
              "    <style>\n",
              "      .colab-df-generate {\n",
              "        background-color: #E8F0FE;\n",
              "        border: none;\n",
              "        border-radius: 50%;\n",
              "        cursor: pointer;\n",
              "        display: none;\n",
              "        fill: #1967D2;\n",
              "        height: 32px;\n",
              "        padding: 0 0 0 0;\n",
              "        width: 32px;\n",
              "      }\n",
              "\n",
              "      .colab-df-generate:hover {\n",
              "        background-color: #E2EBFA;\n",
              "        box-shadow: 0px 1px 2px rgba(60, 64, 67, 0.3), 0px 1px 3px 1px rgba(60, 64, 67, 0.15);\n",
              "        fill: #174EA6;\n",
              "      }\n",
              "\n",
              "      [theme=dark] .colab-df-generate {\n",
              "        background-color: #3B4455;\n",
              "        fill: #D2E3FC;\n",
              "      }\n",
              "\n",
              "      [theme=dark] .colab-df-generate:hover {\n",
              "        background-color: #434B5C;\n",
              "        box-shadow: 0px 1px 3px 1px rgba(0, 0, 0, 0.15);\n",
              "        filter: drop-shadow(0px 1px 2px rgba(0, 0, 0, 0.3));\n",
              "        fill: #FFFFFF;\n",
              "      }\n",
              "    </style>\n",
              "    <button class=\"colab-df-generate\" onclick=\"generateWithVariable('df1')\"\n",
              "            title=\"Generate code using this dataframe.\"\n",
              "            style=\"display:none;\">\n",
              "\n",
              "  <svg xmlns=\"http://www.w3.org/2000/svg\" height=\"24px\"viewBox=\"0 0 24 24\"\n",
              "       width=\"24px\">\n",
              "    <path d=\"M7,19H8.4L18.45,9,17,7.55,7,17.6ZM5,21V16.75L18.45,3.32a2,2,0,0,1,2.83,0l1.4,1.43a1.91,1.91,0,0,1,.58,1.4,1.91,1.91,0,0,1-.58,1.4L9.25,21ZM18.45,9,17,7.55Zm-12,3A5.31,5.31,0,0,0,4.9,8.1,5.31,5.31,0,0,0,1,6.5,5.31,5.31,0,0,0,4.9,4.9,5.31,5.31,0,0,0,6.5,1,5.31,5.31,0,0,0,8.1,4.9,5.31,5.31,0,0,0,12,6.5,5.46,5.46,0,0,0,6.5,12Z\"/>\n",
              "  </svg>\n",
              "    </button>\n",
              "    <script>\n",
              "      (() => {\n",
              "      const buttonEl =\n",
              "        document.querySelector('#id_f438c989-54ef-4371-9794-af2c4168badd button.colab-df-generate');\n",
              "      buttonEl.style.display =\n",
              "        google.colab.kernel.accessAllowed ? 'block' : 'none';\n",
              "\n",
              "      buttonEl.onclick = () => {\n",
              "        google.colab.notebook.generateWithVariable('df1');\n",
              "      }\n",
              "      })();\n",
              "    </script>\n",
              "  </div>\n",
              "\n",
              "    </div>\n",
              "  </div>\n"
            ],
            "application/vnd.google.colaboratory.intrinsic+json": {
              "type": "dataframe",
              "variable_name": "df1",
              "summary": "{\n  \"name\": \"df1\",\n  \"rows\": 496,\n  \"fields\": [\n    {\n      \"column\": \"ano\",\n      \"properties\": {\n        \"dtype\": \"Int64\",\n        \"num_unique_values\": 20,\n        \"samples\": [\n          2022,\n          2014,\n          2005\n        ],\n        \"semantic_type\": \"\",\n        \"description\": \"\"\n      }\n    },\n    {\n      \"column\": \"variavel\",\n      \"properties\": {\n        \"dtype\": \"category\",\n        \"num_unique_values\": 5,\n        \"samples\": [\n          \"poderes\",\n          \"grau_instrucao\",\n          \"tipo_vinculo\"\n        ],\n        \"semantic_type\": \"\",\n        \"description\": \"\"\n      }\n    },\n    {\n      \"column\": \"categoria\",\n      \"properties\": {\n        \"dtype\": \"category\",\n        \"num_unique_values\": 27,\n        \"samples\": [\n          \"Avulso\",\n          \"Aprendiz contratado\",\n          \"Diretor\"\n        ],\n        \"semantic_type\": \"\",\n        \"description\": \"\"\n      }\n    },\n    {\n      \"column\": \"media_remuneracao\",\n      \"properties\": {\n        \"dtype\": \"number\",\n        \"std\": 8703.366483133424,\n        \"min\": 0.0,\n        \"max\": 183537.02053475933,\n        \"num_unique_values\": 495,\n        \"samples\": [\n          430.1350872731476,\n          1117.9841436830197,\n          1615.3578809582627\n        ],\n        \"semantic_type\": \"\",\n        \"description\": \"\"\n      }\n    },\n    {\n      \"column\": \"fator_correcao\",\n      \"properties\": {\n        \"dtype\": \"number\",\n        \"std\": 0.5958876917861882,\n        \"min\": 1.0462,\n        \"max\": 3.03844936,\n        \"num_unique_values\": 20,\n        \"samples\": [\n          1.0462,\n          1.668595089,\n          2.671811614\n        ],\n        \"semantic_type\": \"\",\n        \"description\": \"\"\n      }\n    },\n    {\n      \"column\": \"media_remuneracao_ajustada\",\n      \"properties\": {\n        \"dtype\": \"number\",\n        \"std\": 9548.003627612972,\n        \"min\": 0.0,\n        \"max\": 192016.43088346522,\n        \"num_unique_values\": 495,\n        \"samples\": [\n          1214.6316733840288,\n          2509.8191193704583,\n          2435.509377630017\n        ],\n        \"semantic_type\": \"\",\n        \"description\": \"\"\n      }\n    }\n  ]\n}"
            }
          },
          "metadata": {},
          "execution_count": 13
        }
      ],
      "source": [
        "df1"
      ]
    },
    {
      "cell_type": "code",
      "execution_count": 14,
      "metadata": {
        "id": "U7_MywQNWYhG"
      },
      "outputs": [],
      "source": [
        "df1 = df1[['ano', 'variavel', 'categoria', 'media_remuneracao',\n",
        "       'fator_correcao', 'media_remuneracao_ajustada']]"
      ]
    },
    {
      "cell_type": "code",
      "execution_count": 15,
      "metadata": {
        "colab": {
          "base_uri": "https://localhost:8080/"
        },
        "id": "GAzOrJhSWYhG",
        "outputId": "c831e658-9b33-45e8-d54c-2eabae25b26f"
      },
      "outputs": [
        {
          "output_type": "stream",
          "name": "stdout",
          "text": [
            "<class 'pandas.core.frame.DataFrame'>\n",
            "RangeIndex: 496 entries, 0 to 495\n",
            "Data columns (total 6 columns):\n",
            " #   Column                      Non-Null Count  Dtype  \n",
            "---  ------                      --------------  -----  \n",
            " 0   ano                         496 non-null    Int64  \n",
            " 1   variavel                    496 non-null    object \n",
            " 2   categoria                   496 non-null    object \n",
            " 3   media_remuneracao           496 non-null    float64\n",
            " 4   fator_correcao              496 non-null    float64\n",
            " 5   media_remuneracao_ajustada  496 non-null    float64\n",
            "dtypes: Int64(1), float64(3), object(2)\n",
            "memory usage: 23.9+ KB\n"
          ]
        }
      ],
      "source": [
        "df1.info()"
      ]
    },
    {
      "cell_type": "code",
      "execution_count": 16,
      "metadata": {
        "id": "S0favVQlWYhG"
      },
      "outputs": [],
      "source": [
        "schema=[bigquery.SchemaField('ano','INTEGER',description='Ano de referência'),\n",
        " bigquery.SchemaField('variavel','STRING',description='De qual variável aquela remuneração se refere'),\n",
        " bigquery.SchemaField('categoria','STRING',description='Categoria dentro daquela variável'),\n",
        " bigquery.SchemaField('media_remuneracao','FLOAT',description='Valor nominal da média de remuneração daquele ano'),\n",
        "bigquery.SchemaField('fator_correcao','FLOAT',description='índice para correção monetária baseando-se no IPCA para dezembro de 2022'),\n",
        "bigquery.SchemaField('media_remuneracao_ajustada','FLOAT',description='Valor nominal da média de remuneração daquele ano ajustado para dezembro de 2022')\n",
        " ]\n"
      ]
    },
    {
      "cell_type": "code",
      "source": [
        "client = bigquery.Client(project='repositoriodedadosgpsp')"
      ],
      "metadata": {
        "colab": {
          "base_uri": "https://localhost:8080/"
        },
        "id": "eTIHPMmfagrz",
        "outputId": "2dc35680-72ca-4177-9fd4-16c04f9c139d"
      },
      "execution_count": 17,
      "outputs": [
        {
          "output_type": "stream",
          "name": "stderr",
          "text": [
            "/usr/local/lib/python3.10/dist-packages/google/auth/_default.py:76: UserWarning: Your application has authenticated using end user credentials from Google Cloud SDK without a quota project. You might receive a \"quota exceeded\" or \"API not enabled\" error. See the following page for troubleshooting: https://cloud.google.com/docs/authentication/adc-troubleshooting/user-creds. \n",
            "  warnings.warn(_CLOUD_SDK_CREDENTIALS_WARNING)\n"
          ]
        }
      ]
    },
    {
      "cell_type": "code",
      "source": [
        "dataset_ref = client.dataset('perfil_remuneracao')"
      ],
      "metadata": {
        "id": "MPeEUMZyahbk"
      },
      "execution_count": 18,
      "outputs": []
    },
    {
      "cell_type": "code",
      "execution_count": 19,
      "metadata": {
        "colab": {
          "base_uri": "https://localhost:8080/"
        },
        "id": "0oPZPXtWWYhH",
        "outputId": "ef85eab2-9689-4761-b0a3-8aa7fbe671c7"
      },
      "outputs": [
        {
          "output_type": "execute_result",
          "data": {
            "text/plain": [
              "LoadJob<project=repositoriodedadosgpsp, location=US, id=c5fc3193-fc3b-430c-b937-c62402565d54>"
            ]
          },
          "metadata": {},
          "execution_count": 19
        }
      ],
      "source": [
        "table_ref = dataset_ref.table('RAIS_remuneracao_vinculos_publicos_v_3')\n",
        "job_config = bigquery.LoadJobConfig(schema=schema)\n",
        "job = client.load_table_from_dataframe(df1, table_ref, job_config=job_config)\n",
        "job.result()"
      ]
    }
  ],
  "metadata": {
    "kernelspec": {
      "display_name": "Python 3",
      "language": "python",
      "name": "python3"
    },
    "language_info": {
      "codemirror_mode": {
        "name": "ipython",
        "version": 3
      },
      "file_extension": ".py",
      "mimetype": "text/x-python",
      "name": "python",
      "nbconvert_exporter": "python",
      "pygments_lexer": "ipython3",
      "version": "3.10.11"
    },
    "orig_nbformat": 4,
    "colab": {
      "provenance": []
    }
  },
  "nbformat": 4,
  "nbformat_minor": 0
}