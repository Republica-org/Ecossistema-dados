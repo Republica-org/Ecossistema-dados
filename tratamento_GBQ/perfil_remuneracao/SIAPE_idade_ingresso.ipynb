{
 "cells": [
  {
   "cell_type": "code",
   "execution_count": 1,
   "metadata": {},
   "outputs": [],
   "source": [
    "##importando pacotes\n",
    "import pandas as pd\n",
    "import numpy as np\n",
    "import time\n",
    "import os\n",
    "import pandas_gbq\n",
    "from google.cloud import bigquery\n",
    "import glob\n",
    "import openpyxl\n",
    "import csv\n",
    "import re"
   ]
  },
  {
   "cell_type": "code",
   "execution_count": 2,
   "metadata": {},
   "outputs": [],
   "source": [
    "os.chdir(\"G:\\\\Drives compartilhados\\\\República.org\\\\4. Equipes\\\\Dados e Comunicação\\\\DADOS E CONHECIMENTO\\\\415 - Repositório de Dados\\\\Repositório Local\\\\SIAPE\")"
   ]
  },
  {
   "cell_type": "code",
   "execution_count": 16,
   "metadata": {},
   "outputs": [],
   "source": [
    "df= pd.read_csv(\"idade_ingresso.csv\", sep=\";\")"
   ]
  },
  {
   "cell_type": "code",
   "execution_count": 13,
   "metadata": {},
   "outputs": [
    {
     "data": {
      "text/plain": [
       "Index(['Unnamed: 0', 'f0_', 'idade', 'ano_ing_spub', 'esc_cargo',\n",
       "       'escolaridade', 'sexo', 'cor_origem_etnica', 'idade2', 'ano_ing_spub2',\n",
       "       'anos', 'idade_ingresso'],\n",
       "      dtype='object')"
      ]
     },
     "execution_count": 13,
     "metadata": {},
     "output_type": "execute_result"
    }
   ],
   "source": [
    "df.columns"
   ]
  },
  {
   "cell_type": "code",
   "execution_count": 17,
   "metadata": {},
   "outputs": [],
   "source": [
    "df['ano']=df['f0_']"
   ]
  },
  {
   "cell_type": "code",
   "execution_count": 18,
   "metadata": {},
   "outputs": [],
   "source": [
    "df = df[['ano', 'esc_cargo', 'escolaridade',\n",
    "       'sexo', 'cor_origem_etnica', 'idade2', 'ano_ing_spub2',\n",
    "       'idade_ingresso']]"
   ]
  },
  {
   "cell_type": "code",
   "execution_count": 25,
   "metadata": {},
   "outputs": [
    {
     "data": {
      "text/plain": [
       "array(['BRANCA', 'NEGRA', 'AMARELA', 'NAO INFORMADO', 'INDIGENA'],\n",
       "      dtype=object)"
      ]
     },
     "execution_count": 25,
     "metadata": {},
     "output_type": "execute_result"
    }
   ],
   "source": [
    "df['cor_origem_etnica'].unique()"
   ]
  },
  {
   "cell_type": "code",
   "execution_count": 19,
   "metadata": {},
   "outputs": [
    {
     "name": "stdout",
     "output_type": "stream",
     "text": [
      "<class 'pandas.core.frame.DataFrame'>\n",
      "RangeIndex: 1273152 entries, 0 to 1273151\n",
      "Data columns (total 8 columns):\n",
      " #   Column             Non-Null Count    Dtype \n",
      "---  ------             --------------    ----- \n",
      " 0   ano                1273152 non-null  int64 \n",
      " 1   esc_cargo          1237753 non-null  object\n",
      " 2   escolaridade       1273152 non-null  object\n",
      " 3   sexo               1273152 non-null  object\n",
      " 4   cor_origem_etnica  1273152 non-null  object\n",
      " 5   idade2             1273152 non-null  int64 \n",
      " 6   ano_ing_spub2      1273152 non-null  int64 \n",
      " 7   idade_ingresso     1273152 non-null  int64 \n",
      "dtypes: int64(4), object(4)\n",
      "memory usage: 77.7+ MB\n"
     ]
    }
   ],
   "source": [
    "df.info()"
   ]
  },
  {
   "cell_type": "code",
   "execution_count": 10,
   "metadata": {},
   "outputs": [],
   "source": [
    "client = bigquery.Client()\n",
    "dataset_ref = client.dataset('perfil_remuneracao')"
   ]
  },
  {
   "cell_type": "code",
   "execution_count": 20,
   "metadata": {},
   "outputs": [],
   "source": [
    "schema= [bigquery.SchemaField('ano','INTEGER'),\n",
    "bigquery.SchemaField('esc_cargo','STRING'),\n",
    "          bigquery.SchemaField('escolaridade','STRING'),\n",
    "          bigquery.SchemaField('sexo', 'STRING'),\n",
    "          bigquery.SchemaField('cor_origem_etnica', 'STRING'),\n",
    "          bigquery.SchemaField('idade2','INTEGER'),\n",
    "          bigquery.SchemaField('ano_ing_spub2','INTEGER'),\n",
    "          bigquery.SchemaField('idade_ingresso','INTEGER')]"
   ]
  },
  {
   "cell_type": "code",
   "execution_count": 21,
   "metadata": {},
   "outputs": [
    {
     "data": {
      "text/plain": [
       "LoadJob<project=repositoriodedadosgpsp, location=US, id=147139f6-796a-4ae3-8ee4-6c703a1ed0a9>"
      ]
     },
     "execution_count": 21,
     "metadata": {},
     "output_type": "execute_result"
    }
   ],
   "source": [
    "table_ref = dataset_ref.table('SIAPE_idade_ingresso') \n",
    "job_config = bigquery.LoadJobConfig(schema=schema)\n",
    "job = client.load_table_from_dataframe(df, table_ref, job_config=job_config)\n",
    "job.result()"
   ]
  }
 ],
 "metadata": {
  "kernelspec": {
   "display_name": "Python 3",
   "language": "python",
   "name": "python3"
  },
  "language_info": {
   "codemirror_mode": {
    "name": "ipython",
    "version": 3
   },
   "file_extension": ".py",
   "mimetype": "text/x-python",
   "name": "python",
   "nbconvert_exporter": "python",
   "pygments_lexer": "ipython3",
   "version": "3.10.11"
  }
 },
 "nbformat": 4,
 "nbformat_minor": 2
}
