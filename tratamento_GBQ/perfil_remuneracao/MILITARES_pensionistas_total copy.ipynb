{
 "cells": [
  {
   "cell_type": "code",
   "execution_count": 1,
   "metadata": {},
   "outputs": [],
   "source": [
    "import pandas as pd\n",
    "import numpy as np\n",
    "import time\n",
    "import os\n",
    "import zipfile\n",
    "import pandas_gbq\n",
    "import glob\n",
    "from google.cloud import bigquery\n",
    "import re"
   ]
  },
  {
   "cell_type": "code",
   "execution_count": 2,
   "metadata": {},
   "outputs": [],
   "source": [
    "client = bigquery.Client()"
   ]
  },
  {
   "cell_type": "code",
   "execution_count": 3,
   "metadata": {},
   "outputs": [],
   "source": [
    "query = \"\"\" \n",
    "        SELECT ANO as ano, MES as mes, TIPO_PENSAO as tipo_pensao,\n",
    "            1 as total FROM `repositoriodedadosgpsp.portal_transparencia_cgu.2020_abr_militares_pensionistas_cadastro` \n",
    "            UNION ALL\n",
    "        SELECT ANO as ano, MES as mes, TIPO_PENSAO as tipo_pensao,\n",
    "            1 as total FROM `repositoriodedadosgpsp.portal_transparencia_cgu.2021_abr_militares_pensionistas_cadastro` \n",
    "            UNION ALL\n",
    "        SELECT ANO as ano, MES as mes, TIPO_PENSAO as tipo_pensao,\n",
    "            1 as total FROM `repositoriodedadosgpsp.portal_transparencia_cgu.2022_abr_militares_pensionistas_cadastro` \n",
    "            UNION ALL\n",
    "        SELECT ANO as ano, MES as mes, TIPO_PENSAO as tipo_pensao,\n",
    "            1 as total FROM `repositoriodedadosgpsp.portal_transparencia_cgu.2023_abr_militares_pensionistas_cadastro` \n",
    "            UNION ALL\n",
    "        SELECT ANO as ano, MES as mes, TIPO_PENSAO as tipo_pensao,\n",
    "            1 as total FROM `repositoriodedadosgpsp.portal_transparencia_cgu.2024_abr_militares_pensionistas_cadastro` \n",
    "        \"\"\"  "
   ]
  },
  {
   "cell_type": "code",
   "execution_count": 4,
   "metadata": {},
   "outputs": [
    {
     "name": "stdout",
     "output_type": "stream",
     "text": [
      "Downloading: 100%|\u001b[32m██████████\u001b[0m|\n"
     ]
    },
    {
     "data": {
      "text/html": [
       "<div>\n",
       "<style scoped>\n",
       "    .dataframe tbody tr th:only-of-type {\n",
       "        vertical-align: middle;\n",
       "    }\n",
       "\n",
       "    .dataframe tbody tr th {\n",
       "        vertical-align: top;\n",
       "    }\n",
       "\n",
       "    .dataframe thead th {\n",
       "        text-align: right;\n",
       "    }\n",
       "</style>\n",
       "<table border=\"1\" class=\"dataframe\">\n",
       "  <thead>\n",
       "    <tr style=\"text-align: right;\">\n",
       "      <th></th>\n",
       "      <th>ano</th>\n",
       "      <th>mes</th>\n",
       "      <th>tipo_pensao</th>\n",
       "      <th>total</th>\n",
       "    </tr>\n",
       "  </thead>\n",
       "  <tbody>\n",
       "    <tr>\n",
       "      <th>0</th>\n",
       "      <td>2024</td>\n",
       "      <td>4</td>\n",
       "      <td>Não informado</td>\n",
       "      <td>1</td>\n",
       "    </tr>\n",
       "    <tr>\n",
       "      <th>1</th>\n",
       "      <td>2024</td>\n",
       "      <td>4</td>\n",
       "      <td>Cônjuge / Viúva (o)</td>\n",
       "      <td>1</td>\n",
       "    </tr>\n",
       "    <tr>\n",
       "      <th>2</th>\n",
       "      <td>2024</td>\n",
       "      <td>4</td>\n",
       "      <td>Cônjuge / Viúva (o)</td>\n",
       "      <td>1</td>\n",
       "    </tr>\n",
       "    <tr>\n",
       "      <th>3</th>\n",
       "      <td>2024</td>\n",
       "      <td>4</td>\n",
       "      <td>Cônjuge / Viúva (o)</td>\n",
       "      <td>1</td>\n",
       "    </tr>\n",
       "    <tr>\n",
       "      <th>4</th>\n",
       "      <td>2024</td>\n",
       "      <td>4</td>\n",
       "      <td>Cônjuge / Viúva (o)</td>\n",
       "      <td>1</td>\n",
       "    </tr>\n",
       "    <tr>\n",
       "      <th>...</th>\n",
       "      <td>...</td>\n",
       "      <td>...</td>\n",
       "      <td>...</td>\n",
       "      <td>...</td>\n",
       "    </tr>\n",
       "    <tr>\n",
       "      <th>1162588</th>\n",
       "      <td>2021</td>\n",
       "      <td>4</td>\n",
       "      <td>Filha</td>\n",
       "      <td>1</td>\n",
       "    </tr>\n",
       "    <tr>\n",
       "      <th>1162589</th>\n",
       "      <td>2021</td>\n",
       "      <td>4</td>\n",
       "      <td>Filha</td>\n",
       "      <td>1</td>\n",
       "    </tr>\n",
       "    <tr>\n",
       "      <th>1162590</th>\n",
       "      <td>2021</td>\n",
       "      <td>4</td>\n",
       "      <td>Filha</td>\n",
       "      <td>1</td>\n",
       "    </tr>\n",
       "    <tr>\n",
       "      <th>1162591</th>\n",
       "      <td>2021</td>\n",
       "      <td>4</td>\n",
       "      <td>Filha</td>\n",
       "      <td>1</td>\n",
       "    </tr>\n",
       "    <tr>\n",
       "      <th>1162592</th>\n",
       "      <td>2021</td>\n",
       "      <td>4</td>\n",
       "      <td>Filha</td>\n",
       "      <td>1</td>\n",
       "    </tr>\n",
       "  </tbody>\n",
       "</table>\n",
       "<p>1162593 rows × 4 columns</p>\n",
       "</div>"
      ],
      "text/plain": [
       "          ano  mes          tipo_pensao  total\n",
       "0        2024    4        Não informado      1\n",
       "1        2024    4  Cônjuge / Viúva (o)      1\n",
       "2        2024    4  Cônjuge / Viúva (o)      1\n",
       "3        2024    4  Cônjuge / Viúva (o)      1\n",
       "4        2024    4  Cônjuge / Viúva (o)      1\n",
       "...       ...  ...                  ...    ...\n",
       "1162588  2021    4                Filha      1\n",
       "1162589  2021    4                Filha      1\n",
       "1162590  2021    4                Filha      1\n",
       "1162591  2021    4                Filha      1\n",
       "1162592  2021    4                Filha      1\n",
       "\n",
       "[1162593 rows x 4 columns]"
      ]
     },
     "execution_count": 4,
     "metadata": {},
     "output_type": "execute_result"
    }
   ],
   "source": [
    "df = pandas_gbq.read_gbq(query, project_id='repositoriodedadosgpsp')\n",
    "df"
   ]
  },
  {
   "cell_type": "code",
   "execution_count": 5,
   "metadata": {},
   "outputs": [
    {
     "data": {
      "text/html": [
       "<div>\n",
       "<style scoped>\n",
       "    .dataframe tbody tr th:only-of-type {\n",
       "        vertical-align: middle;\n",
       "    }\n",
       "\n",
       "    .dataframe tbody tr th {\n",
       "        vertical-align: top;\n",
       "    }\n",
       "\n",
       "    .dataframe thead th {\n",
       "        text-align: right;\n",
       "    }\n",
       "</style>\n",
       "<table border=\"1\" class=\"dataframe\">\n",
       "  <thead>\n",
       "    <tr style=\"text-align: right;\">\n",
       "      <th></th>\n",
       "      <th>ano</th>\n",
       "      <th>mes</th>\n",
       "      <th>tipo_pensao</th>\n",
       "      <th>total</th>\n",
       "    </tr>\n",
       "  </thead>\n",
       "  <tbody>\n",
       "    <tr>\n",
       "      <th>227838</th>\n",
       "      <td>2023</td>\n",
       "      <td>4</td>\n",
       "      <td>Cônjuge / Viúva (o)</td>\n",
       "      <td>1</td>\n",
       "    </tr>\n",
       "    <tr>\n",
       "      <th>227839</th>\n",
       "      <td>2023</td>\n",
       "      <td>4</td>\n",
       "      <td>Cônjuge / Viúva (o)</td>\n",
       "      <td>1</td>\n",
       "    </tr>\n",
       "    <tr>\n",
       "      <th>227840</th>\n",
       "      <td>2023</td>\n",
       "      <td>4</td>\n",
       "      <td>Cônjuge / Viúva (o)</td>\n",
       "      <td>1</td>\n",
       "    </tr>\n",
       "    <tr>\n",
       "      <th>227841</th>\n",
       "      <td>2023</td>\n",
       "      <td>4</td>\n",
       "      <td>Cônjuge / Viúva (o)</td>\n",
       "      <td>1</td>\n",
       "    </tr>\n",
       "    <tr>\n",
       "      <th>227842</th>\n",
       "      <td>2023</td>\n",
       "      <td>4</td>\n",
       "      <td>Cônjuge / Viúva (o)</td>\n",
       "      <td>1</td>\n",
       "    </tr>\n",
       "    <tr>\n",
       "      <th>...</th>\n",
       "      <td>...</td>\n",
       "      <td>...</td>\n",
       "      <td>...</td>\n",
       "      <td>...</td>\n",
       "    </tr>\n",
       "    <tr>\n",
       "      <th>926593</th>\n",
       "      <td>2023</td>\n",
       "      <td>4</td>\n",
       "      <td>Outros (Pessoas sem Vínculo Militar)</td>\n",
       "      <td>1</td>\n",
       "    </tr>\n",
       "    <tr>\n",
       "      <th>926594</th>\n",
       "      <td>2023</td>\n",
       "      <td>4</td>\n",
       "      <td>Outros (Pessoas sem Vínculo Militar)</td>\n",
       "      <td>1</td>\n",
       "    </tr>\n",
       "    <tr>\n",
       "      <th>926595</th>\n",
       "      <td>2023</td>\n",
       "      <td>4</td>\n",
       "      <td>Outros (Pessoas sem Vínculo Militar)</td>\n",
       "      <td>1</td>\n",
       "    </tr>\n",
       "    <tr>\n",
       "      <th>926596</th>\n",
       "      <td>2023</td>\n",
       "      <td>4</td>\n",
       "      <td>Outros (Pessoas sem Vínculo Militar)</td>\n",
       "      <td>1</td>\n",
       "    </tr>\n",
       "    <tr>\n",
       "      <th>926597</th>\n",
       "      <td>2023</td>\n",
       "      <td>4</td>\n",
       "      <td>Filho(a) adotivo ou Enteado(a)</td>\n",
       "      <td>1</td>\n",
       "    </tr>\n",
       "  </tbody>\n",
       "</table>\n",
       "<p>235557 rows × 4 columns</p>\n",
       "</div>"
      ],
      "text/plain": [
       "         ano  mes                           tipo_pensao  total\n",
       "227838  2023    4                   Cônjuge / Viúva (o)      1\n",
       "227839  2023    4                   Cônjuge / Viúva (o)      1\n",
       "227840  2023    4                   Cônjuge / Viúva (o)      1\n",
       "227841  2023    4                   Cônjuge / Viúva (o)      1\n",
       "227842  2023    4                   Cônjuge / Viúva (o)      1\n",
       "...      ...  ...                                   ...    ...\n",
       "926593  2023    4  Outros (Pessoas sem Vínculo Militar)      1\n",
       "926594  2023    4  Outros (Pessoas sem Vínculo Militar)      1\n",
       "926595  2023    4  Outros (Pessoas sem Vínculo Militar)      1\n",
       "926596  2023    4  Outros (Pessoas sem Vínculo Militar)      1\n",
       "926597  2023    4        Filho(a) adotivo ou Enteado(a)      1\n",
       "\n",
       "[235557 rows x 4 columns]"
      ]
     },
     "execution_count": 5,
     "metadata": {},
     "output_type": "execute_result"
    }
   ],
   "source": [
    "df[df['ano']==2023]"
   ]
  },
  {
   "cell_type": "code",
   "execution_count": 5,
   "metadata": {},
   "outputs": [
    {
     "name": "stdout",
     "output_type": "stream",
     "text": [
      "<class 'pandas.core.frame.DataFrame'>\n",
      "RangeIndex: 1162593 entries, 0 to 1162592\n",
      "Data columns (total 4 columns):\n",
      " #   Column       Non-Null Count    Dtype \n",
      "---  ------       --------------    ----- \n",
      " 0   ano          1162593 non-null  Int64 \n",
      " 1   mes          1162593 non-null  Int64 \n",
      " 2   tipo_pensao  1162593 non-null  object\n",
      " 3   total        1162593 non-null  Int64 \n",
      "dtypes: Int64(3), object(1)\n",
      "memory usage: 38.8+ MB\n"
     ]
    }
   ],
   "source": [
    "df.info()"
   ]
  },
  {
   "cell_type": "code",
   "execution_count": 6,
   "metadata": {},
   "outputs": [
    {
     "data": {
      "text/plain": [
       "array(['Não informado', 'Cônjuge / Viúva (o)', 'Companheiro (a)',\n",
       "       'Pessoa desquitada, separada judicialmente, divorciada do instituidor ou ex-convivente',\n",
       "       'Filha', 'Filho', 'Mãe', 'Pai', 'Neto (a)', 'Irmão (ã)',\n",
       "       'Menor sob guarda ou tutela',\n",
       "       'Pessoa designada (Beneficiário instituído)',\n",
       "       'Ex-combatente (o próprio)',\n",
       "       'Outros (Pessoas sem Vínculo Militar)',\n",
       "       'Filho(a) adotivo ou Enteado(a)'], dtype=object)"
      ]
     },
     "execution_count": 6,
     "metadata": {},
     "output_type": "execute_result"
    }
   ],
   "source": [
    "df['tipo_pensao'].unique()"
   ]
  },
  {
   "cell_type": "markdown",
   "metadata": {},
   "source": [
    "1Filha \n",
    "2.Filhos, netos, enteados ou menores em tutela \n",
    "3. Conjuge/divorciado etc\n",
    "4. outros"
   ]
  },
  {
   "cell_type": "code",
   "execution_count": 7,
   "metadata": {},
   "outputs": [],
   "source": [
    "pensoes = {\n",
    "    \"Filho\" : \"Filhos, netos, enteados ou menores em tutela\",\n",
    "    \"Filha\" : \"Filha\",\n",
    "    \"Menor sob guarda ou tutela\" : \"Filhos, netos, enteados ou menores em tutela\",\n",
    "    \"Neto (a)\" : \"Filhos, netos, enteados ou menores em tutela\",\n",
    "    \"Filho(a) adotivo ou Enteado(a)\" : \"Filhos, netos, enteados ou menores em tutela\",\n",
    "    \"Cônjuge / Viúva (o)\" : \"Cônjuge, divorciados e companheiros\",\n",
    "    \"Companheiro (a)\" : \"Cônjuge, divorciados e companheiros\",\n",
    "    \"Pessoa desquitada, separada judicialmente, divorciada do instituidor ou ex-convivente\" : \"Cônjuge, divorciados e companheiros\",\n",
    "    \"Mãe\":\"Outros\",\n",
    "    \"Pai\":\"Outros\",\n",
    "    \"Irmão (ã)\":\"Outros\",\n",
    "    \"Ex-combatente (o próprio)\":\"Outros\",\n",
    "    \"Pessoa designada (Beneficiário instituído)\":\"Outros\",\n",
    "    \"Não informado\" : \"Outros\",\n",
    "    \"Outros (Pessoas sem Vínculo Militar)\" : \"Outros\"\n",
    "    }\n"
   ]
  },
  {
   "cell_type": "code",
   "execution_count": 8,
   "metadata": {},
   "outputs": [],
   "source": [
    "def categorizando(x):\n",
    "    if x in pensoes:\n",
    "        return pensoes[x]\n"
   ]
  },
  {
   "cell_type": "code",
   "execution_count": 9,
   "metadata": {},
   "outputs": [],
   "source": [
    "df['tipo_pensao_agrupado'] = df['tipo_pensao'].apply(categorizando)"
   ]
  },
  {
   "cell_type": "code",
   "execution_count": 10,
   "metadata": {},
   "outputs": [
    {
     "data": {
      "text/html": [
       "<div>\n",
       "<style scoped>\n",
       "    .dataframe tbody tr th:only-of-type {\n",
       "        vertical-align: middle;\n",
       "    }\n",
       "\n",
       "    .dataframe tbody tr th {\n",
       "        vertical-align: top;\n",
       "    }\n",
       "\n",
       "    .dataframe thead th {\n",
       "        text-align: right;\n",
       "    }\n",
       "</style>\n",
       "<table border=\"1\" class=\"dataframe\">\n",
       "  <thead>\n",
       "    <tr style=\"text-align: right;\">\n",
       "      <th></th>\n",
       "      <th>ano</th>\n",
       "      <th>mes</th>\n",
       "      <th>tipo_pensao</th>\n",
       "      <th>tipo_pensao_agrupado</th>\n",
       "      <th>total</th>\n",
       "    </tr>\n",
       "  </thead>\n",
       "  <tbody>\n",
       "    <tr>\n",
       "      <th>0</th>\n",
       "      <td>2024</td>\n",
       "      <td>4</td>\n",
       "      <td>Não informado</td>\n",
       "      <td>Outros</td>\n",
       "      <td>1</td>\n",
       "    </tr>\n",
       "    <tr>\n",
       "      <th>1</th>\n",
       "      <td>2024</td>\n",
       "      <td>4</td>\n",
       "      <td>Cônjuge / Viúva (o)</td>\n",
       "      <td>Cônjuge, divorciados e companheiros</td>\n",
       "      <td>1</td>\n",
       "    </tr>\n",
       "    <tr>\n",
       "      <th>2</th>\n",
       "      <td>2024</td>\n",
       "      <td>4</td>\n",
       "      <td>Cônjuge / Viúva (o)</td>\n",
       "      <td>Cônjuge, divorciados e companheiros</td>\n",
       "      <td>1</td>\n",
       "    </tr>\n",
       "    <tr>\n",
       "      <th>3</th>\n",
       "      <td>2024</td>\n",
       "      <td>4</td>\n",
       "      <td>Cônjuge / Viúva (o)</td>\n",
       "      <td>Cônjuge, divorciados e companheiros</td>\n",
       "      <td>1</td>\n",
       "    </tr>\n",
       "    <tr>\n",
       "      <th>4</th>\n",
       "      <td>2024</td>\n",
       "      <td>4</td>\n",
       "      <td>Cônjuge / Viúva (o)</td>\n",
       "      <td>Cônjuge, divorciados e companheiros</td>\n",
       "      <td>1</td>\n",
       "    </tr>\n",
       "    <tr>\n",
       "      <th>...</th>\n",
       "      <td>...</td>\n",
       "      <td>...</td>\n",
       "      <td>...</td>\n",
       "      <td>...</td>\n",
       "      <td>...</td>\n",
       "    </tr>\n",
       "    <tr>\n",
       "      <th>1162588</th>\n",
       "      <td>2021</td>\n",
       "      <td>4</td>\n",
       "      <td>Filha</td>\n",
       "      <td>Filha</td>\n",
       "      <td>1</td>\n",
       "    </tr>\n",
       "    <tr>\n",
       "      <th>1162589</th>\n",
       "      <td>2021</td>\n",
       "      <td>4</td>\n",
       "      <td>Filha</td>\n",
       "      <td>Filha</td>\n",
       "      <td>1</td>\n",
       "    </tr>\n",
       "    <tr>\n",
       "      <th>1162590</th>\n",
       "      <td>2021</td>\n",
       "      <td>4</td>\n",
       "      <td>Filha</td>\n",
       "      <td>Filha</td>\n",
       "      <td>1</td>\n",
       "    </tr>\n",
       "    <tr>\n",
       "      <th>1162591</th>\n",
       "      <td>2021</td>\n",
       "      <td>4</td>\n",
       "      <td>Filha</td>\n",
       "      <td>Filha</td>\n",
       "      <td>1</td>\n",
       "    </tr>\n",
       "    <tr>\n",
       "      <th>1162592</th>\n",
       "      <td>2021</td>\n",
       "      <td>4</td>\n",
       "      <td>Filha</td>\n",
       "      <td>Filha</td>\n",
       "      <td>1</td>\n",
       "    </tr>\n",
       "  </tbody>\n",
       "</table>\n",
       "<p>1162593 rows × 5 columns</p>\n",
       "</div>"
      ],
      "text/plain": [
       "          ano  mes          tipo_pensao                 tipo_pensao_agrupado  \\\n",
       "0        2024    4        Não informado                               Outros   \n",
       "1        2024    4  Cônjuge / Viúva (o)  Cônjuge, divorciados e companheiros   \n",
       "2        2024    4  Cônjuge / Viúva (o)  Cônjuge, divorciados e companheiros   \n",
       "3        2024    4  Cônjuge / Viúva (o)  Cônjuge, divorciados e companheiros   \n",
       "4        2024    4  Cônjuge / Viúva (o)  Cônjuge, divorciados e companheiros   \n",
       "...       ...  ...                  ...                                  ...   \n",
       "1162588  2021    4                Filha                                Filha   \n",
       "1162589  2021    4                Filha                                Filha   \n",
       "1162590  2021    4                Filha                                Filha   \n",
       "1162591  2021    4                Filha                                Filha   \n",
       "1162592  2021    4                Filha                                Filha   \n",
       "\n",
       "         total  \n",
       "0            1  \n",
       "1            1  \n",
       "2            1  \n",
       "3            1  \n",
       "4            1  \n",
       "...        ...  \n",
       "1162588      1  \n",
       "1162589      1  \n",
       "1162590      1  \n",
       "1162591      1  \n",
       "1162592      1  \n",
       "\n",
       "[1162593 rows x 5 columns]"
      ]
     },
     "execution_count": 10,
     "metadata": {},
     "output_type": "execute_result"
    }
   ],
   "source": [
    "df= df[['ano', 'mes', 'tipo_pensao','tipo_pensao_agrupado', 'total']]\n",
    "df"
   ]
  },
  {
   "cell_type": "code",
   "execution_count": 11,
   "metadata": {},
   "outputs": [
    {
     "data": {
      "text/plain": [
       "array(['Outros', 'Cônjuge, divorciados e companheiros', 'Filha',\n",
       "       'Filhos, netos, enteados ou menores em tutela'], dtype=object)"
      ]
     },
     "execution_count": 11,
     "metadata": {},
     "output_type": "execute_result"
    }
   ],
   "source": [
    "df['tipo_pensao_agrupado'].unique()"
   ]
  },
  {
   "cell_type": "code",
   "execution_count": 12,
   "metadata": {},
   "outputs": [
    {
     "name": "stdout",
     "output_type": "stream",
     "text": [
      "<class 'pandas.core.frame.DataFrame'>\n",
      "RangeIndex: 1162593 entries, 0 to 1162592\n",
      "Data columns (total 5 columns):\n",
      " #   Column                Non-Null Count    Dtype \n",
      "---  ------                --------------    ----- \n",
      " 0   ano                   1162593 non-null  Int64 \n",
      " 1   mes                   1162593 non-null  Int64 \n",
      " 2   tipo_pensao           1162593 non-null  object\n",
      " 3   tipo_pensao_agrupado  1162593 non-null  object\n",
      " 4   total                 1162593 non-null  Int64 \n",
      "dtypes: Int64(3), object(2)\n",
      "memory usage: 47.7+ MB\n"
     ]
    }
   ],
   "source": [
    "df.info()"
   ]
  },
  {
   "cell_type": "code",
   "execution_count": 62,
   "metadata": {},
   "outputs": [],
   "source": [
    "client = bigquery.Client()\n",
    "dataset_ref = client.dataset('perfil_remuneracao')"
   ]
  },
  {
   "cell_type": "code",
   "execution_count": 64,
   "metadata": {},
   "outputs": [],
   "source": [
    "schema=[bigquery.SchemaField('ano','INTEGER',description='Ano de referência da observação'),\n",
    "        bigquery.SchemaField('mes','INTEGER',description='Mês de referência da observação'),        \n",
    "        bigquery.SchemaField('tipo_pensao','STRING',description='Tipo de pensão'),\n",
    "        bigquery.SchemaField('tipo_pensao_agrupado','STRING',description='Categorização das pensões'),\n",
    "        bigquery.SchemaField('total','INTEGER',description='Quantidade total da observação')\n",
    "        ]"
   ]
  },
  {
   "cell_type": "code",
   "execution_count": 67,
   "metadata": {},
   "outputs": [
    {
     "data": {
      "text/plain": [
       "LoadJob<project=repositoriodedadosgpsp, location=US, id=cca767c1-083a-4141-8a3f-f27423760375>"
      ]
     },
     "execution_count": 67,
     "metadata": {},
     "output_type": "execute_result"
    }
   ],
   "source": [
    "table_ref = dataset_ref.table('MILITARES_pensionistas_total') \n",
    "job_config = bigquery.LoadJobConfig(schema=schema)\n",
    "job = client.load_table_from_dataframe(df, table_ref, job_config=job_config)\n",
    "job.result() \n"
   ]
  }
 ],
 "metadata": {
  "kernelspec": {
   "display_name": "base",
   "language": "python",
   "name": "python3"
  },
  "language_info": {
   "codemirror_mode": {
    "name": "ipython",
    "version": 3
   },
   "file_extension": ".py",
   "mimetype": "text/x-python",
   "name": "python",
   "nbconvert_exporter": "python",
   "pygments_lexer": "ipython3",
   "version": "3.11.4"
  }
 },
 "nbformat": 4,
 "nbformat_minor": 2
}
