{
  "nbformat": 4,
  "nbformat_minor": 0,
  "metadata": {
    "colab": {
      "provenance": []
    },
    "kernelspec": {
      "name": "python3",
      "display_name": "Python 3"
    },
    "language_info": {
      "name": "python"
    }
  },
  "cells": [
    {
      "cell_type": "markdown",
      "source": [
        "# Dependência"
      ],
      "metadata": {
        "id": "6dI_QaHxEZAG"
      }
    },
    {
      "cell_type": "code",
      "source": [
        "# Install required Google Cloud packages (commented out as these are typically one-time setup commands)\n",
        "# !pip install gcloud\n",
        "# !gcloud auth application-default login\n",
        "\n",
        "# Import necessary Python libraries\n",
        "import pandas as pd                # Data manipulation and analysis\n",
        "import numpy as np                 # Numerical computing\n",
        "import time                        # Time-related functions\n",
        "import os                          # Operating system interfaces\n",
        "import pandas_gbq                  # Pandas integration with BigQuery\n",
        "from google.cloud import bigquery  # BigQuery client library\n",
        "import glob                        # File path pattern matching\n",
        "import openpyxl                    # Excel file handling\n",
        "import csv                         # CSV file handling\n",
        "import re                          # Regular expressions\n",
        "\n",
        "# Note: The actual imports remain exactly as in the original code"
      ],
      "metadata": {
        "id": "NGDDCBWLEiht"
      },
      "execution_count": null,
      "outputs": []
    },
    {
      "cell_type": "markdown",
      "source": [
        "# Tratamento"
      ],
      "metadata": {
        "id": "fZbhqtUZEcMM"
      }
    },
    {
      "cell_type": "code",
      "source": [
        "# Load Public Safety data from Excel file\n",
        "df = pd.read_excel(\"Base_Estadic_2023(2).xlsx\", sheet_name='Segurança Pública')\n",
        "\n",
        "# Select and rename relevant columns\n",
        "df = df[['Sigla UF', 'PopUF', 'ESEG491', 'ESEG492', 'ESEG493']]\n",
        "df = df.rename(columns={\n",
        "    'ESEG491': 'policia_civil_efetivo_homem',\n",
        "    'ESEG492': 'policia_civil_efetivo_mulher',\n",
        "    'ESEG493': 'policia_civil_efetivo_total',\n",
        "    'PopUF': 'pop_projetada',\n",
        "    'Sigla UF': 'sigla_uf'\n",
        "})\n",
        "\n",
        "# Handle missing/refused data by replacing with 0\n",
        "df['policia_civil_efetivo_homem'] = df['policia_civil_efetivo_homem'].replace(['Recusa', 'Não informou'], 0)\n",
        "df['policia_civil_efetivo_mulher'] = df['policia_civil_efetivo_mulher'].replace(['Recusa', 'Não informou'], 0)\n",
        "\n",
        "# Convert to numeric\n",
        "df['policia_civil_efetivo_homem'] = df['policia_civil_efetivo_homem'].astype(str).astype(int)\n",
        "df['policia_civil_efetivo_mulher'] = df['policia_civil_efetivo_mulher'].astype(str).astype(int)\n",
        "\n",
        "# Add year column\n",
        "df['ano'] = 2023\n",
        "\n",
        "# Create separate dataframes for male and female officers\n",
        "df_mulheres = df.drop('policia_civil_efetivo_homem', axis=1)\n",
        "df_homens = df.drop('policia_civil_efetivo_mulher', axis=1)\n",
        "\n",
        "# Standardize column names and add gender column\n",
        "df_homens = df_homens.rename(columns={'policia_civil_efetivo_homem': 'quantidade_pessoas'})\n",
        "df_homens['genero'] = 'Masculino'\n",
        "\n",
        "df_mulheres = df_mulheres.rename(columns={'policia_civil_efetivo_mulher': 'quantidade_pessoas'})\n",
        "df_mulheres['genero'] = 'Feminino'\n",
        "\n",
        "# Combine male and female dataframes\n",
        "df = pd.concat([df_homens, df_mulheres])\n",
        "\n",
        "# Add theme column and drop total column\n",
        "df['tema'] = 'seguranca_publica'\n",
        "df = df.drop('policia_civil_efetivo_total', axis=1)"
      ],
      "metadata": {
        "id": "CVRiygQjvMXR"
      },
      "execution_count": null,
      "outputs": []
    },
    {
      "cell_type": "markdown",
      "source": [
        "# Upload"
      ],
      "metadata": {
        "id": "W0hEV55cEfKl"
      }
    },
    {
      "cell_type": "code",
      "source": [
        "# Define the BigQuery table schema with field types and descriptions\n",
        "schema = [\n",
        "    bigquery.SchemaField('ano','INTEGER',description='Ano de implementação da legislação.'),\n",
        "    bigquery.SchemaField('tema','STRING',description='Tema de origem daquele dado na ESTADIC'),\n",
        "    bigquery.SchemaField('sigla_uf','STRING',description='Sigla da Unidade da Federação.'),\n",
        "    bigquery.SchemaField('quantidade_pessoas','INTEGER',description='Quantitativo total de pessoas'),\n",
        "    bigquery.SchemaField('genero','STRING',description='Genero daquele quantitativo')\n",
        "]\n",
        "\n",
        "# Initialize connection to BigQuery client for the specified project\n",
        "client = bigquery.Client(project='repositoriodedadosgpsp')\n",
        "\n",
        "# Create reference to the target dataset\n",
        "dataset_ref = client.dataset('perfil_remuneracao')\n",
        "\n",
        "# Create reference to the target table following naming convention: SOURCE_descriptive_name_version\n",
        "table_ref = dataset_ref.table('ESTADIC_policial_civil_genero_v1')\n",
        "\n",
        "# Configure the data upload job with the defined schema\n",
        "job_config = bigquery.LoadJobConfig(schema=schema)\n",
        "\n",
        "# Execute the job to upload DataFrame to BigQuery\n",
        "job = client.load_table_from_dataframe(\n",
        "    dataframe=df,\n",
        "    destination=table_ref,\n",
        "    job_config=job_config\n",
        ")\n",
        "\n",
        "# Wait for the job to complete\n",
        "job.result()"
      ],
      "metadata": {
        "id": "_sumbiS1F8ay"
      },
      "execution_count": null,
      "outputs": []
    }
  ]
}