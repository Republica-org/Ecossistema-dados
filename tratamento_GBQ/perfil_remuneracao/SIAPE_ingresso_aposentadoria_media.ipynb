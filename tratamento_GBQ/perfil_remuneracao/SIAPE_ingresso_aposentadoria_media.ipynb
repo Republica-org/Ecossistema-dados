{
 "cells": [
  {
   "cell_type": "code",
   "execution_count": 5,
   "metadata": {},
   "outputs": [],
   "source": [
    "import pandas as pd\n",
    "import numpy as np\n",
    "import time\n",
    "import os\n",
    "import zipfile\n",
    "import pandas_gbq\n",
    "import glob\n",
    "from google.cloud import bigquery\n",
    "import re\n",
    "from datetime import datetime\n",
    "import locale"
   ]
  },
  {
   "cell_type": "code",
   "execution_count": 6,
   "metadata": {},
   "outputs": [
    {
     "data": {
      "text/plain": [
       "'pt_BR'"
      ]
     },
     "execution_count": 6,
     "metadata": {},
     "output_type": "execute_result"
    }
   ],
   "source": [
    "locale.setlocale(locale.LC_ALL, 'pt_BR')"
   ]
  },
  {
   "cell_type": "markdown",
   "metadata": {},
   "source": [
    "## Aposentadoria gráfico 2"
   ]
  },
  {
   "cell_type": "code",
   "execution_count": 7,
   "metadata": {},
   "outputs": [],
   "source": [
    "client = bigquery.Client()"
   ]
  },
  {
   "cell_type": "code",
   "execution_count": 8,
   "metadata": {},
   "outputs": [],
   "source": [
    "query = \"\"\" \n",
    "        SELECT ANO as ano, MES as mes,  Id_SERVIDOR_PORTAL as id_servidor, TIPO_APOSENTADORIA as tipo_aposentadoria, DATA_APOSENTADORIA as data_aposentadoria, DATA_DIPLOMA_INGRESSO_SERVICOPUBLICO as data_diploma_ingresso_servicopublico,\n",
    "            CASE WHEN ORGSUP_LOTACAO =\"Sem informação\" THEN ORG_LOTACAO ELSE ORGSUP_LOTACAO \n",
    "            END as org_lotacao, 'REGIME JURIDICO UNICO' as regime_juridico,\n",
    "            1 as total FROM `repositoriodedadosgpsp.portal_transparencia_cgu.2023_nov_siape_aposentados_cadastro`\n",
    "        \"\"\"  "
   ]
  },
  {
   "cell_type": "code",
   "execution_count": 9,
   "metadata": {},
   "outputs": [
    {
     "name": "stdout",
     "output_type": "stream",
     "text": [
      "Downloading: 100%|\u001b[32m██████████\u001b[0m|\n"
     ]
    },
    {
     "data": {
      "text/html": [
       "<div>\n",
       "<style scoped>\n",
       "    .dataframe tbody tr th:only-of-type {\n",
       "        vertical-align: middle;\n",
       "    }\n",
       "\n",
       "    .dataframe tbody tr th {\n",
       "        vertical-align: top;\n",
       "    }\n",
       "\n",
       "    .dataframe thead th {\n",
       "        text-align: right;\n",
       "    }\n",
       "</style>\n",
       "<table border=\"1\" class=\"dataframe\">\n",
       "  <thead>\n",
       "    <tr style=\"text-align: right;\">\n",
       "      <th></th>\n",
       "      <th>ano</th>\n",
       "      <th>mes</th>\n",
       "      <th>id_servidor</th>\n",
       "      <th>tipo_aposentadoria</th>\n",
       "      <th>data_aposentadoria</th>\n",
       "      <th>data_diploma_ingresso_servicopublico</th>\n",
       "      <th>org_lotacao</th>\n",
       "      <th>regime_juridico</th>\n",
       "      <th>total</th>\n",
       "    </tr>\n",
       "  </thead>\n",
       "  <tbody>\n",
       "    <tr>\n",
       "      <th>0</th>\n",
       "      <td>2023</td>\n",
       "      <td>11</td>\n",
       "      <td>311786085</td>\n",
       "      <td>APOSENTADORIA POR INVALIDEZ</td>\n",
       "      <td>30/04/2008</td>\n",
       "      <td>12/08/1982</td>\n",
       "      <td>MIN GESTAO E INOV EM SERV PUBLICOS</td>\n",
       "      <td>REGIME JURIDICO UNICO</td>\n",
       "      <td>1</td>\n",
       "    </tr>\n",
       "    <tr>\n",
       "      <th>1</th>\n",
       "      <td>2023</td>\n",
       "      <td>11</td>\n",
       "      <td>311413108</td>\n",
       "      <td>APOSENTADORIA VOLUNTARIA</td>\n",
       "      <td>07/04/2017</td>\n",
       "      <td>01/08/1981</td>\n",
       "      <td>MINISTERIO DA CULTURA</td>\n",
       "      <td>REGIME JURIDICO UNICO</td>\n",
       "      <td>1</td>\n",
       "    </tr>\n",
       "    <tr>\n",
       "      <th>2</th>\n",
       "      <td>2023</td>\n",
       "      <td>11</td>\n",
       "      <td>310796209</td>\n",
       "      <td>APOSENTADORIA VOLUNTARIA</td>\n",
       "      <td>12/04/2002</td>\n",
       "      <td>15/03/1990</td>\n",
       "      <td>MIN GESTAO E INOV EM SERV PUBLICOS</td>\n",
       "      <td>REGIME JURIDICO UNICO</td>\n",
       "      <td>1</td>\n",
       "    </tr>\n",
       "    <tr>\n",
       "      <th>3</th>\n",
       "      <td>2023</td>\n",
       "      <td>11</td>\n",
       "      <td>313314589</td>\n",
       "      <td>APOSENTADORIA VOLUNTARIA</td>\n",
       "      <td>12/05/2011</td>\n",
       "      <td>01/10/1990</td>\n",
       "      <td>MIN GESTAO E INOV EM SERV PUBLICOS</td>\n",
       "      <td>REGIME JURIDICO UNICO</td>\n",
       "      <td>1</td>\n",
       "    </tr>\n",
       "    <tr>\n",
       "      <th>4</th>\n",
       "      <td>2023</td>\n",
       "      <td>11</td>\n",
       "      <td>312332839</td>\n",
       "      <td>APOSENTADORIA VOLUNTARIA</td>\n",
       "      <td>14/06/2002</td>\n",
       "      <td>15/02/1977</td>\n",
       "      <td>MIN GESTAO E INOV EM SERV PUBLICOS</td>\n",
       "      <td>REGIME JURIDICO UNICO</td>\n",
       "      <td>1</td>\n",
       "    </tr>\n",
       "    <tr>\n",
       "      <th>...</th>\n",
       "      <td>...</td>\n",
       "      <td>...</td>\n",
       "      <td>...</td>\n",
       "      <td>...</td>\n",
       "      <td>...</td>\n",
       "      <td>...</td>\n",
       "      <td>...</td>\n",
       "      <td>...</td>\n",
       "      <td>...</td>\n",
       "    </tr>\n",
       "    <tr>\n",
       "      <th>418496</th>\n",
       "      <td>2023</td>\n",
       "      <td>11</td>\n",
       "      <td>312385265</td>\n",
       "      <td>APOSENTADORIA VOLUNTARIA</td>\n",
       "      <td>30/09/2009</td>\n",
       "      <td>01/09/1979</td>\n",
       "      <td>Ministério da Defesa</td>\n",
       "      <td>REGIME JURIDICO UNICO</td>\n",
       "      <td>1</td>\n",
       "    </tr>\n",
       "    <tr>\n",
       "      <th>418497</th>\n",
       "      <td>2023</td>\n",
       "      <td>11</td>\n",
       "      <td>312133569</td>\n",
       "      <td>APOSENTADORIA VOLUNTARIA</td>\n",
       "      <td>02/04/2012</td>\n",
       "      <td>17/09/1980</td>\n",
       "      <td>Ministério da Defesa</td>\n",
       "      <td>REGIME JURIDICO UNICO</td>\n",
       "      <td>1</td>\n",
       "    </tr>\n",
       "    <tr>\n",
       "      <th>418498</th>\n",
       "      <td>2023</td>\n",
       "      <td>11</td>\n",
       "      <td>312305623</td>\n",
       "      <td>APOSENTADORIA VOLUNTARIA</td>\n",
       "      <td>06/09/1994</td>\n",
       "      <td>01/04/1984</td>\n",
       "      <td>Ministério da Defesa</td>\n",
       "      <td>REGIME JURIDICO UNICO</td>\n",
       "      <td>1</td>\n",
       "    </tr>\n",
       "    <tr>\n",
       "      <th>418499</th>\n",
       "      <td>2023</td>\n",
       "      <td>11</td>\n",
       "      <td>311654066</td>\n",
       "      <td>APOSENTADORIA POR INVALIDEZ</td>\n",
       "      <td>15/09/2009</td>\n",
       "      <td>01/09/1977</td>\n",
       "      <td>Ministério da Defesa</td>\n",
       "      <td>REGIME JURIDICO UNICO</td>\n",
       "      <td>1</td>\n",
       "    </tr>\n",
       "    <tr>\n",
       "      <th>418500</th>\n",
       "      <td>2023</td>\n",
       "      <td>11</td>\n",
       "      <td>312159277</td>\n",
       "      <td>APOSENTADORIA VOLUNTARIA</td>\n",
       "      <td>11/01/2023</td>\n",
       "      <td>01/12/2005</td>\n",
       "      <td>MINISTERIO DA CULTURA</td>\n",
       "      <td>REGIME JURIDICO UNICO</td>\n",
       "      <td>1</td>\n",
       "    </tr>\n",
       "  </tbody>\n",
       "</table>\n",
       "<p>418501 rows × 9 columns</p>\n",
       "</div>"
      ],
      "text/plain": [
       "         ano  mes  id_servidor           tipo_aposentadoria  \\\n",
       "0       2023   11    311786085  APOSENTADORIA POR INVALIDEZ   \n",
       "1       2023   11    311413108     APOSENTADORIA VOLUNTARIA   \n",
       "2       2023   11    310796209     APOSENTADORIA VOLUNTARIA   \n",
       "3       2023   11    313314589     APOSENTADORIA VOLUNTARIA   \n",
       "4       2023   11    312332839     APOSENTADORIA VOLUNTARIA   \n",
       "...      ...  ...          ...                          ...   \n",
       "418496  2023   11    312385265     APOSENTADORIA VOLUNTARIA   \n",
       "418497  2023   11    312133569     APOSENTADORIA VOLUNTARIA   \n",
       "418498  2023   11    312305623     APOSENTADORIA VOLUNTARIA   \n",
       "418499  2023   11    311654066  APOSENTADORIA POR INVALIDEZ   \n",
       "418500  2023   11    312159277     APOSENTADORIA VOLUNTARIA   \n",
       "\n",
       "       data_aposentadoria data_diploma_ingresso_servicopublico  \\\n",
       "0              30/04/2008                           12/08/1982   \n",
       "1              07/04/2017                           01/08/1981   \n",
       "2              12/04/2002                           15/03/1990   \n",
       "3              12/05/2011                           01/10/1990   \n",
       "4              14/06/2002                           15/02/1977   \n",
       "...                   ...                                  ...   \n",
       "418496         30/09/2009                           01/09/1979   \n",
       "418497         02/04/2012                           17/09/1980   \n",
       "418498         06/09/1994                           01/04/1984   \n",
       "418499         15/09/2009                           01/09/1977   \n",
       "418500         11/01/2023                           01/12/2005   \n",
       "\n",
       "                               org_lotacao        regime_juridico  total  \n",
       "0       MIN GESTAO E INOV EM SERV PUBLICOS  REGIME JURIDICO UNICO      1  \n",
       "1                    MINISTERIO DA CULTURA  REGIME JURIDICO UNICO      1  \n",
       "2       MIN GESTAO E INOV EM SERV PUBLICOS  REGIME JURIDICO UNICO      1  \n",
       "3       MIN GESTAO E INOV EM SERV PUBLICOS  REGIME JURIDICO UNICO      1  \n",
       "4       MIN GESTAO E INOV EM SERV PUBLICOS  REGIME JURIDICO UNICO      1  \n",
       "...                                    ...                    ...    ...  \n",
       "418496                Ministério da Defesa  REGIME JURIDICO UNICO      1  \n",
       "418497                Ministério da Defesa  REGIME JURIDICO UNICO      1  \n",
       "418498                Ministério da Defesa  REGIME JURIDICO UNICO      1  \n",
       "418499                Ministério da Defesa  REGIME JURIDICO UNICO      1  \n",
       "418500               MINISTERIO DA CULTURA  REGIME JURIDICO UNICO      1  \n",
       "\n",
       "[418501 rows x 9 columns]"
      ]
     },
     "execution_count": 9,
     "metadata": {},
     "output_type": "execute_result"
    }
   ],
   "source": [
    "df = pandas_gbq.read_gbq(query, project_id='repositoriodedadosgpsp')\n",
    "df"
   ]
  },
  {
   "cell_type": "code",
   "execution_count": 10,
   "metadata": {},
   "outputs": [
    {
     "data": {
      "text/plain": [
       "Index(['ano', 'mes', 'id_servidor', 'tipo_aposentadoria', 'data_aposentadoria',\n",
       "       'data_diploma_ingresso_servicopublico', 'org_lotacao',\n",
       "       'regime_juridico', 'total'],\n",
       "      dtype='object')"
      ]
     },
     "execution_count": 10,
     "metadata": {},
     "output_type": "execute_result"
    }
   ],
   "source": [
    "df.columns"
   ]
  },
  {
   "cell_type": "code",
   "execution_count": 11,
   "metadata": {},
   "outputs": [
    {
     "data": {
      "text/plain": [
       "ano                                      Int64\n",
       "mes                                      Int64\n",
       "id_servidor                              Int64\n",
       "tipo_aposentadoria                      object\n",
       "data_aposentadoria                      object\n",
       "data_diploma_ingresso_servicopublico    object\n",
       "org_lotacao                             object\n",
       "regime_juridico                         object\n",
       "total                                    Int64\n",
       "dtype: object"
      ]
     },
     "execution_count": 11,
     "metadata": {},
     "output_type": "execute_result"
    }
   ],
   "source": [
    "df.dtypes"
   ]
  },
  {
   "cell_type": "code",
   "execution_count": 12,
   "metadata": {},
   "outputs": [
    {
     "data": {
      "text/plain": [
       "False    417698\n",
       "True        803\n",
       "Name: data_aposentadoria, dtype: int64"
      ]
     },
     "execution_count": 12,
     "metadata": {},
     "output_type": "execute_result"
    }
   ],
   "source": [
    "aposentadoria = df['data_aposentadoria'].isnull()\n",
    "aposentadoria.value_counts()"
   ]
  },
  {
   "cell_type": "code",
   "execution_count": 13,
   "metadata": {},
   "outputs": [
    {
     "data": {
      "text/plain": [
       "False    412512\n",
       "True       5989\n",
       "Name: data_diploma_ingresso_servicopublico, dtype: int64"
      ]
     },
     "execution_count": 13,
     "metadata": {},
     "output_type": "execute_result"
    }
   ],
   "source": [
    "ingresso = df['data_diploma_ingresso_servicopublico'].isnull()\n",
    "ingresso.value_counts()"
   ]
  },
  {
   "cell_type": "code",
   "execution_count": 14,
   "metadata": {},
   "outputs": [
    {
     "data": {
      "text/html": [
       "<div>\n",
       "<style scoped>\n",
       "    .dataframe tbody tr th:only-of-type {\n",
       "        vertical-align: middle;\n",
       "    }\n",
       "\n",
       "    .dataframe tbody tr th {\n",
       "        vertical-align: top;\n",
       "    }\n",
       "\n",
       "    .dataframe thead th {\n",
       "        text-align: right;\n",
       "    }\n",
       "</style>\n",
       "<table border=\"1\" class=\"dataframe\">\n",
       "  <thead>\n",
       "    <tr style=\"text-align: right;\">\n",
       "      <th></th>\n",
       "      <th>ano</th>\n",
       "      <th>mes</th>\n",
       "      <th>id_servidor</th>\n",
       "      <th>tipo_aposentadoria</th>\n",
       "      <th>data_aposentadoria</th>\n",
       "      <th>data_diploma_ingresso_servicopublico</th>\n",
       "      <th>org_lotacao</th>\n",
       "      <th>regime_juridico</th>\n",
       "      <th>total</th>\n",
       "    </tr>\n",
       "  </thead>\n",
       "  <tbody>\n",
       "    <tr>\n",
       "      <th>0</th>\n",
       "      <td>2023</td>\n",
       "      <td>11</td>\n",
       "      <td>311786085</td>\n",
       "      <td>APOSENTADORIA POR INVALIDEZ</td>\n",
       "      <td>30/04/2008</td>\n",
       "      <td>12/08/1982</td>\n",
       "      <td>MIN GESTAO E INOV EM SERV PUBLICOS</td>\n",
       "      <td>REGIME JURIDICO UNICO</td>\n",
       "      <td>1</td>\n",
       "    </tr>\n",
       "    <tr>\n",
       "      <th>1</th>\n",
       "      <td>2023</td>\n",
       "      <td>11</td>\n",
       "      <td>311413108</td>\n",
       "      <td>APOSENTADORIA VOLUNTARIA</td>\n",
       "      <td>07/04/2017</td>\n",
       "      <td>01/08/1981</td>\n",
       "      <td>MINISTERIO DA CULTURA</td>\n",
       "      <td>REGIME JURIDICO UNICO</td>\n",
       "      <td>1</td>\n",
       "    </tr>\n",
       "    <tr>\n",
       "      <th>2</th>\n",
       "      <td>2023</td>\n",
       "      <td>11</td>\n",
       "      <td>310796209</td>\n",
       "      <td>APOSENTADORIA VOLUNTARIA</td>\n",
       "      <td>12/04/2002</td>\n",
       "      <td>15/03/1990</td>\n",
       "      <td>MIN GESTAO E INOV EM SERV PUBLICOS</td>\n",
       "      <td>REGIME JURIDICO UNICO</td>\n",
       "      <td>1</td>\n",
       "    </tr>\n",
       "    <tr>\n",
       "      <th>3</th>\n",
       "      <td>2023</td>\n",
       "      <td>11</td>\n",
       "      <td>313314589</td>\n",
       "      <td>APOSENTADORIA VOLUNTARIA</td>\n",
       "      <td>12/05/2011</td>\n",
       "      <td>01/10/1990</td>\n",
       "      <td>MIN GESTAO E INOV EM SERV PUBLICOS</td>\n",
       "      <td>REGIME JURIDICO UNICO</td>\n",
       "      <td>1</td>\n",
       "    </tr>\n",
       "    <tr>\n",
       "      <th>4</th>\n",
       "      <td>2023</td>\n",
       "      <td>11</td>\n",
       "      <td>312332839</td>\n",
       "      <td>APOSENTADORIA VOLUNTARIA</td>\n",
       "      <td>14/06/2002</td>\n",
       "      <td>15/02/1977</td>\n",
       "      <td>MIN GESTAO E INOV EM SERV PUBLICOS</td>\n",
       "      <td>REGIME JURIDICO UNICO</td>\n",
       "      <td>1</td>\n",
       "    </tr>\n",
       "    <tr>\n",
       "      <th>...</th>\n",
       "      <td>...</td>\n",
       "      <td>...</td>\n",
       "      <td>...</td>\n",
       "      <td>...</td>\n",
       "      <td>...</td>\n",
       "      <td>...</td>\n",
       "      <td>...</td>\n",
       "      <td>...</td>\n",
       "      <td>...</td>\n",
       "    </tr>\n",
       "    <tr>\n",
       "      <th>418496</th>\n",
       "      <td>2023</td>\n",
       "      <td>11</td>\n",
       "      <td>312385265</td>\n",
       "      <td>APOSENTADORIA VOLUNTARIA</td>\n",
       "      <td>30/09/2009</td>\n",
       "      <td>01/09/1979</td>\n",
       "      <td>Ministério da Defesa</td>\n",
       "      <td>REGIME JURIDICO UNICO</td>\n",
       "      <td>1</td>\n",
       "    </tr>\n",
       "    <tr>\n",
       "      <th>418497</th>\n",
       "      <td>2023</td>\n",
       "      <td>11</td>\n",
       "      <td>312133569</td>\n",
       "      <td>APOSENTADORIA VOLUNTARIA</td>\n",
       "      <td>02/04/2012</td>\n",
       "      <td>17/09/1980</td>\n",
       "      <td>Ministério da Defesa</td>\n",
       "      <td>REGIME JURIDICO UNICO</td>\n",
       "      <td>1</td>\n",
       "    </tr>\n",
       "    <tr>\n",
       "      <th>418498</th>\n",
       "      <td>2023</td>\n",
       "      <td>11</td>\n",
       "      <td>312305623</td>\n",
       "      <td>APOSENTADORIA VOLUNTARIA</td>\n",
       "      <td>06/09/1994</td>\n",
       "      <td>01/04/1984</td>\n",
       "      <td>Ministério da Defesa</td>\n",
       "      <td>REGIME JURIDICO UNICO</td>\n",
       "      <td>1</td>\n",
       "    </tr>\n",
       "    <tr>\n",
       "      <th>418499</th>\n",
       "      <td>2023</td>\n",
       "      <td>11</td>\n",
       "      <td>311654066</td>\n",
       "      <td>APOSENTADORIA POR INVALIDEZ</td>\n",
       "      <td>15/09/2009</td>\n",
       "      <td>01/09/1977</td>\n",
       "      <td>Ministério da Defesa</td>\n",
       "      <td>REGIME JURIDICO UNICO</td>\n",
       "      <td>1</td>\n",
       "    </tr>\n",
       "    <tr>\n",
       "      <th>418500</th>\n",
       "      <td>2023</td>\n",
       "      <td>11</td>\n",
       "      <td>312159277</td>\n",
       "      <td>APOSENTADORIA VOLUNTARIA</td>\n",
       "      <td>11/01/2023</td>\n",
       "      <td>01/12/2005</td>\n",
       "      <td>MINISTERIO DA CULTURA</td>\n",
       "      <td>REGIME JURIDICO UNICO</td>\n",
       "      <td>1</td>\n",
       "    </tr>\n",
       "  </tbody>\n",
       "</table>\n",
       "<p>411709 rows × 9 columns</p>\n",
       "</div>"
      ],
      "text/plain": [
       "         ano  mes  id_servidor           tipo_aposentadoria  \\\n",
       "0       2023   11    311786085  APOSENTADORIA POR INVALIDEZ   \n",
       "1       2023   11    311413108     APOSENTADORIA VOLUNTARIA   \n",
       "2       2023   11    310796209     APOSENTADORIA VOLUNTARIA   \n",
       "3       2023   11    313314589     APOSENTADORIA VOLUNTARIA   \n",
       "4       2023   11    312332839     APOSENTADORIA VOLUNTARIA   \n",
       "...      ...  ...          ...                          ...   \n",
       "418496  2023   11    312385265     APOSENTADORIA VOLUNTARIA   \n",
       "418497  2023   11    312133569     APOSENTADORIA VOLUNTARIA   \n",
       "418498  2023   11    312305623     APOSENTADORIA VOLUNTARIA   \n",
       "418499  2023   11    311654066  APOSENTADORIA POR INVALIDEZ   \n",
       "418500  2023   11    312159277     APOSENTADORIA VOLUNTARIA   \n",
       "\n",
       "       data_aposentadoria data_diploma_ingresso_servicopublico  \\\n",
       "0              30/04/2008                           12/08/1982   \n",
       "1              07/04/2017                           01/08/1981   \n",
       "2              12/04/2002                           15/03/1990   \n",
       "3              12/05/2011                           01/10/1990   \n",
       "4              14/06/2002                           15/02/1977   \n",
       "...                   ...                                  ...   \n",
       "418496         30/09/2009                           01/09/1979   \n",
       "418497         02/04/2012                           17/09/1980   \n",
       "418498         06/09/1994                           01/04/1984   \n",
       "418499         15/09/2009                           01/09/1977   \n",
       "418500         11/01/2023                           01/12/2005   \n",
       "\n",
       "                               org_lotacao        regime_juridico  total  \n",
       "0       MIN GESTAO E INOV EM SERV PUBLICOS  REGIME JURIDICO UNICO      1  \n",
       "1                    MINISTERIO DA CULTURA  REGIME JURIDICO UNICO      1  \n",
       "2       MIN GESTAO E INOV EM SERV PUBLICOS  REGIME JURIDICO UNICO      1  \n",
       "3       MIN GESTAO E INOV EM SERV PUBLICOS  REGIME JURIDICO UNICO      1  \n",
       "4       MIN GESTAO E INOV EM SERV PUBLICOS  REGIME JURIDICO UNICO      1  \n",
       "...                                    ...                    ...    ...  \n",
       "418496                Ministério da Defesa  REGIME JURIDICO UNICO      1  \n",
       "418497                Ministério da Defesa  REGIME JURIDICO UNICO      1  \n",
       "418498                Ministério da Defesa  REGIME JURIDICO UNICO      1  \n",
       "418499                Ministério da Defesa  REGIME JURIDICO UNICO      1  \n",
       "418500               MINISTERIO DA CULTURA  REGIME JURIDICO UNICO      1  \n",
       "\n",
       "[411709 rows x 9 columns]"
      ]
     },
     "execution_count": 14,
     "metadata": {},
     "output_type": "execute_result"
    }
   ],
   "source": [
    "df = df.dropna() \n",
    "df #Dados nulos da data de aposentadoria = 803; Dados nulos da data de ingresso = 5989. A soma dos dois é a quantidade de linhas dropadas (6792). \n"
   ]
  },
  {
   "cell_type": "code",
   "execution_count": 15,
   "metadata": {},
   "outputs": [
    {
     "name": "stderr",
     "output_type": "stream",
     "text": [
      "C:\\Users\\ana.sales_republica\\AppData\\Local\\Temp\\ipykernel_2012\\1474179940.py:1: SettingWithCopyWarning: \n",
      "A value is trying to be set on a copy of a slice from a DataFrame.\n",
      "Try using .loc[row_indexer,col_indexer] = value instead\n",
      "\n",
      "See the caveats in the documentation: https://pandas.pydata.org/pandas-docs/stable/user_guide/indexing.html#returning-a-view-versus-a-copy\n",
      "  df['data_aposentadoria'] = pd.to_datetime(df['data_aposentadoria'], dayfirst=True, format= \"%d/%m/%Y\") #transformando em data\n"
     ]
    }
   ],
   "source": [
    "df['data_aposentadoria'] = pd.to_datetime(df['data_aposentadoria'], dayfirst=True, format= \"%d/%m/%Y\") #transformando em data"
   ]
  },
  {
   "cell_type": "code",
   "execution_count": 16,
   "metadata": {},
   "outputs": [
    {
     "name": "stderr",
     "output_type": "stream",
     "text": [
      "C:\\Users\\ana.sales_republica\\AppData\\Local\\Temp\\ipykernel_2012\\3069410005.py:1: SettingWithCopyWarning: \n",
      "A value is trying to be set on a copy of a slice from a DataFrame.\n",
      "Try using .loc[row_indexer,col_indexer] = value instead\n",
      "\n",
      "See the caveats in the documentation: https://pandas.pydata.org/pandas-docs/stable/user_guide/indexing.html#returning-a-view-versus-a-copy\n",
      "  df['data_diploma_ingresso_servicopublico'] = pd.to_datetime(df['data_diploma_ingresso_servicopublico'], dayfirst=True, format= \"%d/%m/%Y\") #transformando em data\n"
     ]
    }
   ],
   "source": [
    "df['data_diploma_ingresso_servicopublico'] = pd.to_datetime(df['data_diploma_ingresso_servicopublico'], dayfirst=True, format= \"%d/%m/%Y\") #transformando em data"
   ]
  },
  {
   "cell_type": "code",
   "execution_count": 17,
   "metadata": {},
   "outputs": [
    {
     "name": "stderr",
     "output_type": "stream",
     "text": [
      "C:\\Users\\ana.sales_republica\\AppData\\Local\\Temp\\ipykernel_2012\\1637080438.py:1: SettingWithCopyWarning: \n",
      "A value is trying to be set on a copy of a slice from a DataFrame.\n",
      "Try using .loc[row_indexer,col_indexer] = value instead\n",
      "\n",
      "See the caveats in the documentation: https://pandas.pydata.org/pandas-docs/stable/user_guide/indexing.html#returning-a-view-versus-a-copy\n",
      "  df['ano_aposentadoria'] = df['data_aposentadoria'].dt.year #pegando apenas o ano\n"
     ]
    }
   ],
   "source": [
    "df['ano_aposentadoria'] = df['data_aposentadoria'].dt.year #pegando apenas o ano"
   ]
  },
  {
   "cell_type": "code",
   "execution_count": 18,
   "metadata": {},
   "outputs": [
    {
     "name": "stderr",
     "output_type": "stream",
     "text": [
      "C:\\Users\\ana.sales_republica\\AppData\\Local\\Temp\\ipykernel_2012\\2359990388.py:1: SettingWithCopyWarning: \n",
      "A value is trying to be set on a copy of a slice from a DataFrame.\n",
      "Try using .loc[row_indexer,col_indexer] = value instead\n",
      "\n",
      "See the caveats in the documentation: https://pandas.pydata.org/pandas-docs/stable/user_guide/indexing.html#returning-a-view-versus-a-copy\n",
      "  df['ano_ingresso'] = df['data_diploma_ingresso_servicopublico'].dt.year #pegando apenas o ano\n"
     ]
    }
   ],
   "source": [
    "df['ano_ingresso'] = df['data_diploma_ingresso_servicopublico'].dt.year #pegando apenas o ano"
   ]
  },
  {
   "cell_type": "code",
   "execution_count": 19,
   "metadata": {},
   "outputs": [
    {
     "name": "stderr",
     "output_type": "stream",
     "text": [
      "C:\\Users\\ana.sales_republica\\AppData\\Local\\Temp\\ipykernel_2012\\3392378587.py:1: SettingWithCopyWarning: \n",
      "A value is trying to be set on a copy of a slice from a DataFrame.\n",
      "Try using .loc[row_indexer,col_indexer] = value instead\n",
      "\n",
      "See the caveats in the documentation: https://pandas.pydata.org/pandas-docs/stable/user_guide/indexing.html#returning-a-view-versus-a-copy\n",
      "  df['ano_ingresso']= df['ano_ingresso'].astype(int) #transformando os valores da coluna em inteiro\n"
     ]
    }
   ],
   "source": [
    "df['ano_ingresso']= df['ano_ingresso'].astype(int) #transformando os valores da coluna em inteiro"
   ]
  },
  {
   "cell_type": "code",
   "execution_count": 20,
   "metadata": {},
   "outputs": [
    {
     "data": {
      "text/plain": [
       "array([1982, 1981, 1990, 1977, 1985, 1978, 1971, 1986, 1984, 1976, 1980,\n",
       "       1974, 1972, 1989, 2013, 2014, 1979, 1983, 1987, 1991, 1963, 1954,\n",
       "       1942, 1949, 1953, 1952, 1992, 2016, 1975, 1988, 1955, 1957, 1950,\n",
       "       1960, 1956, 1947, 1945, 1959, 1967, 1966, 1965, 1970, 1996, 1995,\n",
       "       1993, 2008, 1997, 1961, 1968, 1962, 1999, 1998, 1973, 1994, 1958,\n",
       "       1964, 1969, 1946, 2004, 2006, 2007, 2009, 2011, 2012, 1943, 2010,\n",
       "       1951, 2000, 1944, 2002, 2001, 2005, 2003, 1948, 1941, 2017, 2019,\n",
       "       2015, 1939, 1940, 2018, 2020, 2021, 1936, 1932, 1935, 1938])"
      ]
     },
     "execution_count": 20,
     "metadata": {},
     "output_type": "execute_result"
    }
   ],
   "source": [
    "df['ano_ingresso'].unique()"
   ]
  },
  {
   "cell_type": "code",
   "execution_count": 21,
   "metadata": {},
   "outputs": [
    {
     "name": "stderr",
     "output_type": "stream",
     "text": [
      "C:\\Users\\ana.sales_republica\\AppData\\Local\\Temp\\ipykernel_2012\\3254720995.py:1: SettingWithCopyWarning: \n",
      "A value is trying to be set on a copy of a slice from a DataFrame.\n",
      "Try using .loc[row_indexer,col_indexer] = value instead\n",
      "\n",
      "See the caveats in the documentation: https://pandas.pydata.org/pandas-docs/stable/user_guide/indexing.html#returning-a-view-versus-a-copy\n",
      "  df['ano_aposentadoria'] = df['ano_aposentadoria'].astype(int) #transformando os valores da coluna em inteiro\n"
     ]
    }
   ],
   "source": [
    "df['ano_aposentadoria'] = df['ano_aposentadoria'].astype(int) #transformando os valores da coluna em inteiro"
   ]
  },
  {
   "cell_type": "code",
   "execution_count": 22,
   "metadata": {},
   "outputs": [
    {
     "data": {
      "text/plain": [
       "array([2008, 2017, 2002, 2011, 2000, 2012, 2005, 2004, 2003, 2014, 1988,\n",
       "       2016, 1991, 2010, 2021, 2018, 1997, 2013, 2015, 1996, 2009, 2019,\n",
       "       2023, 2022, 2020, 1999, 1987, 1994, 2001, 1992, 2006, 1995, 1986,\n",
       "       1998, 1977, 1990, 1993, 2007, 1980, 1989, 1985, 1984, 1983, 1981,\n",
       "       1982, 1979, 1976, 1978, 1965, 1968, 1972, 1971, 1970, 1966, 1967,\n",
       "       1963, 1974, 1969, 1975, 1973, 1964, 1959, 1962, 1960, 1952, 1953,\n",
       "       1955, 1958, 1954, 1951, 1961, 1957])"
      ]
     },
     "execution_count": 22,
     "metadata": {},
     "output_type": "execute_result"
    }
   ],
   "source": [
    "df['ano_aposentadoria'].unique()"
   ]
  },
  {
   "cell_type": "code",
   "execution_count": 23,
   "metadata": {},
   "outputs": [
    {
     "name": "stderr",
     "output_type": "stream",
     "text": [
      "C:\\Users\\ana.sales_republica\\AppData\\Local\\Temp\\ipykernel_2012\\2946031983.py:4: SettingWithCopyWarning: \n",
      "A value is trying to be set on a copy of a slice from a DataFrame.\n",
      "Try using .loc[row_indexer,col_indexer] = value instead\n",
      "\n",
      "See the caveats in the documentation: https://pandas.pydata.org/pandas-docs/stable/user_guide/indexing.html#returning-a-view-versus-a-copy\n",
      "  df['decada_aposentadoria'] = pd.cut(df['ano_aposentadoria'], bins=limites, labels=categorias)\n"
     ]
    }
   ],
   "source": [
    "limites = [0, 1959, 1969, 1979, 1989, 1999, 2009, 2019, 2024]\n",
    "categorias = [1950, 1960, 1970, 1980, 1990, 2000, 2010, 2020]\n",
    "\n",
    "df['decada_aposentadoria'] = pd.cut(df['ano_aposentadoria'], bins=limites, labels=categorias)\n"
   ]
  },
  {
   "cell_type": "code",
   "execution_count": 24,
   "metadata": {},
   "outputs": [
    {
     "data": {
      "text/html": [
       "<div>\n",
       "<style scoped>\n",
       "    .dataframe tbody tr th:only-of-type {\n",
       "        vertical-align: middle;\n",
       "    }\n",
       "\n",
       "    .dataframe tbody tr th {\n",
       "        vertical-align: top;\n",
       "    }\n",
       "\n",
       "    .dataframe thead th {\n",
       "        text-align: right;\n",
       "    }\n",
       "</style>\n",
       "<table border=\"1\" class=\"dataframe\">\n",
       "  <thead>\n",
       "    <tr style=\"text-align: right;\">\n",
       "      <th></th>\n",
       "      <th>ano</th>\n",
       "      <th>mes</th>\n",
       "      <th>tipo_aposentadoria</th>\n",
       "      <th>data_aposentadoria</th>\n",
       "      <th>ano_aposentadoria</th>\n",
       "      <th>decada_aposentadoria</th>\n",
       "      <th>data_diploma_ingresso_servicopublico</th>\n",
       "      <th>ano_ingresso</th>\n",
       "      <th>org_lotacao</th>\n",
       "      <th>regime_juridico</th>\n",
       "      <th>total</th>\n",
       "    </tr>\n",
       "  </thead>\n",
       "  <tbody>\n",
       "    <tr>\n",
       "      <th>0</th>\n",
       "      <td>2023</td>\n",
       "      <td>11</td>\n",
       "      <td>APOSENTADORIA POR INVALIDEZ</td>\n",
       "      <td>2008-04-30</td>\n",
       "      <td>2008</td>\n",
       "      <td>2000</td>\n",
       "      <td>1982-08-12</td>\n",
       "      <td>1982</td>\n",
       "      <td>MIN GESTAO E INOV EM SERV PUBLICOS</td>\n",
       "      <td>REGIME JURIDICO UNICO</td>\n",
       "      <td>1</td>\n",
       "    </tr>\n",
       "    <tr>\n",
       "      <th>1</th>\n",
       "      <td>2023</td>\n",
       "      <td>11</td>\n",
       "      <td>APOSENTADORIA VOLUNTARIA</td>\n",
       "      <td>2017-04-07</td>\n",
       "      <td>2017</td>\n",
       "      <td>2010</td>\n",
       "      <td>1981-08-01</td>\n",
       "      <td>1981</td>\n",
       "      <td>MINISTERIO DA CULTURA</td>\n",
       "      <td>REGIME JURIDICO UNICO</td>\n",
       "      <td>1</td>\n",
       "    </tr>\n",
       "    <tr>\n",
       "      <th>2</th>\n",
       "      <td>2023</td>\n",
       "      <td>11</td>\n",
       "      <td>APOSENTADORIA VOLUNTARIA</td>\n",
       "      <td>2002-04-12</td>\n",
       "      <td>2002</td>\n",
       "      <td>2000</td>\n",
       "      <td>1990-03-15</td>\n",
       "      <td>1990</td>\n",
       "      <td>MIN GESTAO E INOV EM SERV PUBLICOS</td>\n",
       "      <td>REGIME JURIDICO UNICO</td>\n",
       "      <td>1</td>\n",
       "    </tr>\n",
       "    <tr>\n",
       "      <th>3</th>\n",
       "      <td>2023</td>\n",
       "      <td>11</td>\n",
       "      <td>APOSENTADORIA VOLUNTARIA</td>\n",
       "      <td>2011-05-12</td>\n",
       "      <td>2011</td>\n",
       "      <td>2010</td>\n",
       "      <td>1990-10-01</td>\n",
       "      <td>1990</td>\n",
       "      <td>MIN GESTAO E INOV EM SERV PUBLICOS</td>\n",
       "      <td>REGIME JURIDICO UNICO</td>\n",
       "      <td>1</td>\n",
       "    </tr>\n",
       "    <tr>\n",
       "      <th>4</th>\n",
       "      <td>2023</td>\n",
       "      <td>11</td>\n",
       "      <td>APOSENTADORIA VOLUNTARIA</td>\n",
       "      <td>2002-06-14</td>\n",
       "      <td>2002</td>\n",
       "      <td>2000</td>\n",
       "      <td>1977-02-15</td>\n",
       "      <td>1977</td>\n",
       "      <td>MIN GESTAO E INOV EM SERV PUBLICOS</td>\n",
       "      <td>REGIME JURIDICO UNICO</td>\n",
       "      <td>1</td>\n",
       "    </tr>\n",
       "    <tr>\n",
       "      <th>...</th>\n",
       "      <td>...</td>\n",
       "      <td>...</td>\n",
       "      <td>...</td>\n",
       "      <td>...</td>\n",
       "      <td>...</td>\n",
       "      <td>...</td>\n",
       "      <td>...</td>\n",
       "      <td>...</td>\n",
       "      <td>...</td>\n",
       "      <td>...</td>\n",
       "      <td>...</td>\n",
       "    </tr>\n",
       "    <tr>\n",
       "      <th>418496</th>\n",
       "      <td>2023</td>\n",
       "      <td>11</td>\n",
       "      <td>APOSENTADORIA VOLUNTARIA</td>\n",
       "      <td>2009-09-30</td>\n",
       "      <td>2009</td>\n",
       "      <td>2000</td>\n",
       "      <td>1979-09-01</td>\n",
       "      <td>1979</td>\n",
       "      <td>Ministério da Defesa</td>\n",
       "      <td>REGIME JURIDICO UNICO</td>\n",
       "      <td>1</td>\n",
       "    </tr>\n",
       "    <tr>\n",
       "      <th>418497</th>\n",
       "      <td>2023</td>\n",
       "      <td>11</td>\n",
       "      <td>APOSENTADORIA VOLUNTARIA</td>\n",
       "      <td>2012-04-02</td>\n",
       "      <td>2012</td>\n",
       "      <td>2010</td>\n",
       "      <td>1980-09-17</td>\n",
       "      <td>1980</td>\n",
       "      <td>Ministério da Defesa</td>\n",
       "      <td>REGIME JURIDICO UNICO</td>\n",
       "      <td>1</td>\n",
       "    </tr>\n",
       "    <tr>\n",
       "      <th>418498</th>\n",
       "      <td>2023</td>\n",
       "      <td>11</td>\n",
       "      <td>APOSENTADORIA VOLUNTARIA</td>\n",
       "      <td>1994-09-06</td>\n",
       "      <td>1994</td>\n",
       "      <td>1990</td>\n",
       "      <td>1984-04-01</td>\n",
       "      <td>1984</td>\n",
       "      <td>Ministério da Defesa</td>\n",
       "      <td>REGIME JURIDICO UNICO</td>\n",
       "      <td>1</td>\n",
       "    </tr>\n",
       "    <tr>\n",
       "      <th>418499</th>\n",
       "      <td>2023</td>\n",
       "      <td>11</td>\n",
       "      <td>APOSENTADORIA POR INVALIDEZ</td>\n",
       "      <td>2009-09-15</td>\n",
       "      <td>2009</td>\n",
       "      <td>2000</td>\n",
       "      <td>1977-09-01</td>\n",
       "      <td>1977</td>\n",
       "      <td>Ministério da Defesa</td>\n",
       "      <td>REGIME JURIDICO UNICO</td>\n",
       "      <td>1</td>\n",
       "    </tr>\n",
       "    <tr>\n",
       "      <th>418500</th>\n",
       "      <td>2023</td>\n",
       "      <td>11</td>\n",
       "      <td>APOSENTADORIA VOLUNTARIA</td>\n",
       "      <td>2023-01-11</td>\n",
       "      <td>2023</td>\n",
       "      <td>2020</td>\n",
       "      <td>2005-12-01</td>\n",
       "      <td>2005</td>\n",
       "      <td>MINISTERIO DA CULTURA</td>\n",
       "      <td>REGIME JURIDICO UNICO</td>\n",
       "      <td>1</td>\n",
       "    </tr>\n",
       "  </tbody>\n",
       "</table>\n",
       "<p>411709 rows × 11 columns</p>\n",
       "</div>"
      ],
      "text/plain": [
       "         ano  mes           tipo_aposentadoria data_aposentadoria  \\\n",
       "0       2023   11  APOSENTADORIA POR INVALIDEZ         2008-04-30   \n",
       "1       2023   11     APOSENTADORIA VOLUNTARIA         2017-04-07   \n",
       "2       2023   11     APOSENTADORIA VOLUNTARIA         2002-04-12   \n",
       "3       2023   11     APOSENTADORIA VOLUNTARIA         2011-05-12   \n",
       "4       2023   11     APOSENTADORIA VOLUNTARIA         2002-06-14   \n",
       "...      ...  ...                          ...                ...   \n",
       "418496  2023   11     APOSENTADORIA VOLUNTARIA         2009-09-30   \n",
       "418497  2023   11     APOSENTADORIA VOLUNTARIA         2012-04-02   \n",
       "418498  2023   11     APOSENTADORIA VOLUNTARIA         1994-09-06   \n",
       "418499  2023   11  APOSENTADORIA POR INVALIDEZ         2009-09-15   \n",
       "418500  2023   11     APOSENTADORIA VOLUNTARIA         2023-01-11   \n",
       "\n",
       "        ano_aposentadoria decada_aposentadoria  \\\n",
       "0                    2008                 2000   \n",
       "1                    2017                 2010   \n",
       "2                    2002                 2000   \n",
       "3                    2011                 2010   \n",
       "4                    2002                 2000   \n",
       "...                   ...                  ...   \n",
       "418496               2009                 2000   \n",
       "418497               2012                 2010   \n",
       "418498               1994                 1990   \n",
       "418499               2009                 2000   \n",
       "418500               2023                 2020   \n",
       "\n",
       "       data_diploma_ingresso_servicopublico  ano_ingresso  \\\n",
       "0                                1982-08-12          1982   \n",
       "1                                1981-08-01          1981   \n",
       "2                                1990-03-15          1990   \n",
       "3                                1990-10-01          1990   \n",
       "4                                1977-02-15          1977   \n",
       "...                                     ...           ...   \n",
       "418496                           1979-09-01          1979   \n",
       "418497                           1980-09-17          1980   \n",
       "418498                           1984-04-01          1984   \n",
       "418499                           1977-09-01          1977   \n",
       "418500                           2005-12-01          2005   \n",
       "\n",
       "                               org_lotacao        regime_juridico  total  \n",
       "0       MIN GESTAO E INOV EM SERV PUBLICOS  REGIME JURIDICO UNICO      1  \n",
       "1                    MINISTERIO DA CULTURA  REGIME JURIDICO UNICO      1  \n",
       "2       MIN GESTAO E INOV EM SERV PUBLICOS  REGIME JURIDICO UNICO      1  \n",
       "3       MIN GESTAO E INOV EM SERV PUBLICOS  REGIME JURIDICO UNICO      1  \n",
       "4       MIN GESTAO E INOV EM SERV PUBLICOS  REGIME JURIDICO UNICO      1  \n",
       "...                                    ...                    ...    ...  \n",
       "418496                Ministério da Defesa  REGIME JURIDICO UNICO      1  \n",
       "418497                Ministério da Defesa  REGIME JURIDICO UNICO      1  \n",
       "418498                Ministério da Defesa  REGIME JURIDICO UNICO      1  \n",
       "418499                Ministério da Defesa  REGIME JURIDICO UNICO      1  \n",
       "418500               MINISTERIO DA CULTURA  REGIME JURIDICO UNICO      1  \n",
       "\n",
       "[411709 rows x 11 columns]"
      ]
     },
     "execution_count": 24,
     "metadata": {},
     "output_type": "execute_result"
    }
   ],
   "source": [
    "df = df[['ano', 'mes', 'tipo_aposentadoria', 'data_aposentadoria', 'ano_aposentadoria', 'decada_aposentadoria', 'data_diploma_ingresso_servicopublico', 'ano_ingresso', 'org_lotacao', 'regime_juridico', 'total']]\n",
    "df #411709 linhas"
   ]
  },
  {
   "cell_type": "code",
   "execution_count": 25,
   "metadata": {},
   "outputs": [
    {
     "data": {
      "text/plain": [
       "0         26\n",
       "1         36\n",
       "2         12\n",
       "3         21\n",
       "4         25\n",
       "          ..\n",
       "418496    30\n",
       "418497    32\n",
       "418498    10\n",
       "418499    32\n",
       "418500    18\n",
       "Name: tempo_contribuicao_servico_publico, Length: 411709, dtype: int32"
      ]
     },
     "execution_count": 25,
     "metadata": {},
     "output_type": "execute_result"
    }
   ],
   "source": [
    "df['tempo_contribuicao_servico_publico'] = df['ano_aposentadoria'] - df['ano_ingresso']\n",
    "df['tempo_contribuicao_servico_publico']"
   ]
  },
  {
   "cell_type": "code",
   "execution_count": 26,
   "metadata": {},
   "outputs": [
    {
     "data": {
      "text/plain": [
       "array([ 26,  36,  12,  21,  25,  15,  22,  41,  19,  18,  24,  32,  34,\n",
       "        11,  30,  38,  17,  20,  31,  40,  28,   0,  23,  27,   2,  14,\n",
       "        33,  16,  39,  29,  46,  55,  67,  60,  48,  56,  57,  42,   5,\n",
       "        37,  43,  13,  44,  45,   1,   7,   3,   4,   8,  35,  50,  47,\n",
       "        54,  49,   6,  52,  10,  -8,   9,  53,  66,  -5, -27,  -1,  -2,\n",
       "       -12,  -3,  58, -13, -14,  51,  -6, -16, -21,  -7,  59,  -9,  -4,\n",
       "        61,  65,  62, -17,  64,  63, -24, -11, -10, -15, -18, -19, -22])"
      ]
     },
     "execution_count": 26,
     "metadata": {},
     "output_type": "execute_result"
    }
   ],
   "source": [
    "df['tempo_contribuicao_servico_publico'].unique()"
   ]
  },
  {
   "cell_type": "code",
   "execution_count": 27,
   "metadata": {},
   "outputs": [
    {
     "data": {
      "text/html": [
       "<div>\n",
       "<style scoped>\n",
       "    .dataframe tbody tr th:only-of-type {\n",
       "        vertical-align: middle;\n",
       "    }\n",
       "\n",
       "    .dataframe tbody tr th {\n",
       "        vertical-align: top;\n",
       "    }\n",
       "\n",
       "    .dataframe thead th {\n",
       "        text-align: right;\n",
       "    }\n",
       "</style>\n",
       "<table border=\"1\" class=\"dataframe\">\n",
       "  <thead>\n",
       "    <tr style=\"text-align: right;\">\n",
       "      <th></th>\n",
       "      <th>ano</th>\n",
       "      <th>mes</th>\n",
       "      <th>tipo_aposentadoria</th>\n",
       "      <th>data_aposentadoria</th>\n",
       "      <th>ano_aposentadoria</th>\n",
       "      <th>decada_aposentadoria</th>\n",
       "      <th>data_diploma_ingresso_servicopublico</th>\n",
       "      <th>ano_ingresso</th>\n",
       "      <th>org_lotacao</th>\n",
       "      <th>regime_juridico</th>\n",
       "      <th>total</th>\n",
       "      <th>tempo_contribuicao_servico_publico</th>\n",
       "    </tr>\n",
       "  </thead>\n",
       "  <tbody>\n",
       "    <tr>\n",
       "      <th>28</th>\n",
       "      <td>2023</td>\n",
       "      <td>11</td>\n",
       "      <td>APOSENTADORIA VOLUNTARIA</td>\n",
       "      <td>2013-01-02</td>\n",
       "      <td>2013</td>\n",
       "      <td>2010</td>\n",
       "      <td>2013-01-01</td>\n",
       "      <td>2013</td>\n",
       "      <td>MIN GESTAO E INOV EM SERV PUBLICOS</td>\n",
       "      <td>REGIME JURIDICO UNICO</td>\n",
       "      <td>1</td>\n",
       "      <td>0</td>\n",
       "    </tr>\n",
       "    <tr>\n",
       "      <th>29</th>\n",
       "      <td>2023</td>\n",
       "      <td>11</td>\n",
       "      <td>APOSENTADORIA VOLUNTARIA</td>\n",
       "      <td>2013-01-02</td>\n",
       "      <td>2013</td>\n",
       "      <td>2010</td>\n",
       "      <td>2013-01-01</td>\n",
       "      <td>2013</td>\n",
       "      <td>MIN GESTAO E INOV EM SERV PUBLICOS</td>\n",
       "      <td>REGIME JURIDICO UNICO</td>\n",
       "      <td>1</td>\n",
       "      <td>0</td>\n",
       "    </tr>\n",
       "    <tr>\n",
       "      <th>32</th>\n",
       "      <td>2023</td>\n",
       "      <td>11</td>\n",
       "      <td>APOSENTADORIA VOLUNTARIA</td>\n",
       "      <td>2014-06-05</td>\n",
       "      <td>2014</td>\n",
       "      <td>2010</td>\n",
       "      <td>2014-06-04</td>\n",
       "      <td>2014</td>\n",
       "      <td>MIN GESTAO E INOV EM SERV PUBLICOS</td>\n",
       "      <td>REGIME JURIDICO UNICO</td>\n",
       "      <td>1</td>\n",
       "      <td>0</td>\n",
       "    </tr>\n",
       "    <tr>\n",
       "      <th>34</th>\n",
       "      <td>2023</td>\n",
       "      <td>11</td>\n",
       "      <td>APOSENTADORIA VOLUNTARIA</td>\n",
       "      <td>2014-06-05</td>\n",
       "      <td>2014</td>\n",
       "      <td>2010</td>\n",
       "      <td>2014-06-04</td>\n",
       "      <td>2014</td>\n",
       "      <td>MIN GESTAO E INOV EM SERV PUBLICOS</td>\n",
       "      <td>REGIME JURIDICO UNICO</td>\n",
       "      <td>1</td>\n",
       "      <td>0</td>\n",
       "    </tr>\n",
       "    <tr>\n",
       "      <th>36</th>\n",
       "      <td>2023</td>\n",
       "      <td>11</td>\n",
       "      <td>APOSENTADORIA VOLUNTARIA</td>\n",
       "      <td>2014-06-05</td>\n",
       "      <td>2014</td>\n",
       "      <td>2010</td>\n",
       "      <td>2014-06-04</td>\n",
       "      <td>2014</td>\n",
       "      <td>MIN GESTAO E INOV EM SERV PUBLICOS</td>\n",
       "      <td>REGIME JURIDICO UNICO</td>\n",
       "      <td>1</td>\n",
       "      <td>0</td>\n",
       "    </tr>\n",
       "    <tr>\n",
       "      <th>...</th>\n",
       "      <td>...</td>\n",
       "      <td>...</td>\n",
       "      <td>...</td>\n",
       "      <td>...</td>\n",
       "      <td>...</td>\n",
       "      <td>...</td>\n",
       "      <td>...</td>\n",
       "      <td>...</td>\n",
       "      <td>...</td>\n",
       "      <td>...</td>\n",
       "      <td>...</td>\n",
       "      <td>...</td>\n",
       "    </tr>\n",
       "    <tr>\n",
       "      <th>411250</th>\n",
       "      <td>2023</td>\n",
       "      <td>11</td>\n",
       "      <td>APOSENTADORIA VOLUNTARIA</td>\n",
       "      <td>1983-04-06</td>\n",
       "      <td>1983</td>\n",
       "      <td>1980</td>\n",
       "      <td>1983-04-04</td>\n",
       "      <td>1983</td>\n",
       "      <td>MIN GESTAO E INOV EM SERV PUBLICOS</td>\n",
       "      <td>REGIME JURIDICO UNICO</td>\n",
       "      <td>1</td>\n",
       "      <td>0</td>\n",
       "    </tr>\n",
       "    <tr>\n",
       "      <th>412141</th>\n",
       "      <td>2023</td>\n",
       "      <td>11</td>\n",
       "      <td>APOSENTADORIA POR INVALIDEZ</td>\n",
       "      <td>1973-01-25</td>\n",
       "      <td>1973</td>\n",
       "      <td>1970</td>\n",
       "      <td>1973-01-11</td>\n",
       "      <td>1973</td>\n",
       "      <td>MIN GESTAO E INOV EM SERV PUBLICOS</td>\n",
       "      <td>REGIME JURIDICO UNICO</td>\n",
       "      <td>1</td>\n",
       "      <td>0</td>\n",
       "    </tr>\n",
       "    <tr>\n",
       "      <th>413399</th>\n",
       "      <td>2023</td>\n",
       "      <td>11</td>\n",
       "      <td>APOSENTADORIA VOLUNTARIA</td>\n",
       "      <td>1997-08-08</td>\n",
       "      <td>1997</td>\n",
       "      <td>1990</td>\n",
       "      <td>1997-08-01</td>\n",
       "      <td>1997</td>\n",
       "      <td>MIN GESTAO E INOV EM SERV PUBLICOS</td>\n",
       "      <td>REGIME JURIDICO UNICO</td>\n",
       "      <td>1</td>\n",
       "      <td>0</td>\n",
       "    </tr>\n",
       "    <tr>\n",
       "      <th>414344</th>\n",
       "      <td>2023</td>\n",
       "      <td>11</td>\n",
       "      <td>APOSENTADORIA VOLUNTARIA</td>\n",
       "      <td>1998-12-02</td>\n",
       "      <td>1998</td>\n",
       "      <td>1990</td>\n",
       "      <td>1998-06-26</td>\n",
       "      <td>1998</td>\n",
       "      <td>MIN GESTAO E INOV EM SERV PUBLICOS</td>\n",
       "      <td>REGIME JURIDICO UNICO</td>\n",
       "      <td>1</td>\n",
       "      <td>0</td>\n",
       "    </tr>\n",
       "    <tr>\n",
       "      <th>415605</th>\n",
       "      <td>2023</td>\n",
       "      <td>11</td>\n",
       "      <td>APOSENTADORIA POR INVALIDEZ</td>\n",
       "      <td>1962-09-30</td>\n",
       "      <td>1962</td>\n",
       "      <td>1960</td>\n",
       "      <td>1962-06-15</td>\n",
       "      <td>1962</td>\n",
       "      <td>MIN GESTAO E INOV EM SERV PUBLICOS</td>\n",
       "      <td>REGIME JURIDICO UNICO</td>\n",
       "      <td>1</td>\n",
       "      <td>0</td>\n",
       "    </tr>\n",
       "  </tbody>\n",
       "</table>\n",
       "<p>1338 rows × 12 columns</p>\n",
       "</div>"
      ],
      "text/plain": [
       "         ano  mes           tipo_aposentadoria data_aposentadoria  \\\n",
       "28      2023   11     APOSENTADORIA VOLUNTARIA         2013-01-02   \n",
       "29      2023   11     APOSENTADORIA VOLUNTARIA         2013-01-02   \n",
       "32      2023   11     APOSENTADORIA VOLUNTARIA         2014-06-05   \n",
       "34      2023   11     APOSENTADORIA VOLUNTARIA         2014-06-05   \n",
       "36      2023   11     APOSENTADORIA VOLUNTARIA         2014-06-05   \n",
       "...      ...  ...                          ...                ...   \n",
       "411250  2023   11     APOSENTADORIA VOLUNTARIA         1983-04-06   \n",
       "412141  2023   11  APOSENTADORIA POR INVALIDEZ         1973-01-25   \n",
       "413399  2023   11     APOSENTADORIA VOLUNTARIA         1997-08-08   \n",
       "414344  2023   11     APOSENTADORIA VOLUNTARIA         1998-12-02   \n",
       "415605  2023   11  APOSENTADORIA POR INVALIDEZ         1962-09-30   \n",
       "\n",
       "        ano_aposentadoria decada_aposentadoria  \\\n",
       "28                   2013                 2010   \n",
       "29                   2013                 2010   \n",
       "32                   2014                 2010   \n",
       "34                   2014                 2010   \n",
       "36                   2014                 2010   \n",
       "...                   ...                  ...   \n",
       "411250               1983                 1980   \n",
       "412141               1973                 1970   \n",
       "413399               1997                 1990   \n",
       "414344               1998                 1990   \n",
       "415605               1962                 1960   \n",
       "\n",
       "       data_diploma_ingresso_servicopublico  ano_ingresso  \\\n",
       "28                               2013-01-01          2013   \n",
       "29                               2013-01-01          2013   \n",
       "32                               2014-06-04          2014   \n",
       "34                               2014-06-04          2014   \n",
       "36                               2014-06-04          2014   \n",
       "...                                     ...           ...   \n",
       "411250                           1983-04-04          1983   \n",
       "412141                           1973-01-11          1973   \n",
       "413399                           1997-08-01          1997   \n",
       "414344                           1998-06-26          1998   \n",
       "415605                           1962-06-15          1962   \n",
       "\n",
       "                               org_lotacao        regime_juridico  total  \\\n",
       "28      MIN GESTAO E INOV EM SERV PUBLICOS  REGIME JURIDICO UNICO      1   \n",
       "29      MIN GESTAO E INOV EM SERV PUBLICOS  REGIME JURIDICO UNICO      1   \n",
       "32      MIN GESTAO E INOV EM SERV PUBLICOS  REGIME JURIDICO UNICO      1   \n",
       "34      MIN GESTAO E INOV EM SERV PUBLICOS  REGIME JURIDICO UNICO      1   \n",
       "36      MIN GESTAO E INOV EM SERV PUBLICOS  REGIME JURIDICO UNICO      1   \n",
       "...                                    ...                    ...    ...   \n",
       "411250  MIN GESTAO E INOV EM SERV PUBLICOS  REGIME JURIDICO UNICO      1   \n",
       "412141  MIN GESTAO E INOV EM SERV PUBLICOS  REGIME JURIDICO UNICO      1   \n",
       "413399  MIN GESTAO E INOV EM SERV PUBLICOS  REGIME JURIDICO UNICO      1   \n",
       "414344  MIN GESTAO E INOV EM SERV PUBLICOS  REGIME JURIDICO UNICO      1   \n",
       "415605  MIN GESTAO E INOV EM SERV PUBLICOS  REGIME JURIDICO UNICO      1   \n",
       "\n",
       "        tempo_contribuicao_servico_publico  \n",
       "28                                       0  \n",
       "29                                       0  \n",
       "32                                       0  \n",
       "34                                       0  \n",
       "36                                       0  \n",
       "...                                    ...  \n",
       "411250                                   0  \n",
       "412141                                   0  \n",
       "413399                                   0  \n",
       "414344                                   0  \n",
       "415605                                   0  \n",
       "\n",
       "[1338 rows x 12 columns]"
      ]
     },
     "execution_count": 27,
     "metadata": {},
     "output_type": "execute_result"
    }
   ],
   "source": [
    "df_zeros = df[df['tempo_contribuicao_servico_publico']==0] #1338 linhas\n",
    "df_zeros"
   ]
  },
  {
   "cell_type": "code",
   "execution_count": 28,
   "metadata": {},
   "outputs": [
    {
     "data": {
      "text/html": [
       "<div>\n",
       "<style scoped>\n",
       "    .dataframe tbody tr th:only-of-type {\n",
       "        vertical-align: middle;\n",
       "    }\n",
       "\n",
       "    .dataframe tbody tr th {\n",
       "        vertical-align: top;\n",
       "    }\n",
       "\n",
       "    .dataframe thead th {\n",
       "        text-align: right;\n",
       "    }\n",
       "</style>\n",
       "<table border=\"1\" class=\"dataframe\">\n",
       "  <thead>\n",
       "    <tr style=\"text-align: right;\">\n",
       "      <th></th>\n",
       "      <th>ano</th>\n",
       "      <th>mes</th>\n",
       "      <th>tipo_aposentadoria</th>\n",
       "      <th>data_aposentadoria</th>\n",
       "      <th>ano_aposentadoria</th>\n",
       "      <th>decada_aposentadoria</th>\n",
       "      <th>data_diploma_ingresso_servicopublico</th>\n",
       "      <th>ano_ingresso</th>\n",
       "      <th>org_lotacao</th>\n",
       "      <th>regime_juridico</th>\n",
       "      <th>total</th>\n",
       "      <th>tempo_contribuicao_servico_publico</th>\n",
       "    </tr>\n",
       "  </thead>\n",
       "  <tbody>\n",
       "    <tr>\n",
       "      <th>1156</th>\n",
       "      <td>2023</td>\n",
       "      <td>11</td>\n",
       "      <td>APOSENTADORIA VOLUNTARIA</td>\n",
       "      <td>1983-04-06</td>\n",
       "      <td>1983</td>\n",
       "      <td>1980</td>\n",
       "      <td>1991-01-02</td>\n",
       "      <td>1991</td>\n",
       "      <td>MIN GESTAO E INOV EM SERV PUBLICOS</td>\n",
       "      <td>REGIME JURIDICO UNICO</td>\n",
       "      <td>1</td>\n",
       "      <td>-8</td>\n",
       "    </tr>\n",
       "    <tr>\n",
       "      <th>25447</th>\n",
       "      <td>2023</td>\n",
       "      <td>11</td>\n",
       "      <td>APOSENTADORIA VOLUNTARIA</td>\n",
       "      <td>1995-05-09</td>\n",
       "      <td>1995</td>\n",
       "      <td>1990</td>\n",
       "      <td>2000-04-01</td>\n",
       "      <td>2000</td>\n",
       "      <td>MIN GESTAO E INOV EM SERV PUBLICOS</td>\n",
       "      <td>REGIME JURIDICO UNICO</td>\n",
       "      <td>1</td>\n",
       "      <td>-5</td>\n",
       "    </tr>\n",
       "    <tr>\n",
       "      <th>27835</th>\n",
       "      <td>2023</td>\n",
       "      <td>11</td>\n",
       "      <td>APOSENTADORIA POR INVALIDEZ</td>\n",
       "      <td>1966-12-01</td>\n",
       "      <td>1966</td>\n",
       "      <td>1960</td>\n",
       "      <td>1993-11-01</td>\n",
       "      <td>1993</td>\n",
       "      <td>Ministério da Ciência, Tecnologia, Inovações e...</td>\n",
       "      <td>REGIME JURIDICO UNICO</td>\n",
       "      <td>1</td>\n",
       "      <td>-27</td>\n",
       "    </tr>\n",
       "    <tr>\n",
       "      <th>27837</th>\n",
       "      <td>2023</td>\n",
       "      <td>11</td>\n",
       "      <td>APOSENTADORIA VOLUNTARIA</td>\n",
       "      <td>1979-05-28</td>\n",
       "      <td>1979</td>\n",
       "      <td>1970</td>\n",
       "      <td>1980-04-23</td>\n",
       "      <td>1980</td>\n",
       "      <td>Ministério da Ciência, Tecnologia, Inovações e...</td>\n",
       "      <td>REGIME JURIDICO UNICO</td>\n",
       "      <td>1</td>\n",
       "      <td>-1</td>\n",
       "    </tr>\n",
       "    <tr>\n",
       "      <th>27854</th>\n",
       "      <td>2023</td>\n",
       "      <td>11</td>\n",
       "      <td>APOSENTADORIA POR INVALIDEZ</td>\n",
       "      <td>1978-10-16</td>\n",
       "      <td>1978</td>\n",
       "      <td>1970</td>\n",
       "      <td>1980-04-01</td>\n",
       "      <td>1980</td>\n",
       "      <td>Ministério da Ciência, Tecnologia, Inovações e...</td>\n",
       "      <td>REGIME JURIDICO UNICO</td>\n",
       "      <td>1</td>\n",
       "      <td>-2</td>\n",
       "    </tr>\n",
       "    <tr>\n",
       "      <th>...</th>\n",
       "      <td>...</td>\n",
       "      <td>...</td>\n",
       "      <td>...</td>\n",
       "      <td>...</td>\n",
       "      <td>...</td>\n",
       "      <td>...</td>\n",
       "      <td>...</td>\n",
       "      <td>...</td>\n",
       "      <td>...</td>\n",
       "      <td>...</td>\n",
       "      <td>...</td>\n",
       "      <td>...</td>\n",
       "    </tr>\n",
       "    <tr>\n",
       "      <th>412537</th>\n",
       "      <td>2023</td>\n",
       "      <td>11</td>\n",
       "      <td>APOSENTADORIA VOLUNTARIA</td>\n",
       "      <td>1992-07-31</td>\n",
       "      <td>1992</td>\n",
       "      <td>1990</td>\n",
       "      <td>1997-07-01</td>\n",
       "      <td>1997</td>\n",
       "      <td>MIN GESTAO E INOV EM SERV PUBLICOS</td>\n",
       "      <td>REGIME JURIDICO UNICO</td>\n",
       "      <td>1</td>\n",
       "      <td>-5</td>\n",
       "    </tr>\n",
       "    <tr>\n",
       "      <th>412614</th>\n",
       "      <td>2023</td>\n",
       "      <td>11</td>\n",
       "      <td>APOSENTADORIA VOLUNTARIA</td>\n",
       "      <td>1969-04-02</td>\n",
       "      <td>1969</td>\n",
       "      <td>1960</td>\n",
       "      <td>1991-01-31</td>\n",
       "      <td>1991</td>\n",
       "      <td>MIN GESTAO E INOV EM SERV PUBLICOS</td>\n",
       "      <td>REGIME JURIDICO UNICO</td>\n",
       "      <td>1</td>\n",
       "      <td>-22</td>\n",
       "    </tr>\n",
       "    <tr>\n",
       "      <th>413024</th>\n",
       "      <td>2023</td>\n",
       "      <td>11</td>\n",
       "      <td>APOSENTADORIA VOLUNTARIA</td>\n",
       "      <td>1996-06-14</td>\n",
       "      <td>1996</td>\n",
       "      <td>1990</td>\n",
       "      <td>1997-07-01</td>\n",
       "      <td>1997</td>\n",
       "      <td>MIN GESTAO E INOV EM SERV PUBLICOS</td>\n",
       "      <td>REGIME JURIDICO UNICO</td>\n",
       "      <td>1</td>\n",
       "      <td>-1</td>\n",
       "    </tr>\n",
       "    <tr>\n",
       "      <th>413216</th>\n",
       "      <td>2023</td>\n",
       "      <td>11</td>\n",
       "      <td>APOSENTADORIA VOLUNTARIA</td>\n",
       "      <td>1989-06-23</td>\n",
       "      <td>1989</td>\n",
       "      <td>1980</td>\n",
       "      <td>1991-01-31</td>\n",
       "      <td>1991</td>\n",
       "      <td>MIN GESTAO E INOV EM SERV PUBLICOS</td>\n",
       "      <td>REGIME JURIDICO UNICO</td>\n",
       "      <td>1</td>\n",
       "      <td>-2</td>\n",
       "    </tr>\n",
       "    <tr>\n",
       "      <th>414080</th>\n",
       "      <td>2023</td>\n",
       "      <td>11</td>\n",
       "      <td>APOSENTADORIA VOLUNTARIA</td>\n",
       "      <td>1990-06-11</td>\n",
       "      <td>1990</td>\n",
       "      <td>1990</td>\n",
       "      <td>1997-07-01</td>\n",
       "      <td>1997</td>\n",
       "      <td>MIN GESTAO E INOV EM SERV PUBLICOS</td>\n",
       "      <td>REGIME JURIDICO UNICO</td>\n",
       "      <td>1</td>\n",
       "      <td>-7</td>\n",
       "    </tr>\n",
       "  </tbody>\n",
       "</table>\n",
       "<p>242 rows × 12 columns</p>\n",
       "</div>"
      ],
      "text/plain": [
       "         ano  mes           tipo_aposentadoria data_aposentadoria  \\\n",
       "1156    2023   11     APOSENTADORIA VOLUNTARIA         1983-04-06   \n",
       "25447   2023   11     APOSENTADORIA VOLUNTARIA         1995-05-09   \n",
       "27835   2023   11  APOSENTADORIA POR INVALIDEZ         1966-12-01   \n",
       "27837   2023   11     APOSENTADORIA VOLUNTARIA         1979-05-28   \n",
       "27854   2023   11  APOSENTADORIA POR INVALIDEZ         1978-10-16   \n",
       "...      ...  ...                          ...                ...   \n",
       "412537  2023   11     APOSENTADORIA VOLUNTARIA         1992-07-31   \n",
       "412614  2023   11     APOSENTADORIA VOLUNTARIA         1969-04-02   \n",
       "413024  2023   11     APOSENTADORIA VOLUNTARIA         1996-06-14   \n",
       "413216  2023   11     APOSENTADORIA VOLUNTARIA         1989-06-23   \n",
       "414080  2023   11     APOSENTADORIA VOLUNTARIA         1990-06-11   \n",
       "\n",
       "        ano_aposentadoria decada_aposentadoria  \\\n",
       "1156                 1983                 1980   \n",
       "25447                1995                 1990   \n",
       "27835                1966                 1960   \n",
       "27837                1979                 1970   \n",
       "27854                1978                 1970   \n",
       "...                   ...                  ...   \n",
       "412537               1992                 1990   \n",
       "412614               1969                 1960   \n",
       "413024               1996                 1990   \n",
       "413216               1989                 1980   \n",
       "414080               1990                 1990   \n",
       "\n",
       "       data_diploma_ingresso_servicopublico  ano_ingresso  \\\n",
       "1156                             1991-01-02          1991   \n",
       "25447                            2000-04-01          2000   \n",
       "27835                            1993-11-01          1993   \n",
       "27837                            1980-04-23          1980   \n",
       "27854                            1980-04-01          1980   \n",
       "...                                     ...           ...   \n",
       "412537                           1997-07-01          1997   \n",
       "412614                           1991-01-31          1991   \n",
       "413024                           1997-07-01          1997   \n",
       "413216                           1991-01-31          1991   \n",
       "414080                           1997-07-01          1997   \n",
       "\n",
       "                                              org_lotacao  \\\n",
       "1156                   MIN GESTAO E INOV EM SERV PUBLICOS   \n",
       "25447                  MIN GESTAO E INOV EM SERV PUBLICOS   \n",
       "27835   Ministério da Ciência, Tecnologia, Inovações e...   \n",
       "27837   Ministério da Ciência, Tecnologia, Inovações e...   \n",
       "27854   Ministério da Ciência, Tecnologia, Inovações e...   \n",
       "...                                                   ...   \n",
       "412537                 MIN GESTAO E INOV EM SERV PUBLICOS   \n",
       "412614                 MIN GESTAO E INOV EM SERV PUBLICOS   \n",
       "413024                 MIN GESTAO E INOV EM SERV PUBLICOS   \n",
       "413216                 MIN GESTAO E INOV EM SERV PUBLICOS   \n",
       "414080                 MIN GESTAO E INOV EM SERV PUBLICOS   \n",
       "\n",
       "              regime_juridico  total  tempo_contribuicao_servico_publico  \n",
       "1156    REGIME JURIDICO UNICO      1                                  -8  \n",
       "25447   REGIME JURIDICO UNICO      1                                  -5  \n",
       "27835   REGIME JURIDICO UNICO      1                                 -27  \n",
       "27837   REGIME JURIDICO UNICO      1                                  -1  \n",
       "27854   REGIME JURIDICO UNICO      1                                  -2  \n",
       "...                       ...    ...                                 ...  \n",
       "412537  REGIME JURIDICO UNICO      1                                  -5  \n",
       "412614  REGIME JURIDICO UNICO      1                                 -22  \n",
       "413024  REGIME JURIDICO UNICO      1                                  -1  \n",
       "413216  REGIME JURIDICO UNICO      1                                  -2  \n",
       "414080  REGIME JURIDICO UNICO      1                                  -7  \n",
       "\n",
       "[242 rows x 12 columns]"
      ]
     },
     "execution_count": 28,
     "metadata": {},
     "output_type": "execute_result"
    }
   ],
   "source": [
    "menor_zero = df[df['tempo_contribuicao_servico_publico']< 0] #242 linhas\n",
    "menor_zero "
   ]
  },
  {
   "cell_type": "code",
   "execution_count": 29,
   "metadata": {},
   "outputs": [
    {
     "data": {
      "text/plain": [
       "array([26, 36, 12, 21, 25, 15, 22, 41, 19, 18, 24, 32, 34, 11, 30, 38, 17,\n",
       "       20, 31, 40, 28, 23, 27,  2, 14, 33, 16, 39, 29, 46, 55, 67, 60, 48,\n",
       "       56, 57, 42,  5, 37, 43, 13, 44, 45,  1,  7,  3,  4,  8, 35, 50, 47,\n",
       "       54, 49,  6, 52, 10,  9, 53, 66, 58, 51, 59, 61, 65, 62, 64, 63])"
      ]
     },
     "execution_count": 29,
     "metadata": {},
     "output_type": "execute_result"
    }
   ],
   "source": [
    "df = df[df['tempo_contribuicao_servico_publico'] > 0]\n",
    "df['tempo_contribuicao_servico_publico'].unique()"
   ]
  },
  {
   "cell_type": "code",
   "execution_count": 30,
   "metadata": {},
   "outputs": [
    {
     "name": "stderr",
     "output_type": "stream",
     "text": [
      "C:\\Users\\ana.sales_republica\\AppData\\Local\\Temp\\ipykernel_2012\\2506975054.py:1: SettingWithCopyWarning: \n",
      "A value is trying to be set on a copy of a slice from a DataFrame.\n",
      "Try using .loc[row_indexer,col_indexer] = value instead\n",
      "\n",
      "See the caveats in the documentation: https://pandas.pydata.org/pandas-docs/stable/user_guide/indexing.html#returning-a-view-versus-a-copy\n",
      "  df['decada_aposentadoria'] = df['decada_aposentadoria'].astype(int)\n"
     ]
    }
   ],
   "source": [
    "df['decada_aposentadoria'] = df['decada_aposentadoria'].astype(int)"
   ]
  },
  {
   "cell_type": "code",
   "execution_count": 31,
   "metadata": {},
   "outputs": [
    {
     "data": {
      "text/plain": [
       "array([2000, 2010, 1980, 1990, 2020, 1970, 1960, 1950])"
      ]
     },
     "execution_count": 31,
     "metadata": {},
     "output_type": "execute_result"
    }
   ],
   "source": [
    "df['decada_aposentadoria'].unique()"
   ]
  },
  {
   "cell_type": "markdown",
   "metadata": {},
   "source": [
    "## Tratamento final"
   ]
  },
  {
   "cell_type": "code",
   "execution_count": 32,
   "metadata": {},
   "outputs": [
    {
     "data": {
      "text/plain": [
       "dtype('int32')"
      ]
     },
     "execution_count": 32,
     "metadata": {},
     "output_type": "execute_result"
    }
   ],
   "source": [
    "df['decada_aposentadoria'].dtype"
   ]
  },
  {
   "cell_type": "code",
   "execution_count": 33,
   "metadata": {},
   "outputs": [],
   "source": [
    "def renomear(var_aposentadoria):\n",
    "    var_aposentadoria = re.sub(r\"\\bAPOSENTADORIA POR INVALIDEZ\\b\", \"Aposentadoria por invalidez\", var_aposentadoria)\n",
    "    var_aposentadoria = re.sub(r\"\\bAPOSENTADORIA VOLUNTARIA\\b\", \"Aposentadoria voluntária\", var_aposentadoria)\n",
    "    var_aposentadoria = re.sub(r\"\\bAPOSENTADORIA COMPULSORIA\\b\", \"Aposentadoria compulsória\", var_aposentadoria)\n",
    "    var_aposentadoria = re.sub(r\"\\bAPOSENTADORIA POR INCAPACIDADE\\b\", \"Aposentadoria por incapacidade\", var_aposentadoria)\n",
    "    var_aposentadoria = re.sub(r\"\\bOUTROS\\b\", \"Outros\", var_aposentadoria)\n",
    "    \n",
    "    return var_aposentadoria"
   ]
  },
  {
   "cell_type": "code",
   "execution_count": 34,
   "metadata": {},
   "outputs": [
    {
     "name": "stderr",
     "output_type": "stream",
     "text": [
      "C:\\Users\\ana.sales_republica\\AppData\\Local\\Temp\\ipykernel_2012\\2971334208.py:1: SettingWithCopyWarning: \n",
      "A value is trying to be set on a copy of a slice from a DataFrame.\n",
      "Try using .loc[row_indexer,col_indexer] = value instead\n",
      "\n",
      "See the caveats in the documentation: https://pandas.pydata.org/pandas-docs/stable/user_guide/indexing.html#returning-a-view-versus-a-copy\n",
      "  df['tipo_aposentadoria'] = df['tipo_aposentadoria'].apply(renomear)\n"
     ]
    }
   ],
   "source": [
    "df['tipo_aposentadoria'] = df['tipo_aposentadoria'].apply(renomear) "
   ]
  },
  {
   "cell_type": "code",
   "execution_count": 35,
   "metadata": {},
   "outputs": [
    {
     "data": {
      "text/plain": [
       "array(['Aposentadoria por invalidez', 'Aposentadoria voluntária',\n",
       "       'Aposentadoria compulsória', 'Aposentadoria por incapacidade',\n",
       "       'Outros'], dtype=object)"
      ]
     },
     "execution_count": 35,
     "metadata": {},
     "output_type": "execute_result"
    }
   ],
   "source": [
    "df['tipo_aposentadoria'].unique()"
   ]
  },
  {
   "cell_type": "code",
   "execution_count": 36,
   "metadata": {},
   "outputs": [
    {
     "name": "stderr",
     "output_type": "stream",
     "text": [
      "C:\\Users\\ana.sales_republica\\AppData\\Local\\Temp\\ipykernel_2012\\2304693947.py:1: SettingWithCopyWarning: \n",
      "A value is trying to be set on a copy of a slice from a DataFrame.\n",
      "Try using .loc[row_indexer,col_indexer] = value instead\n",
      "\n",
      "See the caveats in the documentation: https://pandas.pydata.org/pandas-docs/stable/user_guide/indexing.html#returning-a-view-versus-a-copy\n",
      "  df['org_lotacao'] = df['org_lotacao'].str.title()\n"
     ]
    }
   ],
   "source": [
    "df['org_lotacao'] = df['org_lotacao'].str.title()"
   ]
  },
  {
   "cell_type": "code",
   "execution_count": 37,
   "metadata": {},
   "outputs": [
    {
     "data": {
      "text/plain": [
       "array(['Min Gestao E Inov Em Serv Publicos', 'Ministerio Da Cultura',\n",
       "       'Ministério Da Saúde', 'Ministério Da Defesa',\n",
       "       'Ministério Da Educação', 'Ministerio Dos Povos Indigenas',\n",
       "       'Presidência Da República', 'Ministério De Minas E Energia',\n",
       "       'Ministério Da Justiça E Segurança Pública',\n",
       "       'Ministério Da Ciência, Tecnologia, Inovações E Comunicações',\n",
       "       'Ministerio Dos Transportes', 'Ministerio Da Previdencia Social',\n",
       "       'Ministerio Do Planejamento E Orcamento', 'Ministerio Da Fazenda',\n",
       "       'Ministério Das Relações Exteriores',\n",
       "       'Ministério Da Agricultura, Pecuária E Abastecimento',\n",
       "       'Min Da Integ E Do Desenv Regional',\n",
       "       'Min Do Desenv Agr E Agric Familiar',\n",
       "       'Ministerio Do Meio Ambiente', 'Ministério Do Turismo',\n",
       "       'Ministerio Do Trabalho E Emprego',\n",
       "       'Ministerio De Portos E Aeroportos',\n",
       "       'Min Desenvolv Ind Comercio E Servicos',\n",
       "       'Controladoria-Geral Da União', 'Ministerio Das Comunicacoes',\n",
       "       'Ministerio Do Trabalho E Previdencia',\n",
       "       'Defensoria Pública Da União', 'Ministério Da Economia'],\n",
       "      dtype=object)"
      ]
     },
     "execution_count": 37,
     "metadata": {},
     "output_type": "execute_result"
    }
   ],
   "source": [
    "df['org_lotacao'].unique()"
   ]
  },
  {
   "cell_type": "code",
   "execution_count": 38,
   "metadata": {},
   "outputs": [],
   "source": [
    "def renomear2(var_aposentadoria):\n",
    "    var_aposentadoria = re.sub(r\"\\bMin Gestao E Inov Em Serv Publicos\\b\", \"Ministério Gestão E Inovação Em Serviços Públicos\", var_aposentadoria)\n",
    "    var_aposentadoria = re.sub(r\"\\bMinisterio Dos Povos Indigenas\\b\", \"Ministário dos Povos Indígenas\", var_aposentadoria)\n",
    "    var_aposentadoria = re.sub(r\"\\bMinisterio Da Previdencia Social\\b\", \"Ministério Da Previdência Social\", var_aposentadoria)\n",
    "    var_aposentadoria = re.sub(r\"\\bMinisterio Do Planejamento E Orcamento\\b\", \"Ministério Do Planejamento E Orçamento\", var_aposentadoria)\n",
    "    var_aposentadoria = re.sub(r\"\\bMin Da Integ E Do Desenv Regional\\b\", \"Ministério da Integração E Do Desenvolvimento Regional\", var_aposentadoria)\n",
    "    var_aposentadoria = re.sub(r\"\\bMinisterio Do Trabalho E Previdencia\\b\", \"Ministério do Trabalho E Previdência\", var_aposentadoria)\n",
    "    var_aposentadoria = re.sub(r\"\\bMin Do Desenv Agr E Agric Familiar\\b\", \"Ministério do Desenvolvimento Agrário E Agricultura Familiar\", var_aposentadoria)\n",
    "    var_aposentadoria = re.sub(r\"\\bMin Desenvolv Ind Comercio E Servicos\\b\", \"Ministério do Desenvolvimento, Indústria, Comércio E Serviços\", var_aposentadoria)\n",
    "    var_aposentadoria = re.sub(r\"\\bComunicacoes\\b\", \"Comunicações\", var_aposentadoria)\n",
    "    var_aposentadoria = re.sub(r\"\\bMinisterio\\b\", \"Ministério\", var_aposentadoria)\n",
    "    return var_aposentadoria"
   ]
  },
  {
   "cell_type": "code",
   "execution_count": 39,
   "metadata": {},
   "outputs": [
    {
     "name": "stderr",
     "output_type": "stream",
     "text": [
      "C:\\Users\\ana.sales_republica\\AppData\\Local\\Temp\\ipykernel_2012\\3127125097.py:1: SettingWithCopyWarning: \n",
      "A value is trying to be set on a copy of a slice from a DataFrame.\n",
      "Try using .loc[row_indexer,col_indexer] = value instead\n",
      "\n",
      "See the caveats in the documentation: https://pandas.pydata.org/pandas-docs/stable/user_guide/indexing.html#returning-a-view-versus-a-copy\n",
      "  df['org_lotacao'] = df['org_lotacao'].apply(renomear2)\n"
     ]
    }
   ],
   "source": [
    "df['org_lotacao'] = df['org_lotacao'].apply(renomear2)"
   ]
  },
  {
   "cell_type": "code",
   "execution_count": 40,
   "metadata": {},
   "outputs": [],
   "source": [
    "def renomear3(var_regime):\n",
    "    var_regime = re.sub(r\"\\bREGIME JURIDICO UNICO\\b\", \"Regime Jurídico Único\", var_regime)\n",
    "    return var_regime"
   ]
  },
  {
   "cell_type": "code",
   "execution_count": 41,
   "metadata": {},
   "outputs": [
    {
     "name": "stderr",
     "output_type": "stream",
     "text": [
      "C:\\Users\\ana.sales_republica\\AppData\\Local\\Temp\\ipykernel_2012\\283232767.py:1: SettingWithCopyWarning: \n",
      "A value is trying to be set on a copy of a slice from a DataFrame.\n",
      "Try using .loc[row_indexer,col_indexer] = value instead\n",
      "\n",
      "See the caveats in the documentation: https://pandas.pydata.org/pandas-docs/stable/user_guide/indexing.html#returning-a-view-versus-a-copy\n",
      "  df['regime_juridico'] = df['regime_juridico'].apply(renomear3)\n"
     ]
    }
   ],
   "source": [
    "df['regime_juridico'] = df['regime_juridico'].apply(renomear3)"
   ]
  },
  {
   "cell_type": "code",
   "execution_count": 42,
   "metadata": {},
   "outputs": [],
   "source": [
    "ministerios = {'Ministério Gestão E Inovação Em Serviços Públicos': 'Economia, Finanças, Planejamento, Previdência e Gestão',\n",
    "                'Ministério Da Cultura': 'Cultura, Turismo e Esportes',\n",
    "                'Ministério Da Saúde': 'Saúde',\n",
    "                'Ministério Da Defesa': 'Justiça, Segurança e Órgãos de Controle e Defesa',\n",
    "                'Ministério Da Educação': 'Educação e Ciência e Tecnologia',\n",
    "                'Ministário dos Povos Indígenas': 'Desenvolvimento Social e Direitos Humanos',\n",
    "                'Presidência Da República': 'Presidência da República',\n",
    "                'Ministério De Minas E Energia': 'Infraestrutura, Transporte, Desenvolvimento Regional, Portos e Aeroportos, Minas e Energia',\n",
    "                'Ministério Da Justiça E Segurança Pública': 'Justiça, Segurança e Órgãos de Controle e Defesa',\n",
    "                'Ministério Da Ciência, Tecnologia, Inovações E Comunicações': 'Educação e Ciência e Tecnologia',\n",
    "                'Ministério Dos Transportes': 'Infraestrutura, Transporte, Desenvolvimento Regional, Portos e Aeroportos, Minas e Energia',\n",
    "                'Ministério Da Previdência Social': 'Economia, Finanças, Planejamento, Previdência e Gestão',\n",
    "                'Ministério Do Planejamento E Orçamento': 'Economia, Finanças, Planejamento, Previdência e Gestão',\n",
    "                'Ministério Da Fazenda': 'Economia, Finanças, Planejamento, Previdência e Gestão',\n",
    "                'Ministério Das Relações Exteriores': 'Relações Exteriores',\n",
    "                'Ministério Da Agricultura, Pecuária E Abastecimento': 'Meio ambiente, Agricultura e Agropecuária',\n",
    "                'Ministério da Integração E Do Desenvolvimento Regional': 'Infraestrutura, Transporte, Desenvolvimento Regional, Portos e Aeroportos, Minas e Energia',\n",
    "                'Ministério do Desenvolvimento Agrário E Agricultura Familiar': 'Meio ambiente, Agricultura e Agropecuária',\n",
    "                'Ministério Do Meio Ambiente': 'Meio ambiente, Agricultura e Agropecuária',\n",
    "                'Ministério Do Turismo': 'Cultura, Turismo e Esportes',\n",
    "                'Ministério Do Trabalho E Emprego': 'Economia, Finanças, Planejamento, Previdência e Gestão',\n",
    "                'Ministério De Portos E Aeroportos': 'Infraestrutura, Transporte, Desenvolvimento Regional, Portos e Aeroportos, Minas e Energia',\n",
    "                'Ministério do Desenvolvimento, Indústria, Comércio E Serviços': 'Infraestrutura, Transporte, Desenvolvimento Regional, Portos e Aeroportos, Minas e Energia',\n",
    "                'Controladoria-Geral Da União': 'Justiça, Segurança e Órgãos de Controle e Defesa',\n",
    "                'Ministério Das Comunicações': 'Infraestrutura, Transporte, Desenvolvimento Regional, Portos e Aeroportos, Minas e Energia',\n",
    "                'Ministério do Trabalho E Previdência': 'Economia, Finanças, Planejamento, Previdência e Gestão',\n",
    "                'Defensoria Pública Da União': 'Justiça, Segurança e Órgãos de Controle e Defesa',\n",
    "                'Ministério Da Economia': 'Economia, Finanças, Planejamento, Previdência e Gestão'\n",
    "}\n"
   ]
  },
  {
   "cell_type": "code",
   "execution_count": 43,
   "metadata": {},
   "outputs": [],
   "source": [
    "def categorizando(x):\n",
    "    if x in ministerios:\n",
    "        return ministerios[x]\n"
   ]
  },
  {
   "cell_type": "code",
   "execution_count": 44,
   "metadata": {},
   "outputs": [
    {
     "name": "stderr",
     "output_type": "stream",
     "text": [
      "C:\\Users\\ana.sales_republica\\AppData\\Local\\Temp\\ipykernel_2012\\3148416238.py:1: SettingWithCopyWarning: \n",
      "A value is trying to be set on a copy of a slice from a DataFrame.\n",
      "Try using .loc[row_indexer,col_indexer] = value instead\n",
      "\n",
      "See the caveats in the documentation: https://pandas.pydata.org/pandas-docs/stable/user_guide/indexing.html#returning-a-view-versus-a-copy\n",
      "  df['categoria_ministerios'] = df['org_lotacao'].apply(categorizando)\n"
     ]
    }
   ],
   "source": [
    "df['categoria_ministerios'] = df['org_lotacao'].apply(categorizando)"
   ]
  },
  {
   "cell_type": "code",
   "execution_count": 45,
   "metadata": {},
   "outputs": [
    {
     "data": {
      "text/plain": [
       "array(['Economia, Finanças, Planejamento, Previdência e Gestão',\n",
       "       'Cultura, Turismo e Esportes', 'Saúde',\n",
       "       'Justiça, Segurança e Órgãos de Controle e Defesa',\n",
       "       'Educação e Ciência e Tecnologia',\n",
       "       'Desenvolvimento Social e Direitos Humanos',\n",
       "       'Presidência da República',\n",
       "       'Infraestrutura, Transporte, Desenvolvimento Regional, Portos e Aeroportos, Minas e Energia',\n",
       "       'Relações Exteriores', 'Meio ambiente, Agricultura e Agropecuária'],\n",
       "      dtype=object)"
      ]
     },
     "execution_count": 45,
     "metadata": {},
     "output_type": "execute_result"
    }
   ],
   "source": [
    "df['categoria_ministerios'].unique()"
   ]
  },
  {
   "cell_type": "code",
   "execution_count": 46,
   "metadata": {},
   "outputs": [
    {
     "data": {
      "text/plain": [
       "Index(['ano', 'mes', 'tipo_aposentadoria', 'data_aposentadoria',\n",
       "       'ano_aposentadoria', 'decada_aposentadoria',\n",
       "       'data_diploma_ingresso_servicopublico', 'ano_ingresso', 'org_lotacao',\n",
       "       'regime_juridico', 'total', 'tempo_contribuicao_servico_publico',\n",
       "       'categoria_ministerios'],\n",
       "      dtype='object')"
      ]
     },
     "execution_count": 46,
     "metadata": {},
     "output_type": "execute_result"
    }
   ],
   "source": [
    "df.columns"
   ]
  },
  {
   "cell_type": "code",
   "execution_count": 47,
   "metadata": {},
   "outputs": [
    {
     "data": {
      "text/html": [
       "<div>\n",
       "<style scoped>\n",
       "    .dataframe tbody tr th:only-of-type {\n",
       "        vertical-align: middle;\n",
       "    }\n",
       "\n",
       "    .dataframe tbody tr th {\n",
       "        vertical-align: top;\n",
       "    }\n",
       "\n",
       "    .dataframe thead th {\n",
       "        text-align: right;\n",
       "    }\n",
       "</style>\n",
       "<table border=\"1\" class=\"dataframe\">\n",
       "  <thead>\n",
       "    <tr style=\"text-align: right;\">\n",
       "      <th></th>\n",
       "      <th>ano</th>\n",
       "      <th>mes</th>\n",
       "      <th>tipo_aposentadoria</th>\n",
       "      <th>data_aposentadoria</th>\n",
       "      <th>ano_aposentadoria</th>\n",
       "      <th>decada_aposentadoria</th>\n",
       "      <th>data_diploma_ingresso_servicopublico</th>\n",
       "      <th>ano_ingresso</th>\n",
       "      <th>org_lotacao</th>\n",
       "      <th>regime_juridico</th>\n",
       "      <th>total</th>\n",
       "      <th>tempo_contribuicao_servico_publico</th>\n",
       "      <th>categoria_ministerios</th>\n",
       "    </tr>\n",
       "  </thead>\n",
       "  <tbody>\n",
       "    <tr>\n",
       "      <th>0</th>\n",
       "      <td>2023</td>\n",
       "      <td>11</td>\n",
       "      <td>Aposentadoria por invalidez</td>\n",
       "      <td>2008-04-30</td>\n",
       "      <td>2008</td>\n",
       "      <td>2000</td>\n",
       "      <td>1982-08-12</td>\n",
       "      <td>1982</td>\n",
       "      <td>Ministério Gestão E Inovação Em Serviços Públicos</td>\n",
       "      <td>Regime Jurídico Único</td>\n",
       "      <td>1</td>\n",
       "      <td>26</td>\n",
       "      <td>Economia, Finanças, Planejamento, Previdência ...</td>\n",
       "    </tr>\n",
       "    <tr>\n",
       "      <th>1</th>\n",
       "      <td>2023</td>\n",
       "      <td>11</td>\n",
       "      <td>Aposentadoria voluntária</td>\n",
       "      <td>2017-04-07</td>\n",
       "      <td>2017</td>\n",
       "      <td>2010</td>\n",
       "      <td>1981-08-01</td>\n",
       "      <td>1981</td>\n",
       "      <td>Ministério Da Cultura</td>\n",
       "      <td>Regime Jurídico Único</td>\n",
       "      <td>1</td>\n",
       "      <td>36</td>\n",
       "      <td>Cultura, Turismo e Esportes</td>\n",
       "    </tr>\n",
       "    <tr>\n",
       "      <th>2</th>\n",
       "      <td>2023</td>\n",
       "      <td>11</td>\n",
       "      <td>Aposentadoria voluntária</td>\n",
       "      <td>2002-04-12</td>\n",
       "      <td>2002</td>\n",
       "      <td>2000</td>\n",
       "      <td>1990-03-15</td>\n",
       "      <td>1990</td>\n",
       "      <td>Ministério Gestão E Inovação Em Serviços Públicos</td>\n",
       "      <td>Regime Jurídico Único</td>\n",
       "      <td>1</td>\n",
       "      <td>12</td>\n",
       "      <td>Economia, Finanças, Planejamento, Previdência ...</td>\n",
       "    </tr>\n",
       "    <tr>\n",
       "      <th>3</th>\n",
       "      <td>2023</td>\n",
       "      <td>11</td>\n",
       "      <td>Aposentadoria voluntária</td>\n",
       "      <td>2011-05-12</td>\n",
       "      <td>2011</td>\n",
       "      <td>2010</td>\n",
       "      <td>1990-10-01</td>\n",
       "      <td>1990</td>\n",
       "      <td>Ministério Gestão E Inovação Em Serviços Públicos</td>\n",
       "      <td>Regime Jurídico Único</td>\n",
       "      <td>1</td>\n",
       "      <td>21</td>\n",
       "      <td>Economia, Finanças, Planejamento, Previdência ...</td>\n",
       "    </tr>\n",
       "    <tr>\n",
       "      <th>4</th>\n",
       "      <td>2023</td>\n",
       "      <td>11</td>\n",
       "      <td>Aposentadoria voluntária</td>\n",
       "      <td>2002-06-14</td>\n",
       "      <td>2002</td>\n",
       "      <td>2000</td>\n",
       "      <td>1977-02-15</td>\n",
       "      <td>1977</td>\n",
       "      <td>Ministério Gestão E Inovação Em Serviços Públicos</td>\n",
       "      <td>Regime Jurídico Único</td>\n",
       "      <td>1</td>\n",
       "      <td>25</td>\n",
       "      <td>Economia, Finanças, Planejamento, Previdência ...</td>\n",
       "    </tr>\n",
       "    <tr>\n",
       "      <th>...</th>\n",
       "      <td>...</td>\n",
       "      <td>...</td>\n",
       "      <td>...</td>\n",
       "      <td>...</td>\n",
       "      <td>...</td>\n",
       "      <td>...</td>\n",
       "      <td>...</td>\n",
       "      <td>...</td>\n",
       "      <td>...</td>\n",
       "      <td>...</td>\n",
       "      <td>...</td>\n",
       "      <td>...</td>\n",
       "      <td>...</td>\n",
       "    </tr>\n",
       "    <tr>\n",
       "      <th>418496</th>\n",
       "      <td>2023</td>\n",
       "      <td>11</td>\n",
       "      <td>Aposentadoria voluntária</td>\n",
       "      <td>2009-09-30</td>\n",
       "      <td>2009</td>\n",
       "      <td>2000</td>\n",
       "      <td>1979-09-01</td>\n",
       "      <td>1979</td>\n",
       "      <td>Ministério Da Defesa</td>\n",
       "      <td>Regime Jurídico Único</td>\n",
       "      <td>1</td>\n",
       "      <td>30</td>\n",
       "      <td>Justiça, Segurança e Órgãos de Controle e Defesa</td>\n",
       "    </tr>\n",
       "    <tr>\n",
       "      <th>418497</th>\n",
       "      <td>2023</td>\n",
       "      <td>11</td>\n",
       "      <td>Aposentadoria voluntária</td>\n",
       "      <td>2012-04-02</td>\n",
       "      <td>2012</td>\n",
       "      <td>2010</td>\n",
       "      <td>1980-09-17</td>\n",
       "      <td>1980</td>\n",
       "      <td>Ministério Da Defesa</td>\n",
       "      <td>Regime Jurídico Único</td>\n",
       "      <td>1</td>\n",
       "      <td>32</td>\n",
       "      <td>Justiça, Segurança e Órgãos de Controle e Defesa</td>\n",
       "    </tr>\n",
       "    <tr>\n",
       "      <th>418498</th>\n",
       "      <td>2023</td>\n",
       "      <td>11</td>\n",
       "      <td>Aposentadoria voluntária</td>\n",
       "      <td>1994-09-06</td>\n",
       "      <td>1994</td>\n",
       "      <td>1990</td>\n",
       "      <td>1984-04-01</td>\n",
       "      <td>1984</td>\n",
       "      <td>Ministério Da Defesa</td>\n",
       "      <td>Regime Jurídico Único</td>\n",
       "      <td>1</td>\n",
       "      <td>10</td>\n",
       "      <td>Justiça, Segurança e Órgãos de Controle e Defesa</td>\n",
       "    </tr>\n",
       "    <tr>\n",
       "      <th>418499</th>\n",
       "      <td>2023</td>\n",
       "      <td>11</td>\n",
       "      <td>Aposentadoria por invalidez</td>\n",
       "      <td>2009-09-15</td>\n",
       "      <td>2009</td>\n",
       "      <td>2000</td>\n",
       "      <td>1977-09-01</td>\n",
       "      <td>1977</td>\n",
       "      <td>Ministério Da Defesa</td>\n",
       "      <td>Regime Jurídico Único</td>\n",
       "      <td>1</td>\n",
       "      <td>32</td>\n",
       "      <td>Justiça, Segurança e Órgãos de Controle e Defesa</td>\n",
       "    </tr>\n",
       "    <tr>\n",
       "      <th>418500</th>\n",
       "      <td>2023</td>\n",
       "      <td>11</td>\n",
       "      <td>Aposentadoria voluntária</td>\n",
       "      <td>2023-01-11</td>\n",
       "      <td>2023</td>\n",
       "      <td>2020</td>\n",
       "      <td>2005-12-01</td>\n",
       "      <td>2005</td>\n",
       "      <td>Ministério Da Cultura</td>\n",
       "      <td>Regime Jurídico Único</td>\n",
       "      <td>1</td>\n",
       "      <td>18</td>\n",
       "      <td>Cultura, Turismo e Esportes</td>\n",
       "    </tr>\n",
       "  </tbody>\n",
       "</table>\n",
       "<p>410129 rows × 13 columns</p>\n",
       "</div>"
      ],
      "text/plain": [
       "         ano  mes           tipo_aposentadoria data_aposentadoria  \\\n",
       "0       2023   11  Aposentadoria por invalidez         2008-04-30   \n",
       "1       2023   11     Aposentadoria voluntária         2017-04-07   \n",
       "2       2023   11     Aposentadoria voluntária         2002-04-12   \n",
       "3       2023   11     Aposentadoria voluntária         2011-05-12   \n",
       "4       2023   11     Aposentadoria voluntária         2002-06-14   \n",
       "...      ...  ...                          ...                ...   \n",
       "418496  2023   11     Aposentadoria voluntária         2009-09-30   \n",
       "418497  2023   11     Aposentadoria voluntária         2012-04-02   \n",
       "418498  2023   11     Aposentadoria voluntária         1994-09-06   \n",
       "418499  2023   11  Aposentadoria por invalidez         2009-09-15   \n",
       "418500  2023   11     Aposentadoria voluntária         2023-01-11   \n",
       "\n",
       "        ano_aposentadoria  decada_aposentadoria  \\\n",
       "0                    2008                  2000   \n",
       "1                    2017                  2010   \n",
       "2                    2002                  2000   \n",
       "3                    2011                  2010   \n",
       "4                    2002                  2000   \n",
       "...                   ...                   ...   \n",
       "418496               2009                  2000   \n",
       "418497               2012                  2010   \n",
       "418498               1994                  1990   \n",
       "418499               2009                  2000   \n",
       "418500               2023                  2020   \n",
       "\n",
       "       data_diploma_ingresso_servicopublico  ano_ingresso  \\\n",
       "0                                1982-08-12          1982   \n",
       "1                                1981-08-01          1981   \n",
       "2                                1990-03-15          1990   \n",
       "3                                1990-10-01          1990   \n",
       "4                                1977-02-15          1977   \n",
       "...                                     ...           ...   \n",
       "418496                           1979-09-01          1979   \n",
       "418497                           1980-09-17          1980   \n",
       "418498                           1984-04-01          1984   \n",
       "418499                           1977-09-01          1977   \n",
       "418500                           2005-12-01          2005   \n",
       "\n",
       "                                              org_lotacao  \\\n",
       "0       Ministério Gestão E Inovação Em Serviços Públicos   \n",
       "1                                   Ministério Da Cultura   \n",
       "2       Ministério Gestão E Inovação Em Serviços Públicos   \n",
       "3       Ministério Gestão E Inovação Em Serviços Públicos   \n",
       "4       Ministério Gestão E Inovação Em Serviços Públicos   \n",
       "...                                                   ...   \n",
       "418496                               Ministério Da Defesa   \n",
       "418497                               Ministério Da Defesa   \n",
       "418498                               Ministério Da Defesa   \n",
       "418499                               Ministério Da Defesa   \n",
       "418500                              Ministério Da Cultura   \n",
       "\n",
       "              regime_juridico  total  tempo_contribuicao_servico_publico  \\\n",
       "0       Regime Jurídico Único      1                                  26   \n",
       "1       Regime Jurídico Único      1                                  36   \n",
       "2       Regime Jurídico Único      1                                  12   \n",
       "3       Regime Jurídico Único      1                                  21   \n",
       "4       Regime Jurídico Único      1                                  25   \n",
       "...                       ...    ...                                 ...   \n",
       "418496  Regime Jurídico Único      1                                  30   \n",
       "418497  Regime Jurídico Único      1                                  32   \n",
       "418498  Regime Jurídico Único      1                                  10   \n",
       "418499  Regime Jurídico Único      1                                  32   \n",
       "418500  Regime Jurídico Único      1                                  18   \n",
       "\n",
       "                                    categoria_ministerios  \n",
       "0       Economia, Finanças, Planejamento, Previdência ...  \n",
       "1                             Cultura, Turismo e Esportes  \n",
       "2       Economia, Finanças, Planejamento, Previdência ...  \n",
       "3       Economia, Finanças, Planejamento, Previdência ...  \n",
       "4       Economia, Finanças, Planejamento, Previdência ...  \n",
       "...                                                   ...  \n",
       "418496   Justiça, Segurança e Órgãos de Controle e Defesa  \n",
       "418497   Justiça, Segurança e Órgãos de Controle e Defesa  \n",
       "418498   Justiça, Segurança e Órgãos de Controle e Defesa  \n",
       "418499   Justiça, Segurança e Órgãos de Controle e Defesa  \n",
       "418500                        Cultura, Turismo e Esportes  \n",
       "\n",
       "[410129 rows x 13 columns]"
      ]
     },
     "execution_count": 47,
     "metadata": {},
     "output_type": "execute_result"
    }
   ],
   "source": [
    "df"
   ]
  },
  {
   "cell_type": "code",
   "execution_count": 128,
   "metadata": {},
   "outputs": [],
   "source": [
    "df1 = pd.pivot_table(df, values='tempo_contribuicao_servico_publico', index=['tipo_aposentadoria', 'decada_aposentadoria', 'categoria_ministerios'], aggfunc=['mean','count']).reset_index()\n"
   ]
  },
  {
   "cell_type": "code",
   "execution_count": 164,
   "metadata": {},
   "outputs": [
    {
     "data": {
      "text/html": [
       "<div>\n",
       "<style scoped>\n",
       "    .dataframe tbody tr th:only-of-type {\n",
       "        vertical-align: middle;\n",
       "    }\n",
       "\n",
       "    .dataframe tbody tr th {\n",
       "        vertical-align: top;\n",
       "    }\n",
       "\n",
       "    .dataframe thead th {\n",
       "        text-align: right;\n",
       "    }\n",
       "</style>\n",
       "<table border=\"1\" class=\"dataframe\">\n",
       "  <thead>\n",
       "    <tr style=\"text-align: right;\">\n",
       "      <th></th>\n",
       "      <th>tipo_aposentadoria</th>\n",
       "      <th>decada_aposentadoria</th>\n",
       "      <th>categoria_ministerios</th>\n",
       "      <th>media_contribuicao</th>\n",
       "      <th>quantidade_vinculos</th>\n",
       "    </tr>\n",
       "  </thead>\n",
       "  <tbody>\n",
       "    <tr>\n",
       "      <th>0</th>\n",
       "      <td>Aposentadoria compulsória</td>\n",
       "      <td>1960</td>\n",
       "      <td>Justiça, Segurança e Órgãos de Controle e Defesa</td>\n",
       "      <td>2.0</td>\n",
       "      <td>1</td>\n",
       "    </tr>\n",
       "    <tr>\n",
       "      <th>1</th>\n",
       "      <td>Aposentadoria compulsória</td>\n",
       "      <td>1970</td>\n",
       "      <td>Educação e Ciência e Tecnologia</td>\n",
       "      <td>16.0</td>\n",
       "      <td>1</td>\n",
       "    </tr>\n",
       "    <tr>\n",
       "      <th>2</th>\n",
       "      <td>Aposentadoria compulsória</td>\n",
       "      <td>1970</td>\n",
       "      <td>Justiça, Segurança e Órgãos de Controle e Defesa</td>\n",
       "      <td>4.8</td>\n",
       "      <td>30</td>\n",
       "    </tr>\n",
       "    <tr>\n",
       "      <th>3</th>\n",
       "      <td>Aposentadoria compulsória</td>\n",
       "      <td>1980</td>\n",
       "      <td>Educação e Ciência e Tecnologia</td>\n",
       "      <td>16.0</td>\n",
       "      <td>2</td>\n",
       "    </tr>\n",
       "    <tr>\n",
       "      <th>4</th>\n",
       "      <td>Aposentadoria compulsória</td>\n",
       "      <td>1980</td>\n",
       "      <td>Justiça, Segurança e Órgãos de Controle e Defesa</td>\n",
       "      <td>23.5</td>\n",
       "      <td>16</td>\n",
       "    </tr>\n",
       "    <tr>\n",
       "      <th>...</th>\n",
       "      <td>...</td>\n",
       "      <td>...</td>\n",
       "      <td>...</td>\n",
       "      <td>...</td>\n",
       "      <td>...</td>\n",
       "    </tr>\n",
       "    <tr>\n",
       "      <th>200</th>\n",
       "      <td>Outros</td>\n",
       "      <td>2000</td>\n",
       "      <td>Educação e Ciência e Tecnologia</td>\n",
       "      <td>34.5</td>\n",
       "      <td>8</td>\n",
       "    </tr>\n",
       "    <tr>\n",
       "      <th>201</th>\n",
       "      <td>Outros</td>\n",
       "      <td>2000</td>\n",
       "      <td>Justiça, Segurança e Órgãos de Controle e Defesa</td>\n",
       "      <td>36.7</td>\n",
       "      <td>3</td>\n",
       "    </tr>\n",
       "    <tr>\n",
       "      <th>202</th>\n",
       "      <td>Outros</td>\n",
       "      <td>2000</td>\n",
       "      <td>Saúde</td>\n",
       "      <td>21.0</td>\n",
       "      <td>3</td>\n",
       "    </tr>\n",
       "    <tr>\n",
       "      <th>203</th>\n",
       "      <td>Outros</td>\n",
       "      <td>2010</td>\n",
       "      <td>Economia, Finanças, Planejamento, Previdência ...</td>\n",
       "      <td>30.0</td>\n",
       "      <td>1</td>\n",
       "    </tr>\n",
       "    <tr>\n",
       "      <th>204</th>\n",
       "      <td>Outros</td>\n",
       "      <td>2010</td>\n",
       "      <td>Justiça, Segurança e Órgãos de Controle e Defesa</td>\n",
       "      <td>22.0</td>\n",
       "      <td>1</td>\n",
       "    </tr>\n",
       "  </tbody>\n",
       "</table>\n",
       "<p>205 rows × 5 columns</p>\n",
       "</div>"
      ],
      "text/plain": [
       "            tipo_aposentadoria  decada_aposentadoria  \\\n",
       "0    Aposentadoria compulsória                  1960   \n",
       "1    Aposentadoria compulsória                  1970   \n",
       "2    Aposentadoria compulsória                  1970   \n",
       "3    Aposentadoria compulsória                  1980   \n",
       "4    Aposentadoria compulsória                  1980   \n",
       "..                         ...                   ...   \n",
       "200                     Outros                  2000   \n",
       "201                     Outros                  2000   \n",
       "202                     Outros                  2000   \n",
       "203                     Outros                  2010   \n",
       "204                     Outros                  2010   \n",
       "\n",
       "                                 categoria_ministerios  media_contribuicao  \\\n",
       "0     Justiça, Segurança e Órgãos de Controle e Defesa                 2.0   \n",
       "1                      Educação e Ciência e Tecnologia                16.0   \n",
       "2     Justiça, Segurança e Órgãos de Controle e Defesa                 4.8   \n",
       "3                      Educação e Ciência e Tecnologia                16.0   \n",
       "4     Justiça, Segurança e Órgãos de Controle e Defesa                23.5   \n",
       "..                                                 ...                 ...   \n",
       "200                    Educação e Ciência e Tecnologia                34.5   \n",
       "201   Justiça, Segurança e Órgãos de Controle e Defesa                36.7   \n",
       "202                                              Saúde                21.0   \n",
       "203  Economia, Finanças, Planejamento, Previdência ...                30.0   \n",
       "204   Justiça, Segurança e Órgãos de Controle e Defesa                22.0   \n",
       "\n",
       "     quantidade_vinculos  \n",
       "0                      1  \n",
       "1                      1  \n",
       "2                     30  \n",
       "3                      2  \n",
       "4                     16  \n",
       "..                   ...  \n",
       "200                    8  \n",
       "201                    3  \n",
       "202                    3  \n",
       "203                    1  \n",
       "204                    1  \n",
       "\n",
       "[205 rows x 5 columns]"
      ]
     },
     "execution_count": 164,
     "metadata": {},
     "output_type": "execute_result"
    }
   ],
   "source": [
    "df1 # Recorte do df original para fazer essa tabela dinâmica"
   ]
  },
  {
   "cell_type": "code",
   "execution_count": 130,
   "metadata": {},
   "outputs": [],
   "source": [
    "df1.columns = df1.columns.droplevel(level=1) "
   ]
  },
  {
   "cell_type": "code",
   "execution_count": 131,
   "metadata": {},
   "outputs": [],
   "source": [
    "df1 = df1.rename(columns={'mean':'media_contribuicao',\n",
    "                          'count':'quantidade_vinculos'})"
   ]
  },
  {
   "cell_type": "code",
   "execution_count": 171,
   "metadata": {},
   "outputs": [
    {
     "data": {
      "text/plain": [
       "array([ 2. , 16. ,  4.8, 23.5, 19.5, 16.5, 24. , 21.2, 21. , 23.6, 17. ,\n",
       "       23. , 36.9, 22. , 22.5, 22.9, 24.3, 24.1, 28.2, 24.8, 27.3, 42.4,\n",
       "       26.9, 25.6, 28.9, 25.5, 21.1, 15.9, 25.9, 26. , 24.2, 30.3, 25.4,\n",
       "       32.7, 22.4, 19.6, 39.3, 33.8, 13. ,  1. , 18.7, 22.7, 17.9, 16.4,\n",
       "       27.2, 20.1, 29.9, 22.1,  6.2,  5. ,  9.4,  8.8,  9.7, 13.5, 17.6,\n",
       "       20. , 10.5, 15.5, 12. , 21.8, 19.7, 17.8, 35. , 23.2, 26.2, 20.7,\n",
       "       25.8, 12.9, 16.8, 18.1, 18.3, 20.8, 19.4, 21.7, 21.6, 19.8, 20.6,\n",
       "       25. , 22.3, 24.7, 30.7, 25.7, 22.6, 30. , 19.2, 20.3, 17.7, 26.4,\n",
       "        5.5, 15.4,  9.8, 14.4,  8. , 15. , 11.4, 20.2, 23.4, 29.5, 26.3,\n",
       "       28.3, 28.6, 27. , 18.4, 23.1, 22.8, 28.7, 26.7, 35.5, 27.4, 32.6,\n",
       "       34.7, 32.4, 31.2, 34.8, 33.9, 34.5, 40.5, 33.7, 36.8, 37.2, 36. ,\n",
       "       38.5, 34.3, 38.6, 42.8, 38.2, 26.6, 29. , 14. , 23.7, 28. , 36.7])"
      ]
     },
     "execution_count": 171,
     "metadata": {},
     "output_type": "execute_result"
    }
   ],
   "source": [
    "df1['media_contribuicao'].unique()"
   ]
  },
  {
   "cell_type": "code",
   "execution_count": 170,
   "metadata": {},
   "outputs": [],
   "source": [
    "df1['media_contribuicao'] = df1['media_contribuicao'].round(1) # Limitando as casas decimais"
   ]
  },
  {
   "cell_type": "code",
   "execution_count": 139,
   "metadata": {},
   "outputs": [
    {
     "data": {
      "text/plain": [
       "Index(['tipo_aposentadoria', 'decada_aposentadoria', 'categoria_ministerios',\n",
       "       'media_contribuicao', 'quantidade_vinculos'],\n",
       "      dtype='object')"
      ]
     },
     "execution_count": 139,
     "metadata": {},
     "output_type": "execute_result"
    }
   ],
   "source": [
    "df1.columns"
   ]
  },
  {
   "cell_type": "code",
   "execution_count": 168,
   "metadata": {},
   "outputs": [
    {
     "data": {
      "text/plain": [
       "count    205.000000\n",
       "mean      22.909268\n",
       "std        8.079954\n",
       "min        1.000000\n",
       "25%       18.400000\n",
       "50%       22.900000\n",
       "75%       27.000000\n",
       "max       42.800000\n",
       "Name: media_contribuicao, dtype: float64"
      ]
     },
     "execution_count": 168,
     "metadata": {},
     "output_type": "execute_result"
    }
   ],
   "source": [
    "df1['media_contribuicao'].describe()"
   ]
  },
  {
   "cell_type": "code",
   "execution_count": 141,
   "metadata": {},
   "outputs": [
    {
     "data": {
      "text/plain": [
       "count      205.000000\n",
       "mean      2000.629268\n",
       "std       6672.592028\n",
       "min          1.000000\n",
       "25%          8.000000\n",
       "50%         76.000000\n",
       "75%        533.000000\n",
       "max      50654.000000\n",
       "Name: quantidade_vinculos, dtype: float64"
      ]
     },
     "execution_count": 141,
     "metadata": {},
     "output_type": "execute_result"
    }
   ],
   "source": [
    "df1['quantidade_vinculos'].describe()"
   ]
  },
  {
   "cell_type": "code",
   "execution_count": 167,
   "metadata": {},
   "outputs": [],
   "source": [
    "client = bigquery.Client()\n",
    "dataset_ref = client.dataset('perfil_remuneracao')"
   ]
  },
  {
   "cell_type": "code",
   "execution_count": 143,
   "metadata": {},
   "outputs": [
    {
     "data": {
      "text/plain": [
       "Index(['tipo_aposentadoria', 'decada_aposentadoria', 'categoria_ministerios',\n",
       "       'media_contribuicao', 'quantidade_vinculos'],\n",
       "      dtype='object')"
      ]
     },
     "execution_count": 143,
     "metadata": {},
     "output_type": "execute_result"
    }
   ],
   "source": [
    "df1.columns"
   ]
  },
  {
   "cell_type": "code",
   "execution_count": 103,
   "metadata": {},
   "outputs": [
    {
     "data": {
      "text/plain": [
       "array([1960, 1970, 1980, 1990, 2000, 2010, 2020, 1950], dtype=int64)"
      ]
     },
     "execution_count": 103,
     "metadata": {},
     "output_type": "execute_result"
    }
   ],
   "source": [
    "df1['decada_aposentadoria'].unique()"
   ]
  },
  {
   "cell_type": "code",
   "execution_count": 146,
   "metadata": {},
   "outputs": [
    {
     "name": "stdout",
     "output_type": "stream",
     "text": [
      "<class 'pandas.core.frame.DataFrame'>\n",
      "RangeIndex: 205 entries, 0 to 204\n",
      "Data columns (total 5 columns):\n",
      " #   Column                 Non-Null Count  Dtype  \n",
      "---  ------                 --------------  -----  \n",
      " 0   tipo_aposentadoria     205 non-null    object \n",
      " 1   decada_aposentadoria   205 non-null    int64  \n",
      " 2   categoria_ministerios  205 non-null    object \n",
      " 3   media_contribuicao     205 non-null    float64\n",
      " 4   quantidade_vinculos    205 non-null    int64  \n",
      "dtypes: float64(1), int64(2), object(2)\n",
      "memory usage: 8.1+ KB\n"
     ]
    }
   ],
   "source": [
    "df1.info()"
   ]
  },
  {
   "cell_type": "code",
   "execution_count": 172,
   "metadata": {},
   "outputs": [],
   "source": [
    "schema=[bigquery.SchemaField('tipo_aposentadoria','STRING',description='Tipo de aposentadoria'),\n",
    "        bigquery.SchemaField('decada_aposentadoria','INTEGER',description='Década da aposentadoria'),       \n",
    "        bigquery.SchemaField('categoria_ministerios','STRING',description='Categorias dos ministérios'),\n",
    "        bigquery.SchemaField('media_contribuicao','FLOAT',description='Média do tempo de aposentadorias agrupadas por setor, década da aposentadoria e tipo da aposentadoria'),\n",
    "        bigquery.SchemaField('quantidade_vinculos','INTEGER',description='Quantidade total de aposentadorias agrupadas por setor, década da aposentadoria e tipo da aposentadoria')\n",
    "        ]\n"
   ]
  },
  {
   "cell_type": "code",
   "execution_count": 173,
   "metadata": {},
   "outputs": [
    {
     "data": {
      "text/plain": [
       "LoadJob<project=repositoriodedadosgpsp, location=US, id=9eb141ae-1867-4b66-85f6-ff3d5cd27ea6>"
      ]
     },
     "execution_count": 173,
     "metadata": {},
     "output_type": "execute_result"
    }
   ],
   "source": [
    "table_ref = dataset_ref.table('SIAPE_ingresso_aposentadoria_media') \n",
    "job_config = bigquery.LoadJobConfig(schema=schema)\n",
    "job = client.load_table_from_dataframe(df1, table_ref, job_config=job_config)\n",
    "job.result() \n"
   ]
  }
 ],
 "metadata": {
  "kernelspec": {
   "display_name": "base",
   "language": "python",
   "name": "python3"
  },
  "language_info": {
   "codemirror_mode": {
    "name": "ipython",
    "version": 3
   },
   "file_extension": ".py",
   "mimetype": "text/x-python",
   "name": "python",
   "nbconvert_exporter": "python",
   "pygments_lexer": "ipython3",
   "version": "3.11.4"
  }
 },
 "nbformat": 4,
 "nbformat_minor": 2
}
