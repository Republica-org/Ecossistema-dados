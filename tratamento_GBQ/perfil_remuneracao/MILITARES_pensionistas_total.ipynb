{
  "cells": [
    {
      "cell_type": "markdown",
      "source": [
        "# Dependências"
      ],
      "metadata": {
        "id": "KH8kQgrz-jZj"
      }
    },
    {
      "cell_type": "code",
      "source": [
        "# Install required Google Cloud packages (commented out as these are typically one-time setup commands)\n",
        "!pip install gcloud\n",
        "!gcloud auth application-default login\n",
        "\n",
        "# Import necessary Python libraries\n",
        "import pandas as pd                # Data manipulation and analysis\n",
        "import numpy as np                 # Numerical computing\n",
        "import time                        # Time-related functions\n",
        "import os                          # Operating system interfaces\n",
        "import pandas_gbq                  # Pandas integration with BigQuery\n",
        "from google.cloud import bigquery  # BigQuery client library\n",
        "import glob                        # File path pattern matching\n",
        "import openpyxl                    # Excel file handling\n",
        "import csv                         # CSV file handling\n",
        "import re                          # Regular expressions\n",
        "\n",
        "# Note: The actual imports remain exactly as in the original code"
      ],
      "metadata": {
        "colab": {
          "base_uri": "https://localhost:8080/"
        },
        "id": "w_9NaPEx-l42",
        "outputId": "79c5ec86-f789-4fb8-9243-9fa3d50911f3"
      },
      "execution_count": null,
      "outputs": [
        {
          "output_type": "stream",
          "name": "stdout",
          "text": [
            "Collecting gcloud\n",
            "  Downloading gcloud-0.18.3.tar.gz (454 kB)\n",
            "\u001b[?25l     \u001b[90m━━━━━━━━━━━━━━━━━━━━━━━━━━━━━━━━━━━━━━━━\u001b[0m \u001b[32m0.0/454.4 kB\u001b[0m \u001b[31m?\u001b[0m eta \u001b[36m-:--:--\u001b[0m\r\u001b[2K     \u001b[90m━━━━━━━━━━━━━━━━━━━━━━━━━━━━━━━━━━━━━━\u001b[0m \u001b[32m454.4/454.4 kB\u001b[0m \u001b[31m21.6 MB/s\u001b[0m eta \u001b[36m0:00:00\u001b[0m\n",
            "\u001b[?25h  Preparing metadata (setup.py) ... \u001b[?25l\u001b[?25hdone\n",
            "Requirement already satisfied: httplib2>=0.9.1 in /usr/local/lib/python3.12/dist-packages (from gcloud) (0.22.0)\n",
            "Requirement already satisfied: googleapis-common-protos in /usr/local/lib/python3.12/dist-packages (from gcloud) (1.70.0)\n",
            "Requirement already satisfied: oauth2client>=2.0.1 in /usr/local/lib/python3.12/dist-packages (from gcloud) (4.1.3)\n",
            "Requirement already satisfied: protobuf!=3.0.0.b2.post1,>=3.0.0b2 in /usr/local/lib/python3.12/dist-packages (from gcloud) (5.29.5)\n",
            "Requirement already satisfied: six in /usr/local/lib/python3.12/dist-packages (from gcloud) (1.17.0)\n",
            "Requirement already satisfied: pyparsing!=3.0.0,!=3.0.1,!=3.0.2,!=3.0.3,<4,>=2.4.2 in /usr/local/lib/python3.12/dist-packages (from httplib2>=0.9.1->gcloud) (3.2.3)\n",
            "Requirement already satisfied: pyasn1>=0.1.7 in /usr/local/lib/python3.12/dist-packages (from oauth2client>=2.0.1->gcloud) (0.6.1)\n",
            "Requirement already satisfied: pyasn1-modules>=0.0.5 in /usr/local/lib/python3.12/dist-packages (from oauth2client>=2.0.1->gcloud) (0.4.2)\n",
            "Requirement already satisfied: rsa>=3.1.4 in /usr/local/lib/python3.12/dist-packages (from oauth2client>=2.0.1->gcloud) (4.9.1)\n",
            "Building wheels for collected packages: gcloud\n",
            "  Building wheel for gcloud (setup.py) ... \u001b[?25l\u001b[?25hdone\n",
            "  Created wheel for gcloud: filename=gcloud-0.18.3-py3-none-any.whl size=602927 sha256=cde60d93e38233b1b82072240f5bad316bc9361ad09901503db961b724ba0037\n",
            "  Stored in directory: /root/.cache/pip/wheels/2a/62/75/3d74209bfebb8805823ae74afa28653aa1ea76d8b5a9d741ff\n",
            "Successfully built gcloud\n",
            "Installing collected packages: gcloud\n",
            "Successfully installed gcloud-0.18.3\n",
            "Go to the following link in your browser, and complete the sign-in prompts:\n",
            "\n",
            "    https://accounts.google.com/o/oauth2/auth?response_type=code&client_id=764086051850-6qr4p6gpi6hn506pt8ejuq83di341hur.apps.googleusercontent.com&redirect_uri=https%3A%2F%2Fsdk.cloud.google.com%2Fapplicationdefaultauthcode.html&scope=openid+https%3A%2F%2Fwww.googleapis.com%2Fauth%2Fuserinfo.email+https%3A%2F%2Fwww.googleapis.com%2Fauth%2Fcloud-platform+https%3A%2F%2Fwww.googleapis.com%2Fauth%2Fsqlservice.login&state=mtBUySVE5xcmQmD8INjujJmEWRalW0&prompt=consent&token_usage=remote&access_type=offline&code_challenge=nSwwLD-3SIdU153JERXtnO_iHmNVxARzbGEosFjapjE&code_challenge_method=S256\n",
            "\n",
            "Once finished, enter the verification code provided in your browser: 4/0AVMBsJjGEkIhXkDHpotQE9E27x3wClqjGXskF7Qs58fBykB1-GFXymyI71SWHkaldxUzaA\n",
            "\n",
            "Credentials saved to file: [/content/.config/application_default_credentials.json]\n",
            "\n",
            "These credentials will be used by any library that requests Application Default Credentials (ADC).\n",
            "\u001b[1;33mWARNING:\u001b[0m \n",
            "Cannot find a quota project to add to ADC. You might receive a \"quota exceeded\" or \"API not enabled\" error. Run $ gcloud auth application-default set-quota-project to add a quota project.\n"
          ]
        }
      ]
    },
    {
      "cell_type": "markdown",
      "source": [
        "# Tratamento"
      ],
      "metadata": {
        "id": "4Ca15oI8-qME"
      }
    },
    {
      "cell_type": "code",
      "source": [
        "# Import necessary libraries\n",
        "import pandas as pd\n",
        "import pandas_gbq\n",
        "\n",
        "# Define the SQL query to be executed in Google BigQuery.\n",
        "# This query combines military pensioner data from multiple tables (one for each year from 2020 to 2025) using UNION ALL.\n",
        "# For each record, it selects the year, month, and pension type.\n",
        "# It also adds a static 'total' column with a value of 1, which can be used for counting records.\n",
        "query = \"\"\"\n",
        "        SELECT ANO as ano, MES as mes, TIPO_PENSAO as tipo_pensao,\n",
        "            1 as total FROM `repositoriodedadosgpsp.portal_transparencia_cgu.2020_abr_militares_pensionistas_cadastro`\n",
        "            UNION ALL\n",
        "        SELECT ANO as ano, MES as mes, TIPO_PENSAO as tipo_pensao,\n",
        "            1 as total FROM `repositoriodedadosgpsp.portal_transparencia_cgu.2021_abr_militares_pensionistas_cadastro`\n",
        "            UNION ALL\n",
        "        SELECT ANO as ano, MES as mes, TIPO_PENSAO as tipo_pensao,\n",
        "            1 as total FROM `repositoriodedadosgpsp.portal_transparencia_cgu.2022_abr_militares_pensionistas_cadastro`\n",
        "            UNION ALL\n",
        "        SELECT ANO as ano, MES as mes, TIPO_PENSAO as tipo_pensao,\n",
        "            1 as total FROM `repositoriodedadosgpsp.portal_transparencia_cgu.2023_abr_militares_pensionistas_cadastro`\n",
        "            UNION ALL\n",
        "        SELECT ANO as ano, MES as mes, TIPO_PENSAO as tipo_pensao,\n",
        "            1 as total FROM `repositoriodedadosgpsp.portal_transparencia_cgu.2024_abr_militares_pensionistas_cadastro`\n",
        "            UNION ALL\n",
        "        SELECT ANO as ano, MES as mes, TIPO_PENSAO as tipo_pensao,\n",
        "            1 as total FROM `repositoriodedadosgpsp.portal_transparencia_cgu.2025_4_militares_pensionistas_cadastro`\n",
        "        \"\"\"\n",
        "# Execute the query using pandas_gbq.read_gbq and load the result into a pandas DataFrame called 'df'.\n",
        "df = pandas_gbq.read_gbq(query, project_id='repositoriodedadosgpsp')\n",
        "\n",
        "# Create a dictionary to map detailed military pension types (keys) to broader, grouped categories (values).\n",
        "# This also handles variations in the source data, such as missing accent characters (e.g., \"C njuge\" for \"Cônjuge\").\n",
        "pensoes = {\n",
        "    \"Filho\" : \"Filhos, netos, enteados ou menores em tutela\",\n",
        "    \"Filha\" : \"Filhos, netos, enteados ou menores em tutela\",\n",
        "    \"Menor sob guarda ou tutela\" : \"Filhos, netos, enteados ou menores em tutela\",\n",
        "    \"Neto (a)\" : \"Filhos, netos, enteados ou menores em tutela\",\n",
        "    \"Filho(a) adotivo ou Enteado(a)\" : \"Filhos, netos, enteados ou menores em tutela\",\n",
        "    \"Cônjuge / Viúva (o)\" : \"Cônjuge ou ex-cônjuge\",\n",
        "    \"C njuge / Vi va (o)\" : \"Cônjuge ou ex-cônjuge\",\n",
        "    \"Companheiro (a)\" : \"Cônjuge ou ex-cônjuge\",\n",
        "    \"Pessoa desquitada, separada judicialmente, divorciada do instituidor ou ex-convivente\" : \"Cônjuge ou ex-cônjuge\",\n",
        "    \"Mãe\":\"Pais\",\n",
        "    \"M e\":\"Pais\",\n",
        "    \"Pai\":\"Pais\",\n",
        "    \"Irmão (ã)\":\"Irmão (ã)\",\n",
        "    \"Irm o ( )\":\"Irmão (ã)\",\n",
        "    \"Ex-combatente (o próprio)\":\"Ex-combatente (o próprio)\",\n",
        "    \"Ex-combatente (o pr prio)\":\"Ex-combatente (o próprio)\",\n",
        "    \"Pessoa designada (Beneficiário instituído)\":\"Pessoa designada (Beneficiário instituído)\",\n",
        "    \"Pessoa designada (Benefici rio institu do)\":\"Pessoa designada (Beneficiário instituído)\",\n",
        "    \"Não informado\" : \"Não informado\",\n",
        "    \"N o informado\" : \"Não informado\",\n",
        "    \"Outros (Pessoas sem Vínculo Militar)\" : \"Outros (Pessoas sem Vínculo Militar)\",\n",
        "    \"Outros (Pessoas sem V nculo Militar)\" : \"Outros (Pessoas sem Vínculo Militar)\"\n",
        "    }\n",
        "\n",
        "# Define a function that takes a pension type and returns its corresponding category from the dictionary.\n",
        "def categorizando(x):\n",
        "    # Check if the input value 'x' exists as a key in the 'pensoes' dictionary.\n",
        "    if x in pensoes:\n",
        "        # If it exists, return the corresponding category (the value).\n",
        "        return pensoes[x]\n",
        "\n",
        "# Create a new column 'tipo_pensao_agrupado' by applying the 'categorizando' function\n",
        "# to each value in the 'tipo_pensao' column, effectively grouping them into standardized categories.\n",
        "df['tipo_pensao_agrupado'] = df['tipo_pensao'].apply(categorizando)\n",
        "\n",
        "# Select and reorder the columns of the DataFrame to create the final desired structure.\n",
        "df= df[['ano', 'mes', 'tipo_pensao','tipo_pensao_agrupado', 'total']]"
      ],
      "metadata": {
        "id": "EXoKKJz4YlJL"
      },
      "execution_count": null,
      "outputs": []
    },
    {
      "cell_type": "code",
      "execution_count": null,
      "metadata": {
        "colab": {
          "base_uri": "https://localhost:8080/"
        },
        "id": "-dROh1bx-iJu",
        "outputId": "9d46cf01-3c33-496f-894c-f63a92eed794"
      },
      "outputs": [
        {
          "output_type": "stream",
          "name": "stdout",
          "text": [
            "<class 'pandas.core.frame.DataFrame'>\n",
            "RangeIndex: 1402272 entries, 0 to 1402271\n",
            "Data columns (total 5 columns):\n",
            " #   Column                Non-Null Count    Dtype \n",
            "---  ------                --------------    ----- \n",
            " 0   ano                   1402272 non-null  Int64 \n",
            " 1   mes                   1402272 non-null  Int64 \n",
            " 2   tipo_pensao           1402272 non-null  object\n",
            " 3   tipo_pensao_agrupado  1402272 non-null  object\n",
            " 4   total                 1402272 non-null  Int64 \n",
            "dtypes: Int64(3), object(2)\n",
            "memory usage: 57.5+ MB\n"
          ]
        }
      ],
      "source": [
        "df.info()"
      ]
    },
    {
      "cell_type": "markdown",
      "source": [
        "# Upload"
      ],
      "metadata": {
        "id": "vFtIpi_5Bdd-"
      }
    },
    {
      "cell_type": "code",
      "source": [
        "# Import the bigquery library from google.cloud\n",
        "from google.cloud import bigquery\n",
        "\n",
        "# Initialize the BigQuery client, specifying the Google Cloud project ID.\n",
        "# This client object is the main entry point for interacting with the BigQuery API.\n",
        "client = bigquery.Client(project='repositoriodedadosgpsp')\n",
        "\n",
        "# Create a reference to the BigQuery dataset named 'perfil_remuneracao'.\n",
        "# This object points to the dataset where the table will be created or updated.\n",
        "dataset_ref = client.dataset('perfil_remuneracao')\n",
        "\n",
        "# Define the schema for the destination BigQuery table.\n",
        "# The schema is a list of SchemaField objects, where each object defines a column's:\n",
        "# 1. Name (e.g., 'ano')\n",
        "# 2. Data type (e.g., 'INTEGER')\n",
        "# 3. Description (e.g., 'Ano de referência da observação')\n",
        "schema=[bigquery.SchemaField('ano','INTEGER',description='Ano de referência da observação'),\n",
        "        bigquery.SchemaField('mes','INTEGER',description='Mês de referência da observação'),\n",
        "        bigquery.SchemaField('tipo_pensao','STRING',description='Tipo de pensão'),\n",
        "        bigquery.SchemaField('tipo_pensao_agrupado','STRING',description='Categorização das pensões'),\n",
        "        bigquery.SchemaField('total','INTEGER',description='Quantidade total da observação')\n",
        "        ]\n",
        "\n",
        "# Create a reference to the target table within the dataset specified earlier.\n",
        "# The table will be named 'MILITARES_pensionistas_total_v1'.\n",
        "table_ref = dataset_ref.table('MILITARES_pensionistas_total_v1')\n",
        "\n",
        "# Configure the load job by creating a LoadJobConfig object.\n",
        "# Here, we specify the schema that BigQuery should use for the table. This ensures\n",
        "# that the columns in BigQuery have the correct data types and descriptions.\n",
        "job_config = bigquery.LoadJobConfig(schema=schema)\n",
        "\n",
        "# Start the job to load data from the pandas DataFrame 'df' into the specified BigQuery table ('table_ref').\n",
        "# The job is configured with the previously defined 'job_config'. This command sends the data to BigQuery.\n",
        "job = client.load_table_from_dataframe(df, table_ref, job_config=job_config)\n",
        "\n",
        "# Wait for the load job to complete and retrieve its result.\n",
        "# This line is blocking and will pause the script's execution until the data upload is finished.\n",
        "# It's crucial for ensuring the data is fully loaded before the script ends or proceeds.\n",
        "job.result()"
      ],
      "metadata": {
        "id": "Zu37-eXYY5HT"
      },
      "execution_count": null,
      "outputs": []
    }
  ],
  "metadata": {
    "kernelspec": {
      "display_name": "base",
      "language": "python",
      "name": "python3"
    },
    "language_info": {
      "codemirror_mode": {
        "name": "ipython",
        "version": 3
      },
      "file_extension": ".py",
      "mimetype": "text/x-python",
      "name": "python",
      "nbconvert_exporter": "python",
      "pygments_lexer": "ipython3",
      "version": "3.11.4"
    },
    "colab": {
      "provenance": []
    }
  },
  "nbformat": 4,
  "nbformat_minor": 0
}