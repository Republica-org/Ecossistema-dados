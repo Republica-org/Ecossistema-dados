{
 "cells": [
  {
   "cell_type": "code",
   "execution_count": 1,
   "metadata": {},
   "outputs": [],
   "source": [
    "import pandas as pd\n",
    "import time\n",
    "import numpy as np\n",
    "import os\n",
    "import pandas_gbq\n",
    "from google.cloud import bigquery\n",
    "import basedosdados as bd"
   ]
  },
  {
   "cell_type": "code",
   "execution_count": 2,
   "metadata": {},
   "outputs": [],
   "source": [
    "os.chdir(\"G:\\\\Drives compartilhados\\\\República.org\\\\4. Equipes\\\\Dados e Comunicação\\DADOS\\\\415 - Repositório de Dados\\\\Repositório Local\\\\PEP -GF\")"
   ]
  },
  {
   "cell_type": "code",
   "execution_count": 20,
   "metadata": {},
   "outputs": [],
   "source": [
    "df = pd.read_csv(\"ingresso_GF.csv\", sep=\";\", decimal=\",\",thousands=\".\")"
   ]
  },
  {
   "cell_type": "code",
   "execution_count": 21,
   "metadata": {},
   "outputs": [],
   "source": [
    "df=df[df['Ident. GDF']=='Gov. Federal']"
   ]
  },
  {
   "cell_type": "code",
   "execution_count": 22,
   "metadata": {},
   "outputs": [],
   "source": [
    "df=df[['Ano',  \"Tipo de Ingresso'\", 'Regime Jurídico', 'Sexo',\n",
    "       'Grupo do Cargo', 'Quantidade de Ingressos']]\n",
    "df['Sexo']= np.where(df['Sexo']=='F',\"Feminino\",df['Sexo'])"
   ]
  },
  {
   "cell_type": "code",
   "execution_count": 24,
   "metadata": {},
   "outputs": [
    {
     "data": {
      "text/html": [
       "<div>\n",
       "<style scoped>\n",
       "    .dataframe tbody tr th:only-of-type {\n",
       "        vertical-align: middle;\n",
       "    }\n",
       "\n",
       "    .dataframe tbody tr th {\n",
       "        vertical-align: top;\n",
       "    }\n",
       "\n",
       "    .dataframe thead th {\n",
       "        text-align: right;\n",
       "    }\n",
       "</style>\n",
       "<table border=\"1\" class=\"dataframe\">\n",
       "  <thead>\n",
       "    <tr style=\"text-align: right;\">\n",
       "      <th></th>\n",
       "      <th>Ano</th>\n",
       "      <th>Tipo de Ingresso'</th>\n",
       "      <th>Regime Jurídico</th>\n",
       "      <th>Sexo</th>\n",
       "      <th>Grupo do Cargo</th>\n",
       "      <th>Quantidade de Ingressos</th>\n",
       "    </tr>\n",
       "  </thead>\n",
       "  <tbody>\n",
       "    <tr>\n",
       "      <th>0</th>\n",
       "      <td>2023</td>\n",
       "      <td>Processo Seletivo</td>\n",
       "      <td>Contrato Temporário</td>\n",
       "      <td>Feminino</td>\n",
       "      <td>Car.Mag.Ensino Basico Tec.Tecn.Mp/431/08</td>\n",
       "      <td>14</td>\n",
       "    </tr>\n",
       "    <tr>\n",
       "      <th>1</th>\n",
       "      <td>2023</td>\n",
       "      <td>Processo Seletivo</td>\n",
       "      <td>Contrato Temporário</td>\n",
       "      <td>Feminino</td>\n",
       "      <td>Carreira De Magisterio Superior</td>\n",
       "      <td>1270</td>\n",
       "    </tr>\n",
       "    <tr>\n",
       "      <th>2</th>\n",
       "      <td>2023</td>\n",
       "      <td>Processo Seletivo</td>\n",
       "      <td>Contrato Temporário</td>\n",
       "      <td>Feminino</td>\n",
       "      <td>Carreira Magist Ens Bas Tec Tecnol</td>\n",
       "      <td>758</td>\n",
       "    </tr>\n",
       "    <tr>\n",
       "      <th>3</th>\n",
       "      <td>2023</td>\n",
       "      <td>Processo Seletivo</td>\n",
       "      <td>Contrato Temporário</td>\n",
       "      <td>Feminino</td>\n",
       "      <td>Contrato Temporario - Mp  974-20</td>\n",
       "      <td>3</td>\n",
       "    </tr>\n",
       "    <tr>\n",
       "      <th>4</th>\n",
       "      <td>2023</td>\n",
       "      <td>Processo Seletivo</td>\n",
       "      <td>Contrato Temporário</td>\n",
       "      <td>Feminino</td>\n",
       "      <td>Contrato Temporario Lei 8745/93</td>\n",
       "      <td>370</td>\n",
       "    </tr>\n",
       "    <tr>\n",
       "      <th>...</th>\n",
       "      <td>...</td>\n",
       "      <td>...</td>\n",
       "      <td>...</td>\n",
       "      <td>...</td>\n",
       "      <td>...</td>\n",
       "      <td>...</td>\n",
       "    </tr>\n",
       "    <tr>\n",
       "      <th>2051</th>\n",
       "      <td>2008</td>\n",
       "      <td>Concurso</td>\n",
       "      <td>Estatutário</td>\n",
       "      <td>Masculino</td>\n",
       "      <td>Plano Especial De Cargos Da Cultura</td>\n",
       "      <td>16</td>\n",
       "    </tr>\n",
       "    <tr>\n",
       "      <th>2052</th>\n",
       "      <td>2008</td>\n",
       "      <td>Concurso</td>\n",
       "      <td>Estatutário</td>\n",
       "      <td>Masculino</td>\n",
       "      <td>Plano Geral De Cargos Do Poder Executivo</td>\n",
       "      <td>102</td>\n",
       "    </tr>\n",
       "    <tr>\n",
       "      <th>2053</th>\n",
       "      <td>2008</td>\n",
       "      <td>Concurso</td>\n",
       "      <td>Estatutário</td>\n",
       "      <td>Masculino</td>\n",
       "      <td>Plano Geral De Cargos Poder Executivo-Ni</td>\n",
       "      <td>99</td>\n",
       "    </tr>\n",
       "    <tr>\n",
       "      <th>2055</th>\n",
       "      <td>2008</td>\n",
       "      <td>Concurso</td>\n",
       "      <td>Estatutário</td>\n",
       "      <td>Masculino</td>\n",
       "      <td>Receita Federal Brasil</td>\n",
       "      <td>2</td>\n",
       "    </tr>\n",
       "    <tr>\n",
       "      <th>2056</th>\n",
       "      <td>2008</td>\n",
       "      <td>Concurso</td>\n",
       "      <td>Estatutário</td>\n",
       "      <td>Masculino</td>\n",
       "      <td>Receita Federal Do Brasil</td>\n",
       "      <td>2</td>\n",
       "    </tr>\n",
       "  </tbody>\n",
       "</table>\n",
       "<p>1929 rows × 6 columns</p>\n",
       "</div>"
      ],
      "text/plain": [
       "       Ano  Tipo de Ingresso'      Regime Jurídico       Sexo  \\\n",
       "0     2023  Processo Seletivo  Contrato Temporário   Feminino   \n",
       "1     2023  Processo Seletivo  Contrato Temporário   Feminino   \n",
       "2     2023  Processo Seletivo  Contrato Temporário   Feminino   \n",
       "3     2023  Processo Seletivo  Contrato Temporário   Feminino   \n",
       "4     2023  Processo Seletivo  Contrato Temporário   Feminino   \n",
       "...    ...                ...                  ...        ...   \n",
       "2051  2008           Concurso          Estatutário  Masculino   \n",
       "2052  2008           Concurso          Estatutário  Masculino   \n",
       "2053  2008           Concurso          Estatutário  Masculino   \n",
       "2055  2008           Concurso          Estatutário  Masculino   \n",
       "2056  2008           Concurso          Estatutário  Masculino   \n",
       "\n",
       "                                Grupo do Cargo  Quantidade de Ingressos  \n",
       "0     Car.Mag.Ensino Basico Tec.Tecn.Mp/431/08                       14  \n",
       "1              Carreira De Magisterio Superior                     1270  \n",
       "2           Carreira Magist Ens Bas Tec Tecnol                      758  \n",
       "3             Contrato Temporario - Mp  974-20                        3  \n",
       "4              Contrato Temporario Lei 8745/93                      370  \n",
       "...                                        ...                      ...  \n",
       "2051       Plano Especial De Cargos Da Cultura                       16  \n",
       "2052  Plano Geral De Cargos Do Poder Executivo                      102  \n",
       "2053  Plano Geral De Cargos Poder Executivo-Ni                       99  \n",
       "2055                    Receita Federal Brasil                        2  \n",
       "2056                 Receita Federal Do Brasil                        2  \n",
       "\n",
       "[1929 rows x 6 columns]"
      ]
     },
     "execution_count": 24,
     "metadata": {},
     "output_type": "execute_result"
    }
   ],
   "source": [
    "df['Sexo']= np.where(df['Sexo']=='M',\"Masculino\",df['Sexo'])\n",
    "df"
   ]
  },
  {
   "cell_type": "code",
   "execution_count": 25,
   "metadata": {},
   "outputs": [],
   "source": [
    "df = df.rename(columns={'Ano':'ano',\"Tipo de Ingresso'\":'tipo_ingresso','Regime Jurídico':'regime_juridico','Sexo':'genero','Grupo do Cargo':'grupo_cargo','Quantidade de Ingressos':'quantidade_ingressos'})"
   ]
  },
  {
   "cell_type": "code",
   "execution_count": 26,
   "metadata": {},
   "outputs": [
    {
     "name": "stdout",
     "output_type": "stream",
     "text": [
      "<class 'pandas.core.frame.DataFrame'>\n",
      "Int64Index: 1929 entries, 0 to 2056\n",
      "Data columns (total 6 columns):\n",
      " #   Column                Non-Null Count  Dtype \n",
      "---  ------                --------------  ----- \n",
      " 0   ano                   1929 non-null   int64 \n",
      " 1   tipo_ingresso         1929 non-null   object\n",
      " 2   regime_juridico       1929 non-null   object\n",
      " 3   genero                1929 non-null   object\n",
      " 4   grupo_cargo           1929 non-null   object\n",
      " 5   quantidade_ingressos  1929 non-null   int64 \n",
      "dtypes: int64(2), object(4)\n",
      "memory usage: 105.5+ KB\n"
     ]
    }
   ],
   "source": [
    "df.info()"
   ]
  },
  {
   "cell_type": "code",
   "execution_count": 43,
   "metadata": {},
   "outputs": [
    {
     "data": {
      "text/plain": [
       "array(['Contrato Temporário', 'Estatutário', 'Médico Residente',\n",
       "       'Programa Mais Médicos', 'Residência Multi Profissional',\n",
       "       'Regime Militar'], dtype=object)"
      ]
     },
     "execution_count": 43,
     "metadata": {},
     "output_type": "execute_result"
    }
   ],
   "source": [
    "df['regime_juridico'].unique()"
   ]
  },
  {
   "cell_type": "code",
   "execution_count": 39,
   "metadata": {},
   "outputs": [],
   "source": [
    "schema=[bigquery.SchemaField('ano','INTEGER',description='Ano de referencia da informacao'),\n",
    " bigquery.SchemaField('tipo_ingresso','STRING',description='forma de ingresso no serviço público'),\n",
    " bigquery.SchemaField('regime_juridico','STRING',description='regime jurídico'),\n",
    " bigquery.SchemaField('genero','STRING',description='Qual gênero do ingressante'),\n",
    " bigquery.SchemaField('grupo_cargo','STRING',description='a qual grupo de cargo pertence'),\n",
    " bigquery.SchemaField('quantidade_ingressos','INTEGER',description='Quantidade de ingressos')\n",
    " ]"
   ]
  },
  {
   "cell_type": "code",
   "execution_count": 40,
   "metadata": {},
   "outputs": [],
   "source": [
    "client = bigquery.Client()"
   ]
  },
  {
   "cell_type": "code",
   "execution_count": null,
   "metadata": {},
   "outputs": [],
   "source": []
  },
  {
   "cell_type": "code",
   "execution_count": 41,
   "metadata": {},
   "outputs": [
    {
     "data": {
      "text/plain": [
       "LoadJob<project=repositoriodedadosgpsp, location=US, id=34336e5a-4461-4113-b3f8-ff9f567cd484>"
      ]
     },
     "execution_count": 41,
     "metadata": {},
     "output_type": "execute_result"
    }
   ],
   "source": [
    "dataset_ref = client.dataset('atracao_pre_selecao')\n",
    "table_ref = dataset_ref.table('PEP_GF_ingressos')\n",
    "job_config = bigquery.LoadJobConfig(schema=schema)\n",
    "job = client.load_table_from_dataframe(df, table_ref, job_config=job_config)\n",
    "job.result() "
   ]
  }
 ],
 "metadata": {
  "kernelspec": {
   "display_name": "Python 3",
   "language": "python",
   "name": "python3"
  },
  "language_info": {
   "codemirror_mode": {
    "name": "ipython",
    "version": 3
   },
   "file_extension": ".py",
   "mimetype": "text/x-python",
   "name": "python",
   "nbconvert_exporter": "python",
   "pygments_lexer": "ipython3",
   "version": "3.10.11"
  },
  "orig_nbformat": 4
 },
 "nbformat": 4,
 "nbformat_minor": 2
}
