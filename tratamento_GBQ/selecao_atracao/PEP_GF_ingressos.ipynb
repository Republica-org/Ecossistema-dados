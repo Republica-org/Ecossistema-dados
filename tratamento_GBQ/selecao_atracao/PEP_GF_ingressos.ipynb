{
  "cells": [
    {
      "cell_type": "markdown",
      "source": [
        "# Dependências"
      ],
      "metadata": {
        "id": "xod4Wnh9OL3N"
      }
    },
    {
      "cell_type": "code",
      "source": [
        "# Install required Google Cloud packages (commented out as these are typically one-time setup commands)\n",
        "!pip install gcloud\n",
        "!gcloud auth application-default login\n",
        "\n",
        "# Import necessary Python libraries\n",
        "import pandas as pd                # Data manipulation and analysis\n",
        "import numpy as np                 # Numerical computing\n",
        "import time                        # Time-related functions\n",
        "import os                          # Operating system interfaces\n",
        "import pandas_gbq                  # Pandas integration with BigQuery\n",
        "from google.cloud import bigquery  # BigQuery client library\n",
        "import glob                        # File path pattern matching\n",
        "import openpyxl                    # Excel file handling\n",
        "import csv                         # CSV file handling\n",
        "import re                          # Regular expressions\n",
        "\n",
        "# Note: The actual imports remain exactly as in the original code"
      ],
      "metadata": {
        "colab": {
          "base_uri": "https://localhost:8080/"
        },
        "id": "8-VegtJcONuV",
        "outputId": "146b5fa5-9087-486c-edff-014d09ca489c"
      },
      "execution_count": null,
      "outputs": [
        {
          "output_type": "stream",
          "name": "stdout",
          "text": [
            "Collecting gcloud\n",
            "  Downloading gcloud-0.18.3.tar.gz (454 kB)\n",
            "\u001b[?25l     \u001b[90m━━━━━━━━━━━━━━━━━━━━━━━━━━━━━━━━━━━━━━━━\u001b[0m \u001b[32m0.0/454.4 kB\u001b[0m \u001b[31m?\u001b[0m eta \u001b[36m-:--:--\u001b[0m\r\u001b[2K     \u001b[91m━━━━━━━━━━━━━\u001b[0m\u001b[90m╺\u001b[0m\u001b[90m━━━━━━━━━━━━━━━━━━━━━━━━━\u001b[0m \u001b[32m153.6/454.4 kB\u001b[0m \u001b[31m4.3 MB/s\u001b[0m eta \u001b[36m0:00:01\u001b[0m\r\u001b[2K     \u001b[90m━━━━━━━━━━━━━━━━━━━━━━━━━━━━━━━━━━━━━━━\u001b[0m \u001b[32m454.4/454.4 kB\u001b[0m \u001b[31m6.4 MB/s\u001b[0m eta \u001b[36m0:00:00\u001b[0m\n",
            "\u001b[?25h  Preparing metadata (setup.py) ... \u001b[?25l\u001b[?25hdone\n",
            "Requirement already satisfied: httplib2>=0.9.1 in /usr/local/lib/python3.12/dist-packages (from gcloud) (0.22.0)\n",
            "Requirement already satisfied: googleapis-common-protos in /usr/local/lib/python3.12/dist-packages (from gcloud) (1.70.0)\n",
            "Requirement already satisfied: oauth2client>=2.0.1 in /usr/local/lib/python3.12/dist-packages (from gcloud) (4.1.3)\n",
            "Requirement already satisfied: protobuf!=3.0.0.b2.post1,>=3.0.0b2 in /usr/local/lib/python3.12/dist-packages (from gcloud) (5.29.5)\n",
            "Requirement already satisfied: six in /usr/local/lib/python3.12/dist-packages (from gcloud) (1.17.0)\n",
            "Requirement already satisfied: pyparsing!=3.0.0,!=3.0.1,!=3.0.2,!=3.0.3,<4,>=2.4.2 in /usr/local/lib/python3.12/dist-packages (from httplib2>=0.9.1->gcloud) (3.2.3)\n",
            "Requirement already satisfied: pyasn1>=0.1.7 in /usr/local/lib/python3.12/dist-packages (from oauth2client>=2.0.1->gcloud) (0.6.1)\n",
            "Requirement already satisfied: pyasn1-modules>=0.0.5 in /usr/local/lib/python3.12/dist-packages (from oauth2client>=2.0.1->gcloud) (0.4.2)\n",
            "Requirement already satisfied: rsa>=3.1.4 in /usr/local/lib/python3.12/dist-packages (from oauth2client>=2.0.1->gcloud) (4.9.1)\n",
            "Building wheels for collected packages: gcloud\n",
            "  Building wheel for gcloud (setup.py) ... \u001b[?25l\u001b[?25hdone\n",
            "  Created wheel for gcloud: filename=gcloud-0.18.3-py3-none-any.whl size=602927 sha256=41c3de64b46d274718c2d8f429d6235acfabcda659f06fdf4cf950748047e752\n",
            "  Stored in directory: /root/.cache/pip/wheels/2a/62/75/3d74209bfebb8805823ae74afa28653aa1ea76d8b5a9d741ff\n",
            "Successfully built gcloud\n",
            "Installing collected packages: gcloud\n",
            "Successfully installed gcloud-0.18.3\n",
            "Go to the following link in your browser, and complete the sign-in prompts:\n",
            "\n",
            "    https://accounts.google.com/o/oauth2/auth?response_type=code&client_id=764086051850-6qr4p6gpi6hn506pt8ejuq83di341hur.apps.googleusercontent.com&redirect_uri=https%3A%2F%2Fsdk.cloud.google.com%2Fapplicationdefaultauthcode.html&scope=openid+https%3A%2F%2Fwww.googleapis.com%2Fauth%2Fuserinfo.email+https%3A%2F%2Fwww.googleapis.com%2Fauth%2Fcloud-platform+https%3A%2F%2Fwww.googleapis.com%2Fauth%2Fsqlservice.login&state=VrwHWTukNz9m1YqgNeNfMSNdzWPos9&prompt=consent&token_usage=remote&access_type=offline&code_challenge=FuD2FA8dyFKP_7ec77B2drbc7dciCnHwaeMcYYmuI9o&code_challenge_method=S256\n",
            "\n",
            "Once finished, enter the verification code provided in your browser: 4/0AVMBsJhv1vBlzrKdHSIM_aIFr0MkbmA0agm7ed45LJt3nuaT8e8Cthv5ODQI2z7mrCp8mw\n",
            "\n",
            "Credentials saved to file: [/content/.config/application_default_credentials.json]\n",
            "\n",
            "These credentials will be used by any library that requests Application Default Credentials (ADC).\n",
            "\u001b[1;33mWARNING:\u001b[0m \n",
            "Cannot find a quota project to add to ADC. You might receive a \"quota exceeded\" or \"API not enabled\" error. Run $ gcloud auth application-default set-quota-project to add a quota project.\n"
          ]
        }
      ]
    },
    {
      "cell_type": "markdown",
      "source": [
        "# Tratamento"
      ],
      "metadata": {
        "id": "QlQ6qXV8OR42"
      }
    },
    {
      "cell_type": "code",
      "source": [
        "# Read data from a comma-separated CSV file into a pandas DataFrame.\n",
        "df = pd.read_csv(\"PEP_INGRESSOS_GDF_2025 - Document_CH338.csv\", sep=\",\")\n",
        "\n",
        "# Filter the DataFrame to keep only the rows where the 'Ident. GDF' column is equal to 'Gov. Federal'.\n",
        "df=df[df['Ident. GDF']=='Gov. Federal']\n",
        "\n",
        "# Select a specific subset of columns from the DataFrame and define their order.\n",
        "df=df[['Ano',  \"Tipo de Ingresso'\", 'Regime Jurídico', 'Sexo',\n",
        "       'Grupo do Cargo', 'Quantidade de Ingressos']]\n",
        "\n",
        "# In the 'Sexo' column, replace the value 'F' with 'Feminino' (Female).\n",
        "df['Sexo']= np.where(df['Sexo']=='F',\"Feminino\",df['Sexo'])\n",
        "\n",
        "# In the 'Sexo' column, replace the value 'M' with 'Masculino' (Male).\n",
        "df['Sexo']= np.where(df['Sexo']=='M',\"Masculino\",df['Sexo'])\n",
        "\n",
        "# Display the current state of the DataFrame. In an interactive environment (like a Jupyter notebook), this will print the DataFrame.\n",
        "df\n",
        "\n",
        "# Rename the columns to a standardized format (lowercase with underscores).\n",
        "df = df.rename(columns={'Ano':'ano',\"Tipo de Ingresso'\":'tipo_ingresso','Regime Jurídico':'regime_juridico','Sexo':'genero','Grupo do Cargo':'grupo_cargo','Quantidade de Ingressos':'quantidade_ingressos'})\n",
        "\n",
        "# Convert the 'ano' column to an integer data type.\n",
        "df['ano'] = df['ano'].astype(int)"
      ],
      "metadata": {
        "id": "fLio0f3LcXeZ"
      },
      "execution_count": null,
      "outputs": []
    },
    {
      "cell_type": "markdown",
      "source": [
        "# Upload"
      ],
      "metadata": {
        "id": "0LS2ATbSO_nH"
      }
    },
    {
      "cell_type": "code",
      "source": [
        "# Initialize the BigQuery client, specifying the Google Cloud project ID.\n",
        "# This client object is the main entry point for interacting with the BigQuery API.\n",
        "client = bigquery.Client(project='repositoriodedadosgpsp')\n",
        "\n",
        "# Create a reference to the BigQuery dataset named 'atracao_pre_selecao'.\n",
        "# This object points to the dataset where a table might be created or updated.\n",
        "dataset_ref = client.dataset('atracao_pre_selecao')\n",
        "\n",
        "# Define the schema for a destination BigQuery table.\n",
        "# The schema is a list of SchemaField objects, where each object defines a column's:\n",
        "# 1. Name (e.g., 'ano')\n",
        "# 2. Data type (e.g., 'INTEGER')\n",
        "# 3. Description (e.g., 'Ano de referencia da informacao')\n",
        "schema=[bigquery.SchemaField('ano','INTEGER',description='Ano de referencia da informacao'),\n",
        " bigquery.SchemaField('tipo_ingresso','STRING',description='forma de ingresso no serviço público'),\n",
        " bigquery.SchemaField('regime_juridico','STRING',description='regime jurídico'),\n",
        " bigquery.SchemaField('genero','STRING',description='Qual gênero do ingressante'),\n",
        " bigquery.SchemaField('grupo_cargo','STRING',description='a qual grupo de cargo pertence'),\n",
        " bigquery.SchemaField('quantidade_ingressos','INTEGER',description='Quantidade de ingressos')\n",
        " ]\n",
        "\n",
        "# Note: The following block redefines the exact same schema as above, which is redundant.\n",
        "# Define the schema for a destination BigQuery table.\n",
        "schema=[bigquery.SchemaField('ano','INTEGER',description='Ano de referencia da informacao'),\n",
        " bigquery.SchemaField('tipo_ingresso','STRING',description='forma de ingresso no serviço público'),\n",
        " bigquery.SchemaField('regime_juridico','STRING',description='regime jurídico'),\n",
        " bigquery.SchemaField('genero','STRING',description='Qual gênero do ingressante'),\n",
        " bigquery.SchemaField('grupo_cargo','STRING',description='a qual grupo de cargo pertence'),\n",
        " bigquery.SchemaField('quantidade_ingressos','INTEGER',description='Quantidade de ingressos')\n",
        " ]"
      ],
      "metadata": {
        "id": "jqhJXoHlcpLA"
      },
      "execution_count": null,
      "outputs": []
    }
  ],
  "metadata": {
    "kernelspec": {
      "display_name": "Python 3",
      "language": "python",
      "name": "python3"
    },
    "language_info": {
      "codemirror_mode": {
        "name": "ipython",
        "version": 3
      },
      "file_extension": ".py",
      "mimetype": "text/x-python",
      "name": "python",
      "nbconvert_exporter": "python",
      "pygments_lexer": "ipython3",
      "version": "3.10.11"
    },
    "orig_nbformat": 4,
    "colab": {
      "provenance": []
    }
  },
  "nbformat": 4,
  "nbformat_minor": 0
}