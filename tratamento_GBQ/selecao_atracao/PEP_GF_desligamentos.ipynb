{
 "cells": [
  {
   "cell_type": "code",
   "execution_count": 1,
   "metadata": {},
   "outputs": [],
   "source": [
    "import pandas as pd\n",
    "import time\n",
    "import numpy as np\n",
    "import os\n",
    "import pandas_gbq\n",
    "from google.cloud import bigquery\n",
    "import basedosdados as bd"
   ]
  },
  {
   "cell_type": "code",
   "execution_count": 2,
   "metadata": {},
   "outputs": [],
   "source": [
    "os.chdir(\"G:\\\\Drives compartilhados\\\\República.org\\\\4. Equipes\\\\Dados e Comunicação\\DADOS\\\\415 - Repositório de Dados\\\\Repositório Local\\\\PEP -GF\")"
   ]
  },
  {
   "cell_type": "code",
   "execution_count": 27,
   "metadata": {},
   "outputs": [
    {
     "data": {
      "text/html": [
       "<div>\n",
       "<style scoped>\n",
       "    .dataframe tbody tr th:only-of-type {\n",
       "        vertical-align: middle;\n",
       "    }\n",
       "\n",
       "    .dataframe tbody tr th {\n",
       "        vertical-align: top;\n",
       "    }\n",
       "\n",
       "    .dataframe thead th {\n",
       "        text-align: right;\n",
       "    }\n",
       "</style>\n",
       "<table border=\"1\" class=\"dataframe\">\n",
       "  <thead>\n",
       "    <tr style=\"text-align: right;\">\n",
       "      <th></th>\n",
       "      <th>ano</th>\n",
       "      <th>tipo_desligamento</th>\n",
       "      <th>tipo_detalhado_desligamento</th>\n",
       "      <th>status_estabilidade</th>\n",
       "      <th>quantidade_desligamentos</th>\n",
       "    </tr>\n",
       "  </thead>\n",
       "  <tbody>\n",
       "    <tr>\n",
       "      <th>21</th>\n",
       "      <td>2022</td>\n",
       "      <td>Exoneração</td>\n",
       "      <td>Exon.Cargo Efet. Pedido/Art.34,lei 8112/90</td>\n",
       "      <td>Estável</td>\n",
       "      <td>1726</td>\n",
       "    </tr>\n",
       "    <tr>\n",
       "      <th>22</th>\n",
       "      <td>2022</td>\n",
       "      <td>Exoneração</td>\n",
       "      <td>Exon.Cargo Efet. Pedido/Art.34,lei 8112/90</td>\n",
       "      <td>Não Estável</td>\n",
       "      <td>578</td>\n",
       "    </tr>\n",
       "  </tbody>\n",
       "</table>\n",
       "</div>"
      ],
      "text/plain": [
       "     ano tipo_desligamento                 tipo_detalhado_desligamento  \\\n",
       "21  2022        Exoneração  Exon.Cargo Efet. Pedido/Art.34,lei 8112/90   \n",
       "22  2022        Exoneração  Exon.Cargo Efet. Pedido/Art.34,lei 8112/90   \n",
       "\n",
       "   status_estabilidade  quantidade_desligamentos  \n",
       "21             Estável                      1726  \n",
       "22         Não Estável                       578  "
      ]
     },
     "execution_count": 27,
     "metadata": {},
     "output_type": "execute_result"
    }
   ],
   "source": [
    "df[(df['tipo_detalhado_desligamento']=='Exon.Cargo Efet. Pedido/Art.34,lei 8112/90') & (df['ano']==2022)]"
   ]
  },
  {
   "cell_type": "code",
   "execution_count": 25,
   "metadata": {},
   "outputs": [],
   "source": [
    "df = pd.read_csv(\"desligamento_GF.csv\", sep=\";\", decimal=\",\",thousands=\".\")\n"
   ]
  },
  {
   "cell_type": "code",
   "execution_count": 18,
   "metadata": {},
   "outputs": [
    {
     "data": {
      "text/plain": [
       "array(['Estável', 'Não Estável'], dtype=object)"
      ]
     },
     "execution_count": 18,
     "metadata": {},
     "output_type": "execute_result"
    }
   ],
   "source": [
    "df['status_estabilidade'].unique()"
   ]
  },
  {
   "cell_type": "code",
   "execution_count": 26,
   "metadata": {},
   "outputs": [],
   "source": [
    "df = df.rename(columns={'Ano':'ano','Agrupamento do desligamento':'tipo_desligamento','Tipo de desligamento':'tipo_detalhado_desligamento','Estabilidade':'status_estabilidade','Quantidade de Desligamentos':'quantidade_desligamentos'})"
   ]
  },
  {
   "cell_type": "code",
   "execution_count": 8,
   "metadata": {},
   "outputs": [
    {
     "name": "stdout",
     "output_type": "stream",
     "text": [
      "<class 'pandas.core.frame.DataFrame'>\n",
      "RangeIndex: 444 entries, 0 to 443\n",
      "Data columns (total 5 columns):\n",
      " #   Column                       Non-Null Count  Dtype  \n",
      "---  ------                       --------------  -----  \n",
      " 0   ano                          444 non-null    int64  \n",
      " 1   tipo_desligamento            444 non-null    object \n",
      " 2   tipo_detalhado_desligamento  444 non-null    object \n",
      " 3   status_estabilidade          444 non-null    object \n",
      " 4   quantidade_desligamentos     444 non-null    float64\n",
      "dtypes: float64(1), int64(1), object(3)\n",
      "memory usage: 17.5+ KB\n"
     ]
    }
   ],
   "source": [
    "df.info()"
   ]
  },
  {
   "cell_type": "code",
   "execution_count": 28,
   "metadata": {},
   "outputs": [],
   "source": [
    "schema=[bigquery.SchemaField('ano','INTEGER',description='Ano de referencia da informacao'),\n",
    " bigquery.SchemaField('tipo_desligamento','STRING',description='Qual o agrupamento do tipo de desligamento'),\n",
    " bigquery.SchemaField('tipo_detalhado_desligamento','STRING',description='Detalhes sobre o total de desligamentos'),\n",
    " bigquery.SchemaField('status_estabilidade','STRING',description='Se esses servidores possuem estabilidade ou não'),\n",
    " bigquery.SchemaField('quantidade_desligamentos','FLOAT',description='Quantidade de desligamentos')\n",
    " ]"
   ]
  },
  {
   "cell_type": "code",
   "execution_count": 9,
   "metadata": {},
   "outputs": [],
   "source": [
    "client = bigquery.Client()"
   ]
  },
  {
   "cell_type": "code",
   "execution_count": null,
   "metadata": {},
   "outputs": [],
   "source": []
  },
  {
   "cell_type": "code",
   "execution_count": 29,
   "metadata": {},
   "outputs": [
    {
     "data": {
      "text/plain": [
       "LoadJob<project=repositoriodedadosgpsp, location=US, id=3fb6fc69-7395-4310-8477-a17fedfe623e>"
      ]
     },
     "execution_count": 29,
     "metadata": {},
     "output_type": "execute_result"
    }
   ],
   "source": [
    "dataset_ref = client.dataset('atracao_pre_selecao')\n",
    "table_ref = dataset_ref.table('PEP_GF_desligamentos')\n",
    "job_config = bigquery.LoadJobConfig(schema=schema)\n",
    "job = client.load_table_from_dataframe(df, table_ref, job_config=job_config)\n",
    "job.result() "
   ]
  }
 ],
 "metadata": {
  "kernelspec": {
   "display_name": "Python 3",
   "language": "python",
   "name": "python3"
  },
  "language_info": {
   "codemirror_mode": {
    "name": "ipython",
    "version": 3
   },
   "file_extension": ".py",
   "mimetype": "text/x-python",
   "name": "python",
   "nbconvert_exporter": "python",
   "pygments_lexer": "ipython3",
   "version": "3.10.11"
  },
  "orig_nbformat": 4
 },
 "nbformat": 4,
 "nbformat_minor": 2
}
