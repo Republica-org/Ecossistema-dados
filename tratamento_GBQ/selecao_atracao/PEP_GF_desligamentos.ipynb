{
  "cells": [
    {
      "cell_type": "markdown",
      "source": [
        "# Dependências"
      ],
      "metadata": {
        "id": "AmX_2MV8RyWZ"
      }
    },
    {
      "cell_type": "code",
      "source": [
        "# Install required Google Cloud packages (commented out as these are typically one-time setup commands)\n",
        "!pip install gcloud\n",
        "!gcloud auth application-default login\n",
        "\n",
        "# Import necessary Python libraries\n",
        "import pandas as pd                # Data manipulation and analysis\n",
        "import numpy as np                 # Numerical computing\n",
        "import time                        # Time-related functions\n",
        "import os                          # Operating system interfaces\n",
        "import pandas_gbq                  # Pandas integration with BigQuery\n",
        "from google.cloud import bigquery  # BigQuery client library\n",
        "import glob                        # File path pattern matching\n",
        "import openpyxl                    # Excel file handling\n",
        "import csv                         # CSV file handling\n",
        "import re                          # Regular expressions\n",
        "\n",
        "# Note: The actual imports remain exactly as in the original code"
      ],
      "metadata": {
        "colab": {
          "base_uri": "https://localhost:8080/"
        },
        "id": "9hsD84G9R032",
        "outputId": "0b68a645-610b-4d5d-f3fd-65f2c9afca7c"
      },
      "execution_count": null,
      "outputs": [
        {
          "output_type": "stream",
          "name": "stdout",
          "text": [
            "Collecting gcloud\n",
            "  Downloading gcloud-0.18.3.tar.gz (454 kB)\n",
            "\u001b[2K     \u001b[90m━━━━━━━━━━━━━━━━━━━━━━━━━━━━━━━━━━━━━━━\u001b[0m \u001b[32m454.4/454.4 kB\u001b[0m \u001b[31m8.3 MB/s\u001b[0m eta \u001b[36m0:00:00\u001b[0m\n",
            "\u001b[?25h  Preparing metadata (setup.py) ... \u001b[?25l\u001b[?25hdone\n",
            "Requirement already satisfied: httplib2>=0.9.1 in /usr/local/lib/python3.12/dist-packages (from gcloud) (0.22.0)\n",
            "Requirement already satisfied: googleapis-common-protos in /usr/local/lib/python3.12/dist-packages (from gcloud) (1.70.0)\n",
            "Requirement already satisfied: oauth2client>=2.0.1 in /usr/local/lib/python3.12/dist-packages (from gcloud) (4.1.3)\n",
            "Requirement already satisfied: protobuf!=3.0.0.b2.post1,>=3.0.0b2 in /usr/local/lib/python3.12/dist-packages (from gcloud) (5.29.5)\n",
            "Requirement already satisfied: six in /usr/local/lib/python3.12/dist-packages (from gcloud) (1.17.0)\n",
            "Requirement already satisfied: pyparsing!=3.0.0,!=3.0.1,!=3.0.2,!=3.0.3,<4,>=2.4.2 in /usr/local/lib/python3.12/dist-packages (from httplib2>=0.9.1->gcloud) (3.2.3)\n",
            "Requirement already satisfied: pyasn1>=0.1.7 in /usr/local/lib/python3.12/dist-packages (from oauth2client>=2.0.1->gcloud) (0.6.1)\n",
            "Requirement already satisfied: pyasn1-modules>=0.0.5 in /usr/local/lib/python3.12/dist-packages (from oauth2client>=2.0.1->gcloud) (0.4.2)\n",
            "Requirement already satisfied: rsa>=3.1.4 in /usr/local/lib/python3.12/dist-packages (from oauth2client>=2.0.1->gcloud) (4.9.1)\n",
            "Building wheels for collected packages: gcloud\n",
            "  Building wheel for gcloud (setup.py) ... \u001b[?25l\u001b[?25hdone\n",
            "  Created wheel for gcloud: filename=gcloud-0.18.3-py3-none-any.whl size=602927 sha256=ae6031e93699fb3e292017ee68bd780f67b36525fdeda8430dd413d198d7afcb\n",
            "  Stored in directory: /root/.cache/pip/wheels/2a/62/75/3d74209bfebb8805823ae74afa28653aa1ea76d8b5a9d741ff\n",
            "Successfully built gcloud\n",
            "Installing collected packages: gcloud\n",
            "Successfully installed gcloud-0.18.3\n",
            "Go to the following link in your browser, and complete the sign-in prompts:\n",
            "\n",
            "    https://accounts.google.com/o/oauth2/auth?response_type=code&client_id=764086051850-6qr4p6gpi6hn506pt8ejuq83di341hur.apps.googleusercontent.com&redirect_uri=https%3A%2F%2Fsdk.cloud.google.com%2Fapplicationdefaultauthcode.html&scope=openid+https%3A%2F%2Fwww.googleapis.com%2Fauth%2Fuserinfo.email+https%3A%2F%2Fwww.googleapis.com%2Fauth%2Fcloud-platform+https%3A%2F%2Fwww.googleapis.com%2Fauth%2Fsqlservice.login&state=AB4RqOtsNDJXPZ4Yf2XdguvcJWUS2X&prompt=consent&token_usage=remote&access_type=offline&code_challenge=EWkzeZHRtPtGlkbzGIgLYPcajM-kYfrJt0NSRHEFPJY&code_challenge_method=S256\n",
            "\n",
            "Once finished, enter the verification code provided in your browser: 4/0AVMBsJiMwH7ctLKxIHzepUvI7gn1r-eUqcWW0-7t2dAnBokXDYiFewZsDn0ViT3_54zDbg\n",
            "\n",
            "Credentials saved to file: [/content/.config/application_default_credentials.json]\n",
            "\n",
            "These credentials will be used by any library that requests Application Default Credentials (ADC).\n",
            "\u001b[1;33mWARNING:\u001b[0m \n",
            "Cannot find a quota project to add to ADC. You might receive a \"quota exceeded\" or \"API not enabled\" error. Run $ gcloud auth application-default set-quota-project to add a quota project.\n"
          ]
        }
      ]
    },
    {
      "cell_type": "markdown",
      "source": [
        "# Tratamento"
      ],
      "metadata": {
        "id": "HhVjPZnsR-rf"
      }
    },
    {
      "cell_type": "code",
      "source": [
        "# Read data from a CSV file into a pandas DataFrame.\n",
        "# 'sep=\",\"' specifies that the columns are separated by commas.\n",
        "# 'decimal=\",\"' indicates that the comma is used as the decimal separator.\n",
        "# 'thousands=\".\"' indicates that the period is used as the thousands separator for parsing numbers.\n",
        "df = pd.read_csv(\"PEP_DESLIGAMENTOS_2025 - Document_CH955.csv\", sep=\",\", decimal=\",\", thousands=\".\")\n",
        "\n",
        "# Rename the columns to a standardized format (lowercase with underscores) for easier access.\n",
        "df = df.rename(columns={'Ano':'ano','Agrupamento do desligamento':'tipo_desligamento','Tipo de desligamento':'tipo_detalhado_desligamento','Estabilidade':'status_estabilidade','Quantidade de Desligamentos':'quantidade_desligamentos'})\n",
        "\n",
        "# Remove rows from the DataFrame where the 'status_estabilidade' column has a missing value (NaN).\n",
        "df = df.dropna(subset=['status_estabilidade'])\n",
        "\n",
        "# Convert the 'ano' (year) column to an integer data type.\n",
        "df['ano'] = df['ano'].astype(int)"
      ],
      "metadata": {
        "id": "QgKNrX1le9Dn"
      },
      "execution_count": null,
      "outputs": []
    },
    {
      "cell_type": "markdown",
      "source": [
        "# Upload"
      ],
      "metadata": {
        "id": "WZCrkyTHTJsm"
      }
    },
    {
      "cell_type": "code",
      "source": [
        "# Import the bigquery library from google.cloud\n",
        "from google.cloud import bigquery\n",
        "\n",
        "# Initialize the BigQuery client, specifying the Google Cloud project ID.\n",
        "# This client object is the main entry point for interacting with the BigQuery API.\n",
        "client = bigquery.Client(project='repositoriodedadosgpsp')\n",
        "\n",
        "# Create a reference to the BigQuery dataset named 'atracao_pre_selecao'.\n",
        "# This object points to the dataset where the table will be created or updated.\n",
        "dataset_ref = client.dataset('atracao_pre_selecao')\n",
        "\n",
        "# Define the schema for the destination BigQuery table.\n",
        "# The schema is a list of SchemaField objects, where each object defines a column's:\n",
        "# 1. Name (e.g., 'ano')\n",
        "# 2. Data type (e.g., 'INTEGER')\n",
        "# 3. Description (e.g., 'Ano de referencia da informacao')\n",
        "schema=[bigquery.SchemaField('ano','INTEGER',description='Ano de referencia da informacao'),\n",
        " bigquery.SchemaField('tipo_desligamento','STRING',description='Qual o agrupamento do tipo de desligamento'),\n",
        " bigquery.SchemaField('tipo_detalhado_desligamento','STRING',description='Detalhes sobre o total de desligamentos'),\n",
        " bigquery.SchemaField('status_estabilidade','STRING',description='Se esses servidores possuem estabilidade ou não'),\n",
        " bigquery.SchemaField('quantidade_desligamentos','FLOAT',description='Quantidade de desligamentos')\n",
        " ]\n",
        "\n",
        "# Create a reference to the target table within the dataset specified earlier.\n",
        "# The table will be named 'PEP_GF_desligamentos_v3'.\n",
        "table_ref = dataset_ref.table('PEP_GF_desligamentos_v3') # table name in the format SOURCE_something_intuitive_data\n",
        "\n",
        "# Configure the load job by creating a LoadJobConfig object.\n",
        "# Here, we specify the schema that BigQuery should use for the table. This ensures\n",
        "# that the columns in BigQuery have the correct data types and descriptions.\n",
        "job_config = bigquery.LoadJobConfig(schema=schema)\n",
        "\n",
        "# Start the job to load data from the pandas DataFrame 'df' into the specified BigQuery table ('table_ref').\n",
        "# The job is configured with the previously defined 'job_config'. This command sends the data to BigQuery.\n",
        "job = client.load_table_from_dataframe(df, table_ref, job_config=job_config)\n",
        "\n",
        "# Wait for the load job to complete and retrieve its result.\n",
        "# This line is blocking and will pause the script's execution until the data upload is finished.\n",
        "# It's crucial for ensuring the data is fully loaded before the script ends or proceeds.\n",
        "job.result()"
      ],
      "metadata": {
        "id": "CjRiTwoJfQpO"
      },
      "execution_count": null,
      "outputs": []
    }
  ],
  "metadata": {
    "kernelspec": {
      "display_name": "Python 3",
      "language": "python",
      "name": "python3"
    },
    "language_info": {
      "codemirror_mode": {
        "name": "ipython",
        "version": 3
      },
      "file_extension": ".py",
      "mimetype": "text/x-python",
      "name": "python",
      "nbconvert_exporter": "python",
      "pygments_lexer": "ipython3",
      "version": "3.10.11"
    },
    "orig_nbformat": 4,
    "colab": {
      "provenance": []
    }
  },
  "nbformat": 4,
  "nbformat_minor": 0
}