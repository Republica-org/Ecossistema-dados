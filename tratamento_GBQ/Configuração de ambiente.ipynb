{
 "cells": [
  {
   "cell_type": "code",
   "execution_count": 1,
   "id": "993ef114",
   "metadata": {},
   "outputs": [],
   "source": [
    "import pandas as pd\n",
    "import time\n",
    "import os\n",
    "import pandas_gbq\n",
    "from google.cloud import bigquery\n"
   ]
  },
  {
   "cell_type": "code",
   "execution_count": 3,
   "id": "c27f39ee",
   "metadata": {},
   "outputs": [],
   "source": [
    "# Construct a BigQuery client object.\n",
    "## Dá erro de não tiver o CLI instalado. \n",
    "client = bigquery.Client()"
   ]
  },
  {
   "cell_type": "code",
   "execution_count": null,
   "id": "ca204d67",
   "metadata": {},
   "outputs": [],
   "source": [
    "#para excluir tabelas\n",
    "#client.delete_table('perfil_remuneracao.ESTADIC_policial_civil_habitantes', not_found_ok=True)"
   ]
  },
  {
   "attachments": {},
   "cell_type": "markdown",
   "id": "fdf4f9ac",
   "metadata": {},
   "source": [
    "## Instruções Gerais uso do GBQ"
   ]
  },
  {
   "attachments": {},
   "cell_type": "markdown",
   "id": "822fc6b4",
   "metadata": {},
   "source": [
    "#### Criando um dataset"
   ]
  },
  {
   "attachments": {},
   "cell_type": "markdown",
   "id": "18ea0b14",
   "metadata": {},
   "source": [
    "Abaixo se cria o identificador do dataset com o nome do repositório antes.\n",
    "O `format` substitui o que está entre {} pelo que está como parâmetro. "
   ]
  },
  {
   "cell_type": "code",
   "execution_count": 63,
   "id": "289bfa19",
   "metadata": {},
   "outputs": [],
   "source": [
    "dataset_id = \"{}.conjunto_teste2\".format(client.project)"
   ]
  },
  {
   "cell_type": "code",
   "execution_count": null,
   "id": "c230e9bd",
   "metadata": {},
   "outputs": [],
   "source": []
  },
  {
   "cell_type": "code",
   "execution_count": 65,
   "id": "2ea5e870",
   "metadata": {},
   "outputs": [
    {
     "name": "stdout",
     "output_type": "stream",
     "text": [
      "Created dataset repositoriodedadosgpsp.conjunto_teste2\n"
     ]
    }
   ],
   "source": [
    "# Transforma em google.cloud.bigquery.dataset.Dataset \n",
    "dataset = bigquery.Dataset(dataset_id)\n",
    "# TODO(developer): Specify the geographic location where the dataset should reside.\n",
    "dataset.location = \"US\"\n",
    "\n",
    "# Send the dataset to the API for creation, with an explicit timeout.\n",
    "# Raises google.api_core.exceptions.Conflict if the Dataset already\n",
    "# exists within the project.\n",
    "dataset = client.create_dataset(dataset)  # Make an API request.\n",
    "print(\"Created dataset {}.{}\".format(client.project, dataset.dataset_id))"
   ]
  },
  {
   "attachments": {},
   "cell_type": "markdown",
   "id": "dab762e9",
   "metadata": {},
   "source": [
    "#### Exemplo de como acessar tabelas do projeto para tratamento"
   ]
  },
  {
   "cell_type": "code",
   "execution_count": 4,
   "id": "91605eda",
   "metadata": {},
   "outputs": [],
   "source": [
    "# A função abaixo precisa do conjunto de dados e do nome da tabela a ser requisitada. \n",
    "\n",
    "table = client.get_table('repositoriodedadosgpsp.perfil_remuneracao.RAIS_vinculos_publicos_grafico') "
   ]
  },
  {
   "cell_type": "code",
   "execution_count": 5,
   "id": "5fe8121c",
   "metadata": {},
   "outputs": [
    {
     "data": {
      "text/plain": [
       "Table(TableReference(DatasetReference('repositoriodedadosgpsp', 'perfil_remuneracao'), 'RAIS_vinculos_publicos_grafico'))"
      ]
     },
     "execution_count": 5,
     "metadata": {},
     "output_type": "execute_result"
    }
   ],
   "source": [
    "## Lendo table com query\n",
    "\n",
    "df = pandas_gbq.read_gbq(query, project_id='repositoriodedadosgpsp')"
   ]
  },
  {
   "cell_type": "code",
   "execution_count": 6,
   "id": "35e7c986",
   "metadata": {},
   "outputs": [],
   "source": [
    "## Transforma tabela bq em dataframe\n",
    "df = client.list_rows(table).to_dataframe()"
   ]
  },
  {
   "cell_type": "code",
   "execution_count": 8,
   "id": "4157648e",
   "metadata": {},
   "outputs": [
    {
     "data": {
      "text/plain": [
       "Index(['ano', 'sexo', 'poderes', 'grau_instrucao', 'esfera', 'faixa_etaria',\n",
       "       'sigla_uf', 'carga_horaria', 'quantidade_vinculos'],\n",
       "      dtype='object')"
      ]
     },
     "execution_count": 8,
     "metadata": {},
     "output_type": "execute_result"
    }
   ],
   "source": [
    "df.columns"
   ]
  },
  {
   "attachments": {},
   "cell_type": "markdown",
   "id": "073f5bb2",
   "metadata": {},
   "source": [
    "#### Chamar um df externo para tratamento"
   ]
  },
  {
   "cell_type": "code",
   "execution_count": 33,
   "id": "91dbbac1",
   "metadata": {},
   "outputs": [],
   "source": [
    "os.chdir('G:\\\\Drives compartilhados\\\\República.org\\\\4. Equipes\\\\Dados e Comunicação\\\\DADOS\\\\415 - Repositório de Dados\\\\Dados para subir\\\\Tabelas finais')"
   ]
  },
  {
   "cell_type": "code",
   "execution_count": 35,
   "id": "403b6a82",
   "metadata": {},
   "outputs": [],
   "source": [
    "df = pd.read_csv('IPEA_proporcao_receita_primaria.csv', encoding='utf8', decimal=\",\")"
   ]
  },
  {
   "cell_type": "code",
   "execution_count": 36,
   "id": "f0e907dd",
   "metadata": {},
   "outputs": [
    {
     "data": {
      "text/plain": [
       "Index(['Unnamed: 0', 'Ano', 'Esferas', 'Despesas em %'], dtype='object')"
      ]
     },
     "execution_count": 36,
     "metadata": {},
     "output_type": "execute_result"
    }
   ],
   "source": [
    "df.columns"
   ]
  },
  {
   "cell_type": "code",
   "execution_count": 54,
   "id": "96797f54",
   "metadata": {},
   "outputs": [],
   "source": [
    "df = pd.read_csv('IPEA_despesa_PIB_salarios_RPPS.csv', encoding='utf8', decimal=\",\")"
   ]
  },
  {
   "cell_type": "code",
   "execution_count": 55,
   "id": "7ae51ab4",
   "metadata": {},
   "outputs": [],
   "source": [
    "df=df.drop(['Unnamed: 0'],axis=1)"
   ]
  },
  {
   "cell_type": "code",
   "execution_count": 56,
   "id": "0753f208",
   "metadata": {},
   "outputs": [
    {
     "name": "stdout",
     "output_type": "stream",
     "text": [
      "<class 'pandas.core.frame.DataFrame'>\n",
      "RangeIndex: 38 entries, 0 to 37\n",
      "Data columns (total 3 columns):\n",
      " #   Column           Non-Null Count  Dtype  \n",
      "---  ------           --------------  -----  \n",
      " 0   Ano              38 non-null     int64  \n",
      " 1   Tipo de despesa  38 non-null     object \n",
      " 2   % PIB            38 non-null     float64\n",
      "dtypes: float64(1), int64(1), object(1)\n",
      "memory usage: 1.0+ KB\n"
     ]
    }
   ],
   "source": [
    "df.info()"
   ]
  },
  {
   "cell_type": "code",
   "execution_count": 57,
   "id": "9bb1d89c",
   "metadata": {},
   "outputs": [],
   "source": [
    "df=df.dropna()"
   ]
  },
  {
   "cell_type": "code",
   "execution_count": 40,
   "id": "50255e74",
   "metadata": {},
   "outputs": [
    {
     "data": {
      "text/plain": [
       "Ano                  int64\n",
       "Tipo de despesa     object\n",
       "% PIB              float64\n",
       "dtype: object"
      ]
     },
     "execution_count": 40,
     "metadata": {},
     "output_type": "execute_result"
    }
   ],
   "source": [
    "df.dtypes"
   ]
  },
  {
   "cell_type": "code",
   "execution_count": 60,
   "id": "57691ce1",
   "metadata": {},
   "outputs": [],
   "source": [
    "df.rename(columns={\"Tipo de despesa\": \"Tipo_despesa\", \"% PIB\":\"percent_PIB\"},inplace=True)"
   ]
  },
  {
   "cell_type": "code",
   "execution_count": 61,
   "id": "09f926ed",
   "metadata": {},
   "outputs": [
    {
     "data": {
      "text/plain": [
       "Index(['Ano', 'Tipo_despesa', 'percent_PIB'], dtype='object')"
      ]
     },
     "execution_count": 61,
     "metadata": {},
     "output_type": "execute_result"
    }
   ],
   "source": [
    "df.columns"
   ]
  },
  {
   "attachments": {},
   "cell_type": "markdown",
   "id": "a77fdd28",
   "metadata": {},
   "source": [
    "#### Exemplo de job para subir uma tabela no GBQ"
   ]
  },
  {
   "cell_type": "code",
   "execution_count": 66,
   "id": "50356f27",
   "metadata": {},
   "outputs": [],
   "source": [
    "# set up BigQuery client and dataset reference\n",
    "\n",
    "# Referencia do dataset\n",
    "dataset_ref = client.dataset('conjunto_teste2')"
   ]
  },
  {
   "cell_type": "code",
   "execution_count": 68,
   "id": "77326af5",
   "metadata": {},
   "outputs": [],
   "source": [
    "## Cria o esquema da tabela\n",
    "\n",
    "schema = [\n",
    "    bigquery.SchemaField(\"Ano\", \"INTEGER\"),\n",
    "    bigquery.SchemaField(\"Tipo_despesa\", \"STRING\"),\n",
    "    bigquery.SchemaField(\"percent_PIB\", \"FLOAT\")\n",
    "]"
   ]
  },
  {
   "cell_type": "code",
   "execution_count": 69,
   "id": "8585533f",
   "metadata": {},
   "outputs": [],
   "source": [
    "# nome da tabela \n",
    "table_ref = dataset_ref.table('teste_2604')"
   ]
  },
  {
   "cell_type": "code",
   "execution_count": 72,
   "id": "668c40ce",
   "metadata": {},
   "outputs": [
    {
     "ename": "NameError",
     "evalue": "name 'df2' is not defined",
     "output_type": "error",
     "traceback": [
      "\u001b[1;31m---------------------------------------------------------------------------\u001b[0m",
      "\u001b[1;31mNameError\u001b[0m                                 Traceback (most recent call last)",
      "Cell \u001b[1;32mIn[72], line 2\u001b[0m\n\u001b[0;32m      1\u001b[0m job_config \u001b[39m=\u001b[39m bigquery\u001b[39m.\u001b[39mLoadJobConfig(schema\u001b[39m=\u001b[39mschema)\n\u001b[1;32m----> 2\u001b[0m job \u001b[39m=\u001b[39m client\u001b[39m.\u001b[39mload_table_from_dataframe(df2, table_ref, job_config\u001b[39m=\u001b[39mjob_config)\n\u001b[0;32m      3\u001b[0m job\u001b[39m.\u001b[39mresult() \n",
      "\u001b[1;31mNameError\u001b[0m: name 'df2' is not defined"
     ]
    }
   ],
   "source": [
    "job_config = bigquery.LoadJobConfig(schema=schema)\n",
    "job = client.load_table_from_dataframe(df, table_ref, job_config=job_config)\n",
    "job.result() "
   ]
  },
  {
   "cell_type": "code",
   "execution_count": null,
   "id": "b3dee565",
   "metadata": {},
   "outputs": [],
   "source": [
    "## Deletar tabela\n",
    "\n",
    "client.delete_table('acoes_afirmativas.FLACSO_acoes_afirmativas_grafico2', not_found_ok=True)"
   ]
  },
  {
   "attachments": {},
   "cell_type": "markdown",
   "id": "2ccfc38c",
   "metadata": {},
   "source": [
    "## Criando datasets fixos"
   ]
  },
  {
   "cell_type": "code",
   "execution_count": 37,
   "id": "853370e2",
   "metadata": {},
   "outputs": [],
   "source": [
    "# Quais serão os datasets? \n",
    "# Por fonte? Por categoria? \n",
    "\n",
    "## Nomes possíveis \n",
    "\n",
    "nomes_datasets= [\"perfil_remuneracao\", \"acoes_afirmativas\", \"atracao_pre_selecao\", \"cargos_lideranca\", \"despesas_estado\", \"participacao_transparencia\", \"estrutura_organizacional_carreiras\",\"legislacoes\",\n",
    "\"percepcao_mensuracao_qualidade_estado\",\"performance_valorizacao_engajamento\"]"
   ]
  },
  {
   "cell_type": "code",
   "execution_count": 38,
   "id": "c71a5389",
   "metadata": {},
   "outputs": [
    {
     "data": {
      "text/plain": [
       "10"
      ]
     },
     "execution_count": 38,
     "metadata": {},
     "output_type": "execute_result"
    }
   ],
   "source": [
    "len(nomes_datasets)\n"
   ]
  },
  {
   "cell_type": "code",
   "execution_count": 12,
   "id": "b1a5329e",
   "metadata": {},
   "outputs": [
    {
     "data": {
      "text/plain": [
       "'repositoriodedadosgpsp'"
      ]
     },
     "execution_count": 12,
     "metadata": {},
     "output_type": "execute_result"
    }
   ],
   "source": [
    "client = bigquery.Client()"
   ]
  },
  {
   "cell_type": "code",
   "execution_count": 24,
   "id": "819085f7",
   "metadata": {},
   "outputs": [],
   "source": [
    "dataset_id = \"repositoriodedadosgpsp.{}\".format(i)"
   ]
  },
  {
   "cell_type": "code",
   "execution_count": 15,
   "id": "e054bf2a",
   "metadata": {},
   "outputs": [
    {
     "name": "stdout",
     "output_type": "stream",
     "text": [
      "Created dataset repositoriodedadosgpsp.perfil_remuneracao\n",
      "Created dataset repositoriodedadosgpsp.acoes_afirmativas\n",
      "Created dataset repositoriodedadosgpsp.atracao_pre_selecao\n",
      "Created dataset repositoriodedadosgpsp.cargos_lideranca\n",
      "Created dataset repositoriodedadosgpsp.despesas_estado\n",
      "Created dataset repositoriodedadosgpsp.participacao_transparencia\n",
      "Created dataset repositoriodedadosgpsp.estrutura_organizacional_carreiras\n",
      "Created dataset repositoriodedadosgpsp.legislacoes\n",
      "Created dataset repositoriodedadosgpsp.percepcao_mensuracao_qualidade_estado\n",
      "Created dataset repositoriodedadosgpsp.performance_valorizacao_engajamento\n"
     ]
    }
   ],
   "source": [
    "for i in nomes_datasets:\n",
    "    dataset_id = \"repositoriodedadosgpsp.{}\".format(i)\n",
    "    # Transforma em google.cloud.bigquery.dataset.Dataset \n",
    "    dataset = bigquery.Dataset(dataset_id)\n",
    "    dataset.location = \"US\"\n",
    "    dataset = client.create_dataset(dataset)  \n",
    "    print(\"Created dataset {}.{}\".format(client.project, dataset.dataset_id))"
   ]
  },
  {
   "cell_type": "code",
   "execution_count": 27,
   "id": "d1988a47",
   "metadata": {},
   "outputs": [
    {
     "name": "stdout",
     "output_type": "stream",
     "text": [
      "Created dataset repositoriodedadosgpsp.Ana\n"
     ]
    }
   ],
   "source": [
    "dataset_id = \"repositoriodedadosgpsp.{}\".format(teste)\n",
    "    # Transforma em google.cloud.bigquery.dataset.Dataset \n",
    "dataset = bigquery.Dataset(dataset_id)\n",
    "dataset.location = \"US\"\n",
    "dataset = client.create_dataset(dataset)  \n",
    "print(\"Created dataset {}.{}\".format(client.project, dataset.dataset_id))"
   ]
  },
  {
   "attachments": {},
   "cell_type": "markdown",
   "id": "0cbe6a70",
   "metadata": {},
   "source": [
    "## Instruções gerais padrão de nomeação das tabelas: "
   ]
  },
  {
   "attachments": {},
   "cell_type": "markdown",
   "id": "af7befbe",
   "metadata": {},
   "source": [
    "\n",
    "Padrão do nome do arquivo para baixar: \n",
    "\n",
    "`[Fonte]_descricao_maximo_5palavras.csv`\n",
    "\n",
    "Padrão do nome do arquivo para gráficos:\n",
    "\n",
    "`[Fonte]_descricao_maximo_5palavras_grafico.csv`\n",
    "\n",
    "\n",
    "\n",
    "\n"
   ]
  }
 ],
 "metadata": {
  "kernelspec": {
   "display_name": "Python 3 (ipykernel)",
   "language": "python",
   "name": "python3"
  },
  "language_info": {
   "codemirror_mode": {
    "name": "ipython",
    "version": 3
   },
   "file_extension": ".py",
   "mimetype": "text/x-python",
   "name": "python",
   "nbconvert_exporter": "python",
   "pygments_lexer": "ipython3",
   "version": "3.10.11"
  }
 },
 "nbformat": 4,
 "nbformat_minor": 5
}
