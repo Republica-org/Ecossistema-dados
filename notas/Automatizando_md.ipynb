{
 "cells": [
  {
   "cell_type": "code",
   "execution_count": null,
   "metadata": {},
   "outputs": [],
   "source": [
    "import openpyxl\n",
    "import pandas as pd\n",
    "import time\n",
    "import os\n",
    "import pandas_gbq\n",
    "from google.cloud import bigquery\n",
    "import glob\n",
    "import basedosdados as bd\n",
    "import numpy as np\n"
   ]
  },
  {
   "cell_type": "code",
   "execution_count": null,
   "metadata": {},
   "outputs": [],
   "source": [
    "fname = ['a','b']\n",
    "dept = ['a','b']\n",
    "file_name = f'{fname}.md'"
   ]
  },
  {
   "cell_type": "code",
   "execution_count": null,
   "metadata": {},
   "outputs": [],
   "source": [
    "\n",
    "\n",
    "# Write Contents to .md formatted as required\n",
    "## Não usar # pois vai desconfigura. Fazer formatação com tags. \n",
    "with open(file_name, 'w', encoding=\"utf-8\") as f:\n",
    "    f.write(f'<b><p style=\"font-size:10vw\"> Quantidade de vínculos públicos civis ativos </p></b> Descrição: <br> <br> {dept} <b>Unidade: </b> <br>Vínculos')\n",
    "    f.close()\n",
    "print(f'{file_name} saved.')\n"
   ]
  }
 ],
 "metadata": {
  "language_info": {
   "name": "python"
  },
  "orig_nbformat": 4
 },
 "nbformat": 4,
 "nbformat_minor": 2
}
