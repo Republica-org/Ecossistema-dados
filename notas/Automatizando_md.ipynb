{
 "cells": [
  {
   "cell_type": "code",
   "execution_count": 19,
   "metadata": {},
   "outputs": [],
   "source": [
    "import nbformat as nbf\n",
    "from nbconvert import MarkdownExporter"
   ]
  },
  {
   "cell_type": "code",
   "execution_count": 1,
   "metadata": {},
   "outputs": [],
   "source": [
    "import openpyxl\n",
    "import pandas as pd\n",
    "import time\n",
    "import os\n",
    "import pandas_gbq\n",
    "from google.cloud import bigquery\n",
    "import glob\n",
    "import basedosdados as bd\n",
    "import numpy as np\n"
   ]
  },
  {
   "cell_type": "code",
   "execution_count": 26,
   "metadata": {},
   "outputs": [],
   "source": [
    "fname = ['a','b']\n",
    "dept = \"\\n\\n``` sql \\n\\n SELECT ano \\n\\n```\\n\\n\"\n",
    "file_name = f'{fname}.md'"
   ]
  },
  {
   "cell_type": "code",
   "execution_count": 7,
   "metadata": {},
   "outputs": [],
   "source": [
    "os.chdir(\"C:\\\\Users\\\\paula.frias_republic\\\\Documents\\\\teste jupyther\")"
   ]
  },
  {
   "cell_type": "code",
   "execution_count": 27,
   "metadata": {},
   "outputs": [
    {
     "name": "stdout",
     "output_type": "stream",
     "text": [
      "['a', 'b'].md saved.\n"
     ]
    }
   ],
   "source": [
    "\n",
    "\n",
    "# Write Contents to .md formatted as required\n",
    "## Não usar # pois vai desconfigura. Fazer formatação com tags. \n",
    "with open(file_name, 'w', encoding=\"utf-8\") as f:\n",
    "    f.write(f'<details><summary><b> 1º passo:</b> Recorte de tabela no GBQ: </summary> {dept} <br><b>Unidade: </b> <br>Vínculos')\n",
    "    f.close()\n",
    "print(f'{file_name} saved.')\n"
   ]
  },
  {
   "cell_type": "code",
   "execution_count": null,
   "metadata": {},
   "outputs": [],
   "source": []
  }
 ],
 "metadata": {
  "kernelspec": {
   "display_name": "Python 3",
   "language": "python",
   "name": "python3"
  },
  "language_info": {
   "codemirror_mode": {
    "name": "ipython",
    "version": 3
   },
   "file_extension": ".py",
   "mimetype": "text/x-python",
   "name": "python",
   "nbconvert_exporter": "python",
   "pygments_lexer": "ipython3",
   "version": "3.10.11"
  },
  "orig_nbformat": 4
 },
 "nbformat": 4,
 "nbformat_minor": 2
}
